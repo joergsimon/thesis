{
 "cells": [
  {
   "cell_type": "markdown",
   "metadata": {},
   "source": [
    "# Description of Raw Data\n",
    "\n",
    "This notebook is used to visualize the Raw Data from the Gesture Glove Experiments."
   ]
  },
  {
   "cell_type": "code",
   "execution_count": 1,
   "metadata": {},
   "outputs": [],
   "source": [
    "# imports\n",
    "import pandas as pd\n",
    "import numpy as np\n",
    "import scipy as sp\n",
    "from dataclasses import dataclass\n",
    "from functools import reduce\n",
    "import pathlib\n",
    "import matplotlib.pyplot as plt\n",
    "import pickle\n",
    "import tqdm\n",
    "import random\n",
    "from datetime import datetime, timedelta\n",
    "import gestureanalysis.read_raw as rr\n",
    "import gestureanalysis.raw_preprocessing_and_cleaning as rp\n",
    "import gestureanalysis.utils as utils\n",
    "import gestureanalysis.specific_utils as sutils\n",
    "from gestureanalysis.constants import Constants\n",
    "import operator"
   ]
  },
  {
   "cell_type": "code",
   "execution_count": 2,
   "metadata": {},
   "outputs": [],
   "source": [
    "base_path = \"/home/jsimon/Documents/thesis/gesture-analysis/data/\"\n",
    "base_path_raw = base_path+\"raw/all\"\n",
    "base_path_pickl = base_path+\"transformed/raw-pickeled/all/raw-all.pkl\"\n",
    "time_path_pickl = base_path+\"transformed/time_added/all/time-all.pkl\"\n",
    "time_groups_path_pickl = base_path+\"transformed/time_added/all/time-and-groups-all.pkl\""
   ]
  },
  {
   "cell_type": "code",
   "execution_count": 3,
   "metadata": {},
   "outputs": [
    {
     "data": {
      "text/plain": [
       "'/home/jsimon/Documents/thesis/gesture-analysis/scripts'"
      ]
     },
     "execution_count": 3,
     "metadata": {},
     "output_type": "execute_result"
    }
   ],
   "source": [
    "# check working directory and adopt if needed\n",
    "import os\n",
    "os.getcwd()"
   ]
  },
  {
   "cell_type": "markdown",
   "metadata": {},
   "source": [
    "## Structure of Raw Data\n",
    "\n",
    "In the experiment the data was saved autmatically the following way: For each participant a folder with the participant code was created. In that folder a file in the Format *CODE_TYPE_TIMESTAMP.csv* was created, with _CODE_ beeing the participant code, _TYPE_ being one of gesture, myo or labels, timestamp being in the format *Year_Month_Day_Hour_Minute_Second*. An example would be *PS42_glove_2015_08_13_15_06_08.csv*. \n",
    "\n",
    "The type glove means it has all the channels for the glove, myo has all the channels for the myo, labels has start and end index for glove and myo for each time a label was recorded in a row. If you combine all the raw data into one big python pickle we have around __3.4 GB__ of raw data.\n",
    "\n",
    "If an experiment was interrupted inbetween because there was a break needed or a problem with a sensor, it could be picked up at a later time. In this case several of the above files exists in the users folder, with a different starting timestamp.\n",
    "\n",
    "The function *rr.read_raw(base_path_raw)* iterates trough a directory with user data reading the folders name as username and reads all the _.csv_ into keys for that user. In this first collection each file is read into a individual pandas dataframe, and saved into the users dictionary under the key 'glove', 'myo' or 'label' with it's filename."
   ]
  },
  {
   "cell_type": "code",
   "execution_count": 4,
   "metadata": {},
   "outputs": [],
   "source": [
    "# load all csvs into a dictionary called users\n",
    "def read_users():\n",
    "    return rr.read_raw(base_path_raw)\n",
    "users = utils.try_pickl_or_recreate(base_path_pickl, read_users)"
   ]
  },
  {
   "cell_type": "markdown",
   "metadata": {},
   "source": [
    "We will explore the characteristics of many features later in grater detail. However, let's recap the most important structural properties of the data here again in detail:\n",
    "\n",
    "The data is timeseries data with a set of channels from the glove. This channels can have occasional errors, and contain noise, but in general there should not be many missing values or alike. The timeseries is gathered with a fixed frequency from the glove. While there are many channels only a small set of different sensor types (Accelerometer, Gyroscope, Magnetometer, Flex Sensors and Pressure Sensors) exist, who all share f.e. their characteristic value range. Most importantly there is a set of different types of labels who form a hirachy. Every gesture is labeled. By the protocol of the experiment the participant is only allowed to perform a label when a programm commands him to do so, and he has 3 seconds time to do the gesture then. This 3 second times are automatically annotated as automatic label. Within that 3 seconds an experimenter observed the gesture and pressed 1 for the dynamic part of the gesture and 2 for the static part of the gesture. These timings where combined for the manual label type. That means as a hiracy that automatic gesture label define the maximal start and end time, manual define theoretically the time of the real gesture, and the dynamic and static types again must be shorter and within the times of the manual time. We will harness this properties of the label types to do integrity checks of the data."
   ]
  },
  {
   "cell_type": "markdown",
   "metadata": {},
   "source": [
    "## Preprocessing\n",
    "\n",
    "The intial preprocessing consists in adding the labels, changing the indes to the time domain, and with that combining the individual data files (there is only more than one if interruptions occured) into one file with a time domain index\n",
    "\n",
    "- First the labeling info is added back into the data for the glove and the myo data. This should be done first as the labels are collected with a start and end index number relative to the recording number in that file. There exist 4 Types of labels:\n",
    " - Automatic: the user is asked by the prgram of the experiment to perform the gesture after a countoun within three seconds. The start and the end index of this window is tagged with the label_automatic type\n",
    " - Manual: The manual label is the combination of the dynamic and the static label, and recorded as the label_manual type\n",
    " - Dynamic: When the user performs a gesture a experimenter manually pressed 1 when the dynamic part of a gesture was taken place. The dynamic part is defined as the part where arm and/or fingers move to form a gesture. The start and the end index of this manual labeling is recorded in the label_dynamic type.\n",
    " - Static: When the dynamic part ends, often a static part is added to a gesture. The static part is where the arm rests in a pose forming the symobolic shape the gesture represents (like thumbs up). If that part is present the experimenter manually labels that part by pressing 2. The start and end frame is recordet into the label_static type.\n",
    "\n",
    "- After that the timension of time must be correctly recovered: Each recording has a file with a timestamp. This timestamp is used as a base. After initial reading each pandas file is indexed from *0* to _len(records)_. This can be used to recover the time domain by using the base timestamp and adding the index number multiplied by the time delta between each recording. We used a fixed frequency of 83.3Hz or a time delta of 0.012.\n",
    "- Up to this point, if a recording was breaked into two sessions, each file was processed individually, because the index is relative to a file, and needed for recovery of the frames a label belongs to. Since now the labels are correctly combined and the time domain is added, we can concatenate the individual recordings to one big recording. This is saved into the \"glove_merged\" key into each users data dictionary."
   ]
  },
  {
   "cell_type": "code",
   "execution_count": 5,
   "metadata": {},
   "outputs": [
    {
     "name": "stderr",
     "output_type": "stream",
     "text": [
      "  4%|▍         | 1/23 [00:08<03:14,  8.86s/it]"
     ]
    },
    {
     "name": "stdout",
     "output_type": "stream",
     "text": [
      "ignore user  AE30\n",
      "ignore user  AE30\n"
     ]
    },
    {
     "name": "stderr",
     "output_type": "stream",
     "text": [
      "100%|██████████| 23/23 [01:36<00:00,  4.86s/it]\n"
     ]
    }
   ],
   "source": [
    "def add_labels(gdata, ldata):\n",
    "    # add labels:\n",
    "\n",
    "    gdata['label_automatic'] = np.NaN\n",
    "    gdata['label_manual'] = np.NaN\n",
    "    gdata['label_dynamic'] = np.NaN\n",
    "    gdata['label_static'] = np.NaN\n",
    "\n",
    "    # prepare annotated Automatic Labels:\n",
    "    automatic = ldata[ldata['manual_L_vs_automatic_G'] == 'G']\n",
    "    manual = ldata[ldata['manual_L_vs_automatic_G'] == 'L']\n",
    "    dynamic = manual[manual['aut0_dyn1_static2'] == 1]\n",
    "    static = manual[manual['aut0_dyn1_static2'] == 2]\n",
    "\n",
    "    for _, row in automatic.iterrows():\n",
    "        rp.add_label(gdata, row, 'label_automatic')\n",
    "    for _, row in manual.iterrows():\n",
    "        rp.add_label(gdata, row, 'label_manual')\n",
    "    for _, row in dynamic.iterrows():\n",
    "        rp.add_label(gdata, row, 'label_dynamic')\n",
    "    for _, row in static.iterrows():\n",
    "        rp.add_label(gdata, row, 'label_static')\n",
    "\n",
    "\n",
    "def transform_index_to_time(fname, gdata, data):\n",
    "    fdate = fname[-23:-4]\n",
    "    startdate = datetime.strptime(fdate, \"%Y_%m_%d_%H_%M_%S\")\n",
    "\n",
    "    offsets = gdata.index.values * Constants.dt_t\n",
    "    times = startdate + offsets\n",
    "    tmp = pd.to_datetime(times)\n",
    "    gdata.index = tmp\n",
    "\n",
    "    if 'glove_merged' in data:\n",
    "        old_data = data['glove_merged']\n",
    "        data['glove_merged'] = old_data.append(gdata)\n",
    "    else:\n",
    "        data['glove_merged'] = gdata\n",
    "\n",
    "# preprocess users iterates the users array, and applies the add_labels function and \n",
    "# transfrom_index_to_time to each data frame\n",
    "rp.preprocess_raw(users, add_labels, transform_index_to_time)"
   ]
  },
  {
   "cell_type": "markdown",
   "metadata": {},
   "source": [
    "the resulting dictionary now has 21 users in it. Each user has the following entries:"
   ]
  },
  {
   "cell_type": "code",
   "execution_count": 6,
   "metadata": {},
   "outputs": [
    {
     "name": "stdout",
     "output_type": "stream",
     "text": [
      "['AB73', 'AE30', 'AF82', 'AL29', 'AW18', 'CB23', 'CB24', 'CF58', 'DG12', 'DH42', 'DL24', 'JL61', 'JQ28', 'JS52', 'MF20', 'MS55', 'PC29', 'PM32', 'PS42', 'RR45', 'RW32', 'SF1', 'YW13']\n",
      "['filecount', 'files', 'glove', 'label', 'myo', 'glove_merged']\n"
     ]
    }
   ],
   "source": [
    "# users:\n",
    "print(list(users.keys()))\n",
    "# keys for one example:\n",
    "print(list(users['AB73'].keys()))"
   ]
  },
  {
   "cell_type": "markdown",
   "metadata": {},
   "source": [
    "- _filecount_ is the number of files needed for that user. In an experiment without interruption that number is 3, else it is accordingly more\n",
    "- _files_ is the name of the files\n",
    "- _glove_ is a list with a dictionary inside. It has a key file to indicate the specific csv file with glove sensor data for that data, and a key data with a pandas where the data is stored inside\n",
    "- _label_ is like glove, but the data / files is the labels data\n",
    "- _myo_ is like glove, but the data /files is the myo data\n",
    "- *glove_merged* has all the glove data in one pandas dictionary after transforming the index, concatenation and adding the labels"
   ]
  },
  {
   "cell_type": "markdown",
   "metadata": {},
   "source": [
    "#### Save Points:\n",
    "Troughout the script I scattered save points, with these you can either save the current state or restore it"
   ]
  },
  {
   "cell_type": "code",
   "execution_count": 7,
   "metadata": {},
   "outputs": [],
   "source": [
    "# in case the script above worked, execute that line:\n",
    "with open( time_path_pickl, \"wb\" ) as users_pickle_file:\n",
    "    pickle.dump(users, users_pickle_file)"
   ]
  },
  {
   "cell_type": "code",
   "execution_count": 4,
   "metadata": {},
   "outputs": [],
   "source": [
    "# in case you need to reload, and know it exists:\n",
    "with open( time_path_pickl, \"rb\" ) as users_pickle_file:\n",
    "    users = pickle.load(users_pickle_file)"
   ]
  },
  {
   "cell_type": "markdown",
   "metadata": {},
   "source": [
    "### Recovering Label Groups\n",
    "\n",
    "We now added to labels from the labels file to each row of the geasture data. After that we recovered the time domain, so the dataset now has concrete dates for each row as index. The problem with that is that we now lost the start and end index for each label. An easy was ist just to go trough the original data, and recover the groups by scanning trough the index and define every consecutive streak of label data as one group. Concretely if a occurence of a label is found, as long as there are new rows with the same label within three times the time delate of 0.013s the next row is counted towards the same group. as soon as this requirenment breaks the group is closed and with the next labeled row the new group started."
   ]
  },
  {
   "cell_type": "code",
   "execution_count": 5,
   "metadata": {},
   "outputs": [
    {
     "data": {
      "application/vnd.jupyter.widget-view+json": {
       "model_id": "31bf14cbce5346079a4a37cc90a89628",
       "version_major": 2,
       "version_minor": 0
      },
      "text/plain": [
       "HBox(children=(IntProgress(value=0, max=23), HTML(value='')))"
      ]
     },
     "metadata": {},
     "output_type": "display_data"
    },
    {
     "name": "stdout",
     "output_type": "stream",
     "text": [
      "\n"
     ]
    }
   ],
   "source": [
    "duration_allowed_error = Constants.dt_t*3\n",
    "dae = duration_allowed_error\n",
    "z = timedelta(milliseconds=0)\n",
    "\n",
    "def label_groups_for_one_label_type(label_type, glove_merged):\n",
    "    g_lbls = glove_merged[glove_merged[label_type].notnull()]\n",
    "    index = g_lbls.index.tolist()\n",
    "    groups = utils.find_consecutive_groups(index, Constants.dt_t*2, use_tqdm=False)\n",
    "    return groups\n",
    "\n",
    "def recover_label_groups_from_data(user_data):\n",
    "    glove_merged = user_data['glove_merged']\n",
    "    \n",
    "    groups = label_groups_for_one_label_type(\"label_automatic\", glove_merged)\n",
    "    user_data['start_end_automatic_groups'] = groups\n",
    "    \n",
    "    groups = label_groups_for_one_label_type(\"label_manual\", glove_merged)\n",
    "    user_data['start_end_manual_groups'] = groups\n",
    "    \n",
    "    groups = label_groups_for_one_label_type(\"label_dynamic\", glove_merged)\n",
    "    user_data['start_end_dynamic_groups'] = groups\n",
    "    \n",
    "    groups = label_groups_for_one_label_type(\"label_static\", glove_merged)\n",
    "    user_data['start_end_static_groups'] = groups\n",
    "\n",
    "for key, data in tqdm.tqdm_notebook(users.items()):\n",
    "    if not 'glove_merged' in data:\n",
    "        continue\n",
    "    recover_label_groups_from_data(data)"
   ]
  },
  {
   "cell_type": "markdown",
   "metadata": {},
   "source": [
    "After recovering we have to check for a set of possible errors. First we force to only allow that labels keep their constrains that one manual is in an autmatic label, and consits of a dynamic and possible optional static part. "
   ]
  },
  {
   "cell_type": "code",
   "execution_count": 6,
   "metadata": {},
   "outputs": [],
   "source": [
    "def merge_subautomatic_labels(user_data, show_details):\n",
    "    groups_automatic = user_data['start_end_automatic_groups']\n",
    "    groups_automatic.sort()\n",
    "    groups_manual = user_data['start_end_manual_groups']\n",
    "    groups_dynamic = user_data['start_end_dynamic_groups']\n",
    "    groups_static = user_data['start_end_static_groups']\n",
    "    dyn_idx, sts_idx, man_idx = 0, 0, 0\n",
    "    lbl_groups = []\n",
    "    for a in groups_automatic:\n",
    "        dyn_idx, dgs = sutils.combine_ranges_contained(a, dyn_idx, groups_dynamic)\n",
    "        sts_idx, sgs = sutils.combine_ranges_contained(a, sts_idx, groups_static)\n",
    "        man_idx, mgs = sutils.combine_ranges_contained(a, man_idx, groups_manual)\n",
    "        if (len(dgs) == 1) and (len(mgs) == 1):\n",
    "            d = sutils.t_to_t(dgs[0])\n",
    "            m = sutils.t_to_t(mgs[0])\n",
    "            s = sutils.t_to_t(sgs[0]) if len(sgs) == 1 else None\n",
    "            label = (user_data['glove_merged'].loc[d.start:d.end, 'label_automatic'])[1]\n",
    "            lg = sutils.LabelGroup(label, sutils.t_to_t(a), m, s, d)\n",
    "            lbl_groups.append(lg)\n",
    "    if (len(lbl_groups) != len(groups_automatic)) and show_details:\n",
    "        print(\"changed size of total groups: \", len(groups_automatic), len(lbl_groups), ' that is ', (1-len(lbl_groups)/len(groups_automatic))*100, \"%\")\n",
    "    \n",
    "    user_data['lbl_groups'] = lbl_groups\n",
    "    return lbl_groups"
   ]
  },
  {
   "cell_type": "code",
   "execution_count": 7,
   "metadata": {},
   "outputs": [
    {
     "data": {
      "application/vnd.jupyter.widget-view+json": {
       "model_id": "f134b457f85a4596bd2eb0c424ba310f",
       "version_major": 2,
       "version_minor": 0
      },
      "text/plain": [
       "HBox(children=(IntProgress(value=0, max=23), HTML(value='')))"
      ]
     },
     "metadata": {},
     "output_type": "display_data"
    },
    {
     "name": "stdout",
     "output_type": "stream",
     "text": [
      "check  AB73\n",
      "changed size of total groups:  310 307  that is  0.9677419354838679 %\n",
      "check  AF82\n",
      "changed size of total groups:  157 155  that is  1.273885350318471 %\n",
      "check  AL29\n",
      "changed size of total groups:  310 308  that is  0.6451612903225823 %\n",
      "check  AW18\n",
      "changed size of total groups:  155 153  that is  1.2903225806451646 %\n",
      "check  CB23\n",
      "changed size of total groups:  155 152  that is  1.9354838709677469 %\n",
      "check  CB24\n",
      "changed size of total groups:  157 154  that is  1.9108280254777066 %\n",
      "check  CF58\n",
      "changed size of total groups:  171 167  that is  2.3391812865497075 %\n",
      "check  DG12\n",
      "changed size of total groups:  155 154  that is  0.6451612903225823 %\n",
      "check  DH42\n",
      "changed size of total groups:  155 153  that is  1.2903225806451646 %\n",
      "check  DL24\n",
      "changed size of total groups:  310 301  that is  2.9032258064516148 %\n",
      "check  JL61\n",
      "changed size of total groups:  165 162  that is  1.8181818181818188 %\n",
      "check  JQ28\n",
      "changed size of total groups:  310 298  that is  3.8709677419354827 %\n",
      "check  JS52\n",
      "changed size of total groups:  310 303  that is  2.2580645161290325 %\n",
      "check  MF20\n",
      "changed size of total groups:  155 153  that is  1.2903225806451646 %\n",
      "check  MS55\n",
      "changed size of total groups:  156 151  that is  3.205128205128205 %\n",
      "check  PC29\n",
      "changed size of total groups:  165 156  that is  5.454545454545457 %\n",
      "check  PM32\n",
      "changed size of total groups:  310 308  that is  0.6451612903225823 %\n",
      "check  PS42\n",
      "changed size of total groups:  156 153  that is  1.9230769230769273 %\n",
      "check  RR45\n",
      "changed size of total groups:  155 153  that is  1.2903225806451646 %\n",
      "check  RW32\n",
      "changed size of total groups:  155 146  that is  5.8064516129032295 %\n",
      "check  SF1\n",
      "changed size of total groups:  155 154  that is  0.6451612903225823 %\n",
      "check  YW13\n",
      "changed size of total groups:  310 307  that is  0.9677419354838679 %\n",
      "\n",
      "in total we removed  1.961648666519722 % of automatic labels\n"
     ]
    }
   ],
   "source": [
    "total_len = 0\n",
    "total_new_len = 0\n",
    "SHOW_DETAILS=True\n",
    "for key, data in tqdm.tqdm_notebook(users.items()):\n",
    "    if not 'glove_merged' in data:\n",
    "        continue\n",
    "    if SHOW_DETAILS: print('check ', key)\n",
    "    total_len += len(data['start_end_automatic_groups'])\n",
    "    merge_subautomatic_labels(data, SHOW_DETAILS)\n",
    "    total_new_len += len(data['lbl_groups'])\n",
    "print('in total we removed ', (1-total_new_len/total_len)*100, '% of automatic labels')"
   ]
  },
  {
   "cell_type": "markdown",
   "metadata": {},
   "source": [
    "The alternative way to recover label groups is to go over the original label and glove files. In the label file is a start end end index, hence it alteady has the form of a group. The goal is to turn that into the time domain. With this approach I multiply the timedelta by the index + the timestamp of the file directly to get the groups. This should give me the same timings as the other way above...\n",
    "\n",
    "We will see that the timings are almost the same for the automatic labels, the start is always the same, but the end time if usually about 1-2 time deltas off. I can not yet explain that behaviour, for now we just take the longer sequence.\n",
    "\n",
    "For the manual, dynamic and static labels more suptile problems appeared: You had to press the button for the label type during the performance of the gesture. Sometimes the experimenter lost contact for a very short time. This results in two labels by the labeling programm, but not by our find consecutive groups algorithm, as this has some tolerance build in. Therefor we can correct that with this algorithm."
   ]
  },
  {
   "cell_type": "code",
   "execution_count": 8,
   "metadata": {},
   "outputs": [
    {
     "data": {
      "application/vnd.jupyter.widget-view+json": {
       "model_id": "ccd2bfa7125c41ee88be309f77823fda",
       "version_major": 2,
       "version_minor": 0
      },
      "text/plain": [
       "HBox(children=(IntProgress(value=0, max=23), HTML(value='')))"
      ]
     },
     "metadata": {},
     "output_type": "display_data"
    },
    {
     "data": {
      "application/vnd.jupyter.widget-view+json": {
       "model_id": "",
       "version_major": 2,
       "version_minor": 0
      },
      "text/plain": [
       "HBox(children=(IntProgress(value=0, max=1), HTML(value='')))"
      ]
     },
     "metadata": {},
     "output_type": "display_data"
    },
    {
     "data": {
      "application/vnd.jupyter.widget-view+json": {
       "model_id": "",
       "version_major": 2,
       "version_minor": 0
      },
      "text/plain": [
       "HBox(children=(IntProgress(value=0, max=1), HTML(value='')))"
      ]
     },
     "metadata": {},
     "output_type": "display_data"
    },
    {
     "data": {
      "application/vnd.jupyter.widget-view+json": {
       "model_id": "",
       "version_major": 2,
       "version_minor": 0
      },
      "text/plain": [
       "HBox(children=(IntProgress(value=0, max=1), HTML(value='')))"
      ]
     },
     "metadata": {},
     "output_type": "display_data"
    },
    {
     "data": {
      "application/vnd.jupyter.widget-view+json": {
       "model_id": "",
       "version_major": 2,
       "version_minor": 0
      },
      "text/plain": [
       "HBox(children=(IntProgress(value=0, max=1), HTML(value='')))"
      ]
     },
     "metadata": {},
     "output_type": "display_data"
    },
    {
     "data": {
      "application/vnd.jupyter.widget-view+json": {
       "model_id": "",
       "version_major": 2,
       "version_minor": 0
      },
      "text/plain": [
       "HBox(children=(IntProgress(value=0, max=3), HTML(value='')))"
      ]
     },
     "metadata": {},
     "output_type": "display_data"
    },
    {
     "data": {
      "application/vnd.jupyter.widget-view+json": {
       "model_id": "",
       "version_major": 2,
       "version_minor": 0
      },
      "text/plain": [
       "HBox(children=(IntProgress(value=0, max=3), HTML(value='')))"
      ]
     },
     "metadata": {},
     "output_type": "display_data"
    },
    {
     "data": {
      "application/vnd.jupyter.widget-view+json": {
       "model_id": "",
       "version_major": 2,
       "version_minor": 0
      },
      "text/plain": [
       "HBox(children=(IntProgress(value=0, max=3), HTML(value='')))"
      ]
     },
     "metadata": {},
     "output_type": "display_data"
    },
    {
     "data": {
      "application/vnd.jupyter.widget-view+json": {
       "model_id": "",
       "version_major": 2,
       "version_minor": 0
      },
      "text/plain": [
       "HBox(children=(IntProgress(value=0, max=3), HTML(value='')))"
      ]
     },
     "metadata": {},
     "output_type": "display_data"
    },
    {
     "data": {
      "application/vnd.jupyter.widget-view+json": {
       "model_id": "",
       "version_major": 2,
       "version_minor": 0
      },
      "text/plain": [
       "HBox(children=(IntProgress(value=0, max=1), HTML(value='')))"
      ]
     },
     "metadata": {},
     "output_type": "display_data"
    },
    {
     "data": {
      "application/vnd.jupyter.widget-view+json": {
       "model_id": "",
       "version_major": 2,
       "version_minor": 0
      },
      "text/plain": [
       "HBox(children=(IntProgress(value=0, max=1), HTML(value='')))"
      ]
     },
     "metadata": {},
     "output_type": "display_data"
    },
    {
     "data": {
      "application/vnd.jupyter.widget-view+json": {
       "model_id": "",
       "version_major": 2,
       "version_minor": 0
      },
      "text/plain": [
       "HBox(children=(IntProgress(value=0, max=1), HTML(value='')))"
      ]
     },
     "metadata": {},
     "output_type": "display_data"
    },
    {
     "data": {
      "application/vnd.jupyter.widget-view+json": {
       "model_id": "",
       "version_major": 2,
       "version_minor": 0
      },
      "text/plain": [
       "HBox(children=(IntProgress(value=0, max=1), HTML(value='')))"
      ]
     },
     "metadata": {},
     "output_type": "display_data"
    },
    {
     "data": {
      "application/vnd.jupyter.widget-view+json": {
       "model_id": "",
       "version_major": 2,
       "version_minor": 0
      },
      "text/plain": [
       "HBox(children=(IntProgress(value=0, max=1), HTML(value='')))"
      ]
     },
     "metadata": {},
     "output_type": "display_data"
    },
    {
     "data": {
      "application/vnd.jupyter.widget-view+json": {
       "model_id": "",
       "version_major": 2,
       "version_minor": 0
      },
      "text/plain": [
       "HBox(children=(IntProgress(value=0, max=1), HTML(value='')))"
      ]
     },
     "metadata": {},
     "output_type": "display_data"
    },
    {
     "data": {
      "application/vnd.jupyter.widget-view+json": {
       "model_id": "",
       "version_major": 2,
       "version_minor": 0
      },
      "text/plain": [
       "HBox(children=(IntProgress(value=0, max=1), HTML(value='')))"
      ]
     },
     "metadata": {},
     "output_type": "display_data"
    },
    {
     "data": {
      "application/vnd.jupyter.widget-view+json": {
       "model_id": "",
       "version_major": 2,
       "version_minor": 0
      },
      "text/plain": [
       "HBox(children=(IntProgress(value=0, max=1), HTML(value='')))"
      ]
     },
     "metadata": {},
     "output_type": "display_data"
    },
    {
     "data": {
      "application/vnd.jupyter.widget-view+json": {
       "model_id": "",
       "version_major": 2,
       "version_minor": 0
      },
      "text/plain": [
       "HBox(children=(IntProgress(value=0, max=1), HTML(value='')))"
      ]
     },
     "metadata": {},
     "output_type": "display_data"
    },
    {
     "data": {
      "application/vnd.jupyter.widget-view+json": {
       "model_id": "",
       "version_major": 2,
       "version_minor": 0
      },
      "text/plain": [
       "HBox(children=(IntProgress(value=0, max=1), HTML(value='')))"
      ]
     },
     "metadata": {},
     "output_type": "display_data"
    },
    {
     "data": {
      "application/vnd.jupyter.widget-view+json": {
       "model_id": "",
       "version_major": 2,
       "version_minor": 0
      },
      "text/plain": [
       "HBox(children=(IntProgress(value=0, max=1), HTML(value='')))"
      ]
     },
     "metadata": {},
     "output_type": "display_data"
    },
    {
     "data": {
      "application/vnd.jupyter.widget-view+json": {
       "model_id": "",
       "version_major": 2,
       "version_minor": 0
      },
      "text/plain": [
       "HBox(children=(IntProgress(value=0, max=1), HTML(value='')))"
      ]
     },
     "metadata": {},
     "output_type": "display_data"
    },
    {
     "data": {
      "application/vnd.jupyter.widget-view+json": {
       "model_id": "",
       "version_major": 2,
       "version_minor": 0
      },
      "text/plain": [
       "HBox(children=(IntProgress(value=0, max=2), HTML(value='')))"
      ]
     },
     "metadata": {},
     "output_type": "display_data"
    },
    {
     "data": {
      "application/vnd.jupyter.widget-view+json": {
       "model_id": "",
       "version_major": 2,
       "version_minor": 0
      },
      "text/plain": [
       "HBox(children=(IntProgress(value=0, max=2), HTML(value='')))"
      ]
     },
     "metadata": {},
     "output_type": "display_data"
    },
    {
     "data": {
      "application/vnd.jupyter.widget-view+json": {
       "model_id": "",
       "version_major": 2,
       "version_minor": 0
      },
      "text/plain": [
       "HBox(children=(IntProgress(value=0, max=2), HTML(value='')))"
      ]
     },
     "metadata": {},
     "output_type": "display_data"
    },
    {
     "data": {
      "application/vnd.jupyter.widget-view+json": {
       "model_id": "",
       "version_major": 2,
       "version_minor": 0
      },
      "text/plain": [
       "HBox(children=(IntProgress(value=0, max=2), HTML(value='')))"
      ]
     },
     "metadata": {},
     "output_type": "display_data"
    },
    {
     "data": {
      "application/vnd.jupyter.widget-view+json": {
       "model_id": "",
       "version_major": 2,
       "version_minor": 0
      },
      "text/plain": [
       "HBox(children=(IntProgress(value=0, max=11), HTML(value='')))"
      ]
     },
     "metadata": {},
     "output_type": "display_data"
    },
    {
     "data": {
      "application/vnd.jupyter.widget-view+json": {
       "model_id": "",
       "version_major": 2,
       "version_minor": 0
      },
      "text/plain": [
       "HBox(children=(IntProgress(value=0, max=11), HTML(value='')))"
      ]
     },
     "metadata": {},
     "output_type": "display_data"
    },
    {
     "data": {
      "application/vnd.jupyter.widget-view+json": {
       "model_id": "",
       "version_major": 2,
       "version_minor": 0
      },
      "text/plain": [
       "HBox(children=(IntProgress(value=0, max=11), HTML(value='')))"
      ]
     },
     "metadata": {},
     "output_type": "display_data"
    },
    {
     "data": {
      "application/vnd.jupyter.widget-view+json": {
       "model_id": "",
       "version_major": 2,
       "version_minor": 0
      },
      "text/plain": [
       "HBox(children=(IntProgress(value=0, max=11), HTML(value='')))"
      ]
     },
     "metadata": {},
     "output_type": "display_data"
    },
    {
     "data": {
      "application/vnd.jupyter.widget-view+json": {
       "model_id": "",
       "version_major": 2,
       "version_minor": 0
      },
      "text/plain": [
       "HBox(children=(IntProgress(value=0, max=1), HTML(value='')))"
      ]
     },
     "metadata": {},
     "output_type": "display_data"
    },
    {
     "data": {
      "application/vnd.jupyter.widget-view+json": {
       "model_id": "",
       "version_major": 2,
       "version_minor": 0
      },
      "text/plain": [
       "HBox(children=(IntProgress(value=0, max=1), HTML(value='')))"
      ]
     },
     "metadata": {},
     "output_type": "display_data"
    },
    {
     "data": {
      "application/vnd.jupyter.widget-view+json": {
       "model_id": "",
       "version_major": 2,
       "version_minor": 0
      },
      "text/plain": [
       "HBox(children=(IntProgress(value=0, max=1), HTML(value='')))"
      ]
     },
     "metadata": {},
     "output_type": "display_data"
    },
    {
     "data": {
      "application/vnd.jupyter.widget-view+json": {
       "model_id": "",
       "version_major": 2,
       "version_minor": 0
      },
      "text/plain": [
       "HBox(children=(IntProgress(value=0, max=1), HTML(value='')))"
      ]
     },
     "metadata": {},
     "output_type": "display_data"
    },
    {
     "data": {
      "application/vnd.jupyter.widget-view+json": {
       "model_id": "",
       "version_major": 2,
       "version_minor": 0
      },
      "text/plain": [
       "HBox(children=(IntProgress(value=0, max=1), HTML(value='')))"
      ]
     },
     "metadata": {},
     "output_type": "display_data"
    },
    {
     "data": {
      "application/vnd.jupyter.widget-view+json": {
       "model_id": "",
       "version_major": 2,
       "version_minor": 0
      },
      "text/plain": [
       "HBox(children=(IntProgress(value=0, max=1), HTML(value='')))"
      ]
     },
     "metadata": {},
     "output_type": "display_data"
    },
    {
     "data": {
      "application/vnd.jupyter.widget-view+json": {
       "model_id": "",
       "version_major": 2,
       "version_minor": 0
      },
      "text/plain": [
       "HBox(children=(IntProgress(value=0, max=1), HTML(value='')))"
      ]
     },
     "metadata": {},
     "output_type": "display_data"
    },
    {
     "data": {
      "application/vnd.jupyter.widget-view+json": {
       "model_id": "",
       "version_major": 2,
       "version_minor": 0
      },
      "text/plain": [
       "HBox(children=(IntProgress(value=0, max=1), HTML(value='')))"
      ]
     },
     "metadata": {},
     "output_type": "display_data"
    },
    {
     "data": {
      "application/vnd.jupyter.widget-view+json": {
       "model_id": "",
       "version_major": 2,
       "version_minor": 0
      },
      "text/plain": [
       "HBox(children=(IntProgress(value=0, max=1), HTML(value='')))"
      ]
     },
     "metadata": {},
     "output_type": "display_data"
    },
    {
     "data": {
      "application/vnd.jupyter.widget-view+json": {
       "model_id": "",
       "version_major": 2,
       "version_minor": 0
      },
      "text/plain": [
       "HBox(children=(IntProgress(value=0, max=1), HTML(value='')))"
      ]
     },
     "metadata": {},
     "output_type": "display_data"
    },
    {
     "data": {
      "application/vnd.jupyter.widget-view+json": {
       "model_id": "",
       "version_major": 2,
       "version_minor": 0
      },
      "text/plain": [
       "HBox(children=(IntProgress(value=0, max=1), HTML(value='')))"
      ]
     },
     "metadata": {},
     "output_type": "display_data"
    },
    {
     "data": {
      "application/vnd.jupyter.widget-view+json": {
       "model_id": "",
       "version_major": 2,
       "version_minor": 0
      },
      "text/plain": [
       "HBox(children=(IntProgress(value=0, max=1), HTML(value='')))"
      ]
     },
     "metadata": {},
     "output_type": "display_data"
    },
    {
     "data": {
      "application/vnd.jupyter.widget-view+json": {
       "model_id": "",
       "version_major": 2,
       "version_minor": 0
      },
      "text/plain": [
       "HBox(children=(IntProgress(value=0, max=7), HTML(value='')))"
      ]
     },
     "metadata": {},
     "output_type": "display_data"
    },
    {
     "data": {
      "application/vnd.jupyter.widget-view+json": {
       "model_id": "",
       "version_major": 2,
       "version_minor": 0
      },
      "text/plain": [
       "HBox(children=(IntProgress(value=0, max=7), HTML(value='')))"
      ]
     },
     "metadata": {},
     "output_type": "display_data"
    },
    {
     "data": {
      "application/vnd.jupyter.widget-view+json": {
       "model_id": "",
       "version_major": 2,
       "version_minor": 0
      },
      "text/plain": [
       "HBox(children=(IntProgress(value=0, max=7), HTML(value='')))"
      ]
     },
     "metadata": {},
     "output_type": "display_data"
    },
    {
     "data": {
      "application/vnd.jupyter.widget-view+json": {
       "model_id": "",
       "version_major": 2,
       "version_minor": 0
      },
      "text/plain": [
       "HBox(children=(IntProgress(value=0, max=7), HTML(value='')))"
      ]
     },
     "metadata": {},
     "output_type": "display_data"
    },
    {
     "data": {
      "application/vnd.jupyter.widget-view+json": {
       "model_id": "",
       "version_major": 2,
       "version_minor": 0
      },
      "text/plain": [
       "HBox(children=(IntProgress(value=0, max=1), HTML(value='')))"
      ]
     },
     "metadata": {},
     "output_type": "display_data"
    },
    {
     "data": {
      "application/vnd.jupyter.widget-view+json": {
       "model_id": "",
       "version_major": 2,
       "version_minor": 0
      },
      "text/plain": [
       "HBox(children=(IntProgress(value=0, max=1), HTML(value='')))"
      ]
     },
     "metadata": {},
     "output_type": "display_data"
    },
    {
     "data": {
      "application/vnd.jupyter.widget-view+json": {
       "model_id": "",
       "version_major": 2,
       "version_minor": 0
      },
      "text/plain": [
       "HBox(children=(IntProgress(value=0, max=1), HTML(value='')))"
      ]
     },
     "metadata": {},
     "output_type": "display_data"
    },
    {
     "data": {
      "application/vnd.jupyter.widget-view+json": {
       "model_id": "",
       "version_major": 2,
       "version_minor": 0
      },
      "text/plain": [
       "HBox(children=(IntProgress(value=0, max=1), HTML(value='')))"
      ]
     },
     "metadata": {},
     "output_type": "display_data"
    },
    {
     "data": {
      "application/vnd.jupyter.widget-view+json": {
       "model_id": "",
       "version_major": 2,
       "version_minor": 0
      },
      "text/plain": [
       "HBox(children=(IntProgress(value=0, max=1), HTML(value='')))"
      ]
     },
     "metadata": {},
     "output_type": "display_data"
    },
    {
     "data": {
      "application/vnd.jupyter.widget-view+json": {
       "model_id": "",
       "version_major": 2,
       "version_minor": 0
      },
      "text/plain": [
       "HBox(children=(IntProgress(value=0, max=1), HTML(value='')))"
      ]
     },
     "metadata": {},
     "output_type": "display_data"
    },
    {
     "data": {
      "application/vnd.jupyter.widget-view+json": {
       "model_id": "",
       "version_major": 2,
       "version_minor": 0
      },
      "text/plain": [
       "HBox(children=(IntProgress(value=0, max=1), HTML(value='')))"
      ]
     },
     "metadata": {},
     "output_type": "display_data"
    },
    {
     "data": {
      "application/vnd.jupyter.widget-view+json": {
       "model_id": "",
       "version_major": 2,
       "version_minor": 0
      },
      "text/plain": [
       "HBox(children=(IntProgress(value=0, max=1), HTML(value='')))"
      ]
     },
     "metadata": {},
     "output_type": "display_data"
    },
    {
     "data": {
      "application/vnd.jupyter.widget-view+json": {
       "model_id": "",
       "version_major": 2,
       "version_minor": 0
      },
      "text/plain": [
       "HBox(children=(IntProgress(value=0, max=1), HTML(value='')))"
      ]
     },
     "metadata": {},
     "output_type": "display_data"
    },
    {
     "data": {
      "application/vnd.jupyter.widget-view+json": {
       "model_id": "",
       "version_major": 2,
       "version_minor": 0
      },
      "text/plain": [
       "HBox(children=(IntProgress(value=0, max=1), HTML(value='')))"
      ]
     },
     "metadata": {},
     "output_type": "display_data"
    },
    {
     "data": {
      "application/vnd.jupyter.widget-view+json": {
       "model_id": "",
       "version_major": 2,
       "version_minor": 0
      },
      "text/plain": [
       "HBox(children=(IntProgress(value=0, max=1), HTML(value='')))"
      ]
     },
     "metadata": {},
     "output_type": "display_data"
    },
    {
     "data": {
      "application/vnd.jupyter.widget-view+json": {
       "model_id": "",
       "version_major": 2,
       "version_minor": 0
      },
      "text/plain": [
       "HBox(children=(IntProgress(value=0, max=1), HTML(value='')))"
      ]
     },
     "metadata": {},
     "output_type": "display_data"
    },
    {
     "data": {
      "application/vnd.jupyter.widget-view+json": {
       "model_id": "",
       "version_major": 2,
       "version_minor": 0
      },
      "text/plain": [
       "HBox(children=(IntProgress(value=0, max=7), HTML(value='')))"
      ]
     },
     "metadata": {},
     "output_type": "display_data"
    },
    {
     "data": {
      "application/vnd.jupyter.widget-view+json": {
       "model_id": "",
       "version_major": 2,
       "version_minor": 0
      },
      "text/plain": [
       "HBox(children=(IntProgress(value=0, max=7), HTML(value='')))"
      ]
     },
     "metadata": {},
     "output_type": "display_data"
    },
    {
     "data": {
      "application/vnd.jupyter.widget-view+json": {
       "model_id": "",
       "version_major": 2,
       "version_minor": 0
      },
      "text/plain": [
       "HBox(children=(IntProgress(value=0, max=7), HTML(value='')))"
      ]
     },
     "metadata": {},
     "output_type": "display_data"
    },
    {
     "data": {
      "application/vnd.jupyter.widget-view+json": {
       "model_id": "",
       "version_major": 2,
       "version_minor": 0
      },
      "text/plain": [
       "HBox(children=(IntProgress(value=0, max=7), HTML(value='')))"
      ]
     },
     "metadata": {},
     "output_type": "display_data"
    },
    {
     "data": {
      "application/vnd.jupyter.widget-view+json": {
       "model_id": "",
       "version_major": 2,
       "version_minor": 0
      },
      "text/plain": [
       "HBox(children=(IntProgress(value=0, max=1), HTML(value='')))"
      ]
     },
     "metadata": {},
     "output_type": "display_data"
    },
    {
     "data": {
      "application/vnd.jupyter.widget-view+json": {
       "model_id": "",
       "version_major": 2,
       "version_minor": 0
      },
      "text/plain": [
       "HBox(children=(IntProgress(value=0, max=1), HTML(value='')))"
      ]
     },
     "metadata": {},
     "output_type": "display_data"
    },
    {
     "data": {
      "application/vnd.jupyter.widget-view+json": {
       "model_id": "",
       "version_major": 2,
       "version_minor": 0
      },
      "text/plain": [
       "HBox(children=(IntProgress(value=0, max=1), HTML(value='')))"
      ]
     },
     "metadata": {},
     "output_type": "display_data"
    },
    {
     "data": {
      "application/vnd.jupyter.widget-view+json": {
       "model_id": "",
       "version_major": 2,
       "version_minor": 0
      },
      "text/plain": [
       "HBox(children=(IntProgress(value=0, max=1), HTML(value='')))"
      ]
     },
     "metadata": {},
     "output_type": "display_data"
    },
    {
     "data": {
      "application/vnd.jupyter.widget-view+json": {
       "model_id": "",
       "version_major": 2,
       "version_minor": 0
      },
      "text/plain": [
       "HBox(children=(IntProgress(value=0, max=1), HTML(value='')))"
      ]
     },
     "metadata": {},
     "output_type": "display_data"
    },
    {
     "data": {
      "application/vnd.jupyter.widget-view+json": {
       "model_id": "",
       "version_major": 2,
       "version_minor": 0
      },
      "text/plain": [
       "HBox(children=(IntProgress(value=0, max=1), HTML(value='')))"
      ]
     },
     "metadata": {},
     "output_type": "display_data"
    },
    {
     "data": {
      "application/vnd.jupyter.widget-view+json": {
       "model_id": "",
       "version_major": 2,
       "version_minor": 0
      },
      "text/plain": [
       "HBox(children=(IntProgress(value=0, max=1), HTML(value='')))"
      ]
     },
     "metadata": {},
     "output_type": "display_data"
    },
    {
     "data": {
      "application/vnd.jupyter.widget-view+json": {
       "model_id": "",
       "version_major": 2,
       "version_minor": 0
      },
      "text/plain": [
       "HBox(children=(IntProgress(value=0, max=1), HTML(value='')))"
      ]
     },
     "metadata": {},
     "output_type": "display_data"
    },
    {
     "data": {
      "application/vnd.jupyter.widget-view+json": {
       "model_id": "",
       "version_major": 2,
       "version_minor": 0
      },
      "text/plain": [
       "HBox(children=(IntProgress(value=0, max=2), HTML(value='')))"
      ]
     },
     "metadata": {},
     "output_type": "display_data"
    },
    {
     "data": {
      "application/vnd.jupyter.widget-view+json": {
       "model_id": "",
       "version_major": 2,
       "version_minor": 0
      },
      "text/plain": [
       "HBox(children=(IntProgress(value=0, max=2), HTML(value='')))"
      ]
     },
     "metadata": {},
     "output_type": "display_data"
    },
    {
     "data": {
      "application/vnd.jupyter.widget-view+json": {
       "model_id": "",
       "version_major": 2,
       "version_minor": 0
      },
      "text/plain": [
       "HBox(children=(IntProgress(value=0, max=2), HTML(value='')))"
      ]
     },
     "metadata": {},
     "output_type": "display_data"
    },
    {
     "data": {
      "application/vnd.jupyter.widget-view+json": {
       "model_id": "",
       "version_major": 2,
       "version_minor": 0
      },
      "text/plain": [
       "HBox(children=(IntProgress(value=0, max=2), HTML(value='')))"
      ]
     },
     "metadata": {},
     "output_type": "display_data"
    },
    {
     "data": {
      "application/vnd.jupyter.widget-view+json": {
       "model_id": "",
       "version_major": 2,
       "version_minor": 0
      },
      "text/plain": [
       "HBox(children=(IntProgress(value=0, max=1), HTML(value='')))"
      ]
     },
     "metadata": {},
     "output_type": "display_data"
    },
    {
     "data": {
      "application/vnd.jupyter.widget-view+json": {
       "model_id": "",
       "version_major": 2,
       "version_minor": 0
      },
      "text/plain": [
       "HBox(children=(IntProgress(value=0, max=1), HTML(value='')))"
      ]
     },
     "metadata": {},
     "output_type": "display_data"
    },
    {
     "data": {
      "application/vnd.jupyter.widget-view+json": {
       "model_id": "",
       "version_major": 2,
       "version_minor": 0
      },
      "text/plain": [
       "HBox(children=(IntProgress(value=0, max=1), HTML(value='')))"
      ]
     },
     "metadata": {},
     "output_type": "display_data"
    },
    {
     "data": {
      "application/vnd.jupyter.widget-view+json": {
       "model_id": "",
       "version_major": 2,
       "version_minor": 0
      },
      "text/plain": [
       "HBox(children=(IntProgress(value=0, max=1), HTML(value='')))"
      ]
     },
     "metadata": {},
     "output_type": "display_data"
    },
    {
     "data": {
      "application/vnd.jupyter.widget-view+json": {
       "model_id": "",
       "version_major": 2,
       "version_minor": 0
      },
      "text/plain": [
       "HBox(children=(IntProgress(value=0, max=1), HTML(value='')))"
      ]
     },
     "metadata": {},
     "output_type": "display_data"
    },
    {
     "data": {
      "application/vnd.jupyter.widget-view+json": {
       "model_id": "",
       "version_major": 2,
       "version_minor": 0
      },
      "text/plain": [
       "HBox(children=(IntProgress(value=0, max=1), HTML(value='')))"
      ]
     },
     "metadata": {},
     "output_type": "display_data"
    },
    {
     "data": {
      "application/vnd.jupyter.widget-view+json": {
       "model_id": "",
       "version_major": 2,
       "version_minor": 0
      },
      "text/plain": [
       "HBox(children=(IntProgress(value=0, max=1), HTML(value='')))"
      ]
     },
     "metadata": {},
     "output_type": "display_data"
    },
    {
     "data": {
      "application/vnd.jupyter.widget-view+json": {
       "model_id": "",
       "version_major": 2,
       "version_minor": 0
      },
      "text/plain": [
       "HBox(children=(IntProgress(value=0, max=1), HTML(value='')))"
      ]
     },
     "metadata": {},
     "output_type": "display_data"
    },
    {
     "data": {
      "application/vnd.jupyter.widget-view+json": {
       "model_id": "",
       "version_major": 2,
       "version_minor": 0
      },
      "text/plain": [
       "HBox(children=(IntProgress(value=0, max=1), HTML(value='')))"
      ]
     },
     "metadata": {},
     "output_type": "display_data"
    },
    {
     "data": {
      "application/vnd.jupyter.widget-view+json": {
       "model_id": "",
       "version_major": 2,
       "version_minor": 0
      },
      "text/plain": [
       "HBox(children=(IntProgress(value=0, max=1), HTML(value='')))"
      ]
     },
     "metadata": {},
     "output_type": "display_data"
    },
    {
     "data": {
      "application/vnd.jupyter.widget-view+json": {
       "model_id": "",
       "version_major": 2,
       "version_minor": 0
      },
      "text/plain": [
       "HBox(children=(IntProgress(value=0, max=1), HTML(value='')))"
      ]
     },
     "metadata": {},
     "output_type": "display_data"
    },
    {
     "data": {
      "application/vnd.jupyter.widget-view+json": {
       "model_id": "",
       "version_major": 2,
       "version_minor": 0
      },
      "text/plain": [
       "HBox(children=(IntProgress(value=0, max=1), HTML(value='')))"
      ]
     },
     "metadata": {},
     "output_type": "display_data"
    },
    {
     "data": {
      "application/vnd.jupyter.widget-view+json": {
       "model_id": "",
       "version_major": 2,
       "version_minor": 0
      },
      "text/plain": [
       "HBox(children=(IntProgress(value=0, max=1), HTML(value='')))"
      ]
     },
     "metadata": {},
     "output_type": "display_data"
    },
    {
     "data": {
      "application/vnd.jupyter.widget-view+json": {
       "model_id": "",
       "version_major": 2,
       "version_minor": 0
      },
      "text/plain": [
       "HBox(children=(IntProgress(value=0, max=1), HTML(value='')))"
      ]
     },
     "metadata": {},
     "output_type": "display_data"
    },
    {
     "data": {
      "application/vnd.jupyter.widget-view+json": {
       "model_id": "",
       "version_major": 2,
       "version_minor": 0
      },
      "text/plain": [
       "HBox(children=(IntProgress(value=0, max=1), HTML(value='')))"
      ]
     },
     "metadata": {},
     "output_type": "display_data"
    },
    {
     "data": {
      "application/vnd.jupyter.widget-view+json": {
       "model_id": "",
       "version_major": 2,
       "version_minor": 0
      },
      "text/plain": [
       "HBox(children=(IntProgress(value=0, max=1), HTML(value='')))"
      ]
     },
     "metadata": {},
     "output_type": "display_data"
    },
    {
     "name": "stdout",
     "output_type": "stream",
     "text": [
      "\n"
     ]
    }
   ],
   "source": [
    "def grups_over_label_files(username, data, get_labels):\n",
    "    labelsbar = tqdm.tqdm_notebook(data['label'], leave=False)\n",
    "    groups = []\n",
    "    ignored = 0\n",
    "    for lbl in labelsbar:\n",
    "        ldata, file = lbl['data'], lbl['file']\n",
    "        datestr = sutils.datestr_from_filename(file)\n",
    "        startdate = datetime.strptime(datestr, \"%Y_%m_%d_%H_%M_%S\")\n",
    "        \n",
    "        labels = get_labels(ldata)\n",
    "        \n",
    "        for _, row in labels.iterrows():\n",
    "            group = sutils.recover_group(startdate, row)\n",
    "            (s,e) = group\n",
    "            if s == e:\n",
    "                ignored += 1\n",
    "                continue\n",
    "            groups.append(group)\n",
    "    return groups, ignored, file\n",
    "\n",
    "def recover_label_groups_from_labels_file(username, user_data):\n",
    "    glove_merged = user_data['glove_merged']\n",
    "    \n",
    "    groups, _, _ = grups_over_label_files(username, user_data, sutils.get_automatic_labels)\n",
    "    user_data['start_end_automatic_groups_fl'] = groups\n",
    "    \n",
    "    groups, _, _ = grups_over_label_files(username, user_data, sutils.get_manual_labels)\n",
    "    user_data['start_end_manual_groups_fl'] = groups\n",
    "    \n",
    "    groups, _, _ = grups_over_label_files(username, user_data, sutils.get_dynamic_labels)\n",
    "    user_data['start_end_dynamic_groups_fl'] = groups\n",
    "    \n",
    "    groups, _, _ = grups_over_label_files(username, user_data, sutils.get_static_labels)\n",
    "    user_data['start_end_static_groups_fl'] = groups\n",
    "\n",
    "for key, data in tqdm.tqdm_notebook(users.items()):\n",
    "    if not 'glove_merged' in data:\n",
    "        continue\n",
    "    recover_label_groups_from_labels_file(key, data)"
   ]
  },
  {
   "cell_type": "code",
   "execution_count": 9,
   "metadata": {},
   "outputs": [],
   "source": [
    "def merge_subautomatic_labels(user_data, show_details):\n",
    "    groups_automatic = user_data['start_end_automatic_groups_fl']\n",
    "    groups_automatic.sort()\n",
    "    groups_manual = user_data['start_end_manual_groups_fl']\n",
    "    groups_dynamic = user_data['start_end_dynamic_groups_fl']\n",
    "    groups_static = user_data['start_end_static_groups_fl']\n",
    "    dyn_idx, sts_idx, man_idx = 0, 0, 0\n",
    "    lbl_groups = []\n",
    "    for a in groups_automatic:\n",
    "        dyn_idx, dgs = sutils.combine_ranges_contained(a, dyn_idx, groups_dynamic)\n",
    "        sts_idx, sgs = sutils.combine_ranges_contained(a, sts_idx, groups_static)\n",
    "        man_idx, mgs = sutils.combine_ranges_contained(a, man_idx, groups_manual)\n",
    "        if (len(dgs) == 1) and (len(mgs) == 1):\n",
    "            d = sutils.t_to_t(dgs[0])\n",
    "            m = sutils.t_to_t(mgs[0])\n",
    "            s = sutils.t_to_t(sgs[0]) if len(sgs) == 1 else None\n",
    "            label = (user_data['glove_merged'].loc[d.start:d.end, 'label_automatic'])[1]\n",
    "            lg = sutils.LabelGroup(label, sutils.t_to_t(a), m, s, d)\n",
    "            lbl_groups.append(lg)\n",
    "    if (len(lbl_groups) != len(groups_automatic)) and show_details:\n",
    "        print(\"changed size of total groups: \", len(groups_automatic), len(lbl_groups), ' that is ', (1-len(lbl_groups)/len(groups_automatic))*100, \"%\")\n",
    "    \n",
    "    user_data['lbl_groups_fl'] = lbl_groups\n",
    "    return lbl_groups"
   ]
  },
  {
   "cell_type": "code",
   "execution_count": 10,
   "metadata": {},
   "outputs": [
    {
     "data": {
      "application/vnd.jupyter.widget-view+json": {
       "model_id": "1061c265cf8c4920968dd5a6eb192238",
       "version_major": 2,
       "version_minor": 0
      },
      "text/plain": [
       "HBox(children=(IntProgress(value=0, max=23), HTML(value='')))"
      ]
     },
     "metadata": {},
     "output_type": "display_data"
    },
    {
     "name": "stdout",
     "output_type": "stream",
     "text": [
      "check  AB73\n",
      "changed size of total groups:  310 307  that is  0.9677419354838679 %\n",
      "check  AF82\n",
      "changed size of total groups:  157 156  that is  0.6369426751592355 %\n",
      "check  AL29\n",
      "changed size of total groups:  310 309  that is  0.3225806451612856 %\n",
      "check  AW18\n",
      "changed size of total groups:  155 154  that is  0.6451612903225823 %\n",
      "check  CB23\n",
      "changed size of total groups:  155 152  that is  1.9354838709677469 %\n",
      "check  CB24\n",
      "changed size of total groups:  157 154  that is  1.9108280254777066 %\n",
      "check  CF58\n",
      "changed size of total groups:  171 167  that is  2.3391812865497075 %\n",
      "check  DG12\n",
      "changed size of total groups:  155 154  that is  0.6451612903225823 %\n",
      "check  DH42\n",
      "changed size of total groups:  155 154  that is  0.6451612903225823 %\n",
      "check  DL24\n",
      "changed size of total groups:  310 304  that is  1.9354838709677469 %\n",
      "check  JL61\n",
      "changed size of total groups:  165 162  that is  1.8181818181818188 %\n",
      "check  JQ28\n",
      "changed size of total groups:  310 307  that is  0.9677419354838679 %\n",
      "check  JS52\n",
      "changed size of total groups:  310 308  that is  0.6451612903225823 %\n",
      "check  MF20\n",
      "changed size of total groups:  155 153  that is  1.2903225806451646 %\n",
      "check  MS55\n",
      "changed size of total groups:  156 151  that is  3.205128205128205 %\n",
      "check  PC29\n",
      "changed size of total groups:  165 160  that is  3.0303030303030276 %\n",
      "check  PM32\n",
      "changed size of total groups:  310 308  that is  0.6451612903225823 %\n",
      "check  PS42\n",
      "changed size of total groups:  156 155  that is  0.6410256410256387 %\n",
      "check  RR45\n",
      "changed size of total groups:  155 154  that is  0.6451612903225823 %\n",
      "check  RW32\n",
      "changed size of total groups:  155 152  that is  1.9354838709677469 %\n",
      "check  SF1\n",
      "changed size of total groups:  155 154  that is  0.6451612903225823 %\n",
      "check  YW13\n",
      "changed size of total groups:  310 308  that is  0.6451612903225823 %\n",
      "\n",
      "in total we removed  1.1902137976636529 % of automatic labels\n"
     ]
    }
   ],
   "source": [
    "total_len = 0\n",
    "total_new_len = 0\n",
    "SHOW_DETAILS=True\n",
    "for key, data in tqdm.tqdm_notebook(users.items()):\n",
    "    if not 'glove_merged' in data:\n",
    "        continue\n",
    "    if SHOW_DETAILS: print('check ', key)\n",
    "    total_len += len(data['start_end_automatic_groups_fl'])\n",
    "    merge_subautomatic_labels(data, SHOW_DETAILS)\n",
    "    total_new_len += len(data['lbl_groups_fl'])\n",
    "print('in total we removed ', (1-total_new_len/total_len)*100, '% of automatic labels')"
   ]
  },
  {
   "cell_type": "code",
   "execution_count": 19,
   "metadata": {},
   "outputs": [],
   "source": [
    "def sort(lst):\n",
    "    lst.sort(key=lambda lg: lg.automatic.start)\n",
    "\n",
    "def compare_lbl_groups(user_data):\n",
    "    lg1 = user_data['lbl_groups']\n",
    "    lg2 = user_data['lbl_groups_fl']\n",
    "    sort(lg1)\n",
    "    sort(lg2)\n",
    "    print(len(lg1))\n",
    "    print(len(lg2))\n",
    "    differences = 0\n",
    "    # this algorithm still has a problem with lists of different size if the first entries differ\n",
    "    # TODO: fix that!\n",
    "    g1_idx = 0\n",
    "    g2_idx = 0\n",
    "    finished = False\n",
    "    while not finished:\n",
    "        g1 = lg1[g1_idx]\n",
    "        g2 = lg2[g2_idx]\n",
    "        if g1.approx(g2, timedelta(milliseconds=500)):\n",
    "            # yay!\n",
    "            g1_idx += 1\n",
    "            g2_idx += 1\n",
    "            finished = (g1_idx >= len(lg1)) or (g2_idx >= len(lg2))\n",
    "            continue\n",
    "        else:\n",
    "            if g1.automatic.end < g2.automatic.start: # advance g1 only, it is earlier\n",
    "                g1_idx += 1\n",
    "                print('found additional timepoint in labels from data:')\n",
    "                print(g1)\n",
    "                differences += 1\n",
    "            elif g2.automatic.end < g1.automatic.start: \n",
    "                g2_idx += 1\n",
    "                print('found additional timepoint in labels from labels file:')\n",
    "                print(g2)\n",
    "                differences += 1\n",
    "            else:\n",
    "                g1_idx += 1\n",
    "                g2_idx += 1\n",
    "                print('difference found:')\n",
    "                print(g1.diff(g2, timedelta(milliseconds=500)))\n",
    "                differences += 1\n",
    "            finished = (g1_idx >= len(lg1)) or (g2_idx >= len(lg2))\n",
    "    rest = utils.rest(lg1, lg2)\n",
    "    if rest is not None:\n",
    "        print('additionally found:')\n",
    "        print(rest)\n",
    "    if differences > 0:\n",
    "        print(\"corrected groups differ between methods for \", (differences/min(len(lg1), len(lg2))) * 100, \"%\")"
   ]
  },
  {
   "cell_type": "code",
   "execution_count": 20,
   "metadata": {},
   "outputs": [
    {
     "data": {
      "application/vnd.jupyter.widget-view+json": {
       "model_id": "f41b4cf6950749dc83fbe1d96e2361d9",
       "version_major": 2,
       "version_minor": 0
      },
      "text/plain": [
       "HBox(children=(IntProgress(value=0, max=23), HTML(value='')))"
      ]
     },
     "metadata": {},
     "output_type": "display_data"
    },
    {
     "name": "stdout",
     "output_type": "stream",
     "text": [
      "307\n",
      "307\n",
      "153\n",
      "154\n",
      "found additional timepoint in labels from labels file:\n",
      "LabelGroup(label_name='Grasp 1', automatic=Timerange(start=Timestamp('2015-08-20 20:24:55.296000'), end=Timestamp('2015-08-20 20:24:58.356000')), manual=Timerange(start=Timestamp('2015-08-20 20:24:57.168000'), end=Timestamp('2015-08-20 20:24:58.116000')), static=None, dynamic=Timerange(start=Timestamp('2015-08-20 20:24:57.168000'), end=Timestamp('2015-08-20 20:24:58.116000')))\n",
      "additionally found:\n",
      "[LabelGroup(label_name='Never mind', automatic=Timerange(start=Timestamp('2015-08-20 20:29:44.208000'), end=Timestamp('2015-08-20 20:29:47.268000')), manual=Timerange(start=Timestamp('2015-08-20 20:29:45.252000'), end=Timestamp('2015-08-20 20:29:46.116000')), static=None, dynamic=Timerange(start=Timestamp('2015-08-20 20:29:45.252000'), end=Timestamp('2015-08-20 20:29:46.116000')))]\n",
      "corrected groups differ between methods for  0.6535947712418301 %\n",
      "308\n",
      "309\n",
      "found additional timepoint in labels from labels file:\n",
      "LabelGroup(label_name='Grasp 1', automatic=Timerange(start=Timestamp('2015-08-17 17:49:37.888000'), end=Timestamp('2015-08-17 17:49:40.936000')), manual=Timerange(start=Timestamp('2015-08-17 17:49:38.308000'), end=Timestamp('2015-08-17 17:49:38.872000')), static=None, dynamic=Timerange(start=Timestamp('2015-08-17 17:49:38.308000'), end=Timestamp('2015-08-17 17:49:38.872000')))\n",
      "additionally found:\n",
      "[LabelGroup(label_name='Grasp 2', automatic=Timerange(start=Timestamp('2015-08-17 17:57:31.204000'), end=Timestamp('2015-08-17 17:57:34.216000')), manual=Timerange(start=Timestamp('2015-08-17 17:57:31.924000'), end=Timestamp('2015-08-17 17:57:33.268000')), static=Timerange(start=Timestamp('2015-08-17 17:57:32.224000'), end=Timestamp('2015-08-17 17:57:33.268000')), dynamic=Timerange(start=Timestamp('2015-08-17 17:57:31.924000'), end=Timestamp('2015-08-17 17:57:32.296000')))]\n",
      "corrected groups differ between methods for  0.3246753246753247 %\n",
      "153\n",
      "154\n",
      "difference found:\n",
      "[('man', ('start diff', Timestamp('2015-08-07 10:31:30.512000'), Timestamp('2015-08-07 10:31:31.304000')))]\n",
      "found additional timepoint in labels from labels file:\n",
      "LabelGroup(label_name='Grasp 2', automatic=Timerange(start=Timestamp('2015-08-07 10:42:04.712000'), end=Timestamp('2015-08-07 10:42:07.724000')), manual=Timerange(start=Timestamp('2015-08-07 10:42:05.876000'), end=Timestamp('2015-08-07 10:42:06.116000')), static=None, dynamic=Timerange(start=Timestamp('2015-08-07 10:42:05.876000'), end=Timestamp('2015-08-07 10:42:06.116000')))\n",
      "additionally found:\n",
      "[LabelGroup(label_name='Go away', automatic=Timerange(start=Timestamp('2015-08-07 10:51:12.884000'), end=Timestamp('2015-08-07 10:51:15.896000')), manual=Timerange(start=Timestamp('2015-08-07 10:51:13.580000'), end=Timestamp('2015-08-07 10:51:14.600000')), static=None, dynamic=Timerange(start=Timestamp('2015-08-07 10:51:13.580000'), end=Timestamp('2015-08-07 10:51:14.600000')))]\n",
      "corrected groups differ between methods for  1.3071895424836601 %\n",
      "152\n",
      "152\n",
      "154\n",
      "154\n",
      "158\n",
      "158\n",
      "154\n",
      "154\n",
      "153\n",
      "154\n",
      "found additional timepoint in labels from labels file:\n",
      "LabelGroup(label_name='Grasp 1', automatic=Timerange(start=Timestamp('2015-08-14 13:58:55.644000'), end=Timestamp('2015-08-14 13:58:58.704000')), manual=Timerange(start=Timestamp('2015-08-14 13:58:56.232000'), end=Timestamp('2015-08-14 13:58:56.472000')), static=None, dynamic=Timerange(start=Timestamp('2015-08-14 13:58:56.232000'), end=Timestamp('2015-08-14 13:58:56.472000')))\n",
      "additionally found:\n",
      "[LabelGroup(label_name='Push away', automatic=Timerange(start=Timestamp('2015-08-14 14:04:02.136000'), end=Timestamp('2015-08-14 14:04:05.160000')), manual=Timerange(start=Timestamp('2015-08-14 14:04:02.592000'), end=Timestamp('2015-08-14 14:04:03.264000')), static=None, dynamic=Timerange(start=Timestamp('2015-08-14 14:04:02.592000'), end=Timestamp('2015-08-14 14:04:03.264000')))]\n",
      "corrected groups differ between methods for  0.6535947712418301 %\n",
      "301\n",
      "304\n",
      "found additional timepoint in labels from labels file:\n",
      "LabelGroup(label_name='(3) Three', automatic=Timerange(start=Timestamp('2015-08-09 15:12:00.052000'), end=Timestamp('2015-08-09 15:12:03.064000')), manual=Timerange(start=Timestamp('2015-08-09 15:12:00.748000'), end=Timestamp('2015-08-09 15:12:00.976000')), static=None, dynamic=Timerange(start=Timestamp('2015-08-09 15:12:00.748000'), end=Timestamp('2015-08-09 15:12:00.976000')))\n",
      "found additional timepoint in labels from labels file:\n",
      "LabelGroup(label_name='(3) Three', automatic=Timerange(start=Timestamp('2015-08-09 15:12:12.088000'), end=Timestamp('2015-08-09 15:12:15.100000')), manual=Timerange(start=Timestamp('2015-08-09 15:12:12.688000'), end=Timestamp('2015-08-09 15:12:12.880000')), static=None, dynamic=Timerange(start=Timestamp('2015-08-09 15:12:12.688000'), end=Timestamp('2015-08-09 15:12:12.880000')))\n",
      "found additional timepoint in labels from labels file:\n",
      "LabelGroup(label_name='(3) Three', automatic=Timerange(start=Timestamp('2015-08-09 15:12:18.100000'), end=Timestamp('2015-08-09 15:12:21.112000')), manual=Timerange(start=Timestamp('2015-08-09 15:12:18.688000'), end=Timestamp('2015-08-09 15:12:18.904000')), static=None, dynamic=Timerange(start=Timestamp('2015-08-09 15:12:18.688000'), end=Timestamp('2015-08-09 15:12:18.904000')))\n",
      "additionally found:\n",
      "[LabelGroup(label_name='Turn', automatic=Timerange(start=Timestamp('2015-08-09 15:14:55.276000'), end=Timestamp('2015-08-09 15:14:58.276000')), manual=Timerange(start=Timestamp('2015-08-09 15:14:56.128000'), end=Timestamp('2015-08-09 15:14:57.196000')), static=None, dynamic=Timerange(start=Timestamp('2015-08-09 15:14:56.128000'), end=Timestamp('2015-08-09 15:14:57.196000'))), LabelGroup(label_name='Turn', automatic=Timerange(start=Timestamp('2015-08-09 15:15:01.288000'), end=Timestamp('2015-08-09 15:15:04.300000')), manual=Timerange(start=Timestamp('2015-08-09 15:15:01.984000'), end=Timestamp('2015-08-09 15:15:02.956000')), static=None, dynamic=Timerange(start=Timestamp('2015-08-09 15:15:01.984000'), end=Timestamp('2015-08-09 15:15:02.956000'))), LabelGroup(label_name='Turn', automatic=Timerange(start=Timestamp('2015-08-09 15:15:07.300000'), end=Timestamp('2015-08-09 15:15:10.312000')), manual=Timerange(start=Timestamp('2015-08-09 15:15:08.020000'), end=Timestamp('2015-08-09 15:15:09.004000')), static=None, dynamic=Timerange(start=Timestamp('2015-08-09 15:15:08.020000'), end=Timestamp('2015-08-09 15:15:09.004000')))]\n",
      "corrected groups differ between methods for  0.9966777408637874 %\n",
      "157\n",
      "158\n",
      "found additional timepoint in labels from labels file:\n",
      "LabelGroup(label_name='Come here', automatic=Timerange(start=Timestamp('2015-08-20 22:46:21.656000'), end=Timestamp('2015-08-20 22:46:24.560000')), manual=Timerange(start=Timestamp('2015-08-20 22:46:22.364000'), end=Timestamp('2015-08-20 22:46:23.540000')), static=None, dynamic=Timerange(start=Timestamp('2015-08-20 22:46:22.364000'), end=Timestamp('2015-08-20 22:46:23.540000')))\n",
      "additionally found:\n",
      "[LabelGroup(label_name='Push away', automatic=Timerange(start=Timestamp('2015-08-20 22:53:17.192000'), end=Timestamp('2015-08-20 22:53:20.204000')), manual=Timerange(start=Timestamp('2015-08-20 22:53:17.816000'), end=Timestamp('2015-08-20 22:53:19.076000')), static=None, dynamic=Timerange(start=Timestamp('2015-08-20 22:53:17.816000'), end=Timestamp('2015-08-20 22:53:19.076000')))]\n",
      "corrected groups differ between methods for  0.6369426751592357 %\n",
      "294\n",
      "303\n",
      "found additional timepoint in labels from labels file:\n",
      "LabelGroup(label_name='Grasp 2', automatic=Timerange(start=Timestamp('2015-08-12 18:45:16.496000'), end=Timestamp('2015-08-12 18:45:19.556000')), manual=Timerange(start=Timestamp('2015-08-12 18:45:17.552000'), end=Timestamp('2015-08-12 18:45:18.080000')), static=Timerange(start=Timestamp('2015-08-12 18:45:17.780000'), end=Timestamp('2015-08-12 18:45:17.888000')), dynamic=Timerange(start=Timestamp('2015-08-12 18:45:17.552000'), end=Timestamp('2015-08-12 18:45:18.080000')))\n",
      "found additional timepoint in labels from labels file:\n",
      "LabelGroup(label_name='Grasp 2', automatic=Timerange(start=Timestamp('2015-08-12 18:45:44.432000'), end=Timestamp('2015-08-12 18:45:47.504000')), manual=Timerange(start=Timestamp('2015-08-12 18:45:45.200000'), end=Timestamp('2015-08-12 18:45:45.512000')), static=None, dynamic=Timerange(start=Timestamp('2015-08-12 18:45:45.200000'), end=Timestamp('2015-08-12 18:45:45.512000')))\n",
      "found additional timepoint in labels from labels file:\n",
      "LabelGroup(label_name='Grasp 2', automatic=Timerange(start=Timestamp('2015-08-12 18:45:50.480000'), end=Timestamp('2015-08-12 18:45:53.540000')), manual=Timerange(start=Timestamp('2015-08-12 18:45:51.248000'), end=Timestamp('2015-08-12 18:45:51.632000')), static=None, dynamic=Timerange(start=Timestamp('2015-08-12 18:45:51.248000'), end=Timestamp('2015-08-12 18:45:51.632000')))\n"
     ]
    },
    {
     "name": "stdout",
     "output_type": "stream",
     "text": [
      "found additional timepoint in labels from labels file:\n",
      "LabelGroup(label_name='Calling', automatic=Timerange(start=Timestamp('2015-08-12 19:01:33.512000'), end=Timestamp('2015-08-12 19:01:36.560000')), manual=Timerange(start=Timestamp('2015-08-12 19:01:34.592000'), end=Timestamp('2015-08-12 19:01:34.928000')), static=None, dynamic=Timerange(start=Timestamp('2015-08-12 19:01:34.592000'), end=Timestamp('2015-08-12 19:01:34.928000')))\n",
      "found additional timepoint in labels from labels file:\n",
      "LabelGroup(label_name='Calling', automatic=Timerange(start=Timestamp('2015-08-12 19:01:39.548000'), end=Timestamp('2015-08-12 19:01:42.608000')), manual=Timerange(start=Timestamp('2015-08-12 19:01:40.508000'), end=Timestamp('2015-08-12 19:01:40.892000')), static=None, dynamic=Timerange(start=Timestamp('2015-08-12 19:01:40.508000'), end=Timestamp('2015-08-12 19:01:40.892000')))\n",
      "found additional timepoint in labels from labels file:\n",
      "LabelGroup(label_name='Grasp 1', automatic=Timerange(start=Timestamp('2015-08-12 19:11:17.744000'), end=Timestamp('2015-08-12 19:11:20.792000')), manual=Timerange(start=Timestamp('2015-08-12 19:11:18.404000'), end=Timestamp('2015-08-12 19:11:18.752000')), static=None, dynamic=Timerange(start=Timestamp('2015-08-12 19:11:18.404000'), end=Timestamp('2015-08-12 19:11:18.752000')))\n",
      "found additional timepoint in labels from labels file:\n",
      "LabelGroup(label_name='Grasp 1', automatic=Timerange(start=Timestamp('2015-08-12 19:11:23.792000'), end=Timestamp('2015-08-12 19:11:26.852000')), manual=Timerange(start=Timestamp('2015-08-12 19:11:24.440000'), end=Timestamp('2015-08-12 19:11:24.728000')), static=None, dynamic=Timerange(start=Timestamp('2015-08-12 19:11:24.440000'), end=Timestamp('2015-08-12 19:11:24.728000')))\n",
      "found additional timepoint in labels from labels file:\n",
      "LabelGroup(label_name='Grasp 1', automatic=Timerange(start=Timestamp('2015-08-12 19:11:35.876000'), end=Timestamp('2015-08-12 19:11:38.936000')), manual=Timerange(start=Timestamp('2015-08-12 19:11:36.596000'), end=Timestamp('2015-08-12 19:11:36.968000')), static=None, dynamic=Timerange(start=Timestamp('2015-08-12 19:11:36.596000'), end=Timestamp('2015-08-12 19:11:36.968000')))\n",
      "found additional timepoint in labels from labels file:\n",
      "LabelGroup(label_name='(3) Three', automatic=Timerange(start=Timestamp('2015-08-12 19:12:07.748000'), end=Timestamp('2015-08-12 19:12:10.808000')), manual=Timerange(start=Timestamp('2015-08-12 19:12:10.472000'), end=Timestamp('2015-08-12 19:12:10.724000')), static=None, dynamic=Timerange(start=Timestamp('2015-08-12 19:12:10.472000'), end=Timestamp('2015-08-12 19:12:10.724000')))\n",
      "additionally found:\n",
      "[LabelGroup(label_name='Thumbs down', automatic=Timerange(start=Timestamp('2015-08-12 19:14:20.660000'), end=Timestamp('2015-08-12 19:14:23.720000')), manual=Timerange(start=Timestamp('2015-08-12 19:14:21.464000'), end=Timestamp('2015-08-12 19:14:22.616000')), static=Timerange(start=Timestamp('2015-08-12 19:14:21.656000'), end=Timestamp('2015-08-12 19:14:22.616000')), dynamic=Timerange(start=Timestamp('2015-08-12 19:14:21.464000'), end=Timestamp('2015-08-12 19:14:21.716000'))), LabelGroup(label_name='Thumbs down', automatic=Timerange(start=Timestamp('2015-08-12 19:14:26.708000'), end=Timestamp('2015-08-12 19:14:29.768000')), manual=Timerange(start=Timestamp('2015-08-12 19:14:27.512000'), end=Timestamp('2015-08-12 19:14:28.952000')), static=Timerange(start=Timestamp('2015-08-12 19:14:27.800000'), end=Timestamp('2015-08-12 19:14:28.952000')), dynamic=Timerange(start=Timestamp('2015-08-12 19:14:27.512000'), end=Timestamp('2015-08-12 19:14:27.800000'))), LabelGroup(label_name='Thumbs down', automatic=Timerange(start=Timestamp('2015-08-12 19:14:32.756000'), end=Timestamp('2015-08-12 19:14:35.816000')), manual=Timerange(start=Timestamp('2015-08-12 19:14:33.656000'), end=Timestamp('2015-08-12 19:14:35.156000')), static=Timerange(start=Timestamp('2015-08-12 19:14:33.848000'), end=Timestamp('2015-08-12 19:14:35.156000')), dynamic=Timerange(start=Timestamp('2015-08-12 19:14:33.656000'), end=Timestamp('2015-08-12 19:14:33.860000'))), LabelGroup(label_name='Thumbs down', automatic=Timerange(start=Timestamp('2015-08-12 19:14:38.804000'), end=Timestamp('2015-08-12 19:14:41.864000')), manual=Timerange(start=Timestamp('2015-08-12 19:14:39.668000'), end=Timestamp('2015-08-12 19:14:41.588000')), static=Timerange(start=Timestamp('2015-08-12 19:14:39.848000'), end=Timestamp('2015-08-12 19:14:41.588000')), dynamic=Timerange(start=Timestamp('2015-08-12 19:14:39.668000'), end=Timestamp('2015-08-12 19:14:39.896000'))), LabelGroup(label_name='Thumbs down', automatic=Timerange(start=Timestamp('2015-08-12 19:14:44.852000'), end=Timestamp('2015-08-12 19:14:47.912000')), manual=Timerange(start=Timestamp('2015-08-12 19:14:45.560000'), end=Timestamp('2015-08-12 19:14:47.528000')), static=Timerange(start=Timestamp('2015-08-12 19:14:45.800000'), end=Timestamp('2015-08-12 19:14:47.528000')), dynamic=Timerange(start=Timestamp('2015-08-12 19:14:45.560000'), end=Timestamp('2015-08-12 19:14:45.860000'))), LabelGroup(label_name='Thumbs down', automatic=Timerange(start=Timestamp('2015-08-12 19:14:50.900000'), end=Timestamp('2015-08-12 19:14:53.960000')), manual=Timerange(start=Timestamp('2015-08-12 19:14:51.692000'), end=Timestamp('2015-08-12 19:14:53.096000')), static=Timerange(start=Timestamp('2015-08-12 19:14:51.860000'), end=Timestamp('2015-08-12 19:14:53.096000')), dynamic=Timerange(start=Timestamp('2015-08-12 19:14:51.692000'), end=Timestamp('2015-08-12 19:14:51.896000'))), LabelGroup(label_name='Thumbs down', automatic=Timerange(start=Timestamp('2015-08-12 19:14:56.948000'), end=Timestamp('2015-08-12 19:15:00.008000')), manual=Timerange(start=Timestamp('2015-08-12 19:14:57.860000'), end=Timestamp('2015-08-12 19:14:59.096000')), static=Timerange(start=Timestamp('2015-08-12 19:14:58.004000'), end=Timestamp('2015-08-12 19:14:59.096000')), dynamic=Timerange(start=Timestamp('2015-08-12 19:14:57.860000'), end=Timestamp('2015-08-12 19:14:58.088000'))), LabelGroup(label_name='Thumbs down', automatic=Timerange(start=Timestamp('2015-08-12 19:15:02.996000'), end=Timestamp('2015-08-12 19:15:06.056000')), manual=Timerange(start=Timestamp('2015-08-12 19:15:03.704000'), end=Timestamp('2015-08-12 19:15:05.372000')), static=Timerange(start=Timestamp('2015-08-12 19:15:03.944000'), end=Timestamp('2015-08-12 19:15:05.372000')), dynamic=Timerange(start=Timestamp('2015-08-12 19:15:03.704000'), end=Timestamp('2015-08-12 19:15:04.004000'))), LabelGroup(label_name='Thumbs down', automatic=Timerange(start=Timestamp('2015-08-12 19:15:09.044000'), end=Timestamp('2015-08-12 19:15:12.104000')), manual=Timerange(start=Timestamp('2015-08-12 19:15:09.848000'), end=Timestamp('2015-08-12 19:15:11.084000')), static=Timerange(start=Timestamp('2015-08-12 19:15:09.992000'), end=Timestamp('2015-08-12 19:15:11.084000')), dynamic=Timerange(start=Timestamp('2015-08-12 19:15:09.848000'), end=Timestamp('2015-08-12 19:15:10.052000')))]\n",
      "corrected groups differ between methods for  3.061224489795918 %\n",
      "293\n",
      "298\n",
      "found additional timepoint in labels from labels file:\n",
      "LabelGroup(label_name='Calling', automatic=Timerange(start=Timestamp('2015-08-17 11:16:53.836000'), end=Timestamp('2015-08-17 11:16:56.920000')), manual=Timerange(start=Timestamp('2015-08-17 11:16:54.880000'), end=Timestamp('2015-08-17 11:16:55.084000')), static=None, dynamic=Timerange(start=Timestamp('2015-08-17 11:16:54.880000'), end=Timestamp('2015-08-17 11:16:55.084000')))\n",
      "found additional timepoint in labels from labels file:\n",
      "LabelGroup(label_name='Grasp 1', automatic=Timerange(start=Timestamp('2015-08-17 11:39:56.932000'), end=Timestamp('2015-08-17 11:40:00.016000')), manual=Timerange(start=Timestamp('2015-08-17 11:39:57.436000'), end=Timestamp('2015-08-17 11:39:57.868000')), static=None, dynamic=Timerange(start=Timestamp('2015-08-17 11:39:57.436000'), end=Timestamp('2015-08-17 11:39:57.868000')))\n",
      "found additional timepoint in labels from labels file:\n",
      "LabelGroup(label_name='Grasp 1', automatic=Timerange(start=Timestamp('2015-08-17 11:40:33.508000'), end=Timestamp('2015-08-17 11:40:36.568000')), manual=Timerange(start=Timestamp('2015-08-17 11:40:34.228000'), end=Timestamp('2015-08-17 11:40:34.504000')), static=None, dynamic=Timerange(start=Timestamp('2015-08-17 11:40:34.228000'), end=Timestamp('2015-08-17 11:40:34.504000')))\n",
      "found additional timepoint in labels from labels file:\n",
      "LabelGroup(label_name='Grasp 1', automatic=Timerange(start=Timestamp('2015-08-17 11:40:39.604000'), end=Timestamp('2015-08-17 11:40:42.700000')), manual=Timerange(start=Timestamp('2015-08-17 11:40:40.564000'), end=Timestamp('2015-08-17 11:40:41.332000')), static=None, dynamic=Timerange(start=Timestamp('2015-08-17 11:40:40.564000'), end=Timestamp('2015-08-17 11:40:41.332000')))\n",
      "found additional timepoint in labels from labels file:\n",
      "LabelGroup(label_name='Grasp 2', automatic=Timerange(start=Timestamp('2015-08-17 11:41:15.796000'), end=Timestamp('2015-08-17 11:41:18.856000')), manual=Timerange(start=Timestamp('2015-08-17 11:41:16.984000'), end=Timestamp('2015-08-17 11:41:17.320000')), static=None, dynamic=Timerange(start=Timestamp('2015-08-17 11:41:16.984000'), end=Timestamp('2015-08-17 11:41:17.320000')))\n",
      "additionally found:\n",
      "[LabelGroup(label_name='(2) Two', automatic=Timerange(start=Timestamp('2015-08-17 11:47:29.608000'), end=Timestamp('2015-08-17 11:47:32.680000')), manual=Timerange(start=Timestamp('2015-08-17 11:47:30.496000'), end=Timestamp('2015-08-17 11:47:31.852000')), static=Timerange(start=Timestamp('2015-08-17 11:47:30.688000'), end=Timestamp('2015-08-17 11:47:31.852000')), dynamic=Timerange(start=Timestamp('2015-08-17 11:47:30.496000'), end=Timestamp('2015-08-17 11:47:30.652000'))), LabelGroup(label_name='(2) Two', automatic=Timerange(start=Timestamp('2015-08-17 11:47:35.704000'), end=Timestamp('2015-08-17 11:47:38.776000')), manual=Timerange(start=Timestamp('2015-08-17 11:47:36.424000'), end=Timestamp('2015-08-17 11:47:37.768000')), static=Timerange(start=Timestamp('2015-08-17 11:47:36.652000'), end=Timestamp('2015-08-17 11:47:37.768000')), dynamic=Timerange(start=Timestamp('2015-08-17 11:47:36.424000'), end=Timestamp('2015-08-17 11:47:36.664000'))), LabelGroup(label_name='(2) Two', automatic=Timerange(start=Timestamp('2015-08-17 11:47:41.800000'), end=Timestamp('2015-08-17 11:47:44.860000')), manual=Timerange(start=Timestamp('2015-08-17 11:47:42.460000'), end=Timestamp('2015-08-17 11:47:43.888000')), static=Timerange(start=Timestamp('2015-08-17 11:47:42.676000'), end=Timestamp('2015-08-17 11:47:43.888000')), dynamic=Timerange(start=Timestamp('2015-08-17 11:47:42.460000'), end=Timestamp('2015-08-17 11:47:42.676000'))), LabelGroup(label_name='(2) Two', automatic=Timerange(start=Timestamp('2015-08-17 11:47:47.896000'), end=Timestamp('2015-08-17 11:47:50.992000')), manual=Timerange(start=Timestamp('2015-08-17 11:47:48.952000'), end=Timestamp('2015-08-17 11:47:50.200000')), static=Timerange(start=Timestamp('2015-08-17 11:47:49.144000'), end=Timestamp('2015-08-17 11:47:50.200000')), dynamic=Timerange(start=Timestamp('2015-08-17 11:47:48.952000'), end=Timestamp('2015-08-17 11:47:49.144000'))), LabelGroup(label_name='(2) Two', automatic=Timerange(start=Timestamp('2015-08-17 11:47:53.992000'), end=Timestamp('2015-08-17 11:47:57.088000')), manual=Timerange(start=Timestamp('2015-08-17 11:47:54.952000'), end=Timestamp('2015-08-17 11:47:55.672000')), static=Timerange(start=Timestamp('2015-08-17 11:47:55.132000'), end=Timestamp('2015-08-17 11:47:55.672000')), dynamic=Timerange(start=Timestamp('2015-08-17 11:47:54.952000'), end=Timestamp('2015-08-17 11:47:55.084000')))]\n",
      "corrected groups differ between methods for  1.7064846416382253 %\n",
      "153\n",
      "153\n",
      "149\n",
      "149\n",
      "156\n",
      "160\n",
      "found additional timepoint in labels from labels file:\n",
      "LabelGroup(label_name='(4) Four', automatic=Timerange(start=Timestamp('2015-08-05 11:00:46.136000'), end=Timestamp('2015-08-05 11:00:49.148000')), manual=Timerange(start=Timestamp('2015-08-05 11:00:46.880000'), end=Timestamp('2015-08-05 11:00:47')), static=None, dynamic=Timerange(start=Timestamp('2015-08-05 11:00:46.880000'), end=Timestamp('2015-08-05 11:00:47')))\n",
      "found additional timepoint in labels from labels file:\n",
      "LabelGroup(label_name='Grasp 1', automatic=Timerange(start=Timestamp('2015-08-05 11:01:45.476000'), end=Timestamp('2015-08-05 11:01:48.488000')), manual=Timerange(start=Timestamp('2015-08-05 11:01:45.728000'), end=Timestamp('2015-08-05 11:01:46.520000')), static=None, dynamic=Timerange(start=Timestamp('2015-08-05 11:01:45.728000'), end=Timestamp('2015-08-05 11:01:46.520000')))\n",
      "found additional timepoint in labels from labels file:\n",
      "LabelGroup(label_name='Grasp 1', automatic=Timerange(start=Timestamp('2015-08-05 11:01:57.476000'), end=Timestamp('2015-08-05 11:02:00.488000')), manual=Timerange(start=Timestamp('2015-08-05 11:01:57.848000'), end=Timestamp('2015-08-05 11:01:58.568000')), static=None, dynamic=Timerange(start=Timestamp('2015-08-05 11:01:57.848000'), end=Timestamp('2015-08-05 11:01:58.568000')))\n",
      "found additional timepoint in labels from labels file:\n",
      "LabelGroup(label_name='Grasp 1', automatic=Timerange(start=Timestamp('2015-08-05 11:02:03.488000'), end=Timestamp('2015-08-05 11:02:06.488000')), manual=Timerange(start=Timestamp('2015-08-05 11:02:04.256000'), end=Timestamp('2015-08-05 11:02:04.640000')), static=None, dynamic=Timerange(start=Timestamp('2015-08-05 11:02:04.256000'), end=Timestamp('2015-08-05 11:02:04.640000')))\n",
      "additionally found:\n",
      "[LabelGroup(label_name='Thumbs up', automatic=Timerange(start=Timestamp('2015-08-05 11:11:57.656000'), end=Timestamp('2015-08-05 11:12:00.668000')), manual=Timerange(start=Timestamp('2015-08-05 11:11:59.216000'), end=Timestamp('2015-08-05 11:11:59.996000')), static=None, dynamic=Timerange(start=Timestamp('2015-08-05 11:11:59.216000'), end=Timestamp('2015-08-05 11:11:59.996000'))), LabelGroup(label_name='Thumbs up', automatic=Timerange(start=Timestamp('2015-08-05 11:12:03.656000'), end=Timestamp('2015-08-05 11:12:06.668000')), manual=Timerange(start=Timestamp('2015-08-05 11:12:04.052000'), end=Timestamp('2015-08-05 11:12:05.768000')), static=Timerange(start=Timestamp('2015-08-05 11:12:04.412000'), end=Timestamp('2015-08-05 11:12:05.768000')), dynamic=Timerange(start=Timestamp('2015-08-05 11:12:04.052000'), end=Timestamp('2015-08-05 11:12:04.412000'))), LabelGroup(label_name='Thumbs up', automatic=Timerange(start=Timestamp('2015-08-05 11:12:09.656000'), end=Timestamp('2015-08-05 11:12:12.668000')), manual=Timerange(start=Timestamp('2015-08-05 11:12:09.944000'), end=Timestamp('2015-08-05 11:12:11.504000')), static=Timerange(start=Timestamp('2015-08-05 11:12:10.100000'), end=Timestamp('2015-08-05 11:12:11.504000')), dynamic=Timerange(start=Timestamp('2015-08-05 11:12:09.944000'), end=Timestamp('2015-08-05 11:12:10.076000'))), LabelGroup(label_name='Thumbs up', automatic=Timerange(start=Timestamp('2015-08-05 11:12:15.656000'), end=Timestamp('2015-08-05 11:12:18.668000')), manual=Timerange(start=Timestamp('2015-08-05 11:12:15.980000'), end=Timestamp('2015-08-05 11:12:17.936000')), static=Timerange(start=Timestamp('2015-08-05 11:12:16.208000'), end=Timestamp('2015-08-05 11:12:17.936000')), dynamic=Timerange(start=Timestamp('2015-08-05 11:12:15.980000'), end=Timestamp('2015-08-05 11:12:16.172000')))]\n",
      "corrected groups differ between methods for  2.564102564102564 %\n",
      "308\n",
      "308\n",
      "152\n",
      "154\n",
      "found additional timepoint in labels from labels file:\n",
      "LabelGroup(label_name='Grasp 1', automatic=Timerange(start=Timestamp('2015-08-13 15:02:38.920000'), end=Timestamp('2015-08-13 15:02:41.980000')), manual=Timerange(start=Timestamp('2015-08-13 15:02:39.436000'), end=Timestamp('2015-08-13 15:02:39.688000')), static=None, dynamic=Timerange(start=Timestamp('2015-08-13 15:02:39.436000'), end=Timestamp('2015-08-13 15:02:39.688000')))\n",
      "found additional timepoint in labels from labels file:\n",
      "LabelGroup(label_name='Grasp 1', automatic=Timerange(start=Timestamp('2015-08-13 15:02:51.160000'), end=Timestamp('2015-08-13 15:02:54.208000')), manual=Timerange(start=Timestamp('2015-08-13 15:02:51.640000'), end=Timestamp('2015-08-13 15:02:51.988000')), static=None, dynamic=Timerange(start=Timestamp('2015-08-13 15:02:51.640000'), end=Timestamp('2015-08-13 15:02:51.988000')))\n",
      "additionally found:\n",
      "[LabelGroup(label_name='(3) Three', automatic=Timerange(start=Timestamp('2015-08-13 15:07:11.048000'), end=Timestamp('2015-08-13 15:07:14.096000')), manual=Timerange(start=Timestamp('2015-08-13 15:07:11.648000'), end=Timestamp('2015-08-13 15:07:12.596000')), static=Timerange(start=Timestamp('2015-08-13 15:07:11.876000'), end=Timestamp('2015-08-13 15:07:12.596000')), dynamic=Timerange(start=Timestamp('2015-08-13 15:07:11.648000'), end=Timestamp('2015-08-13 15:07:11.900000'))), LabelGroup(label_name='(3) Three', automatic=Timerange(start=Timestamp('2015-08-13 15:07:17.168000'), end=Timestamp('2015-08-13 15:07:20.216000')), manual=Timerange(start=Timestamp('2015-08-13 15:07:17.984000'), end=Timestamp('2015-08-13 15:07:19.028000')), static=Timerange(start=Timestamp('2015-08-13 15:07:18.404000'), end=Timestamp('2015-08-13 15:07:19.028000')), dynamic=Timerange(start=Timestamp('2015-08-13 15:07:17.984000'), end=Timestamp('2015-08-13 15:07:18.416000')))]\n",
      "corrected groups differ between methods for  1.3157894736842104 %\n",
      "153\n",
      "154\n",
      "found additional timepoint in labels from labels file:\n",
      "LabelGroup(label_name='Grasp 2', automatic=Timerange(start=Timestamp('2015-08-11 14:37:31.640000'), end=Timestamp('2015-08-11 14:37:34.676000')), manual=Timerange(start=Timestamp('2015-08-11 14:37:32.468000'), end=Timestamp('2015-08-11 14:37:32.756000')), static=None, dynamic=Timerange(start=Timestamp('2015-08-11 14:37:32.468000'), end=Timestamp('2015-08-11 14:37:32.756000')))\n",
      "additionally found:\n",
      "[LabelGroup(label_name='Waving', automatic=Timerange(start=Timestamp('2015-08-11 14:49:03.716000'), end=Timestamp('2015-08-11 14:49:06.752000')), manual=Timerange(start=Timestamp('2015-08-11 14:49:04.520000'), end=Timestamp('2015-08-11 14:49:05.804000')), static=None, dynamic=Timerange(start=Timestamp('2015-08-11 14:49:04.520000'), end=Timestamp('2015-08-11 14:49:05.804000')))]\n",
      "corrected groups differ between methods for  0.6535947712418301 %\n",
      "146\n",
      "152\n",
      "found additional timepoint in labels from labels file:\n",
      "LabelGroup(label_name='Calling', automatic=Timerange(start=Timestamp('2015-08-14 14:41:43.496000'), end=Timestamp('2015-08-14 14:41:46.544000')), manual=Timerange(start=Timestamp('2015-08-14 14:41:44.384000'), end=Timestamp('2015-08-14 14:41:44.552000')), static=None, dynamic=Timerange(start=Timestamp('2015-08-14 14:41:44.384000'), end=Timestamp('2015-08-14 14:41:44.552000')))\n",
      "found additional timepoint in labels from labels file:\n",
      "LabelGroup(label_name='Grasp 2', automatic=Timerange(start=Timestamp('2015-08-14 14:44:43.316000'), end=Timestamp('2015-08-14 14:44:46.364000')), manual=Timerange(start=Timestamp('2015-08-14 14:44:44.204000'), end=Timestamp('2015-08-14 14:44:44.624000')), static=None, dynamic=Timerange(start=Timestamp('2015-08-14 14:44:44.204000'), end=Timestamp('2015-08-14 14:44:44.624000')))\n",
      "found additional timepoint in labels from labels file:\n",
      "LabelGroup(label_name='Grasp 2', automatic=Timerange(start=Timestamp('2015-08-14 14:44:49.436000'), end=Timestamp('2015-08-14 14:44:52.484000')), manual=Timerange(start=Timestamp('2015-08-14 14:44:50.144000'), end=Timestamp('2015-08-14 14:44:50.432000')), static=None, dynamic=Timerange(start=Timestamp('2015-08-14 14:44:50.144000'), end=Timestamp('2015-08-14 14:44:50.432000')))\n",
      "found additional timepoint in labels from labels file:\n",
      "LabelGroup(label_name='Grasp 2', automatic=Timerange(start=Timestamp('2015-08-14 14:44:55.556000'), end=Timestamp('2015-08-14 14:44:58.604000')), manual=Timerange(start=Timestamp('2015-08-14 14:44:56.264000'), end=Timestamp('2015-08-14 14:44:56.504000')), static=None, dynamic=Timerange(start=Timestamp('2015-08-14 14:44:56.264000'), end=Timestamp('2015-08-14 14:44:56.504000')))\n",
      "found additional timepoint in labels from labels file:\n",
      "LabelGroup(label_name='Grasp 1', automatic=Timerange(start=Timestamp('2015-08-14 14:53:04.916000'), end=Timestamp('2015-08-14 14:53:07.964000')), manual=Timerange(start=Timestamp('2015-08-14 14:53:05.912000'), end=Timestamp('2015-08-14 14:53:06.260000')), static=None, dynamic=Timerange(start=Timestamp('2015-08-14 14:53:05.912000'), end=Timestamp('2015-08-14 14:53:06.260000')))\n",
      "found additional timepoint in labels from labels file:\n",
      "LabelGroup(label_name='Grasp 1', automatic=Timerange(start=Timestamp('2015-08-14 14:53:11.036000'), end=Timestamp('2015-08-14 14:53:14.072000')), manual=Timerange(start=Timestamp('2015-08-14 14:53:11.960000'), end=Timestamp('2015-08-14 14:53:12.152000')), static=None, dynamic=Timerange(start=Timestamp('2015-08-14 14:53:11.960000'), end=Timestamp('2015-08-14 14:53:12.152000')))\n",
      "additionally found:\n",
      "[LabelGroup(label_name='Zoom', automatic=Timerange(start=Timestamp('2015-08-14 15:00:19.616000'), end=Timestamp('2015-08-14 15:00:22.652000')), manual=Timerange(start=Timestamp('2015-08-14 15:00:20.444000'), end=Timestamp('2015-08-14 15:00:21.500000')), static=None, dynamic=Timerange(start=Timestamp('2015-08-14 15:00:20.444000'), end=Timestamp('2015-08-14 15:00:21.500000'))), LabelGroup(label_name='Zoom', automatic=Timerange(start=Timestamp('2015-08-14 15:00:25.676000'), end=Timestamp('2015-08-14 15:00:28.712000')), manual=Timerange(start=Timestamp('2015-08-14 15:00:26.492000'), end=Timestamp('2015-08-14 15:00:27.524000')), static=None, dynamic=Timerange(start=Timestamp('2015-08-14 15:00:26.492000'), end=Timestamp('2015-08-14 15:00:27.524000'))), LabelGroup(label_name='Scissor', automatic=Timerange(start=Timestamp('2015-08-14 15:00:41.456000'), end=Timestamp('2015-08-14 15:00:44.492000')), manual=Timerange(start=Timestamp('2015-08-14 15:00:42.212000'), end=Timestamp('2015-08-14 15:00:43.772000')), static=None, dynamic=Timerange(start=Timestamp('2015-08-14 15:00:42.212000'), end=Timestamp('2015-08-14 15:00:43.772000'))), LabelGroup(label_name='Scissor', automatic=Timerange(start=Timestamp('2015-08-14 15:00:47.504000'), end=Timestamp('2015-08-14 15:00:50.552000')), manual=Timerange(start=Timestamp('2015-08-14 15:00:48.224000'), end=Timestamp('2015-08-14 15:00:50.072000')), static=None, dynamic=Timerange(start=Timestamp('2015-08-14 15:00:48.224000'), end=Timestamp('2015-08-14 15:00:50.072000'))), LabelGroup(label_name='Scissor', automatic=Timerange(start=Timestamp('2015-08-14 15:00:53.624000'), end=Timestamp('2015-08-14 15:00:56.684000')), manual=Timerange(start=Timestamp('2015-08-14 15:00:54.152000'), end=Timestamp('2015-08-14 15:00:56.312000')), static=None, dynamic=Timerange(start=Timestamp('2015-08-14 15:00:54.152000'), end=Timestamp('2015-08-14 15:00:56.312000'))), LabelGroup(label_name='Scissor', automatic=Timerange(start=Timestamp('2015-08-14 15:00:59.744000'), end=Timestamp('2015-08-14 15:01:02.792000')), manual=Timerange(start=Timestamp('2015-08-14 15:01:00.392000'), end=Timestamp('2015-08-14 15:01:01.964000')), static=None, dynamic=Timerange(start=Timestamp('2015-08-14 15:01:00.392000'), end=Timestamp('2015-08-14 15:01:01.964000')))]\n",
      "corrected groups differ between methods for  4.10958904109589 %\n",
      "154\n",
      "154\n",
      "307\n",
      "308\n",
      "found additional timepoint in labels from labels file:\n",
      "LabelGroup(label_name='Grasp 1', automatic=Timerange(start=Timestamp('2015-08-11 16:28:16.552000'), end=Timestamp('2015-08-11 16:28:19.600000')), manual=Timerange(start=Timestamp('2015-08-11 16:28:17.188000'), end=Timestamp('2015-08-11 16:28:17.608000')), static=None, dynamic=Timerange(start=Timestamp('2015-08-11 16:28:17.188000'), end=Timestamp('2015-08-11 16:28:17.608000')))\n",
      "additionally found:\n",
      "[LabelGroup(label_name='(4) Four', automatic=Timerange(start=Timestamp('2015-08-11 16:54:43.864000'), end=Timestamp('2015-08-11 16:54:46.900000')), manual=Timerange(start=Timestamp('2015-08-11 16:54:44.392000'), end=Timestamp('2015-08-11 16:54:45.352000')), static=Timerange(start=Timestamp('2015-08-11 16:54:44.584000'), end=Timestamp('2015-08-11 16:54:45.352000')), dynamic=Timerange(start=Timestamp('2015-08-11 16:54:44.392000'), end=Timestamp('2015-08-11 16:54:44.584000')))]\n",
      "corrected groups differ between methods for  0.32573289902280134 %\n",
      "\n"
     ]
    }
   ],
   "source": [
    "for key, data in tqdm.tqdm_notebook(users.items()):\n",
    "    if not 'glove_merged' in data:\n",
    "        continue\n",
    "    compare_lbl_groups(data)"
   ]
  },
  {
   "cell_type": "markdown",
   "metadata": {},
   "source": [
    "We know from the experiment that each automatic label should take almost exactly 3s (in fact the loop is implemented to stop when the next received data is above 3s, and this is on it's own thread, so it is always a bit more than 3s). However, if the experiment is interrupted this can lead to a corrupted label. for that we first check if there are labels of the automatic type who have a different timing."
   ]
  },
  {
   "cell_type": "code",
   "execution_count": 18,
   "metadata": {},
   "outputs": [
    {
     "data": {
      "application/vnd.jupyter.widget-view+json": {
       "model_id": "f58944e482524cd9bc50646d5d754392",
       "version_major": 2,
       "version_minor": 0
      },
      "text/plain": [
       "HBox(children=(IntProgress(value=0, max=23), HTML(value='')))"
      ]
     },
     "metadata": {},
     "output_type": "display_data"
    },
    {
     "name": "stdout",
     "output_type": "stream",
     "text": [
      "check  AB73\n",
      "['dynamic and static gap too large', 'dynamic much longer than static', 'static and manual w. different end']\n",
      "['manual and dynamic w. different start']\n",
      "check  AF82\n",
      "check  AL29\n",
      "check  AW18\n",
      "['manual and dynamic w. different start', 'dynamic and static gap too large']\n",
      "check  CB23\n",
      "['dynamic and static gap too large']\n",
      "check  CB24\n",
      "check  CF58\n",
      "check  DG12\n",
      "check  DH42\n",
      "check  DL24\n",
      "['manual and dynamic w. different start', 'static and manual w. different end']\n",
      "check  JL61\n",
      "['dynamic and static gap too large', 'dynamic much longer than static', 'static and manual w. different end']\n",
      "['dynamic and static gap too large', 'dynamic much longer than static', 'static and manual w. different end']\n",
      "['dynamic and static gap too large', 'dynamic much longer than static', 'static and manual w. different end']\n",
      "['manual and dynamic w. different start', 'dynamic and static gap too large', 'dynamic much longer than static', 'static and manual w. different end']\n",
      "check  JQ28\n",
      "['dynamic and static gap too large', 'dynamic much longer than static', 'static and manual w. different end']\n",
      "check  JS52\n",
      "check  MF20\n",
      "check  MS55\n",
      "check  PC29\n",
      "['manual and dynamic w. different start', 'dynamic and static gap too large', 'dynamic much longer than static', 'static and manual w. different end']\n",
      "check  PM32\n",
      "['dynamic and static gap too large', 'dynamic much longer than static', 'static and manual w. different end']\n",
      "check  PS42\n",
      "['dynamic and static gap too large']\n",
      "check  RR45\n",
      "check  RW32\n",
      "['dynamic and static gap too large']\n",
      "check  SF1\n",
      "check  YW13\n",
      "\n",
      "total errors found:  14\n"
     ]
    }
   ],
   "source": [
    "# to help debug we can (and also later after corrections) two the following:\n",
    "# first asses the constrains that the number of automatic labels must be equal \n",
    "# to the number of manual labels equal to the number of dynamic labels and equal\n",
    "# to the number of static labels. We could also create a hierachy.\n",
    "# Also a dynamic label is always followed by a static label and so on\n",
    "\n",
    "# Then we can try to do the same visualizations like for the experiments with the\n",
    "# apple watch.\n",
    "\n",
    "def check_label_group_constrains(user_data, groups_key):\n",
    "    #for aut, man, dyn, stat in zip(groups_automatic, groups_manual, groups_dynamic, groups_static):\n",
    "    errors_found = 0\n",
    "    lgl_groups = []\n",
    "    for g in user_data[groups_key]:\n",
    "        reasons = []\n",
    "        if not g.verify(reasons, (Constants.dt_t * 21)):\n",
    "            errors_found += 1\n",
    "            print(reasons)\n",
    "            if not (('automatic label too short' in reasons) or ('automatic label too long' in reasons)):\n",
    "                lgl_groups.append(g) \n",
    "        else:\n",
    "            lgl_groups.append(g)\n",
    "    user_data[groups_key] = lgl_groups\n",
    "    return errors_found\n",
    "\n",
    "def check_group_to_data_correspondence_ok():\n",
    "    # if a group has a start and end time check that in the data it is also really this time it is annotated\n",
    "    pass\n",
    "\n",
    "def visualize_labels():\n",
    "    pass\n",
    "\n",
    "errors_found = 0\n",
    "for key, data in tqdm.tqdm_notebook(users.items()):\n",
    "    if not 'glove_merged' in data:\n",
    "        continue\n",
    "    print('check ', key)\n",
    "    errors_found += check_label_group_constrains(data, 'lbl_groups') #_fl\n",
    "print('total errors found: ', errors_found)"
   ]
  },
  {
   "cell_type": "markdown",
   "metadata": {},
   "source": [
    "We now exclude all the rows with erroneous automatic labels. This also removes all the wrong labels of the other label types as they are always contained within automatic labels."
   ]
  },
  {
   "cell_type": "markdown",
   "metadata": {},
   "source": [
    "next we print a summary of all the timings again"
   ]
  },
  {
   "cell_type": "code",
   "execution_count": 14,
   "metadata": {},
   "outputs": [
    {
     "name": "stdout",
     "output_type": "stream",
     "text": [
      "\n",
      "user name:  AB73\n",
      "pin type:  stats_manual\n",
      "there are 298 short labels, who take 0 days 00:00:00.991006 time on avarage and should take 0:00:01.003007\n",
      "there are 24 low mid labels, who take 0 days 00:00:01.753500 time on avarage and should take 0:00:01.765500\n",
      "there are no examples for high mid labels\n",
      "there are no examples for long labels\n",
      "\n",
      "user name:  AF82\n",
      "pin type:  stats_manual\n",
      "there are 153 short labels, who take 0 days 00:00:00.968784 time on avarage and should take 0:00:00.980784\n",
      "there are 10 low mid labels, who take 0 days 00:00:01.702800 time on avarage and should take 0:00:01.714800\n",
      "there are no examples for high mid labels\n",
      "there are no examples for long labels\n",
      "\n",
      "user name:  AL29\n",
      "pin type:  stats_manual\n",
      "there are 293 short labels, who take 0 days 00:00:01.024382 time on avarage and should take 0:00:01.036382\n",
      "there are 19 low mid labels, who take 0 days 00:00:01.728000 time on avarage and should take 0:00:01.740000\n",
      "there are 1 high mid labels, who take 0 days 00:00:02.868000 time on avarage and should take 0:00:02.880000\n",
      "there are no examples for long labels\n",
      "\n",
      "user name:  AW18\n",
      "pin type:  stats_manual\n",
      "there are 116 short labels, who take 0 days 00:00:01.035931 time on avarage and should take 0:00:01.047931\n",
      "there are 42 low mid labels, who take 0 days 00:00:01.709142 time on avarage and should take 0:00:01.721143\n",
      "there are no examples for high mid labels\n",
      "there are no examples for long labels\n",
      "\n",
      "user name:  CB23\n",
      "pin type:  stats_manual\n",
      "there are 99 short labels, who take 0 days 00:00:01.198787 time on avarage and should take 0:00:01.210788\n",
      "there are 58 low mid labels, who take 0 days 00:00:01.749310 time on avarage and should take 0:00:01.761310\n",
      "there are no examples for high mid labels\n",
      "there are no examples for long labels\n",
      "\n",
      "user name:  CB24\n",
      "pin type:  stats_manual\n",
      "there are 148 short labels, who take 0 days 00:00:00.987405 time on avarage and should take 0:00:00.999405\n",
      "there are 8 low mid labels, who take 0 days 00:00:01.689000 time on avarage and should take 0:00:01.701000\n",
      "there are no examples for high mid labels\n",
      "there are no examples for long labels\n",
      "\n",
      "user name:  CF58\n",
      "pin type:  stats_manual\n",
      "there are 150 short labels, who take 0 days 00:00:00.963120 time on avarage and should take 0:00:00.975120\n",
      "there are 21 low mid labels, who take 0 days 00:00:01.713142 time on avarage and should take 0:00:01.725143\n",
      "there are no examples for high mid labels\n",
      "there are no examples for long labels\n",
      "\n",
      "user name:  DG12\n",
      "pin type:  stats_manual\n",
      "there are 140 short labels, who take 0 days 00:00:00.843942 time on avarage and should take 0:00:00.855943\n",
      "there are 15 low mid labels, who take 0 days 00:00:01.700000 time on avarage and should take 0:00:01.712000\n",
      "there are no examples for high mid labels\n",
      "there are no examples for long labels\n",
      "\n",
      "user name:  DH42\n",
      "pin type:  stats_manual\n",
      "there are 136 short labels, who take 0 days 00:00:00.892235 time on avarage and should take 0:00:00.904235\n",
      "there are 18 low mid labels, who take 0 days 00:00:01.809333 time on avarage and should take 0:00:01.821333\n",
      "there are 1 high mid labels, who take 0 days 00:00:02.676000 time on avarage and should take 0:00:02.688000\n",
      "there are no examples for long labels\n",
      "\n",
      "user name:  DL24\n",
      "pin type:  stats_manual\n",
      "there are 185 short labels, who take 0 days 00:00:00.980172 time on avarage and should take 0:00:00.992173\n",
      "there are 125 low mid labels, who take 0 days 00:00:01.804896 time on avarage and should take 0:00:01.816896\n",
      "there are no examples for high mid labels\n",
      "there are no examples for long labels\n",
      "\n",
      "user name:  JL61\n",
      "pin type:  stats_manual\n",
      "there are 165 short labels, who take 0 days 00:00:00.956072 time on avarage and should take 0:00:00.968073\n",
      "there are 6 low mid labels, who take 0 days 00:00:01.720000 time on avarage and should take 0:00:01.732000\n",
      "there are no examples for high mid labels\n",
      "there are no examples for long labels\n",
      "\n",
      "user name:  JQ28\n",
      "pin type:  stats_manual\n",
      "there are 215 short labels, who take 0 days 00:00:01.029041 time on avarage and should take 0:00:01.041042\n",
      "there are 96 low mid labels, who take 0 days 00:00:01.837250 time on avarage and should take 0:00:01.849250\n",
      "there are 2 high mid labels, who take 0 days 00:00:02.724000 time on avarage and should take 0:00:02.736000\n",
      "there are no examples for long labels\n",
      "\n",
      "user name:  JS52\n",
      "pin type:  stats_manual\n",
      "there are 235 short labels, who take 0 days 00:00:01.090468 time on avarage and should take 0:00:01.102468\n",
      "there are 79 low mid labels, who take 0 days 00:00:01.753367 time on avarage and should take 0:00:01.765367\n",
      "there are 3 high mid labels, who take 0 days 00:00:03.056000 time on avarage and should take 0:00:03.068000\n",
      "there are no examples for long labels\n",
      "\n",
      "user name:  MF20\n",
      "pin type:  stats_manual\n",
      "there are 74 short labels, who take 0 days 00:00:01.154594 time on avarage and should take 0:00:01.166595\n",
      "there are 85 low mid labels, who take 0 days 00:00:01.845600 time on avarage and should take 0:00:01.857600\n",
      "there are 1 high mid labels, who take 0 days 00:00:02.556000 time on avarage and should take 0:00:02.568000\n",
      "there are no examples for long labels\n",
      "\n",
      "user name:  MS55\n",
      "pin type:  stats_manual\n",
      "there are 150 short labels, who take 0 days 00:00:00.917360 time on avarage and should take 0:00:00.929360\n",
      "there are 4 low mid labels, who take 0 days 00:00:01.608000 time on avarage and should take 0:00:01.620000\n",
      "there are no examples for high mid labels\n",
      "there are 1 long labels, who take 0 days 00:00:03.888000 time on avarage and should take 0:00:03.900000\n",
      "\n",
      "user name:  PC29\n",
      "pin type:  stats_manual\n",
      "there are 99 short labels, who take 0 days 00:00:01.089454 time on avarage and should take 0:00:01.101455\n",
      "there are 72 low mid labels, who take 0 days 00:00:01.793833 time on avarage and should take 0:00:01.805833\n",
      "there are 5 high mid labels, who take 0 days 00:00:02.728800 time on avarage and should take 0:00:02.740800\n",
      "there are no examples for long labels\n",
      "\n",
      "user name:  PM32\n",
      "pin type:  stats_manual\n",
      "there are 302 short labels, who take 0 days 00:00:01.021311 time on avarage and should take 0:00:01.033311\n",
      "there are 10 low mid labels, who take 0 days 00:00:01.548000 time on avarage and should take 0:00:01.560000\n",
      "there are no examples for high mid labels\n",
      "there are no examples for long labels\n",
      "\n",
      "user name:  PS42\n",
      "pin type:  stats_manual\n",
      "there are 144 short labels, who take 0 days 00:00:00.836833 time on avarage and should take 0:00:00.848833\n",
      "there are 9 low mid labels, who take 0 days 00:00:01.982666 time on avarage and should take 0:00:01.994667\n",
      "there are 2 high mid labels, who take 0 days 00:00:02.586000 time on avarage and should take 0:00:02.598000\n",
      "there are no examples for long labels\n",
      "\n",
      "user name:  RR45\n",
      "pin type:  stats_manual\n",
      "there are 146 short labels, who take 0 days 00:00:00.893095 time on avarage and should take 0:00:00.905096\n",
      "there are 13 low mid labels, who take 0 days 00:00:01.764000 time on avarage and should take 0:00:01.776000\n",
      "there are no examples for high mid labels\n",
      "there are no examples for long labels\n",
      "\n",
      "user name:  RW32\n",
      "pin type:  stats_manual\n",
      "there are 106 short labels, who take 0 days 00:00:00.932943 time on avarage and should take 0:00:00.944943\n",
      "there are 47 low mid labels, who take 0 days 00:00:01.856680 time on avarage and should take 0:00:01.868681\n",
      "there are 2 high mid labels, who take 0 days 00:00:02.520000 time on avarage and should take 0:00:02.532000\n",
      "there are no examples for long labels\n",
      "\n",
      "user name:  SF1\n",
      "pin type:  stats_manual\n",
      "there are 121 short labels, who take 0 days 00:00:01.126611 time on avarage and should take 0:00:01.138612\n",
      "there are 40 low mid labels, who take 0 days 00:00:01.706100 time on avarage and should take 0:00:01.718100\n",
      "there are no examples for high mid labels\n",
      "there are no examples for long labels\n",
      "\n",
      "user name:  YW13\n",
      "pin type:  stats_manual\n",
      "there are 293 short labels, who take 0 days 00:00:00.916832 time on avarage and should take 0:00:00.928833\n",
      "there are 18 low mid labels, who take 0 days 00:00:01.724666 time on avarage and should take 0:00:01.736667\n",
      "there are 1 high mid labels, who take 0 days 00:00:02.508000 time on avarage and should take 0:00:02.520000\n",
      "there are no examples for long labels\n",
      "\n",
      "user name:  AB73\n",
      "pin type:  stats_dynamic\n",
      "there are 298 short labels, who take 0 days 00:00:00.799006 time on avarage and should take 0:00:00.811007\n",
      "there are 17 low mid labels, who take 0 days 00:00:01.773176 time on avarage and should take 0:00:01.785176\n",
      "there are no examples for high mid labels\n",
      "there are no examples for long labels\n",
      "\n",
      "user name:  AF82\n",
      "pin type:  stats_dynamic\n",
      "there are 150 short labels, who take 0 days 00:00:00.782000 time on avarage and should take 0:00:00.794000\n",
      "there are 8 low mid labels, who take 0 days 00:00:01.681500 time on avarage and should take 0:00:01.693500\n",
      "there are no examples for high mid labels\n",
      "there are no examples for long labels\n",
      "\n",
      "user name:  AL29\n",
      "pin type:  stats_dynamic\n",
      "there are 306 short labels, who take 0 days 00:00:00.740901 time on avarage and should take 0:00:00.752902\n",
      "there are 4 low mid labels, who take 0 days 00:00:01.626000 time on avarage and should take 0:00:01.638000\n",
      "there are no examples for high mid labels\n",
      "there are no examples for long labels\n",
      "\n",
      "user name:  AW18\n",
      "pin type:  stats_dynamic\n",
      "there are 127 short labels, who take 0 days 00:00:00.784535 time on avarage and should take 0:00:00.796535\n",
      "there are 28 low mid labels, who take 0 days 00:00:01.692428 time on avarage and should take 0:00:01.704429\n",
      "there are no examples for high mid labels\n",
      "there are no examples for long labels\n",
      "\n",
      "user name:  CB23\n",
      "pin type:  stats_dynamic\n",
      "there are 123 short labels, who take 0 days 00:00:00.874829 time on avarage and should take 0:00:00.886829\n",
      "there are 32 low mid labels, who take 0 days 00:00:01.728750 time on avarage and should take 0:00:01.740750\n",
      "there are no examples for high mid labels\n",
      "there are no examples for long labels\n",
      "\n",
      "user name:  CB24\n",
      "pin type:  stats_dynamic\n",
      "there are 150 short labels, who take 0 days 00:00:00.821280 time on avarage and should take 0:00:00.833280\n",
      "there are 5 low mid labels, who take 0 days 00:00:01.718400 time on avarage and should take 0:00:01.730400\n",
      "there are no examples for high mid labels\n",
      "there are no examples for long labels\n",
      "\n",
      "user name:  CF58\n",
      "pin type:  stats_dynamic\n",
      "there are 151 short labels, who take 0 days 00:00:00.761960 time on avarage and should take 0:00:00.773960\n",
      "there are 18 low mid labels, who take 0 days 00:00:01.726666 time on avarage and should take 0:00:01.738667\n",
      "there are no examples for high mid labels\n",
      "there are no examples for long labels\n",
      "\n",
      "user name:  DG12\n",
      "pin type:  stats_dynamic\n",
      "there are 150 short labels, who take 0 days 00:00:00.619680 time on avarage and should take 0:00:00.631680\n",
      "there are 5 low mid labels, who take 0 days 00:00:01.576800 time on avarage and should take 0:00:01.588800\n",
      "there are no examples for high mid labels\n",
      "there are no examples for long labels\n",
      "\n",
      "user name:  DH42\n",
      "pin type:  stats_dynamic\n",
      "there are 143 short labels, who take 0 days 00:00:00.626769 time on avarage and should take 0:00:00.638769\n",
      "there are 11 low mid labels, who take 0 days 00:00:01.576363 time on avarage and should take 0:00:01.588364\n",
      "there are no examples for high mid labels\n",
      "there are no examples for long labels\n",
      "\n",
      "user name:  DL24\n",
      "pin type:  stats_dynamic\n",
      "there are 267 short labels, who take 0 days 00:00:00.665303 time on avarage and should take 0:00:00.677303\n",
      "there are 42 low mid labels, who take 0 days 00:00:01.821428 time on avarage and should take 0:00:01.833429\n",
      "there are no examples for high mid labels\n",
      "there are no examples for long labels\n",
      "\n",
      "user name:  JL61\n",
      "pin type:  stats_dynamic\n",
      "there are 163 short labels, who take 0 days 00:00:00.789570 time on avarage and should take 0:00:00.801571\n",
      "there are 5 low mid labels, who take 0 days 00:00:01.740000 time on avarage and should take 0:00:01.752000\n",
      "there are no examples for high mid labels\n",
      "there are no examples for long labels\n",
      "\n",
      "user name:  JQ28\n",
      "pin type:  stats_dynamic\n",
      "there are 261 short labels, who take 0 days 00:00:00.699172 time on avarage and should take 0:00:00.711172\n",
      "there are 52 low mid labels, who take 0 days 00:00:01.788923 time on avarage and should take 0:00:01.800923\n",
      "there are no examples for high mid labels\n",
      "there are no examples for long labels\n",
      "\n",
      "user name:  JS52\n",
      "pin type:  stats_dynamic\n",
      "there are 276 short labels, who take 0 days 00:00:00.731130 time on avarage and should take 0:00:00.743130\n",
      "there are 36 low mid labels, who take 0 days 00:00:01.666666 time on avarage and should take 0:00:01.678667\n",
      "there are no examples for high mid labels\n",
      "there are no examples for long labels\n",
      "\n",
      "user name:  MF20\n",
      "pin type:  stats_dynamic\n",
      "there are 110 short labels, who take 0 days 00:00:00.795381 time on avarage and should take 0:00:00.807382\n",
      "there are 47 low mid labels, who take 0 days 00:00:01.856680 time on avarage and should take 0:00:01.868681\n",
      "there are 1 high mid labels, who take 0 days 00:00:02.556000 time on avarage and should take 0:00:02.568000\n",
      "there are no examples for long labels\n",
      "\n",
      "user name:  MS55\n",
      "pin type:  stats_dynamic\n",
      "there are 149 short labels, who take 0 days 00:00:00.765583 time on avarage and should take 0:00:00.777584\n",
      "there are 4 low mid labels, who take 0 days 00:00:01.608000 time on avarage and should take 0:00:01.620000\n",
      "there are no examples for high mid labels\n",
      "there are 1 long labels, who take 0 days 00:00:03.888000 time on avarage and should take 0:00:03.900000\n",
      "\n",
      "user name:  PC29\n",
      "pin type:  stats_dynamic\n",
      "there are 130 short labels, who take 0 days 00:00:00.834276 time on avarage and should take 0:00:00.846277\n",
      "there are 40 low mid labels, who take 0 days 00:00:01.818600 time on avarage and should take 0:00:01.830600\n",
      "there are no examples for high mid labels\n",
      "there are no examples for long labels\n",
      "\n",
      "user name:  PM32\n",
      "pin type:  stats_dynamic\n",
      "there are 301 short labels, who take 0 days 00:00:00.714059 time on avarage and should take 0:00:00.726060\n",
      "there are 9 low mid labels, who take 0 days 00:00:01.552000 time on avarage and should take 0:00:01.564000\n",
      "there are no examples for high mid labels\n",
      "there are no examples for long labels\n",
      "\n",
      "user name:  PS42\n",
      "pin type:  stats_dynamic\n",
      "there are 154 short labels, who take 0 days 00:00:00.638883 time on avarage and should take 0:00:00.650883\n",
      "there are 1 low mid labels, who take 0 days 00:00:01.620000 time on avarage and should take 0:00:01.632000\n",
      "there are no examples for high mid labels\n",
      "there are no examples for long labels\n",
      "\n",
      "user name:  RR45\n",
      "pin type:  stats_dynamic\n",
      "there are 150 short labels, who take 0 days 00:00:00.658720 time on avarage and should take 0:00:00.670720\n",
      "there are 5 low mid labels, who take 0 days 00:00:01.588800 time on avarage and should take 0:00:01.600800\n",
      "there are no examples for high mid labels\n",
      "there are no examples for long labels\n",
      "\n",
      "user name:  RW32\n",
      "pin type:  stats_dynamic\n",
      "there are 123 short labels, who take 0 days 00:00:00.598341 time on avarage and should take 0:00:00.610341\n",
      "there are 31 low mid labels, who take 0 days 00:00:01.770580 time on avarage and should take 0:00:01.782581\n",
      "there are no examples for high mid labels\n",
      "there are no examples for long labels\n",
      "\n",
      "user name:  SF1\n",
      "pin type:  stats_dynamic\n",
      "there are 148 short labels, who take 0 days 00:00:00.776189 time on avarage and should take 0:00:00.788189\n",
      "there are 9 low mid labels, who take 0 days 00:00:01.624000 time on avarage and should take 0:00:01.636000\n",
      "there are no examples for high mid labels\n",
      "there are no examples for long labels\n",
      "\n",
      "user name:  YW13\n",
      "pin type:  stats_dynamic\n",
      "there are 304 short labels, who take 0 days 00:00:00.701131 time on avarage and should take 0:00:00.713132\n",
      "there are 5 low mid labels, who take 0 days 00:00:01.569600 time on avarage and should take 0:00:01.581600\n",
      "there are no examples for high mid labels\n",
      "there are no examples for long labels\n",
      "\n",
      "user name:  AB73\n",
      "pin type:  stats_static\n",
      "there are 103 short labels, who take 0 days 00:00:00.673747 time on avarage and should take 0:00:00.685748\n",
      "there are 2 low mid labels, who take 0 days 00:00:01.584000 time on avarage and should take 0:00:01.596000\n",
      "there are no examples for high mid labels\n",
      "there are no examples for long labels\n",
      "\n",
      "user name:  AF82\n",
      "pin type:  stats_static\n",
      "there are 59 short labels, who take 0 days 00:00:00.623186 time on avarage and should take 0:00:00.635186\n",
      "there are no examples for low mid labels\n",
      "there are no examples for high mid labels\n",
      "there are no examples for long labels\n",
      "\n",
      "user name:  AL29\n",
      "pin type:  stats_static\n",
      "there are 104 short labels, who take 0 days 00:00:00.909000 time on avarage and should take 0:00:00.921000\n",
      "there are 6 low mid labels, who take 0 days 00:00:01.780000 time on avarage and should take 0:00:01.792000\n",
      "there are no examples for high mid labels\n",
      "there are no examples for long labels\n",
      "\n",
      "user name:  AW18\n",
      "pin type:  stats_static\n",
      "there are 45 short labels, who take 0 days 00:00:00.881066 time on avarage and should take 0:00:00.893067\n",
      "there are 3 low mid labels, who take 0 days 00:00:01.680000 time on avarage and should take 0:00:01.692000\n",
      "there are no examples for high mid labels\n",
      "there are no examples for long labels\n",
      "\n",
      "user name:  CB23\n",
      "pin type:  stats_static\n",
      "there are 44 short labels, who take 0 days 00:00:01.138909 time on avarage and should take 0:00:01.150909\n",
      "there are 5 low mid labels, who take 0 days 00:00:01.612800 time on avarage and should take 0:00:01.624800\n",
      "there are no examples for high mid labels\n",
      "there are no examples for long labels\n",
      "\n",
      "user name:  CB24\n",
      "pin type:  stats_static\n",
      "there are 41 short labels, who take 0 days 00:00:00.672585 time on avarage and should take 0:00:00.684585\n",
      "there are no examples for low mid labels\n",
      "there are no examples for high mid labels\n",
      "there are no examples for long labels\n",
      "\n",
      "user name:  CF58\n",
      "pin type:  stats_static\n",
      "there are 48 short labels, who take 0 days 00:00:00.741250 time on avarage and should take 0:00:00.753250\n",
      "there are 1 low mid labels, who take 0 days 00:00:01.500000 time on avarage and should take 0:00:01.512000\n",
      "there are no examples for high mid labels\n",
      "there are no examples for long labels\n",
      "\n",
      "user name:  DG12\n",
      "pin type:  stats_static\n",
      "there are 50 short labels, who take 0 days 00:00:00.746880 time on avarage and should take 0:00:00.758880\n",
      "there are 4 low mid labels, who take 0 days 00:00:01.680000 time on avarage and should take 0:00:01.692000\n",
      "there are no examples for high mid labels\n",
      "there are no examples for long labels\n",
      "\n",
      "user name:  DH42\n",
      "pin type:  stats_static\n",
      "there are 46 short labels, who take 0 days 00:00:00.748956 time on avarage and should take 0:00:00.760957\n",
      "there are 8 low mid labels, who take 0 days 00:00:01.957500 time on avarage and should take 0:00:01.969500\n",
      "there are no examples for high mid labels\n",
      "there are no examples for long labels\n",
      "\n",
      "user name:  DL24\n",
      "pin type:  stats_static\n",
      "there are 61 short labels, who take 0 days 00:00:01.210032 time on avarage and should take 0:00:01.222033\n",
      "there are 47 low mid labels, who take 0 days 00:00:01.758638 time on avarage and should take 0:00:01.770638\n",
      "there are no examples for high mid labels\n",
      "there are no examples for long labels\n",
      "\n",
      "user name:  JL61\n",
      "pin type:  stats_static\n",
      "there are 56 short labels, who take 0 days 00:00:00.619500 time on avarage and should take 0:00:00.631500\n",
      "there are no examples for low mid labels\n",
      "there are no examples for high mid labels\n",
      "there are no examples for long labels\n",
      "\n",
      "user name:  JQ28\n",
      "pin type:  stats_static\n",
      "there are 83 short labels, who take 0 days 00:00:00.969975 time on avarage and should take 0:00:00.981976\n",
      "there are 26 low mid labels, who take 0 days 00:00:01.883538 time on avarage and should take 0:00:01.895538\n",
      "there are 1 high mid labels, who take 0 days 00:00:02.544000 time on avarage and should take 0:00:02.556000\n",
      "there are no examples for long labels\n",
      "\n",
      "user name:  JS52\n",
      "pin type:  stats_static\n",
      "there are 80 short labels, who take 0 days 00:00:01.142550 time on avarage and should take 0:00:01.154550\n",
      "there are 27 low mid labels, who take 0 days 00:00:01.764888 time on avarage and should take 0:00:01.776889\n",
      "there are 2 high mid labels, who take 0 days 00:00:02.742000 time on avarage and should take 0:00:02.754000\n",
      "there are no examples for long labels\n",
      "\n",
      "user name:  MF20\n",
      "pin type:  stats_static\n",
      "there are 32 short labels, who take 0 days 00:00:01.137375 time on avarage and should take 0:00:01.149375\n",
      "there are 18 low mid labels, who take 0 days 00:00:01.690000 time on avarage and should take 0:00:01.702000\n",
      "there are no examples for high mid labels\n",
      "there are no examples for long labels\n",
      "\n",
      "user name:  MS55\n",
      "pin type:  stats_static\n",
      "there are 52 short labels, who take 0 days 00:00:00.529384 time on avarage and should take 0:00:00.541385\n",
      "there are no examples for low mid labels\n",
      "there are no examples for high mid labels\n",
      "there are no examples for long labels\n",
      "\n",
      "user name:  PC29\n",
      "pin type:  stats_static\n",
      "there are 38 short labels, who take 0 days 00:00:01.066421 time on avarage and should take 0:00:01.078421\n",
      "there are 15 low mid labels, who take 0 days 00:00:01.784000 time on avarage and should take 0:00:01.796000\n",
      "there are 1 high mid labels, who take 0 days 00:00:02.508000 time on avarage and should take 0:00:02.520000\n",
      "there are no examples for long labels\n",
      "\n",
      "user name:  PM32\n",
      "pin type:  stats_static\n",
      "there are 108 short labels, who take 0 days 00:00:00.875111 time on avarage and should take 0:00:00.887111\n",
      "there are no examples for low mid labels\n",
      "there are no examples for high mid labels\n",
      "there are no examples for long labels\n",
      "\n",
      "user name:  PS42\n",
      "pin type:  stats_static\n",
      "there are 46 short labels, who take 0 days 00:00:00.646956 time on avarage and should take 0:00:00.658957\n",
      "there are 8 low mid labels, who take 0 days 00:00:01.978500 time on avarage and should take 0:00:01.990500\n",
      "there are no examples for high mid labels\n",
      "there are no examples for long labels\n",
      "\n",
      "user name:  RR45\n",
      "pin type:  stats_static\n",
      "there are 49 short labels, who take 0 days 00:00:00.799102 time on avarage and should take 0:00:00.811102\n",
      "there are 4 low mid labels, who take 0 days 00:00:01.803000 time on avarage and should take 0:00:01.815000\n",
      "there are no examples for high mid labels\n",
      "there are no examples for long labels\n",
      "\n",
      "user name:  RW32\n",
      "pin type:  stats_static\n",
      "there are 39 short labels, who take 0 days 00:00:00.887384 time on avarage and should take 0:00:00.899385\n",
      "there are 15 low mid labels, who take 0 days 00:00:01.910400 time on avarage and should take 0:00:01.922400\n",
      "there are no examples for high mid labels\n",
      "there are no examples for long labels\n",
      "\n",
      "user name:  SF1\n",
      "pin type:  stats_static\n",
      "there are 50 short labels, who take 0 days 00:00:01.169760 time on avarage and should take 0:00:01.181760\n",
      "there are 10 low mid labels, who take 0 days 00:00:01.611600 time on avarage and should take 0:00:01.623600\n",
      "there are no examples for high mid labels\n",
      "there are no examples for long labels\n",
      "\n",
      "user name:  YW13\n",
      "pin type:  stats_static\n",
      "there are 86 short labels, who take 0 days 00:00:00.785441 time on avarage and should take 0:00:00.797442\n",
      "there are 9 low mid labels, who take 0 days 00:00:01.740000 time on avarage and should take 0:00:01.752000\n",
      "there are no examples for high mid labels\n",
      "there are no examples for long labels\n"
     ]
    }
   ],
   "source": [
    "for pin_type in ['stats_manual', 'stats_dynamic', 'stats_static']:\n",
    "    for key, data in users.items():\n",
    "        if pin_type not in data: #AE30!\n",
    "            continue\n",
    "        summary_for(pin_type, key, data)\n",
    "# then visualize"
   ]
  },
  {
   "cell_type": "markdown",
   "metadata": {},
   "source": [
    "An alternative is to look up in the original parts of a file, and recover the start and end times there. If you do both you can compare the results to have an integrity check of the data within the labels."
   ]
  },
  {
   "cell_type": "code",
   "execution_count": null,
   "metadata": {},
   "outputs": [],
   "source": [
    "# check original label data"
   ]
  },
  {
   "cell_type": "code",
   "execution_count": 15,
   "metadata": {},
   "outputs": [],
   "source": [
    "# in case the script above worked, execute that line:\n",
    "with open( time_groups_path_pickl, \"wb\" ) as users_pickle_file:\n",
    "    pickle.dump(users, users_pickle_file)"
   ]
  },
  {
   "cell_type": "code",
   "execution_count": 16,
   "metadata": {},
   "outputs": [],
   "source": [
    "# in case you need to reload, and know it exists:\n",
    "with open( time_groups_path_pickl, \"rb\" ) as users_pickle_file:\n",
    "    users = pickle.load(users_pickle_file)"
   ]
  },
  {
   "cell_type": "markdown",
   "metadata": {},
   "source": [
    "Sometimes the hardware did not give correct values. In that case the records where set to NaN. If such a record falls outside a label, it is just deleted. If it is inside a label we need to check if the label did not loose to much data. If more than 10% of the records of a label are corrupted, we delete the whole label. Additionally we sometimes had (mostly out of hardware errors) to restart an experiment. If that was while a labels was recorded, the automatic labeling would not have it's standart width. Therefor we need to discard all data where the automatic labeling does not have the standart amound of time."
   ]
  },
  {
   "cell_type": "code",
   "execution_count": null,
   "metadata": {},
   "outputs": [],
   "source": [
    "# do that check"
   ]
  },
  {
   "cell_type": "markdown",
   "metadata": {},
   "source": [
    "Next I want to show the basic structure of the data."
   ]
  },
  {
   "cell_type": "code",
   "execution_count": 17,
   "metadata": {
    "scrolled": true
   },
   "outputs": [
    {
     "data": {
      "text/plain": [
       "11"
      ]
     },
     "execution_count": 17,
     "metadata": {},
     "output_type": "execute_result"
    }
   ],
   "source": [
    "users['AF82']['filecount']"
   ]
  },
  {
   "cell_type": "code",
   "execution_count": 18,
   "metadata": {},
   "outputs": [
    {
     "name": "stdout",
     "output_type": "stream",
     "text": [
      "dict_keys(['AB73', 'AE30', 'AF82', 'AL29', 'AW18', 'CB23', 'CB24', 'CF58', 'DG12', 'DH42', 'DL24', 'JL61', 'JQ28', 'JS52', 'MF20', 'MS55', 'PC29', 'PM32', 'PS42', 'RR45', 'RW32', 'SF1', 'YW13'])\n"
     ]
    }
   ],
   "source": [
    "# correct corrupted labels\n",
    "print(users.keys())"
   ]
  },
  {
   "cell_type": "code",
   "execution_count": 19,
   "metadata": {},
   "outputs": [
    {
     "name": "stdout",
     "output_type": "stream",
     "text": [
      "we have 23 participants. \n",
      "on avarage we have:\n",
      " glove records: 126633.86956521739\n",
      " avarage time: 0:25:19.606435\n",
      "\n",
      "files: 3, glove records: 183008\n",
      "files: 10, glove records: 0\n",
      "files: 11, glove records: 105661\n",
      "files: 3, glove records: 184276\n",
      "files: 3, glove records: 103159\n",
      "files: 3, glove records: 105331\n",
      "files: 6, glove records: 106082\n",
      "files: 43, glove records: 118075\n",
      "files: 3, glove records: 104551\n",
      "files: 3, glove records: 110435\n",
      "files: 3, glove records: 181278\n",
      "files: 34, glove records: 112124\n",
      "files: 3, glove records: 191402\n",
      "files: 3, glove records: 187429\n",
      "files: 3, glove records: 103021\n",
      "files: 28, glove records: 108474\n",
      "files: 3, glove records: 120138\n",
      "files: 3, glove records: 180668\n",
      "files: 6, glove records: 105708\n",
      "files: 3, glove records: 105651\n",
      "files: 3, glove records: 105821\n",
      "files: 3, glove records: 103205\n",
      "files: 3, glove records: 187082\n"
     ]
    }
   ],
   "source": [
    "if 'glove_merged' not in users['AE30']:\n",
    "    users['AE30']['glove_merged'] = []\n",
    "num_users = len(users)\n",
    "filecounts = [data[\"filecount\"] for usr, data in users.items()]\n",
    "glove_records = [len(data[\"glove_merged\"]) for usr, data in users.items()]\n",
    "sts = zip(filecounts, glove_records)\n",
    "\n",
    "print(f\"we have {num_users} participants. \")\n",
    "print(f\"on avarage we have:\")\n",
    "print(f\" glove records: {sum(glove_records)/num_users}\")\n",
    "print(f\" avarage time: {(sum(glove_records)/num_users)*Constants.dt_t}\")\n",
    "print(\"\")\n",
    "for s in sts:\n",
    "    print(f\"files: {s[0]}, glove records: {s[1]}\")"
   ]
  },
  {
   "cell_type": "code",
   "execution_count": 20,
   "metadata": {},
   "outputs": [],
   "source": [
    "def select_gesture(users, username, gesture, label_type = \"label_manual\"):\n",
    "    glove_merged = users[username]['glove_merged']\n",
    "    g_lbls = glove_merged[glove_merged[label_type] == gesture]\n",
    "    index = g_lbls.index.tolist()\n",
    "    groups = utils.find_consecutive_groups(index, Constants.dt_t*2)\n",
    "    if len(groups) == 0:\n",
    "        return g_lbls, groups, 0\n",
    "    deltas = [(end-start) for (start, end) in groups]\n",
    "    smallest_distance = min(deltas)\n",
    "    return g_lbls, groups, smallest_distance\n",
    "\n",
    "def create_figs_per_column(path, gesture, smallest_distance, list_of_dfs, average, std):\n",
    "    for col in average.columns:\n",
    "        av = average.loc[:,col]\n",
    "        ax = av.plot(linewidth=3, figsize=(18, 5))\n",
    "        ax.set_title(gesture + ', channel: ' + col + ', duration: ' + str(smallest_distance.total_seconds()) + 's')\n",
    "        s = std.loc[:,col]\n",
    "        ax.fill_between(av.index, av-s, av+s, color='b', alpha=0.2)\n",
    "        for inst in list_of_dfs:\n",
    "            inst.loc[:,col].plot(subplots=True, ax=ax, alpha=0.7, linewidth=0.5, legend=False)\n",
    "        plt.savefig(path+col+'.png')\n",
    "        #plt.show()\n",
    "        plt.close()"
   ]
  },
  {
   "cell_type": "code",
   "execution_count": 21,
   "metadata": {},
   "outputs": [],
   "source": [
    "usernames = users.keys()\n",
    "#usernames = ['MS55', 'PC29', 'PM32', 'PS42', 'RR45', 'RW32', 'SF1', 'YW13']\n",
    "#usernames = ['YW13']\n",
    "gestures = users['AB73']['label'][0]['data']['gesture'].unique()"
   ]
  },
  {
   "cell_type": "markdown",
   "metadata": {},
   "source": [
    "## Exploring the data visually\n",
    "\n",
    "After we transformed the data to it's basic form (i.e. combining recording files, adding the labels, recovering the time domain, and correcting basic errors) we can explor basic aspects of the data visually. First we want to get a feeling if you can see good differences in various channels of the data. For that I computed the avarage signal with it's standard deviation during a representative time frame for each gesture. I overlay that with thin lines of the real sensor data, which gives a feeling how the standart signal with it's standart deviation is created (f.e. is it mainly noise, are there more than one mode, or other questions you can intuitively see in the image).\n",
    "\n",
    "\n",
    "TODO: make these pictures for the automatic times, and color in the manual, dynamic and static times like in the watch examples."
   ]
  },
  {
   "cell_type": "code",
   "execution_count": null,
   "metadata": {},
   "outputs": [
    {
     "data": {
      "application/vnd.jupyter.widget-view+json": {
       "model_id": "d5ee58b104944bbfa2270402daf34059",
       "version_major": 2,
       "version_minor": 0
      },
      "text/plain": [
       "HBox(children=(IntProgress(value=0, description='users', max=23, style=ProgressStyle(description_width='initia…"
      ]
     },
     "metadata": {},
     "output_type": "display_data"
    },
    {
     "data": {
      "application/vnd.jupyter.widget-view+json": {
       "model_id": "",
       "version_major": 2,
       "version_minor": 0
      },
      "text/plain": [
       "HBox(children=(IntProgress(value=0, description='gestures', max=31, style=ProgressStyle(description_width='ini…"
      ]
     },
     "metadata": {},
     "output_type": "display_data"
    },
    {
     "data": {
      "application/vnd.jupyter.widget-view+json": {
       "model_id": "",
       "version_major": 2,
       "version_minor": 0
      },
      "text/plain": [
       "HBox(children=(IntProgress(value=0, description='gestures', max=31, style=ProgressStyle(description_width='ini…"
      ]
     },
     "metadata": {},
     "output_type": "display_data"
    },
    {
     "name": "stdout",
     "output_type": "stream",
     "text": [
      "skipping userAE30\n",
      "skipping userAE30\n",
      "skipping userAE30\n",
      "skipping userAE30\n",
      "skipping userAE30\n",
      "skipping userAE30\n",
      "skipping userAE30\n",
      "skipping userAE30\n",
      "skipping userAE30\n",
      "skipping userAE30\n",
      "skipping userAE30\n",
      "skipping userAE30\n",
      "skipping userAE30\n",
      "skipping userAE30\n",
      "skipping userAE30\n",
      "skipping userAE30\n",
      "skipping userAE30\n",
      "skipping userAE30\n",
      "skipping userAE30\n",
      "skipping userAE30\n",
      "skipping userAE30\n",
      "skipping userAE30\n",
      "skipping userAE30\n",
      "skipping userAE30\n",
      "skipping userAE30\n",
      "skipping userAE30\n",
      "skipping userAE30\n",
      "skipping userAE30\n",
      "skipping userAE30\n",
      "skipping userAE30\n",
      "skipping userAE30\n"
     ]
    },
    {
     "data": {
      "application/vnd.jupyter.widget-view+json": {
       "model_id": "",
       "version_major": 2,
       "version_minor": 0
      },
      "text/plain": [
       "HBox(children=(IntProgress(value=0, description='gestures', max=31, style=ProgressStyle(description_width='ini…"
      ]
     },
     "metadata": {},
     "output_type": "display_data"
    },
    {
     "data": {
      "application/vnd.jupyter.widget-view+json": {
       "model_id": "",
       "version_major": 2,
       "version_minor": 0
      },
      "text/plain": [
       "HBox(children=(IntProgress(value=0, description='gestures', max=31, style=ProgressStyle(description_width='ini…"
      ]
     },
     "metadata": {},
     "output_type": "display_data"
    },
    {
     "data": {
      "application/vnd.jupyter.widget-view+json": {
       "model_id": "",
       "version_major": 2,
       "version_minor": 0
      },
      "text/plain": [
       "HBox(children=(IntProgress(value=0, description='gestures', max=31, style=ProgressStyle(description_width='ini…"
      ]
     },
     "metadata": {},
     "output_type": "display_data"
    },
    {
     "data": {
      "application/vnd.jupyter.widget-view+json": {
       "model_id": "c5ed3fb498e24dbf90b7f960226caee7",
       "version_major": 2,
       "version_minor": 0
      },
      "text/plain": [
       "HBox(children=(IntProgress(value=0, description='gestures', max=31, style=ProgressStyle(description_width='ini…"
      ]
     },
     "metadata": {},
     "output_type": "display_data"
    }
   ],
   "source": [
    "# visualization: what can we do here?\n",
    "# pick a random label, plot avaraged signal + std\n",
    "# plot all signals overlaying each other\n",
    "# plot one example of very average signal, plot two very different examples\n",
    "#\n",
    "# plot labels with similar avarage raw signals\n",
    "# \n",
    "# plot zero label examples near raw signals\n",
    "\n",
    "# all for one random user or over all users:\n",
    "\n",
    "# TODO: since all these things need long time: \n",
    "# - First make sure I can run them without a notebook (so there is also a scribt)\n",
    "# - Secend, even more imporant: Make a function out of it, and control with a parameter overwrite\n",
    "#   if it actually really recreates the picture if on is already there or not\n",
    "\n",
    "userbar = tqdm.tqdm_notebook(usernames, desc='users')\n",
    "for username in userbar:\n",
    "    userbar.set_description(\"Processing %s\" % username)\n",
    "    if username == 'AE30':\n",
    "        print('skipping user' + username)\n",
    "        continue\n",
    "    gesturebar = tqdm.tqdm_notebook(gestures, desc='gestures', leave=False)\n",
    "    for gesture in gesturebar:\n",
    "        gesturebar.set_description('creating figures for ' + gesture + ' of ' + username)\n",
    "        fig_base_path = '../figures/raw/'+username+'/'+gesture+'/'\n",
    "        pathlib.Path(fig_base_path).mkdir(parents=True, exist_ok=True)\n",
    "        g_lbls, groups, smallest_distance = select_gesture(users, username, gesture)\n",
    "        if len(groups) == 0:\n",
    "            print('skipping gesture ' + gesture + ' for user ' + username + ' because we have no data!!!')\n",
    "            continue\n",
    "        g_lbls = sutils.drop_labels_and_unused(g_lbls)\n",
    "        all_instances = sutils.split_df_by_groups(g_lbls, groups, delta=smallest_distance)\n",
    "        average = utils.average_of_frames(all_instances)\n",
    "        std = utils.std_of_frames(all_instances, average=average)\n",
    "        create_figs_per_column(fig_base_path, gesture, smallest_distance, all_instances, average, std)\n"
   ]
  },
  {
   "cell_type": "code",
   "execution_count": null,
   "metadata": {},
   "outputs": [
    {
     "name": "stdout",
     "output_type": "stream",
     "text": [
      "creating avarage for (2) Two\n",
      "skipping userAE30\n",
      "collected 10 examples for (2) Two from AB73\n",
      "skipping userAE30\n",
      "collected 5 examples for (2) Two from AF82\n",
      "collected 10 examples for (2) Two from AL29\n",
      "collected 4 examples for (2) Two from AW18\n",
      "collected 4 examples for (2) Two from CB23\n",
      "collected 4 examples for (2) Two from CB24\n",
      "collected 4 examples for (2) Two from CF58\n",
      "collected 4 examples for (2) Two from DG12\n",
      "collected 4 examples for (2) Two from DH42\n",
      "collected 9 examples for (2) Two from DL24\n",
      "collected 4 examples for (2) Two from JL61\n",
      "collected 10 examples for (2) Two from JQ28\n",
      "collected 12 examples for (2) Two from JS52\n",
      "collected 4 examples for (2) Two from MF20\n",
      "collected 7 examples for (2) Two from MS55\n",
      "collected 4 examples for (2) Two from PC29\n",
      "collected 9 examples for (2) Two from PM32\n",
      "collected 4 examples for (2) Two from PS42\n",
      "collected 4 examples for (2) Two from RR45\n",
      "collected 4 examples for (2) Two from RW32\n",
      "collected 5 examples for (2) Two from SF1\n",
      "collected 9 examples for (2) Two from YW13\n",
      "collected 134 examples for (2) Two\n",
      "creating avarage for Thumbs down\n",
      "skipping userAE30\n",
      "collected 12 examples for Thumbs down from AB73\n",
      "skipping userAE30\n",
      "collected 4 examples for Thumbs down from AF82\n",
      "collected 10 examples for Thumbs down from AL29\n",
      "collected 4 examples for Thumbs down from AW18\n",
      "collected 4 examples for Thumbs down from CB23\n",
      "collected 4 examples for Thumbs down from CB24\n",
      "collected 4 examples for Thumbs down from CF58\n",
      "collected 4 examples for Thumbs down from DG12\n",
      "collected 4 examples for Thumbs down from DH42\n",
      "collected 10 examples for Thumbs down from DL24\n",
      "collected 6 examples for Thumbs down from JL61\n",
      "collected 9 examples for Thumbs down from JQ28\n",
      "collected 9 examples for Thumbs down from JS52\n",
      "collected 4 examples for Thumbs down from MF20\n",
      "collected 4 examples for Thumbs down from MS55\n",
      "collected 5 examples for Thumbs down from PC29\n",
      "collected 10 examples for Thumbs down from PM32\n",
      "collected 4 examples for Thumbs down from PS42\n",
      "collected 4 examples for Thumbs down from RR45\n",
      "collected 4 examples for Thumbs down from RW32\n",
      "collected 4 examples for Thumbs down from SF1\n",
      "collected 9 examples for Thumbs down from YW13\n",
      "collected 132 examples for Thumbs down\n",
      "creating avarage for (5) Five\n",
      "skipping userAE30\n",
      "collected 9 examples for (5) Five from AB73\n",
      "skipping userAE30\n",
      "collected 4 examples for (5) Five from AF82\n",
      "collected 9 examples for (5) Five from AL29\n",
      "collected 4 examples for (5) Five from AW18\n",
      "collected 4 examples for (5) Five from CB23\n",
      "collected 4 examples for (5) Five from CB24\n",
      "collected 4 examples for (5) Five from CF58\n",
      "collected 4 examples for (5) Five from DG12\n",
      "collected 4 examples for (5) Five from DH42\n",
      "collected 9 examples for (5) Five from DL24\n",
      "collected 4 examples for (5) Five from JL61\n",
      "collected 9 examples for (5) Five from JQ28\n",
      "collected 10 examples for (5) Five from JS52\n",
      "collected 4 examples for (5) Five from MF20\n",
      "collected 4 examples for (5) Five from MS55\n",
      "collected 4 examples for (5) Five from PC29\n",
      "collected 10 examples for (5) Five from PM32\n",
      "collected 4 examples for (5) Five from PS42\n",
      "collected 4 examples for (5) Five from RR45\n",
      "collected 4 examples for (5) Five from RW32\n",
      "collected 4 examples for (5) Five from SF1\n",
      "collected 11 examples for (5) Five from YW13\n",
      "collected 127 examples for (5) Five\n",
      "creating avarage for Knocking\n",
      "skipping userAE30\n",
      "collected 9 examples for Knocking from AB73\n",
      "skipping userAE30\n",
      "collected 4 examples for Knocking from AF82\n",
      "collected 9 examples for Knocking from AL29\n",
      "collected 4 examples for Knocking from AW18\n",
      "collected 4 examples for Knocking from CB23\n",
      "collected 4 examples for Knocking from CB24\n",
      "collected 4 examples for Knocking from CF58\n",
      "collected 4 examples for Knocking from DG12\n",
      "collected 4 examples for Knocking from DH42\n",
      "collected 9 examples for Knocking from DL24\n",
      "collected 4 examples for Knocking from JL61\n",
      "collected 9 examples for Knocking from JQ28\n",
      "collected 9 examples for Knocking from JS52\n",
      "collected 4 examples for Knocking from MF20\n",
      "collected 4 examples for Knocking from MS55\n",
      "collected 4 examples for Knocking from PC29\n",
      "collected 9 examples for Knocking from PM32\n",
      "collected 4 examples for Knocking from PS42\n",
      "collected 4 examples for Knocking from RR45\n",
      "collected 4 examples for Knocking from RW32\n",
      "collected 4 examples for Knocking from SF1\n",
      "collected 9 examples for Knocking from YW13\n",
      "collected 123 examples for Knocking\n",
      "creating avarage for Swipe left\n",
      "skipping userAE30\n",
      "collected 9 examples for Swipe left from AB73\n",
      "skipping userAE30\n",
      "collected 4 examples for Swipe left from AF82\n",
      "collected 9 examples for Swipe left from AL29\n",
      "collected 4 examples for Swipe left from AW18\n",
      "collected 4 examples for Swipe left from CB23\n",
      "collected 5 examples for Swipe left from CB24\n",
      "collected 5 examples for Swipe left from CF58\n",
      "collected 4 examples for Swipe left from DG12\n",
      "collected 4 examples for Swipe left from DH42\n",
      "collected 9 examples for Swipe left from DL24\n",
      "collected 4 examples for Swipe left from JL61\n",
      "collected 9 examples for Swipe left from JQ28\n",
      "collected 11 examples for Swipe left from JS52\n",
      "collected 4 examples for Swipe left from MF20\n",
      "collected 5 examples for Swipe left from MS55\n",
      "collected 4 examples for Swipe left from PC29\n",
      "collected 9 examples for Swipe left from PM32\n",
      "collected 4 examples for Swipe left from PS42\n",
      "collected 4 examples for Swipe left from RR45\n",
      "collected 4 examples for Swipe left from RW32\n",
      "collected 4 examples for Swipe left from SF1\n",
      "collected 9 examples for Swipe left from YW13\n",
      "collected 128 examples for Swipe left\n",
      "creating avarage for Grasp 2\n",
      "skipping userAE30\n",
      "collected 9 examples for Grasp 2 from AB73\n",
      "skipping userAE30\n",
      "collected 5 examples for Grasp 2 from AF82\n",
      "collected 9 examples for Grasp 2 from AL29\n",
      "collected 5 examples for Grasp 2 from AW18\n",
      "collected 4 examples for Grasp 2 from CB23\n",
      "collected 4 examples for Grasp 2 from CB24\n",
      "collected 5 examples for Grasp 2 from CF58\n",
      "collected 4 examples for Grasp 2 from DG12\n",
      "collected 4 examples for Grasp 2 from DH42\n",
      "collected 9 examples for Grasp 2 from DL24\n",
      "collected 7 examples for Grasp 2 from JL61\n",
      "collected 9 examples for Grasp 2 from JQ28\n",
      "collected 9 examples for Grasp 2 from JS52\n",
      "collected 4 examples for Grasp 2 from MF20\n",
      "collected 4 examples for Grasp 2 from MS55\n",
      "collected 4 examples for Grasp 2 from PC29\n",
      "collected 9 examples for Grasp 2 from PM32\n",
      "collected 4 examples for Grasp 2 from PS42\n",
      "collected 4 examples for Grasp 2 from RR45\n",
      "collected 4 examples for Grasp 2 from RW32\n",
      "collected 4 examples for Grasp 2 from SF1\n",
      "collected 9 examples for Grasp 2 from YW13\n",
      "collected 129 examples for Grasp 2\n",
      "creating avarage for Continue\n",
      "skipping userAE30\n",
      "collected 9 examples for Continue from AB73\n",
      "skipping userAE30\n",
      "collected 4 examples for Continue from AF82\n",
      "collected 9 examples for Continue from AL29\n",
      "collected 4 examples for Continue from AW18\n",
      "collected 4 examples for Continue from CB23\n",
      "collected 4 examples for Continue from CB24\n",
      "collected 4 examples for Continue from CF58\n",
      "collected 4 examples for Continue from DG12\n",
      "collected 4 examples for Continue from DH42\n",
      "collected 9 examples for Continue from DL24\n",
      "collected 4 examples for Continue from JL61\n",
      "collected 9 examples for Continue from JQ28\n",
      "collected 10 examples for Continue from JS52\n",
      "collected 4 examples for Continue from MF20\n",
      "collected 4 examples for Continue from MS55\n",
      "collected 4 examples for Continue from PC29\n",
      "collected 9 examples for Continue from PM32\n",
      "collected 4 examples for Continue from PS42\n",
      "collected 4 examples for Continue from RR45\n",
      "collected 4 examples for Continue from RW32\n",
      "collected 4 examples for Continue from SF1\n",
      "collected 9 examples for Continue from YW13\n",
      "collected 124 examples for Continue\n",
      "creating avarage for (3) Three\n",
      "skipping userAE30\n",
      "collected 12 examples for (3) Three from AB73\n",
      "skipping userAE30\n",
      "collected 4 examples for (3) Three from AF82\n",
      "collected 9 examples for (3) Three from AL29\n",
      "collected 5 examples for (3) Three from AW18\n",
      "collected 4 examples for (3) Three from CB23\n",
      "collected 4 examples for (3) Three from CB24\n",
      "collected 4 examples for (3) Three from CF58\n",
      "collected 4 examples for (3) Three from DG12\n",
      "collected 4 examples for (3) Three from DH42\n",
      "collected 9 examples for (3) Three from DL24\n",
      "collected 4 examples for (3) Three from JL61\n",
      "collected 9 examples for (3) Three from JQ28\n",
      "collected 10 examples for (3) Three from JS52\n",
      "collected 4 examples for (3) Three from MF20\n",
      "collected 4 examples for (3) Three from MS55\n",
      "collected 4 examples for (3) Three from PC29\n",
      "collected 9 examples for (3) Three from PM32\n",
      "collected 4 examples for (3) Three from PS42\n"
     ]
    },
    {
     "name": "stdout",
     "output_type": "stream",
     "text": [
      "collected 4 examples for (3) Three from RR45\n",
      "collected 4 examples for (3) Three from RW32\n",
      "collected 4 examples for (3) Three from SF1\n",
      "collected 9 examples for (3) Three from YW13\n",
      "collected 128 examples for (3) Three\n",
      "creating avarage for Talking\n",
      "skipping userAE30\n",
      "collected 9 examples for Talking from AB73\n",
      "skipping userAE30\n",
      "collected 4 examples for Talking from AF82\n",
      "collected 9 examples for Talking from AL29\n",
      "collected 4 examples for Talking from AW18\n",
      "collected 4 examples for Talking from CB23\n",
      "collected 4 examples for Talking from CB24\n",
      "collected 4 examples for Talking from CF58\n",
      "collected 4 examples for Talking from DG12\n",
      "collected 4 examples for Talking from DH42\n",
      "collected 9 examples for Talking from DL24\n",
      "collected 4 examples for Talking from JL61\n",
      "collected 9 examples for Talking from JQ28\n",
      "collected 9 examples for Talking from JS52\n",
      "collected 4 examples for Talking from MF20\n",
      "collected 4 examples for Talking from MS55\n",
      "collected 4 examples for Talking from PC29\n",
      "collected 9 examples for Talking from PM32\n",
      "collected 4 examples for Talking from PS42\n",
      "collected 4 examples for Talking from RR45\n",
      "collected 4 examples for Talking from RW32\n",
      "collected 4 examples for Talking from SF1\n",
      "collected 9 examples for Talking from YW13\n",
      "collected 123 examples for Talking\n",
      "creating avarage for Shoot\n",
      "skipping userAE30\n",
      "collected 9 examples for Shoot from AB73\n",
      "skipping userAE30\n",
      "collected 4 examples for Shoot from AF82\n",
      "collected 9 examples for Shoot from AL29\n",
      "collected 4 examples for Shoot from AW18\n",
      "collected 4 examples for Shoot from CB23\n",
      "collected 4 examples for Shoot from CB24\n",
      "collected 4 examples for Shoot from CF58\n",
      "collected 4 examples for Shoot from DG12\n",
      "collected 4 examples for Shoot from DH42\n",
      "collected 9 examples for Shoot from DL24\n",
      "collected 4 examples for Shoot from JL61\n",
      "collected 9 examples for Shoot from JQ28\n",
      "collected 9 examples for Shoot from JS52\n",
      "collected 4 examples for Shoot from MF20\n",
      "collected 4 examples for Shoot from MS55\n",
      "collected 4 examples for Shoot from PC29\n",
      "collected 9 examples for Shoot from PM32\n",
      "collected 4 examples for Shoot from PS42\n",
      "collected 4 examples for Shoot from RR45\n",
      "collected 4 examples for Shoot from RW32\n",
      "collected 5 examples for Shoot from SF1\n",
      "collected 9 examples for Shoot from YW13\n",
      "collected 124 examples for Shoot\n",
      "creating avarage for (1) One\n",
      "skipping userAE30\n",
      "collected 9 examples for (1) One from AB73\n",
      "skipping userAE30\n",
      "collected 4 examples for (1) One from AF82\n",
      "collected 9 examples for (1) One from AL29\n",
      "collected 4 examples for (1) One from AW18\n",
      "collected 4 examples for (1) One from CB23\n",
      "collected 4 examples for (1) One from CB24\n",
      "collected 4 examples for (1) One from CF58\n",
      "collected 4 examples for (1) One from DG12\n",
      "collected 4 examples for (1) One from DH42\n",
      "collected 9 examples for (1) One from DL24\n",
      "collected 4 examples for (1) One from JL61\n",
      "collected 9 examples for (1) One from JQ28\n",
      "collected 9 examples for (1) One from JS52\n",
      "collected 4 examples for (1) One from MF20\n",
      "skipping gesture (1) One for user MS55 because we have no data!!!\n",
      "collected 5 examples for (1) One from PC29\n",
      "collected 9 examples for (1) One from PM32\n",
      "collected 4 examples for (1) One from PS42\n",
      "collected 7 examples for (1) One from RR45\n",
      "collected 4 examples for (1) One from RW32\n",
      "collected 4 examples for (1) One from SF1\n",
      "collected 9 examples for (1) One from YW13\n",
      "collected 123 examples for (1) One\n",
      "creating avarage for Shoulder pat\n",
      "skipping userAE30\n",
      "collected 9 examples for Shoulder pat from AB73\n",
      "skipping userAE30\n",
      "collected 4 examples for Shoulder pat from AF82\n",
      "collected 9 examples for Shoulder pat from AL29\n",
      "collected 4 examples for Shoulder pat from AW18\n",
      "collected 4 examples for Shoulder pat from CB23\n",
      "collected 4 examples for Shoulder pat from CB24\n",
      "collected 4 examples for Shoulder pat from CF58\n",
      "collected 4 examples for Shoulder pat from DG12\n",
      "collected 4 examples for Shoulder pat from DH42\n",
      "collected 9 examples for Shoulder pat from DL24\n",
      "collected 3 examples for Shoulder pat from JL61\n",
      "collected 9 examples for Shoulder pat from JQ28\n",
      "collected 9 examples for Shoulder pat from JS52\n",
      "collected 4 examples for Shoulder pat from MF20\n",
      "collected 4 examples for Shoulder pat from MS55\n",
      "collected 4 examples for Shoulder pat from PC29\n",
      "collected 9 examples for Shoulder pat from PM32\n",
      "collected 4 examples for Shoulder pat from PS42\n",
      "collected 4 examples for Shoulder pat from RR45\n",
      "collected 4 examples for Shoulder pat from RW32\n",
      "collected 4 examples for Shoulder pat from SF1\n",
      "collected 9 examples for Shoulder pat from YW13\n",
      "collected 122 examples for Shoulder pat\n",
      "creating avarage for (4) Four\n",
      "skipping userAE30\n",
      "collected 9 examples for (4) Four from AB73\n",
      "skipping userAE30\n",
      "collected 8 examples for (4) Four from AF82\n",
      "collected 9 examples for (4) Four from AL29\n",
      "collected 5 examples for (4) Four from AW18\n",
      "collected 4 examples for (4) Four from CB23\n",
      "collected 4 examples for (4) Four from CB24\n",
      "collected 4 examples for (4) Four from CF58\n",
      "collected 4 examples for (4) Four from DG12\n",
      "collected 4 examples for (4) Four from DH42\n",
      "collected 9 examples for (4) Four from DL24\n",
      "collected 4 examples for (4) Four from JL61\n",
      "collected 9 examples for (4) Four from JQ28\n",
      "collected 9 examples for (4) Four from JS52\n",
      "collected 4 examples for (4) Four from MF20\n",
      "collected 4 examples for (4) Four from MS55\n",
      "collected 5 examples for (4) Four from PC29\n",
      "collected 9 examples for (4) Four from PM32\n",
      "collected 4 examples for (4) Four from PS42\n",
      "collected 4 examples for (4) Four from RR45\n",
      "collected 4 examples for (4) Four from RW32\n",
      "collected 4 examples for (4) Four from SF1\n",
      "collected 9 examples for (4) Four from YW13\n",
      "collected 129 examples for (4) Four\n",
      "creating avarage for Cutthroat\n",
      "skipping userAE30\n",
      "collected 9 examples for Cutthroat from AB73\n",
      "skipping userAE30\n",
      "collected 4 examples for Cutthroat from AF82\n",
      "collected 9 examples for Cutthroat from AL29\n",
      "collected 4 examples for Cutthroat from AW18\n",
      "collected 4 examples for Cutthroat from CB23\n",
      "collected 4 examples for Cutthroat from CB24\n",
      "collected 4 examples for Cutthroat from CF58\n",
      "collected 4 examples for Cutthroat from DG12\n",
      "collected 4 examples for Cutthroat from DH42\n",
      "collected 9 examples for Cutthroat from DL24\n",
      "collected 4 examples for Cutthroat from JL61\n",
      "collected 9 examples for Cutthroat from JQ28\n",
      "collected 9 examples for Cutthroat from JS52\n",
      "collected 4 examples for Cutthroat from MF20\n",
      "collected 4 examples for Cutthroat from MS55\n",
      "collected 4 examples for Cutthroat from PC29\n",
      "collected 9 examples for Cutthroat from PM32\n",
      "collected 4 examples for Cutthroat from PS42\n",
      "collected 4 examples for Cutthroat from RR45\n",
      "collected 4 examples for Cutthroat from RW32\n",
      "collected 4 examples for Cutthroat from SF1\n",
      "collected 9 examples for Cutthroat from YW13\n",
      "collected 123 examples for Cutthroat\n",
      "creating avarage for Down\n",
      "skipping userAE30\n",
      "collected 9 examples for Down from AB73\n",
      "skipping userAE30\n",
      "collected 4 examples for Down from AF82\n",
      "collected 9 examples for Down from AL29\n",
      "collected 4 examples for Down from AW18\n",
      "collected 4 examples for Down from CB23\n",
      "collected 4 examples for Down from CB24\n",
      "collected 5 examples for Down from CF58\n",
      "collected 4 examples for Down from DG12\n",
      "collected 4 examples for Down from DH42\n",
      "collected 9 examples for Down from DL24\n",
      "collected 8 examples for Down from JL61\n",
      "collected 9 examples for Down from JQ28\n",
      "collected 9 examples for Down from JS52\n",
      "collected 4 examples for Down from MF20\n",
      "collected 4 examples for Down from MS55\n",
      "collected 4 examples for Down from PC29\n",
      "collected 9 examples for Down from PM32\n",
      "collected 4 examples for Down from PS42\n",
      "collected 4 examples for Down from RR45\n",
      "collected 4 examples for Down from RW32\n",
      "collected 4 examples for Down from SF1\n",
      "collected 9 examples for Down from YW13\n",
      "collected 128 examples for Down\n"
     ]
    }
   ],
   "source": [
    "usernames = users.keys()\n",
    "gesturebar = tqdm.tqdm_notebook(gestures, desc='gestures')\n",
    "for gesture in gesturebar:\n",
    "    gesturebar.set_description('creating avarage for ' + gesture)\n",
    "    really_all_instances = []\n",
    "    min_distances = []\n",
    "    userbar = tqdm.tqdm_notebook(usernames, desc='users', leave=False)\n",
    "    for username in userbar:\n",
    "        if username == 'AE30':\n",
    "            print('skipping user' + username)\n",
    "            continue\n",
    "        _, _, smallest_distance = select_gesture(users, username, gesture)\n",
    "        if (smallest_distance != 0):\n",
    "            min_distances.append(smallest_distance)\n",
    "    min_distance = sum(min_distances, timedelta(0))/len(min_distances)\n",
    "    \n",
    "    userbar = tqdm.tqdm_notebook(usernames, desc='users', leave=False)\n",
    "    for username in userbar:\n",
    "        if username == 'AE30':\n",
    "            print('skipping user' + username)\n",
    "            continue\n",
    "        g_lbls, groups, _ = select_gesture(users, username, gesture)\n",
    "        if len(groups) == 0:\n",
    "            print('skipping gesture ' + gesture + ' for user ' + username + ' because we have no data!!!')\n",
    "            continue\n",
    "        g_lbls = sutils.drop_labels_and_unused(g_lbls)\n",
    "        all_instances = sutils.split_df_by_groups(g_lbls, groups, delta=min_distance)\n",
    "        really_all_instances = really_all_instances + all_instances\n",
    "        print(f'collected {len(all_instances)} examples for {gesture} from {username}')\n",
    "        all_instances = None\n",
    "    \n",
    "    print(f'collected {len(really_all_instances)} examples for {gesture}')\n",
    "    average = utils.average_of_frames(really_all_instances)\n",
    "    std = utils.std_of_frames(really_all_instances, average=average)\n",
    "    \n",
    "    fig_base_path = '../figures/raw/ALL_USERS/'+gesture+'/'\n",
    "    pathlib.Path(fig_base_path).mkdir(parents=True, exist_ok=True)\n",
    "    \n",
    "    create_figs_per_column(fig_base_path, gesture, min_distance, really_all_instances, average, std)"
   ]
  },
  {
   "cell_type": "code",
   "execution_count": 8,
   "metadata": {},
   "outputs": [
    {
     "name": "stderr",
     "output_type": "stream",
     "text": [
      "\r",
      "  0%|          | 0/23 [00:00<?, ?it/s]"
     ]
    },
    {
     "name": "stdout",
     "output_type": "stream",
     "text": [
      "gesture timings for (2) Two\n"
     ]
    },
    {
     "name": "stderr",
     "output_type": "stream",
     "text": [
      " 13%|█▎        | 3/23 [00:00<00:04,  4.56it/s]"
     ]
    },
    {
     "name": "stdout",
     "output_type": "stream",
     "text": [
      "skipping userAE30\n"
     ]
    },
    {
     "name": "stderr",
     "output_type": "stream",
     "text": [
      "100%|██████████| 23/23 [00:04<00:00,  5.44it/s]\n",
      "  0%|          | 0/23 [00:00<?, ?it/s]"
     ]
    },
    {
     "name": "stdout",
     "output_type": "stream",
     "text": [
      "total timings for (2) Two\n",
      "gesture timings for Thumbs down\n"
     ]
    },
    {
     "name": "stderr",
     "output_type": "stream",
     "text": [
      " 13%|█▎        | 3/23 [00:00<00:04,  4.95it/s]"
     ]
    },
    {
     "name": "stdout",
     "output_type": "stream",
     "text": [
      "skipping userAE30\n"
     ]
    },
    {
     "name": "stderr",
     "output_type": "stream",
     "text": [
      "100%|██████████| 23/23 [00:05<00:00,  5.05it/s]\n",
      "  0%|          | 0/23 [00:00<?, ?it/s]"
     ]
    },
    {
     "name": "stdout",
     "output_type": "stream",
     "text": [
      "total timings for Thumbs down\n",
      "gesture timings for (5) Five\n"
     ]
    },
    {
     "name": "stderr",
     "output_type": "stream",
     "text": [
      " 13%|█▎        | 3/23 [00:00<00:03,  5.59it/s]"
     ]
    },
    {
     "name": "stdout",
     "output_type": "stream",
     "text": [
      "skipping userAE30\n"
     ]
    },
    {
     "name": "stderr",
     "output_type": "stream",
     "text": [
      "100%|██████████| 23/23 [00:03<00:00,  5.70it/s]\n",
      "  0%|          | 0/23 [00:00<?, ?it/s]"
     ]
    },
    {
     "name": "stdout",
     "output_type": "stream",
     "text": [
      "total timings for (5) Five\n",
      "gesture timings for Knocking\n"
     ]
    },
    {
     "name": "stderr",
     "output_type": "stream",
     "text": [
      " 13%|█▎        | 3/23 [00:00<00:03,  5.86it/s]"
     ]
    },
    {
     "name": "stdout",
     "output_type": "stream",
     "text": [
      "skipping userAE30\n"
     ]
    },
    {
     "name": "stderr",
     "output_type": "stream",
     "text": [
      "100%|██████████| 23/23 [00:04<00:00,  4.55it/s]\n",
      "  0%|          | 0/23 [00:00<?, ?it/s]"
     ]
    },
    {
     "name": "stdout",
     "output_type": "stream",
     "text": [
      "total timings for Knocking\n",
      "gesture timings for Swipe left\n"
     ]
    },
    {
     "name": "stderr",
     "output_type": "stream",
     "text": [
      " 13%|█▎        | 3/23 [00:00<00:03,  5.10it/s]"
     ]
    },
    {
     "name": "stdout",
     "output_type": "stream",
     "text": [
      "skipping userAE30\n"
     ]
    },
    {
     "name": "stderr",
     "output_type": "stream",
     "text": [
      "100%|██████████| 23/23 [00:05<00:00,  2.55it/s]\n",
      "  0%|          | 0/23 [00:00<?, ?it/s]"
     ]
    },
    {
     "name": "stdout",
     "output_type": "stream",
     "text": [
      "total timings for Swipe left\n",
      "gesture timings for Grasp 2\n"
     ]
    },
    {
     "name": "stderr",
     "output_type": "stream",
     "text": [
      "\r",
      "  4%|▍         | 1/23 [00:00<00:12,  1.69it/s]"
     ]
    },
    {
     "name": "stdout",
     "output_type": "stream",
     "text": [
      "skipping userAE30\n"
     ]
    },
    {
     "name": "stderr",
     "output_type": "stream",
     "text": [
      "100%|██████████| 23/23 [00:04<00:00,  7.50it/s]\n",
      "  0%|          | 0/23 [00:00<?, ?it/s]"
     ]
    },
    {
     "name": "stdout",
     "output_type": "stream",
     "text": [
      "total timings for Grasp 2\n",
      "gesture timings for Continue\n"
     ]
    },
    {
     "name": "stderr",
     "output_type": "stream",
     "text": [
      " 13%|█▎        | 3/23 [00:00<00:02,  7.77it/s]"
     ]
    },
    {
     "name": "stdout",
     "output_type": "stream",
     "text": [
      "skipping userAE30\n"
     ]
    },
    {
     "name": "stderr",
     "output_type": "stream",
     "text": [
      "100%|██████████| 23/23 [00:03<00:00,  5.45it/s]\n",
      "  0%|          | 0/23 [00:00<?, ?it/s]"
     ]
    },
    {
     "name": "stdout",
     "output_type": "stream",
     "text": [
      "total timings for Continue\n",
      "gesture timings for (3) Three\n"
     ]
    },
    {
     "name": "stderr",
     "output_type": "stream",
     "text": [
      " 13%|█▎        | 3/23 [00:00<00:04,  4.56it/s]"
     ]
    },
    {
     "name": "stdout",
     "output_type": "stream",
     "text": [
      "skipping userAE30\n"
     ]
    },
    {
     "name": "stderr",
     "output_type": "stream",
     "text": [
      "100%|██████████| 23/23 [00:03<00:00,  7.21it/s]\n",
      "  0%|          | 0/23 [00:00<?, ?it/s]"
     ]
    },
    {
     "name": "stdout",
     "output_type": "stream",
     "text": [
      "total timings for (3) Three\n",
      "gesture timings for Talking\n"
     ]
    },
    {
     "name": "stderr",
     "output_type": "stream",
     "text": [
      " 13%|█▎        | 3/23 [00:00<00:02,  7.43it/s]"
     ]
    },
    {
     "name": "stdout",
     "output_type": "stream",
     "text": [
      "skipping userAE30\n"
     ]
    },
    {
     "name": "stderr",
     "output_type": "stream",
     "text": [
      "100%|██████████| 23/23 [00:03<00:00,  7.32it/s]\n"
     ]
    },
    {
     "name": "stdout",
     "output_type": "stream",
     "text": [
      "total timings for Talking\n"
     ]
    },
    {
     "name": "stderr",
     "output_type": "stream",
     "text": [
      "\r",
      "  0%|          | 0/23 [00:00<?, ?it/s]"
     ]
    },
    {
     "name": "stdout",
     "output_type": "stream",
     "text": [
      "gesture timings for Shoot\n"
     ]
    },
    {
     "name": "stderr",
     "output_type": "stream",
     "text": [
      "\r",
      "  4%|▍         | 1/23 [00:00<00:04,  4.98it/s]"
     ]
    },
    {
     "name": "stdout",
     "output_type": "stream",
     "text": [
      "skipping userAE30\n"
     ]
    },
    {
     "name": "stderr",
     "output_type": "stream",
     "text": [
      "100%|██████████| 23/23 [00:03<00:00,  7.91it/s]\n"
     ]
    },
    {
     "name": "stdout",
     "output_type": "stream",
     "text": [
      "total timings for Shoot\n"
     ]
    },
    {
     "name": "stderr",
     "output_type": "stream",
     "text": [
      "\r",
      "  0%|          | 0/23 [00:00<?, ?it/s]"
     ]
    },
    {
     "name": "stdout",
     "output_type": "stream",
     "text": [
      "gesture timings for (1) One\n"
     ]
    },
    {
     "name": "stderr",
     "output_type": "stream",
     "text": [
      " 13%|█▎        | 3/23 [00:00<00:03,  5.59it/s]"
     ]
    },
    {
     "name": "stdout",
     "output_type": "stream",
     "text": [
      "skipping userAE30\n"
     ]
    },
    {
     "name": "stderr",
     "output_type": "stream",
     "text": [
      "100%|██████████| 23/23 [00:02<00:00,  7.59it/s]\n",
      "  0%|          | 0/23 [00:00<?, ?it/s]"
     ]
    },
    {
     "name": "stdout",
     "output_type": "stream",
     "text": [
      "total timings for (1) One\n",
      "gesture timings for Shoulder pat\n"
     ]
    },
    {
     "name": "stderr",
     "output_type": "stream",
     "text": [
      " 13%|█▎        | 3/23 [00:00<00:03,  5.86it/s]"
     ]
    },
    {
     "name": "stdout",
     "output_type": "stream",
     "text": [
      "skipping userAE30\n"
     ]
    },
    {
     "name": "stderr",
     "output_type": "stream",
     "text": [
      "100%|██████████| 23/23 [00:03<00:00,  4.82it/s]\n",
      "  0%|          | 0/23 [00:00<?, ?it/s]"
     ]
    },
    {
     "name": "stdout",
     "output_type": "stream",
     "text": [
      "total timings for Shoulder pat\n",
      "gesture timings for (4) Four\n"
     ]
    },
    {
     "name": "stderr",
     "output_type": "stream",
     "text": [
      " 13%|█▎        | 3/23 [00:00<00:02,  7.10it/s]"
     ]
    },
    {
     "name": "stdout",
     "output_type": "stream",
     "text": [
      "skipping userAE30\n"
     ]
    },
    {
     "name": "stderr",
     "output_type": "stream",
     "text": [
      "100%|██████████| 23/23 [00:03<00:00,  5.94it/s]\n",
      "  0%|          | 0/23 [00:00<?, ?it/s]"
     ]
    },
    {
     "name": "stdout",
     "output_type": "stream",
     "text": [
      "total timings for (4) Four\n",
      "gesture timings for Cutthroat\n"
     ]
    },
    {
     "name": "stderr",
     "output_type": "stream",
     "text": [
      " 13%|█▎        | 3/23 [00:00<00:02,  7.61it/s]"
     ]
    },
    {
     "name": "stdout",
     "output_type": "stream",
     "text": [
      "skipping userAE30\n"
     ]
    },
    {
     "name": "stderr",
     "output_type": "stream",
     "text": [
      "100%|██████████| 23/23 [00:02<00:00,  7.31it/s]\n",
      "  0%|          | 0/23 [00:00<?, ?it/s]"
     ]
    },
    {
     "name": "stdout",
     "output_type": "stream",
     "text": [
      "total timings for Cutthroat\n",
      "gesture timings for Down\n"
     ]
    },
    {
     "name": "stderr",
     "output_type": "stream",
     "text": [
      " 13%|█▎        | 3/23 [00:00<00:02,  7.55it/s]"
     ]
    },
    {
     "name": "stdout",
     "output_type": "stream",
     "text": [
      "skipping userAE30\n"
     ]
    },
    {
     "name": "stderr",
     "output_type": "stream",
     "text": [
      "100%|██████████| 23/23 [00:03<00:00,  5.93it/s]\n",
      "  0%|          | 0/23 [00:00<?, ?it/s]"
     ]
    },
    {
     "name": "stdout",
     "output_type": "stream",
     "text": [
      "total timings for Down\n",
      "gesture timings for Turn\n"
     ]
    },
    {
     "name": "stderr",
     "output_type": "stream",
     "text": [
      " 13%|█▎        | 3/23 [00:00<00:02,  6.95it/s]"
     ]
    },
    {
     "name": "stdout",
     "output_type": "stream",
     "text": [
      "skipping userAE30\n"
     ]
    },
    {
     "name": "stderr",
     "output_type": "stream",
     "text": [
      "100%|██████████| 23/23 [00:03<00:00,  7.52it/s]\n",
      "  0%|          | 0/23 [00:00<?, ?it/s]"
     ]
    },
    {
     "name": "stdout",
     "output_type": "stream",
     "text": [
      "total timings for Turn\n",
      "gesture timings for Swipe right\n"
     ]
    },
    {
     "name": "stderr",
     "output_type": "stream",
     "text": [
      " 13%|█▎        | 3/23 [00:00<00:02,  7.96it/s]"
     ]
    },
    {
     "name": "stdout",
     "output_type": "stream",
     "text": [
      "skipping userAE30\n"
     ]
    },
    {
     "name": "stderr",
     "output_type": "stream",
     "text": [
      "100%|██████████| 23/23 [00:03<00:00,  6.84it/s]\n",
      "  0%|          | 0/23 [00:00<?, ?it/s]"
     ]
    },
    {
     "name": "stdout",
     "output_type": "stream",
     "text": [
      "total timings for Swipe right\n",
      "gesture timings for Walking\n"
     ]
    },
    {
     "name": "stderr",
     "output_type": "stream",
     "text": [
      " 13%|█▎        | 3/23 [00:00<00:02,  7.81it/s]"
     ]
    },
    {
     "name": "stdout",
     "output_type": "stream",
     "text": [
      "skipping userAE30\n"
     ]
    },
    {
     "name": "stderr",
     "output_type": "stream",
     "text": [
      "100%|██████████| 23/23 [00:02<00:00,  7.31it/s]\n",
      "  0%|          | 0/23 [00:00<?, ?it/s]"
     ]
    },
    {
     "name": "stdout",
     "output_type": "stream",
     "text": [
      "total timings for Walking\n",
      "gesture timings for Point to self\n"
     ]
    },
    {
     "name": "stderr",
     "output_type": "stream",
     "text": [
      " 13%|█▎        | 3/23 [00:00<00:02,  8.16it/s]"
     ]
    },
    {
     "name": "stdout",
     "output_type": "stream",
     "text": [
      "skipping userAE30\n"
     ]
    },
    {
     "name": "stderr",
     "output_type": "stream",
     "text": [
      "100%|██████████| 23/23 [00:03<00:00,  7.32it/s]\n",
      "  0%|          | 0/23 [00:00<?, ?it/s]"
     ]
    },
    {
     "name": "stdout",
     "output_type": "stream",
     "text": [
      "total timings for Point to self\n",
      "gesture timings for Go away\n"
     ]
    },
    {
     "name": "stderr",
     "output_type": "stream",
     "text": [
      " 13%|█▎        | 3/23 [00:00<00:02,  7.42it/s]"
     ]
    },
    {
     "name": "stdout",
     "output_type": "stream",
     "text": [
      "skipping userAE30\n"
     ]
    },
    {
     "name": "stderr",
     "output_type": "stream",
     "text": [
      "100%|██████████| 23/23 [00:03<00:00,  7.01it/s]\n",
      "  0%|          | 0/23 [00:00<?, ?it/s]"
     ]
    },
    {
     "name": "stdout",
     "output_type": "stream",
     "text": [
      "total timings for Go away\n",
      "gesture timings for Grasp 1\n"
     ]
    },
    {
     "name": "stderr",
     "output_type": "stream",
     "text": [
      " 13%|█▎        | 3/23 [00:00<00:02,  7.92it/s]"
     ]
    },
    {
     "name": "stdout",
     "output_type": "stream",
     "text": [
      "skipping userAE30\n"
     ]
    },
    {
     "name": "stderr",
     "output_type": "stream",
     "text": [
      "100%|██████████| 23/23 [00:03<00:00,  7.62it/s]\n",
      "  0%|          | 0/23 [00:00<?, ?it/s]"
     ]
    },
    {
     "name": "stdout",
     "output_type": "stream",
     "text": [
      "total timings for Grasp 1\n",
      "gesture timings for Calling\n"
     ]
    },
    {
     "name": "stderr",
     "output_type": "stream",
     "text": [
      " 13%|█▎        | 3/23 [00:00<00:02,  7.79it/s]"
     ]
    },
    {
     "name": "stdout",
     "output_type": "stream",
     "text": [
      "skipping userAE30\n"
     ]
    },
    {
     "name": "stderr",
     "output_type": "stream",
     "text": [
      "100%|██████████| 23/23 [00:02<00:00,  7.56it/s]\n",
      "  0%|          | 0/23 [00:00<?, ?it/s]"
     ]
    },
    {
     "name": "stdout",
     "output_type": "stream",
     "text": [
      "total timings for Calling\n",
      "gesture timings for Swipe up\n"
     ]
    },
    {
     "name": "stderr",
     "output_type": "stream",
     "text": [
      " 13%|█▎        | 3/23 [00:00<00:03,  6.64it/s]"
     ]
    },
    {
     "name": "stdout",
     "output_type": "stream",
     "text": [
      "skipping userAE30\n"
     ]
    },
    {
     "name": "stderr",
     "output_type": "stream",
     "text": [
      "100%|██████████| 23/23 [00:03<00:00,  5.97it/s]\n",
      "  0%|          | 0/23 [00:00<?, ?it/s]"
     ]
    },
    {
     "name": "stdout",
     "output_type": "stream",
     "text": [
      "total timings for Swipe up\n",
      "gesture timings for Never mind\n"
     ]
    },
    {
     "name": "stderr",
     "output_type": "stream",
     "text": [
      " 13%|█▎        | 3/23 [00:00<00:02,  7.87it/s]"
     ]
    },
    {
     "name": "stdout",
     "output_type": "stream",
     "text": [
      "skipping userAE30\n"
     ]
    },
    {
     "name": "stderr",
     "output_type": "stream",
     "text": [
      "100%|██████████| 23/23 [00:03<00:00,  7.17it/s]\n",
      "  0%|          | 0/23 [00:00<?, ?it/s]"
     ]
    },
    {
     "name": "stdout",
     "output_type": "stream",
     "text": [
      "total timings for Never mind\n",
      "gesture timings for Push away\n"
     ]
    },
    {
     "name": "stderr",
     "output_type": "stream",
     "text": [
      " 13%|█▎        | 3/23 [00:00<00:03,  6.32it/s]"
     ]
    },
    {
     "name": "stdout",
     "output_type": "stream",
     "text": [
      "skipping userAE30\n"
     ]
    },
    {
     "name": "stderr",
     "output_type": "stream",
     "text": [
      "100%|██████████| 23/23 [00:04<00:00,  5.31it/s]\n",
      "  0%|          | 0/23 [00:00<?, ?it/s]"
     ]
    },
    {
     "name": "stdout",
     "output_type": "stream",
     "text": [
      "total timings for Push away\n",
      "gesture timings for Thumbs up\n"
     ]
    },
    {
     "name": "stderr",
     "output_type": "stream",
     "text": [
      " 13%|█▎        | 3/23 [00:00<00:02,  7.09it/s]"
     ]
    },
    {
     "name": "stdout",
     "output_type": "stream",
     "text": [
      "skipping userAE30\n"
     ]
    },
    {
     "name": "stderr",
     "output_type": "stream",
     "text": [
      "100%|██████████| 23/23 [00:03<00:00,  6.70it/s]\n",
      "  0%|          | 0/23 [00:00<?, ?it/s]"
     ]
    },
    {
     "name": "stdout",
     "output_type": "stream",
     "text": [
      "total timings for Thumbs up\n",
      "gesture timings for Point\n"
     ]
    },
    {
     "name": "stderr",
     "output_type": "stream",
     "text": [
      " 13%|█▎        | 3/23 [00:00<00:03,  6.58it/s]"
     ]
    },
    {
     "name": "stdout",
     "output_type": "stream",
     "text": [
      "skipping userAE30\n"
     ]
    },
    {
     "name": "stderr",
     "output_type": "stream",
     "text": [
      "100%|██████████| 23/23 [00:03<00:00,  5.26it/s]\n",
      "  0%|          | 0/23 [00:00<?, ?it/s]"
     ]
    },
    {
     "name": "stdout",
     "output_type": "stream",
     "text": [
      "total timings for Point\n",
      "gesture timings for Come here\n"
     ]
    },
    {
     "name": "stderr",
     "output_type": "stream",
     "text": [
      " 13%|█▎        | 3/23 [00:00<00:02,  7.92it/s]"
     ]
    },
    {
     "name": "stdout",
     "output_type": "stream",
     "text": [
      "skipping userAE30\n"
     ]
    },
    {
     "name": "stderr",
     "output_type": "stream",
     "text": [
      "100%|██████████| 23/23 [00:03<00:00,  6.11it/s]\n",
      "  0%|          | 0/23 [00:00<?, ?it/s]"
     ]
    },
    {
     "name": "stdout",
     "output_type": "stream",
     "text": [
      "total timings for Come here\n",
      "gesture timings for Scissor\n"
     ]
    },
    {
     "name": "stderr",
     "output_type": "stream",
     "text": [
      " 13%|█▎        | 3/23 [00:00<00:02,  8.14it/s]"
     ]
    },
    {
     "name": "stdout",
     "output_type": "stream",
     "text": [
      "skipping userAE30\n"
     ]
    },
    {
     "name": "stderr",
     "output_type": "stream",
     "text": [
      "100%|██████████| 23/23 [00:03<00:00,  6.99it/s]\n",
      "  0%|          | 0/23 [00:00<?, ?it/s]"
     ]
    },
    {
     "name": "stdout",
     "output_type": "stream",
     "text": [
      "total timings for Scissor\n",
      "gesture timings for Waving\n"
     ]
    },
    {
     "name": "stderr",
     "output_type": "stream",
     "text": [
      " 13%|█▎        | 3/23 [00:00<00:02,  8.03it/s]"
     ]
    },
    {
     "name": "stdout",
     "output_type": "stream",
     "text": [
      "skipping userAE30\n"
     ]
    },
    {
     "name": "stderr",
     "output_type": "stream",
     "text": [
      "100%|██████████| 23/23 [00:03<00:00,  7.63it/s]\n",
      "  0%|          | 0/23 [00:00<?, ?it/s]"
     ]
    },
    {
     "name": "stdout",
     "output_type": "stream",
     "text": [
      "total timings for Waving\n",
      "gesture timings for Zoom\n"
     ]
    },
    {
     "name": "stderr",
     "output_type": "stream",
     "text": [
      " 13%|█▎        | 3/23 [00:00<00:02,  8.01it/s]"
     ]
    },
    {
     "name": "stdout",
     "output_type": "stream",
     "text": [
      "skipping userAE30\n"
     ]
    },
    {
     "name": "stderr",
     "output_type": "stream",
     "text": [
      "100%|██████████| 23/23 [00:03<00:00,  7.58it/s]\n"
     ]
    },
    {
     "name": "stdout",
     "output_type": "stream",
     "text": [
      "total timings for Zoom\n",
      "total timings for all gestures over all users\n"
     ]
    }
   ],
   "source": [
    "#usernames = users.keys()\n",
    "all_for_all_gestures = []\n",
    "lt = \"label_automatic\"\n",
    "gesturebar = tqdm.tqdm_notebook(gestures, desc='gestures')\n",
    "for gesture in gesturebar:\n",
    "    gesturebar.set_description('gesture timings for ' + gesture)\n",
    "    all_deltas = []\n",
    "    for username in tqdm.tqdm(usernames):\n",
    "        if not 'glove_merged' in users[username]:\n",
    "            print('skipping user' + username)\n",
    "            continue\n",
    "        g_lbls, groups, smallest_distance = select_gesture(users, username, gesture, label_type=lt)\n",
    "        deltas = [(end-start) for (start, end) in groups]\n",
    "        #print('timings for ' + gesture + ' of user: ' + username)\n",
    "        fig_base_path = '../figures/raw/'+username+'/'+gesture+'/'\n",
    "        plt.hist( list(map(lambda x: x.total_seconds(), deltas)) )\n",
    "        plt.savefig(f'{fig_base_path}timing_of_{lt}.png')\n",
    "        plt.close()\n",
    "        all_deltas += deltas\n",
    "    print('total timings for ' + gesture)\n",
    "    fig_base_path = '../figures/raw/ALL_USERS/'+gesture+'/'\n",
    "    plt.hist( list(map(lambda x: x.total_seconds(), all_deltas)) )\n",
    "    plt.savefig(f'{fig_base_path}timing_of_{lt}.png')\n",
    "    plt.close()\n",
    "    all_for_all_gestures += all_deltas\n",
    "print('total timings for all gestures over all users')\n",
    "fig_base_path = '../figures/raw/ALL_USERS/'\n",
    "plt.hist( list(map(lambda x: x.total_seconds(), all_for_all_gestures)) )\n",
    "plt.savefig(f'{fig_base_path}timing_of_{lt}.png')\n",
    "plt.close()"
   ]
  },
  {
   "cell_type": "markdown",
   "metadata": {},
   "source": [
    "#### Value Ranges\n",
    "\n",
    "Next we look at the value ranges for each Channel/Sensor in the Dataset. This can enable us to deal with outliers, and look on a very high level on differences between users.\n",
    "\n",
    "TODO: For the overall distribution of values in the chanels, make t-tests and so to compare them..."
   ]
  },
  {
   "cell_type": "code",
   "execution_count": 6,
   "metadata": {},
   "outputs": [
    {
     "name": "stdout",
     "output_type": "stream",
     "text": [
      "Index(['18_Finger_1_Accel_X', '19_Finger_1_Accel_Y', '20_Finger_1_Accel_Z',\n",
      "       '24_Finger_2_Accel_X', '25_Finger_2_Accel_Y', '26_Finger_2_Accel_Z',\n",
      "       '30_Finger_3_Accel_X', '31_Finger_3_Accel_Y', '32_Finger_3_Accel_Z',\n",
      "       '36_Finger_4_Accel_X', '37_Finger_4_Accel_Y', '38_Finger_4_Accel_Z',\n",
      "       '42_Thumb_Accel_X', '43_Thumb_Accel_Y', '44_Thumb_Accel_Z',\n",
      "       '48_Palm_Accel_X', '49_Palm_Accel_Y', '50_Palm_Accel_Z',\n",
      "       '54_Wrist_Accel_X', '55_Wrist_Accel_Y', '56_Wrist_Accel_Z'],\n",
      "      dtype='object')\n"
     ]
    }
   ],
   "source": [
    "cols = users['AB73']['glove_merged'].columns\n",
    "all_accel = Constants().raw_indices['accel']\n",
    "print(cols[all_accel])"
   ]
  },
  {
   "cell_type": "code",
   "execution_count": 7,
   "metadata": {},
   "outputs": [],
   "source": [
    "def remove_outliers_with_percentile(vector, percentile, get_idx, next_ok):\n",
    "    perc = np.percentile(vector, percentile)\n",
    "    o3kidx = get_idx(vector, perc)\n",
    "    for i in o3kidx:\n",
    "        if len(vector) < i+1:\n",
    "            if next_ok(vector, i, perc):\n",
    "                vector[i] = (vector[i-1] + vector[i+1])/2\n",
    "            else:\n",
    "                vector[i] = vector[i-1]\n",
    "        else:\n",
    "            vector[i] = vector[i-1]\n",
    "\n",
    "def remove_lower_outliers_with_percentile(vector, percentile):\n",
    "    def get_idx(v, p):\n",
    "        return np.where(v < p)[0]\n",
    "    def next_ok(v, i, p):\n",
    "        return v[i+1] > p\n",
    "    remove_outliers_with_percentile(vector, percentile, get_idx, next_ok)\n",
    "\n",
    "def remove_higher_outliers_with_percentile(vector, percentile):\n",
    "    def get_idx(v, p):\n",
    "        return np.where(v > p)[0]\n",
    "    def next_ok(v, i, p):\n",
    "        return v[i+1] < p\n",
    "    remove_outliers_with_percentile(vector, percentile, get_idx, next_ok)"
   ]
  },
  {
   "cell_type": "code",
   "execution_count": 8,
   "metadata": {},
   "outputs": [],
   "source": [
    "higher_percentile = 98.5\n",
    "lower_percentile = 1.5"
   ]
  },
  {
   "cell_type": "code",
   "execution_count": 9,
   "metadata": {},
   "outputs": [],
   "source": [
    "def describe_value_range(columes, remove_outliers, show_overal):\n",
    "    all_vals = []\n",
    "    for username in usernames:\n",
    "        if not 'glove_merged' in users[username]:\n",
    "            print('skipping user' + username)\n",
    "            continue\n",
    "        accel = users[username]['glove_merged'][columes]\n",
    "        onebigline = accel.values.ravel().copy()\n",
    "        print('user: ' + username)\n",
    "        if remove_outliers:\n",
    "            remove_higher_outliers_with_percentile(onebigline, higher_percentile)\n",
    "            remove_lower_outliers_with_percentile(onebigline, lower_percentile)\n",
    "        print(pd.DataFrame(data=onebigline).describe())\n",
    "        all_vals += list(onebigline)\n",
    "        print(\"\")\n",
    "    if show_overal:\n",
    "        print(pd.DataFrame(data=all_vals).describe())\n",
    "#for gesture in gestures:\n",
    "#    for username in usernames:\n",
    "#        users[username]['glove_merged']"
   ]
  },
  {
   "cell_type": "code",
   "execution_count": 10,
   "metadata": {},
   "outputs": [
    {
     "data": {
      "text/plain": [
       "(array([2, 3]),)"
      ]
     },
     "execution_count": 10,
     "metadata": {},
     "output_type": "execute_result"
    }
   ],
   "source": [
    "#where usage test: \n",
    "a = np.array([1,2,3,4])\n",
    "idx = np.where(a>2)\n",
    "idx"
   ]
  },
  {
   "cell_type": "code",
   "execution_count": 11,
   "metadata": {},
   "outputs": [],
   "source": [
    "def show_boxplots(columes, remove_outliers, show_overal):\n",
    "    all_vals = []\n",
    "    for username in usernames:\n",
    "        if not 'glove_merged' in users[username]:\n",
    "            print('skipping user' + username)\n",
    "            continue\n",
    "        accel = users[username]['glove_merged'][cols[all_accel]]\n",
    "        onebigline = accel.values.ravel()\n",
    "        n = len(onebigline)\n",
    "        nh = n//2\n",
    "        if remove_outliers:\n",
    "            remove_higher_outliers_with_percentile(onebigline, higher_percentile)\n",
    "            remove_lower_outliers_with_percentile(onebigline, lower_percentile)\n",
    "        print('user: ', username, ' vals: ', n, ' mean: ', onebigline.mean(), ' std: ', onebigline.std(), ' min: ', onebigline.min(), ' max: ', onebigline.max())\n",
    "        print(onebigline[:4], \"...\", onebigline[nh:nh+4], \"...\",onebigline[-4:])\n",
    "        pd.DataFrame(data=onebigline.T).boxplot()\n",
    "        plt.show()\n",
    "        all_vals += list(onebigline)\n",
    "        print(\"\")\n",
    "    if show_overal:\n",
    "        n = len(all_vals)\n",
    "        nh = n//2\n",
    "        print(all_vals[:4], \"...\", all_vals[nh:nh+4], \"...\",all_vals[-4:])\n",
    "        pd.DataFrame(data=all_vals).T.boxplot()\n",
    "        plt.show()"
   ]
  },
  {
   "cell_type": "code",
   "execution_count": 12,
   "metadata": {},
   "outputs": [],
   "source": [
    "def show_boxplots_row(columes, remove_outliers, show_overal):\n",
    "    all_vals = []\n",
    "    all_dfs = []\n",
    "    for username in usernames:\n",
    "        if not 'glove_merged' in users[username]:\n",
    "            print('skipping user' + username)\n",
    "            continue\n",
    "        accel = users[username]['glove_merged'][cols[all_accel]]\n",
    "        onebigline = accel.values.ravel()\n",
    "        n = len(onebigline)\n",
    "        nh = n//2\n",
    "        if remove_outliers:\n",
    "            remove_higher_outliers_with_percentile(onebigline, higher_percentile)\n",
    "            remove_lower_outliers_with_percentile(onebigline, lower_percentile)\n",
    "        print('user: ', username, ' vals: ', n, ' mean: ', onebigline.mean(), ' std: ', onebigline.std(), ' min: ', onebigline.min(), ' max: ', onebigline.max())\n",
    "        print(onebigline[:4], \"...\", onebigline[nh:nh+4], \"...\",onebigline[-4:])\n",
    "        \n",
    "        if show_overal:\n",
    "            all_vals += list(onebigline)\n",
    "        df = pd.DataFrame(data=onebigline.T, columns= [username])\n",
    "        all_dfs.append(df)\n",
    "        print(\"\")\n",
    "    df = pd.concat(all_dfs, axis=1) \n",
    "    print(df)\n",
    "    df.boxplot()\n",
    "    plt.show()\n",
    "    if show_overal:\n",
    "        n = len(all_vals)\n",
    "        nh = n//2\n",
    "        print(all_vals[:4], \"...\", all_vals[nh:nh+4], \"...\",all_vals[-4:])\n",
    "        pd.DataFrame(data=all_vals).T.boxplot()\n",
    "        plt.show()"
   ]
  },
  {
   "cell_type": "code",
   "execution_count": 13,
   "metadata": {},
   "outputs": [
    {
     "name": "stdout",
     "output_type": "stream",
     "text": [
      "dict_keys(['flex', 'pressure', 'accel', 'gyro', 'magnetometer', 'lin_accel', 'thumb', 'finger_1', 'finger_2', 'finger_3', 'finger_4', 'wrist', 'palm'])\n"
     ]
    }
   ],
   "source": [
    "idx_keys = Constants().raw_indices.keys()\n",
    "print(idx_keys)"
   ]
  },
  {
   "cell_type": "code",
   "execution_count": 34,
   "metadata": {},
   "outputs": [
    {
     "name": "stdout",
     "output_type": "stream",
     "text": [
      "user: AB73\n",
      "                  0\n",
      "count  3.843168e+06\n",
      "mean   4.253109e+02\n",
      "std    1.096032e+03\n",
      "min   -2.247000e+03\n",
      "25%   -5.920000e+02\n",
      "50%    6.710000e+02\n",
      "75%    1.346000e+03\n",
      "max    2.313000e+03\n",
      "\n",
      "skipping userAE30\n",
      "user: AF82\n",
      "                  0\n",
      "count  2.222535e+06\n",
      "mean   3.296671e+02\n",
      "std    1.114297e+03\n",
      "min   -2.098000e+03\n",
      "25%   -7.140000e+02\n",
      "50%    3.770000e+02\n",
      "75%    1.424000e+03\n",
      "max    2.208000e+03\n",
      "\n",
      "user: AL29\n",
      "                  0\n",
      "count  3.869796e+06\n",
      "mean   4.380956e+02\n",
      "std    1.079509e+03\n",
      "min   -2.031000e+03\n",
      "25%   -5.490000e+02\n",
      "50%    4.100000e+02\n",
      "75%    1.501000e+03\n",
      "max    2.293000e+03\n",
      "\n",
      "user: AW18\n",
      "                  0\n",
      "count  2.166339e+06\n",
      "mean   3.938461e+02\n",
      "std    1.110300e+03\n",
      "min   -2.305000e+03\n",
      "25%   -5.030000e+02\n",
      "50%    5.940000e+02\n",
      "75%    1.287000e+03\n",
      "max    2.338000e+03\n",
      "\n",
      "user: CB23\n",
      "                  0\n",
      "count  2.211951e+06\n",
      "mean   5.256775e+02\n",
      "std    1.062236e+03\n",
      "min   -2.179000e+03\n",
      "25%   -2.490000e+02\n",
      "50%    4.340000e+02\n",
      "75%    1.520000e+03\n",
      "max    2.353000e+03\n",
      "\n",
      "user: CB24\n",
      "                  0\n",
      "count  2.227722e+06\n",
      "mean   4.295728e+02\n",
      "std    9.880066e+02\n",
      "min   -1.986000e+03\n",
      "25%   -1.030000e+02\n",
      "50%    3.800000e+02\n",
      "75%    1.288000e+03\n",
      "max    2.226000e+03\n",
      "\n",
      "user: CF58\n",
      "                  0\n",
      "count  2.505216e+06\n",
      "mean   3.166280e+02\n",
      "std    1.128782e+03\n",
      "min   -2.330000e+03\n",
      "25%   -6.810000e+02\n",
      "50%    4.660000e+02\n",
      "75%    1.322000e+03\n",
      "max    2.275000e+03\n",
      "\n",
      "user: DG12\n",
      "                  0\n",
      "count  2.195571e+06\n",
      "mean   2.843799e+02\n",
      "std    1.147229e+03\n",
      "min   -2.559000e+03\n",
      "25%   -6.370000e+02\n",
      "50%    4.140000e+02\n",
      "75%    1.279000e+03\n",
      "max    2.333000e+03\n",
      "\n",
      "user: DH42\n",
      "                  0\n",
      "count  2.319135e+06\n",
      "mean   4.458814e+02\n",
      "std    1.086054e+03\n",
      "min   -2.253000e+03\n",
      "25%   -5.660000e+02\n",
      "50%    5.530000e+02\n",
      "75%    1.465000e+03\n",
      "max    2.249000e+03\n",
      "\n",
      "user: DL24\n",
      "                  0\n",
      "count  3.806838e+06\n",
      "mean   4.673847e+02\n",
      "std    1.097113e+03\n",
      "min   -2.205000e+03\n",
      "25%   -3.340000e+02\n",
      "50%    2.040000e+02\n",
      "75%    1.631000e+03\n",
      "max    2.454000e+03\n",
      "\n",
      "user: JL61\n",
      "                  0\n",
      "count  2.363886e+06\n",
      "mean   4.455350e+02\n",
      "std    1.075074e+03\n",
      "min   -2.256000e+03\n",
      "25%   -6.270000e+02\n",
      "50%    6.850000e+02\n",
      "75%    1.429000e+03\n",
      "max    2.315000e+03\n",
      "\n",
      "user: JQ28\n",
      "                  0\n",
      "count  4.023516e+06\n",
      "mean   4.804964e+02\n",
      "std    1.064336e+03\n",
      "min   -2.206000e+03\n",
      "25%   -4.480000e+02\n",
      "50%    7.290000e+02\n",
      "75%    1.448000e+03\n",
      "max    2.314000e+03\n",
      "\n",
      "user: JS52\n",
      "                  0\n",
      "count  3.936009e+06\n",
      "mean   3.880986e+02\n",
      "std    1.119949e+03\n",
      "min   -2.372000e+03\n",
      "25%   -4.640000e+02\n",
      "50%    6.740000e+02\n",
      "75%    1.223000e+03\n",
      "max    2.440000e+03\n",
      "\n",
      "user: MF20\n",
      "                  0\n",
      "count  2.163441e+06\n",
      "mean   3.629614e+02\n",
      "std    1.108445e+03\n",
      "min   -2.167000e+03\n",
      "25%   -5.910000e+02\n",
      "50%    6.200000e+02\n",
      "75%    1.276000e+03\n",
      "max    2.212000e+03\n",
      "\n",
      "user: MS55\n",
      "                  0\n",
      "count  2.285892e+06\n",
      "mean   4.124475e+02\n",
      "std    1.096816e+03\n",
      "min   -2.308000e+03\n",
      "25%   -6.930000e+02\n",
      "50%    5.000000e+02\n",
      "75%    1.454000e+03\n",
      "max    2.320000e+03\n",
      "\n",
      "user: PC29\n",
      "                  0\n",
      "count  2.522898e+06\n",
      "mean   1.438769e+03\n",
      "std    4.540856e+03\n",
      "min   -1.098600e+04\n",
      "25%   -2.568000e+03\n",
      "50%    2.502000e+03\n",
      "75%    5.312000e+03\n",
      "max    9.480000e+03\n",
      "\n",
      "user: PM32\n",
      "                  0\n",
      "count  3.794028e+06\n",
      "mean   4.074812e+02\n",
      "std    1.120193e+03\n",
      "min   -2.685000e+03\n",
      "25%   -6.370000e+02\n",
      "50%    5.550000e+02\n",
      "75%    1.403000e+03\n",
      "max    2.465000e+03\n",
      "\n",
      "user: PS42\n",
      "                  0\n",
      "count  2.221695e+06\n",
      "mean   3.994999e+02\n",
      "std    1.089635e+03\n",
      "min   -1.959000e+03\n",
      "25%   -5.830000e+02\n",
      "50%    5.970000e+02\n",
      "75%    1.324000e+03\n",
      "max    2.208000e+03\n",
      "\n",
      "user: RR45\n",
      "                  0\n",
      "count  2.218671e+06\n",
      "mean   3.666654e+02\n",
      "std    1.119913e+03\n",
      "min   -2.419000e+03\n",
      "25%   -7.050000e+02\n",
      "50%    3.110000e+02\n",
      "75%    1.467000e+03\n",
      "max    2.423000e+03\n",
      "\n",
      "user: RW32\n",
      "                  0\n",
      "count  2.222241e+06\n",
      "mean   3.880888e+02\n",
      "std    1.125900e+03\n",
      "min   -2.656000e+03\n",
      "25%   -5.750000e+02\n",
      "50%    5.420000e+02\n",
      "75%    1.314000e+03\n",
      "max    2.364000e+03\n",
      "\n",
      "user: SF1\n",
      "                  0\n",
      "count  2.167305e+06\n",
      "mean   1.638121e+03\n",
      "std    4.049630e+03\n",
      "min   -7.738000e+03\n",
      "25%   -6.580000e+02\n",
      "50%    1.748000e+03\n",
      "75%    5.032000e+03\n",
      "max    8.598000e+03\n",
      "\n",
      "user: YW13\n",
      "                  0\n",
      "count  3.928722e+06\n",
      "mean   4.755096e+02\n",
      "std    1.059684e+03\n",
      "min   -2.283000e+03\n",
      "25%   -3.600000e+02\n",
      "50%    6.680000e+02\n",
      "75%    1.289000e+03\n",
      "max    2.316000e+03\n",
      "\n"
     ]
    }
   ],
   "source": [
    "describe_value_range(cols[all_accel], True, False)"
   ]
  },
  {
   "cell_type": "code",
   "execution_count": 35,
   "metadata": {
    "scrolled": true
   },
   "outputs": [
    {
     "name": "stdout",
     "output_type": "stream",
     "text": [
      "user:  AB73  vals:  3843168  mean:  425.3108745181059  std:  1096.0314146935139  min:  -2247  max:  2313\n",
      "[-488  897 1540 -880] ... [-1553   736   918 -1277] ... [2033    7 1532 1586]\n"
     ]
    },
    {
     "data": {
      "image/png": "[encoded data removed]",
      "text/plain": [
       "<Figure size 432x288 with 1 Axes>"
      ]
     },
     "metadata": {
      "needs_background": "light"
     },
     "output_type": "display_data"
    },
    {
     "name": "stdout",
     "output_type": "stream",
     "text": [
      "\n",
      "skipping userAE30\n",
      "user:  AF82  vals:  2222535  mean:  329.6670927566945  std:  1114.2967251811024  min:  -2098  max:  2208\n",
      "[0 0 0 0] ... [ 1620   328  -661 -1462] ... [2033 -856  525 2073]\n"
     ]
    },
    {
     "data": {
      "image/png": "[encoded data removed]",
      "text/plain": [
       "<Figure size 432x288 with 1 Axes>"
      ]
     },
     "metadata": {
      "needs_background": "light"
     },
     "output_type": "display_data"
    },
    {
     "name": "stdout",
     "output_type": "stream",
     "text": [
      "\n",
      "user:  AL29  vals:  3869796  mean:  438.095562401739  std:  1079.5085969790257  min:  -2031  max:  2293\n",
      "[0 0 0 0] ... [   51  -628 -1899 -1899] ... [2049 -502 1572 1577]\n"
     ]
    },
    {
     "data": {
      "image/png": "[encoded data removed]",
      "text/plain": [
       "<Figure size 432x288 with 1 Axes>"
      ]
     },
     "metadata": {
      "needs_background": "light"
     },
     "output_type": "display_data"
    },
    {
     "name": "stdout",
     "output_type": "stream",
     "text": [
      "\n",
      "user:  AW18  vals:  2166339  mean:  393.8461182668087  std:  1110.2993550298845  min:  -2305  max:  2338\n",
      "[0 0 0 0] ... [ 1825   729  -890 -1455] ... [2178  128 1208 1894]\n"
     ]
    },
    {
     "data": {
      "image/png": "[encoded data removed]",
      "text/plain": [
       "<Figure size 432x288 with 1 Axes>"
      ]
     },
     "metadata": {
      "needs_background": "light"
     },
     "output_type": "display_data"
    },
    {
     "name": "stdout",
     "output_type": "stream",
     "text": [
      "\n",
      "user:  CB23  vals:  2211951  mean:  525.6775321876479  std:  1062.2356617863697  min:  -2179  max:  2353\n",
      "[-1017   497  1462  -550] ... [1939  520 -172 -299] ... [ 474  195 1970 -495]\n"
     ]
    },
    {
     "data": {
      "image/png": "[encoded data removed]",
      "text/plain": [
       "<Figure size 432x288 with 1 Axes>"
      ]
     },
     "metadata": {
      "needs_background": "light"
     },
     "output_type": "display_data"
    },
    {
     "name": "stdout",
     "output_type": "stream",
     "text": [
      "\n",
      "user:  CB24  vals:  2227722  mean:  429.572764465225  std:  988.0063983322849  min:  -1986  max:  2226\n",
      "[-1117   779  1284  -744] ... [-1283   806  1123  -837] ... [2199  221 1644 1503]\n"
     ]
    },
    {
     "data": {
      "image/png": "[encoded data removed]",
      "text/plain": [
       "<Figure size 432x288 with 1 Axes>"
      ]
     },
     "metadata": {
      "needs_background": "light"
     },
     "output_type": "display_data"
    },
    {
     "name": "stdout",
     "output_type": "stream",
     "text": [
      "\n",
      "user:  CF58  vals:  2505216  mean:  316.6279530387799  std:  1128.781927770286  min:  -2330  max:  2275\n",
      "[-1298   396  1310 -1123] ... [-1107    92  1497 -1276] ... [1503 -838 -838 1168]\n"
     ]
    },
    {
     "data": {
      "image/png": "[encoded data removed]",
      "text/plain": [
       "<Figure size 432x288 with 1 Axes>"
      ]
     },
     "metadata": {
      "needs_background": "light"
     },
     "output_type": "display_data"
    },
    {
     "name": "stdout",
     "output_type": "stream",
     "text": [
      "\n",
      "user:  DG12  vals:  2195571  mean:  284.3798925199868  std:  1147.2287898338961  min:  -2559  max:  2333\n",
      "[-1218   601  1294 -1032] ... [ 1476  1308  -613 -1107] ... [2124 -540  466 2186]\n"
     ]
    },
    {
     "data": {
      "image/png": "[encoded data removed]",
      "text/plain": [
       "<Figure size 432x288 with 1 Axes>"
      ]
     },
     "metadata": {
      "needs_background": "light"
     },
     "output_type": "display_data"
    },
    {
     "name": "stdout",
     "output_type": "stream",
     "text": [
      "\n",
      "user:  DH42  vals:  2319135  mean:  445.8814264801316  std:  1086.053266591208  min:  -2253  max:  2249\n",
      "[1718 2243 -447 1858] ... [1626 1102 -734 -747] ... [2129 -344 1113 1927]\n"
     ]
    },
    {
     "data": {
      "image/png": "[encoded data removed]",
      "text/plain": [
       "<Figure size 432x288 with 1 Axes>"
      ]
     },
     "metadata": {
      "needs_background": "light"
     },
     "output_type": "display_data"
    },
    {
     "name": "stdout",
     "output_type": "stream",
     "text": [
      "\n",
      "user:  DL24  vals:  3806838  mean:  467.3847271672711  std:  1097.1131596969478  min:  -2205  max:  2454\n",
      "[-589 1948 -563 -356] ... [-134 2168 -955 -167] ... [1894  -61 2019  549]\n"
     ]
    },
    {
     "data": {
      "image/png": "[encoded data removed]",
      "text/plain": [
       "<Figure size 432x288 with 1 Axes>"
      ]
     },
     "metadata": {
      "needs_background": "light"
     },
     "output_type": "display_data"
    },
    {
     "name": "stdout",
     "output_type": "stream",
     "text": [
      "\n",
      "user:  JL61  vals:  2363886  mean:  445.53498349751214  std:  1075.073534807274  min:  -2256  max:  2315\n",
      "[0 0 0 0] ... [-1182   451  1590 -1200] ... [1943 -538 1900  852]\n"
     ]
    },
    {
     "data": {
      "image/png": "[encoded data removed]",
      "text/plain": [
       "<Figure size 432x288 with 1 Axes>"
      ]
     },
     "metadata": {
      "needs_background": "light"
     },
     "output_type": "display_data"
    },
    {
     "name": "stdout",
     "output_type": "stream",
     "text": [
      "\n",
      "user:  JQ28  vals:  4023516  mean:  480.4964148272307  std:  1064.3357124738918  min:  -2206  max:  2314\n",
      "[-909  787 1447 -774] ... [-972  838 1414 -846] ... [1026  -61 1832 1316]\n"
     ]
    },
    {
     "data": {
      "image/png": "[encoded data removed]",
      "text/plain": [
       "<Figure size 432x288 with 1 Axes>"
      ]
     },
     "metadata": {
      "needs_background": "light"
     },
     "output_type": "display_data"
    },
    {
     "name": "stdout",
     "output_type": "stream",
     "text": [
      "\n",
      "user:  JS52  vals:  3936009  mean:  388.09855338237287  std:  1119.9490491364948  min:  -2372  max:  2440\n",
      "[-1881   649   -13 -1725] ... [ 1882   450 -1030 -1096] ... [2041   78 1814 1234]\n"
     ]
    },
    {
     "data": {
      "image/png": "[encoded data removed]",
      "text/plain": [
       "<Figure size 432x288 with 1 Axes>"
      ]
     },
     "metadata": {
      "needs_background": "light"
     },
     "output_type": "display_data"
    },
    {
     "name": "stdout",
     "output_type": "stream",
     "text": [
      "\n",
      "user:  MF20  vals:  2163441  mean:  362.96136525100525  std:  1108.444940012732  min:  -2167  max:  2212\n",
      "[-1785   784   317 -1238] ... [ 1696   789  -789 -1633] ... [ 698  416 1939 -250]\n"
     ]
    },
    {
     "data": {
      "image/png": "[encoded data removed]",
      "text/plain": [
       "<Figure size 432x288 with 1 Axes>"
      ]
     },
     "metadata": {
      "needs_background": "light"
     },
     "output_type": "display_data"
    },
    {
     "name": "stdout",
     "output_type": "stream",
     "text": [
      "\n",
      "user:  MS55  vals:  2285892  mean:  412.44749751956783  std:  1096.815356904594  min:  -2308  max:  2320\n",
      "[0 0 0 0] ... [-1023   575  1448  -869] ... [-243  365 1753 -642]\n"
     ]
    },
    {
     "data": {
      "image/png": "[encoded data removed]",
      "text/plain": [
       "<Figure size 432x288 with 1 Axes>"
      ]
     },
     "metadata": {
      "needs_background": "light"
     },
     "output_type": "display_data"
    },
    {
     "name": "stdout",
     "output_type": "stream",
     "text": [
      "\n",
      "user:  PC29  vals:  2522898  mean:  1438.7687928723237  std:  4540.8552038952  min:  -10986  max:  9480\n",
      "[-5136 -4928  2380 -5574] ... [-6302  3188  3142 -4654] ... [ 3078 -2394  6404  6592]\n"
     ]
    },
    {
     "data": {
      "image/png": "[encoded data removed]",
      "text/plain": [
       "<Figure size 432x288 with 1 Axes>"
      ]
     },
     "metadata": {
      "needs_background": "light"
     },
     "output_type": "display_data"
    },
    {
     "name": "stdout",
     "output_type": "stream",
     "text": [
      "\n",
      "user:  PM32  vals:  3794028  mean:  407.4812363008391  std:  1120.1927688515834  min:  -2685  max:  2465\n",
      "[0 0 0 0] ... [-846  798 1448 -809] ... [2078 -660  810 2006]\n"
     ]
    },
    {
     "data": {
      "image/png": "[encoded data removed]",
      "text/plain": [
       "<Figure size 432x288 with 1 Axes>"
      ]
     },
     "metadata": {
      "needs_background": "light"
     },
     "output_type": "display_data"
    },
    {
     "name": "stdout",
     "output_type": "stream",
     "text": [
      "\n",
      "user:  PS42  vals:  2221695  mean:  399.4999124542298  std:  1089.6347618401437  min:  -1959  max:  2208\n",
      "[0 0 0 0] ... [1649 1042 -898 -929] ... [2075 -356 1074 1923]\n"
     ]
    },
    {
     "data": {
      "image/png": "[encoded data removed]",
      "text/plain": [
       "<Figure size 432x288 with 1 Axes>"
      ]
     },
     "metadata": {
      "needs_background": "light"
     },
     "output_type": "display_data"
    },
    {
     "name": "stdout",
     "output_type": "stream",
     "text": [
      "\n",
      "user:  RR45  vals:  2218671  mean:  366.66542403087254  std:  1119.9128046303526  min:  -2419  max:  2423\n",
      "[-1269   226  1294  -954] ... [ 1422  1297  -793 -1005] ... [1983 -545  210 2182]\n"
     ]
    },
    {
     "data": {
      "image/png": "[encoded data removed]",
      "text/plain": [
       "<Figure size 432x288 with 1 Axes>"
      ]
     },
     "metadata": {
      "needs_background": "light"
     },
     "output_type": "display_data"
    },
    {
     "name": "stdout",
     "output_type": "stream",
     "text": [
      "\n",
      "user:  RW32  vals:  2222241  mean:  388.08880719957915  std:  1125.8999138395734  min:  -2656  max:  2364\n",
      "[-1257   440  1323 -1047] ... [ 1657   997  -671 -1535] ... [ 574  393 1498 2074]\n"
     ]
    },
    {
     "data": {
      "image/png": "[encoded data removed]",
      "text/plain": [
       "<Figure size 432x288 with 1 Axes>"
      ]
     },
     "metadata": {
      "needs_background": "light"
     },
     "output_type": "display_data"
    },
    {
     "name": "stdout",
     "output_type": "stream",
     "text": [
      "\n",
      "user:  SF1  vals:  2167305  mean:  1638.120914684366  std:  4049.629331813869  min:  -7738  max:  8598\n",
      "[ 6102  5298 -5444  3608] ... [6900 1788    0    0] ... [ 8268 -1344  4618  7650]\n"
     ]
    },
    {
     "data": {
      "image/png": "[encoded data removed]",
      "text/plain": [
       "<Figure size 432x288 with 1 Axes>"
      ]
     },
     "metadata": {
      "needs_background": "light"
     },
     "output_type": "display_data"
    },
    {
     "name": "stdout",
     "output_type": "stream",
     "text": [
      "\n",
      "user:  YW13  vals:  3928722  mean:  475.50964079413103  std:  1059.6833659224171  min:  -2283  max:  2316\n",
      "[ -717  1195 -1789  -823] ... [-1022   926  1325  -730] ... [1637  203 2042 -142]\n"
     ]
    },
    {
     "data": {
      "image/png": "[encoded data removed]",
      "text/plain": [
       "<Figure size 432x288 with 1 Axes>"
      ]
     },
     "metadata": {
      "needs_background": "light"
     },
     "output_type": "display_data"
    },
    {
     "name": "stdout",
     "output_type": "stream",
     "text": [
      "\n"
     ]
    }
   ],
   "source": [
    "show_boxplots(cols[all_accel], True, False)"
   ]
  },
  {
   "cell_type": "code",
   "execution_count": 14,
   "metadata": {},
   "outputs": [
    {
     "name": "stdout",
     "output_type": "stream",
     "text": [
      "Index(['21_Finger_1_Gyro_X', '22_Finger_1_Gyro_Y', '23_Finger_1_Gyro_Z',\n",
      "       '27_Finger_2_Gyro_X', '28_Finger_2_Gyro_Y', '29_Finger_2_Gyro_Z',\n",
      "       '33_Finger_3_Gyro_X', '34_Finger_3_Gyro_Y', '35_Finger_3_Gyro_Z',\n",
      "       '39_Finger_4_Gyro_X', '40_Finger_4_Gyro_Y', '41_Finger_4_Gyro_Z',\n",
      "       '45_Thumb_Gyro_X', '46_Thumb_Gyro_Y', '47_Thumb_Gyro_Z',\n",
      "       '51_Palm_Gyro_X', '52_Palm_Gyro_Y', '53_Palm_Gyro_Z', '57_Wrist_Gyro_X',\n",
      "       '58_Wrist_Gyro_Y', '59_Wrist_Gyro_Z'],\n",
      "      dtype='object')\n"
     ]
    }
   ],
   "source": [
    "all_gyro = Constants().raw_indices['gyro']\n",
    "print(cols[all_gyro])"
   ]
  },
  {
   "cell_type": "code",
   "execution_count": 37,
   "metadata": {},
   "outputs": [
    {
     "name": "stdout",
     "output_type": "stream",
     "text": [
      "user: AB73\n",
      "                  0\n",
      "count  3.843168e+06\n",
      "mean  -1.524872e+01\n",
      "std    7.369976e+02\n",
      "min   -3.623000e+03\n",
      "25%   -4.300000e+01\n",
      "50%   -1.000000e+00\n",
      "75%    3.800000e+01\n",
      "max    3.490000e+03\n",
      "\n",
      "skipping userAE30\n",
      "user: AF82\n",
      "                  0\n",
      "count  2.222535e+06\n",
      "mean  -1.009352e+01\n",
      "std    6.580186e+02\n",
      "min   -3.211000e+03\n",
      "25%   -4.300000e+01\n",
      "50%   -3.000000e+00\n",
      "75%    3.100000e+01\n",
      "max    3.287000e+03\n",
      "\n",
      "user: AL29\n",
      "                  0\n",
      "count  3.869796e+06\n",
      "mean  -1.501949e+01\n",
      "std    6.743646e+02\n",
      "min   -3.154000e+03\n",
      "25%   -4.200000e+01\n",
      "50%   -3.000000e+00\n",
      "75%    3.000000e+01\n",
      "max    3.172000e+03\n",
      "\n",
      "user: AW18\n",
      "                  0\n",
      "count  2.166339e+06\n",
      "mean  -1.664590e+01\n",
      "std    6.459756e+02\n",
      "min   -3.408000e+03\n",
      "25%   -3.700000e+01\n",
      "50%   -3.000000e+00\n",
      "75%    3.300000e+01\n",
      "max    3.081000e+03\n",
      "\n",
      "user: CB23\n",
      "                  0\n",
      "count  2.211951e+06\n",
      "mean  -1.660161e+01\n",
      "std    5.905053e+02\n",
      "min   -2.990000e+03\n",
      "25%   -5.300000e+01\n",
      "50%   -7.000000e+00\n",
      "75%    4.400000e+01\n",
      "max    2.667000e+03\n",
      "\n",
      "user: CB24\n",
      "                  0\n",
      "count  2.227722e+06\n",
      "mean  -1.041319e+01\n",
      "std    5.132980e+02\n",
      "min   -2.970000e+03\n",
      "25%   -3.000000e+01\n",
      "50%    0.000000e+00\n",
      "75%    2.100000e+01\n",
      "max    2.803000e+03\n",
      "\n",
      "user: CF58\n",
      "                  0\n",
      "count  2.505216e+06\n",
      "mean  -1.612170e+01\n",
      "std    6.430648e+02\n",
      "min   -3.372000e+03\n",
      "25%   -3.400000e+01\n",
      "50%   -2.000000e+00\n",
      "75%    2.400000e+01\n",
      "max    3.236000e+03\n",
      "\n",
      "user: DG12\n",
      "                  0\n",
      "count  2.195571e+06\n",
      "mean  -1.635631e+01\n",
      "std    6.357944e+02\n",
      "min   -3.548000e+03\n",
      "25%   -3.600000e+01\n",
      "50%   -1.000000e+00\n",
      "75%    2.600000e+01\n",
      "max    3.217000e+03\n",
      "\n",
      "user: DH42\n",
      "                  0\n",
      "count  2.319135e+06\n",
      "mean   1.583151e-01\n",
      "std    6.861514e+02\n",
      "min   -3.437000e+03\n",
      "25%   -3.900000e+01\n",
      "50%   -1.000000e+00\n",
      "75%    2.700000e+01\n",
      "max    3.402000e+03\n",
      "\n",
      "user: DL24\n",
      "                  0\n",
      "count  3.806838e+06\n",
      "mean  -9.401210e+00\n",
      "std    7.999075e+02\n",
      "min   -4.001000e+03\n",
      "25%   -5.100000e+01\n",
      "50%   -5.000000e+00\n",
      "75%    4.500000e+01\n",
      "max    3.558000e+03\n",
      "\n",
      "user: JL61\n",
      "                  0\n",
      "count  2.363886e+06\n",
      "mean  -1.861517e+01\n",
      "std    6.765661e+02\n",
      "min   -3.551000e+03\n",
      "25%   -3.900000e+01\n",
      "50%   -2.000000e+00\n",
      "75%    2.800000e+01\n",
      "max    3.292000e+03\n",
      "\n",
      "user: JQ28\n",
      "                  0\n",
      "count  4.023516e+06\n",
      "mean  -1.650147e+01\n",
      "std    7.375992e+02\n",
      "min   -3.782000e+03\n",
      "25%   -3.800000e+01\n",
      "50%   -1.000000e+00\n",
      "75%    2.900000e+01\n",
      "max    3.554000e+03\n",
      "\n",
      "user: JS52\n",
      "                  0\n",
      "count  3.936009e+06\n",
      "mean  -1.188706e+01\n",
      "std    7.349104e+02\n",
      "min   -3.710000e+03\n",
      "25%   -4.400000e+01\n",
      "50%   -1.000000e+00\n",
      "75%    3.500000e+01\n",
      "max    3.456000e+03\n",
      "\n",
      "user: MF20\n",
      "                  0\n",
      "count  2.163441e+06\n",
      "mean  -1.873741e+01\n",
      "std    6.156978e+02\n",
      "min   -3.097000e+03\n",
      "25%   -4.200000e+01\n",
      "50%   -5.000000e+00\n",
      "75%    2.700000e+01\n",
      "max    2.970000e+03\n",
      "\n",
      "user: MS55\n",
      "                  0\n",
      "count  2.285892e+06\n",
      "mean  -2.012008e+01\n",
      "std    6.620905e+02\n",
      "min   -3.783000e+03\n",
      "25%   -3.700000e+01\n",
      "50%   -3.000000e+00\n",
      "75%    2.600000e+01\n",
      "max    3.281000e+03\n",
      "\n",
      "user: PC29\n",
      "                  0\n",
      "count  2.522898e+06\n",
      "mean  -2.656163e+01\n",
      "std    7.625435e+02\n",
      "min   -4.039000e+03\n",
      "25%   -5.400000e+01\n",
      "50%   -6.000000e+00\n",
      "75%    4.100000e+01\n",
      "max    3.726000e+03\n",
      "\n",
      "user: PM32\n",
      "                  0\n",
      "count  3.794028e+06\n",
      "mean  -2.762317e+01\n",
      "std    7.843287e+02\n",
      "min   -4.119000e+03\n",
      "25%   -3.900000e+01\n",
      "50%   -1.000000e+00\n",
      "75%    3.300000e+01\n",
      "max    3.692000e+03\n",
      "\n",
      "user: PS42\n",
      "                  0\n",
      "count  2.221695e+06\n",
      "mean  -2.126129e+01\n",
      "std    4.968015e+02\n",
      "min   -2.695000e+03\n",
      "25%   -3.500000e+01\n",
      "50%   -1.000000e+00\n",
      "75%    2.700000e+01\n",
      "max    2.377000e+03\n",
      "\n",
      "user: RR45\n",
      "                  0\n",
      "count  2.218671e+06\n",
      "mean  -1.628610e+01\n",
      "std    6.767357e+02\n",
      "min   -3.679000e+03\n",
      "25%   -3.300000e+01\n",
      "50%   -1.000000e+00\n",
      "75%    2.600000e+01\n",
      "max    3.433000e+03\n",
      "\n",
      "user: RW32\n",
      "                  0\n",
      "count  2.222241e+06\n",
      "mean  -1.809235e+01\n",
      "std    7.620926e+02\n",
      "min   -4.084000e+03\n",
      "25%   -3.700000e+01\n",
      "50%   -2.000000e+00\n",
      "75%    2.800000e+01\n",
      "max    3.781000e+03\n",
      "\n",
      "user: SF1\n",
      "                  0\n",
      "count  2.167305e+06\n",
      "mean  -1.861852e+01\n",
      "std    4.899248e+02\n",
      "min   -2.811000e+03\n",
      "25%   -4.200000e+01\n",
      "50%    0.000000e+00\n",
      "75%    3.700000e+01\n",
      "max    2.564000e+03\n",
      "\n",
      "user: YW13\n",
      "                  0\n",
      "count  3.928722e+06\n",
      "mean  -1.838168e+01\n",
      "std    6.871739e+02\n",
      "min   -3.656000e+03\n",
      "25%   -3.800000e+01\n",
      "50%   -1.000000e+00\n",
      "75%    2.800000e+01\n",
      "max    3.207000e+03\n",
      "\n"
     ]
    }
   ],
   "source": [
    "describe_value_range(cols[all_gyro], True, False)"
   ]
  },
  {
   "cell_type": "code",
   "execution_count": 38,
   "metadata": {},
   "outputs": [
    {
     "name": "stdout",
     "output_type": "stream",
     "text": [
      "user:  AB73  vals:  3843168  mean:  425.3108745181059  std:  1096.0314146935139  min:  -2247  max:  2313\n",
      "[-488  897 1540 -880] ... [-1553   736   918 -1277] ... [2033    7 1532 1586]\n"
     ]
    },
    {
     "data": {
      "image/png": "[encoded data removed]",
      "text/plain": [
       "<Figure size 432x288 with 1 Axes>"
      ]
     },
     "metadata": {
      "needs_background": "light"
     },
     "output_type": "display_data"
    },
    {
     "name": "stdout",
     "output_type": "stream",
     "text": [
      "\n",
      "skipping userAE30\n",
      "user:  AF82  vals:  2222535  mean:  329.6670927566945  std:  1114.2967251811024  min:  -2098  max:  2208\n",
      "[0 0 0 0] ... [ 1620   328  -661 -1462] ... [2033 -856  525 2073]\n"
     ]
    },
    {
     "data": {
      "image/png": "[encoded data removed]",
      "text/plain": [
       "<Figure size 432x288 with 1 Axes>"
      ]
     },
     "metadata": {
      "needs_background": "light"
     },
     "output_type": "display_data"
    },
    {
     "name": "stdout",
     "output_type": "stream",
     "text": [
      "\n",
      "user:  AL29  vals:  3869796  mean:  438.095562401739  std:  1079.5085969790257  min:  -2031  max:  2293\n",
      "[0 0 0 0] ... [   51  -628 -1899 -1899] ... [2049 -502 1572 1577]\n"
     ]
    },
    {
     "data": {
      "image/png": "[encoded data removed]",
      "text/plain": [
       "<Figure size 432x288 with 1 Axes>"
      ]
     },
     "metadata": {
      "needs_background": "light"
     },
     "output_type": "display_data"
    },
    {
     "name": "stdout",
     "output_type": "stream",
     "text": [
      "\n",
      "user:  AW18  vals:  2166339  mean:  393.8461182668087  std:  1110.2993550298845  min:  -2305  max:  2338\n",
      "[0 0 0 0] ... [ 1825   729  -890 -1455] ... [2178  128 1208 1894]\n"
     ]
    },
    {
     "data": {
      "image/png": "[encoded data removed]",
      "text/plain": [
       "<Figure size 432x288 with 1 Axes>"
      ]
     },
     "metadata": {
      "needs_background": "light"
     },
     "output_type": "display_data"
    },
    {
     "name": "stdout",
     "output_type": "stream",
     "text": [
      "\n",
      "user:  CB23  vals:  2211951  mean:  525.6775321876479  std:  1062.2356617863697  min:  -2179  max:  2353\n",
      "[-1017   497  1462  -550] ... [1939  520 -172 -299] ... [ 474  195 1970 -495]\n"
     ]
    },
    {
     "data": {
      "image/png": "[encoded data removed]",
      "text/plain": [
       "<Figure size 432x288 with 1 Axes>"
      ]
     },
     "metadata": {
      "needs_background": "light"
     },
     "output_type": "display_data"
    },
    {
     "name": "stdout",
     "output_type": "stream",
     "text": [
      "\n",
      "user:  CB24  vals:  2227722  mean:  429.572764465225  std:  988.0063983322849  min:  -1986  max:  2226\n",
      "[-1117   779  1284  -744] ... [-1283   806  1123  -837] ... [2199  221 1644 1503]\n"
     ]
    },
    {
     "data": {
      "image/png": "[encoded data removed]",
      "text/plain": [
       "<Figure size 432x288 with 1 Axes>"
      ]
     },
     "metadata": {
      "needs_background": "light"
     },
     "output_type": "display_data"
    },
    {
     "name": "stdout",
     "output_type": "stream",
     "text": [
      "\n",
      "user:  CF58  vals:  2505216  mean:  316.6279530387799  std:  1128.781927770286  min:  -2330  max:  2275\n",
      "[-1298   396  1310 -1123] ... [-1107    92  1497 -1276] ... [1503 -838 -838 1168]\n"
     ]
    },
    {
     "data": {
      "image/png": "[encoded data removed]",
      "text/plain": [
       "<Figure size 432x288 with 1 Axes>"
      ]
     },
     "metadata": {
      "needs_background": "light"
     },
     "output_type": "display_data"
    },
    {
     "name": "stdout",
     "output_type": "stream",
     "text": [
      "\n",
      "user:  DG12  vals:  2195571  mean:  284.3798925199868  std:  1147.2287898338961  min:  -2559  max:  2333\n",
      "[-1218   601  1294 -1032] ... [ 1476  1308  -613 -1107] ... [2124 -540  466 2186]\n"
     ]
    },
    {
     "data": {
      "image/png": "[encoded data removed]",
      "text/plain": [
       "<Figure size 432x288 with 1 Axes>"
      ]
     },
     "metadata": {
      "needs_background": "light"
     },
     "output_type": "display_data"
    },
    {
     "name": "stdout",
     "output_type": "stream",
     "text": [
      "\n",
      "user:  DH42  vals:  2319135  mean:  445.8814264801316  std:  1086.053266591208  min:  -2253  max:  2249\n",
      "[1718 2243 -447 1858] ... [1626 1102 -734 -747] ... [2129 -344 1113 1927]\n"
     ]
    },
    {
     "data": {
      "image/png": "[encoded data removed]",
      "text/plain": [
       "<Figure size 432x288 with 1 Axes>"
      ]
     },
     "metadata": {
      "needs_background": "light"
     },
     "output_type": "display_data"
    },
    {
     "name": "stdout",
     "output_type": "stream",
     "text": [
      "\n",
      "user:  DL24  vals:  3806838  mean:  467.3847271672711  std:  1097.1131596969478  min:  -2205  max:  2454\n",
      "[-589 1948 -563 -356] ... [-134 2168 -955 -167] ... [1894  -61 2019  549]\n"
     ]
    },
    {
     "data": {
      "image/png": "[encoded data removed]",
      "text/plain": [
       "<Figure size 432x288 with 1 Axes>"
      ]
     },
     "metadata": {
      "needs_background": "light"
     },
     "output_type": "display_data"
    },
    {
     "name": "stdout",
     "output_type": "stream",
     "text": [
      "\n",
      "user:  JL61  vals:  2363886  mean:  445.53498349751214  std:  1075.073534807274  min:  -2256  max:  2315\n",
      "[0 0 0 0] ... [-1182   451  1590 -1200] ... [1943 -538 1900  852]\n"
     ]
    },
    {
     "data": {
      "image/png": "[encoded data removed]",
      "text/plain": [
       "<Figure size 432x288 with 1 Axes>"
      ]
     },
     "metadata": {
      "needs_background": "light"
     },
     "output_type": "display_data"
    },
    {
     "name": "stdout",
     "output_type": "stream",
     "text": [
      "\n",
      "user:  JQ28  vals:  4023516  mean:  480.4964148272307  std:  1064.3357124738918  min:  -2206  max:  2314\n",
      "[-909  787 1447 -774] ... [-972  838 1414 -846] ... [1026  -61 1832 1316]\n"
     ]
    },
    {
     "data": {
      "image/png": "[encoded data removed]",
      "text/plain": [
       "<Figure size 432x288 with 1 Axes>"
      ]
     },
     "metadata": {
      "needs_background": "light"
     },
     "output_type": "display_data"
    },
    {
     "name": "stdout",
     "output_type": "stream",
     "text": [
      "\n",
      "user:  JS52  vals:  3936009  mean:  388.09855338237287  std:  1119.9490491364948  min:  -2372  max:  2440\n",
      "[-1881   649   -13 -1725] ... [ 1882   450 -1030 -1096] ... [2041   78 1814 1234]\n"
     ]
    },
    {
     "data": {
      "image/png": "[encoded data removed]",
      "text/plain": [
       "<Figure size 432x288 with 1 Axes>"
      ]
     },
     "metadata": {
      "needs_background": "light"
     },
     "output_type": "display_data"
    },
    {
     "name": "stdout",
     "output_type": "stream",
     "text": [
      "\n",
      "user:  MF20  vals:  2163441  mean:  362.96136525100525  std:  1108.444940012732  min:  -2167  max:  2212\n",
      "[-1785   784   317 -1238] ... [ 1696   789  -789 -1633] ... [ 698  416 1939 -250]\n"
     ]
    },
    {
     "data": {
      "image/png": "[encoded data removed]",
      "text/plain": [
       "<Figure size 432x288 with 1 Axes>"
      ]
     },
     "metadata": {
      "needs_background": "light"
     },
     "output_type": "display_data"
    },
    {
     "name": "stdout",
     "output_type": "stream",
     "text": [
      "\n",
      "user:  MS55  vals:  2285892  mean:  412.44749751956783  std:  1096.815356904594  min:  -2308  max:  2320\n",
      "[0 0 0 0] ... [-1023   575  1448  -869] ... [-243  365 1753 -642]\n"
     ]
    },
    {
     "data": {
      "image/png": "[encoded data removed]",
      "text/plain": [
       "<Figure size 432x288 with 1 Axes>"
      ]
     },
     "metadata": {
      "needs_background": "light"
     },
     "output_type": "display_data"
    },
    {
     "name": "stdout",
     "output_type": "stream",
     "text": [
      "\n",
      "user:  PC29  vals:  2522898  mean:  1438.7687928723237  std:  4540.8552038952  min:  -10986  max:  9480\n",
      "[-5136 -4928  2380 -5574] ... [-6302  3188  3142 -4654] ... [ 3078 -2394  6404  6592]\n"
     ]
    },
    {
     "data": {
      "image/png": "[encoded data removed]",
      "text/plain": [
       "<Figure size 432x288 with 1 Axes>"
      ]
     },
     "metadata": {
      "needs_background": "light"
     },
     "output_type": "display_data"
    },
    {
     "name": "stdout",
     "output_type": "stream",
     "text": [
      "\n",
      "user:  PM32  vals:  3794028  mean:  407.4812363008391  std:  1120.1927688515834  min:  -2685  max:  2465\n",
      "[0 0 0 0] ... [-846  798 1448 -809] ... [2078 -660  810 2006]\n"
     ]
    },
    {
     "data": {
      "image/png": "[encoded data removed]",
      "text/plain": [
       "<Figure size 432x288 with 1 Axes>"
      ]
     },
     "metadata": {
      "needs_background": "light"
     },
     "output_type": "display_data"
    },
    {
     "name": "stdout",
     "output_type": "stream",
     "text": [
      "\n",
      "user:  PS42  vals:  2221695  mean:  399.4999124542298  std:  1089.6347618401437  min:  -1959  max:  2208\n",
      "[0 0 0 0] ... [1649 1042 -898 -929] ... [2075 -356 1074 1923]\n"
     ]
    },
    {
     "data": {
      "image/png": "[encoded data removed]",
      "text/plain": [
       "<Figure size 432x288 with 1 Axes>"
      ]
     },
     "metadata": {
      "needs_background": "light"
     },
     "output_type": "display_data"
    },
    {
     "name": "stdout",
     "output_type": "stream",
     "text": [
      "\n",
      "user:  RR45  vals:  2218671  mean:  366.66542403087254  std:  1119.9128046303526  min:  -2419  max:  2423\n",
      "[-1269   226  1294  -954] ... [ 1422  1297  -793 -1005] ... [1983 -545  210 2182]\n"
     ]
    },
    {
     "data": {
      "image/png": "[encoded data removed]",
      "text/plain": [
       "<Figure size 432x288 with 1 Axes>"
      ]
     },
     "metadata": {
      "needs_background": "light"
     },
     "output_type": "display_data"
    },
    {
     "name": "stdout",
     "output_type": "stream",
     "text": [
      "\n",
      "user:  RW32  vals:  2222241  mean:  388.08880719957915  std:  1125.8999138395734  min:  -2656  max:  2364\n",
      "[-1257   440  1323 -1047] ... [ 1657   997  -671 -1535] ... [ 574  393 1498 2074]\n"
     ]
    },
    {
     "data": {
      "image/png": "[encoded data removed]",
      "text/plain": [
       "<Figure size 432x288 with 1 Axes>"
      ]
     },
     "metadata": {
      "needs_background": "light"
     },
     "output_type": "display_data"
    },
    {
     "name": "stdout",
     "output_type": "stream",
     "text": [
      "\n",
      "user:  SF1  vals:  2167305  mean:  1638.120914684366  std:  4049.629331813869  min:  -7738  max:  8598\n",
      "[ 6102  5298 -5444  3608] ... [6900 1788    0    0] ... [ 8268 -1344  4618  7650]\n"
     ]
    },
    {
     "data": {
      "image/png": "[encoded data removed]",
      "text/plain": [
       "<Figure size 432x288 with 1 Axes>"
      ]
     },
     "metadata": {
      "needs_background": "light"
     },
     "output_type": "display_data"
    },
    {
     "name": "stdout",
     "output_type": "stream",
     "text": [
      "\n",
      "user:  YW13  vals:  3928722  mean:  475.50964079413103  std:  1059.6833659224171  min:  -2283  max:  2316\n",
      "[ -717  1195 -1789  -823] ... [-1022   926  1325  -730] ... [1637  203 2042 -142]\n"
     ]
    },
    {
     "data": {
      "image/png": "[encoded data removed]",
      "text/plain": [
       "<Figure size 432x288 with 1 Axes>"
      ]
     },
     "metadata": {
      "needs_background": "light"
     },
     "output_type": "display_data"
    },
    {
     "name": "stdout",
     "output_type": "stream",
     "text": [
      "\n"
     ]
    }
   ],
   "source": [
    "show_boxplots(cols[all_gyro], True, False)"
   ]
  },
  {
   "cell_type": "code",
   "execution_count": 15,
   "metadata": {},
   "outputs": [
    {
     "name": "stdout",
     "output_type": "stream",
     "text": [
      "Index(['0_Thumb_base', '2_Angle_between_thumb_and_hand', '3_Finger_1_base',\n",
      "       '4_Finger_1_tip', '5_Finger_2_base', '6_Finger_2_tip',\n",
      "       '7_Finger_3_base', '8_Finger_3_tip', '9_Finger_4_base',\n",
      "       '10_Finger_4_tip', '11_Thumb_tip', '16_Wrist_extension',\n",
      "       '17_Wrist_flexion'],\n",
      "      dtype='object')\n"
     ]
    }
   ],
   "source": [
    "all_flex = Constants().raw_indices['flex']['all']\n",
    "print(cols[all_flex])"
   ]
  },
  {
   "cell_type": "code",
   "execution_count": 40,
   "metadata": {},
   "outputs": [
    {
     "name": "stdout",
     "output_type": "stream",
     "text": [
      "user: AB73\n",
      "                  0\n",
      "count  2.379104e+06\n",
      "mean   1.772701e+03\n",
      "std    2.868182e+02\n",
      "min    1.136000e+03\n",
      "25%    1.624000e+03\n",
      "50%    1.803000e+03\n",
      "75%    1.975000e+03\n",
      "max    2.314000e+03\n",
      "\n",
      "skipping userAE30\n",
      "user: AF82\n",
      "                  0\n",
      "count  1.375855e+06\n",
      "mean   1.755300e+03\n",
      "std    2.675732e+02\n",
      "min    1.162000e+03\n",
      "25%    1.629000e+03\n",
      "50%    1.759000e+03\n",
      "75%    1.931000e+03\n",
      "max    2.282000e+03\n",
      "\n",
      "user: AL29\n",
      "                  0\n",
      "count  2.395588e+06\n",
      "mean   1.698773e+03\n",
      "std    2.545248e+02\n",
      "min    1.166000e+03\n",
      "25%    1.592000e+03\n",
      "50%    1.718000e+03\n",
      "75%    1.857000e+03\n",
      "max    2.222000e+03\n",
      "\n",
      "user: AW18\n",
      "                  0\n",
      "count  1.341067e+06\n",
      "mean   1.709894e+03\n",
      "std    2.943142e+02\n",
      "min    1.093000e+03\n",
      "25%    1.600000e+03\n",
      "50%    1.725000e+03\n",
      "75%    1.909000e+03\n",
      "max    2.250000e+03\n",
      "\n",
      "user: CB23\n",
      "                  0\n",
      "count  1.369303e+06\n",
      "mean   1.754792e+03\n",
      "std    3.325143e+02\n",
      "min    1.039000e+03\n",
      "25%    1.623000e+03\n",
      "50%    1.806000e+03\n",
      "75%    1.997000e+03\n",
      "max    2.309000e+03\n",
      "\n",
      "user: CB24\n",
      "                  0\n",
      "count  1.379066e+06\n",
      "mean   1.731739e+03\n",
      "std    2.878993e+02\n",
      "min    1.109000e+03\n",
      "25%    1.636000e+03\n",
      "50%    1.758000e+03\n",
      "75%    1.884000e+03\n",
      "max    2.286000e+03\n",
      "\n",
      "user: CF58\n",
      "                  0\n",
      "count  1.550848e+06\n",
      "mean   1.770019e+03\n",
      "std    2.943189e+02\n",
      "min    1.113000e+03\n",
      "25%    1.638000e+03\n",
      "50%    1.792000e+03\n",
      "75%    1.990000e+03\n",
      "max    2.314000e+03\n",
      "\n",
      "user: DG12\n",
      "                  0\n",
      "count  1.359163e+06\n",
      "mean   1.719822e+03\n",
      "std    2.798459e+02\n",
      "min    1.095000e+03\n",
      "25%    1.618000e+03\n",
      "50%    1.737000e+03\n",
      "75%    1.904000e+03\n",
      "max    2.260000e+03\n",
      "\n",
      "user: DH42\n",
      "                  0\n",
      "count  1.435655e+06\n",
      "mean   1.700035e+03\n",
      "std    2.690441e+02\n",
      "min    1.125000e+03\n",
      "25%    1.609000e+03\n",
      "50%    1.703000e+03\n",
      "75%    1.847000e+03\n",
      "max    2.263000e+03\n",
      "\n",
      "user: DL24\n",
      "                  0\n",
      "count  2.356614e+06\n",
      "mean   1.742135e+03\n",
      "std    3.096133e+02\n",
      "min    1.081000e+03\n",
      "25%    1.608000e+03\n",
      "50%    1.798000e+03\n",
      "75%    1.934000e+03\n",
      "max    2.266000e+03\n",
      "\n",
      "user: JL61\n",
      "                  0\n",
      "count  1.463358e+06\n",
      "mean   1.741852e+03\n",
      "std    2.634379e+02\n",
      "min    1.163000e+03\n",
      "25%    1.605000e+03\n",
      "50%    1.763000e+03\n",
      "75%    1.893000e+03\n",
      "max    2.303000e+03\n",
      "\n",
      "user: JQ28\n",
      "                  0\n",
      "count  2.490748e+06\n",
      "mean   1.748523e+03\n",
      "std    3.770138e+02\n",
      "min    1.100000e+03\n",
      "25%    1.600000e+03\n",
      "50%    1.680000e+03\n",
      "75%    1.900000e+03\n",
      "max    2.929000e+03\n",
      "\n",
      "user: JS52\n",
      "                  0\n",
      "count  2.436577e+06\n",
      "mean   1.726895e+03\n",
      "std    3.047458e+02\n",
      "min    1.094000e+03\n",
      "25%    1.641000e+03\n",
      "50%    1.757000e+03\n",
      "75%    1.912000e+03\n",
      "max    2.284000e+03\n",
      "\n",
      "user: MF20\n",
      "                  0\n",
      "count  1.339273e+06\n",
      "mean   1.688676e+03\n",
      "std    2.837601e+02\n",
      "min    1.092000e+03\n",
      "25%    1.605000e+03\n",
      "50%    1.709000e+03\n",
      "75%    1.835000e+03\n",
      "max    2.247000e+03\n",
      "\n",
      "user: MS55\n",
      "                  0\n",
      "count  1.415076e+06\n",
      "mean   1.735037e+03\n",
      "std    2.491831e+02\n",
      "min    1.167000e+03\n",
      "25%    1.620000e+03\n",
      "50%    1.734000e+03\n",
      "75%    1.913000e+03\n",
      "max    2.262000e+03\n",
      "\n",
      "user: PC29\n",
      "                  0\n",
      "count  1.561794e+06\n",
      "mean   1.591159e+03\n",
      "std    5.001844e+02\n",
      "min    2.800000e+01\n",
      "25%    1.586000e+03\n",
      "50%    1.715000e+03\n",
      "75%    1.865000e+03\n",
      "max    2.248000e+03\n",
      "\n",
      "user: PM32\n",
      "                  0\n",
      "count  2.348684e+06\n",
      "mean   1.687438e+03\n",
      "std    2.611346e+02\n",
      "min    1.142000e+03\n",
      "25%    1.595000e+03\n",
      "50%    1.700000e+03\n",
      "75%    1.840000e+03\n",
      "max    2.236000e+03\n",
      "\n",
      "user: PS42\n",
      "                  0\n",
      "count  1.375335e+06\n",
      "mean   1.708282e+03\n",
      "std    2.873211e+02\n",
      "min    1.103000e+03\n",
      "25%    1.645000e+03\n",
      "50%    1.717000e+03\n",
      "75%    1.901000e+03\n",
      "max    2.244000e+03\n",
      "\n",
      "user: RR45\n",
      "                  0\n",
      "count  1.373463e+06\n",
      "mean   1.681700e+03\n",
      "std    2.555924e+02\n",
      "min    1.146000e+03\n",
      "25%    1.616000e+03\n",
      "50%    1.683000e+03\n",
      "75%    1.825000e+03\n",
      "max    2.256000e+03\n",
      "\n",
      "user: RW32\n",
      "                  0\n",
      "count  1.375673e+06\n",
      "mean   1.748681e+03\n",
      "std    2.920741e+02\n",
      "min    1.103000e+03\n",
      "25%    1.644000e+03\n",
      "50%    1.778000e+03\n",
      "75%    1.950000e+03\n",
      "max    2.312000e+03\n",
      "\n",
      "user: SF1\n",
      "                  0\n",
      "count  1.341665e+06\n",
      "mean   1.663133e+03\n",
      "std    5.199534e+02\n",
      "min    3.200000e+01\n",
      "25%    1.634000e+03\n",
      "50%    1.784000e+03\n",
      "75%    1.958000e+03\n",
      "max    2.292000e+03\n",
      "\n",
      "user: YW13\n",
      "                  0\n",
      "count  2.432066e+06\n",
      "mean   1.689901e+03\n",
      "std    2.820675e+02\n",
      "min    1.096000e+03\n",
      "25%    1.612000e+03\n",
      "50%    1.717000e+03\n",
      "75%    1.842000e+03\n",
      "max    2.189000e+03\n",
      "\n"
     ]
    }
   ],
   "source": [
    "describe_value_range(cols[all_flex], True, False)"
   ]
  },
  {
   "cell_type": "code",
   "execution_count": 41,
   "metadata": {},
   "outputs": [
    {
     "name": "stdout",
     "output_type": "stream",
     "text": [
      "user:  AB73  vals:  3843168  mean:  425.3108745181059  std:  1096.0314146935139  min:  -2247  max:  2313\n",
      "[-488  897 1540 -880] ... [-1553   736   918 -1277] ... [2033    7 1532 1586]\n"
     ]
    },
    {
     "data": {
      "image/png": "[encoded data removed]",
      "text/plain": [
       "<Figure size 432x288 with 1 Axes>"
      ]
     },
     "metadata": {
      "needs_background": "light"
     },
     "output_type": "display_data"
    },
    {
     "name": "stdout",
     "output_type": "stream",
     "text": [
      "\n",
      "skipping userAE30\n",
      "user:  AF82  vals:  2222535  mean:  329.6670927566945  std:  1114.2967251811024  min:  -2098  max:  2208\n",
      "[0 0 0 0] ... [ 1620   328  -661 -1462] ... [2033 -856  525 2073]\n"
     ]
    },
    {
     "data": {
      "image/png": "[encoded data removed]",
      "text/plain": [
       "<Figure size 432x288 with 1 Axes>"
      ]
     },
     "metadata": {
      "needs_background": "light"
     },
     "output_type": "display_data"
    },
    {
     "name": "stdout",
     "output_type": "stream",
     "text": [
      "\n",
      "user:  AL29  vals:  3869796  mean:  438.095562401739  std:  1079.5085969790257  min:  -2031  max:  2293\n",
      "[0 0 0 0] ... [   51  -628 -1899 -1899] ... [2049 -502 1572 1577]\n"
     ]
    },
    {
     "data": {
      "image/png": "[encoded data removed]",
      "text/plain": [
       "<Figure size 432x288 with 1 Axes>"
      ]
     },
     "metadata": {
      "needs_background": "light"
     },
     "output_type": "display_data"
    },
    {
     "name": "stdout",
     "output_type": "stream",
     "text": [
      "\n",
      "user:  AW18  vals:  2166339  mean:  393.8461182668087  std:  1110.2993550298845  min:  -2305  max:  2338\n",
      "[0 0 0 0] ... [ 1825   729  -890 -1455] ... [2178  128 1208 1894]\n"
     ]
    },
    {
     "data": {
      "image/png": "[encoded data removed]",
      "text/plain": [
       "<Figure size 432x288 with 1 Axes>"
      ]
     },
     "metadata": {
      "needs_background": "light"
     },
     "output_type": "display_data"
    },
    {
     "name": "stdout",
     "output_type": "stream",
     "text": [
      "\n",
      "user:  CB23  vals:  2211951  mean:  525.6775321876479  std:  1062.2356617863697  min:  -2179  max:  2353\n",
      "[-1017   497  1462  -550] ... [1939  520 -172 -299] ... [ 474  195 1970 -495]\n"
     ]
    },
    {
     "data": {
      "image/png": "[encoded data removed]",
      "text/plain": [
       "<Figure size 432x288 with 1 Axes>"
      ]
     },
     "metadata": {
      "needs_background": "light"
     },
     "output_type": "display_data"
    },
    {
     "name": "stdout",
     "output_type": "stream",
     "text": [
      "\n",
      "user:  CB24  vals:  2227722  mean:  429.572764465225  std:  988.0063983322849  min:  -1986  max:  2226\n",
      "[-1117   779  1284  -744] ... [-1283   806  1123  -837] ... [2199  221 1644 1503]\n"
     ]
    },
    {
     "data": {
      "image/png": "[encoded data removed]",
      "text/plain": [
       "<Figure size 432x288 with 1 Axes>"
      ]
     },
     "metadata": {
      "needs_background": "light"
     },
     "output_type": "display_data"
    },
    {
     "name": "stdout",
     "output_type": "stream",
     "text": [
      "\n",
      "user:  CF58  vals:  2505216  mean:  316.6279530387799  std:  1128.781927770286  min:  -2330  max:  2275\n",
      "[-1298   396  1310 -1123] ... [-1107    92  1497 -1276] ... [1503 -838 -838 1168]\n"
     ]
    },
    {
     "data": {
      "image/png": "[encoded data removed]",
      "text/plain": [
       "<Figure size 432x288 with 1 Axes>"
      ]
     },
     "metadata": {
      "needs_background": "light"
     },
     "output_type": "display_data"
    },
    {
     "name": "stdout",
     "output_type": "stream",
     "text": [
      "\n",
      "user:  DG12  vals:  2195571  mean:  284.3798925199868  std:  1147.2287898338961  min:  -2559  max:  2333\n",
      "[-1218   601  1294 -1032] ... [ 1476  1308  -613 -1107] ... [2124 -540  466 2186]\n"
     ]
    },
    {
     "data": {
      "image/png": "[encoded data removed]",
      "text/plain": [
       "<Figure size 432x288 with 1 Axes>"
      ]
     },
     "metadata": {
      "needs_background": "light"
     },
     "output_type": "display_data"
    },
    {
     "name": "stdout",
     "output_type": "stream",
     "text": [
      "\n",
      "user:  DH42  vals:  2319135  mean:  445.8814264801316  std:  1086.053266591208  min:  -2253  max:  2249\n",
      "[1718 2243 -447 1858] ... [1626 1102 -734 -747] ... [2129 -344 1113 1927]\n"
     ]
    },
    {
     "data": {
      "image/png": "[encoded data removed]",
      "text/plain": [
       "<Figure size 432x288 with 1 Axes>"
      ]
     },
     "metadata": {
      "needs_background": "light"
     },
     "output_type": "display_data"
    },
    {
     "name": "stdout",
     "output_type": "stream",
     "text": [
      "\n",
      "user:  DL24  vals:  3806838  mean:  467.3847271672711  std:  1097.1131596969478  min:  -2205  max:  2454\n",
      "[-589 1948 -563 -356] ... [-134 2168 -955 -167] ... [1894  -61 2019  549]\n"
     ]
    },
    {
     "data": {
      "image/png": "[encoded data removed]",
      "text/plain": [
       "<Figure size 432x288 with 1 Axes>"
      ]
     },
     "metadata": {
      "needs_background": "light"
     },
     "output_type": "display_data"
    },
    {
     "name": "stdout",
     "output_type": "stream",
     "text": [
      "\n",
      "user:  JL61  vals:  2363886  mean:  445.53498349751214  std:  1075.073534807274  min:  -2256  max:  2315\n",
      "[0 0 0 0] ... [-1182   451  1590 -1200] ... [1943 -538 1900  852]\n"
     ]
    },
    {
     "data": {
      "image/png": "[encoded data removed]",
      "text/plain": [
       "<Figure size 432x288 with 1 Axes>"
      ]
     },
     "metadata": {
      "needs_background": "light"
     },
     "output_type": "display_data"
    },
    {
     "name": "stdout",
     "output_type": "stream",
     "text": [
      "\n",
      "user:  JQ28  vals:  4023516  mean:  480.4964148272307  std:  1064.3357124738918  min:  -2206  max:  2314\n",
      "[-909  787 1447 -774] ... [-972  838 1414 -846] ... [1026  -61 1832 1316]\n"
     ]
    },
    {
     "data": {
      "image/png": "[encoded data removed]",
      "text/plain": [
       "<Figure size 432x288 with 1 Axes>"
      ]
     },
     "metadata": {
      "needs_background": "light"
     },
     "output_type": "display_data"
    },
    {
     "name": "stdout",
     "output_type": "stream",
     "text": [
      "\n",
      "user:  JS52  vals:  3936009  mean:  388.09855338237287  std:  1119.9490491364948  min:  -2372  max:  2440\n",
      "[-1881   649   -13 -1725] ... [ 1882   450 -1030 -1096] ... [2041   78 1814 1234]\n"
     ]
    },
    {
     "data": {
      "image/png": "[encoded data removed]",
      "text/plain": [
       "<Figure size 432x288 with 1 Axes>"
      ]
     },
     "metadata": {
      "needs_background": "light"
     },
     "output_type": "display_data"
    },
    {
     "name": "stdout",
     "output_type": "stream",
     "text": [
      "\n",
      "user:  MF20  vals:  2163441  mean:  362.96136525100525  std:  1108.444940012732  min:  -2167  max:  2212\n",
      "[-1785   784   317 -1238] ... [ 1696   789  -789 -1633] ... [ 698  416 1939 -250]\n"
     ]
    },
    {
     "data": {
      "image/png": "[encoded data removed]",
      "text/plain": [
       "<Figure size 432x288 with 1 Axes>"
      ]
     },
     "metadata": {
      "needs_background": "light"
     },
     "output_type": "display_data"
    },
    {
     "name": "stdout",
     "output_type": "stream",
     "text": [
      "\n",
      "user:  MS55  vals:  2285892  mean:  412.44749751956783  std:  1096.815356904594  min:  -2308  max:  2320\n",
      "[0 0 0 0] ... [-1023   575  1448  -869] ... [-243  365 1753 -642]\n"
     ]
    },
    {
     "data": {
      "image/png": "[encoded data removed]",
      "text/plain": [
       "<Figure size 432x288 with 1 Axes>"
      ]
     },
     "metadata": {
      "needs_background": "light"
     },
     "output_type": "display_data"
    },
    {
     "name": "stdout",
     "output_type": "stream",
     "text": [
      "\n",
      "user:  PC29  vals:  2522898  mean:  1438.7687928723237  std:  4540.8552038952  min:  -10986  max:  9480\n",
      "[-5136 -4928  2380 -5574] ... [-6302  3188  3142 -4654] ... [ 3078 -2394  6404  6592]\n"
     ]
    },
    {
     "data": {
      "image/png": "[encoded data removed]",
      "text/plain": [
       "<Figure size 432x288 with 1 Axes>"
      ]
     },
     "metadata": {
      "needs_background": "light"
     },
     "output_type": "display_data"
    },
    {
     "name": "stdout",
     "output_type": "stream",
     "text": [
      "\n",
      "user:  PM32  vals:  3794028  mean:  407.4812363008391  std:  1120.1927688515834  min:  -2685  max:  2465\n",
      "[0 0 0 0] ... [-846  798 1448 -809] ... [2078 -660  810 2006]\n"
     ]
    },
    {
     "data": {
      "image/png": "[encoded data removed]",
      "text/plain": [
       "<Figure size 432x288 with 1 Axes>"
      ]
     },
     "metadata": {
      "needs_background": "light"
     },
     "output_type": "display_data"
    },
    {
     "name": "stdout",
     "output_type": "stream",
     "text": [
      "\n",
      "user:  PS42  vals:  2221695  mean:  399.4999124542298  std:  1089.6347618401437  min:  -1959  max:  2208\n",
      "[0 0 0 0] ... [1649 1042 -898 -929] ... [2075 -356 1074 1923]\n"
     ]
    },
    {
     "data": {
      "image/png": "[encoded data removed]",
      "text/plain": [
       "<Figure size 432x288 with 1 Axes>"
      ]
     },
     "metadata": {
      "needs_background": "light"
     },
     "output_type": "display_data"
    },
    {
     "name": "stdout",
     "output_type": "stream",
     "text": [
      "\n",
      "user:  RR45  vals:  2218671  mean:  366.66542403087254  std:  1119.9128046303526  min:  -2419  max:  2423\n",
      "[-1269   226  1294  -954] ... [ 1422  1297  -793 -1005] ... [1983 -545  210 2182]\n"
     ]
    },
    {
     "data": {
      "image/png": "[encoded data removed]",
      "text/plain": [
       "<Figure size 432x288 with 1 Axes>"
      ]
     },
     "metadata": {
      "needs_background": "light"
     },
     "output_type": "display_data"
    },
    {
     "name": "stdout",
     "output_type": "stream",
     "text": [
      "\n",
      "user:  RW32  vals:  2222241  mean:  388.08880719957915  std:  1125.8999138395734  min:  -2656  max:  2364\n",
      "[-1257   440  1323 -1047] ... [ 1657   997  -671 -1535] ... [ 574  393 1498 2074]\n"
     ]
    },
    {
     "data": {
      "image/png": "[encoded data removed]",
      "text/plain": [
       "<Figure size 432x288 with 1 Axes>"
      ]
     },
     "metadata": {
      "needs_background": "light"
     },
     "output_type": "display_data"
    },
    {
     "name": "stdout",
     "output_type": "stream",
     "text": [
      "\n",
      "user:  SF1  vals:  2167305  mean:  1638.120914684366  std:  4049.629331813869  min:  -7738  max:  8598\n",
      "[ 6102  5298 -5444  3608] ... [6900 1788    0    0] ... [ 8268 -1344  4618  7650]\n"
     ]
    },
    {
     "data": {
      "image/png": "[encoded data removed]",
      "text/plain": [
       "<Figure size 432x288 with 1 Axes>"
      ]
     },
     "metadata": {
      "needs_background": "light"
     },
     "output_type": "display_data"
    },
    {
     "name": "stdout",
     "output_type": "stream",
     "text": [
      "\n",
      "user:  YW13  vals:  3928722  mean:  475.50964079413103  std:  1059.6833659224171  min:  -2283  max:  2316\n",
      "[ -717  1195 -1789  -823] ... [-1022   926  1325  -730] ... [1637  203 2042 -142]\n"
     ]
    },
    {
     "data": {
      "image/png": "[encoded data removed]",
      "text/plain": [
       "<Figure size 432x288 with 1 Axes>"
      ]
     },
     "metadata": {
      "needs_background": "light"
     },
     "output_type": "display_data"
    },
    {
     "name": "stdout",
     "output_type": "stream",
     "text": [
      "\n"
     ]
    }
   ],
   "source": [
    "show_boxplots(cols[all_flex], True, False)"
   ]
  },
  {
   "cell_type": "code",
   "execution_count": 57,
   "metadata": {},
   "outputs": [
    {
     "name": "stdout",
     "output_type": "stream",
     "text": [
      "user:  AB73  vals:  3843168  mean:  425.3108745181059  std:  1096.0314146935139  min:  -2247  max:  2313\n",
      "[-488  897 1540 -880] ... [-1553   736   918 -1277] ... [2033    7 1532 1586]\n",
      "\n",
      "skipping userAE30\n",
      "user:  AF82  vals:  2222535  mean:  329.6670927566945  std:  1114.2967251811024  min:  -2098  max:  2208\n",
      "[0 0 0 0] ... [ 1620   328  -661 -1462] ... [2033 -856  525 2073]\n",
      "\n",
      "user:  AL29  vals:  3869796  mean:  438.095562401739  std:  1079.5085969790257  min:  -2031  max:  2293\n",
      "[0 0 0 0] ... [   51  -628 -1899 -1899] ... [2049 -502 1572 1577]\n",
      "\n",
      "user:  AW18  vals:  2166339  mean:  393.8461182668087  std:  1110.2993550298845  min:  -2305  max:  2338\n",
      "[0 0 0 0] ... [ 1825   729  -890 -1455] ... [2178  128 1208 1894]\n",
      "\n",
      "user:  CB23  vals:  2211951  mean:  525.6775321876479  std:  1062.2356617863697  min:  -2179  max:  2353\n",
      "[-1017   497  1462  -550] ... [1939  520 -172 -299] ... [ 474  195 1970 -495]\n",
      "\n",
      "user:  CB24  vals:  2227722  mean:  429.572764465225  std:  988.0063983322849  min:  -1986  max:  2226\n",
      "[-1117   779  1284  -744] ... [-1283   806  1123  -837] ... [2199  221 1644 1503]\n",
      "\n",
      "user:  CF58  vals:  2505216  mean:  316.6279530387799  std:  1128.781927770286  min:  -2330  max:  2275\n",
      "[-1298   396  1310 -1123] ... [-1107    92  1497 -1276] ... [1503 -838 -838 1168]\n",
      "\n",
      "user:  DG12  vals:  2195571  mean:  284.3798925199868  std:  1147.2287898338961  min:  -2559  max:  2333\n",
      "[-1218   601  1294 -1032] ... [ 1476  1308  -613 -1107] ... [2124 -540  466 2186]\n",
      "\n",
      "user:  DH42  vals:  2319135  mean:  445.8814264801316  std:  1086.053266591208  min:  -2253  max:  2249\n",
      "[1718 2243 -447 1858] ... [1626 1102 -734 -747] ... [2129 -344 1113 1927]\n",
      "\n",
      "user:  DL24  vals:  3806838  mean:  467.3847271672711  std:  1097.1131596969478  min:  -2205  max:  2454\n",
      "[-589 1948 -563 -356] ... [-134 2168 -955 -167] ... [1894  -61 2019  549]\n",
      "\n",
      "user:  JL61  vals:  2363886  mean:  445.53498349751214  std:  1075.073534807274  min:  -2256  max:  2315\n",
      "[0 0 0 0] ... [-1182   451  1590 -1200] ... [1943 -538 1900  852]\n",
      "\n",
      "user:  JQ28  vals:  4023516  mean:  480.4964148272307  std:  1064.3357124738918  min:  -2206  max:  2314\n",
      "[-909  787 1447 -774] ... [-972  838 1414 -846] ... [1026  -61 1832 1316]\n",
      "\n",
      "user:  JS52  vals:  3936009  mean:  388.09855338237287  std:  1119.9490491364948  min:  -2372  max:  2440\n",
      "[-1881   649   -13 -1725] ... [ 1882   450 -1030 -1096] ... [2041   78 1814 1234]\n",
      "\n",
      "user:  MF20  vals:  2163441  mean:  362.96136525100525  std:  1108.444940012732  min:  -2167  max:  2212\n",
      "[-1785   784   317 -1238] ... [ 1696   789  -789 -1633] ... [ 698  416 1939 -250]\n",
      "\n",
      "user:  MS55  vals:  2285892  mean:  412.44749751956783  std:  1096.815356904594  min:  -2308  max:  2320\n",
      "[0 0 0 0] ... [-1023   575  1448  -869] ... [-243  365 1753 -642]\n",
      "\n",
      "user:  PC29  vals:  2522898  mean:  1438.7687928723237  std:  4540.8552038952  min:  -10986  max:  9480\n",
      "[-5136 -4928  2380 -5574] ... [-6302  3188  3142 -4654] ... [ 3078 -2394  6404  6592]\n",
      "\n",
      "user:  PM32  vals:  3794028  mean:  407.4812363008391  std:  1120.1927688515834  min:  -2685  max:  2465\n",
      "[0 0 0 0] ... [-846  798 1448 -809] ... [2078 -660  810 2006]\n",
      "\n",
      "user:  PS42  vals:  2221695  mean:  399.4999124542298  std:  1089.6347618401437  min:  -1959  max:  2208\n",
      "[0 0 0 0] ... [1649 1042 -898 -929] ... [2075 -356 1074 1923]\n",
      "\n",
      "user:  RR45  vals:  2218671  mean:  366.66542403087254  std:  1119.9128046303526  min:  -2419  max:  2423\n",
      "[-1269   226  1294  -954] ... [ 1422  1297  -793 -1005] ... [1983 -545  210 2182]\n",
      "\n",
      "user:  RW32  vals:  2222241  mean:  388.08880719957915  std:  1125.8999138395734  min:  -2656  max:  2364\n",
      "[-1257   440  1323 -1047] ... [ 1657   997  -671 -1535] ... [ 574  393 1498 2074]\n",
      "\n",
      "user:  SF1  vals:  2167305  mean:  1638.120914684366  std:  4049.629331813869  min:  -7738  max:  8598\n",
      "[ 6102  5298 -5444  3608] ... [6900 1788    0    0] ... [ 8268 -1344  4618  7650]\n",
      "\n",
      "user:  YW13  vals:  3928722  mean:  475.50964079413103  std:  1059.6833659224171  min:  -2283  max:  2316\n",
      "[ -717  1195 -1789  -823] ... [-1022   926  1325  -730] ... [1637  203 2042 -142]\n",
      "\n",
      "           AB73    AF82    AL29    AW18    CB23    CB24    CF58    DG12  \\\n",
      "0        -488.0     0.0     0.0     0.0 -1017.0 -1117.0 -1298.0 -1218.0   \n",
      "1         897.0     0.0     0.0     0.0   497.0   779.0   396.0   601.0   \n",
      "2        1540.0     0.0     0.0     0.0  1462.0  1284.0  1310.0  1294.0   \n",
      "3        -880.0     0.0     0.0     0.0  -550.0  -744.0 -1123.0 -1032.0   \n",
      "4         961.0     0.0     0.0     0.0   770.0   676.0   724.0   546.0   \n",
      "5        1354.0     0.0     0.0     0.0  1615.0  1550.0  1314.0  1451.0   \n",
      "6        -540.0     0.0     0.0     0.0 -1167.0 -1091.0 -1282.0 -1334.0   \n",
      "7         613.0     0.0     0.0     0.0   -61.0   289.0   654.0   530.0   \n",
      "8        1639.0     0.0     0.0     0.0  1409.0  1492.0  1231.0  1231.0   \n",
      "9         482.0 -1180.0 -1854.0  -510.0  -600.0  -504.0  -455.0  -484.0   \n",
      "10       1479.0  1300.0  1199.0  1841.0  1391.0  1461.0  1764.0  1493.0   \n",
      "11       1166.0   989.0  1356.0   621.0  1308.0  1278.0   843.0  1258.0   \n",
      "12       -214.0  -445.0 -1424.0 -1032.0  -763.0  -633.0  -874.0  -687.0   \n",
      "13      -1249.0 -1295.0  -859.0 -1354.0 -1110.0 -1398.0 -1182.0 -1318.0   \n",
      "14       1387.0  1590.0   379.0  1198.0  1637.0  1473.0  1433.0  1433.0   \n",
      "15        644.0  -777.0  -716.0  -300.0  -652.0  -420.0  -524.0  -447.0   \n",
      "16        483.0  -231.0   411.0   457.0   304.0    -7.0   375.0   -39.0   \n",
      "17       1949.0  2038.0  2082.0  2127.0  2072.0  2179.0  2077.0  2139.0   \n",
      "18        681.0  -817.0  -534.0  -241.0  -484.0  -310.0  -104.0  -514.0   \n",
      "19       1444.0   196.0  1348.0  1372.0  1516.0  1438.0  1715.0   579.0   \n",
      "20       1491.0  2134.0  1779.0  1740.0  1578.0  1723.0  1382.0  2125.0   \n",
      "21       -477.0 -1553.0 -1854.0 -1573.0 -1005.0 -1121.0 -1293.0 -1205.0   \n",
      "22       1028.0   206.0  -103.0  1167.0   489.0   788.0   391.0   619.0   \n",
      "23       1433.0  1063.0   887.0   196.0  1456.0  1291.0  1314.0  1315.0   \n",
      "24       -814.0 -1387.0 -1981.0 -1029.0  -546.0  -742.0 -1115.0 -1037.0   \n",
      "25       1140.0   541.0    12.0  1174.0   769.0   678.0   721.0   547.0   \n",
      "26       1221.0  1177.0   923.0  1056.0  1590.0  1550.0  1335.0  1443.0   \n",
      "27       -524.0 -1401.0   923.0 -1245.0 -1184.0 -1072.0 -1285.0 -1338.0   \n",
      "28        716.0   405.0  -365.0   811.0   -64.0   295.0   647.0   492.0   \n",
      "29       1569.0  1179.0   654.0  1156.0  1443.0  1495.0  1215.0  1238.0   \n",
      "...         ...     ...     ...     ...     ...     ...     ...     ...   \n",
      "4023486     NaN     NaN     NaN     NaN     NaN     NaN     NaN     NaN   \n",
      "4023487     NaN     NaN     NaN     NaN     NaN     NaN     NaN     NaN   \n",
      "4023488     NaN     NaN     NaN     NaN     NaN     NaN     NaN     NaN   \n",
      "4023489     NaN     NaN     NaN     NaN     NaN     NaN     NaN     NaN   \n",
      "4023490     NaN     NaN     NaN     NaN     NaN     NaN     NaN     NaN   \n",
      "4023491     NaN     NaN     NaN     NaN     NaN     NaN     NaN     NaN   \n",
      "4023492     NaN     NaN     NaN     NaN     NaN     NaN     NaN     NaN   \n",
      "4023493     NaN     NaN     NaN     NaN     NaN     NaN     NaN     NaN   \n",
      "4023494     NaN     NaN     NaN     NaN     NaN     NaN     NaN     NaN   \n",
      "4023495     NaN     NaN     NaN     NaN     NaN     NaN     NaN     NaN   \n",
      "4023496     NaN     NaN     NaN     NaN     NaN     NaN     NaN     NaN   \n",
      "4023497     NaN     NaN     NaN     NaN     NaN     NaN     NaN     NaN   \n",
      "4023498     NaN     NaN     NaN     NaN     NaN     NaN     NaN     NaN   \n",
      "4023499     NaN     NaN     NaN     NaN     NaN     NaN     NaN     NaN   \n",
      "4023500     NaN     NaN     NaN     NaN     NaN     NaN     NaN     NaN   \n",
      "4023501     NaN     NaN     NaN     NaN     NaN     NaN     NaN     NaN   \n",
      "4023502     NaN     NaN     NaN     NaN     NaN     NaN     NaN     NaN   \n",
      "4023503     NaN     NaN     NaN     NaN     NaN     NaN     NaN     NaN   \n",
      "4023504     NaN     NaN     NaN     NaN     NaN     NaN     NaN     NaN   \n",
      "4023505     NaN     NaN     NaN     NaN     NaN     NaN     NaN     NaN   \n",
      "4023506     NaN     NaN     NaN     NaN     NaN     NaN     NaN     NaN   \n",
      "4023507     NaN     NaN     NaN     NaN     NaN     NaN     NaN     NaN   \n",
      "4023508     NaN     NaN     NaN     NaN     NaN     NaN     NaN     NaN   \n",
      "4023509     NaN     NaN     NaN     NaN     NaN     NaN     NaN     NaN   \n",
      "4023510     NaN     NaN     NaN     NaN     NaN     NaN     NaN     NaN   \n",
      "4023511     NaN     NaN     NaN     NaN     NaN     NaN     NaN     NaN   \n",
      "4023512     NaN     NaN     NaN     NaN     NaN     NaN     NaN     NaN   \n",
      "4023513     NaN     NaN     NaN     NaN     NaN     NaN     NaN     NaN   \n",
      "4023514     NaN     NaN     NaN     NaN     NaN     NaN     NaN     NaN   \n",
      "4023515     NaN     NaN     NaN     NaN     NaN     NaN     NaN     NaN   \n",
      "\n",
      "           DH42    DL24   ...      JS52    MF20    MS55    PC29    PM32  \\\n",
      "0        1718.0  -589.0   ...   -1881.0 -1785.0     0.0 -5136.0     0.0   \n",
      "1        2243.0  1948.0   ...     649.0   784.0     0.0 -4928.0     0.0   \n",
      "2        -447.0  -563.0   ...     -13.0   317.0     0.0  2380.0     0.0   \n",
      "3        1858.0  -356.0   ...   -1725.0 -1238.0     0.0 -5574.0     0.0   \n",
      "4        1858.0  1833.0   ...     793.0  1160.0     0.0 -3418.0     0.0   \n",
      "5       -1343.0  -947.0   ...     384.0   862.0     0.0  3874.0     0.0   \n",
      "6        1952.0  -312.0   ...   -1445.0 -1341.0     0.0 -6404.0     0.0   \n",
      "7        1952.0  1902.0   ...    1137.0   999.0     0.0 -2468.0     0.0   \n",
      "8       -1307.0  -783.0   ...     573.0   899.0     0.0  3176.0     0.0   \n",
      "9         976.0   -51.0   ...    -989.0  -678.0  -374.0 -6922.0  -657.0   \n",
      "10       1935.0  2004.0   ...    1600.0  1742.0  1655.0 -1018.0  1579.0   \n",
      "11       1935.0   284.0   ...     656.0   732.0  1083.0  3756.0  1051.0   \n",
      "12        273.0  -675.0   ...    -906.0 -1038.0  -760.0 -2334.0  -795.0   \n",
      "13       1001.0   -98.0   ...   -1433.0 -1471.0  -973.0 -4680.0  -904.0   \n",
      "14       1609.0  1896.0   ...    1189.0  1060.0  1668.0 -5384.0  1645.0   \n",
      "15       1078.0    51.0   ...    -223.0  -194.0  -730.0 -1568.0  -527.0   \n",
      "16       1684.0  1534.0   ...     511.0   312.0   113.0 -5052.0   247.0   \n",
      "17        673.0  1457.0   ...    2126.0  2151.0  2045.0  6810.0  2212.0   \n",
      "18        433.0   -48.0   ...    -226.0   -95.0  -311.0 -3470.0  -558.0   \n",
      "19       2085.0  2069.0   ...    1674.0  1790.0   977.0    34.0   944.0   \n",
      "20        421.0   443.0   ...    1458.0  1284.0  2010.0  8170.0  2042.0   \n",
      "21       1660.0  -537.0   ...   -1880.0 -1754.0 -1059.0 -4962.0 -1023.0   \n",
      "22       1660.0  1939.0   ...     652.0   793.0   528.0 -5092.0   713.0   \n",
      "23       -378.0  -575.0   ...     -12.0   298.0  1432.0  2288.0  1364.0   \n",
      "24       1509.0  -328.0   ...   -1728.0 -1218.0  -921.0 -5306.0  -880.0   \n",
      "25       1509.0  1827.0   ...     800.0  1166.0   600.0 -3474.0   817.0   \n",
      "26      -1390.0  -969.0   ...     383.0   875.0  1511.0  3682.0  1409.0   \n",
      "27       1581.0  -301.0   ...   -1449.0 -1312.0 -1059.0 -6204.0 -1238.0   \n",
      "28       1581.0  1895.0   ...    1143.0   977.0   618.0 -2694.0    92.0   \n",
      "29      -1555.0  -779.0   ...     578.0   903.0  1396.0  3068.0  1390.0   \n",
      "...         ...     ...   ...       ...     ...     ...     ...     ...   \n",
      "4023486     NaN     NaN   ...       NaN     NaN     NaN     NaN     NaN   \n",
      "4023487     NaN     NaN   ...       NaN     NaN     NaN     NaN     NaN   \n",
      "4023488     NaN     NaN   ...       NaN     NaN     NaN     NaN     NaN   \n",
      "4023489     NaN     NaN   ...       NaN     NaN     NaN     NaN     NaN   \n",
      "4023490     NaN     NaN   ...       NaN     NaN     NaN     NaN     NaN   \n",
      "4023491     NaN     NaN   ...       NaN     NaN     NaN     NaN     NaN   \n",
      "4023492     NaN     NaN   ...       NaN     NaN     NaN     NaN     NaN   \n",
      "4023493     NaN     NaN   ...       NaN     NaN     NaN     NaN     NaN   \n",
      "4023494     NaN     NaN   ...       NaN     NaN     NaN     NaN     NaN   \n",
      "4023495     NaN     NaN   ...       NaN     NaN     NaN     NaN     NaN   \n",
      "4023496     NaN     NaN   ...       NaN     NaN     NaN     NaN     NaN   \n",
      "4023497     NaN     NaN   ...       NaN     NaN     NaN     NaN     NaN   \n",
      "4023498     NaN     NaN   ...       NaN     NaN     NaN     NaN     NaN   \n",
      "4023499     NaN     NaN   ...       NaN     NaN     NaN     NaN     NaN   \n",
      "4023500     NaN     NaN   ...       NaN     NaN     NaN     NaN     NaN   \n",
      "4023501     NaN     NaN   ...       NaN     NaN     NaN     NaN     NaN   \n",
      "4023502     NaN     NaN   ...       NaN     NaN     NaN     NaN     NaN   \n",
      "4023503     NaN     NaN   ...       NaN     NaN     NaN     NaN     NaN   \n",
      "4023504     NaN     NaN   ...       NaN     NaN     NaN     NaN     NaN   \n",
      "4023505     NaN     NaN   ...       NaN     NaN     NaN     NaN     NaN   \n",
      "4023506     NaN     NaN   ...       NaN     NaN     NaN     NaN     NaN   \n",
      "4023507     NaN     NaN   ...       NaN     NaN     NaN     NaN     NaN   \n",
      "4023508     NaN     NaN   ...       NaN     NaN     NaN     NaN     NaN   \n",
      "4023509     NaN     NaN   ...       NaN     NaN     NaN     NaN     NaN   \n",
      "4023510     NaN     NaN   ...       NaN     NaN     NaN     NaN     NaN   \n",
      "4023511     NaN     NaN   ...       NaN     NaN     NaN     NaN     NaN   \n",
      "4023512     NaN     NaN   ...       NaN     NaN     NaN     NaN     NaN   \n",
      "4023513     NaN     NaN   ...       NaN     NaN     NaN     NaN     NaN   \n",
      "4023514     NaN     NaN   ...       NaN     NaN     NaN     NaN     NaN   \n",
      "4023515     NaN     NaN   ...       NaN     NaN     NaN     NaN     NaN   \n",
      "\n",
      "           PS42    RR45    RW32     SF1    YW13  \n",
      "0           0.0 -1269.0 -1257.0  6102.0  -717.0  \n",
      "1           0.0   226.0   440.0  5298.0  1195.0  \n",
      "2           0.0  1294.0  1323.0 -5444.0 -1789.0  \n",
      "3           0.0  -954.0 -1047.0  3608.0  -823.0  \n",
      "4           0.0   757.0   682.0  2756.0   780.0  \n",
      "5           0.0  1359.0  1385.0 -6056.0 -2107.0  \n",
      "6           0.0 -1146.0 -1334.0  2792.0  -537.0  \n",
      "7           0.0   800.0   620.0  3464.0  1006.0  \n",
      "8           0.0  1261.0  1211.0 -6746.0 -2187.0  \n",
      "9        -736.0  -557.0  -533.0  1904.0  -801.0  \n",
      "10       1621.0  1466.0  1718.0  1568.0   533.0  \n",
      "11        942.0  1267.0   865.0 -5440.0 -2269.0  \n",
      "12       -902.0  -872.0  -711.0  1502.0 -2028.0  \n",
      "13      -1307.0 -1219.0 -1408.0  3642.0  1000.0  \n",
      "14       1305.0  1456.0  1325.0  8212.0   668.0  \n",
      "15       -377.0  -868.0  -689.0 -4196.0 -1012.0  \n",
      "16        438.0  -119.0    62.0 -4196.0  1947.0  \n",
      "17       2092.0  2031.0  2069.0 -3766.0    61.0  \n",
      "18       -334.0  -793.0  -731.0  1726.0  -449.0  \n",
      "19       1238.0  -299.0   738.0  8160.0  1714.0  \n",
      "20       1838.0  2069.0  1996.0  -690.0 -1045.0  \n",
      "21      -1551.0 -1272.0 -1250.0  6248.0  -556.0  \n",
      "22        469.0   478.0   437.0  5232.0  1336.0  \n",
      "23        991.0  1295.0  1317.0 -5366.0 -2047.0  \n",
      "24      -1239.0  -871.0 -1048.0  4578.0  -648.0  \n",
      "25        918.0  1045.0   674.0  4404.0   832.0  \n",
      "26       1084.0  1616.0  1401.0  4404.0   832.0  \n",
      "27      -1310.0 -1142.0 -1323.0  2054.0  -286.0  \n",
      "28        991.0   745.0   637.0  3506.0  1136.0  \n",
      "29        959.0  1260.0  1190.0  3506.0  1136.0  \n",
      "...         ...     ...     ...     ...     ...  \n",
      "4023486     NaN     NaN     NaN     NaN     NaN  \n",
      "4023487     NaN     NaN     NaN     NaN     NaN  \n",
      "4023488     NaN     NaN     NaN     NaN     NaN  \n",
      "4023489     NaN     NaN     NaN     NaN     NaN  \n",
      "4023490     NaN     NaN     NaN     NaN     NaN  \n",
      "4023491     NaN     NaN     NaN     NaN     NaN  \n",
      "4023492     NaN     NaN     NaN     NaN     NaN  \n",
      "4023493     NaN     NaN     NaN     NaN     NaN  \n",
      "4023494     NaN     NaN     NaN     NaN     NaN  \n",
      "4023495     NaN     NaN     NaN     NaN     NaN  \n",
      "4023496     NaN     NaN     NaN     NaN     NaN  \n",
      "4023497     NaN     NaN     NaN     NaN     NaN  \n",
      "4023498     NaN     NaN     NaN     NaN     NaN  \n",
      "4023499     NaN     NaN     NaN     NaN     NaN  \n",
      "4023500     NaN     NaN     NaN     NaN     NaN  \n",
      "4023501     NaN     NaN     NaN     NaN     NaN  \n",
      "4023502     NaN     NaN     NaN     NaN     NaN  \n",
      "4023503     NaN     NaN     NaN     NaN     NaN  \n",
      "4023504     NaN     NaN     NaN     NaN     NaN  \n",
      "4023505     NaN     NaN     NaN     NaN     NaN  \n",
      "4023506     NaN     NaN     NaN     NaN     NaN  \n",
      "4023507     NaN     NaN     NaN     NaN     NaN  \n",
      "4023508     NaN     NaN     NaN     NaN     NaN  \n",
      "4023509     NaN     NaN     NaN     NaN     NaN  \n",
      "4023510     NaN     NaN     NaN     NaN     NaN  \n",
      "4023511     NaN     NaN     NaN     NaN     NaN  \n",
      "4023512     NaN     NaN     NaN     NaN     NaN  \n",
      "4023513     NaN     NaN     NaN     NaN     NaN  \n",
      "4023514     NaN     NaN     NaN     NaN     NaN  \n",
      "4023515     NaN     NaN     NaN     NaN     NaN  \n",
      "\n",
      "[4023516 rows x 22 columns]\n"
     ]
    },
    {
     "data": {
      "image/png": "[encoded data removed]",
      "text/plain": [
       "<Figure size 432x288 with 1 Axes>"
      ]
     },
     "metadata": {
      "needs_background": "light"
     },
     "output_type": "display_data"
    }
   ],
   "source": [
    "show_boxplots_row(cols[all_flex], True, False)"
   ]
  },
  {
   "cell_type": "code",
   "execution_count": null,
   "metadata": {},
   "outputs": [],
   "source": [
    "# so, the next step in the story is this: \n",
    "# Are these variations mainly the 0 class or mainly the \n",
    "# way gestures are done?\n",
    "# \n",
    "# To prove that I seperate the data into clearly 0 class \n",
    "# instances (everything outside the automatic) labeling,\n",
    "# and into clearly geatures (everything inside the manual\n",
    "# labeling)"
   ]
  },
  {
   "cell_type": "code",
   "execution_count": 25,
   "metadata": {},
   "outputs": [],
   "source": [
    "def show_boxplots_row_lc(columes, label_type, label, remove_outliers, show_overal):\n",
    "    all_vals = []\n",
    "    all_dfs = []\n",
    "    for username in usernames:\n",
    "        if not 'glove_merged' in users[username]:\n",
    "            print('skipping user' + username)\n",
    "            continue\n",
    "        glove_merged = users[username]['glove_merged'] \n",
    "        if label is np.nan:\n",
    "            accel = glove_merged[glove_merged[label_type].isnull()][cols[all_accel]]\n",
    "        elif label == 'all_labels':\n",
    "            accel = glove_merged[glove_merged[label_type].notnull()][cols[all_accel]]\n",
    "        else:\n",
    "            accel = glove_merged[glove_merged[label_type] == gesture][cols[all_accel]]\n",
    "        onebigline = accel.values.ravel()\n",
    "        n = len(onebigline)\n",
    "        nh = n//2\n",
    "        if remove_outliers:\n",
    "            remove_higher_outliers_with_percentile(onebigline, higher_percentile)\n",
    "            remove_lower_outliers_with_percentile(onebigline, lower_percentile)\n",
    "        print('user: ', username, ' vals: ', n, ' mean: ', onebigline.mean(), ' std: ', onebigline.std(), ' min: ', onebigline.min(), ' max: ', onebigline.max())\n",
    "        print(onebigline[:4], \"...\", onebigline[nh:nh+4], \"...\",onebigline[-4:])\n",
    "        \n",
    "        if show_overal:\n",
    "            all_vals += list(onebigline)\n",
    "        df = pd.DataFrame(data=onebigline.T, columns= [username])\n",
    "        all_dfs.append(df)\n",
    "        print(\"\")\n",
    "    df = pd.concat(all_dfs, axis=1) \n",
    "    print(df)\n",
    "    df.boxplot()\n",
    "    plt.show()\n",
    "    if show_overal:\n",
    "        n = len(all_vals)\n",
    "        nh = n//2\n",
    "        print(all_vals[:4], \"...\", all_vals[nh:nh+4], \"...\",all_vals[-4:])\n",
    "        pd.DataFrame(data=all_vals).T.boxplot()\n",
    "        plt.show()"
   ]
  },
  {
   "cell_type": "code",
   "execution_count": 22,
   "metadata": {},
   "outputs": [
    {
     "name": "stdout",
     "output_type": "stream",
     "text": [
      "user:  AB73  vals:  2175747  mean:  476.68175849489853  std:  1030.2249295757315  min:  -1449  max:  2114\n",
      "[-488  897 1540 -880] ... [ 1878   563  -818 -1164] ... [2066   35 1483 1685]\n",
      "\n",
      "skipping userAE30\n",
      "user:  AF82  vals:  1384950  mean:  363.76093938409326  std:  1072.4137864112483  min:  -1521  max:  2123\n",
      "[0 0 0 0] ... [-866  445 1569 -862] ... [1963 -864  590 2014]\n",
      "\n",
      "user:  AL29  vals:  2220036  mean:  478.7479716545137  std:  1039.2547953771661  min:  -1231  max:  2100\n",
      "[0 0 0 0] ... [-766   58 1683 -798] ... [2079 -365 1520 1652]\n",
      "\n",
      "user:  AW18  vals:  1347087  mean:  433.78241197487614  std:  1051.7442331411087  min:  -1502  max:  2182\n",
      "[0 0 0 0] ... [ 1822   713  -840 -1473] ... [ 160   75 1170 1922]\n",
      "\n",
      "user:  CB23  vals:  1392384  mean:  561.8138502022431  std:  1007.5457595857774  min:  -1979  max:  2116\n",
      "[-1017   497  1462  -550] ... [-747 1812 -750 -176] ... [ 791  156 2027 -236]\n",
      "\n",
      "user:  CB24  vals:  1397613  mean:  479.04279940155106  std:  934.1160285610786  min:  -1508  max:  2192\n",
      "[-1117   779  1284  -744] ... [1830  722    0    0] ... [2189  189 1625 1477]\n",
      "\n",
      "user:  CF58  vals:  1626618  mean:  353.772474545345  std:  1071.2445529687066  min:  -1526  max:  2131\n",
      "[-1298   396  1310 -1123] ... [-1262   129  1490 -1284] ... [2058  -49 1626 1503]\n",
      "\n",
      "user:  DG12  vals:  1366701  mean:  338.97574963360677  std:  1082.1019898465029  min:  -1608  max:  2168\n",
      "[-1218   601  1294 -1032] ... [ 1483  1280  -621 -1146] ... [2133 -499  438 2157]\n",
      "\n",
      "user:  DH42  vals:  1490013  mean:  519.7774052978061  std:  1017.2506731655608  min:  -1193  max:  2098\n",
      "[1718 1718 -447 1858] ... [1743  909 -710 -545] ... [ 191 -654  990 2050]\n",
      "\n",
      "user:  DL24  vals:  2165688  mean:  534.6244385156126  std:  1037.761600130898  min:  -1322  max:  2095\n",
      "[-589 1948 -563 -356] ... [-338 1963 -497 -347] ... [1582  -46 2075  317]\n",
      "\n",
      "user:  JL61  vals:  1504314  mean:  521.2682677951544  std:  1006.3470977581459  min:  -1117  max:  2025\n",
      "[0 0 0 0] ... [1067 1472 1908 1908] ... [1061 -542 -542  575]\n",
      "\n",
      "user:  JQ28  vals:  2358762  mean:  544.4861520577319  std:  1004.5538992268271  min:  -1194  max:  1998\n",
      "[-909  787 1447 -774] ... [-1014   885  1318  -866] ... [1988 -197 1687 1371]\n",
      "\n",
      "user:  JS52  vals:  2263737  mean:  420.8603154871789  std:  1056.3870947199694  min:  -1645  max:  2037\n",
      "[1164  649  -13  -13] ... [ 1904   496 -1080 -1090] ... [ 790   37 1876 1164]\n",
      "\n",
      "user:  MF20  vals:  1344315  mean:  398.95670285610146  std:  1066.2491165182487  min:  -1623  max:  2178\n",
      "[ 1384   784   317 -1238] ... [1673  775 -744 -744] ... [2117 -209 1713 1384]\n",
      "\n",
      "user:  MS55  vals:  1467270  mean:  454.6056738023677  std:  1043.2823910111028  min:  -1189  max:  2076\n",
      "[0 0 0 0] ... [-1012   427  1517  -838] ... [2062 -156 1004 2028]\n",
      "\n",
      "user:  PC29  vals:  1650264  mean:  1663.0024796032635  std:  4219.652083079006  min:  -6950  max:  8452\n",
      "[-5136 -4928  2380 -5574] ... [ 6158  1024  2112 -6166] ... [ 7954 -1402  5790  6734]\n",
      "\n",
      "user:  PM32  vals:  2154684  mean:  480.74264625346456  std:  1038.2133549221376  min:  -1206  max:  2128\n",
      "[0 0 0 0] ... [-932  803 1396 -803] ... [ 348 -554  883 2107]\n",
      "\n",
      "user:  PS42  vals:  1390893  mean:  446.19683972814585  std:  1053.608082827286  min:  -1323  max:  2078\n",
      "[0 0 0 0] ... [1642 1059 -869 -946] ... [ 264 -357 1033 1967]\n",
      "\n",
      "user:  RR45  vals:  1390095  mean:  393.01965908804794  std:  1065.4252967029277  min:  -1116  max:  2195\n",
      "[2193  226 1294 -954] ... [1359 1391 -827 -962] ... [1983 -586  164 2193]\n",
      "\n",
      "user:  RW32  vals:  1393476  mean:  444.3243435839584  std:  1041.5931057362714  min:  -1583  max:  2163\n",
      "[-1257   440  1323 -1047] ... [-1344   548  1212 -1033] ... [2121  525 1368 1656]\n",
      "\n",
      "user:  SF1  vals:  1347591  mean:  1780.1165724615257  std:  3890.862779672253  min:  -6278  max:  8074\n",
      "[ 6102  5298 -5444  3608] ... [ 6928 -3600     0     0] ... [ 2762 -1088  4512  7784]\n",
      "\n",
      "user:  YW13  vals:  2270394  mean:  523.6293004650295  std:  992.1615762794424  min:  -1235  max:  2063\n",
      "[-717 1195 1195 -823] ... [-1085  1147  1076  -748] ... [1675  194  194 -148]\n",
      "\n",
      "           AB73    AF82    AL29    AW18    CB23    CB24    CF58    DG12  \\\n",
      "0        -488.0     0.0     0.0     0.0 -1017.0 -1117.0 -1298.0 -1218.0   \n",
      "1         897.0     0.0     0.0     0.0   497.0   779.0   396.0   601.0   \n",
      "2        1540.0     0.0     0.0     0.0  1462.0  1284.0  1310.0  1294.0   \n",
      "3        -880.0     0.0     0.0     0.0  -550.0  -744.0 -1123.0 -1032.0   \n",
      "4         961.0     0.0     0.0     0.0   770.0   676.0   724.0   546.0   \n",
      "5        1354.0     0.0     0.0     0.0  1615.0  1550.0  1314.0  1451.0   \n",
      "6        -540.0     0.0     0.0     0.0 -1167.0 -1091.0 -1282.0 -1334.0   \n",
      "7         613.0     0.0     0.0     0.0   -61.0   289.0   654.0   530.0   \n",
      "8        1639.0     0.0     0.0     0.0  1409.0  1492.0  1231.0  1231.0   \n",
      "9         482.0 -1180.0     0.0  -510.0  -600.0  -504.0  -455.0  -484.0   \n",
      "10       1479.0  1300.0  1199.0  1841.0  1391.0  1461.0  1764.0  1493.0   \n",
      "11       1166.0   989.0  1356.0   621.0  1308.0  1278.0   843.0  1258.0   \n",
      "12       -214.0  -445.0  1356.0 -1032.0  -763.0  -633.0  -874.0  -687.0   \n",
      "13      -1249.0 -1295.0  -859.0 -1354.0 -1110.0 -1398.0 -1182.0 -1318.0   \n",
      "14       1387.0  1590.0   379.0  1198.0  1637.0  1473.0  1433.0  1433.0   \n",
      "15        644.0  -777.0  -716.0  -300.0  -652.0  -420.0  -524.0  -447.0   \n",
      "16        483.0  -231.0   411.0   457.0   304.0    -7.0   375.0   -39.0   \n",
      "17       1949.0  2038.0  2082.0  2127.0  2072.0  2179.0  2077.0  2139.0   \n",
      "18        681.0  -817.0  -534.0  -241.0  -484.0  -310.0  -104.0  -514.0   \n",
      "19       1444.0   196.0  1348.0  1372.0  1516.0  1438.0  1715.0   579.0   \n",
      "20       1491.0   196.0  1779.0  1740.0  1578.0  1723.0  1382.0  2125.0   \n",
      "21       -477.0   196.0  1779.0  1740.0 -1005.0 -1121.0 -1293.0 -1205.0   \n",
      "22       1028.0   206.0  -103.0  1167.0   489.0   788.0   391.0   619.0   \n",
      "23       1433.0  1063.0   887.0   196.0  1456.0  1291.0  1314.0  1315.0   \n",
      "24       -814.0 -1387.0   887.0 -1029.0  -546.0  -742.0 -1115.0 -1037.0   \n",
      "25       1140.0   541.0    12.0  1174.0   769.0   678.0   721.0   547.0   \n",
      "26       1221.0  1177.0   923.0  1056.0  1590.0  1550.0  1335.0  1443.0   \n",
      "27       -524.0 -1401.0   923.0 -1245.0 -1184.0 -1072.0 -1285.0 -1338.0   \n",
      "28        716.0   405.0  -365.0   811.0   -64.0   295.0   647.0   492.0   \n",
      "29       1569.0  1179.0   654.0  1156.0  1443.0  1495.0  1215.0  1238.0   \n",
      "...         ...     ...     ...     ...     ...     ...     ...     ...   \n",
      "2358732     NaN     NaN     NaN     NaN     NaN     NaN     NaN     NaN   \n",
      "2358733     NaN     NaN     NaN     NaN     NaN     NaN     NaN     NaN   \n",
      "2358734     NaN     NaN     NaN     NaN     NaN     NaN     NaN     NaN   \n",
      "2358735     NaN     NaN     NaN     NaN     NaN     NaN     NaN     NaN   \n",
      "2358736     NaN     NaN     NaN     NaN     NaN     NaN     NaN     NaN   \n",
      "2358737     NaN     NaN     NaN     NaN     NaN     NaN     NaN     NaN   \n",
      "2358738     NaN     NaN     NaN     NaN     NaN     NaN     NaN     NaN   \n",
      "2358739     NaN     NaN     NaN     NaN     NaN     NaN     NaN     NaN   \n",
      "2358740     NaN     NaN     NaN     NaN     NaN     NaN     NaN     NaN   \n",
      "2358741     NaN     NaN     NaN     NaN     NaN     NaN     NaN     NaN   \n",
      "2358742     NaN     NaN     NaN     NaN     NaN     NaN     NaN     NaN   \n",
      "2358743     NaN     NaN     NaN     NaN     NaN     NaN     NaN     NaN   \n",
      "2358744     NaN     NaN     NaN     NaN     NaN     NaN     NaN     NaN   \n",
      "2358745     NaN     NaN     NaN     NaN     NaN     NaN     NaN     NaN   \n",
      "2358746     NaN     NaN     NaN     NaN     NaN     NaN     NaN     NaN   \n",
      "2358747     NaN     NaN     NaN     NaN     NaN     NaN     NaN     NaN   \n",
      "2358748     NaN     NaN     NaN     NaN     NaN     NaN     NaN     NaN   \n",
      "2358749     NaN     NaN     NaN     NaN     NaN     NaN     NaN     NaN   \n",
      "2358750     NaN     NaN     NaN     NaN     NaN     NaN     NaN     NaN   \n",
      "2358751     NaN     NaN     NaN     NaN     NaN     NaN     NaN     NaN   \n",
      "2358752     NaN     NaN     NaN     NaN     NaN     NaN     NaN     NaN   \n",
      "2358753     NaN     NaN     NaN     NaN     NaN     NaN     NaN     NaN   \n",
      "2358754     NaN     NaN     NaN     NaN     NaN     NaN     NaN     NaN   \n",
      "2358755     NaN     NaN     NaN     NaN     NaN     NaN     NaN     NaN   \n",
      "2358756     NaN     NaN     NaN     NaN     NaN     NaN     NaN     NaN   \n",
      "2358757     NaN     NaN     NaN     NaN     NaN     NaN     NaN     NaN   \n",
      "2358758     NaN     NaN     NaN     NaN     NaN     NaN     NaN     NaN   \n",
      "2358759     NaN     NaN     NaN     NaN     NaN     NaN     NaN     NaN   \n",
      "2358760     NaN     NaN     NaN     NaN     NaN     NaN     NaN     NaN   \n",
      "2358761     NaN     NaN     NaN     NaN     NaN     NaN     NaN     NaN   \n",
      "\n",
      "           DH42    DL24   ...      JS52    MF20    MS55    PC29    PM32  \\\n",
      "0        1718.0  -589.0   ...    1164.0  1384.0     0.0 -5136.0     0.0   \n",
      "1        1718.0  1948.0   ...     649.0   784.0     0.0 -4928.0     0.0   \n",
      "2        -447.0  -563.0   ...     -13.0   317.0     0.0  2380.0     0.0   \n",
      "3        1858.0  -356.0   ...     -13.0 -1238.0     0.0 -5574.0     0.0   \n",
      "4        1858.0  1833.0   ...     793.0  1160.0     0.0 -3418.0     0.0   \n",
      "5        1858.0  -947.0   ...     384.0   862.0     0.0  3874.0     0.0   \n",
      "6        1952.0  -312.0   ...   -1445.0 -1341.0     0.0 -6404.0     0.0   \n",
      "7        1952.0  1902.0   ...    1137.0   999.0     0.0 -2468.0     0.0   \n",
      "8        1952.0  -783.0   ...     573.0   899.0     0.0  3176.0     0.0   \n",
      "9         976.0   -51.0   ...    -989.0  -678.0  -374.0 -6922.0  -657.0   \n",
      "10       1935.0  2004.0   ...    1600.0  1742.0  1655.0 -1018.0  1579.0   \n",
      "11       1935.0   284.0   ...     656.0   732.0  1083.0  3756.0  1051.0   \n",
      "12        273.0  -675.0   ...    -906.0 -1038.0  -760.0 -2334.0  -795.0   \n",
      "13       1001.0   -98.0   ...   -1433.0 -1471.0  -973.0 -4680.0  -904.0   \n",
      "14       1609.0  1896.0   ...    1189.0  1060.0  1668.0 -5384.0  1645.0   \n",
      "15       1078.0    51.0   ...    -223.0  -194.0  -730.0 -1568.0  -527.0   \n",
      "16       1684.0  1534.0   ...     511.0   312.0   113.0 -5052.0   247.0   \n",
      "17        673.0  1457.0   ...     511.0  2151.0  2045.0  6810.0   247.0   \n",
      "18        433.0   -48.0   ...    -226.0   -95.0  -311.0 -3470.0  -558.0   \n",
      "19       2085.0  2069.0   ...    1674.0  1790.0   977.0    34.0   944.0   \n",
      "20        421.0   443.0   ...    1458.0  1284.0  2010.0  8170.0  2042.0   \n",
      "21       1660.0  -537.0   ...    1458.0  1284.0 -1059.0 -4962.0 -1023.0   \n",
      "22       1660.0  1939.0   ...     652.0   793.0   528.0 -5092.0   713.0   \n",
      "23       -378.0  -575.0   ...     -12.0   298.0  1432.0  2288.0  1364.0   \n",
      "24       1509.0  -328.0   ...     -12.0 -1218.0  -921.0 -5306.0  -880.0   \n",
      "25       1509.0  1827.0   ...     800.0  1166.0   600.0 -3474.0   817.0   \n",
      "26       1509.0  -969.0   ...     383.0   875.0  1511.0  3682.0  1409.0   \n",
      "27       1581.0  -301.0   ...   -1449.0 -1312.0 -1059.0 -6204.0  1409.0   \n",
      "28       1581.0  1895.0   ...    1143.0   977.0   618.0 -2694.0    92.0   \n",
      "29       1581.0  -779.0   ...     578.0   903.0  1396.0  3068.0  1390.0   \n",
      "...         ...     ...   ...       ...     ...     ...     ...     ...   \n",
      "2358732     NaN     NaN   ...       NaN     NaN     NaN     NaN     NaN   \n",
      "2358733     NaN     NaN   ...       NaN     NaN     NaN     NaN     NaN   \n",
      "2358734     NaN     NaN   ...       NaN     NaN     NaN     NaN     NaN   \n",
      "2358735     NaN     NaN   ...       NaN     NaN     NaN     NaN     NaN   \n",
      "2358736     NaN     NaN   ...       NaN     NaN     NaN     NaN     NaN   \n",
      "2358737     NaN     NaN   ...       NaN     NaN     NaN     NaN     NaN   \n",
      "2358738     NaN     NaN   ...       NaN     NaN     NaN     NaN     NaN   \n",
      "2358739     NaN     NaN   ...       NaN     NaN     NaN     NaN     NaN   \n",
      "2358740     NaN     NaN   ...       NaN     NaN     NaN     NaN     NaN   \n",
      "2358741     NaN     NaN   ...       NaN     NaN     NaN     NaN     NaN   \n",
      "2358742     NaN     NaN   ...       NaN     NaN     NaN     NaN     NaN   \n",
      "2358743     NaN     NaN   ...       NaN     NaN     NaN     NaN     NaN   \n",
      "2358744     NaN     NaN   ...       NaN     NaN     NaN     NaN     NaN   \n",
      "2358745     NaN     NaN   ...       NaN     NaN     NaN     NaN     NaN   \n",
      "2358746     NaN     NaN   ...       NaN     NaN     NaN     NaN     NaN   \n",
      "2358747     NaN     NaN   ...       NaN     NaN     NaN     NaN     NaN   \n",
      "2358748     NaN     NaN   ...       NaN     NaN     NaN     NaN     NaN   \n",
      "2358749     NaN     NaN   ...       NaN     NaN     NaN     NaN     NaN   \n",
      "2358750     NaN     NaN   ...       NaN     NaN     NaN     NaN     NaN   \n",
      "2358751     NaN     NaN   ...       NaN     NaN     NaN     NaN     NaN   \n",
      "2358752     NaN     NaN   ...       NaN     NaN     NaN     NaN     NaN   \n",
      "2358753     NaN     NaN   ...       NaN     NaN     NaN     NaN     NaN   \n",
      "2358754     NaN     NaN   ...       NaN     NaN     NaN     NaN     NaN   \n",
      "2358755     NaN     NaN   ...       NaN     NaN     NaN     NaN     NaN   \n",
      "2358756     NaN     NaN   ...       NaN     NaN     NaN     NaN     NaN   \n",
      "2358757     NaN     NaN   ...       NaN     NaN     NaN     NaN     NaN   \n",
      "2358758     NaN     NaN   ...       NaN     NaN     NaN     NaN     NaN   \n",
      "2358759     NaN     NaN   ...       NaN     NaN     NaN     NaN     NaN   \n",
      "2358760     NaN     NaN   ...       NaN     NaN     NaN     NaN     NaN   \n",
      "2358761     NaN     NaN   ...       NaN     NaN     NaN     NaN     NaN   \n",
      "\n",
      "           PS42    RR45    RW32     SF1    YW13  \n",
      "0           0.0  2193.0 -1257.0  6102.0  -717.0  \n",
      "1           0.0   226.0   440.0  5298.0  1195.0  \n",
      "2           0.0  1294.0  1323.0 -5444.0  1195.0  \n",
      "3           0.0  -954.0 -1047.0  3608.0  -823.0  \n",
      "4           0.0   757.0   682.0  2756.0   780.0  \n",
      "5           0.0  1359.0  1385.0 -6056.0   780.0  \n",
      "6           0.0  1359.0 -1334.0  2792.0  -537.0  \n",
      "7           0.0   800.0   620.0  3464.0  1006.0  \n",
      "8           0.0  1261.0  1211.0  3464.0  1006.0  \n",
      "9        -736.0  -557.0  -533.0  1904.0  -801.0  \n",
      "10       1621.0  1466.0  1718.0  1568.0   533.0  \n",
      "11        942.0  1267.0   865.0 -5440.0   533.0  \n",
      "12       -902.0  -872.0  -711.0  1502.0   533.0  \n",
      "13      -1307.0  -872.0 -1408.0  3642.0  1000.0  \n",
      "14       1305.0  1456.0  1325.0  3642.0   668.0  \n",
      "15       -377.0  -868.0  -689.0 -4196.0 -1012.0  \n",
      "16        438.0  -119.0    62.0 -4196.0  1947.0  \n",
      "17        438.0  2031.0  2069.0 -3766.0    61.0  \n",
      "18       -334.0  -793.0  -731.0  1726.0  -449.0  \n",
      "19       1238.0  -299.0   738.0  1726.0  1714.0  \n",
      "20       1838.0  2069.0  1996.0  -690.0 -1045.0  \n",
      "21       1838.0  2069.0 -1250.0  6248.0  -556.0  \n",
      "22        469.0   478.0   437.0  5232.0  1336.0  \n",
      "23        991.0  1295.0  1317.0 -5366.0  1336.0  \n",
      "24      -1239.0  -871.0 -1048.0  4578.0  -648.0  \n",
      "25        918.0  1045.0   674.0  4404.0   832.0  \n",
      "26       1084.0  1616.0  1401.0  4404.0   832.0  \n",
      "27      -1310.0  1616.0 -1323.0  2054.0  -286.0  \n",
      "28        991.0   745.0   637.0  3506.0  1136.0  \n",
      "29        959.0  1260.0  1190.0  3506.0  1136.0  \n",
      "...         ...     ...     ...     ...     ...  \n",
      "2358732     NaN     NaN     NaN     NaN     NaN  \n",
      "2358733     NaN     NaN     NaN     NaN     NaN  \n",
      "2358734     NaN     NaN     NaN     NaN     NaN  \n",
      "2358735     NaN     NaN     NaN     NaN     NaN  \n",
      "2358736     NaN     NaN     NaN     NaN     NaN  \n",
      "2358737     NaN     NaN     NaN     NaN     NaN  \n",
      "2358738     NaN     NaN     NaN     NaN     NaN  \n",
      "2358739     NaN     NaN     NaN     NaN     NaN  \n",
      "2358740     NaN     NaN     NaN     NaN     NaN  \n",
      "2358741     NaN     NaN     NaN     NaN     NaN  \n",
      "2358742     NaN     NaN     NaN     NaN     NaN  \n",
      "2358743     NaN     NaN     NaN     NaN     NaN  \n",
      "2358744     NaN     NaN     NaN     NaN     NaN  \n",
      "2358745     NaN     NaN     NaN     NaN     NaN  \n",
      "2358746     NaN     NaN     NaN     NaN     NaN  \n",
      "2358747     NaN     NaN     NaN     NaN     NaN  \n",
      "2358748     NaN     NaN     NaN     NaN     NaN  \n",
      "2358749     NaN     NaN     NaN     NaN     NaN  \n",
      "2358750     NaN     NaN     NaN     NaN     NaN  \n",
      "2358751     NaN     NaN     NaN     NaN     NaN  \n",
      "2358752     NaN     NaN     NaN     NaN     NaN  \n",
      "2358753     NaN     NaN     NaN     NaN     NaN  \n",
      "2358754     NaN     NaN     NaN     NaN     NaN  \n",
      "2358755     NaN     NaN     NaN     NaN     NaN  \n",
      "2358756     NaN     NaN     NaN     NaN     NaN  \n",
      "2358757     NaN     NaN     NaN     NaN     NaN  \n",
      "2358758     NaN     NaN     NaN     NaN     NaN  \n",
      "2358759     NaN     NaN     NaN     NaN     NaN  \n",
      "2358760     NaN     NaN     NaN     NaN     NaN  \n",
      "2358761     NaN     NaN     NaN     NaN     NaN  \n",
      "\n",
      "[2358762 rows x 22 columns]\n"
     ]
    },
    {
     "data": {
      "image/png": "[encoded data removed]",
      "text/plain": [
       "<Figure size 432x288 with 1 Axes>"
      ]
     },
     "metadata": {
      "needs_background": "light"
     },
     "output_type": "display_data"
    }
   ],
   "source": [
    "show_boxplots_row_lc(cols[all_accel], 'label_automatic', np.nan, True, False)"
   ]
  },
  {
   "cell_type": "code",
   "execution_count": 26,
   "metadata": {},
   "outputs": [
    {
     "name": "stdout",
     "output_type": "stream",
     "text": [
      "user:  AB73  vals:  599592  mean:  254.53898150742504  std:  1330.0691699002891  min:  -4288  max:  3149\n",
      "[1422 -864 1179  567] ... [ -564  1471 -1455  -182] ... [1675  728 1343 1315]\n",
      "\n",
      "skipping userAE30\n",
      "user:  AF82  vals:  293979  mean:  225.2880511873297  std:  1313.2963382051369  min:  -3893  max:  3055\n",
      "[ -964   376   830 -1009] ... [ 1982 -1098 -1596  -205] ... [1822  -49  955 1894]\n",
      "\n",
      "user:  AL29  vals:  596736  mean:  330.7598334942085  std:  1315.1331884174274  min:  -4190  max:  3382\n",
      "[ 1769  1627 -3624   840] ... [  761  -124 -1144   590] ... [1056  508 1906  448]\n",
      "\n",
      "user:  AW18  vals:  340872  mean:  177.60652972376727  std:  1468.7025165211112  min:  -5515  max:  3846\n",
      "[-616 1258  849 -708] ... [ 2416  2864 -4889  1068] ... [2245  628 1159 1858]\n",
      "\n",
      "user:  CB23  vals:  390642  mean:  327.9645404232008  std:  1288.2672973781675  min:  -3914  max:  3193\n",
      "[-661  809  517 -716] ... [-1172    67 -1728  -935] ... [1485 1053 1073  766]\n",
      "\n",
      "user:  CB24  vals:  284739  mean:  184.54307980290722  std:  1309.0469261963374  min:  -5254  max:  3393\n",
      "[1159  402 -526  801] ... [  506 -2264     0     0] ... [2595  457 1667 1855]\n",
      "\n",
      "user:  CF58  vals:  319788  mean:  146.5811756538707  std:  1501.8678193736976  min:  -5721  max:  3822\n",
      "[  249  1371 -2405    21] ... [  -87 -1089  1648  -993] ... [1503 -838 2864 1168]\n",
      "\n",
      "user:  DG12  vals:  256536  mean:  127.9533047993264  std:  1523.4640191315068  min:  -6015  max:  3709\n",
      "[-2705  2404   503 -2864] ... [-1397 -1474  2545 -2891] ... [1990  548   56 2228]\n",
      "\n",
      "user:  DH42  vals:  278859  mean:  162.83358973531426  std:  1470.1592463914249  min:  -4927  max:  3338\n",
      "[ 508 1952 -430 -319] ... [ 1503  -819   420 -1528] ... [2114  996 1286 2037]\n",
      "\n",
      "user:  DL24  vals:  720636  mean:  237.03936106439312  std:  1298.3561399616674  min:  -4163  max:  3038\n",
      "[-2174   -79 -3611 -3886] ... [-1867   679   189 -1437] ... [-1421  1089   143 -1489]\n",
      "\n",
      "user:  JL61  vals:  299565  mean:  125.28442241249812  std:  1461.7638482312336  min:  -5481  max:  3790\n",
      "[1463 -420  255 1225] ... [ 762 1997 -488  462] ... [2150 -228 1523 1102]\n",
      "\n",
      "user:  JQ28  vals:  714819  mean:  304.93063698642595  std:  1289.2351684545304  min:  -3984  max:  2966\n",
      "[  -88 -3923   583   -53] ... [ -458 -1309 -1311 -2194] ... [1184 -686 -511 1623]\n",
      "\n",
      "user:  JS52  vals:  715239  mean:  292.54782107798934  std:  1376.5867469220082  min:  -4950  max:  3566\n",
      "[ 152  -79 1301   32] ... [ -253  1997   133 -1815] ... [1508 1296  755 1588]\n",
      "\n",
      "user:  MF20  vals:  435099  mean:  289.6559242838986  std:  1253.6555941174313  min:  -3547  max:  2899\n",
      "[1816   61   19 1310] ... [  564  1165  1458 -1356] ... [-1023   683   931 -1475]\n",
      "\n",
      "user:  MS55  vals:  264789  mean:  168.5473112553769  std:  1454.9646600788378  min:  -5255  max:  3653\n",
      "[ 2228 -4643   113 -1894] ... [-1655 -1488  -975 -1944] ... [-243  365 1753 -642]\n",
      "\n",
      "user:  PC29  vals:  445347  mean:  582.7513646662042  std:  6476.3935411465  min:  -29900  max:  16456\n",
      "[4312 5936 2894  358] ... [ 3098  2864  1292 -6174] ... [-440 3400 7298 -242]\n",
      "\n",
      "user:  PM32  vals:  574980  mean:  158.01769974607814  std:  1646.7371608937904  min:  -6940  max:  4247\n",
      "[-513 1004  542 -908] ... [   40 -4309  1602   361] ... [ 659  523 -100 1580]\n",
      "\n",
      "user:  PS42  vals:  256032  mean:  273.69431164854393  std:  1348.406027849534  min:  -4953  max:  3494\n",
      "[ 952 -573  726 -417] ... [ 364   66 1399 -542] ... [1919  463  607 1962]\n",
      "\n",
      "user:  RR45  vals:  273987  mean:  142.77943844050995  std:  1576.7690243875797  min:  -6624  max:  4156\n",
      "[ 1463 -1222 -4041  1523] ... [-3795 -3795  -430 -3404] ... [2759 -142  766 2655]\n",
      "\n",
      "user:  RW32  vals:  340389  mean:  151.9640382033497  std:  1523.1229318301391  min:  -5746  max:  3970\n",
      "[-174  977 -643 -147] ... [ 2722  -928  -111 -1046] ... [1762  760 1490 1032]\n",
      "\n",
      "user:  SF1  vals:  363300  mean:  1356.9762510322048  std:  4831.057179180752  min:  -16850  max:  12072\n",
      "[-1078  1020  9140 -2756] ... [ 6432  2728  3184 -4618] ... [7264  860 6862 5844]\n",
      "\n",
      "user:  YW13  vals:  536970  mean:  162.78076056390486  std:  1582.3290032492569  min:  -6540  max:  3937\n",
      "[ 924 -619 1128 1177] ... [-164 1265  537 -368] ... [1932  856 2145  151]\n",
      "\n",
      "          AB73    AF82    AL29    AW18    CB23    CB24    CF58    DG12  \\\n",
      "0       1422.0  -964.0  1769.0  -616.0  -661.0  1159.0   249.0 -2705.0   \n",
      "1       -864.0   376.0  1627.0  1258.0   809.0   402.0  1371.0  2404.0   \n",
      "2       1179.0   830.0 -3624.0   849.0   517.0  -526.0 -2405.0   503.0   \n",
      "3        567.0 -1009.0   840.0  -708.0  -716.0   801.0    21.0 -2864.0   \n",
      "4        428.0  1004.0  2353.0  1744.0  1150.0   -69.0  1325.0  1858.0   \n",
      "5       1409.0   -19.0 -3423.0   591.0   408.0   269.0   -95.0  -481.0   \n",
      "6      -1422.0 -1080.0   271.0 -1000.0 -1063.0   646.0  -217.0 -2958.0   \n",
      "7       1269.0   904.0  1740.0  1481.0   790.0   -10.0  1437.0  2531.0   \n",
      "8       -140.0    -5.0 -2151.0  1076.0   870.0   169.0  -428.0  -727.0   \n",
      "9      -1442.0  -651.0   726.0  -334.0  -827.0   766.0  -937.0 -2837.0   \n",
      "10      1116.0  1113.0   883.0  1943.0  1275.0   555.0   849.0  2824.0   \n",
      "11        57.0   394.0 -3040.0   370.0  1082.0   148.0 -1237.0  -352.0   \n",
      "12        24.0  -969.0  1943.0   -78.0   694.0     0.0   553.0 -1269.0   \n",
      "13     -1002.0 -2299.0  2530.0  -931.0   -24.0     0.0  -252.0   305.0   \n",
      "14      2064.0   609.0 -2773.0  1637.0   630.0     0.0  1414.0  2599.0   \n",
      "15      1158.0  -687.0  1418.0    68.0   685.0  1213.0   333.0  -788.0   \n",
      "16      -457.0  -540.0  1514.0   837.0   987.0  -544.0  1563.0  2364.0   \n",
      "17      1540.0  1766.0 -1970.0  2063.0  1300.0   766.0   791.0  1505.0   \n",
      "18      1192.0  -569.0   508.0    57.0   696.0  1001.0   409.0  -488.0   \n",
      "19       621.0  -139.0  1675.0  1668.0  1686.0   400.0  1803.0  2379.0   \n",
      "20      1501.0  2089.0 -1815.0  1528.0   350.0  1492.0  -188.0   962.0   \n",
      "21       749.0  -972.0  2018.0  -258.0  -255.0   698.0 -1168.0 -2475.0   \n",
      "22      -330.0   132.0  1672.0  1025.0   798.0  -406.0  1527.0  2622.0   \n",
      "23      1780.0   586.0 -4053.0   693.0   349.0   346.0  -172.0   379.0   \n",
      "24       317.0 -1249.0   637.0  -552.0  -415.0  1246.0   -90.0 -2893.0   \n",
      "25      1108.0  1020.0  1866.0  1674.0   754.0   187.0  1175.0  2180.0   \n",
      "26      1652.0   303.0 -2502.0   637.0   231.0  -389.0  -972.0  -744.0   \n",
      "27     -1639.0 -1066.0   217.0  -980.0  -638.0  1198.0  -299.0 -2860.0   \n",
      "28      1162.0   399.0  1460.0  1628.0   830.0   502.0  1282.0  2302.0   \n",
      "29       125.0   -16.0 -2118.0   940.0   320.0  -522.0  -331.0 -1449.0   \n",
      "...        ...     ...     ...     ...     ...     ...     ...     ...   \n",
      "720606     NaN     NaN     NaN     NaN     NaN     NaN     NaN     NaN   \n",
      "720607     NaN     NaN     NaN     NaN     NaN     NaN     NaN     NaN   \n",
      "720608     NaN     NaN     NaN     NaN     NaN     NaN     NaN     NaN   \n",
      "720609     NaN     NaN     NaN     NaN     NaN     NaN     NaN     NaN   \n",
      "720610     NaN     NaN     NaN     NaN     NaN     NaN     NaN     NaN   \n",
      "720611     NaN     NaN     NaN     NaN     NaN     NaN     NaN     NaN   \n",
      "720612     NaN     NaN     NaN     NaN     NaN     NaN     NaN     NaN   \n",
      "720613     NaN     NaN     NaN     NaN     NaN     NaN     NaN     NaN   \n",
      "720614     NaN     NaN     NaN     NaN     NaN     NaN     NaN     NaN   \n",
      "720615     NaN     NaN     NaN     NaN     NaN     NaN     NaN     NaN   \n",
      "720616     NaN     NaN     NaN     NaN     NaN     NaN     NaN     NaN   \n",
      "720617     NaN     NaN     NaN     NaN     NaN     NaN     NaN     NaN   \n",
      "720618     NaN     NaN     NaN     NaN     NaN     NaN     NaN     NaN   \n",
      "720619     NaN     NaN     NaN     NaN     NaN     NaN     NaN     NaN   \n",
      "720620     NaN     NaN     NaN     NaN     NaN     NaN     NaN     NaN   \n",
      "720621     NaN     NaN     NaN     NaN     NaN     NaN     NaN     NaN   \n",
      "720622     NaN     NaN     NaN     NaN     NaN     NaN     NaN     NaN   \n",
      "720623     NaN     NaN     NaN     NaN     NaN     NaN     NaN     NaN   \n",
      "720624     NaN     NaN     NaN     NaN     NaN     NaN     NaN     NaN   \n",
      "720625     NaN     NaN     NaN     NaN     NaN     NaN     NaN     NaN   \n",
      "720626     NaN     NaN     NaN     NaN     NaN     NaN     NaN     NaN   \n",
      "720627     NaN     NaN     NaN     NaN     NaN     NaN     NaN     NaN   \n",
      "720628     NaN     NaN     NaN     NaN     NaN     NaN     NaN     NaN   \n",
      "720629     NaN     NaN     NaN     NaN     NaN     NaN     NaN     NaN   \n",
      "720630     NaN     NaN     NaN     NaN     NaN     NaN     NaN     NaN   \n",
      "720631     NaN     NaN     NaN     NaN     NaN     NaN     NaN     NaN   \n",
      "720632     NaN     NaN     NaN     NaN     NaN     NaN     NaN     NaN   \n",
      "720633     NaN     NaN     NaN     NaN     NaN     NaN     NaN     NaN   \n",
      "720634     NaN     NaN     NaN     NaN     NaN     NaN     NaN     NaN   \n",
      "720635     NaN     NaN     NaN     NaN     NaN     NaN     NaN     NaN   \n",
      "\n",
      "          DH42  DL24   ...      JS52    MF20    MS55    PC29    PM32    PS42  \\\n",
      "0        508.0 -2174   ...     152.0  1816.0  2228.0  4312.0  -513.0   952.0   \n",
      "1       1952.0   -79   ...     -79.0    61.0 -4643.0  5936.0  1004.0  -573.0   \n",
      "2       -430.0 -3611   ...    1301.0    19.0   113.0  2894.0   542.0   726.0   \n",
      "3       -319.0 -3886   ...      32.0  1310.0 -1894.0   358.0  -908.0  -417.0   \n",
      "4       1876.0  -112   ...    -341.0   109.0  -985.0  9076.0  1046.0  1970.0   \n",
      "5       -990.0 -3397   ...     735.0  -123.0  1303.0 -2600.0   -31.0   661.0   \n",
      "6        690.0 -2103   ...    -199.0  1145.0 -1575.0 -2068.0 -1117.0  -238.0   \n",
      "7       1834.0   -87   ...    -715.0   481.0  -904.0  7360.0  1072.0  2094.0   \n",
      "8      -1183.0   -87   ...     653.0   146.0   780.0 -3712.0  -140.0 -1158.0   \n",
      "9       1544.0 -2840   ...    1065.0  1279.0 -1155.0 -1144.0 -1278.0  -266.0   \n",
      "10      1550.0 -1666   ...     -79.0   963.0  -772.0  7612.0  1113.0  1453.0   \n",
      "11      -128.0 -3218   ...     785.0  -411.0   738.0 -3638.0  -716.0  -861.0   \n",
      "12     -1287.0  -978   ...    1666.0  1538.0  1162.0  1950.0   295.0   774.0   \n",
      "13       531.0    73   ...    -315.0  -858.0 -4991.0 -5608.0   151.0 -1136.0   \n",
      "14      1785.0  1077   ...     876.0   944.0 -1561.0  2468.0  1400.0  1504.0   \n",
      "15       206.0  -557   ...    1785.0  1627.0  1068.0  2452.0   545.0   443.0   \n",
      "16      2019.0    10   ...    -263.0   325.0 -1748.0  5792.0  1244.0  1545.0   \n",
      "17       531.0  -143   ...     983.0  1519.0   308.0  4622.0   907.0  1326.0   \n",
      "18       292.0   346   ...    1521.0  1483.0  1236.0  2886.0   774.0   451.0   \n",
      "19      2013.0   776   ...     801.0  1588.0   199.0  6678.0  1648.0  1821.0   \n",
      "20       487.0    63   ...    1228.0   620.0   941.0  3072.0   588.0   955.0   \n",
      "21       482.0 -3765   ...     372.0  1606.0  1951.0  4202.0  -599.0   603.0   \n",
      "22      2042.0   455   ...    -181.0  -281.0 -4027.0  5230.0  1051.0  -282.0   \n",
      "23      -176.0 -2950   ...     664.0   539.0   -63.0  2570.0   713.0   449.0   \n",
      "24      -298.0 -2950   ...     143.0  1709.0 -1970.0   738.0 -1014.0  -202.0   \n",
      "25      1905.0   -64   ...    -463.0   251.0  -954.0  8562.0  1167.0  -202.0   \n",
      "26      -752.0 -3797   ...     542.0  -355.0  1196.0  -668.0   191.0  -866.0   \n",
      "27       608.0 -3401   ...     726.0  1519.0 -1921.0 -1864.0 -1283.0  -268.0   \n",
      "28      1854.0   182   ...    -122.0   645.0  -841.0  8104.0  1090.0  2597.0   \n",
      "29     -1145.0 -4031   ...      11.0    86.0   692.0 -4286.0   116.0  -735.0   \n",
      "...        ...   ...   ...       ...     ...     ...     ...     ...     ...   \n",
      "720606     NaN  1071   ...       NaN     NaN     NaN     NaN     NaN     NaN   \n",
      "720607     NaN  1622   ...       NaN     NaN     NaN     NaN     NaN     NaN   \n",
      "720608     NaN  -750   ...       NaN     NaN     NaN     NaN     NaN     NaN   \n",
      "720609     NaN  1037   ...       NaN     NaN     NaN     NaN     NaN     NaN   \n",
      "720610     NaN   696   ...       NaN     NaN     NaN     NaN     NaN     NaN   \n",
      "720611     NaN -1402   ...       NaN     NaN     NaN     NaN     NaN     NaN   \n",
      "720612     NaN  1069   ...       NaN     NaN     NaN     NaN     NaN     NaN   \n",
      "720613     NaN   105   ...       NaN     NaN     NaN     NaN     NaN     NaN   \n",
      "720614     NaN -1486   ...       NaN     NaN     NaN     NaN     NaN     NaN   \n",
      "720615     NaN  2001   ...       NaN     NaN     NaN     NaN     NaN     NaN   \n",
      "720616     NaN   182   ...       NaN     NaN     NaN     NaN     NaN     NaN   \n",
      "720617     NaN  -444   ...       NaN     NaN     NaN     NaN     NaN     NaN   \n",
      "720618     NaN  1896   ...       NaN     NaN     NaN     NaN     NaN     NaN   \n",
      "720619     NaN  -154   ...       NaN     NaN     NaN     NaN     NaN     NaN   \n",
      "720620     NaN   248   ...       NaN     NaN     NaN     NaN     NaN     NaN   \n",
      "720621     NaN  1941   ...       NaN     NaN     NaN     NaN     NaN     NaN   \n",
      "720622     NaN  -186   ...       NaN     NaN     NaN     NaN     NaN     NaN   \n",
      "720623     NaN   298   ...       NaN     NaN     NaN     NaN     NaN     NaN   \n",
      "720624     NaN  1749   ...       NaN     NaN     NaN     NaN     NaN     NaN   \n",
      "720625     NaN  -703   ...       NaN     NaN     NaN     NaN     NaN     NaN   \n",
      "720626     NaN   603   ...       NaN     NaN     NaN     NaN     NaN     NaN   \n",
      "720627     NaN  1084   ...       NaN     NaN     NaN     NaN     NaN     NaN   \n",
      "720628     NaN  1638   ...       NaN     NaN     NaN     NaN     NaN     NaN   \n",
      "720629     NaN  -756   ...       NaN     NaN     NaN     NaN     NaN     NaN   \n",
      "720630     NaN  1068   ...       NaN     NaN     NaN     NaN     NaN     NaN   \n",
      "720631     NaN   766   ...       NaN     NaN     NaN     NaN     NaN     NaN   \n",
      "720632     NaN -1421   ...       NaN     NaN     NaN     NaN     NaN     NaN   \n",
      "720633     NaN  1089   ...       NaN     NaN     NaN     NaN     NaN     NaN   \n",
      "720634     NaN   143   ...       NaN     NaN     NaN     NaN     NaN     NaN   \n",
      "720635     NaN -1489   ...       NaN     NaN     NaN     NaN     NaN     NaN   \n",
      "\n",
      "          RR45    RW32      SF1    YW13  \n",
      "0       1463.0  -174.0  -1078.0   924.0  \n",
      "1      -1222.0   977.0   1020.0  -619.0  \n",
      "2      -4041.0  -643.0   9140.0  1128.0  \n",
      "3       1523.0  -147.0  -2756.0  1177.0  \n",
      "4      -2255.0   939.0   9266.0   565.0  \n",
      "5      -4057.0  -518.0   9266.0   763.0  \n",
      "6       2187.0   -62.0  -9360.0   990.0  \n",
      "7      -2167.0   990.0    630.0    58.0  \n",
      "8      -3920.0  -486.0    630.0  1313.0  \n",
      "9       1302.0    -4.0  -1898.0  -988.0  \n",
      "10     -3640.0  1069.0   3764.0  1165.0  \n",
      "11     -3086.0  -363.0   5158.0  1022.0  \n",
      "12      1448.0   695.0   7644.0   -63.0  \n",
      "13      1311.0   386.0  -3020.0  -798.0  \n",
      "14     -3215.0   343.0   -578.0  1166.0  \n",
      "15      1922.0   313.0   7544.0   534.0  \n",
      "16      -816.0   496.0   -120.0   523.0  \n",
      "17     -2317.0   513.0   4010.0  1720.0  \n",
      "18      2374.0   581.0   6634.0   515.0  \n",
      "19      -176.0   795.0   2958.0  1763.0  \n",
      "20     -1049.0   526.0   5158.0   413.0  \n",
      "21      2062.0  -245.0     86.0   997.0  \n",
      "22     -1491.0   843.0 -10528.0  -556.0  \n",
      "23     -4996.0  -629.0  10942.0   954.0  \n",
      "24      1974.0  -200.0  -7052.0  1177.0  \n",
      "25     -2623.0   837.0   7524.0   476.0  \n",
      "26     -4516.0  -519.0  12018.0   823.0  \n",
      "27      2567.0  -135.0   2064.0   942.0  \n",
      "28     -2512.0   876.0   6566.0    12.0  \n",
      "29     -4436.0  -532.0   6234.0  1014.0  \n",
      "...        ...     ...      ...     ...  \n",
      "720606     NaN     NaN      NaN     NaN  \n",
      "720607     NaN     NaN      NaN     NaN  \n",
      "720608     NaN     NaN      NaN     NaN  \n",
      "720609     NaN     NaN      NaN     NaN  \n",
      "720610     NaN     NaN      NaN     NaN  \n",
      "720611     NaN     NaN      NaN     NaN  \n",
      "720612     NaN     NaN      NaN     NaN  \n",
      "720613     NaN     NaN      NaN     NaN  \n",
      "720614     NaN     NaN      NaN     NaN  \n",
      "720615     NaN     NaN      NaN     NaN  \n",
      "720616     NaN     NaN      NaN     NaN  \n",
      "720617     NaN     NaN      NaN     NaN  \n",
      "720618     NaN     NaN      NaN     NaN  \n",
      "720619     NaN     NaN      NaN     NaN  \n",
      "720620     NaN     NaN      NaN     NaN  \n",
      "720621     NaN     NaN      NaN     NaN  \n",
      "720622     NaN     NaN      NaN     NaN  \n",
      "720623     NaN     NaN      NaN     NaN  \n",
      "720624     NaN     NaN      NaN     NaN  \n",
      "720625     NaN     NaN      NaN     NaN  \n",
      "720626     NaN     NaN      NaN     NaN  \n",
      "720627     NaN     NaN      NaN     NaN  \n",
      "720628     NaN     NaN      NaN     NaN  \n",
      "720629     NaN     NaN      NaN     NaN  \n",
      "720630     NaN     NaN      NaN     NaN  \n",
      "720631     NaN     NaN      NaN     NaN  \n",
      "720632     NaN     NaN      NaN     NaN  \n",
      "720633     NaN     NaN      NaN     NaN  \n",
      "720634     NaN     NaN      NaN     NaN  \n",
      "720635     NaN     NaN      NaN     NaN  \n",
      "\n",
      "[720636 rows x 22 columns]\n"
     ]
    },
    {
     "data": {
      "image/png": "[encoded data removed]",
      "text/plain": [
       "<Figure size 432x288 with 1 Axes>"
      ]
     },
     "metadata": {
      "needs_background": "light"
     },
     "output_type": "display_data"
    }
   ],
   "source": [
    "show_boxplots_row_lc(cols[all_accel], 'label_manual', 'all_labels', True, False)"
   ]
  },
  {
   "cell_type": "code",
   "execution_count": null,
   "metadata": {},
   "outputs": [],
   "source": []
  }
 ],
 "metadata": {
  "kernelspec": {
   "display_name": "Python 3",
   "language": "python",
   "name": "python3"
  },
  "language_info": {
   "codemirror_mode": {
    "name": "ipython",
    "version": 3
   },
   "file_extension": ".py",
   "mimetype": "text/x-python",
   "name": "python",
   "nbconvert_exporter": "python",
   "pygments_lexer": "ipython3",
   "version": "3.7.2"
  }
 },
 "nbformat": 4,
 "nbformat_minor": 2
}
