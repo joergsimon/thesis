{
 "cells": [
  {
   "cell_type": "markdown",
   "metadata": {},
   "source": [
    "# Prepare data for modelling: initial feature selection\n",
    "\n",
    "Most algorithms in scikit learn can not handle a 7kx70k matrix as data. Therefor we use simple filters as a first step to reduce the numbers of fitlers."
   ]
  },
  {
   "cell_type": "code",
   "execution_count": 1,
   "metadata": {},
   "outputs": [],
   "source": [
    "%load_ext autoreload\n",
    "%autoreload 2"
   ]
  },
  {
   "cell_type": "code",
   "execution_count": 2,
   "metadata": {},
   "outputs": [],
   "source": [
    "import gc\n",
    "import pickle\n",
    "import pathlib\n",
    "import tqdm\n",
    "import numpy as np\n",
    "import numpy.random\n",
    "import pandas as pd\n",
    "from sklearn.feature_selection import VarianceThreshold\n",
    "from sklearn.feature_selection import SelectKBest, SelectPercentile\n",
    "from sklearn.feature_selection import chi2, f_classif, mutual_info_classif\n",
    "from sklearn.preprocessing import RobustScaler\n",
    "from sklearn.model_selection import StratifiedShuffleSplit"
   ]
  },
  {
   "cell_type": "code",
   "execution_count": 3,
   "metadata": {},
   "outputs": [],
   "source": [
    "base_path = \"/home/jsimon/Documents/thesis/gesture-analysis/data/\"\n",
    "time_groups_path_corrected_pickl = base_path+\"transformed/time_added/all/time-and-groups-corrected-all.pkl\"\n",
    "stats_added_base_path = base_path+\"transformed/stats_added/all/\"\n",
    "stats_added_path_pickl = stats_added_base_path+\"raw_stats-added-all.pkl\"\n",
    "gyro_calibration_path = base_path+'../scripts/gestureanalysis/gyro_offset.txt'"
   ]
  },
  {
   "cell_type": "code",
   "execution_count": 4,
   "metadata": {},
   "outputs": [
    {
     "data": {
      "text/plain": [
       "'/home/jsimon/Documents/thesis/gesture-analysis/scripts'"
      ]
     },
     "execution_count": 4,
     "metadata": {},
     "output_type": "execute_result"
    }
   ],
   "source": [
    "import os\n",
    "os.getcwd()"
   ]
  },
  {
   "cell_type": "code",
   "execution_count": 5,
   "metadata": {},
   "outputs": [],
   "source": [
    "with open( time_groups_path_corrected_pickl, \"rb\" ) as users_pickle_file:\n",
    "    users = pickle.load(users_pickle_file)"
   ]
  },
  {
   "cell_type": "code",
   "execution_count": 5,
   "metadata": {},
   "outputs": [],
   "source": [
    "with open( stats_added_base_path+'train.pkl', \"rb\" ) as users_pickle_file:\n",
    "    traindata = pickle.load(users_pickle_file)"
   ]
  },
  {
   "cell_type": "code",
   "execution_count": 6,
   "metadata": {},
   "outputs": [],
   "source": [
    "with open( stats_added_base_path+'validation.pkl', \"rb\" ) as users_pickle_file:\n",
    "    validdata = pickle.load(users_pickle_file)"
   ]
  },
  {
   "cell_type": "code",
   "execution_count": 7,
   "metadata": {},
   "outputs": [],
   "source": [
    "train_data_df = traindata['train']['data']\n",
    "train_labels_df = traindata['train']['labels']"
   ]
  },
  {
   "cell_type": "markdown",
   "metadata": {},
   "source": [
    "## Prepare the Training set"
   ]
  },
  {
   "cell_type": "code",
   "execution_count": 8,
   "metadata": {},
   "outputs": [
    {
     "name": "stdout",
     "output_type": "stream",
     "text": [
      "<class 'pandas.core.frame.DataFrame'>\n",
      "RangeIndex: 77610 entries, 0 to 77609\n",
      "Columns: 7201 entries, 0_0_Thumb_base_mean to 7200_xcorr_8_10\n",
      "dtypes: float64(7201)\n",
      "memory usage: 4.2 GB\n"
     ]
    }
   ],
   "source": [
    "train_data_df.info()"
   ]
  },
  {
   "cell_type": "code",
   "execution_count": 9,
   "metadata": {},
   "outputs": [],
   "source": [
    "# we fill the NaN values:\n",
    "train_data_df.fillna(method='backfill', inplace=True)"
   ]
  },
  {
   "cell_type": "code",
   "execution_count": 10,
   "metadata": {},
   "outputs": [
    {
     "name": "stdout",
     "output_type": "stream",
     "text": [
      "['0_0_Thumb_base_mean', '0_1_Thumb_base_std', '0_2_Thumb_base_min']\n"
     ]
    }
   ],
   "source": [
    "headers = list(train_data_df.columns)\n",
    "print(headers[0:3])"
   ]
  },
  {
   "cell_type": "code",
   "execution_count": 11,
   "metadata": {},
   "outputs": [],
   "source": [
    "nh = len(headers)\n",
    "headers = np.array(headers).reshape(1,nh)"
   ]
  },
  {
   "cell_type": "code",
   "execution_count": 12,
   "metadata": {},
   "outputs": [
    {
     "name": "stdout",
     "output_type": "stream",
     "text": [
      "(77610, 7201)\n"
     ]
    }
   ],
   "source": [
    "X = train_data_df.values\n",
    "print(X.shape)"
   ]
  },
  {
   "cell_type": "code",
   "execution_count": 13,
   "metadata": {},
   "outputs": [
    {
     "data": {
      "text/plain": [
       "(0, 2)"
      ]
     },
     "execution_count": 13,
     "metadata": {},
     "output_type": "execute_result"
    }
   ],
   "source": [
    "np.argwhere(np.isnan(X)).shape"
   ]
  },
  {
   "cell_type": "code",
   "execution_count": 14,
   "metadata": {},
   "outputs": [],
   "source": [
    "def simple_label_vec(labels_df, gestures):\n",
    "    y = np.zeros((len(labels_df),))\n",
    "    for index, row in labels_df.iterrows():\n",
    "        if row.values.sum() == 0:\n",
    "            y[index] = 0\n",
    "        else:\n",
    "            idx = row.idxmax()\n",
    "            y[index] = gestures.index(idx) + 1\n",
    "    return y"
   ]
  },
  {
   "cell_type": "code",
   "execution_count": 15,
   "metadata": {},
   "outputs": [
    {
     "name": "stdout",
     "output_type": "stream",
     "text": [
      "['(1) One', '(2) Two', '(3) Three', '(4) Four', '(5) Five', 'Calling', 'Come here', 'Continue', 'Cutthroat', 'Down', 'Go away', 'Grasp 1', 'Grasp 2', 'Knocking', 'Money', 'Never mind', 'Point', 'Point to self', 'Push away', 'Scissor', 'Shoot', 'Shoulder pat', 'Swipe left', 'Swipe right', 'Swipe up', 'Talking', 'Thumbs down', 'Thumbs up', 'Turn', 'Up', 'Walking', 'Waving', 'Zoom']\n"
     ]
    }
   ],
   "source": [
    "gestures = list(train_labels_df.columns.copy())\n",
    "gestures.sort()\n",
    "print(gestures)"
   ]
  },
  {
   "cell_type": "code",
   "execution_count": 16,
   "metadata": {},
   "outputs": [],
   "source": [
    "y = simple_label_vec(train_labels_df, gestures)"
   ]
  },
  {
   "cell_type": "code",
   "execution_count": 17,
   "metadata": {},
   "outputs": [],
   "source": [
    "y = y.astype(np.int)"
   ]
  },
  {
   "cell_type": "code",
   "execution_count": 18,
   "metadata": {},
   "outputs": [
    {
     "data": {
      "text/plain": [
       "(77610,)"
      ]
     },
     "execution_count": 18,
     "metadata": {},
     "output_type": "execute_result"
    }
   ],
   "source": [
    "y.shape"
   ]
  },
  {
   "cell_type": "markdown",
   "metadata": {},
   "source": [
    "## Prepare the validation set"
   ]
  },
  {
   "cell_type": "code",
   "execution_count": 19,
   "metadata": {},
   "outputs": [],
   "source": [
    "valid_data_df = validdata['valid']['data']\n",
    "valid_labels_df = validdata['valid']['labels']"
   ]
  },
  {
   "cell_type": "code",
   "execution_count": 20,
   "metadata": {},
   "outputs": [],
   "source": [
    "valid_data_df.fillna(method='backfill', inplace=True)"
   ]
  },
  {
   "cell_type": "code",
   "execution_count": 21,
   "metadata": {},
   "outputs": [
    {
     "name": "stdout",
     "output_type": "stream",
     "text": [
      "(6186, 7201)\n"
     ]
    }
   ],
   "source": [
    "Xval = valid_data_df.values\n",
    "print(Xval.shape)"
   ]
  },
  {
   "cell_type": "code",
   "execution_count": 22,
   "metadata": {},
   "outputs": [],
   "source": [
    "yval = simple_label_vec(valid_labels_df, gestures)"
   ]
  },
  {
   "cell_type": "code",
   "execution_count": 23,
   "metadata": {},
   "outputs": [],
   "source": [
    "yval = yval.astype(np.int)"
   ]
  },
  {
   "cell_type": "code",
   "execution_count": 24,
   "metadata": {},
   "outputs": [
    {
     "data": {
      "text/plain": [
       "(6186,)"
      ]
     },
     "execution_count": 24,
     "metadata": {},
     "output_type": "execute_result"
    }
   ],
   "source": [
    "yval.shape"
   ]
  },
  {
   "cell_type": "markdown",
   "metadata": {},
   "source": [
    "## Scale the Data"
   ]
  },
  {
   "cell_type": "code",
   "execution_count": 25,
   "metadata": {},
   "outputs": [],
   "source": [
    "transformer = RobustScaler().fit(X)\n",
    "X = transformer.transform(X)\n",
    "Xval = transformer.transform(Xval)"
   ]
  },
  {
   "cell_type": "code",
   "execution_count": 29,
   "metadata": {},
   "outputs": [],
   "source": [
    "with open( stats_added_base_path+'scaler.pkl', \"wb\" ) as users_pickle_file:\n",
    "    pickle.dump(transformer, users_pickle_file)"
   ]
  },
  {
   "cell_type": "code",
   "execution_count": 30,
   "metadata": {},
   "outputs": [],
   "source": [
    "with open( stats_added_base_path+'scaler.pkl', \"rb\" ) as users_pickle_file:\n",
    "    transformer = pickle.load(users_pickle_file)"
   ]
  },
  {
   "cell_type": "markdown",
   "metadata": {},
   "source": [
    "## Clear Memory"
   ]
  },
  {
   "cell_type": "code",
   "execution_count": 26,
   "metadata": {},
   "outputs": [],
   "source": [
    "del [[train_data_df,train_labels_df,valid_data_df,valid_labels_df]]\n",
    "gc.collect()\n",
    "transformer = None\n",
    "traindata = None\n",
    "validdata = None\n",
    "train_data_df = None\n",
    "train_labels_df = None\n",
    "valid_data_df = None\n",
    "valid_labels_df = None\n",
    "gc.collect()\n",
    "train_data_df = pd.DataFrame()\n",
    "train_labels_df = pd.DataFrame()\n",
    "valid_data_df = pd.DataFrame()\n",
    "valid_labels_df = pd.DataFrame()"
   ]
  },
  {
   "cell_type": "markdown",
   "metadata": {},
   "source": [
    "## Initial Feature selection\n",
    "\n",
    "With 7201 features and > 70k instances our training set is to complex for most algorithms to fit well. Therfor I perform simple initial feature selection without a model to reduce the features who are f.e. only one value or clearly redundant and so on."
   ]
  },
  {
   "cell_type": "code",
   "execution_count": 27,
   "metadata": {},
   "outputs": [
    {
     "name": "stdout",
     "output_type": "stream",
     "text": [
      "(1, 7201)\n",
      "(1, 6368)\n"
     ]
    }
   ],
   "source": [
    "sel = VarianceThreshold().fit(X) # default: remove constants\n",
    "X = sel.transform(X)\n",
    "Xval = sel.transform(Xval)\n",
    "print(headers.shape)\n",
    "headers = sel.transform(headers)\n",
    "print(headers.shape)"
   ]
  },
  {
   "cell_type": "code",
   "execution_count": 28,
   "metadata": {},
   "outputs": [
    {
     "data": {
      "text/plain": [
       "(77610, 6368)"
      ]
     },
     "execution_count": 28,
     "metadata": {},
     "output_type": "execute_result"
    }
   ],
   "source": [
    "X.shape"
   ]
  },
  {
   "cell_type": "code",
   "execution_count": 29,
   "metadata": {},
   "outputs": [],
   "source": [
    "def subsample(X,y,times):\n",
    "    X_samples = X.copy()\n",
    "    y_samples = y.copy()\n",
    "    for i in range(times):\n",
    "        sampler = StratifiedShuffleSplit(n_splits=2, test_size=0.5)\n",
    "        sampler.get_n_splits(X_samples, y_samples)\n",
    "        train_index, test_index = list(sampler.split(X_samples, y_samples))[0]\n",
    "        X_samples = X_samples[train_index]\n",
    "        y_samples = y_samples[train_index]\n",
    "        gc.collect()\n",
    "    return X_samples, y_samples"
   ]
  },
  {
   "cell_type": "code",
   "execution_count": 30,
   "metadata": {},
   "outputs": [],
   "source": [
    "X_samples, y_samples = subsample(X,y,5)"
   ]
  },
  {
   "cell_type": "code",
   "execution_count": 31,
   "metadata": {},
   "outputs": [
    {
     "data": {
      "text/plain": [
       "(2425, 6368)"
      ]
     },
     "execution_count": 31,
     "metadata": {},
     "output_type": "execute_result"
    }
   ],
   "source": [
    "X_samples.shape"
   ]
  },
  {
   "cell_type": "code",
   "execution_count": 37,
   "metadata": {},
   "outputs": [
    {
     "data": {
      "text/plain": [
       "1150"
      ]
     },
     "execution_count": 37,
     "metadata": {},
     "output_type": "execute_result"
    }
   ],
   "source": [
    "sel = None\n",
    "sampler = None\n",
    "gc.collect()"
   ]
  },
  {
   "cell_type": "code",
   "execution_count": 33,
   "metadata": {},
   "outputs": [],
   "source": [
    "sel = SelectPercentile(f_classif, percentile=60).fit(X_samples, y_samples) # keep a bit more than half of the features\n",
    "candidate1 = sel.transform(X)\n",
    "candidateVal1 = sel.transform(Xval)\n",
    "candidateHeaders1 = sel.transform(headers)"
   ]
  },
  {
   "cell_type": "code",
   "execution_count": 34,
   "metadata": {},
   "outputs": [
    {
     "data": {
      "text/plain": [
       "(77610, 3820)"
      ]
     },
     "execution_count": 34,
     "metadata": {},
     "output_type": "execute_result"
    }
   ],
   "source": [
    "candidate1.shape"
   ]
  },
  {
   "cell_type": "code",
   "execution_count": 35,
   "metadata": {},
   "outputs": [],
   "source": [
    "sel = SelectPercentile(mutual_info_classif, percentile=60).fit(X_samples, y_samples) # keep a bit more than half of the features\n",
    "candidate2 = sel.transform(X)\n",
    "candidateVal2 = sel.transform(Xval)\n",
    "candidateHeaders2 = sel.transform(headers)"
   ]
  },
  {
   "cell_type": "code",
   "execution_count": 36,
   "metadata": {},
   "outputs": [
    {
     "data": {
      "text/plain": [
       "(77610, 3821)"
      ]
     },
     "execution_count": 36,
     "metadata": {},
     "output_type": "execute_result"
    }
   ],
   "source": [
    "candidate2.shape"
   ]
  },
  {
   "cell_type": "code",
   "execution_count": 38,
   "metadata": {},
   "outputs": [],
   "source": [
    "with open( stats_added_base_path+'train-data-scaled-noconst.pkl', \"wb\" ) as users_pickle_file:\n",
    "    pickle.dump({\n",
    "        'X': X, 'y': y, 'Xval' : Xval, 'yval': yval, \n",
    "        'gestures' : gestures, 'headers': headers\n",
    "    }, users_pickle_file)"
   ]
  },
  {
   "cell_type": "code",
   "execution_count": 39,
   "metadata": {},
   "outputs": [],
   "source": [
    "with open( stats_added_base_path+'train-data-scaled-f-ANOVA60.pkl', \"wb\" ) as users_pickle_file:\n",
    "    pickle.dump({\n",
    "        'X': candidate1, 'y': y, 'Xval' : candidateVal1, 'yval': yval, \n",
    "        'gestures' : gestures, 'headers': candidateHeaders1\n",
    "    }, users_pickle_file)"
   ]
  },
  {
   "cell_type": "code",
   "execution_count": 40,
   "metadata": {},
   "outputs": [],
   "source": [
    "with open( stats_added_base_path+'train-data-scaled-mutual-inf60.pkl', \"wb\" ) as users_pickle_file:\n",
    "    pickle.dump({\n",
    "        'X': candidate2, 'y': y, 'Xval' : candidateVal2, 'yval': yval, \n",
    "        'gestures' : gestures, 'headers': candidateHeaders2\n",
    "    }, users_pickle_file)"
   ]
  },
  {
   "cell_type": "code",
   "execution_count": null,
   "metadata": {},
   "outputs": [],
   "source": []
  }
 ],
 "metadata": {
  "kernelspec": {
   "display_name": "Python 3",
   "language": "python",
   "name": "python3"
  },
  "language_info": {
   "codemirror_mode": {
    "name": "ipython",
    "version": 3
   },
   "file_extension": ".py",
   "mimetype": "text/x-python",
   "name": "python",
   "nbconvert_exporter": "python",
   "pygments_lexer": "ipython3",
   "version": "3.7.2"
  }
 },
 "nbformat": 4,
 "nbformat_minor": 2
}
