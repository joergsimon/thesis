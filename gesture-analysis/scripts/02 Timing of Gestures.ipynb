{
 "cells": [
  {
   "cell_type": "markdown",
   "metadata": {},
   "source": [
    "# Timing of Gestures\n",
    "\n",
    "This notebook explores the timing of Gestures for the different labeling types. Whilest the timing of the automatic label type is relatively fixed, the other three types have more distinct timings."
   ]
  },
  {
   "cell_type": "code",
   "execution_count": 1,
   "metadata": {},
   "outputs": [],
   "source": [
    "%load_ext autoreload\n",
    "%autoreload 2"
   ]
  },
  {
   "cell_type": "code",
   "execution_count": 2,
   "metadata": {},
   "outputs": [],
   "source": [
    "# imports\n",
    "import pickle\n",
    "import scipy.stats\n",
    "import pandas as pd\n",
    "import numpy as np\n",
    "import matplotlib.pyplot as plt\n",
    "import gestureanalysis.specific_utils as sutils\n",
    "import gestureanalysis.generate_historgrams as ghi\n",
    "import gestureanalysis.image_utils as iutils\n",
    "from gestureanalysis.constants import Constants\n",
    "import matplotlib.pyplot as plt\n",
    "import matplotlib.image as mpimg\n",
    "import seaborn as sns"
   ]
  },
  {
   "cell_type": "code",
   "execution_count": 3,
   "metadata": {},
   "outputs": [],
   "source": [
    "base_path = \"/home/jsimon/Documents/thesis/gesture-analysis/data/\"\n",
    "base_path_raw = base_path+\"raw/all\"\n",
    "time_groups_path_corrected_pickl = base_path+\"transformed/time_added/all/time-and-groups-corrected-all.pkl\""
   ]
  },
  {
   "cell_type": "code",
   "execution_count": 4,
   "metadata": {},
   "outputs": [
    {
     "data": {
      "text/plain": [
       "'/home/jsimon/Documents/thesis/gesture-analysis/scripts'"
      ]
     },
     "execution_count": 4,
     "metadata": {},
     "output_type": "execute_result"
    }
   ],
   "source": [
    "# check working directory and adopt if needed\n",
    "import os\n",
    "os.getcwd()"
   ]
  },
  {
   "cell_type": "code",
   "execution_count": 5,
   "metadata": {},
   "outputs": [],
   "source": [
    "# in case you need to reload, and know it exists:\n",
    "with open( time_groups_path_corrected_pickl, \"rb\" ) as users_pickle_file:\n",
    "    users = pickle.load(users_pickle_file)"
   ]
  },
  {
   "cell_type": "code",
   "execution_count": 6,
   "metadata": {},
   "outputs": [
    {
     "name": "stdout",
     "output_type": "stream",
     "text": [
      "dict_keys(['AB73', 'AE30', 'AF82', 'AL29', 'AW18', 'CB23', 'CB24', 'CF58', 'DG12', 'DH42', 'DL24', 'JL61', 'JQ28', 'JS52', 'MF20', 'MS55', 'PC29', 'PM32', 'PS42', 'RR45', 'RW32', 'SF1', 'YW13'])\n",
      "num users:  23\n"
     ]
    }
   ],
   "source": [
    "# correct corrupted labels\n",
    "print(users.keys())\n",
    "print('num users: ', len(users.keys()))"
   ]
  },
  {
   "cell_type": "markdown",
   "metadata": {},
   "source": [
    "After preprocessing (see Notebook \"Data & Preprocessing\") we have the timing information in form of a List of `LabelGroup`s saved for each user in the key `lbl_groups_fl`. Each `LabelGroup` object is a group of automatic, manual, dynamic and static label annotations (in form of start and end time) together with the concrete gesture the annotation is annotating. Static is optional, there exist `LabelGroup` object without a static label. The class `LabelGroup` is defined in the module `specific_utils` I usually import into the `sutils` namespace. Several helper functions to filter that list for gestures, get the durations and similar exist in that module.\n",
    "\n",
    "We define a set of functions who help displaying statistical data of lists of `LabelGroup`s."
   ]
  },
  {
   "cell_type": "code",
   "execution_count": 7,
   "metadata": {},
   "outputs": [],
   "source": [
    "def describe_deltas(deltas):\n",
    "    return scipy.stats.describe(deltas)\n",
    "\n",
    "def get_deltas(username, userdata, timerange_key):\n",
    "    return get_deltas_for(username, userdata, None, timerange_key)\n",
    "\n",
    "def get_deltas_for(username, userdata, gesture, timerange_key):\n",
    "    lgs = userdata['lbl_groups_fl']\n",
    "    if gesture is not None:\n",
    "        lgs = filter(lambda x: x.label_name == gesture, lgs)\n",
    "        lgs = list(lgs)\n",
    "        #print(f'got {len(lgs)} records for {gesture}')\n",
    "    deltas = sutils.get_timedeltas(lgs, timerange_key)\n",
    "    deltas = map(lambda x: x.total_seconds(), deltas)\n",
    "    deltas = list(deltas)\n",
    "    return deltas\n",
    "\n",
    "def describe_timing(username, userdata, timerange_key):\n",
    "    deltas = get_deltas(username, userdata, timerange_key)\n",
    "    return describe_deltas(deltas)\n",
    "    \n",
    "def describe_timing_of(username, userdata, gesture, timerange_key):\n",
    "    deltas = get_deltas_for(username, userdata, gesture, timerange_key)\n",
    "    return describe_deltas(deltas)"
   ]
  },
  {
   "cell_type": "code",
   "execution_count": 8,
   "metadata": {},
   "outputs": [],
   "source": [
    "def delta_description_to_df(delta_description, user, df):\n",
    "    delta_description = list(delta_description)\n",
    "    delta_description = delta_description[:1] + [delta_description[1][0], delta_description[1][1]] + delta_description[2:]\n",
    "    dd_t = np.array(delta_description)[None,:]\n",
    "    d = pd.DataFrame(dd_t, columns=[\"# Annotations\", \"min\", \"max\", \"mean\", \"variance\", \"skewness\", \"kurtosis\"])\n",
    "    d['user'] = user\n",
    "    if df is not None:\n",
    "        df = pd.concat([df, d], ignore_index=True)\n",
    "    else:\n",
    "        df = d\n",
    "    return df"
   ]
  },
  {
   "cell_type": "code",
   "execution_count": 9,
   "metadata": {},
   "outputs": [],
   "source": [
    "def overal_timings_for(label_type):\n",
    "    total = []\n",
    "    df = None\n",
    "    for key, data in users.items():\n",
    "        if not 'glove_merged' in data:\n",
    "            continue\n",
    "        total = total + get_deltas(key, data, 'manual')\n",
    "        df = delta_description_to_df(describe_timing(key, data, 'manual'), key, df)\n",
    "    df = delta_description_to_df(describe_deltas(total), 'all_users', df)\n",
    "    return df"
   ]
  },
  {
   "cell_type": "markdown",
   "metadata": {},
   "source": [
    "## Table with overall timings of labels of the manual label type"
   ]
  },
  {
   "cell_type": "code",
   "execution_count": 10,
   "metadata": {},
   "outputs": [
    {
     "data": {
      "text/html": [
       "<div>\n",
       "<style scoped>\n",
       "    .dataframe tbody tr th:only-of-type {\n",
       "        vertical-align: middle;\n",
       "    }\n",
       "\n",
       "    .dataframe tbody tr th {\n",
       "        vertical-align: top;\n",
       "    }\n",
       "\n",
       "    .dataframe thead th {\n",
       "        text-align: right;\n",
       "    }\n",
       "</style>\n",
       "<table border=\"1\" class=\"dataframe\">\n",
       "  <thead>\n",
       "    <tr style=\"text-align: right;\">\n",
       "      <th></th>\n",
       "      <th># Annotations</th>\n",
       "      <th>min</th>\n",
       "      <th>max</th>\n",
       "      <th>mean</th>\n",
       "      <th>variance</th>\n",
       "      <th>skewness</th>\n",
       "      <th>kurtosis</th>\n",
       "      <th>user</th>\n",
       "    </tr>\n",
       "  </thead>\n",
       "  <tbody>\n",
       "    <tr>\n",
       "      <th>0</th>\n",
       "      <td>307.0</td>\n",
       "      <td>0.492</td>\n",
       "      <td>2.016</td>\n",
       "      <td>1.090124</td>\n",
       "      <td>0.081020</td>\n",
       "      <td>0.977200</td>\n",
       "      <td>0.959664</td>\n",
       "      <td>AB73</td>\n",
       "    </tr>\n",
       "    <tr>\n",
       "      <th>1</th>\n",
       "      <td>153.0</td>\n",
       "      <td>0.564</td>\n",
       "      <td>2.160</td>\n",
       "      <td>1.071294</td>\n",
       "      <td>0.074505</td>\n",
       "      <td>0.933502</td>\n",
       "      <td>1.332054</td>\n",
       "      <td>AF82</td>\n",
       "    </tr>\n",
       "    <tr>\n",
       "      <th>2</th>\n",
       "      <td>308.0</td>\n",
       "      <td>0.276</td>\n",
       "      <td>2.088</td>\n",
       "      <td>1.080935</td>\n",
       "      <td>0.083344</td>\n",
       "      <td>0.464313</td>\n",
       "      <td>0.639929</td>\n",
       "      <td>AL29</td>\n",
       "    </tr>\n",
       "    <tr>\n",
       "      <th>3</th>\n",
       "      <td>152.0</td>\n",
       "      <td>0.612</td>\n",
       "      <td>2.244</td>\n",
       "      <td>1.237974</td>\n",
       "      <td>0.116471</td>\n",
       "      <td>0.607737</td>\n",
       "      <td>-0.313408</td>\n",
       "      <td>AW18</td>\n",
       "    </tr>\n",
       "    <tr>\n",
       "      <th>4</th>\n",
       "      <td>152.0</td>\n",
       "      <td>0.552</td>\n",
       "      <td>2.496</td>\n",
       "      <td>1.417184</td>\n",
       "      <td>0.101046</td>\n",
       "      <td>0.268666</td>\n",
       "      <td>0.712247</td>\n",
       "      <td>CB23</td>\n",
       "    </tr>\n",
       "    <tr>\n",
       "      <th>5</th>\n",
       "      <td>154.0</td>\n",
       "      <td>0.480</td>\n",
       "      <td>1.872</td>\n",
       "      <td>1.031922</td>\n",
       "      <td>0.067122</td>\n",
       "      <td>0.731036</td>\n",
       "      <td>0.679540</td>\n",
       "      <td>CB24</td>\n",
       "    </tr>\n",
       "    <tr>\n",
       "      <th>6</th>\n",
       "      <td>158.0</td>\n",
       "      <td>0.504</td>\n",
       "      <td>1.932</td>\n",
       "      <td>1.100127</td>\n",
       "      <td>0.104537</td>\n",
       "      <td>0.650358</td>\n",
       "      <td>-0.092005</td>\n",
       "      <td>CF58</td>\n",
       "    </tr>\n",
       "    <tr>\n",
       "      <th>7</th>\n",
       "      <td>154.0</td>\n",
       "      <td>0.180</td>\n",
       "      <td>2.028</td>\n",
       "      <td>0.932416</td>\n",
       "      <td>0.123974</td>\n",
       "      <td>0.856840</td>\n",
       "      <td>0.754349</td>\n",
       "      <td>DG12</td>\n",
       "    </tr>\n",
       "    <tr>\n",
       "      <th>8</th>\n",
       "      <td>153.0</td>\n",
       "      <td>0.288</td>\n",
       "      <td>2.460</td>\n",
       "      <td>1.007216</td>\n",
       "      <td>0.165798</td>\n",
       "      <td>1.022538</td>\n",
       "      <td>1.678622</td>\n",
       "      <td>DH42</td>\n",
       "    </tr>\n",
       "    <tr>\n",
       "      <th>9</th>\n",
       "      <td>301.0</td>\n",
       "      <td>0.204</td>\n",
       "      <td>2.256</td>\n",
       "      <td>1.289741</td>\n",
       "      <td>0.212006</td>\n",
       "      <td>0.003985</td>\n",
       "      <td>-0.952714</td>\n",
       "      <td>DL24</td>\n",
       "    </tr>\n",
       "    <tr>\n",
       "      <th>10</th>\n",
       "      <td>157.0</td>\n",
       "      <td>0.588</td>\n",
       "      <td>2.340</td>\n",
       "      <td>1.048968</td>\n",
       "      <td>0.072654</td>\n",
       "      <td>1.142722</td>\n",
       "      <td>2.578293</td>\n",
       "      <td>JL61</td>\n",
       "    </tr>\n",
       "    <tr>\n",
       "      <th>11</th>\n",
       "      <td>294.0</td>\n",
       "      <td>0.276</td>\n",
       "      <td>2.448</td>\n",
       "      <td>1.277224</td>\n",
       "      <td>0.192333</td>\n",
       "      <td>0.248830</td>\n",
       "      <td>-0.284948</td>\n",
       "      <td>JQ28</td>\n",
       "    </tr>\n",
       "    <tr>\n",
       "      <th>12</th>\n",
       "      <td>293.0</td>\n",
       "      <td>0.204</td>\n",
       "      <td>2.400</td>\n",
       "      <td>1.284491</td>\n",
       "      <td>0.130125</td>\n",
       "      <td>0.229425</td>\n",
       "      <td>0.123738</td>\n",
       "      <td>JS52</td>\n",
       "    </tr>\n",
       "    <tr>\n",
       "      <th>13</th>\n",
       "      <td>153.0</td>\n",
       "      <td>0.828</td>\n",
       "      <td>2.424</td>\n",
       "      <td>1.571843</td>\n",
       "      <td>0.142954</td>\n",
       "      <td>0.101736</td>\n",
       "      <td>-0.769278</td>\n",
       "      <td>MF20</td>\n",
       "    </tr>\n",
       "    <tr>\n",
       "      <th>14</th>\n",
       "      <td>149.0</td>\n",
       "      <td>0.492</td>\n",
       "      <td>1.788</td>\n",
       "      <td>0.938819</td>\n",
       "      <td>0.056836</td>\n",
       "      <td>0.785940</td>\n",
       "      <td>0.270476</td>\n",
       "      <td>MS55</td>\n",
       "    </tr>\n",
       "    <tr>\n",
       "      <th>15</th>\n",
       "      <td>156.0</td>\n",
       "      <td>0.324</td>\n",
       "      <td>2.616</td>\n",
       "      <td>1.456769</td>\n",
       "      <td>0.155767</td>\n",
       "      <td>0.211470</td>\n",
       "      <td>0.151588</td>\n",
       "      <td>PC29</td>\n",
       "    </tr>\n",
       "    <tr>\n",
       "      <th>16</th>\n",
       "      <td>308.0</td>\n",
       "      <td>0.396</td>\n",
       "      <td>1.608</td>\n",
       "      <td>1.048714</td>\n",
       "      <td>0.046416</td>\n",
       "      <td>0.097028</td>\n",
       "      <td>0.125705</td>\n",
       "      <td>PM32</td>\n",
       "    </tr>\n",
       "    <tr>\n",
       "      <th>17</th>\n",
       "      <td>152.0</td>\n",
       "      <td>0.372</td>\n",
       "      <td>2.436</td>\n",
       "      <td>0.907658</td>\n",
       "      <td>0.128420</td>\n",
       "      <td>1.903573</td>\n",
       "      <td>4.749115</td>\n",
       "      <td>PS42</td>\n",
       "    </tr>\n",
       "    <tr>\n",
       "      <th>18</th>\n",
       "      <td>153.0</td>\n",
       "      <td>0.276</td>\n",
       "      <td>2.148</td>\n",
       "      <td>0.988941</td>\n",
       "      <td>0.124843</td>\n",
       "      <td>0.499671</td>\n",
       "      <td>0.200059</td>\n",
       "      <td>RR45</td>\n",
       "    </tr>\n",
       "    <tr>\n",
       "      <th>19</th>\n",
       "      <td>146.0</td>\n",
       "      <td>0.228</td>\n",
       "      <td>2.220</td>\n",
       "      <td>1.184466</td>\n",
       "      <td>0.197616</td>\n",
       "      <td>0.464832</td>\n",
       "      <td>-0.507275</td>\n",
       "      <td>RW32</td>\n",
       "    </tr>\n",
       "    <tr>\n",
       "      <th>20</th>\n",
       "      <td>154.0</td>\n",
       "      <td>0.684</td>\n",
       "      <td>2.184</td>\n",
       "      <td>1.300597</td>\n",
       "      <td>0.094621</td>\n",
       "      <td>0.272054</td>\n",
       "      <td>-0.308279</td>\n",
       "      <td>SF1</td>\n",
       "    </tr>\n",
       "    <tr>\n",
       "      <th>21</th>\n",
       "      <td>307.0</td>\n",
       "      <td>0.300</td>\n",
       "      <td>2.148</td>\n",
       "      <td>0.973134</td>\n",
       "      <td>0.081594</td>\n",
       "      <td>1.000358</td>\n",
       "      <td>2.087748</td>\n",
       "      <td>YW13</td>\n",
       "    </tr>\n",
       "    <tr>\n",
       "      <th>22</th>\n",
       "      <td>4414.0</td>\n",
       "      <td>0.180</td>\n",
       "      <td>2.616</td>\n",
       "      <td>1.146843</td>\n",
       "      <td>0.143565</td>\n",
       "      <td>0.645843</td>\n",
       "      <td>0.276898</td>\n",
       "      <td>all_users</td>\n",
       "    </tr>\n",
       "  </tbody>\n",
       "</table>\n",
       "</div>"
      ],
      "text/plain": [
       "    # Annotations    min    max      mean  variance  skewness  kurtosis  \\\n",
       "0           307.0  0.492  2.016  1.090124  0.081020  0.977200  0.959664   \n",
       "1           153.0  0.564  2.160  1.071294  0.074505  0.933502  1.332054   \n",
       "2           308.0  0.276  2.088  1.080935  0.083344  0.464313  0.639929   \n",
       "3           152.0  0.612  2.244  1.237974  0.116471  0.607737 -0.313408   \n",
       "4           152.0  0.552  2.496  1.417184  0.101046  0.268666  0.712247   \n",
       "5           154.0  0.480  1.872  1.031922  0.067122  0.731036  0.679540   \n",
       "6           158.0  0.504  1.932  1.100127  0.104537  0.650358 -0.092005   \n",
       "7           154.0  0.180  2.028  0.932416  0.123974  0.856840  0.754349   \n",
       "8           153.0  0.288  2.460  1.007216  0.165798  1.022538  1.678622   \n",
       "9           301.0  0.204  2.256  1.289741  0.212006  0.003985 -0.952714   \n",
       "10          157.0  0.588  2.340  1.048968  0.072654  1.142722  2.578293   \n",
       "11          294.0  0.276  2.448  1.277224  0.192333  0.248830 -0.284948   \n",
       "12          293.0  0.204  2.400  1.284491  0.130125  0.229425  0.123738   \n",
       "13          153.0  0.828  2.424  1.571843  0.142954  0.101736 -0.769278   \n",
       "14          149.0  0.492  1.788  0.938819  0.056836  0.785940  0.270476   \n",
       "15          156.0  0.324  2.616  1.456769  0.155767  0.211470  0.151588   \n",
       "16          308.0  0.396  1.608  1.048714  0.046416  0.097028  0.125705   \n",
       "17          152.0  0.372  2.436  0.907658  0.128420  1.903573  4.749115   \n",
       "18          153.0  0.276  2.148  0.988941  0.124843  0.499671  0.200059   \n",
       "19          146.0  0.228  2.220  1.184466  0.197616  0.464832 -0.507275   \n",
       "20          154.0  0.684  2.184  1.300597  0.094621  0.272054 -0.308279   \n",
       "21          307.0  0.300  2.148  0.973134  0.081594  1.000358  2.087748   \n",
       "22         4414.0  0.180  2.616  1.146843  0.143565  0.645843  0.276898   \n",
       "\n",
       "         user  \n",
       "0        AB73  \n",
       "1        AF82  \n",
       "2        AL29  \n",
       "3        AW18  \n",
       "4        CB23  \n",
       "5        CB24  \n",
       "6        CF58  \n",
       "7        DG12  \n",
       "8        DH42  \n",
       "9        DL24  \n",
       "10       JL61  \n",
       "11       JQ28  \n",
       "12       JS52  \n",
       "13       MF20  \n",
       "14       MS55  \n",
       "15       PC29  \n",
       "16       PM32  \n",
       "17       PS42  \n",
       "18       RR45  \n",
       "19       RW32  \n",
       "20        SF1  \n",
       "21       YW13  \n",
       "22  all_users  "
      ]
     },
     "execution_count": 10,
     "metadata": {},
     "output_type": "execute_result"
    }
   ],
   "source": [
    "df = overal_timings_for('manual')\n",
    "#df.to_latex(index=False)\n",
    "df"
   ]
  },
  {
   "cell_type": "markdown",
   "metadata": {},
   "source": [
    "## Table with overall timings of lables of the dynamic label type"
   ]
  },
  {
   "cell_type": "code",
   "execution_count": 11,
   "metadata": {},
   "outputs": [
    {
     "data": {
      "text/html": [
       "<div>\n",
       "<style scoped>\n",
       "    .dataframe tbody tr th:only-of-type {\n",
       "        vertical-align: middle;\n",
       "    }\n",
       "\n",
       "    .dataframe tbody tr th {\n",
       "        vertical-align: top;\n",
       "    }\n",
       "\n",
       "    .dataframe thead th {\n",
       "        text-align: right;\n",
       "    }\n",
       "</style>\n",
       "<table border=\"1\" class=\"dataframe\">\n",
       "  <thead>\n",
       "    <tr style=\"text-align: right;\">\n",
       "      <th></th>\n",
       "      <th># Annotations</th>\n",
       "      <th>min</th>\n",
       "      <th>max</th>\n",
       "      <th>mean</th>\n",
       "      <th>variance</th>\n",
       "      <th>skewness</th>\n",
       "      <th>kurtosis</th>\n",
       "      <th>user</th>\n",
       "    </tr>\n",
       "  </thead>\n",
       "  <tbody>\n",
       "    <tr>\n",
       "      <th>0</th>\n",
       "      <td>307.0</td>\n",
       "      <td>0.492</td>\n",
       "      <td>2.016</td>\n",
       "      <td>1.090124</td>\n",
       "      <td>0.081020</td>\n",
       "      <td>0.977200</td>\n",
       "      <td>0.959664</td>\n",
       "      <td>AB73</td>\n",
       "    </tr>\n",
       "    <tr>\n",
       "      <th>1</th>\n",
       "      <td>153.0</td>\n",
       "      <td>0.564</td>\n",
       "      <td>2.160</td>\n",
       "      <td>1.071294</td>\n",
       "      <td>0.074505</td>\n",
       "      <td>0.933502</td>\n",
       "      <td>1.332054</td>\n",
       "      <td>AF82</td>\n",
       "    </tr>\n",
       "    <tr>\n",
       "      <th>2</th>\n",
       "      <td>308.0</td>\n",
       "      <td>0.276</td>\n",
       "      <td>2.088</td>\n",
       "      <td>1.080935</td>\n",
       "      <td>0.083344</td>\n",
       "      <td>0.464313</td>\n",
       "      <td>0.639929</td>\n",
       "      <td>AL29</td>\n",
       "    </tr>\n",
       "    <tr>\n",
       "      <th>3</th>\n",
       "      <td>152.0</td>\n",
       "      <td>0.612</td>\n",
       "      <td>2.244</td>\n",
       "      <td>1.237974</td>\n",
       "      <td>0.116471</td>\n",
       "      <td>0.607737</td>\n",
       "      <td>-0.313408</td>\n",
       "      <td>AW18</td>\n",
       "    </tr>\n",
       "    <tr>\n",
       "      <th>4</th>\n",
       "      <td>152.0</td>\n",
       "      <td>0.552</td>\n",
       "      <td>2.496</td>\n",
       "      <td>1.417184</td>\n",
       "      <td>0.101046</td>\n",
       "      <td>0.268666</td>\n",
       "      <td>0.712247</td>\n",
       "      <td>CB23</td>\n",
       "    </tr>\n",
       "    <tr>\n",
       "      <th>5</th>\n",
       "      <td>154.0</td>\n",
       "      <td>0.480</td>\n",
       "      <td>1.872</td>\n",
       "      <td>1.031922</td>\n",
       "      <td>0.067122</td>\n",
       "      <td>0.731036</td>\n",
       "      <td>0.679540</td>\n",
       "      <td>CB24</td>\n",
       "    </tr>\n",
       "    <tr>\n",
       "      <th>6</th>\n",
       "      <td>158.0</td>\n",
       "      <td>0.504</td>\n",
       "      <td>1.932</td>\n",
       "      <td>1.100127</td>\n",
       "      <td>0.104537</td>\n",
       "      <td>0.650358</td>\n",
       "      <td>-0.092005</td>\n",
       "      <td>CF58</td>\n",
       "    </tr>\n",
       "    <tr>\n",
       "      <th>7</th>\n",
       "      <td>154.0</td>\n",
       "      <td>0.180</td>\n",
       "      <td>2.028</td>\n",
       "      <td>0.932416</td>\n",
       "      <td>0.123974</td>\n",
       "      <td>0.856840</td>\n",
       "      <td>0.754349</td>\n",
       "      <td>DG12</td>\n",
       "    </tr>\n",
       "    <tr>\n",
       "      <th>8</th>\n",
       "      <td>153.0</td>\n",
       "      <td>0.288</td>\n",
       "      <td>2.460</td>\n",
       "      <td>1.007216</td>\n",
       "      <td>0.165798</td>\n",
       "      <td>1.022538</td>\n",
       "      <td>1.678622</td>\n",
       "      <td>DH42</td>\n",
       "    </tr>\n",
       "    <tr>\n",
       "      <th>9</th>\n",
       "      <td>301.0</td>\n",
       "      <td>0.204</td>\n",
       "      <td>2.256</td>\n",
       "      <td>1.289741</td>\n",
       "      <td>0.212006</td>\n",
       "      <td>0.003985</td>\n",
       "      <td>-0.952714</td>\n",
       "      <td>DL24</td>\n",
       "    </tr>\n",
       "    <tr>\n",
       "      <th>10</th>\n",
       "      <td>157.0</td>\n",
       "      <td>0.588</td>\n",
       "      <td>2.340</td>\n",
       "      <td>1.048968</td>\n",
       "      <td>0.072654</td>\n",
       "      <td>1.142722</td>\n",
       "      <td>2.578293</td>\n",
       "      <td>JL61</td>\n",
       "    </tr>\n",
       "    <tr>\n",
       "      <th>11</th>\n",
       "      <td>294.0</td>\n",
       "      <td>0.276</td>\n",
       "      <td>2.448</td>\n",
       "      <td>1.277224</td>\n",
       "      <td>0.192333</td>\n",
       "      <td>0.248830</td>\n",
       "      <td>-0.284948</td>\n",
       "      <td>JQ28</td>\n",
       "    </tr>\n",
       "    <tr>\n",
       "      <th>12</th>\n",
       "      <td>293.0</td>\n",
       "      <td>0.204</td>\n",
       "      <td>2.400</td>\n",
       "      <td>1.284491</td>\n",
       "      <td>0.130125</td>\n",
       "      <td>0.229425</td>\n",
       "      <td>0.123738</td>\n",
       "      <td>JS52</td>\n",
       "    </tr>\n",
       "    <tr>\n",
       "      <th>13</th>\n",
       "      <td>153.0</td>\n",
       "      <td>0.828</td>\n",
       "      <td>2.424</td>\n",
       "      <td>1.571843</td>\n",
       "      <td>0.142954</td>\n",
       "      <td>0.101736</td>\n",
       "      <td>-0.769278</td>\n",
       "      <td>MF20</td>\n",
       "    </tr>\n",
       "    <tr>\n",
       "      <th>14</th>\n",
       "      <td>149.0</td>\n",
       "      <td>0.492</td>\n",
       "      <td>1.788</td>\n",
       "      <td>0.938819</td>\n",
       "      <td>0.056836</td>\n",
       "      <td>0.785940</td>\n",
       "      <td>0.270476</td>\n",
       "      <td>MS55</td>\n",
       "    </tr>\n",
       "    <tr>\n",
       "      <th>15</th>\n",
       "      <td>156.0</td>\n",
       "      <td>0.324</td>\n",
       "      <td>2.616</td>\n",
       "      <td>1.456769</td>\n",
       "      <td>0.155767</td>\n",
       "      <td>0.211470</td>\n",
       "      <td>0.151588</td>\n",
       "      <td>PC29</td>\n",
       "    </tr>\n",
       "    <tr>\n",
       "      <th>16</th>\n",
       "      <td>308.0</td>\n",
       "      <td>0.396</td>\n",
       "      <td>1.608</td>\n",
       "      <td>1.048714</td>\n",
       "      <td>0.046416</td>\n",
       "      <td>0.097028</td>\n",
       "      <td>0.125705</td>\n",
       "      <td>PM32</td>\n",
       "    </tr>\n",
       "    <tr>\n",
       "      <th>17</th>\n",
       "      <td>152.0</td>\n",
       "      <td>0.372</td>\n",
       "      <td>2.436</td>\n",
       "      <td>0.907658</td>\n",
       "      <td>0.128420</td>\n",
       "      <td>1.903573</td>\n",
       "      <td>4.749115</td>\n",
       "      <td>PS42</td>\n",
       "    </tr>\n",
       "    <tr>\n",
       "      <th>18</th>\n",
       "      <td>153.0</td>\n",
       "      <td>0.276</td>\n",
       "      <td>2.148</td>\n",
       "      <td>0.988941</td>\n",
       "      <td>0.124843</td>\n",
       "      <td>0.499671</td>\n",
       "      <td>0.200059</td>\n",
       "      <td>RR45</td>\n",
       "    </tr>\n",
       "    <tr>\n",
       "      <th>19</th>\n",
       "      <td>146.0</td>\n",
       "      <td>0.228</td>\n",
       "      <td>2.220</td>\n",
       "      <td>1.184466</td>\n",
       "      <td>0.197616</td>\n",
       "      <td>0.464832</td>\n",
       "      <td>-0.507275</td>\n",
       "      <td>RW32</td>\n",
       "    </tr>\n",
       "    <tr>\n",
       "      <th>20</th>\n",
       "      <td>154.0</td>\n",
       "      <td>0.684</td>\n",
       "      <td>2.184</td>\n",
       "      <td>1.300597</td>\n",
       "      <td>0.094621</td>\n",
       "      <td>0.272054</td>\n",
       "      <td>-0.308279</td>\n",
       "      <td>SF1</td>\n",
       "    </tr>\n",
       "    <tr>\n",
       "      <th>21</th>\n",
       "      <td>307.0</td>\n",
       "      <td>0.300</td>\n",
       "      <td>2.148</td>\n",
       "      <td>0.973134</td>\n",
       "      <td>0.081594</td>\n",
       "      <td>1.000358</td>\n",
       "      <td>2.087748</td>\n",
       "      <td>YW13</td>\n",
       "    </tr>\n",
       "    <tr>\n",
       "      <th>22</th>\n",
       "      <td>4414.0</td>\n",
       "      <td>0.180</td>\n",
       "      <td>2.616</td>\n",
       "      <td>1.146843</td>\n",
       "      <td>0.143565</td>\n",
       "      <td>0.645843</td>\n",
       "      <td>0.276898</td>\n",
       "      <td>all_users</td>\n",
       "    </tr>\n",
       "  </tbody>\n",
       "</table>\n",
       "</div>"
      ],
      "text/plain": [
       "    # Annotations    min    max      mean  variance  skewness  kurtosis  \\\n",
       "0           307.0  0.492  2.016  1.090124  0.081020  0.977200  0.959664   \n",
       "1           153.0  0.564  2.160  1.071294  0.074505  0.933502  1.332054   \n",
       "2           308.0  0.276  2.088  1.080935  0.083344  0.464313  0.639929   \n",
       "3           152.0  0.612  2.244  1.237974  0.116471  0.607737 -0.313408   \n",
       "4           152.0  0.552  2.496  1.417184  0.101046  0.268666  0.712247   \n",
       "5           154.0  0.480  1.872  1.031922  0.067122  0.731036  0.679540   \n",
       "6           158.0  0.504  1.932  1.100127  0.104537  0.650358 -0.092005   \n",
       "7           154.0  0.180  2.028  0.932416  0.123974  0.856840  0.754349   \n",
       "8           153.0  0.288  2.460  1.007216  0.165798  1.022538  1.678622   \n",
       "9           301.0  0.204  2.256  1.289741  0.212006  0.003985 -0.952714   \n",
       "10          157.0  0.588  2.340  1.048968  0.072654  1.142722  2.578293   \n",
       "11          294.0  0.276  2.448  1.277224  0.192333  0.248830 -0.284948   \n",
       "12          293.0  0.204  2.400  1.284491  0.130125  0.229425  0.123738   \n",
       "13          153.0  0.828  2.424  1.571843  0.142954  0.101736 -0.769278   \n",
       "14          149.0  0.492  1.788  0.938819  0.056836  0.785940  0.270476   \n",
       "15          156.0  0.324  2.616  1.456769  0.155767  0.211470  0.151588   \n",
       "16          308.0  0.396  1.608  1.048714  0.046416  0.097028  0.125705   \n",
       "17          152.0  0.372  2.436  0.907658  0.128420  1.903573  4.749115   \n",
       "18          153.0  0.276  2.148  0.988941  0.124843  0.499671  0.200059   \n",
       "19          146.0  0.228  2.220  1.184466  0.197616  0.464832 -0.507275   \n",
       "20          154.0  0.684  2.184  1.300597  0.094621  0.272054 -0.308279   \n",
       "21          307.0  0.300  2.148  0.973134  0.081594  1.000358  2.087748   \n",
       "22         4414.0  0.180  2.616  1.146843  0.143565  0.645843  0.276898   \n",
       "\n",
       "         user  \n",
       "0        AB73  \n",
       "1        AF82  \n",
       "2        AL29  \n",
       "3        AW18  \n",
       "4        CB23  \n",
       "5        CB24  \n",
       "6        CF58  \n",
       "7        DG12  \n",
       "8        DH42  \n",
       "9        DL24  \n",
       "10       JL61  \n",
       "11       JQ28  \n",
       "12       JS52  \n",
       "13       MF20  \n",
       "14       MS55  \n",
       "15       PC29  \n",
       "16       PM32  \n",
       "17       PS42  \n",
       "18       RR45  \n",
       "19       RW32  \n",
       "20        SF1  \n",
       "21       YW13  \n",
       "22  all_users  "
      ]
     },
     "execution_count": 11,
     "metadata": {},
     "output_type": "execute_result"
    }
   ],
   "source": [
    "df = overal_timings_for('dynamic')\n",
    "df"
   ]
  },
  {
   "cell_type": "markdown",
   "metadata": {},
   "source": [
    "## Table with overall timings of labels of the static label type"
   ]
  },
  {
   "cell_type": "code",
   "execution_count": 12,
   "metadata": {},
   "outputs": [
    {
     "data": {
      "text/html": [
       "<div>\n",
       "<style scoped>\n",
       "    .dataframe tbody tr th:only-of-type {\n",
       "        vertical-align: middle;\n",
       "    }\n",
       "\n",
       "    .dataframe tbody tr th {\n",
       "        vertical-align: top;\n",
       "    }\n",
       "\n",
       "    .dataframe thead th {\n",
       "        text-align: right;\n",
       "    }\n",
       "</style>\n",
       "<table border=\"1\" class=\"dataframe\">\n",
       "  <thead>\n",
       "    <tr style=\"text-align: right;\">\n",
       "      <th></th>\n",
       "      <th># Annotations</th>\n",
       "      <th>min</th>\n",
       "      <th>max</th>\n",
       "      <th>mean</th>\n",
       "      <th>variance</th>\n",
       "      <th>skewness</th>\n",
       "      <th>kurtosis</th>\n",
       "      <th>user</th>\n",
       "    </tr>\n",
       "  </thead>\n",
       "  <tbody>\n",
       "    <tr>\n",
       "      <th>0</th>\n",
       "      <td>307.0</td>\n",
       "      <td>0.492</td>\n",
       "      <td>2.016</td>\n",
       "      <td>1.090124</td>\n",
       "      <td>0.081020</td>\n",
       "      <td>0.977200</td>\n",
       "      <td>0.959664</td>\n",
       "      <td>AB73</td>\n",
       "    </tr>\n",
       "    <tr>\n",
       "      <th>1</th>\n",
       "      <td>153.0</td>\n",
       "      <td>0.564</td>\n",
       "      <td>2.160</td>\n",
       "      <td>1.071294</td>\n",
       "      <td>0.074505</td>\n",
       "      <td>0.933502</td>\n",
       "      <td>1.332054</td>\n",
       "      <td>AF82</td>\n",
       "    </tr>\n",
       "    <tr>\n",
       "      <th>2</th>\n",
       "      <td>308.0</td>\n",
       "      <td>0.276</td>\n",
       "      <td>2.088</td>\n",
       "      <td>1.080935</td>\n",
       "      <td>0.083344</td>\n",
       "      <td>0.464313</td>\n",
       "      <td>0.639929</td>\n",
       "      <td>AL29</td>\n",
       "    </tr>\n",
       "    <tr>\n",
       "      <th>3</th>\n",
       "      <td>152.0</td>\n",
       "      <td>0.612</td>\n",
       "      <td>2.244</td>\n",
       "      <td>1.237974</td>\n",
       "      <td>0.116471</td>\n",
       "      <td>0.607737</td>\n",
       "      <td>-0.313408</td>\n",
       "      <td>AW18</td>\n",
       "    </tr>\n",
       "    <tr>\n",
       "      <th>4</th>\n",
       "      <td>152.0</td>\n",
       "      <td>0.552</td>\n",
       "      <td>2.496</td>\n",
       "      <td>1.417184</td>\n",
       "      <td>0.101046</td>\n",
       "      <td>0.268666</td>\n",
       "      <td>0.712247</td>\n",
       "      <td>CB23</td>\n",
       "    </tr>\n",
       "    <tr>\n",
       "      <th>5</th>\n",
       "      <td>154.0</td>\n",
       "      <td>0.480</td>\n",
       "      <td>1.872</td>\n",
       "      <td>1.031922</td>\n",
       "      <td>0.067122</td>\n",
       "      <td>0.731036</td>\n",
       "      <td>0.679540</td>\n",
       "      <td>CB24</td>\n",
       "    </tr>\n",
       "    <tr>\n",
       "      <th>6</th>\n",
       "      <td>158.0</td>\n",
       "      <td>0.504</td>\n",
       "      <td>1.932</td>\n",
       "      <td>1.100127</td>\n",
       "      <td>0.104537</td>\n",
       "      <td>0.650358</td>\n",
       "      <td>-0.092005</td>\n",
       "      <td>CF58</td>\n",
       "    </tr>\n",
       "    <tr>\n",
       "      <th>7</th>\n",
       "      <td>154.0</td>\n",
       "      <td>0.180</td>\n",
       "      <td>2.028</td>\n",
       "      <td>0.932416</td>\n",
       "      <td>0.123974</td>\n",
       "      <td>0.856840</td>\n",
       "      <td>0.754349</td>\n",
       "      <td>DG12</td>\n",
       "    </tr>\n",
       "    <tr>\n",
       "      <th>8</th>\n",
       "      <td>153.0</td>\n",
       "      <td>0.288</td>\n",
       "      <td>2.460</td>\n",
       "      <td>1.007216</td>\n",
       "      <td>0.165798</td>\n",
       "      <td>1.022538</td>\n",
       "      <td>1.678622</td>\n",
       "      <td>DH42</td>\n",
       "    </tr>\n",
       "    <tr>\n",
       "      <th>9</th>\n",
       "      <td>301.0</td>\n",
       "      <td>0.204</td>\n",
       "      <td>2.256</td>\n",
       "      <td>1.289741</td>\n",
       "      <td>0.212006</td>\n",
       "      <td>0.003985</td>\n",
       "      <td>-0.952714</td>\n",
       "      <td>DL24</td>\n",
       "    </tr>\n",
       "    <tr>\n",
       "      <th>10</th>\n",
       "      <td>157.0</td>\n",
       "      <td>0.588</td>\n",
       "      <td>2.340</td>\n",
       "      <td>1.048968</td>\n",
       "      <td>0.072654</td>\n",
       "      <td>1.142722</td>\n",
       "      <td>2.578293</td>\n",
       "      <td>JL61</td>\n",
       "    </tr>\n",
       "    <tr>\n",
       "      <th>11</th>\n",
       "      <td>294.0</td>\n",
       "      <td>0.276</td>\n",
       "      <td>2.448</td>\n",
       "      <td>1.277224</td>\n",
       "      <td>0.192333</td>\n",
       "      <td>0.248830</td>\n",
       "      <td>-0.284948</td>\n",
       "      <td>JQ28</td>\n",
       "    </tr>\n",
       "    <tr>\n",
       "      <th>12</th>\n",
       "      <td>293.0</td>\n",
       "      <td>0.204</td>\n",
       "      <td>2.400</td>\n",
       "      <td>1.284491</td>\n",
       "      <td>0.130125</td>\n",
       "      <td>0.229425</td>\n",
       "      <td>0.123738</td>\n",
       "      <td>JS52</td>\n",
       "    </tr>\n",
       "    <tr>\n",
       "      <th>13</th>\n",
       "      <td>153.0</td>\n",
       "      <td>0.828</td>\n",
       "      <td>2.424</td>\n",
       "      <td>1.571843</td>\n",
       "      <td>0.142954</td>\n",
       "      <td>0.101736</td>\n",
       "      <td>-0.769278</td>\n",
       "      <td>MF20</td>\n",
       "    </tr>\n",
       "    <tr>\n",
       "      <th>14</th>\n",
       "      <td>149.0</td>\n",
       "      <td>0.492</td>\n",
       "      <td>1.788</td>\n",
       "      <td>0.938819</td>\n",
       "      <td>0.056836</td>\n",
       "      <td>0.785940</td>\n",
       "      <td>0.270476</td>\n",
       "      <td>MS55</td>\n",
       "    </tr>\n",
       "    <tr>\n",
       "      <th>15</th>\n",
       "      <td>156.0</td>\n",
       "      <td>0.324</td>\n",
       "      <td>2.616</td>\n",
       "      <td>1.456769</td>\n",
       "      <td>0.155767</td>\n",
       "      <td>0.211470</td>\n",
       "      <td>0.151588</td>\n",
       "      <td>PC29</td>\n",
       "    </tr>\n",
       "    <tr>\n",
       "      <th>16</th>\n",
       "      <td>308.0</td>\n",
       "      <td>0.396</td>\n",
       "      <td>1.608</td>\n",
       "      <td>1.048714</td>\n",
       "      <td>0.046416</td>\n",
       "      <td>0.097028</td>\n",
       "      <td>0.125705</td>\n",
       "      <td>PM32</td>\n",
       "    </tr>\n",
       "    <tr>\n",
       "      <th>17</th>\n",
       "      <td>152.0</td>\n",
       "      <td>0.372</td>\n",
       "      <td>2.436</td>\n",
       "      <td>0.907658</td>\n",
       "      <td>0.128420</td>\n",
       "      <td>1.903573</td>\n",
       "      <td>4.749115</td>\n",
       "      <td>PS42</td>\n",
       "    </tr>\n",
       "    <tr>\n",
       "      <th>18</th>\n",
       "      <td>153.0</td>\n",
       "      <td>0.276</td>\n",
       "      <td>2.148</td>\n",
       "      <td>0.988941</td>\n",
       "      <td>0.124843</td>\n",
       "      <td>0.499671</td>\n",
       "      <td>0.200059</td>\n",
       "      <td>RR45</td>\n",
       "    </tr>\n",
       "    <tr>\n",
       "      <th>19</th>\n",
       "      <td>146.0</td>\n",
       "      <td>0.228</td>\n",
       "      <td>2.220</td>\n",
       "      <td>1.184466</td>\n",
       "      <td>0.197616</td>\n",
       "      <td>0.464832</td>\n",
       "      <td>-0.507275</td>\n",
       "      <td>RW32</td>\n",
       "    </tr>\n",
       "    <tr>\n",
       "      <th>20</th>\n",
       "      <td>154.0</td>\n",
       "      <td>0.684</td>\n",
       "      <td>2.184</td>\n",
       "      <td>1.300597</td>\n",
       "      <td>0.094621</td>\n",
       "      <td>0.272054</td>\n",
       "      <td>-0.308279</td>\n",
       "      <td>SF1</td>\n",
       "    </tr>\n",
       "    <tr>\n",
       "      <th>21</th>\n",
       "      <td>307.0</td>\n",
       "      <td>0.300</td>\n",
       "      <td>2.148</td>\n",
       "      <td>0.973134</td>\n",
       "      <td>0.081594</td>\n",
       "      <td>1.000358</td>\n",
       "      <td>2.087748</td>\n",
       "      <td>YW13</td>\n",
       "    </tr>\n",
       "    <tr>\n",
       "      <th>22</th>\n",
       "      <td>4414.0</td>\n",
       "      <td>0.180</td>\n",
       "      <td>2.616</td>\n",
       "      <td>1.146843</td>\n",
       "      <td>0.143565</td>\n",
       "      <td>0.645843</td>\n",
       "      <td>0.276898</td>\n",
       "      <td>all_users</td>\n",
       "    </tr>\n",
       "  </tbody>\n",
       "</table>\n",
       "</div>"
      ],
      "text/plain": [
       "    # Annotations    min    max      mean  variance  skewness  kurtosis  \\\n",
       "0           307.0  0.492  2.016  1.090124  0.081020  0.977200  0.959664   \n",
       "1           153.0  0.564  2.160  1.071294  0.074505  0.933502  1.332054   \n",
       "2           308.0  0.276  2.088  1.080935  0.083344  0.464313  0.639929   \n",
       "3           152.0  0.612  2.244  1.237974  0.116471  0.607737 -0.313408   \n",
       "4           152.0  0.552  2.496  1.417184  0.101046  0.268666  0.712247   \n",
       "5           154.0  0.480  1.872  1.031922  0.067122  0.731036  0.679540   \n",
       "6           158.0  0.504  1.932  1.100127  0.104537  0.650358 -0.092005   \n",
       "7           154.0  0.180  2.028  0.932416  0.123974  0.856840  0.754349   \n",
       "8           153.0  0.288  2.460  1.007216  0.165798  1.022538  1.678622   \n",
       "9           301.0  0.204  2.256  1.289741  0.212006  0.003985 -0.952714   \n",
       "10          157.0  0.588  2.340  1.048968  0.072654  1.142722  2.578293   \n",
       "11          294.0  0.276  2.448  1.277224  0.192333  0.248830 -0.284948   \n",
       "12          293.0  0.204  2.400  1.284491  0.130125  0.229425  0.123738   \n",
       "13          153.0  0.828  2.424  1.571843  0.142954  0.101736 -0.769278   \n",
       "14          149.0  0.492  1.788  0.938819  0.056836  0.785940  0.270476   \n",
       "15          156.0  0.324  2.616  1.456769  0.155767  0.211470  0.151588   \n",
       "16          308.0  0.396  1.608  1.048714  0.046416  0.097028  0.125705   \n",
       "17          152.0  0.372  2.436  0.907658  0.128420  1.903573  4.749115   \n",
       "18          153.0  0.276  2.148  0.988941  0.124843  0.499671  0.200059   \n",
       "19          146.0  0.228  2.220  1.184466  0.197616  0.464832 -0.507275   \n",
       "20          154.0  0.684  2.184  1.300597  0.094621  0.272054 -0.308279   \n",
       "21          307.0  0.300  2.148  0.973134  0.081594  1.000358  2.087748   \n",
       "22         4414.0  0.180  2.616  1.146843  0.143565  0.645843  0.276898   \n",
       "\n",
       "         user  \n",
       "0        AB73  \n",
       "1        AF82  \n",
       "2        AL29  \n",
       "3        AW18  \n",
       "4        CB23  \n",
       "5        CB24  \n",
       "6        CF58  \n",
       "7        DG12  \n",
       "8        DH42  \n",
       "9        DL24  \n",
       "10       JL61  \n",
       "11       JQ28  \n",
       "12       JS52  \n",
       "13       MF20  \n",
       "14       MS55  \n",
       "15       PC29  \n",
       "16       PM32  \n",
       "17       PS42  \n",
       "18       RR45  \n",
       "19       RW32  \n",
       "20        SF1  \n",
       "21       YW13  \n",
       "22  all_users  "
      ]
     },
     "execution_count": 12,
     "metadata": {},
     "output_type": "execute_result"
    }
   ],
   "source": [
    "df = overal_timings_for('static')\n",
    "df"
   ]
  },
  {
   "cell_type": "markdown",
   "metadata": {},
   "source": [
    "## Find interesting additionall timings\n",
    "\n",
    "The tables above show a summary of the timings for the different types of labels in general. Therefor this represents the avarage gesture so do say. One could wonder now if interesting special timings exist for individual gestures. Computing the table for all gesture / user combination would be possible and fast, but would be too much information to consume.\n",
    "\n",
    "An alternative is, beside the overal describtions above, to search for the extream examples of timing. I therefor search for the gesture with the longest avarage, the shortest avarage, and the highest and lowest variance. I decided to do that for the manual label type."
   ]
  },
  {
   "cell_type": "code",
   "execution_count": 30,
   "metadata": {},
   "outputs": [],
   "source": [
    "def total_manual_timing_for(gesture, label_type):\n",
    "    total = []\n",
    "    for key, data in users.items():\n",
    "        if not 'glove_merged' in data:\n",
    "            continue\n",
    "        total = total + get_deltas_for(key, data, gesture, label_type)\n",
    "    return total\n",
    "\n",
    "def get_all_total_timings(label_type):\n",
    "    gestures = users['AB73']['label'][0]['data']['gesture'].unique()\n",
    "    timings = {}\n",
    "    for gesture in gestures:\n",
    "        a = np.array(total_manual_timing_for(gesture, label_type))\n",
    "        timings[gesture] = a\n",
    "    return timings\n",
    "\n",
    "def shortest(timings):\n",
    "    k, v, m = None, None, 10\n",
    "    for key, val in timings.items():\n",
    "        if np.mean(val) < m:\n",
    "            k = key; m = np.mean(val); v = val\n",
    "    return k, v\n",
    "\n",
    "def longest(timings):\n",
    "    k, v, l = None, None, 0\n",
    "    for key, val in timings.items():\n",
    "        if np.mean(val) > l:\n",
    "            k = key; l = np.mean(val); v = val\n",
    "    return k, v\n",
    "\n",
    "def least_var(timings):\n",
    "    k, v, m = None, None, 10\n",
    "    for key, val in timings.items():\n",
    "        if np.var(val) < m:\n",
    "            k = key; m = np.var(val); v = val\n",
    "    return k, v\n",
    "\n",
    "def most_var(timings):\n",
    "    k, v, l = None, None, 0\n",
    "    for key, val in timings.items():\n",
    "        if np.var(val) > l:\n",
    "            k = key; l = np.var(val); v = val\n",
    "    return k, v"
   ]
  },
  {
   "cell_type": "markdown",
   "metadata": {},
   "source": [
    "It appears the \"Shoot\" gesture is the one with the shortest avarage duration with 0.75s on avarage. The \"Gasp 1\" Gesture on the other hand is the one who has the longest avarage duration with 1.69s on avarage. The \"Down\" Gesture is the Gesture with the most uniform timing (a variance of 0.03s). The \"Grasp 2\" gesture on the other hand is the gesture with the highest variance (0.18s). With this we can see that while the timing of different gestures vary a lot the timing of individual gestures even between different people who perform them, vary not too much.\n",
    "\n",
    "NOTE: I did not have time to explor this in the thesis, but I am sure you can harness that fact f.e. with some kernels of different lenght an so on..."
   ]
  },
  {
   "cell_type": "code",
   "execution_count": 23,
   "metadata": {},
   "outputs": [
    {
     "name": "stdout",
     "output_type": "stream",
     "text": [
      "Shoot DescribeResult(nobs=144, minmax=(0.18, 1.86), mean=0.7487499999999999, variance=0.13202527972027972, skewness=0.9236688173497358, kurtosis=0.5626034290731519)\n"
     ]
    },
    {
     "data": {
      "image/png": "[encoded data removed]",
      "text/plain": [
       "<Figure size 432x288 with 1 Axes>"
      ]
     },
     "metadata": {},
     "output_type": "display_data"
    },
    {
     "name": "stdout",
     "output_type": "stream",
     "text": [
      "Grasp 1 DescribeResult(nobs=126, minmax=(0.612, 2.568), mean=1.6940952380952383, variance=0.15873656685714282, skewness=-0.09884750589811062, kurtosis=-0.53656151921408)\n"
     ]
    },
    {
     "data": {
      "image/png": "[encoded data removed]",
      "text/plain": [
       "<Figure size 432x288 with 1 Axes>"
      ]
     },
     "metadata": {},
     "output_type": "display_data"
    },
    {
     "name": "stdout",
     "output_type": "stream",
     "text": [
      "Down DescribeResult(nobs=148, minmax=(0.372, 1.404), mean=0.8203783783783783, variance=0.028839474903474903, skewness=0.685927675313145, kurtosis=1.205921241671458)\n"
     ]
    },
    {
     "data": {
      "image/png": "[encoded data removed]",
      "text/plain": [
       "<Figure size 432x288 with 1 Axes>"
      ]
     },
     "metadata": {},
     "output_type": "display_data"
    },
    {
     "name": "stdout",
     "output_type": "stream",
     "text": [
      "Grasp 2 DescribeResult(nobs=132, minmax=(0.324, 2.412), mean=1.4917272727272726, variance=0.17706752810548232, skewness=-0.19088915345150498, kurtosis=-0.5340134208290879)\n"
     ]
    },
    {
     "data": {
      "image/png": "[encoded data removed]",
      "text/plain": [
       "<Figure size 432x288 with 1 Axes>"
      ]
     },
     "metadata": {},
     "output_type": "display_data"
    }
   ],
   "source": [
    "timings = get_all_total_timings('manual')\n",
    "sns.set(color_codes=True)\n",
    "user, values = shortest(timings)\n",
    "print(user, scipy.stats.describe(values))\n",
    "ax = sns.distplot(values)\n",
    "ax.set(xlabel='Time in seconds', ylabel='Density')\n",
    "#plt.hist(values)\n",
    "plt.show()\n",
    "\n",
    "user, values = longest(timings)\n",
    "print(user, scipy.stats.describe(values))\n",
    "ax = sns.distplot(values)\n",
    "ax.set(xlabel='Time in seconds', ylabel='Density')\n",
    "#plt.hist(values)\n",
    "plt.show()\n",
    "\n",
    "user, values = least_var(timings)\n",
    "print(user, scipy.stats.describe(values))\n",
    "ax = sns.distplot(values)\n",
    "ax.set(xlabel='Time in seconds', ylabel='Density')\n",
    "#plt.hist(values)\n",
    "plt.show()\n",
    "\n",
    "user, values = most_var(timings)\n",
    "print(user, scipy.stats.describe(values))\n",
    "ax = sns.distplot(values)\n",
    "ax.set(xlabel='Time in seconds', ylabel='Density')\n",
    "#plt.hist(values)\n",
    "plt.show()"
   ]
  },
  {
   "cell_type": "markdown",
   "metadata": {},
   "source": [
    "### Generate Timing histograms for all user / gesture combintions\n",
    "\n",
    "I generate all timing histograms for each user / gesture combination to have them at hand. This is too much data to be covered in the thesis, but you can look up individual timings out of interest or for reference."
   ]
  },
  {
   "cell_type": "code",
   "execution_count": 15,
   "metadata": {},
   "outputs": [],
   "source": [
    "usernames = users.keys()\n",
    "gestures = users['AB73']['label'][0]['data']['gesture'].unique()\n",
    "ud_helper = iutils.UserDataHelper(list(usernames), gestures, Constants().raw_headers)"
   ]
  },
  {
   "cell_type": "code",
   "execution_count": 16,
   "metadata": {},
   "outputs": [
    {
     "data": {
      "application/vnd.jupyter.widget-view+json": {
       "model_id": "",
       "version_major": 2,
       "version_minor": 0
      },
      "text/plain": [
       "HBox(children=(IntProgress(value=0, description='gestures', max=31, style=ProgressStyle(description_width='ini…"
      ]
     },
     "metadata": {},
     "output_type": "display_data"
    },
    {
     "data": {
      "application/vnd.jupyter.widget-view+json": {
       "model_id": "ca37d7d4542a4998bca48b48185372ec",
       "version_major": 2,
       "version_minor": 0
      },
      "text/plain": [
       "HBox(children=(IntProgress(value=0, description='users', max=23, style=ProgressStyle(description_width='initia…"
      ]
     },
     "metadata": {},
     "output_type": "display_data"
    },
    {
     "name": "stdout",
     "output_type": "stream",
     "text": [
      "skipping userAE30\n"
     ]
    },
    {
     "data": {
      "application/vnd.jupyter.widget-view+json": {
       "model_id": "90864d9a38b2430bb2cd9006018c7fd8",
       "version_major": 2,
       "version_minor": 0
      },
      "text/plain": [
       "HBox(children=(IntProgress(value=0, description='users', max=23, style=ProgressStyle(description_width='initia…"
      ]
     },
     "metadata": {},
     "output_type": "display_data"
    },
    {
     "name": "stdout",
     "output_type": "stream",
     "text": [
      "skipping userAE30\n"
     ]
    },
    {
     "data": {
      "application/vnd.jupyter.widget-view+json": {
       "model_id": "7d3800fb59e842c59d4e07b83f6d723d",
       "version_major": 2,
       "version_minor": 0
      },
      "text/plain": [
       "HBox(children=(IntProgress(value=0, description='users', max=23, style=ProgressStyle(description_width='initia…"
      ]
     },
     "metadata": {},
     "output_type": "display_data"
    },
    {
     "name": "stdout",
     "output_type": "stream",
     "text": [
      "skipping userAE30\n"
     ]
    },
    {
     "data": {
      "application/vnd.jupyter.widget-view+json": {
       "model_id": "94a04c393d0f44058548bdb2d8d309ed",
       "version_major": 2,
       "version_minor": 0
      },
      "text/plain": [
       "HBox(children=(IntProgress(value=0, description='users', max=23, style=ProgressStyle(description_width='initia…"
      ]
     },
     "metadata": {},
     "output_type": "display_data"
    },
    {
     "name": "stdout",
     "output_type": "stream",
     "text": [
      "skipping userAE30\n"
     ]
    },
    {
     "data": {
      "application/vnd.jupyter.widget-view+json": {
       "model_id": "0eee68bef2104c55a273f7078cdd79b4",
       "version_major": 2,
       "version_minor": 0
      },
      "text/plain": [
       "HBox(children=(IntProgress(value=0, description='users', max=23, style=ProgressStyle(description_width='initia…"
      ]
     },
     "metadata": {},
     "output_type": "display_data"
    },
    {
     "name": "stdout",
     "output_type": "stream",
     "text": [
      "skipping userAE30\n"
     ]
    },
    {
     "data": {
      "application/vnd.jupyter.widget-view+json": {
       "model_id": "07b8673a2a0e4066bfc577ce50a5d922",
       "version_major": 2,
       "version_minor": 0
      },
      "text/plain": [
       "HBox(children=(IntProgress(value=0, description='users', max=23, style=ProgressStyle(description_width='initia…"
      ]
     },
     "metadata": {},
     "output_type": "display_data"
    },
    {
     "name": "stdout",
     "output_type": "stream",
     "text": [
      "skipping userAE30\n"
     ]
    },
    {
     "data": {
      "application/vnd.jupyter.widget-view+json": {
       "model_id": "b17610b647624a14993af80a82d922c2",
       "version_major": 2,
       "version_minor": 0
      },
      "text/plain": [
       "HBox(children=(IntProgress(value=0, description='users', max=23, style=ProgressStyle(description_width='initia…"
      ]
     },
     "metadata": {},
     "output_type": "display_data"
    },
    {
     "name": "stdout",
     "output_type": "stream",
     "text": [
      "skipping userAE30\n"
     ]
    },
    {
     "data": {
      "application/vnd.jupyter.widget-view+json": {
       "model_id": "6bf1a5af0e0d4fe18c9873196eaa3639",
       "version_major": 2,
       "version_minor": 0
      },
      "text/plain": [
       "HBox(children=(IntProgress(value=0, description='users', max=23, style=ProgressStyle(description_width='initia…"
      ]
     },
     "metadata": {},
     "output_type": "display_data"
    },
    {
     "name": "stdout",
     "output_type": "stream",
     "text": [
      "skipping userAE30\n"
     ]
    },
    {
     "data": {
      "application/vnd.jupyter.widget-view+json": {
       "model_id": "386d5ab0c13b418290abf0d0be8b5178",
       "version_major": 2,
       "version_minor": 0
      },
      "text/plain": [
       "HBox(children=(IntProgress(value=0, description='users', max=23, style=ProgressStyle(description_width='initia…"
      ]
     },
     "metadata": {},
     "output_type": "display_data"
    },
    {
     "name": "stdout",
     "output_type": "stream",
     "text": [
      "skipping userAE30\n"
     ]
    },
    {
     "data": {
      "application/vnd.jupyter.widget-view+json": {
       "model_id": "3eeb632cd0ab448c98582589835360dd",
       "version_major": 2,
       "version_minor": 0
      },
      "text/plain": [
       "HBox(children=(IntProgress(value=0, description='users', max=23, style=ProgressStyle(description_width='initia…"
      ]
     },
     "metadata": {},
     "output_type": "display_data"
    },
    {
     "name": "stdout",
     "output_type": "stream",
     "text": [
      "skipping userAE30\n"
     ]
    },
    {
     "data": {
      "application/vnd.jupyter.widget-view+json": {
       "model_id": "5e0ba9f0121c456abf2ba68abe1e42df",
       "version_major": 2,
       "version_minor": 0
      },
      "text/plain": [
       "HBox(children=(IntProgress(value=0, description='users', max=23, style=ProgressStyle(description_width='initia…"
      ]
     },
     "metadata": {},
     "output_type": "display_data"
    },
    {
     "name": "stdout",
     "output_type": "stream",
     "text": [
      "skipping userAE30\n"
     ]
    },
    {
     "data": {
      "application/vnd.jupyter.widget-view+json": {
       "model_id": "72c90e9b5e8145e0bc274d2c6f095a31",
       "version_major": 2,
       "version_minor": 0
      },
      "text/plain": [
       "HBox(children=(IntProgress(value=0, description='users', max=23, style=ProgressStyle(description_width='initia…"
      ]
     },
     "metadata": {},
     "output_type": "display_data"
    },
    {
     "name": "stdout",
     "output_type": "stream",
     "text": [
      "skipping userAE30\n"
     ]
    },
    {
     "data": {
      "application/vnd.jupyter.widget-view+json": {
       "model_id": "6aee24c920064aa7af23b1f39dcafd37",
       "version_major": 2,
       "version_minor": 0
      },
      "text/plain": [
       "HBox(children=(IntProgress(value=0, description='users', max=23, style=ProgressStyle(description_width='initia…"
      ]
     },
     "metadata": {},
     "output_type": "display_data"
    },
    {
     "name": "stdout",
     "output_type": "stream",
     "text": [
      "skipping userAE30\n"
     ]
    },
    {
     "data": {
      "application/vnd.jupyter.widget-view+json": {
       "model_id": "499bb602d2fe4949b16ae45b1be9242c",
       "version_major": 2,
       "version_minor": 0
      },
      "text/plain": [
       "HBox(children=(IntProgress(value=0, description='users', max=23, style=ProgressStyle(description_width='initia…"
      ]
     },
     "metadata": {},
     "output_type": "display_data"
    },
    {
     "name": "stdout",
     "output_type": "stream",
     "text": [
      "skipping userAE30\n"
     ]
    },
    {
     "data": {
      "application/vnd.jupyter.widget-view+json": {
       "model_id": "8aee860328304cc8850726d1ad6700a9",
       "version_major": 2,
       "version_minor": 0
      },
      "text/plain": [
       "HBox(children=(IntProgress(value=0, description='users', max=23, style=ProgressStyle(description_width='initia…"
      ]
     },
     "metadata": {},
     "output_type": "display_data"
    },
    {
     "name": "stdout",
     "output_type": "stream",
     "text": [
      "skipping userAE30\n"
     ]
    },
    {
     "data": {
      "application/vnd.jupyter.widget-view+json": {
       "model_id": "cbd625b0659948f188ec48288d2d102a",
       "version_major": 2,
       "version_minor": 0
      },
      "text/plain": [
       "HBox(children=(IntProgress(value=0, description='users', max=23, style=ProgressStyle(description_width='initia…"
      ]
     },
     "metadata": {},
     "output_type": "display_data"
    },
    {
     "name": "stdout",
     "output_type": "stream",
     "text": [
      "skipping userAE30\n"
     ]
    },
    {
     "data": {
      "application/vnd.jupyter.widget-view+json": {
       "model_id": "bf30d5c902334bf1848b1c57c46e15c7",
       "version_major": 2,
       "version_minor": 0
      },
      "text/plain": [
       "HBox(children=(IntProgress(value=0, description='users', max=23, style=ProgressStyle(description_width='initia…"
      ]
     },
     "metadata": {},
     "output_type": "display_data"
    },
    {
     "name": "stdout",
     "output_type": "stream",
     "text": [
      "skipping userAE30\n"
     ]
    },
    {
     "data": {
      "application/vnd.jupyter.widget-view+json": {
       "model_id": "a839c8daf8fe41c6aa479b350ad3b02c",
       "version_major": 2,
       "version_minor": 0
      },
      "text/plain": [
       "HBox(children=(IntProgress(value=0, description='users', max=23, style=ProgressStyle(description_width='initia…"
      ]
     },
     "metadata": {},
     "output_type": "display_data"
    },
    {
     "name": "stdout",
     "output_type": "stream",
     "text": [
      "skipping userAE30\n"
     ]
    },
    {
     "data": {
      "application/vnd.jupyter.widget-view+json": {
       "model_id": "df0538c48fa84433b2267f4aecfe2c29",
       "version_major": 2,
       "version_minor": 0
      },
      "text/plain": [
       "HBox(children=(IntProgress(value=0, description='users', max=23, style=ProgressStyle(description_width='initia…"
      ]
     },
     "metadata": {},
     "output_type": "display_data"
    },
    {
     "name": "stdout",
     "output_type": "stream",
     "text": [
      "skipping userAE30\n"
     ]
    },
    {
     "data": {
      "application/vnd.jupyter.widget-view+json": {
       "model_id": "226eb36e83c24c979cd524b897f8f06f",
       "version_major": 2,
       "version_minor": 0
      },
      "text/plain": [
       "HBox(children=(IntProgress(value=0, description='users', max=23, style=ProgressStyle(description_width='initia…"
      ]
     },
     "metadata": {},
     "output_type": "display_data"
    },
    {
     "name": "stdout",
     "output_type": "stream",
     "text": [
      "skipping userAE30\n"
     ]
    },
    {
     "data": {
      "application/vnd.jupyter.widget-view+json": {
       "model_id": "ef7342142e95414eac1106fbd3ee9958",
       "version_major": 2,
       "version_minor": 0
      },
      "text/plain": [
       "HBox(children=(IntProgress(value=0, description='users', max=23, style=ProgressStyle(description_width='initia…"
      ]
     },
     "metadata": {},
     "output_type": "display_data"
    },
    {
     "name": "stdout",
     "output_type": "stream",
     "text": [
      "skipping userAE30\n"
     ]
    },
    {
     "data": {
      "application/vnd.jupyter.widget-view+json": {
       "model_id": "679dd06fbe6a4cbf97af82e563a53ad8",
       "version_major": 2,
       "version_minor": 0
      },
      "text/plain": [
       "HBox(children=(IntProgress(value=0, description='users', max=23, style=ProgressStyle(description_width='initia…"
      ]
     },
     "metadata": {},
     "output_type": "display_data"
    },
    {
     "name": "stdout",
     "output_type": "stream",
     "text": [
      "skipping userAE30\n"
     ]
    },
    {
     "data": {
      "application/vnd.jupyter.widget-view+json": {
       "model_id": "6a229d92d092423ca8789318ab7ef589",
       "version_major": 2,
       "version_minor": 0
      },
      "text/plain": [
       "HBox(children=(IntProgress(value=0, description='users', max=23, style=ProgressStyle(description_width='initia…"
      ]
     },
     "metadata": {},
     "output_type": "display_data"
    },
    {
     "name": "stdout",
     "output_type": "stream",
     "text": [
      "skipping userAE30\n"
     ]
    },
    {
     "data": {
      "application/vnd.jupyter.widget-view+json": {
       "model_id": "8ab824f84f66412fb4c5ab03299deb69",
       "version_major": 2,
       "version_minor": 0
      },
      "text/plain": [
       "HBox(children=(IntProgress(value=0, description='users', max=23, style=ProgressStyle(description_width='initia…"
      ]
     },
     "metadata": {},
     "output_type": "display_data"
    },
    {
     "name": "stdout",
     "output_type": "stream",
     "text": [
      "skipping userAE30\n"
     ]
    },
    {
     "data": {
      "application/vnd.jupyter.widget-view+json": {
       "model_id": "31b33743aa164d61877ffd02a76541d7",
       "version_major": 2,
       "version_minor": 0
      },
      "text/plain": [
       "HBox(children=(IntProgress(value=0, description='users', max=23, style=ProgressStyle(description_width='initia…"
      ]
     },
     "metadata": {},
     "output_type": "display_data"
    },
    {
     "name": "stdout",
     "output_type": "stream",
     "text": [
      "skipping userAE30\n"
     ]
    },
    {
     "data": {
      "application/vnd.jupyter.widget-view+json": {
       "model_id": "0bf2f23ce8664261948afd9780f0d3d8",
       "version_major": 2,
       "version_minor": 0
      },
      "text/plain": [
       "HBox(children=(IntProgress(value=0, description='users', max=23, style=ProgressStyle(description_width='initia…"
      ]
     },
     "metadata": {},
     "output_type": "display_data"
    },
    {
     "name": "stdout",
     "output_type": "stream",
     "text": [
      "skipping userAE30\n"
     ]
    },
    {
     "data": {
      "application/vnd.jupyter.widget-view+json": {
       "model_id": "4d88814e721b403692d4d637a067f50d",
       "version_major": 2,
       "version_minor": 0
      },
      "text/plain": [
       "HBox(children=(IntProgress(value=0, description='users', max=23, style=ProgressStyle(description_width='initia…"
      ]
     },
     "metadata": {},
     "output_type": "display_data"
    },
    {
     "name": "stdout",
     "output_type": "stream",
     "text": [
      "skipping userAE30\n"
     ]
    },
    {
     "data": {
      "application/vnd.jupyter.widget-view+json": {
       "model_id": "6292d585a8e745eeae61b2cc66e8be92",
       "version_major": 2,
       "version_minor": 0
      },
      "text/plain": [
       "HBox(children=(IntProgress(value=0, description='users', max=23, style=ProgressStyle(description_width='initia…"
      ]
     },
     "metadata": {},
     "output_type": "display_data"
    },
    {
     "name": "stdout",
     "output_type": "stream",
     "text": [
      "skipping userAE30\n"
     ]
    },
    {
     "data": {
      "application/vnd.jupyter.widget-view+json": {
       "model_id": "b9ba218f71f54947a2abc358509161af",
       "version_major": 2,
       "version_minor": 0
      },
      "text/plain": [
       "HBox(children=(IntProgress(value=0, description='users', max=23, style=ProgressStyle(description_width='initia…"
      ]
     },
     "metadata": {},
     "output_type": "display_data"
    },
    {
     "name": "stdout",
     "output_type": "stream",
     "text": [
      "skipping userAE30\n"
     ]
    },
    {
     "data": {
      "application/vnd.jupyter.widget-view+json": {
       "model_id": "da913b493dd0439ea69ba253c341f018",
       "version_major": 2,
       "version_minor": 0
      },
      "text/plain": [
       "HBox(children=(IntProgress(value=0, description='users', max=23, style=ProgressStyle(description_width='initia…"
      ]
     },
     "metadata": {},
     "output_type": "display_data"
    },
    {
     "name": "stdout",
     "output_type": "stream",
     "text": [
      "skipping userAE30\n"
     ]
    },
    {
     "data": {
      "application/vnd.jupyter.widget-view+json": {
       "model_id": "25c5ed5014b4471a89bad75a6443b36d",
       "version_major": 2,
       "version_minor": 0
      },
      "text/plain": [
       "HBox(children=(IntProgress(value=0, description='users', max=23, style=ProgressStyle(description_width='initia…"
      ]
     },
     "metadata": {},
     "output_type": "display_data"
    },
    {
     "name": "stdout",
     "output_type": "stream",
     "text": [
      "skipping userAE30\n",
      "\r",
      "skipped #714 image generations\n"
     ]
    },
    {
     "data": {
      "application/vnd.jupyter.widget-view+json": {
       "model_id": "",
       "version_major": 2,
       "version_minor": 0
      },
      "text/plain": [
       "HBox(children=(IntProgress(value=0, description='gestures', max=31, style=ProgressStyle(description_width='ini…"
      ]
     },
     "metadata": {},
     "output_type": "display_data"
    },
    {
     "data": {
      "application/vnd.jupyter.widget-view+json": {
       "model_id": "c9581c820da549bca6ece2ffc9ad1777",
       "version_major": 2,
       "version_minor": 0
      },
      "text/plain": [
       "HBox(children=(IntProgress(value=0, description='users', max=23, style=ProgressStyle(description_width='initia…"
      ]
     },
     "metadata": {},
     "output_type": "display_data"
    },
    {
     "name": "stdout",
     "output_type": "stream",
     "text": [
      "skipping userAE30\n"
     ]
    },
    {
     "data": {
      "application/vnd.jupyter.widget-view+json": {
       "model_id": "c7d93847412f404a991f9e6bf03fae2f",
       "version_major": 2,
       "version_minor": 0
      },
      "text/plain": [
       "HBox(children=(IntProgress(value=0, description='users', max=23, style=ProgressStyle(description_width='initia…"
      ]
     },
     "metadata": {},
     "output_type": "display_data"
    },
    {
     "name": "stdout",
     "output_type": "stream",
     "text": [
      "skipping userAE30\n"
     ]
    },
    {
     "data": {
      "application/vnd.jupyter.widget-view+json": {
       "model_id": "6511a8e153944f038bc1e96d69779ab6",
       "version_major": 2,
       "version_minor": 0
      },
      "text/plain": [
       "HBox(children=(IntProgress(value=0, description='users', max=23, style=ProgressStyle(description_width='initia…"
      ]
     },
     "metadata": {},
     "output_type": "display_data"
    },
    {
     "name": "stdout",
     "output_type": "stream",
     "text": [
      "skipping userAE30\n"
     ]
    },
    {
     "data": {
      "application/vnd.jupyter.widget-view+json": {
       "model_id": "fd96f86687f74d689947dab29588ebc6",
       "version_major": 2,
       "version_minor": 0
      },
      "text/plain": [
       "HBox(children=(IntProgress(value=0, description='users', max=23, style=ProgressStyle(description_width='initia…"
      ]
     },
     "metadata": {},
     "output_type": "display_data"
    },
    {
     "name": "stdout",
     "output_type": "stream",
     "text": [
      "skipping userAE30\n"
     ]
    },
    {
     "data": {
      "application/vnd.jupyter.widget-view+json": {
       "model_id": "7ec83106d7e04185b35f70c72f1b625f",
       "version_major": 2,
       "version_minor": 0
      },
      "text/plain": [
       "HBox(children=(IntProgress(value=0, description='users', max=23, style=ProgressStyle(description_width='initia…"
      ]
     },
     "metadata": {},
     "output_type": "display_data"
    },
    {
     "name": "stdout",
     "output_type": "stream",
     "text": [
      "skipping userAE30\n"
     ]
    },
    {
     "data": {
      "application/vnd.jupyter.widget-view+json": {
       "model_id": "913bafdce9684e72a256d64230539dc3",
       "version_major": 2,
       "version_minor": 0
      },
      "text/plain": [
       "HBox(children=(IntProgress(value=0, description='users', max=23, style=ProgressStyle(description_width='initia…"
      ]
     },
     "metadata": {},
     "output_type": "display_data"
    },
    {
     "name": "stdout",
     "output_type": "stream",
     "text": [
      "skipping userAE30\n"
     ]
    },
    {
     "data": {
      "application/vnd.jupyter.widget-view+json": {
       "model_id": "503d77ac3a674be787469af6130ead5f",
       "version_major": 2,
       "version_minor": 0
      },
      "text/plain": [
       "HBox(children=(IntProgress(value=0, description='users', max=23, style=ProgressStyle(description_width='initia…"
      ]
     },
     "metadata": {},
     "output_type": "display_data"
    },
    {
     "name": "stdout",
     "output_type": "stream",
     "text": [
      "skipping userAE30\n"
     ]
    },
    {
     "data": {
      "application/vnd.jupyter.widget-view+json": {
       "model_id": "5e6e4c863043459bbcc4206a7f77da6b",
       "version_major": 2,
       "version_minor": 0
      },
      "text/plain": [
       "HBox(children=(IntProgress(value=0, description='users', max=23, style=ProgressStyle(description_width='initia…"
      ]
     },
     "metadata": {},
     "output_type": "display_data"
    },
    {
     "name": "stdout",
     "output_type": "stream",
     "text": [
      "skipping userAE30\n"
     ]
    },
    {
     "data": {
      "application/vnd.jupyter.widget-view+json": {
       "model_id": "b79920050a05457ba7babbc2c335f7a4",
       "version_major": 2,
       "version_minor": 0
      },
      "text/plain": [
       "HBox(children=(IntProgress(value=0, description='users', max=23, style=ProgressStyle(description_width='initia…"
      ]
     },
     "metadata": {},
     "output_type": "display_data"
    },
    {
     "name": "stdout",
     "output_type": "stream",
     "text": [
      "skipping userAE30\n"
     ]
    },
    {
     "data": {
      "application/vnd.jupyter.widget-view+json": {
       "model_id": "78061e3eaede4dfb8a684a179b5125f2",
       "version_major": 2,
       "version_minor": 0
      },
      "text/plain": [
       "HBox(children=(IntProgress(value=0, description='users', max=23, style=ProgressStyle(description_width='initia…"
      ]
     },
     "metadata": {},
     "output_type": "display_data"
    },
    {
     "name": "stdout",
     "output_type": "stream",
     "text": [
      "skipping userAE30\n"
     ]
    },
    {
     "data": {
      "application/vnd.jupyter.widget-view+json": {
       "model_id": "8ef4e4c8869a4623b89d83a8d1dcb7f3",
       "version_major": 2,
       "version_minor": 0
      },
      "text/plain": [
       "HBox(children=(IntProgress(value=0, description='users', max=23, style=ProgressStyle(description_width='initia…"
      ]
     },
     "metadata": {},
     "output_type": "display_data"
    },
    {
     "name": "stdout",
     "output_type": "stream",
     "text": [
      "skipping userAE30\n"
     ]
    },
    {
     "data": {
      "application/vnd.jupyter.widget-view+json": {
       "model_id": "7462ba0eae414c24b656a11075bfbdd5",
       "version_major": 2,
       "version_minor": 0
      },
      "text/plain": [
       "HBox(children=(IntProgress(value=0, description='users', max=23, style=ProgressStyle(description_width='initia…"
      ]
     },
     "metadata": {},
     "output_type": "display_data"
    },
    {
     "name": "stdout",
     "output_type": "stream",
     "text": [
      "skipping userAE30\n"
     ]
    },
    {
     "data": {
      "application/vnd.jupyter.widget-view+json": {
       "model_id": "32d69b10bace4638a1df2c49aa115c08",
       "version_major": 2,
       "version_minor": 0
      },
      "text/plain": [
       "HBox(children=(IntProgress(value=0, description='users', max=23, style=ProgressStyle(description_width='initia…"
      ]
     },
     "metadata": {},
     "output_type": "display_data"
    },
    {
     "name": "stdout",
     "output_type": "stream",
     "text": [
      "skipping userAE30\n"
     ]
    },
    {
     "data": {
      "application/vnd.jupyter.widget-view+json": {
       "model_id": "c171c8bbbe774a0f8324e1402b6a93ec",
       "version_major": 2,
       "version_minor": 0
      },
      "text/plain": [
       "HBox(children=(IntProgress(value=0, description='users', max=23, style=ProgressStyle(description_width='initia…"
      ]
     },
     "metadata": {},
     "output_type": "display_data"
    },
    {
     "name": "stdout",
     "output_type": "stream",
     "text": [
      "skipping userAE30\n"
     ]
    },
    {
     "data": {
      "application/vnd.jupyter.widget-view+json": {
       "model_id": "c2daaa10969340059d71e977d08a2bb3",
       "version_major": 2,
       "version_minor": 0
      },
      "text/plain": [
       "HBox(children=(IntProgress(value=0, description='users', max=23, style=ProgressStyle(description_width='initia…"
      ]
     },
     "metadata": {},
     "output_type": "display_data"
    },
    {
     "name": "stdout",
     "output_type": "stream",
     "text": [
      "skipping userAE30\n"
     ]
    },
    {
     "data": {
      "application/vnd.jupyter.widget-view+json": {
       "model_id": "5da73f73e3c34fa28b3d6f735eb82271",
       "version_major": 2,
       "version_minor": 0
      },
      "text/plain": [
       "HBox(children=(IntProgress(value=0, description='users', max=23, style=ProgressStyle(description_width='initia…"
      ]
     },
     "metadata": {},
     "output_type": "display_data"
    },
    {
     "name": "stdout",
     "output_type": "stream",
     "text": [
      "skipping userAE30\n"
     ]
    },
    {
     "data": {
      "application/vnd.jupyter.widget-view+json": {
       "model_id": "8d0d39ec1b1c44d19051b1961bfb8f46",
       "version_major": 2,
       "version_minor": 0
      },
      "text/plain": [
       "HBox(children=(IntProgress(value=0, description='users', max=23, style=ProgressStyle(description_width='initia…"
      ]
     },
     "metadata": {},
     "output_type": "display_data"
    },
    {
     "name": "stdout",
     "output_type": "stream",
     "text": [
      "skipping userAE30\n"
     ]
    },
    {
     "data": {
      "application/vnd.jupyter.widget-view+json": {
       "model_id": "24940cb00eb640b3a9b3d8ec6fc5c0be",
       "version_major": 2,
       "version_minor": 0
      },
      "text/plain": [
       "HBox(children=(IntProgress(value=0, description='users', max=23, style=ProgressStyle(description_width='initia…"
      ]
     },
     "metadata": {},
     "output_type": "display_data"
    },
    {
     "name": "stdout",
     "output_type": "stream",
     "text": [
      "skipping userAE30\n"
     ]
    },
    {
     "data": {
      "application/vnd.jupyter.widget-view+json": {
       "model_id": "6cb1af06b01a4625a689a3f3856f340f",
       "version_major": 2,
       "version_minor": 0
      },
      "text/plain": [
       "HBox(children=(IntProgress(value=0, description='users', max=23, style=ProgressStyle(description_width='initia…"
      ]
     },
     "metadata": {},
     "output_type": "display_data"
    },
    {
     "name": "stdout",
     "output_type": "stream",
     "text": [
      "skipping userAE30\n"
     ]
    },
    {
     "data": {
      "application/vnd.jupyter.widget-view+json": {
       "model_id": "597ca8492eda48dbb8d59de6d53685ab",
       "version_major": 2,
       "version_minor": 0
      },
      "text/plain": [
       "HBox(children=(IntProgress(value=0, description='users', max=23, style=ProgressStyle(description_width='initia…"
      ]
     },
     "metadata": {},
     "output_type": "display_data"
    },
    {
     "name": "stdout",
     "output_type": "stream",
     "text": [
      "skipping userAE30\n"
     ]
    },
    {
     "data": {
      "application/vnd.jupyter.widget-view+json": {
       "model_id": "e29d7e843db84ca39660a7f7d80116fd",
       "version_major": 2,
       "version_minor": 0
      },
      "text/plain": [
       "HBox(children=(IntProgress(value=0, description='users', max=23, style=ProgressStyle(description_width='initia…"
      ]
     },
     "metadata": {},
     "output_type": "display_data"
    },
    {
     "name": "stdout",
     "output_type": "stream",
     "text": [
      "skipping userAE30\n"
     ]
    },
    {
     "data": {
      "application/vnd.jupyter.widget-view+json": {
       "model_id": "5951b1ce803b41c9b82ecc802e63187e",
       "version_major": 2,
       "version_minor": 0
      },
      "text/plain": [
       "HBox(children=(IntProgress(value=0, description='users', max=23, style=ProgressStyle(description_width='initia…"
      ]
     },
     "metadata": {},
     "output_type": "display_data"
    },
    {
     "name": "stdout",
     "output_type": "stream",
     "text": [
      "skipping userAE30\n"
     ]
    },
    {
     "data": {
      "application/vnd.jupyter.widget-view+json": {
       "model_id": "c5ff002f7dde4a40836a8ecd7611fea8",
       "version_major": 2,
       "version_minor": 0
      },
      "text/plain": [
       "HBox(children=(IntProgress(value=0, description='users', max=23, style=ProgressStyle(description_width='initia…"
      ]
     },
     "metadata": {},
     "output_type": "display_data"
    },
    {
     "name": "stdout",
     "output_type": "stream",
     "text": [
      "skipping userAE30\n"
     ]
    },
    {
     "data": {
      "application/vnd.jupyter.widget-view+json": {
       "model_id": "eee214f531294574aec946fb355fec56",
       "version_major": 2,
       "version_minor": 0
      },
      "text/plain": [
       "HBox(children=(IntProgress(value=0, description='users', max=23, style=ProgressStyle(description_width='initia…"
      ]
     },
     "metadata": {},
     "output_type": "display_data"
    },
    {
     "name": "stdout",
     "output_type": "stream",
     "text": [
      "skipping userAE30\n"
     ]
    },
    {
     "data": {
      "application/vnd.jupyter.widget-view+json": {
       "model_id": "5d73cb3e918446c88e637c65a4fbd4ed",
       "version_major": 2,
       "version_minor": 0
      },
      "text/plain": [
       "HBox(children=(IntProgress(value=0, description='users', max=23, style=ProgressStyle(description_width='initia…"
      ]
     },
     "metadata": {},
     "output_type": "display_data"
    },
    {
     "name": "stdout",
     "output_type": "stream",
     "text": [
      "skipping userAE30\n"
     ]
    },
    {
     "data": {
      "application/vnd.jupyter.widget-view+json": {
       "model_id": "3f1d2e4330894253b2846a1b20bd98e2",
       "version_major": 2,
       "version_minor": 0
      },
      "text/plain": [
       "HBox(children=(IntProgress(value=0, description='users', max=23, style=ProgressStyle(description_width='initia…"
      ]
     },
     "metadata": {},
     "output_type": "display_data"
    },
    {
     "name": "stdout",
     "output_type": "stream",
     "text": [
      "skipping userAE30\n"
     ]
    },
    {
     "data": {
      "application/vnd.jupyter.widget-view+json": {
       "model_id": "6f05e7de90614f35a2e24abb372d0f81",
       "version_major": 2,
       "version_minor": 0
      },
      "text/plain": [
       "HBox(children=(IntProgress(value=0, description='users', max=23, style=ProgressStyle(description_width='initia…"
      ]
     },
     "metadata": {},
     "output_type": "display_data"
    },
    {
     "name": "stdout",
     "output_type": "stream",
     "text": [
      "skipping userAE30\n"
     ]
    },
    {
     "data": {
      "application/vnd.jupyter.widget-view+json": {
       "model_id": "c680b7cea1514180b3a453add8a505ac",
       "version_major": 2,
       "version_minor": 0
      },
      "text/plain": [
       "HBox(children=(IntProgress(value=0, description='users', max=23, style=ProgressStyle(description_width='initia…"
      ]
     },
     "metadata": {},
     "output_type": "display_data"
    },
    {
     "name": "stdout",
     "output_type": "stream",
     "text": [
      "skipping userAE30\n"
     ]
    },
    {
     "data": {
      "application/vnd.jupyter.widget-view+json": {
       "model_id": "aa15e31fd7af4074a2d48f1474ffd5ee",
       "version_major": 2,
       "version_minor": 0
      },
      "text/plain": [
       "HBox(children=(IntProgress(value=0, description='users', max=23, style=ProgressStyle(description_width='initia…"
      ]
     },
     "metadata": {},
     "output_type": "display_data"
    },
    {
     "name": "stdout",
     "output_type": "stream",
     "text": [
      "skipping userAE30\n"
     ]
    },
    {
     "data": {
      "application/vnd.jupyter.widget-view+json": {
       "model_id": "df86a404a15b4674b198cc0180ad5650",
       "version_major": 2,
       "version_minor": 0
      },
      "text/plain": [
       "HBox(children=(IntProgress(value=0, description='users', max=23, style=ProgressStyle(description_width='initia…"
      ]
     },
     "metadata": {},
     "output_type": "display_data"
    },
    {
     "name": "stdout",
     "output_type": "stream",
     "text": [
      "skipping userAE30\n"
     ]
    },
    {
     "data": {
      "application/vnd.jupyter.widget-view+json": {
       "model_id": "d5440386148848bab0c74e6d86464cbc",
       "version_major": 2,
       "version_minor": 0
      },
      "text/plain": [
       "HBox(children=(IntProgress(value=0, description='users', max=23, style=ProgressStyle(description_width='initia…"
      ]
     },
     "metadata": {},
     "output_type": "display_data"
    },
    {
     "name": "stdout",
     "output_type": "stream",
     "text": [
      "skipping userAE30\n",
      "skipped #714 image generations\n"
     ]
    },
    {
     "data": {
      "application/vnd.jupyter.widget-view+json": {
       "model_id": "",
       "version_major": 2,
       "version_minor": 0
      },
      "text/plain": [
       "HBox(children=(IntProgress(value=0, description='gestures', max=31, style=ProgressStyle(description_width='ini…"
      ]
     },
     "metadata": {},
     "output_type": "display_data"
    },
    {
     "data": {
      "application/vnd.jupyter.widget-view+json": {
       "model_id": "853674a539f64414a05864ac2e420021",
       "version_major": 2,
       "version_minor": 0
      },
      "text/plain": [
       "HBox(children=(IntProgress(value=0, description='users', max=23, style=ProgressStyle(description_width='initia…"
      ]
     },
     "metadata": {},
     "output_type": "display_data"
    },
    {
     "name": "stdout",
     "output_type": "stream",
     "text": [
      "skipping userAE30\n"
     ]
    },
    {
     "data": {
      "application/vnd.jupyter.widget-view+json": {
       "model_id": "4a282d1131af47c5a101d6224354e6c4",
       "version_major": 2,
       "version_minor": 0
      },
      "text/plain": [
       "HBox(children=(IntProgress(value=0, description='users', max=23, style=ProgressStyle(description_width='initia…"
      ]
     },
     "metadata": {},
     "output_type": "display_data"
    },
    {
     "name": "stdout",
     "output_type": "stream",
     "text": [
      "skipping userAE30\n"
     ]
    },
    {
     "data": {
      "application/vnd.jupyter.widget-view+json": {
       "model_id": "3e2458a6c9154682b7f8917e0713bc0e",
       "version_major": 2,
       "version_minor": 0
      },
      "text/plain": [
       "HBox(children=(IntProgress(value=0, description='users', max=23, style=ProgressStyle(description_width='initia…"
      ]
     },
     "metadata": {},
     "output_type": "display_data"
    },
    {
     "name": "stdout",
     "output_type": "stream",
     "text": [
      "skipping userAE30\n"
     ]
    },
    {
     "data": {
      "application/vnd.jupyter.widget-view+json": {
       "model_id": "3fcf008f134349f4b1814393a835a514",
       "version_major": 2,
       "version_minor": 0
      },
      "text/plain": [
       "HBox(children=(IntProgress(value=0, description='users', max=23, style=ProgressStyle(description_width='initia…"
      ]
     },
     "metadata": {},
     "output_type": "display_data"
    },
    {
     "name": "stdout",
     "output_type": "stream",
     "text": [
      "skipping userAE30\n"
     ]
    },
    {
     "data": {
      "application/vnd.jupyter.widget-view+json": {
       "model_id": "5b170b12ee7c4611a6cfdbbddd3b84f5",
       "version_major": 2,
       "version_minor": 0
      },
      "text/plain": [
       "HBox(children=(IntProgress(value=0, description='users', max=23, style=ProgressStyle(description_width='initia…"
      ]
     },
     "metadata": {},
     "output_type": "display_data"
    },
    {
     "name": "stdout",
     "output_type": "stream",
     "text": [
      "skipping userAE30\n"
     ]
    },
    {
     "data": {
      "application/vnd.jupyter.widget-view+json": {
       "model_id": "9ce67d2aa17f4ac39f3d676cf17594e7",
       "version_major": 2,
       "version_minor": 0
      },
      "text/plain": [
       "HBox(children=(IntProgress(value=0, description='users', max=23, style=ProgressStyle(description_width='initia…"
      ]
     },
     "metadata": {},
     "output_type": "display_data"
    },
    {
     "name": "stdout",
     "output_type": "stream",
     "text": [
      "skipping userAE30\n"
     ]
    },
    {
     "data": {
      "application/vnd.jupyter.widget-view+json": {
       "model_id": "f10359bb0cdb4db595c0879270927e37",
       "version_major": 2,
       "version_minor": 0
      },
      "text/plain": [
       "HBox(children=(IntProgress(value=0, description='users', max=23, style=ProgressStyle(description_width='initia…"
      ]
     },
     "metadata": {},
     "output_type": "display_data"
    },
    {
     "name": "stdout",
     "output_type": "stream",
     "text": [
      "skipping userAE30\n"
     ]
    },
    {
     "data": {
      "application/vnd.jupyter.widget-view+json": {
       "model_id": "dc35591b65bd497bbd5d36fc4abf489f",
       "version_major": 2,
       "version_minor": 0
      },
      "text/plain": [
       "HBox(children=(IntProgress(value=0, description='users', max=23, style=ProgressStyle(description_width='initia…"
      ]
     },
     "metadata": {},
     "output_type": "display_data"
    },
    {
     "name": "stdout",
     "output_type": "stream",
     "text": [
      "skipping userAE30\n"
     ]
    },
    {
     "data": {
      "application/vnd.jupyter.widget-view+json": {
       "model_id": "ced0ee009bd5432fb06a66d23291b0ab",
       "version_major": 2,
       "version_minor": 0
      },
      "text/plain": [
       "HBox(children=(IntProgress(value=0, description='users', max=23, style=ProgressStyle(description_width='initia…"
      ]
     },
     "metadata": {},
     "output_type": "display_data"
    },
    {
     "name": "stdout",
     "output_type": "stream",
     "text": [
      "skipping userAE30\n"
     ]
    },
    {
     "data": {
      "application/vnd.jupyter.widget-view+json": {
       "model_id": "69307cd2d9b24499925148a883ba8a60",
       "version_major": 2,
       "version_minor": 0
      },
      "text/plain": [
       "HBox(children=(IntProgress(value=0, description='users', max=23, style=ProgressStyle(description_width='initia…"
      ]
     },
     "metadata": {},
     "output_type": "display_data"
    },
    {
     "name": "stdout",
     "output_type": "stream",
     "text": [
      "skipping userAE30\n"
     ]
    },
    {
     "data": {
      "application/vnd.jupyter.widget-view+json": {
       "model_id": "f131078053554631a86c32776543e58e",
       "version_major": 2,
       "version_minor": 0
      },
      "text/plain": [
       "HBox(children=(IntProgress(value=0, description='users', max=23, style=ProgressStyle(description_width='initia…"
      ]
     },
     "metadata": {},
     "output_type": "display_data"
    },
    {
     "name": "stdout",
     "output_type": "stream",
     "text": [
      "skipping userAE30\n"
     ]
    },
    {
     "data": {
      "application/vnd.jupyter.widget-view+json": {
       "model_id": "f574455da15b46928d64cc9e730a2cf3",
       "version_major": 2,
       "version_minor": 0
      },
      "text/plain": [
       "HBox(children=(IntProgress(value=0, description='users', max=23, style=ProgressStyle(description_width='initia…"
      ]
     },
     "metadata": {},
     "output_type": "display_data"
    },
    {
     "name": "stdout",
     "output_type": "stream",
     "text": [
      "skipping userAE30\n"
     ]
    },
    {
     "data": {
      "application/vnd.jupyter.widget-view+json": {
       "model_id": "aec66c0b19b64c1eb1d90423d020f8fd",
       "version_major": 2,
       "version_minor": 0
      },
      "text/plain": [
       "HBox(children=(IntProgress(value=0, description='users', max=23, style=ProgressStyle(description_width='initia…"
      ]
     },
     "metadata": {},
     "output_type": "display_data"
    },
    {
     "name": "stdout",
     "output_type": "stream",
     "text": [
      "skipping userAE30\n"
     ]
    },
    {
     "data": {
      "application/vnd.jupyter.widget-view+json": {
       "model_id": "a07e90cf3de1494d9eaec61fa71f07d4",
       "version_major": 2,
       "version_minor": 0
      },
      "text/plain": [
       "HBox(children=(IntProgress(value=0, description='users', max=23, style=ProgressStyle(description_width='initia…"
      ]
     },
     "metadata": {},
     "output_type": "display_data"
    },
    {
     "name": "stdout",
     "output_type": "stream",
     "text": [
      "skipping userAE30\n"
     ]
    },
    {
     "data": {
      "application/vnd.jupyter.widget-view+json": {
       "model_id": "45006273920f41afa8bd742c612515ec",
       "version_major": 2,
       "version_minor": 0
      },
      "text/plain": [
       "HBox(children=(IntProgress(value=0, description='users', max=23, style=ProgressStyle(description_width='initia…"
      ]
     },
     "metadata": {},
     "output_type": "display_data"
    },
    {
     "name": "stdout",
     "output_type": "stream",
     "text": [
      "skipping userAE30\n"
     ]
    },
    {
     "data": {
      "application/vnd.jupyter.widget-view+json": {
       "model_id": "de0ac862a30e48c0a7c775d4ba4d290d",
       "version_major": 2,
       "version_minor": 0
      },
      "text/plain": [
       "HBox(children=(IntProgress(value=0, description='users', max=23, style=ProgressStyle(description_width='initia…"
      ]
     },
     "metadata": {},
     "output_type": "display_data"
    },
    {
     "name": "stdout",
     "output_type": "stream",
     "text": [
      "skipping userAE30\n"
     ]
    },
    {
     "data": {
      "application/vnd.jupyter.widget-view+json": {
       "model_id": "949d677147504396809ec83a1d538b28",
       "version_major": 2,
       "version_minor": 0
      },
      "text/plain": [
       "HBox(children=(IntProgress(value=0, description='users', max=23, style=ProgressStyle(description_width='initia…"
      ]
     },
     "metadata": {},
     "output_type": "display_data"
    },
    {
     "name": "stdout",
     "output_type": "stream",
     "text": [
      "skipping userAE30\n"
     ]
    },
    {
     "data": {
      "application/vnd.jupyter.widget-view+json": {
       "model_id": "b933038a7fa54f8f91b2c85951c99c47",
       "version_major": 2,
       "version_minor": 0
      },
      "text/plain": [
       "HBox(children=(IntProgress(value=0, description='users', max=23, style=ProgressStyle(description_width='initia…"
      ]
     },
     "metadata": {},
     "output_type": "display_data"
    },
    {
     "name": "stdout",
     "output_type": "stream",
     "text": [
      "skipping userAE30\n"
     ]
    },
    {
     "data": {
      "application/vnd.jupyter.widget-view+json": {
       "model_id": "16e0ab19f1234a2cb14bd0d34705ce65",
       "version_major": 2,
       "version_minor": 0
      },
      "text/plain": [
       "HBox(children=(IntProgress(value=0, description='users', max=23, style=ProgressStyle(description_width='initia…"
      ]
     },
     "metadata": {},
     "output_type": "display_data"
    },
    {
     "name": "stdout",
     "output_type": "stream",
     "text": [
      "skipping userAE30\n"
     ]
    },
    {
     "data": {
      "application/vnd.jupyter.widget-view+json": {
       "model_id": "e3a69eb35b8c44ff800a4dc2a21e6449",
       "version_major": 2,
       "version_minor": 0
      },
      "text/plain": [
       "HBox(children=(IntProgress(value=0, description='users', max=23, style=ProgressStyle(description_width='initia…"
      ]
     },
     "metadata": {},
     "output_type": "display_data"
    },
    {
     "name": "stdout",
     "output_type": "stream",
     "text": [
      "skipping userAE30\n"
     ]
    },
    {
     "data": {
      "application/vnd.jupyter.widget-view+json": {
       "model_id": "555884b4f07f45b28f65229d30df09fc",
       "version_major": 2,
       "version_minor": 0
      },
      "text/plain": [
       "HBox(children=(IntProgress(value=0, description='users', max=23, style=ProgressStyle(description_width='initia…"
      ]
     },
     "metadata": {},
     "output_type": "display_data"
    },
    {
     "name": "stdout",
     "output_type": "stream",
     "text": [
      "skipping userAE30\n"
     ]
    },
    {
     "data": {
      "application/vnd.jupyter.widget-view+json": {
       "model_id": "fa22869be9e84b058c6f4b020830a24e",
       "version_major": 2,
       "version_minor": 0
      },
      "text/plain": [
       "HBox(children=(IntProgress(value=0, description='users', max=23, style=ProgressStyle(description_width='initia…"
      ]
     },
     "metadata": {},
     "output_type": "display_data"
    },
    {
     "name": "stdout",
     "output_type": "stream",
     "text": [
      "skipping userAE30\n"
     ]
    },
    {
     "data": {
      "application/vnd.jupyter.widget-view+json": {
       "model_id": "65461f11ad214bfaa27832ff37587346",
       "version_major": 2,
       "version_minor": 0
      },
      "text/plain": [
       "HBox(children=(IntProgress(value=0, description='users', max=23, style=ProgressStyle(description_width='initia…"
      ]
     },
     "metadata": {},
     "output_type": "display_data"
    },
    {
     "name": "stdout",
     "output_type": "stream",
     "text": [
      "skipping userAE30\n"
     ]
    },
    {
     "data": {
      "application/vnd.jupyter.widget-view+json": {
       "model_id": "f30e962209904c63bd0061009e646e09",
       "version_major": 2,
       "version_minor": 0
      },
      "text/plain": [
       "HBox(children=(IntProgress(value=0, description='users', max=23, style=ProgressStyle(description_width='initia…"
      ]
     },
     "metadata": {},
     "output_type": "display_data"
    },
    {
     "name": "stdout",
     "output_type": "stream",
     "text": [
      "skipping userAE30\n"
     ]
    },
    {
     "data": {
      "application/vnd.jupyter.widget-view+json": {
       "model_id": "a0f38c013edf4252afcf89f06f00ab6e",
       "version_major": 2,
       "version_minor": 0
      },
      "text/plain": [
       "HBox(children=(IntProgress(value=0, description='users', max=23, style=ProgressStyle(description_width='initia…"
      ]
     },
     "metadata": {},
     "output_type": "display_data"
    },
    {
     "name": "stdout",
     "output_type": "stream",
     "text": [
      "skipping userAE30\n"
     ]
    },
    {
     "data": {
      "application/vnd.jupyter.widget-view+json": {
       "model_id": "af1dd91be608426e85c6606235f5f8f4",
       "version_major": 2,
       "version_minor": 0
      },
      "text/plain": [
       "HBox(children=(IntProgress(value=0, description='users', max=23, style=ProgressStyle(description_width='initia…"
      ]
     },
     "metadata": {},
     "output_type": "display_data"
    },
    {
     "name": "stdout",
     "output_type": "stream",
     "text": [
      "skipping userAE30\n"
     ]
    },
    {
     "data": {
      "application/vnd.jupyter.widget-view+json": {
       "model_id": "744f1f3d9e624655bc41feea272be9a7",
       "version_major": 2,
       "version_minor": 0
      },
      "text/plain": [
       "HBox(children=(IntProgress(value=0, description='users', max=23, style=ProgressStyle(description_width='initia…"
      ]
     },
     "metadata": {},
     "output_type": "display_data"
    },
    {
     "name": "stdout",
     "output_type": "stream",
     "text": [
      "skipping userAE30\n"
     ]
    },
    {
     "data": {
      "application/vnd.jupyter.widget-view+json": {
       "model_id": "1802d34652ac4625bf0487358c580960",
       "version_major": 2,
       "version_minor": 0
      },
      "text/plain": [
       "HBox(children=(IntProgress(value=0, description='users', max=23, style=ProgressStyle(description_width='initia…"
      ]
     },
     "metadata": {},
     "output_type": "display_data"
    },
    {
     "name": "stdout",
     "output_type": "stream",
     "text": [
      "skipping userAE30\n"
     ]
    },
    {
     "data": {
      "application/vnd.jupyter.widget-view+json": {
       "model_id": "1bfdcb9bfa87448aa94147a60bd9435f",
       "version_major": 2,
       "version_minor": 0
      },
      "text/plain": [
       "HBox(children=(IntProgress(value=0, description='users', max=23, style=ProgressStyle(description_width='initia…"
      ]
     },
     "metadata": {},
     "output_type": "display_data"
    },
    {
     "name": "stdout",
     "output_type": "stream",
     "text": [
      "skipping userAE30\n"
     ]
    },
    {
     "data": {
      "application/vnd.jupyter.widget-view+json": {
       "model_id": "b57a951868be403c9c954d98408b723f",
       "version_major": 2,
       "version_minor": 0
      },
      "text/plain": [
       "HBox(children=(IntProgress(value=0, description='users', max=23, style=ProgressStyle(description_width='initia…"
      ]
     },
     "metadata": {},
     "output_type": "display_data"
    },
    {
     "name": "stdout",
     "output_type": "stream",
     "text": [
      "skipping userAE30\n"
     ]
    },
    {
     "data": {
      "application/vnd.jupyter.widget-view+json": {
       "model_id": "02250217f9844fac80144356de7a6aac",
       "version_major": 2,
       "version_minor": 0
      },
      "text/plain": [
       "HBox(children=(IntProgress(value=0, description='users', max=23, style=ProgressStyle(description_width='initia…"
      ]
     },
     "metadata": {},
     "output_type": "display_data"
    },
    {
     "name": "stdout",
     "output_type": "stream",
     "text": [
      "skipping userAE30\n",
      "skipped #714 image generations\n"
     ]
    },
    {
     "data": {
      "application/vnd.jupyter.widget-view+json": {
       "model_id": "",
       "version_major": 2,
       "version_minor": 0
      },
      "text/plain": [
       "HBox(children=(IntProgress(value=0, description='gestures', max=31, style=ProgressStyle(description_width='ini…"
      ]
     },
     "metadata": {},
     "output_type": "display_data"
    },
    {
     "data": {
      "application/vnd.jupyter.widget-view+json": {
       "model_id": "ae72be72fff0409e8b941d92fdcd76b1",
       "version_major": 2,
       "version_minor": 0
      },
      "text/plain": [
       "HBox(children=(IntProgress(value=0, description='users', max=23, style=ProgressStyle(description_width='initia…"
      ]
     },
     "metadata": {},
     "output_type": "display_data"
    },
    {
     "name": "stdout",
     "output_type": "stream",
     "text": [
      "skipping userAE30\n"
     ]
    },
    {
     "data": {
      "application/vnd.jupyter.widget-view+json": {
       "model_id": "9aef76bd25fd4a039b6759eb2e5d2326",
       "version_major": 2,
       "version_minor": 0
      },
      "text/plain": [
       "HBox(children=(IntProgress(value=0, description='users', max=23, style=ProgressStyle(description_width='initia…"
      ]
     },
     "metadata": {},
     "output_type": "display_data"
    },
    {
     "name": "stdout",
     "output_type": "stream",
     "text": [
      "skipping userAE30\n"
     ]
    },
    {
     "data": {
      "application/vnd.jupyter.widget-view+json": {
       "model_id": "84e6828b3c264e518cdfe75e7383a123",
       "version_major": 2,
       "version_minor": 0
      },
      "text/plain": [
       "HBox(children=(IntProgress(value=0, description='users', max=23, style=ProgressStyle(description_width='initia…"
      ]
     },
     "metadata": {},
     "output_type": "display_data"
    },
    {
     "name": "stdout",
     "output_type": "stream",
     "text": [
      "skipping userAE30\n"
     ]
    },
    {
     "data": {
      "application/vnd.jupyter.widget-view+json": {
       "model_id": "0a0f6d319d6d45948dedc9675e0604c0",
       "version_major": 2,
       "version_minor": 0
      },
      "text/plain": [
       "HBox(children=(IntProgress(value=0, description='users', max=23, style=ProgressStyle(description_width='initia…"
      ]
     },
     "metadata": {},
     "output_type": "display_data"
    },
    {
     "name": "stdout",
     "output_type": "stream",
     "text": [
      "skipping userAE30\n"
     ]
    },
    {
     "data": {
      "application/vnd.jupyter.widget-view+json": {
       "model_id": "1df43aad001c4ed2b73b0abf62bb5bb4",
       "version_major": 2,
       "version_minor": 0
      },
      "text/plain": [
       "HBox(children=(IntProgress(value=0, description='users', max=23, style=ProgressStyle(description_width='initia…"
      ]
     },
     "metadata": {},
     "output_type": "display_data"
    },
    {
     "name": "stdout",
     "output_type": "stream",
     "text": [
      "skipping userAE30\n"
     ]
    },
    {
     "data": {
      "application/vnd.jupyter.widget-view+json": {
       "model_id": "04792c82944c4c2d920e3df85f7f5a73",
       "version_major": 2,
       "version_minor": 0
      },
      "text/plain": [
       "HBox(children=(IntProgress(value=0, description='users', max=23, style=ProgressStyle(description_width='initia…"
      ]
     },
     "metadata": {},
     "output_type": "display_data"
    },
    {
     "name": "stdout",
     "output_type": "stream",
     "text": [
      "skipping userAE30\n"
     ]
    },
    {
     "data": {
      "application/vnd.jupyter.widget-view+json": {
       "model_id": "3ad96dc88dea421694886ae20fee874a",
       "version_major": 2,
       "version_minor": 0
      },
      "text/plain": [
       "HBox(children=(IntProgress(value=0, description='users', max=23, style=ProgressStyle(description_width='initia…"
      ]
     },
     "metadata": {},
     "output_type": "display_data"
    },
    {
     "name": "stdout",
     "output_type": "stream",
     "text": [
      "skipping userAE30\n"
     ]
    },
    {
     "data": {
      "application/vnd.jupyter.widget-view+json": {
       "model_id": "fd64ad61776d4aa2a5856ec8e2f50721",
       "version_major": 2,
       "version_minor": 0
      },
      "text/plain": [
       "HBox(children=(IntProgress(value=0, description='users', max=23, style=ProgressStyle(description_width='initia…"
      ]
     },
     "metadata": {},
     "output_type": "display_data"
    },
    {
     "name": "stdout",
     "output_type": "stream",
     "text": [
      "skipping userAE30\n"
     ]
    },
    {
     "data": {
      "application/vnd.jupyter.widget-view+json": {
       "model_id": "4e66d44b3e574578af7fedd0f4005496",
       "version_major": 2,
       "version_minor": 0
      },
      "text/plain": [
       "HBox(children=(IntProgress(value=0, description='users', max=23, style=ProgressStyle(description_width='initia…"
      ]
     },
     "metadata": {},
     "output_type": "display_data"
    },
    {
     "name": "stdout",
     "output_type": "stream",
     "text": [
      "skipping userAE30\n"
     ]
    },
    {
     "data": {
      "application/vnd.jupyter.widget-view+json": {
       "model_id": "aa357cfd69e0477a9cd1487a0d99d6fb",
       "version_major": 2,
       "version_minor": 0
      },
      "text/plain": [
       "HBox(children=(IntProgress(value=0, description='users', max=23, style=ProgressStyle(description_width='initia…"
      ]
     },
     "metadata": {},
     "output_type": "display_data"
    },
    {
     "name": "stdout",
     "output_type": "stream",
     "text": [
      "skipping userAE30\n"
     ]
    },
    {
     "data": {
      "application/vnd.jupyter.widget-view+json": {
       "model_id": "cdc6394334e04949aa6f034adebffc4b",
       "version_major": 2,
       "version_minor": 0
      },
      "text/plain": [
       "HBox(children=(IntProgress(value=0, description='users', max=23, style=ProgressStyle(description_width='initia…"
      ]
     },
     "metadata": {},
     "output_type": "display_data"
    },
    {
     "name": "stdout",
     "output_type": "stream",
     "text": [
      "skipping userAE30\n"
     ]
    },
    {
     "data": {
      "application/vnd.jupyter.widget-view+json": {
       "model_id": "91b96b48ae6d48b2ad3bc61c8a477a71",
       "version_major": 2,
       "version_minor": 0
      },
      "text/plain": [
       "HBox(children=(IntProgress(value=0, description='users', max=23, style=ProgressStyle(description_width='initia…"
      ]
     },
     "metadata": {},
     "output_type": "display_data"
    },
    {
     "name": "stdout",
     "output_type": "stream",
     "text": [
      "skipping userAE30\n"
     ]
    },
    {
     "data": {
      "application/vnd.jupyter.widget-view+json": {
       "model_id": "0f333dc101f049f8958047e170914c0a",
       "version_major": 2,
       "version_minor": 0
      },
      "text/plain": [
       "HBox(children=(IntProgress(value=0, description='users', max=23, style=ProgressStyle(description_width='initia…"
      ]
     },
     "metadata": {},
     "output_type": "display_data"
    },
    {
     "name": "stdout",
     "output_type": "stream",
     "text": [
      "skipping userAE30\n"
     ]
    },
    {
     "data": {
      "application/vnd.jupyter.widget-view+json": {
       "model_id": "36b764ce147e466a81bd1f0f050525e7",
       "version_major": 2,
       "version_minor": 0
      },
      "text/plain": [
       "HBox(children=(IntProgress(value=0, description='users', max=23, style=ProgressStyle(description_width='initia…"
      ]
     },
     "metadata": {},
     "output_type": "display_data"
    },
    {
     "name": "stdout",
     "output_type": "stream",
     "text": [
      "skipping userAE30\n"
     ]
    },
    {
     "data": {
      "application/vnd.jupyter.widget-view+json": {
       "model_id": "f9bccf43cf054cd08f8b014cd1450087",
       "version_major": 2,
       "version_minor": 0
      },
      "text/plain": [
       "HBox(children=(IntProgress(value=0, description='users', max=23, style=ProgressStyle(description_width='initia…"
      ]
     },
     "metadata": {},
     "output_type": "display_data"
    },
    {
     "name": "stdout",
     "output_type": "stream",
     "text": [
      "skipping userAE30\n"
     ]
    },
    {
     "data": {
      "application/vnd.jupyter.widget-view+json": {
       "model_id": "9093bb801130428592d987151eec7511",
       "version_major": 2,
       "version_minor": 0
      },
      "text/plain": [
       "HBox(children=(IntProgress(value=0, description='users', max=23, style=ProgressStyle(description_width='initia…"
      ]
     },
     "metadata": {},
     "output_type": "display_data"
    },
    {
     "name": "stdout",
     "output_type": "stream",
     "text": [
      "skipping userAE30\n"
     ]
    },
    {
     "data": {
      "application/vnd.jupyter.widget-view+json": {
       "model_id": "2dd6626612a54f35811d7d773e380704",
       "version_major": 2,
       "version_minor": 0
      },
      "text/plain": [
       "HBox(children=(IntProgress(value=0, description='users', max=23, style=ProgressStyle(description_width='initia…"
      ]
     },
     "metadata": {},
     "output_type": "display_data"
    },
    {
     "name": "stdout",
     "output_type": "stream",
     "text": [
      "skipping userAE30\n"
     ]
    },
    {
     "data": {
      "application/vnd.jupyter.widget-view+json": {
       "model_id": "cc6de0d769a2447c88596f55624c4b82",
       "version_major": 2,
       "version_minor": 0
      },
      "text/plain": [
       "HBox(children=(IntProgress(value=0, description='users', max=23, style=ProgressStyle(description_width='initia…"
      ]
     },
     "metadata": {},
     "output_type": "display_data"
    },
    {
     "name": "stdout",
     "output_type": "stream",
     "text": [
      "skipping userAE30\n"
     ]
    },
    {
     "data": {
      "application/vnd.jupyter.widget-view+json": {
       "model_id": "33aa52f62565416486353826b9cd5a9c",
       "version_major": 2,
       "version_minor": 0
      },
      "text/plain": [
       "HBox(children=(IntProgress(value=0, description='users', max=23, style=ProgressStyle(description_width='initia…"
      ]
     },
     "metadata": {},
     "output_type": "display_data"
    },
    {
     "name": "stdout",
     "output_type": "stream",
     "text": [
      "skipping userAE30\n"
     ]
    },
    {
     "data": {
      "application/vnd.jupyter.widget-view+json": {
       "model_id": "07bfeae222eb4f5f864c7aaea61eedfc",
       "version_major": 2,
       "version_minor": 0
      },
      "text/plain": [
       "HBox(children=(IntProgress(value=0, description='users', max=23, style=ProgressStyle(description_width='initia…"
      ]
     },
     "metadata": {},
     "output_type": "display_data"
    },
    {
     "name": "stdout",
     "output_type": "stream",
     "text": [
      "skipping userAE30\n"
     ]
    },
    {
     "data": {
      "application/vnd.jupyter.widget-view+json": {
       "model_id": "bdf98aac2feb43cd80630cf8e091f63d",
       "version_major": 2,
       "version_minor": 0
      },
      "text/plain": [
       "HBox(children=(IntProgress(value=0, description='users', max=23, style=ProgressStyle(description_width='initia…"
      ]
     },
     "metadata": {},
     "output_type": "display_data"
    },
    {
     "name": "stdout",
     "output_type": "stream",
     "text": [
      "skipping userAE30\n"
     ]
    },
    {
     "data": {
      "application/vnd.jupyter.widget-view+json": {
       "model_id": "18775ea9ba7a499e9b75e963eda32754",
       "version_major": 2,
       "version_minor": 0
      },
      "text/plain": [
       "HBox(children=(IntProgress(value=0, description='users', max=23, style=ProgressStyle(description_width='initia…"
      ]
     },
     "metadata": {},
     "output_type": "display_data"
    },
    {
     "name": "stdout",
     "output_type": "stream",
     "text": [
      "skipping userAE30\n"
     ]
    },
    {
     "data": {
      "application/vnd.jupyter.widget-view+json": {
       "model_id": "485f16bd88284ab68c26cf82785d8adb",
       "version_major": 2,
       "version_minor": 0
      },
      "text/plain": [
       "HBox(children=(IntProgress(value=0, description='users', max=23, style=ProgressStyle(description_width='initia…"
      ]
     },
     "metadata": {},
     "output_type": "display_data"
    },
    {
     "name": "stdout",
     "output_type": "stream",
     "text": [
      "skipping userAE30\n"
     ]
    },
    {
     "data": {
      "application/vnd.jupyter.widget-view+json": {
       "model_id": "b0bdc768fc5d4f879d6f1fd1d59e73db",
       "version_major": 2,
       "version_minor": 0
      },
      "text/plain": [
       "HBox(children=(IntProgress(value=0, description='users', max=23, style=ProgressStyle(description_width='initia…"
      ]
     },
     "metadata": {},
     "output_type": "display_data"
    },
    {
     "name": "stdout",
     "output_type": "stream",
     "text": [
      "skipping userAE30\n"
     ]
    },
    {
     "data": {
      "application/vnd.jupyter.widget-view+json": {
       "model_id": "5a1d571c6b8a4760a8f820ff83d586f6",
       "version_major": 2,
       "version_minor": 0
      },
      "text/plain": [
       "HBox(children=(IntProgress(value=0, description='users', max=23, style=ProgressStyle(description_width='initia…"
      ]
     },
     "metadata": {},
     "output_type": "display_data"
    },
    {
     "name": "stdout",
     "output_type": "stream",
     "text": [
      "skipping userAE30\n"
     ]
    },
    {
     "data": {
      "application/vnd.jupyter.widget-view+json": {
       "model_id": "106ce831fee946e780dbcd0073159cbb",
       "version_major": 2,
       "version_minor": 0
      },
      "text/plain": [
       "HBox(children=(IntProgress(value=0, description='users', max=23, style=ProgressStyle(description_width='initia…"
      ]
     },
     "metadata": {},
     "output_type": "display_data"
    },
    {
     "name": "stdout",
     "output_type": "stream",
     "text": [
      "skipping userAE30\n"
     ]
    },
    {
     "data": {
      "application/vnd.jupyter.widget-view+json": {
       "model_id": "14e69265b56848358ab46d917e04e5ec",
       "version_major": 2,
       "version_minor": 0
      },
      "text/plain": [
       "HBox(children=(IntProgress(value=0, description='users', max=23, style=ProgressStyle(description_width='initia…"
      ]
     },
     "metadata": {},
     "output_type": "display_data"
    },
    {
     "name": "stdout",
     "output_type": "stream",
     "text": [
      "skipping userAE30\n"
     ]
    },
    {
     "data": {
      "application/vnd.jupyter.widget-view+json": {
       "model_id": "a3b647490c1c4a0783d8ef7a4a370709",
       "version_major": 2,
       "version_minor": 0
      },
      "text/plain": [
       "HBox(children=(IntProgress(value=0, description='users', max=23, style=ProgressStyle(description_width='initia…"
      ]
     },
     "metadata": {},
     "output_type": "display_data"
    },
    {
     "name": "stdout",
     "output_type": "stream",
     "text": [
      "skipping userAE30\n"
     ]
    },
    {
     "data": {
      "application/vnd.jupyter.widget-view+json": {
       "model_id": "179a75ae1e8743efbddbbbe62083b46a",
       "version_major": 2,
       "version_minor": 0
      },
      "text/plain": [
       "HBox(children=(IntProgress(value=0, description='users', max=23, style=ProgressStyle(description_width='initia…"
      ]
     },
     "metadata": {},
     "output_type": "display_data"
    },
    {
     "name": "stdout",
     "output_type": "stream",
     "text": [
      "skipping userAE30\n"
     ]
    },
    {
     "data": {
      "application/vnd.jupyter.widget-view+json": {
       "model_id": "888226aca8964e04a21ca2a8ede699c8",
       "version_major": 2,
       "version_minor": 0
      },
      "text/plain": [
       "HBox(children=(IntProgress(value=0, description='users', max=23, style=ProgressStyle(description_width='initia…"
      ]
     },
     "metadata": {},
     "output_type": "display_data"
    },
    {
     "name": "stdout",
     "output_type": "stream",
     "text": [
      "skipping userAE30\n"
     ]
    },
    {
     "data": {
      "application/vnd.jupyter.widget-view+json": {
       "model_id": "4a2873b50076487b8fa4df9437f17325",
       "version_major": 2,
       "version_minor": 0
      },
      "text/plain": [
       "HBox(children=(IntProgress(value=0, description='users', max=23, style=ProgressStyle(description_width='initia…"
      ]
     },
     "metadata": {},
     "output_type": "display_data"
    },
    {
     "name": "stdout",
     "output_type": "stream",
     "text": [
      "skipping userAE30\n",
      "skipped #714 image generations\n"
     ]
    }
   ],
   "source": [
    "ghi.generate_all_timing_histograms(users, ud_helper)"
   ]
  },
  {
   "cell_type": "markdown",
   "metadata": {},
   "source": [
    "## Visualize Timing of Label Types for all users\n",
    "\n",
    "When I generated all the user gesture combinations I also generated the histograms for the distribution over all gestures and all users for each gesture type. We can see that the automatic gesture type pretty much exactly 3s. The stopping condition is defined as `commulative samples > 3s`, so it depends on the last tramsmissions when exactly the label ends. Dynamic has many very short sequences. Beside that it looks similar to the static and manual label type, although there exist only about 1/3 as many static labels as other label types."
   ]
  },
  {
   "cell_type": "code",
   "execution_count": 17,
   "metadata": {},
   "outputs": [
    {
     "data": {
      "image/png": "[encoded data removed]",
      "text/plain": [
       "<Figure size 1440x720 with 4 Axes>"
      ]
     },
     "metadata": {
      "needs_background": "light"
     },
     "output_type": "display_data"
    }
   ],
   "source": [
    "f, axarr = plt.subplots(2, 2, figsize=(20, 10))\n",
    "\n",
    "axarr[0, 0].set_title(f'automatic')\n",
    "path = f'../figures/raw/all_users/all_gestures/timing_of_automatic.png'\n",
    "a = mpimg.imread(path)\n",
    "axarr[0, 0].imshow(a)\n",
    "iutils.hide_ticks_in_grid(0,0,axarr)\n",
    "\n",
    "axarr[0, 1].set_title(f'manual')\n",
    "path = f'../figures/raw/all_users/all_gestures/timing_of_manual.png'\n",
    "a = mpimg.imread(path)\n",
    "axarr[0, 1].imshow(a)\n",
    "iutils.hide_ticks_in_grid(0,1,axarr)\n",
    "\n",
    "axarr[1, 0].set_title(f'dynamic')\n",
    "path = f'../figures/raw/all_users/all_gestures/timing_of_dynamic.png'\n",
    "a = mpimg.imread(path)\n",
    "axarr[1, 0].imshow(a)\n",
    "iutils.hide_ticks_in_grid(1,0,axarr)\n",
    "\n",
    "axarr[1, 1].set_title(f'static')\n",
    "path = f'../figures/raw/all_users/all_gestures/timing_of_static.png'\n",
    "a = mpimg.imread(path)\n",
    "axarr[1, 1].imshow(a)\n",
    "iutils.hide_ticks_in_grid(1,1,axarr)\n",
    "\n",
    "plt.suptitle('Timing of labels')\n",
    "\n",
    "plt.show()"
   ]
  },
  {
   "cell_type": "markdown",
   "metadata": {},
   "source": [
    "create a comparison of all timings of all gestures. One bar plot, one violin plot"
   ]
  },
  {
   "cell_type": "code",
   "execution_count": null,
   "metadata": {},
   "outputs": [],
   "source": [
    "# redo the four total timings above to make them beautiful with seaborn:\n"
   ]
  },
  {
   "cell_type": "code",
   "execution_count": 35,
   "metadata": {},
   "outputs": [
    {
     "data": {
      "image/png": "[encoded data removed]",
      "text/plain": [
       "<Figure size 432x288 with 1 Axes>"
      ]
     },
     "metadata": {},
     "output_type": "display_data"
    }
   ],
   "source": [
    "timings = get_all_total_timings('static')\n",
    "all_timings = []\n",
    "for key, val in timings.items():\n",
    "    all_timings += list(val)\n",
    "ax = sns.distplot(all_timings)\n",
    "ax.set(xlabel='Time in seconds', ylabel='Density')\n",
    "#plt.hist(values)\n",
    "plt.show()"
   ]
  },
  {
   "cell_type": "code",
   "execution_count": 19,
   "metadata": {
    "scrolled": true
   },
   "outputs": [],
   "source": [
    "series = []\n",
    "for key, val in timings.items():\n",
    "    s = pd.Series(val, name=key)\n",
    "    series.append(s)\n",
    "df = pd.concat(series, axis=1)"
   ]
  },
  {
   "cell_type": "code",
   "execution_count": 27,
   "metadata": {},
   "outputs": [],
   "source": [
    "order = df.mean().sort_values().index"
   ]
  },
  {
   "cell_type": "code",
   "execution_count": 29,
   "metadata": {},
   "outputs": [
    {
     "data": {
      "text/plain": [
       "[Text(0, 0.5, 'Time in seconds'), Text(0.5, 0, 'Gesture')]"
      ]
     },
     "execution_count": 29,
     "metadata": {},
     "output_type": "execute_result"
    },
    {
     "data": {
      "image/png": "[encoded data removed]",
      "text/plain": [
       "<Figure size 432x288 with 1 Axes>"
      ]
     },
     "metadata": {
      "needs_background": "light"
     },
     "output_type": "display_data"
    }
   ],
   "source": [
    "ax = df.boxplot(rot=90)\n",
    "ax.set(xlabel='Gesture', ylabel='Time in seconds')"
   ]
  },
  {
   "cell_type": "code",
   "execution_count": 45,
   "metadata": {},
   "outputs": [
    {
     "data": {
      "image/png": "[encoded data removed]",
      "text/plain": [
       "<Figure size 720x360 with 1 Axes>"
      ]
     },
     "metadata": {
      "needs_background": "light"
     },
     "output_type": "display_data"
    }
   ],
   "source": [
    "fig, ax = plt.subplots(figsize=(10,5))\n",
    "ax.set(xlabel='Gesture', ylabel='Time in seconds')\n",
    "df.boxplot(rot=90, ax=ax)\n",
    "plt.show()"
   ]
  },
  {
   "cell_type": "code",
   "execution_count": 31,
   "metadata": {},
   "outputs": [
    {
     "data": {
      "text/plain": [
       "[Text(0, 0, 'Shoot'),\n",
       " Text(0, 0, 'Go away'),\n",
       " Text(0, 0, 'Push away'),\n",
       " Text(0, 0, 'Down'),\n",
       " Text(0, 0, 'Never mind'),\n",
       " Text(0, 0, 'Swipe up'),\n",
       " Text(0, 0, 'Cutthroat'),\n",
       " Text(0, 0, 'Swipe left'),\n",
       " Text(0, 0, 'Swipe right'),\n",
       " Text(0, 0, 'Zoom'),\n",
       " Text(0, 0, 'Point'),\n",
       " Text(0, 0, 'Continue'),\n",
       " Text(0, 0, '(5) Five'),\n",
       " Text(0, 0, 'Turn'),\n",
       " Text(0, 0, 'Thumbs up'),\n",
       " Text(0, 0, '(1) One'),\n",
       " Text(0, 0, 'Shoulder pat'),\n",
       " Text(0, 0, '(4) Four'),\n",
       " Text(0, 0, 'Thumbs down'),\n",
       " Text(0, 0, '(2) Two'),\n",
       " Text(0, 0, 'Come here'),\n",
       " Text(0, 0, 'Point to self'),\n",
       " Text(0, 0, '(3) Three'),\n",
       " Text(0, 0, 'Knocking'),\n",
       " Text(0, 0, 'Calling'),\n",
       " Text(0, 0, 'Talking'),\n",
       " Text(0, 0, 'Walking'),\n",
       " Text(0, 0, 'Waving'),\n",
       " Text(0, 0, 'Scissor'),\n",
       " Text(0, 0, 'Grasp 2'),\n",
       " Text(0, 0, 'Grasp 1')]"
      ]
     },
     "execution_count": 31,
     "metadata": {},
     "output_type": "execute_result"
    },
    {
     "data": {
      "image/png": "[encoded data removed]",
      "text/plain": [
       "<Figure size 720x360 with 1 Axes>"
      ]
     },
     "metadata": {
      "needs_background": "light"
     },
     "output_type": "display_data"
    }
   ],
   "source": [
    "fig, ax = plt.subplots(figsize=(10,5))\n",
    "bplot=sns.boxplot(data=df, \n",
    "                 width=0.5,\n",
    "                 palette=\"vlag\",\n",
    "                 order=order,\n",
    "                 ax=ax)\n",
    "\n",
    "#bplot=sns.stripplot(data=df, \n",
    "#                   jitter=True, \n",
    "#                   marker='o', \n",
    "#                   alpha=0.3,\n",
    "#                   color='.3',\n",
    "#                   order=order,\n",
    "#                   ax=ax)\n",
    "ax.set(xlabel='Gesture', ylabel='Time in seconds')\n",
    "ax.set_xticklabels(ax.get_xticklabels(),rotation=90)"
   ]
  },
  {
   "cell_type": "code",
   "execution_count": null,
   "metadata": {},
   "outputs": [],
   "source": []
  }
 ],
 "metadata": {
  "kernelspec": {
   "display_name": "Python 3",
   "language": "python",
   "name": "python3"
  },
  "language_info": {
   "codemirror_mode": {
    "name": "ipython",
    "version": 3
   },
   "file_extension": ".py",
   "mimetype": "text/x-python",
   "name": "python",
   "nbconvert_exporter": "python",
   "pygments_lexer": "ipython3",
   "version": "3.7.2"
  }
 },
 "nbformat": 4,
 "nbformat_minor": 2
}
