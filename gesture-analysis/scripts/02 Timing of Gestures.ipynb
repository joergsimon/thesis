{
 "cells": [
  {
   "cell_type": "markdown",
   "metadata": {},
   "source": [
    "# Timing of Gestures\n",
    "\n",
    "This notebook explores the timing of Gestures for the different labeling types. Whilest the timing of the automatic label type is relatively fixed, the other three types have more distinct timings."
   ]
  },
  {
   "cell_type": "code",
   "execution_count": 1,
   "metadata": {},
   "outputs": [],
   "source": [
    "%load_ext autoreload\n",
    "%autoreload 2"
   ]
  },
  {
   "cell_type": "code",
   "execution_count": 24,
   "metadata": {},
   "outputs": [],
   "source": [
    "# imports\n",
    "import pickle\n",
    "import scipy.stats\n",
    "import pandas as pd\n",
    "import numpy as np\n",
    "import matplotlib.pyplot as plt\n",
    "import gestureanalysis.specific_utils as sutils\n",
    "import gestureanalysis.generate_historgrams as ghi\n",
    "import gestureanalysis.image_utils as iutils\n",
    "from gestureanalysis.constants import Constants\n",
    "import matplotlib.pyplot as plt\n",
    "import matplotlib.image as mpimg"
   ]
  },
  {
   "cell_type": "code",
   "execution_count": 3,
   "metadata": {},
   "outputs": [],
   "source": [
    "base_path = \"/home/jsimon/Documents/thesis/gesture-analysis/data/\"\n",
    "base_path_raw = base_path+\"raw/all\"\n",
    "time_groups_path_corrected_pickl = base_path+\"transformed/time_added/all/time-and-groups-corrected-all.pkl\""
   ]
  },
  {
   "cell_type": "code",
   "execution_count": 4,
   "metadata": {},
   "outputs": [
    {
     "data": {
      "text/plain": [
       "'/home/jsimon/Documents/thesis/gesture-analysis/scripts'"
      ]
     },
     "execution_count": 4,
     "metadata": {},
     "output_type": "execute_result"
    }
   ],
   "source": [
    "# check working directory and adopt if needed\n",
    "import os\n",
    "os.getcwd()"
   ]
  },
  {
   "cell_type": "code",
   "execution_count": 5,
   "metadata": {},
   "outputs": [],
   "source": [
    "# in case you need to reload, and know it exists:\n",
    "with open( time_groups_path_corrected_pickl, \"rb\" ) as users_pickle_file:\n",
    "    users = pickle.load(users_pickle_file)"
   ]
  },
  {
   "cell_type": "code",
   "execution_count": 6,
   "metadata": {},
   "outputs": [
    {
     "name": "stdout",
     "output_type": "stream",
     "text": [
      "dict_keys(['AB73', 'AE30', 'AF82', 'AL29', 'AW18', 'CB23', 'CB24', 'CF58', 'DG12', 'DH42', 'DL24', 'JL61', 'JQ28', 'JS52', 'MF20', 'MS55', 'PC29', 'PM32', 'PS42', 'RR45', 'RW32', 'SF1', 'YW13'])\n",
      "num users:  23\n"
     ]
    }
   ],
   "source": [
    "# correct corrupted labels\n",
    "print(users.keys())\n",
    "print('num users: ', len(users.keys()))"
   ]
  },
  {
   "cell_type": "markdown",
   "metadata": {},
   "source": [
    "After preprocessing (see Notebook \"Data & Preprocessing\") we have the timing information in form of a List of `LabelGroup`s saved for each user in the key `lbl_groups_fl`. Each `LabelGroup` object is a group of automatic, manual, dynamic and static label annotations (in form of start and end time) together with the concrete gesture the annotation is annotating. Static is optional, there exist `LabelGroup` object without a static label. The class `LabelGroup` is defined in the module `specific_utils` I usually import into the `sutils` namespace. Several helper functions to filter that list for gestures, get the durations and similar exist in that module.\n",
    "\n",
    "We define a set of functions who help displaying statistical data of lists of `LabelGroup`s."
   ]
  },
  {
   "cell_type": "code",
   "execution_count": 7,
   "metadata": {},
   "outputs": [],
   "source": [
    "def describe_deltas(deltas):\n",
    "    return scipy.stats.describe(deltas)\n",
    "\n",
    "def get_deltas(username, userdata, timerange_key):\n",
    "    return get_deltas_for(username, userdata, None, timerange_key)\n",
    "\n",
    "def get_deltas_for(username, userdata, gesture, timerange_key):\n",
    "    lgs = userdata['lbl_groups_fl']\n",
    "    if gesture is not None:\n",
    "        lgs = filter(lambda x: x.label_name == gesture, lgs)\n",
    "        lgs = list(lgs)\n",
    "        #print(f'got {len(lgs)} records for {gesture}')\n",
    "    deltas = sutils.get_timedeltas(lgs, timerange_key)\n",
    "    deltas = map(lambda x: x.total_seconds(), deltas)\n",
    "    deltas = list(deltas)\n",
    "    return deltas\n",
    "\n",
    "def describe_timing(username, userdata, timerange_key):\n",
    "    deltas = get_deltas(username, userdata, timerange_key)\n",
    "    return describe_deltas(deltas)\n",
    "    \n",
    "def describe_timing_of(username, userdata, gesture, timerange_key):\n",
    "    deltas = get_deltas_for(username, userdata, gesture, timerange_key)\n",
    "    return describe_deltas(deltas)"
   ]
  },
  {
   "cell_type": "code",
   "execution_count": 8,
   "metadata": {},
   "outputs": [],
   "source": [
    "def delta_description_to_df(delta_description, user, df):\n",
    "    delta_description = list(delta_description)\n",
    "    delta_description = delta_description[:1] + [delta_description[1][0], delta_description[1][1]] + delta_description[2:]\n",
    "    dd_t = np.array(delta_description)[None,:]\n",
    "    d = pd.DataFrame(dd_t, columns=[\"# Annotations\", \"min\", \"max\", \"mean\", \"variance\", \"skewness\", \"kurtosis\"])\n",
    "    d['user'] = user\n",
    "    if df is not None:\n",
    "        df = pd.concat([df, d], ignore_index=True)\n",
    "    else:\n",
    "        df = d\n",
    "    return df"
   ]
  },
  {
   "cell_type": "code",
   "execution_count": 9,
   "metadata": {},
   "outputs": [],
   "source": [
    "def overal_timings_for(label_type):\n",
    "    total = []\n",
    "    df = None\n",
    "    for key, data in users.items():\n",
    "        if not 'glove_merged' in data:\n",
    "            continue\n",
    "        total = total + get_deltas(key, data, 'manual')\n",
    "        df = delta_description_to_df(describe_timing(key, data, 'manual'), key, df)\n",
    "    df = delta_description_to_df(describe_deltas(total), 'all_users', df)\n",
    "    return df"
   ]
  },
  {
   "cell_type": "markdown",
   "metadata": {},
   "source": [
    "## Table with overall timings of labels of the manual label type"
   ]
  },
  {
   "cell_type": "code",
   "execution_count": 10,
   "metadata": {},
   "outputs": [
    {
     "data": {
      "text/html": [
       "<div>\n",
       "<style scoped>\n",
       "    .dataframe tbody tr th:only-of-type {\n",
       "        vertical-align: middle;\n",
       "    }\n",
       "\n",
       "    .dataframe tbody tr th {\n",
       "        vertical-align: top;\n",
       "    }\n",
       "\n",
       "    .dataframe thead th {\n",
       "        text-align: right;\n",
       "    }\n",
       "</style>\n",
       "<table border=\"1\" class=\"dataframe\">\n",
       "  <thead>\n",
       "    <tr style=\"text-align: right;\">\n",
       "      <th></th>\n",
       "      <th># Annotations</th>\n",
       "      <th>min</th>\n",
       "      <th>max</th>\n",
       "      <th>mean</th>\n",
       "      <th>variance</th>\n",
       "      <th>skewness</th>\n",
       "      <th>kurtosis</th>\n",
       "      <th>user</th>\n",
       "    </tr>\n",
       "  </thead>\n",
       "  <tbody>\n",
       "    <tr>\n",
       "      <th>0</th>\n",
       "      <td>307.0</td>\n",
       "      <td>0.492</td>\n",
       "      <td>2.016</td>\n",
       "      <td>1.090124</td>\n",
       "      <td>0.081020</td>\n",
       "      <td>0.977200</td>\n",
       "      <td>0.959664</td>\n",
       "      <td>AB73</td>\n",
       "    </tr>\n",
       "    <tr>\n",
       "      <th>1</th>\n",
       "      <td>153.0</td>\n",
       "      <td>0.564</td>\n",
       "      <td>2.160</td>\n",
       "      <td>1.071294</td>\n",
       "      <td>0.074505</td>\n",
       "      <td>0.933502</td>\n",
       "      <td>1.332054</td>\n",
       "      <td>AF82</td>\n",
       "    </tr>\n",
       "    <tr>\n",
       "      <th>2</th>\n",
       "      <td>308.0</td>\n",
       "      <td>0.276</td>\n",
       "      <td>2.088</td>\n",
       "      <td>1.080935</td>\n",
       "      <td>0.083344</td>\n",
       "      <td>0.464313</td>\n",
       "      <td>0.639929</td>\n",
       "      <td>AL29</td>\n",
       "    </tr>\n",
       "    <tr>\n",
       "      <th>3</th>\n",
       "      <td>152.0</td>\n",
       "      <td>0.612</td>\n",
       "      <td>2.244</td>\n",
       "      <td>1.237974</td>\n",
       "      <td>0.116471</td>\n",
       "      <td>0.607737</td>\n",
       "      <td>-0.313408</td>\n",
       "      <td>AW18</td>\n",
       "    </tr>\n",
       "    <tr>\n",
       "      <th>4</th>\n",
       "      <td>152.0</td>\n",
       "      <td>0.552</td>\n",
       "      <td>2.496</td>\n",
       "      <td>1.417184</td>\n",
       "      <td>0.101046</td>\n",
       "      <td>0.268666</td>\n",
       "      <td>0.712247</td>\n",
       "      <td>CB23</td>\n",
       "    </tr>\n",
       "    <tr>\n",
       "      <th>5</th>\n",
       "      <td>154.0</td>\n",
       "      <td>0.480</td>\n",
       "      <td>1.872</td>\n",
       "      <td>1.031922</td>\n",
       "      <td>0.067122</td>\n",
       "      <td>0.731036</td>\n",
       "      <td>0.679540</td>\n",
       "      <td>CB24</td>\n",
       "    </tr>\n",
       "    <tr>\n",
       "      <th>6</th>\n",
       "      <td>158.0</td>\n",
       "      <td>0.504</td>\n",
       "      <td>1.932</td>\n",
       "      <td>1.100127</td>\n",
       "      <td>0.104537</td>\n",
       "      <td>0.650358</td>\n",
       "      <td>-0.092005</td>\n",
       "      <td>CF58</td>\n",
       "    </tr>\n",
       "    <tr>\n",
       "      <th>7</th>\n",
       "      <td>154.0</td>\n",
       "      <td>0.180</td>\n",
       "      <td>2.028</td>\n",
       "      <td>0.932416</td>\n",
       "      <td>0.123974</td>\n",
       "      <td>0.856840</td>\n",
       "      <td>0.754349</td>\n",
       "      <td>DG12</td>\n",
       "    </tr>\n",
       "    <tr>\n",
       "      <th>8</th>\n",
       "      <td>153.0</td>\n",
       "      <td>0.288</td>\n",
       "      <td>2.460</td>\n",
       "      <td>1.007216</td>\n",
       "      <td>0.165798</td>\n",
       "      <td>1.022538</td>\n",
       "      <td>1.678622</td>\n",
       "      <td>DH42</td>\n",
       "    </tr>\n",
       "    <tr>\n",
       "      <th>9</th>\n",
       "      <td>301.0</td>\n",
       "      <td>0.204</td>\n",
       "      <td>2.256</td>\n",
       "      <td>1.289741</td>\n",
       "      <td>0.212006</td>\n",
       "      <td>0.003985</td>\n",
       "      <td>-0.952714</td>\n",
       "      <td>DL24</td>\n",
       "    </tr>\n",
       "    <tr>\n",
       "      <th>10</th>\n",
       "      <td>157.0</td>\n",
       "      <td>0.588</td>\n",
       "      <td>2.340</td>\n",
       "      <td>1.048968</td>\n",
       "      <td>0.072654</td>\n",
       "      <td>1.142722</td>\n",
       "      <td>2.578293</td>\n",
       "      <td>JL61</td>\n",
       "    </tr>\n",
       "    <tr>\n",
       "      <th>11</th>\n",
       "      <td>294.0</td>\n",
       "      <td>0.276</td>\n",
       "      <td>2.448</td>\n",
       "      <td>1.277224</td>\n",
       "      <td>0.192333</td>\n",
       "      <td>0.248830</td>\n",
       "      <td>-0.284948</td>\n",
       "      <td>JQ28</td>\n",
       "    </tr>\n",
       "    <tr>\n",
       "      <th>12</th>\n",
       "      <td>293.0</td>\n",
       "      <td>0.204</td>\n",
       "      <td>2.400</td>\n",
       "      <td>1.284491</td>\n",
       "      <td>0.130125</td>\n",
       "      <td>0.229425</td>\n",
       "      <td>0.123738</td>\n",
       "      <td>JS52</td>\n",
       "    </tr>\n",
       "    <tr>\n",
       "      <th>13</th>\n",
       "      <td>153.0</td>\n",
       "      <td>0.828</td>\n",
       "      <td>2.424</td>\n",
       "      <td>1.571843</td>\n",
       "      <td>0.142954</td>\n",
       "      <td>0.101736</td>\n",
       "      <td>-0.769278</td>\n",
       "      <td>MF20</td>\n",
       "    </tr>\n",
       "    <tr>\n",
       "      <th>14</th>\n",
       "      <td>149.0</td>\n",
       "      <td>0.492</td>\n",
       "      <td>1.788</td>\n",
       "      <td>0.938819</td>\n",
       "      <td>0.056836</td>\n",
       "      <td>0.785940</td>\n",
       "      <td>0.270476</td>\n",
       "      <td>MS55</td>\n",
       "    </tr>\n",
       "    <tr>\n",
       "      <th>15</th>\n",
       "      <td>156.0</td>\n",
       "      <td>0.324</td>\n",
       "      <td>2.616</td>\n",
       "      <td>1.456769</td>\n",
       "      <td>0.155767</td>\n",
       "      <td>0.211470</td>\n",
       "      <td>0.151588</td>\n",
       "      <td>PC29</td>\n",
       "    </tr>\n",
       "    <tr>\n",
       "      <th>16</th>\n",
       "      <td>308.0</td>\n",
       "      <td>0.396</td>\n",
       "      <td>1.608</td>\n",
       "      <td>1.048714</td>\n",
       "      <td>0.046416</td>\n",
       "      <td>0.097028</td>\n",
       "      <td>0.125705</td>\n",
       "      <td>PM32</td>\n",
       "    </tr>\n",
       "    <tr>\n",
       "      <th>17</th>\n",
       "      <td>152.0</td>\n",
       "      <td>0.372</td>\n",
       "      <td>2.436</td>\n",
       "      <td>0.907658</td>\n",
       "      <td>0.128420</td>\n",
       "      <td>1.903573</td>\n",
       "      <td>4.749115</td>\n",
       "      <td>PS42</td>\n",
       "    </tr>\n",
       "    <tr>\n",
       "      <th>18</th>\n",
       "      <td>153.0</td>\n",
       "      <td>0.276</td>\n",
       "      <td>2.148</td>\n",
       "      <td>0.988941</td>\n",
       "      <td>0.124843</td>\n",
       "      <td>0.499671</td>\n",
       "      <td>0.200059</td>\n",
       "      <td>RR45</td>\n",
       "    </tr>\n",
       "    <tr>\n",
       "      <th>19</th>\n",
       "      <td>146.0</td>\n",
       "      <td>0.228</td>\n",
       "      <td>2.220</td>\n",
       "      <td>1.184466</td>\n",
       "      <td>0.197616</td>\n",
       "      <td>0.464832</td>\n",
       "      <td>-0.507275</td>\n",
       "      <td>RW32</td>\n",
       "    </tr>\n",
       "    <tr>\n",
       "      <th>20</th>\n",
       "      <td>154.0</td>\n",
       "      <td>0.684</td>\n",
       "      <td>2.184</td>\n",
       "      <td>1.300597</td>\n",
       "      <td>0.094621</td>\n",
       "      <td>0.272054</td>\n",
       "      <td>-0.308279</td>\n",
       "      <td>SF1</td>\n",
       "    </tr>\n",
       "    <tr>\n",
       "      <th>21</th>\n",
       "      <td>307.0</td>\n",
       "      <td>0.300</td>\n",
       "      <td>2.148</td>\n",
       "      <td>0.973134</td>\n",
       "      <td>0.081594</td>\n",
       "      <td>1.000358</td>\n",
       "      <td>2.087748</td>\n",
       "      <td>YW13</td>\n",
       "    </tr>\n",
       "    <tr>\n",
       "      <th>22</th>\n",
       "      <td>4414.0</td>\n",
       "      <td>0.180</td>\n",
       "      <td>2.616</td>\n",
       "      <td>1.146843</td>\n",
       "      <td>0.143565</td>\n",
       "      <td>0.645843</td>\n",
       "      <td>0.276898</td>\n",
       "      <td>all_users</td>\n",
       "    </tr>\n",
       "  </tbody>\n",
       "</table>\n",
       "</div>"
      ],
      "text/plain": [
       "    # Annotations    min    max      mean  variance  skewness  kurtosis  \\\n",
       "0           307.0  0.492  2.016  1.090124  0.081020  0.977200  0.959664   \n",
       "1           153.0  0.564  2.160  1.071294  0.074505  0.933502  1.332054   \n",
       "2           308.0  0.276  2.088  1.080935  0.083344  0.464313  0.639929   \n",
       "3           152.0  0.612  2.244  1.237974  0.116471  0.607737 -0.313408   \n",
       "4           152.0  0.552  2.496  1.417184  0.101046  0.268666  0.712247   \n",
       "5           154.0  0.480  1.872  1.031922  0.067122  0.731036  0.679540   \n",
       "6           158.0  0.504  1.932  1.100127  0.104537  0.650358 -0.092005   \n",
       "7           154.0  0.180  2.028  0.932416  0.123974  0.856840  0.754349   \n",
       "8           153.0  0.288  2.460  1.007216  0.165798  1.022538  1.678622   \n",
       "9           301.0  0.204  2.256  1.289741  0.212006  0.003985 -0.952714   \n",
       "10          157.0  0.588  2.340  1.048968  0.072654  1.142722  2.578293   \n",
       "11          294.0  0.276  2.448  1.277224  0.192333  0.248830 -0.284948   \n",
       "12          293.0  0.204  2.400  1.284491  0.130125  0.229425  0.123738   \n",
       "13          153.0  0.828  2.424  1.571843  0.142954  0.101736 -0.769278   \n",
       "14          149.0  0.492  1.788  0.938819  0.056836  0.785940  0.270476   \n",
       "15          156.0  0.324  2.616  1.456769  0.155767  0.211470  0.151588   \n",
       "16          308.0  0.396  1.608  1.048714  0.046416  0.097028  0.125705   \n",
       "17          152.0  0.372  2.436  0.907658  0.128420  1.903573  4.749115   \n",
       "18          153.0  0.276  2.148  0.988941  0.124843  0.499671  0.200059   \n",
       "19          146.0  0.228  2.220  1.184466  0.197616  0.464832 -0.507275   \n",
       "20          154.0  0.684  2.184  1.300597  0.094621  0.272054 -0.308279   \n",
       "21          307.0  0.300  2.148  0.973134  0.081594  1.000358  2.087748   \n",
       "22         4414.0  0.180  2.616  1.146843  0.143565  0.645843  0.276898   \n",
       "\n",
       "         user  \n",
       "0        AB73  \n",
       "1        AF82  \n",
       "2        AL29  \n",
       "3        AW18  \n",
       "4        CB23  \n",
       "5        CB24  \n",
       "6        CF58  \n",
       "7        DG12  \n",
       "8        DH42  \n",
       "9        DL24  \n",
       "10       JL61  \n",
       "11       JQ28  \n",
       "12       JS52  \n",
       "13       MF20  \n",
       "14       MS55  \n",
       "15       PC29  \n",
       "16       PM32  \n",
       "17       PS42  \n",
       "18       RR45  \n",
       "19       RW32  \n",
       "20        SF1  \n",
       "21       YW13  \n",
       "22  all_users  "
      ]
     },
     "execution_count": 10,
     "metadata": {},
     "output_type": "execute_result"
    }
   ],
   "source": [
    "df = overal_timings_for('manual')\n",
    "#df.to_latex(index=False)\n",
    "df"
   ]
  },
  {
   "cell_type": "markdown",
   "metadata": {},
   "source": [
    "## Table with overall timings of lables of the dynamic label type"
   ]
  },
  {
   "cell_type": "code",
   "execution_count": 11,
   "metadata": {},
   "outputs": [
    {
     "data": {
      "text/html": [
       "<div>\n",
       "<style scoped>\n",
       "    .dataframe tbody tr th:only-of-type {\n",
       "        vertical-align: middle;\n",
       "    }\n",
       "\n",
       "    .dataframe tbody tr th {\n",
       "        vertical-align: top;\n",
       "    }\n",
       "\n",
       "    .dataframe thead th {\n",
       "        text-align: right;\n",
       "    }\n",
       "</style>\n",
       "<table border=\"1\" class=\"dataframe\">\n",
       "  <thead>\n",
       "    <tr style=\"text-align: right;\">\n",
       "      <th></th>\n",
       "      <th># Annotations</th>\n",
       "      <th>min</th>\n",
       "      <th>max</th>\n",
       "      <th>mean</th>\n",
       "      <th>variance</th>\n",
       "      <th>skewness</th>\n",
       "      <th>kurtosis</th>\n",
       "      <th>user</th>\n",
       "    </tr>\n",
       "  </thead>\n",
       "  <tbody>\n",
       "    <tr>\n",
       "      <th>0</th>\n",
       "      <td>307.0</td>\n",
       "      <td>0.492</td>\n",
       "      <td>2.016</td>\n",
       "      <td>1.090124</td>\n",
       "      <td>0.081020</td>\n",
       "      <td>0.977200</td>\n",
       "      <td>0.959664</td>\n",
       "      <td>AB73</td>\n",
       "    </tr>\n",
       "    <tr>\n",
       "      <th>1</th>\n",
       "      <td>153.0</td>\n",
       "      <td>0.564</td>\n",
       "      <td>2.160</td>\n",
       "      <td>1.071294</td>\n",
       "      <td>0.074505</td>\n",
       "      <td>0.933502</td>\n",
       "      <td>1.332054</td>\n",
       "      <td>AF82</td>\n",
       "    </tr>\n",
       "    <tr>\n",
       "      <th>2</th>\n",
       "      <td>308.0</td>\n",
       "      <td>0.276</td>\n",
       "      <td>2.088</td>\n",
       "      <td>1.080935</td>\n",
       "      <td>0.083344</td>\n",
       "      <td>0.464313</td>\n",
       "      <td>0.639929</td>\n",
       "      <td>AL29</td>\n",
       "    </tr>\n",
       "    <tr>\n",
       "      <th>3</th>\n",
       "      <td>152.0</td>\n",
       "      <td>0.612</td>\n",
       "      <td>2.244</td>\n",
       "      <td>1.237974</td>\n",
       "      <td>0.116471</td>\n",
       "      <td>0.607737</td>\n",
       "      <td>-0.313408</td>\n",
       "      <td>AW18</td>\n",
       "    </tr>\n",
       "    <tr>\n",
       "      <th>4</th>\n",
       "      <td>152.0</td>\n",
       "      <td>0.552</td>\n",
       "      <td>2.496</td>\n",
       "      <td>1.417184</td>\n",
       "      <td>0.101046</td>\n",
       "      <td>0.268666</td>\n",
       "      <td>0.712247</td>\n",
       "      <td>CB23</td>\n",
       "    </tr>\n",
       "    <tr>\n",
       "      <th>5</th>\n",
       "      <td>154.0</td>\n",
       "      <td>0.480</td>\n",
       "      <td>1.872</td>\n",
       "      <td>1.031922</td>\n",
       "      <td>0.067122</td>\n",
       "      <td>0.731036</td>\n",
       "      <td>0.679540</td>\n",
       "      <td>CB24</td>\n",
       "    </tr>\n",
       "    <tr>\n",
       "      <th>6</th>\n",
       "      <td>158.0</td>\n",
       "      <td>0.504</td>\n",
       "      <td>1.932</td>\n",
       "      <td>1.100127</td>\n",
       "      <td>0.104537</td>\n",
       "      <td>0.650358</td>\n",
       "      <td>-0.092005</td>\n",
       "      <td>CF58</td>\n",
       "    </tr>\n",
       "    <tr>\n",
       "      <th>7</th>\n",
       "      <td>154.0</td>\n",
       "      <td>0.180</td>\n",
       "      <td>2.028</td>\n",
       "      <td>0.932416</td>\n",
       "      <td>0.123974</td>\n",
       "      <td>0.856840</td>\n",
       "      <td>0.754349</td>\n",
       "      <td>DG12</td>\n",
       "    </tr>\n",
       "    <tr>\n",
       "      <th>8</th>\n",
       "      <td>153.0</td>\n",
       "      <td>0.288</td>\n",
       "      <td>2.460</td>\n",
       "      <td>1.007216</td>\n",
       "      <td>0.165798</td>\n",
       "      <td>1.022538</td>\n",
       "      <td>1.678622</td>\n",
       "      <td>DH42</td>\n",
       "    </tr>\n",
       "    <tr>\n",
       "      <th>9</th>\n",
       "      <td>301.0</td>\n",
       "      <td>0.204</td>\n",
       "      <td>2.256</td>\n",
       "      <td>1.289741</td>\n",
       "      <td>0.212006</td>\n",
       "      <td>0.003985</td>\n",
       "      <td>-0.952714</td>\n",
       "      <td>DL24</td>\n",
       "    </tr>\n",
       "    <tr>\n",
       "      <th>10</th>\n",
       "      <td>157.0</td>\n",
       "      <td>0.588</td>\n",
       "      <td>2.340</td>\n",
       "      <td>1.048968</td>\n",
       "      <td>0.072654</td>\n",
       "      <td>1.142722</td>\n",
       "      <td>2.578293</td>\n",
       "      <td>JL61</td>\n",
       "    </tr>\n",
       "    <tr>\n",
       "      <th>11</th>\n",
       "      <td>294.0</td>\n",
       "      <td>0.276</td>\n",
       "      <td>2.448</td>\n",
       "      <td>1.277224</td>\n",
       "      <td>0.192333</td>\n",
       "      <td>0.248830</td>\n",
       "      <td>-0.284948</td>\n",
       "      <td>JQ28</td>\n",
       "    </tr>\n",
       "    <tr>\n",
       "      <th>12</th>\n",
       "      <td>293.0</td>\n",
       "      <td>0.204</td>\n",
       "      <td>2.400</td>\n",
       "      <td>1.284491</td>\n",
       "      <td>0.130125</td>\n",
       "      <td>0.229425</td>\n",
       "      <td>0.123738</td>\n",
       "      <td>JS52</td>\n",
       "    </tr>\n",
       "    <tr>\n",
       "      <th>13</th>\n",
       "      <td>153.0</td>\n",
       "      <td>0.828</td>\n",
       "      <td>2.424</td>\n",
       "      <td>1.571843</td>\n",
       "      <td>0.142954</td>\n",
       "      <td>0.101736</td>\n",
       "      <td>-0.769278</td>\n",
       "      <td>MF20</td>\n",
       "    </tr>\n",
       "    <tr>\n",
       "      <th>14</th>\n",
       "      <td>149.0</td>\n",
       "      <td>0.492</td>\n",
       "      <td>1.788</td>\n",
       "      <td>0.938819</td>\n",
       "      <td>0.056836</td>\n",
       "      <td>0.785940</td>\n",
       "      <td>0.270476</td>\n",
       "      <td>MS55</td>\n",
       "    </tr>\n",
       "    <tr>\n",
       "      <th>15</th>\n",
       "      <td>156.0</td>\n",
       "      <td>0.324</td>\n",
       "      <td>2.616</td>\n",
       "      <td>1.456769</td>\n",
       "      <td>0.155767</td>\n",
       "      <td>0.211470</td>\n",
       "      <td>0.151588</td>\n",
       "      <td>PC29</td>\n",
       "    </tr>\n",
       "    <tr>\n",
       "      <th>16</th>\n",
       "      <td>308.0</td>\n",
       "      <td>0.396</td>\n",
       "      <td>1.608</td>\n",
       "      <td>1.048714</td>\n",
       "      <td>0.046416</td>\n",
       "      <td>0.097028</td>\n",
       "      <td>0.125705</td>\n",
       "      <td>PM32</td>\n",
       "    </tr>\n",
       "    <tr>\n",
       "      <th>17</th>\n",
       "      <td>152.0</td>\n",
       "      <td>0.372</td>\n",
       "      <td>2.436</td>\n",
       "      <td>0.907658</td>\n",
       "      <td>0.128420</td>\n",
       "      <td>1.903573</td>\n",
       "      <td>4.749115</td>\n",
       "      <td>PS42</td>\n",
       "    </tr>\n",
       "    <tr>\n",
       "      <th>18</th>\n",
       "      <td>153.0</td>\n",
       "      <td>0.276</td>\n",
       "      <td>2.148</td>\n",
       "      <td>0.988941</td>\n",
       "      <td>0.124843</td>\n",
       "      <td>0.499671</td>\n",
       "      <td>0.200059</td>\n",
       "      <td>RR45</td>\n",
       "    </tr>\n",
       "    <tr>\n",
       "      <th>19</th>\n",
       "      <td>146.0</td>\n",
       "      <td>0.228</td>\n",
       "      <td>2.220</td>\n",
       "      <td>1.184466</td>\n",
       "      <td>0.197616</td>\n",
       "      <td>0.464832</td>\n",
       "      <td>-0.507275</td>\n",
       "      <td>RW32</td>\n",
       "    </tr>\n",
       "    <tr>\n",
       "      <th>20</th>\n",
       "      <td>154.0</td>\n",
       "      <td>0.684</td>\n",
       "      <td>2.184</td>\n",
       "      <td>1.300597</td>\n",
       "      <td>0.094621</td>\n",
       "      <td>0.272054</td>\n",
       "      <td>-0.308279</td>\n",
       "      <td>SF1</td>\n",
       "    </tr>\n",
       "    <tr>\n",
       "      <th>21</th>\n",
       "      <td>307.0</td>\n",
       "      <td>0.300</td>\n",
       "      <td>2.148</td>\n",
       "      <td>0.973134</td>\n",
       "      <td>0.081594</td>\n",
       "      <td>1.000358</td>\n",
       "      <td>2.087748</td>\n",
       "      <td>YW13</td>\n",
       "    </tr>\n",
       "    <tr>\n",
       "      <th>22</th>\n",
       "      <td>4414.0</td>\n",
       "      <td>0.180</td>\n",
       "      <td>2.616</td>\n",
       "      <td>1.146843</td>\n",
       "      <td>0.143565</td>\n",
       "      <td>0.645843</td>\n",
       "      <td>0.276898</td>\n",
       "      <td>all_users</td>\n",
       "    </tr>\n",
       "  </tbody>\n",
       "</table>\n",
       "</div>"
      ],
      "text/plain": [
       "    # Annotations    min    max      mean  variance  skewness  kurtosis  \\\n",
       "0           307.0  0.492  2.016  1.090124  0.081020  0.977200  0.959664   \n",
       "1           153.0  0.564  2.160  1.071294  0.074505  0.933502  1.332054   \n",
       "2           308.0  0.276  2.088  1.080935  0.083344  0.464313  0.639929   \n",
       "3           152.0  0.612  2.244  1.237974  0.116471  0.607737 -0.313408   \n",
       "4           152.0  0.552  2.496  1.417184  0.101046  0.268666  0.712247   \n",
       "5           154.0  0.480  1.872  1.031922  0.067122  0.731036  0.679540   \n",
       "6           158.0  0.504  1.932  1.100127  0.104537  0.650358 -0.092005   \n",
       "7           154.0  0.180  2.028  0.932416  0.123974  0.856840  0.754349   \n",
       "8           153.0  0.288  2.460  1.007216  0.165798  1.022538  1.678622   \n",
       "9           301.0  0.204  2.256  1.289741  0.212006  0.003985 -0.952714   \n",
       "10          157.0  0.588  2.340  1.048968  0.072654  1.142722  2.578293   \n",
       "11          294.0  0.276  2.448  1.277224  0.192333  0.248830 -0.284948   \n",
       "12          293.0  0.204  2.400  1.284491  0.130125  0.229425  0.123738   \n",
       "13          153.0  0.828  2.424  1.571843  0.142954  0.101736 -0.769278   \n",
       "14          149.0  0.492  1.788  0.938819  0.056836  0.785940  0.270476   \n",
       "15          156.0  0.324  2.616  1.456769  0.155767  0.211470  0.151588   \n",
       "16          308.0  0.396  1.608  1.048714  0.046416  0.097028  0.125705   \n",
       "17          152.0  0.372  2.436  0.907658  0.128420  1.903573  4.749115   \n",
       "18          153.0  0.276  2.148  0.988941  0.124843  0.499671  0.200059   \n",
       "19          146.0  0.228  2.220  1.184466  0.197616  0.464832 -0.507275   \n",
       "20          154.0  0.684  2.184  1.300597  0.094621  0.272054 -0.308279   \n",
       "21          307.0  0.300  2.148  0.973134  0.081594  1.000358  2.087748   \n",
       "22         4414.0  0.180  2.616  1.146843  0.143565  0.645843  0.276898   \n",
       "\n",
       "         user  \n",
       "0        AB73  \n",
       "1        AF82  \n",
       "2        AL29  \n",
       "3        AW18  \n",
       "4        CB23  \n",
       "5        CB24  \n",
       "6        CF58  \n",
       "7        DG12  \n",
       "8        DH42  \n",
       "9        DL24  \n",
       "10       JL61  \n",
       "11       JQ28  \n",
       "12       JS52  \n",
       "13       MF20  \n",
       "14       MS55  \n",
       "15       PC29  \n",
       "16       PM32  \n",
       "17       PS42  \n",
       "18       RR45  \n",
       "19       RW32  \n",
       "20        SF1  \n",
       "21       YW13  \n",
       "22  all_users  "
      ]
     },
     "execution_count": 11,
     "metadata": {},
     "output_type": "execute_result"
    }
   ],
   "source": [
    "df = overal_timings_for('dynamic')\n",
    "df"
   ]
  },
  {
   "cell_type": "markdown",
   "metadata": {},
   "source": [
    "## Table with overall timings of labels of the static label type"
   ]
  },
  {
   "cell_type": "code",
   "execution_count": 12,
   "metadata": {},
   "outputs": [
    {
     "data": {
      "text/html": [
       "<div>\n",
       "<style scoped>\n",
       "    .dataframe tbody tr th:only-of-type {\n",
       "        vertical-align: middle;\n",
       "    }\n",
       "\n",
       "    .dataframe tbody tr th {\n",
       "        vertical-align: top;\n",
       "    }\n",
       "\n",
       "    .dataframe thead th {\n",
       "        text-align: right;\n",
       "    }\n",
       "</style>\n",
       "<table border=\"1\" class=\"dataframe\">\n",
       "  <thead>\n",
       "    <tr style=\"text-align: right;\">\n",
       "      <th></th>\n",
       "      <th># Annotations</th>\n",
       "      <th>min</th>\n",
       "      <th>max</th>\n",
       "      <th>mean</th>\n",
       "      <th>variance</th>\n",
       "      <th>skewness</th>\n",
       "      <th>kurtosis</th>\n",
       "      <th>user</th>\n",
       "    </tr>\n",
       "  </thead>\n",
       "  <tbody>\n",
       "    <tr>\n",
       "      <th>0</th>\n",
       "      <td>307.0</td>\n",
       "      <td>0.492</td>\n",
       "      <td>2.016</td>\n",
       "      <td>1.090124</td>\n",
       "      <td>0.081020</td>\n",
       "      <td>0.977200</td>\n",
       "      <td>0.959664</td>\n",
       "      <td>AB73</td>\n",
       "    </tr>\n",
       "    <tr>\n",
       "      <th>1</th>\n",
       "      <td>153.0</td>\n",
       "      <td>0.564</td>\n",
       "      <td>2.160</td>\n",
       "      <td>1.071294</td>\n",
       "      <td>0.074505</td>\n",
       "      <td>0.933502</td>\n",
       "      <td>1.332054</td>\n",
       "      <td>AF82</td>\n",
       "    </tr>\n",
       "    <tr>\n",
       "      <th>2</th>\n",
       "      <td>308.0</td>\n",
       "      <td>0.276</td>\n",
       "      <td>2.088</td>\n",
       "      <td>1.080935</td>\n",
       "      <td>0.083344</td>\n",
       "      <td>0.464313</td>\n",
       "      <td>0.639929</td>\n",
       "      <td>AL29</td>\n",
       "    </tr>\n",
       "    <tr>\n",
       "      <th>3</th>\n",
       "      <td>152.0</td>\n",
       "      <td>0.612</td>\n",
       "      <td>2.244</td>\n",
       "      <td>1.237974</td>\n",
       "      <td>0.116471</td>\n",
       "      <td>0.607737</td>\n",
       "      <td>-0.313408</td>\n",
       "      <td>AW18</td>\n",
       "    </tr>\n",
       "    <tr>\n",
       "      <th>4</th>\n",
       "      <td>152.0</td>\n",
       "      <td>0.552</td>\n",
       "      <td>2.496</td>\n",
       "      <td>1.417184</td>\n",
       "      <td>0.101046</td>\n",
       "      <td>0.268666</td>\n",
       "      <td>0.712247</td>\n",
       "      <td>CB23</td>\n",
       "    </tr>\n",
       "    <tr>\n",
       "      <th>5</th>\n",
       "      <td>154.0</td>\n",
       "      <td>0.480</td>\n",
       "      <td>1.872</td>\n",
       "      <td>1.031922</td>\n",
       "      <td>0.067122</td>\n",
       "      <td>0.731036</td>\n",
       "      <td>0.679540</td>\n",
       "      <td>CB24</td>\n",
       "    </tr>\n",
       "    <tr>\n",
       "      <th>6</th>\n",
       "      <td>158.0</td>\n",
       "      <td>0.504</td>\n",
       "      <td>1.932</td>\n",
       "      <td>1.100127</td>\n",
       "      <td>0.104537</td>\n",
       "      <td>0.650358</td>\n",
       "      <td>-0.092005</td>\n",
       "      <td>CF58</td>\n",
       "    </tr>\n",
       "    <tr>\n",
       "      <th>7</th>\n",
       "      <td>154.0</td>\n",
       "      <td>0.180</td>\n",
       "      <td>2.028</td>\n",
       "      <td>0.932416</td>\n",
       "      <td>0.123974</td>\n",
       "      <td>0.856840</td>\n",
       "      <td>0.754349</td>\n",
       "      <td>DG12</td>\n",
       "    </tr>\n",
       "    <tr>\n",
       "      <th>8</th>\n",
       "      <td>153.0</td>\n",
       "      <td>0.288</td>\n",
       "      <td>2.460</td>\n",
       "      <td>1.007216</td>\n",
       "      <td>0.165798</td>\n",
       "      <td>1.022538</td>\n",
       "      <td>1.678622</td>\n",
       "      <td>DH42</td>\n",
       "    </tr>\n",
       "    <tr>\n",
       "      <th>9</th>\n",
       "      <td>301.0</td>\n",
       "      <td>0.204</td>\n",
       "      <td>2.256</td>\n",
       "      <td>1.289741</td>\n",
       "      <td>0.212006</td>\n",
       "      <td>0.003985</td>\n",
       "      <td>-0.952714</td>\n",
       "      <td>DL24</td>\n",
       "    </tr>\n",
       "    <tr>\n",
       "      <th>10</th>\n",
       "      <td>157.0</td>\n",
       "      <td>0.588</td>\n",
       "      <td>2.340</td>\n",
       "      <td>1.048968</td>\n",
       "      <td>0.072654</td>\n",
       "      <td>1.142722</td>\n",
       "      <td>2.578293</td>\n",
       "      <td>JL61</td>\n",
       "    </tr>\n",
       "    <tr>\n",
       "      <th>11</th>\n",
       "      <td>294.0</td>\n",
       "      <td>0.276</td>\n",
       "      <td>2.448</td>\n",
       "      <td>1.277224</td>\n",
       "      <td>0.192333</td>\n",
       "      <td>0.248830</td>\n",
       "      <td>-0.284948</td>\n",
       "      <td>JQ28</td>\n",
       "    </tr>\n",
       "    <tr>\n",
       "      <th>12</th>\n",
       "      <td>293.0</td>\n",
       "      <td>0.204</td>\n",
       "      <td>2.400</td>\n",
       "      <td>1.284491</td>\n",
       "      <td>0.130125</td>\n",
       "      <td>0.229425</td>\n",
       "      <td>0.123738</td>\n",
       "      <td>JS52</td>\n",
       "    </tr>\n",
       "    <tr>\n",
       "      <th>13</th>\n",
       "      <td>153.0</td>\n",
       "      <td>0.828</td>\n",
       "      <td>2.424</td>\n",
       "      <td>1.571843</td>\n",
       "      <td>0.142954</td>\n",
       "      <td>0.101736</td>\n",
       "      <td>-0.769278</td>\n",
       "      <td>MF20</td>\n",
       "    </tr>\n",
       "    <tr>\n",
       "      <th>14</th>\n",
       "      <td>149.0</td>\n",
       "      <td>0.492</td>\n",
       "      <td>1.788</td>\n",
       "      <td>0.938819</td>\n",
       "      <td>0.056836</td>\n",
       "      <td>0.785940</td>\n",
       "      <td>0.270476</td>\n",
       "      <td>MS55</td>\n",
       "    </tr>\n",
       "    <tr>\n",
       "      <th>15</th>\n",
       "      <td>156.0</td>\n",
       "      <td>0.324</td>\n",
       "      <td>2.616</td>\n",
       "      <td>1.456769</td>\n",
       "      <td>0.155767</td>\n",
       "      <td>0.211470</td>\n",
       "      <td>0.151588</td>\n",
       "      <td>PC29</td>\n",
       "    </tr>\n",
       "    <tr>\n",
       "      <th>16</th>\n",
       "      <td>308.0</td>\n",
       "      <td>0.396</td>\n",
       "      <td>1.608</td>\n",
       "      <td>1.048714</td>\n",
       "      <td>0.046416</td>\n",
       "      <td>0.097028</td>\n",
       "      <td>0.125705</td>\n",
       "      <td>PM32</td>\n",
       "    </tr>\n",
       "    <tr>\n",
       "      <th>17</th>\n",
       "      <td>152.0</td>\n",
       "      <td>0.372</td>\n",
       "      <td>2.436</td>\n",
       "      <td>0.907658</td>\n",
       "      <td>0.128420</td>\n",
       "      <td>1.903573</td>\n",
       "      <td>4.749115</td>\n",
       "      <td>PS42</td>\n",
       "    </tr>\n",
       "    <tr>\n",
       "      <th>18</th>\n",
       "      <td>153.0</td>\n",
       "      <td>0.276</td>\n",
       "      <td>2.148</td>\n",
       "      <td>0.988941</td>\n",
       "      <td>0.124843</td>\n",
       "      <td>0.499671</td>\n",
       "      <td>0.200059</td>\n",
       "      <td>RR45</td>\n",
       "    </tr>\n",
       "    <tr>\n",
       "      <th>19</th>\n",
       "      <td>146.0</td>\n",
       "      <td>0.228</td>\n",
       "      <td>2.220</td>\n",
       "      <td>1.184466</td>\n",
       "      <td>0.197616</td>\n",
       "      <td>0.464832</td>\n",
       "      <td>-0.507275</td>\n",
       "      <td>RW32</td>\n",
       "    </tr>\n",
       "    <tr>\n",
       "      <th>20</th>\n",
       "      <td>154.0</td>\n",
       "      <td>0.684</td>\n",
       "      <td>2.184</td>\n",
       "      <td>1.300597</td>\n",
       "      <td>0.094621</td>\n",
       "      <td>0.272054</td>\n",
       "      <td>-0.308279</td>\n",
       "      <td>SF1</td>\n",
       "    </tr>\n",
       "    <tr>\n",
       "      <th>21</th>\n",
       "      <td>307.0</td>\n",
       "      <td>0.300</td>\n",
       "      <td>2.148</td>\n",
       "      <td>0.973134</td>\n",
       "      <td>0.081594</td>\n",
       "      <td>1.000358</td>\n",
       "      <td>2.087748</td>\n",
       "      <td>YW13</td>\n",
       "    </tr>\n",
       "    <tr>\n",
       "      <th>22</th>\n",
       "      <td>4414.0</td>\n",
       "      <td>0.180</td>\n",
       "      <td>2.616</td>\n",
       "      <td>1.146843</td>\n",
       "      <td>0.143565</td>\n",
       "      <td>0.645843</td>\n",
       "      <td>0.276898</td>\n",
       "      <td>all_users</td>\n",
       "    </tr>\n",
       "  </tbody>\n",
       "</table>\n",
       "</div>"
      ],
      "text/plain": [
       "    # Annotations    min    max      mean  variance  skewness  kurtosis  \\\n",
       "0           307.0  0.492  2.016  1.090124  0.081020  0.977200  0.959664   \n",
       "1           153.0  0.564  2.160  1.071294  0.074505  0.933502  1.332054   \n",
       "2           308.0  0.276  2.088  1.080935  0.083344  0.464313  0.639929   \n",
       "3           152.0  0.612  2.244  1.237974  0.116471  0.607737 -0.313408   \n",
       "4           152.0  0.552  2.496  1.417184  0.101046  0.268666  0.712247   \n",
       "5           154.0  0.480  1.872  1.031922  0.067122  0.731036  0.679540   \n",
       "6           158.0  0.504  1.932  1.100127  0.104537  0.650358 -0.092005   \n",
       "7           154.0  0.180  2.028  0.932416  0.123974  0.856840  0.754349   \n",
       "8           153.0  0.288  2.460  1.007216  0.165798  1.022538  1.678622   \n",
       "9           301.0  0.204  2.256  1.289741  0.212006  0.003985 -0.952714   \n",
       "10          157.0  0.588  2.340  1.048968  0.072654  1.142722  2.578293   \n",
       "11          294.0  0.276  2.448  1.277224  0.192333  0.248830 -0.284948   \n",
       "12          293.0  0.204  2.400  1.284491  0.130125  0.229425  0.123738   \n",
       "13          153.0  0.828  2.424  1.571843  0.142954  0.101736 -0.769278   \n",
       "14          149.0  0.492  1.788  0.938819  0.056836  0.785940  0.270476   \n",
       "15          156.0  0.324  2.616  1.456769  0.155767  0.211470  0.151588   \n",
       "16          308.0  0.396  1.608  1.048714  0.046416  0.097028  0.125705   \n",
       "17          152.0  0.372  2.436  0.907658  0.128420  1.903573  4.749115   \n",
       "18          153.0  0.276  2.148  0.988941  0.124843  0.499671  0.200059   \n",
       "19          146.0  0.228  2.220  1.184466  0.197616  0.464832 -0.507275   \n",
       "20          154.0  0.684  2.184  1.300597  0.094621  0.272054 -0.308279   \n",
       "21          307.0  0.300  2.148  0.973134  0.081594  1.000358  2.087748   \n",
       "22         4414.0  0.180  2.616  1.146843  0.143565  0.645843  0.276898   \n",
       "\n",
       "         user  \n",
       "0        AB73  \n",
       "1        AF82  \n",
       "2        AL29  \n",
       "3        AW18  \n",
       "4        CB23  \n",
       "5        CB24  \n",
       "6        CF58  \n",
       "7        DG12  \n",
       "8        DH42  \n",
       "9        DL24  \n",
       "10       JL61  \n",
       "11       JQ28  \n",
       "12       JS52  \n",
       "13       MF20  \n",
       "14       MS55  \n",
       "15       PC29  \n",
       "16       PM32  \n",
       "17       PS42  \n",
       "18       RR45  \n",
       "19       RW32  \n",
       "20        SF1  \n",
       "21       YW13  \n",
       "22  all_users  "
      ]
     },
     "execution_count": 12,
     "metadata": {},
     "output_type": "execute_result"
    }
   ],
   "source": [
    "df = overal_timings_for('static')\n",
    "df"
   ]
  },
  {
   "cell_type": "markdown",
   "metadata": {},
   "source": [
    "## Find interesting additionall timings\n",
    "\n",
    "The tables above show a summary of the timings for the different types of labels in general. Therefor this represents the avarage gesture so do say. One could wonder now if interesting special timings exist for individual gestures. Computing the table for all gesture / user combination would be possible and fast, but would be too much information to consume.\n",
    "\n",
    "An alternative is, beside the overal describtions above, to search for the extream examples of timing. I therefor search for the gesture with the longest avarage, the shortest avarage, and the highest and lowest variance. I decided to do that for the manual label type."
   ]
  },
  {
   "cell_type": "code",
   "execution_count": 13,
   "metadata": {},
   "outputs": [],
   "source": [
    "def total_manual_timing_for(gesture):\n",
    "    total = []\n",
    "    for key, data in users.items():\n",
    "        if not 'glove_merged' in data:\n",
    "            continue\n",
    "        total = total + get_deltas_for(key, data, gesture, 'manual')\n",
    "    return total\n",
    "\n",
    "def get_all_total_timings():\n",
    "    gestures = users['AB73']['label'][0]['data']['gesture'].unique()\n",
    "    timings = {}\n",
    "    for gesture in gestures:\n",
    "        a = np.array(total_manual_timing_for(gesture))\n",
    "        timings[gesture] = a\n",
    "    return timings\n",
    "\n",
    "def shortest(timings):\n",
    "    k, v, m = None, None, 10\n",
    "    for key, val in timings.items():\n",
    "        if np.mean(val) < m:\n",
    "            k = key; m = np.mean(val); v = val\n",
    "    return k, v\n",
    "\n",
    "def longest(timings):\n",
    "    k, v, l = None, None, 0\n",
    "    for key, val in timings.items():\n",
    "        if np.mean(val) > l:\n",
    "            k = key; l = np.mean(val); v = val\n",
    "    return k, v\n",
    "\n",
    "def least_var(timings):\n",
    "    k, v, m = None, None, 10\n",
    "    for key, val in timings.items():\n",
    "        if np.var(val) < m:\n",
    "            k = key; m = np.var(val); v = val\n",
    "    return k, v\n",
    "\n",
    "def most_var(timings):\n",
    "    k, v, l = None, None, 0\n",
    "    for key, val in timings.items():\n",
    "        if np.var(val) > l:\n",
    "            k = key; l = np.var(val); v = val\n",
    "    return k, v"
   ]
  },
  {
   "cell_type": "markdown",
   "metadata": {},
   "source": [
    "It appears the \"Shoot\" gesture is the one with the shortest avarage duration with 0.75s on avarage. The \"Gasp 1\" Gesture on the other hand is the one who has the longest avarage duration with 1.69s on avarage. The \"Down\" Gesture is the Gesture with the most uniform timing (a variance of 0.03s). The \"Grasp 2\" gesture on the other hand is the gesture with the highest variance (0.18s). With this we can see that while the timing of different gestures vary a lot the timing of individual gestures even between different people who perform them, vary not too much.\n",
    "\n",
    "NOTE: I did not have time to explor this in the thesis, but I am sure you can harness that fact f.e. with some kernels of different lenght an so on..."
   ]
  },
  {
   "cell_type": "code",
   "execution_count": 14,
   "metadata": {},
   "outputs": [
    {
     "name": "stdout",
     "output_type": "stream",
     "text": [
      "Shoot DescribeResult(nobs=144, minmax=(0.18, 1.86), mean=0.7487499999999999, variance=0.13202527972027972, skewness=0.9236688173497358, kurtosis=0.5626034290731519)\n"
     ]
    },
    {
     "data": {
      "image/png": "[encoded data removed]",
      "text/plain": [
       "<Figure size 432x288 with 1 Axes>"
      ]
     },
     "metadata": {
      "needs_background": "light"
     },
     "output_type": "display_data"
    },
    {
     "name": "stdout",
     "output_type": "stream",
     "text": [
      "Grasp 1 DescribeResult(nobs=126, minmax=(0.612, 2.568), mean=1.6940952380952383, variance=0.15873656685714282, skewness=-0.09884750589811062, kurtosis=-0.53656151921408)\n"
     ]
    },
    {
     "data": {
      "image/png": "[encoded data removed]",
      "text/plain": [
       "<Figure size 432x288 with 1 Axes>"
      ]
     },
     "metadata": {
      "needs_background": "light"
     },
     "output_type": "display_data"
    },
    {
     "name": "stdout",
     "output_type": "stream",
     "text": [
      "Down DescribeResult(nobs=148, minmax=(0.372, 1.404), mean=0.8203783783783783, variance=0.028839474903474903, skewness=0.685927675313145, kurtosis=1.205921241671458)\n"
     ]
    },
    {
     "data": {
      "image/png": "[encoded data removed]",
      "text/plain": [
       "<Figure size 432x288 with 1 Axes>"
      ]
     },
     "metadata": {
      "needs_background": "light"
     },
     "output_type": "display_data"
    },
    {
     "name": "stdout",
     "output_type": "stream",
     "text": [
      "Grasp 2 DescribeResult(nobs=132, minmax=(0.324, 2.412), mean=1.4917272727272726, variance=0.17706752810548232, skewness=-0.19088915345150498, kurtosis=-0.5340134208290879)\n"
     ]
    },
    {
     "data": {
      "image/png": "[encoded data removed]",
      "text/plain": [
       "<Figure size 432x288 with 1 Axes>"
      ]
     },
     "metadata": {
      "needs_background": "light"
     },
     "output_type": "display_data"
    }
   ],
   "source": [
    "timings = get_all_total_timings()\n",
    "\n",
    "user, values = shortest(timings)\n",
    "print(user, scipy.stats.describe(values))\n",
    "plt.hist(values)\n",
    "plt.show()\n",
    "\n",
    "user, values = longest(timings)\n",
    "print(user, scipy.stats.describe(values))\n",
    "plt.hist(values)\n",
    "plt.show()\n",
    "\n",
    "user, values = least_var(timings)\n",
    "print(user, scipy.stats.describe(values))\n",
    "plt.hist(values)\n",
    "plt.show()\n",
    "\n",
    "user, values = most_var(timings)\n",
    "print(user, scipy.stats.describe(values))\n",
    "plt.hist(values)\n",
    "plt.show()"
   ]
  },
  {
   "cell_type": "markdown",
   "metadata": {},
   "source": [
    "### Generate Timing histograms for all user / gesture combintions\n",
    "\n",
    "I generate all timing histograms for each user / gesture combination to have them at hand. This is too much data to be covered in the thesis, but you can look up individual timings out of interest or for reference."
   ]
  },
  {
   "cell_type": "code",
   "execution_count": 21,
   "metadata": {},
   "outputs": [],
   "source": [
    "usernames = users.keys()\n",
    "gestures = users['AB73']['label'][0]['data']['gesture'].unique()\n",
    "ud_helper = iutils.UserDataHelper(list(usernames), gestures, Constants().raw_headers)"
   ]
  },
  {
   "cell_type": "code",
   "execution_count": 22,
   "metadata": {},
   "outputs": [
    {
     "data": {
      "application/vnd.jupyter.widget-view+json": {
       "model_id": "",
       "version_major": 2,
       "version_minor": 0
      },
      "text/plain": [
       "HBox(children=(IntProgress(value=0, description='gestures', max=31, style=ProgressStyle(description_width='ini…"
      ]
     },
     "metadata": {},
     "output_type": "display_data"
    },
    {
     "data": {
      "application/vnd.jupyter.widget-view+json": {
       "model_id": "e87bd2a28a4f4453b13a8954272cfbd7",
       "version_major": 2,
       "version_minor": 0
      },
      "text/plain": [
       "HBox(children=(IntProgress(value=0, description='users', max=23, style=ProgressStyle(description_width='initia…"
      ]
     },
     "metadata": {},
     "output_type": "display_data"
    },
    {
     "name": "stdout",
     "output_type": "stream",
     "text": [
      "skipping userAE30\n"
     ]
    },
    {
     "data": {
      "application/vnd.jupyter.widget-view+json": {
       "model_id": "fac53d2f57074493b64792426f9dd6c8",
       "version_major": 2,
       "version_minor": 0
      },
      "text/plain": [
       "HBox(children=(IntProgress(value=0, description='users', max=23, style=ProgressStyle(description_width='initia…"
      ]
     },
     "metadata": {},
     "output_type": "display_data"
    },
    {
     "name": "stdout",
     "output_type": "stream",
     "text": [
      "skipping userAE30\n"
     ]
    },
    {
     "data": {
      "application/vnd.jupyter.widget-view+json": {
       "model_id": "5f902ac413b34c348c73d33103e6d663",
       "version_major": 2,
       "version_minor": 0
      },
      "text/plain": [
       "HBox(children=(IntProgress(value=0, description='users', max=23, style=ProgressStyle(description_width='initia…"
      ]
     },
     "metadata": {},
     "output_type": "display_data"
    },
    {
     "name": "stdout",
     "output_type": "stream",
     "text": [
      "skipping userAE30\n"
     ]
    },
    {
     "data": {
      "application/vnd.jupyter.widget-view+json": {
       "model_id": "027338ad1bf947638ac618b6a10bc9db",
       "version_major": 2,
       "version_minor": 0
      },
      "text/plain": [
       "HBox(children=(IntProgress(value=0, description='users', max=23, style=ProgressStyle(description_width='initia…"
      ]
     },
     "metadata": {},
     "output_type": "display_data"
    },
    {
     "name": "stdout",
     "output_type": "stream",
     "text": [
      "skipping userAE30\n"
     ]
    },
    {
     "data": {
      "application/vnd.jupyter.widget-view+json": {
       "model_id": "dbe6f210ef3d4b66be9b1eddc06b00ea",
       "version_major": 2,
       "version_minor": 0
      },
      "text/plain": [
       "HBox(children=(IntProgress(value=0, description='users', max=23, style=ProgressStyle(description_width='initia…"
      ]
     },
     "metadata": {},
     "output_type": "display_data"
    },
    {
     "name": "stdout",
     "output_type": "stream",
     "text": [
      "skipping userAE30\n"
     ]
    },
    {
     "data": {
      "application/vnd.jupyter.widget-view+json": {
       "model_id": "0d46865d2f3c4fb7ad0057832b6140d4",
       "version_major": 2,
       "version_minor": 0
      },
      "text/plain": [
       "HBox(children=(IntProgress(value=0, description='users', max=23, style=ProgressStyle(description_width='initia…"
      ]
     },
     "metadata": {},
     "output_type": "display_data"
    },
    {
     "name": "stdout",
     "output_type": "stream",
     "text": [
      "skipping userAE30\n"
     ]
    },
    {
     "data": {
      "application/vnd.jupyter.widget-view+json": {
       "model_id": "933f985ce5164f14870ef7285b04cfb2",
       "version_major": 2,
       "version_minor": 0
      },
      "text/plain": [
       "HBox(children=(IntProgress(value=0, description='users', max=23, style=ProgressStyle(description_width='initia…"
      ]
     },
     "metadata": {},
     "output_type": "display_data"
    },
    {
     "name": "stdout",
     "output_type": "stream",
     "text": [
      "skipping userAE30\n"
     ]
    },
    {
     "data": {
      "application/vnd.jupyter.widget-view+json": {
       "model_id": "50f6c455d6634621a36209e6fbbb2f74",
       "version_major": 2,
       "version_minor": 0
      },
      "text/plain": [
       "HBox(children=(IntProgress(value=0, description='users', max=23, style=ProgressStyle(description_width='initia…"
      ]
     },
     "metadata": {},
     "output_type": "display_data"
    },
    {
     "name": "stdout",
     "output_type": "stream",
     "text": [
      "skipping userAE30\n"
     ]
    },
    {
     "data": {
      "application/vnd.jupyter.widget-view+json": {
       "model_id": "dc0d3d17682245bba7e9fa485b566c7f",
       "version_major": 2,
       "version_minor": 0
      },
      "text/plain": [
       "HBox(children=(IntProgress(value=0, description='users', max=23, style=ProgressStyle(description_width='initia…"
      ]
     },
     "metadata": {},
     "output_type": "display_data"
    },
    {
     "name": "stdout",
     "output_type": "stream",
     "text": [
      "skipping userAE30\n"
     ]
    },
    {
     "data": {
      "application/vnd.jupyter.widget-view+json": {
       "model_id": "26f5d4279c394a62bd226801d1dfa8c4",
       "version_major": 2,
       "version_minor": 0
      },
      "text/plain": [
       "HBox(children=(IntProgress(value=0, description='users', max=23, style=ProgressStyle(description_width='initia…"
      ]
     },
     "metadata": {},
     "output_type": "display_data"
    },
    {
     "name": "stdout",
     "output_type": "stream",
     "text": [
      "skipping userAE30\n"
     ]
    },
    {
     "data": {
      "application/vnd.jupyter.widget-view+json": {
       "model_id": "a89affab9e0b4a5ea485c193cf16654a",
       "version_major": 2,
       "version_minor": 0
      },
      "text/plain": [
       "HBox(children=(IntProgress(value=0, description='users', max=23, style=ProgressStyle(description_width='initia…"
      ]
     },
     "metadata": {},
     "output_type": "display_data"
    },
    {
     "name": "stdout",
     "output_type": "stream",
     "text": [
      "skipping userAE30\n"
     ]
    },
    {
     "data": {
      "application/vnd.jupyter.widget-view+json": {
       "model_id": "f3a46ec4f71d4f3f983d86a3f84b42a9",
       "version_major": 2,
       "version_minor": 0
      },
      "text/plain": [
       "HBox(children=(IntProgress(value=0, description='users', max=23, style=ProgressStyle(description_width='initia…"
      ]
     },
     "metadata": {},
     "output_type": "display_data"
    },
    {
     "name": "stdout",
     "output_type": "stream",
     "text": [
      "skipping userAE30\n"
     ]
    },
    {
     "data": {
      "application/vnd.jupyter.widget-view+json": {
       "model_id": "3b76a8551300406c8c325324ca55d765",
       "version_major": 2,
       "version_minor": 0
      },
      "text/plain": [
       "HBox(children=(IntProgress(value=0, description='users', max=23, style=ProgressStyle(description_width='initia…"
      ]
     },
     "metadata": {},
     "output_type": "display_data"
    },
    {
     "name": "stdout",
     "output_type": "stream",
     "text": [
      "skipping userAE30\n"
     ]
    },
    {
     "data": {
      "application/vnd.jupyter.widget-view+json": {
       "model_id": "32f6affb871e4cd1a86190dfbe127e6c",
       "version_major": 2,
       "version_minor": 0
      },
      "text/plain": [
       "HBox(children=(IntProgress(value=0, description='users', max=23, style=ProgressStyle(description_width='initia…"
      ]
     },
     "metadata": {},
     "output_type": "display_data"
    },
    {
     "name": "stdout",
     "output_type": "stream",
     "text": [
      "skipping userAE30\n"
     ]
    },
    {
     "data": {
      "application/vnd.jupyter.widget-view+json": {
       "model_id": "0c72f9e98fc1449fa875a5b265e50ce1",
       "version_major": 2,
       "version_minor": 0
      },
      "text/plain": [
       "HBox(children=(IntProgress(value=0, description='users', max=23, style=ProgressStyle(description_width='initia…"
      ]
     },
     "metadata": {},
     "output_type": "display_data"
    },
    {
     "name": "stdout",
     "output_type": "stream",
     "text": [
      "skipping userAE30\n"
     ]
    },
    {
     "data": {
      "application/vnd.jupyter.widget-view+json": {
       "model_id": "d6b848a1fd0b479fa7642e099ce02bc7",
       "version_major": 2,
       "version_minor": 0
      },
      "text/plain": [
       "HBox(children=(IntProgress(value=0, description='users', max=23, style=ProgressStyle(description_width='initia…"
      ]
     },
     "metadata": {},
     "output_type": "display_data"
    },
    {
     "name": "stdout",
     "output_type": "stream",
     "text": [
      "skipping userAE30\n"
     ]
    },
    {
     "data": {
      "application/vnd.jupyter.widget-view+json": {
       "model_id": "5e8a4cd71df845ab8536f893661e098b",
       "version_major": 2,
       "version_minor": 0
      },
      "text/plain": [
       "HBox(children=(IntProgress(value=0, description='users', max=23, style=ProgressStyle(description_width='initia…"
      ]
     },
     "metadata": {},
     "output_type": "display_data"
    },
    {
     "name": "stdout",
     "output_type": "stream",
     "text": [
      "skipping userAE30\n"
     ]
    },
    {
     "data": {
      "application/vnd.jupyter.widget-view+json": {
       "model_id": "c1ec7624be4d44e0a91a674cbcec23d4",
       "version_major": 2,
       "version_minor": 0
      },
      "text/plain": [
       "HBox(children=(IntProgress(value=0, description='users', max=23, style=ProgressStyle(description_width='initia…"
      ]
     },
     "metadata": {},
     "output_type": "display_data"
    },
    {
     "name": "stdout",
     "output_type": "stream",
     "text": [
      "skipping userAE30\n"
     ]
    },
    {
     "data": {
      "application/vnd.jupyter.widget-view+json": {
       "model_id": "a9108bf16ea049d3befa67516fea0423",
       "version_major": 2,
       "version_minor": 0
      },
      "text/plain": [
       "HBox(children=(IntProgress(value=0, description='users', max=23, style=ProgressStyle(description_width='initia…"
      ]
     },
     "metadata": {},
     "output_type": "display_data"
    },
    {
     "name": "stdout",
     "output_type": "stream",
     "text": [
      "skipping userAE30\n"
     ]
    },
    {
     "data": {
      "application/vnd.jupyter.widget-view+json": {
       "model_id": "68787c40787942f59575fa4a17db910c",
       "version_major": 2,
       "version_minor": 0
      },
      "text/plain": [
       "HBox(children=(IntProgress(value=0, description='users', max=23, style=ProgressStyle(description_width='initia…"
      ]
     },
     "metadata": {},
     "output_type": "display_data"
    },
    {
     "name": "stdout",
     "output_type": "stream",
     "text": [
      "skipping userAE30\n"
     ]
    },
    {
     "data": {
      "application/vnd.jupyter.widget-view+json": {
       "model_id": "c6f2185a89c946859e46c6aa6122c204",
       "version_major": 2,
       "version_minor": 0
      },
      "text/plain": [
       "HBox(children=(IntProgress(value=0, description='users', max=23, style=ProgressStyle(description_width='initia…"
      ]
     },
     "metadata": {},
     "output_type": "display_data"
    },
    {
     "name": "stdout",
     "output_type": "stream",
     "text": [
      "skipping userAE30\n"
     ]
    },
    {
     "data": {
      "application/vnd.jupyter.widget-view+json": {
       "model_id": "3f4c972e958d478092c51346076124f7",
       "version_major": 2,
       "version_minor": 0
      },
      "text/plain": [
       "HBox(children=(IntProgress(value=0, description='users', max=23, style=ProgressStyle(description_width='initia…"
      ]
     },
     "metadata": {},
     "output_type": "display_data"
    },
    {
     "name": "stdout",
     "output_type": "stream",
     "text": [
      "skipping userAE30\n"
     ]
    },
    {
     "data": {
      "application/vnd.jupyter.widget-view+json": {
       "model_id": "0537498542624a26bd4e424b7a373ace",
       "version_major": 2,
       "version_minor": 0
      },
      "text/plain": [
       "HBox(children=(IntProgress(value=0, description='users', max=23, style=ProgressStyle(description_width='initia…"
      ]
     },
     "metadata": {},
     "output_type": "display_data"
    },
    {
     "name": "stdout",
     "output_type": "stream",
     "text": [
      "skipping userAE30\n"
     ]
    },
    {
     "data": {
      "application/vnd.jupyter.widget-view+json": {
       "model_id": "de9c0a0879a04602b90de500c2d77a18",
       "version_major": 2,
       "version_minor": 0
      },
      "text/plain": [
       "HBox(children=(IntProgress(value=0, description='users', max=23, style=ProgressStyle(description_width='initia…"
      ]
     },
     "metadata": {},
     "output_type": "display_data"
    },
    {
     "name": "stdout",
     "output_type": "stream",
     "text": [
      "skipping userAE30\n"
     ]
    },
    {
     "data": {
      "application/vnd.jupyter.widget-view+json": {
       "model_id": "a0cb8d4690974d59bb525a91ec193d9d",
       "version_major": 2,
       "version_minor": 0
      },
      "text/plain": [
       "HBox(children=(IntProgress(value=0, description='users', max=23, style=ProgressStyle(description_width='initia…"
      ]
     },
     "metadata": {},
     "output_type": "display_data"
    },
    {
     "name": "stdout",
     "output_type": "stream",
     "text": [
      "skipping userAE30\n"
     ]
    },
    {
     "data": {
      "application/vnd.jupyter.widget-view+json": {
       "model_id": "239297d2b0f0435e8c87a8bcdc58490c",
       "version_major": 2,
       "version_minor": 0
      },
      "text/plain": [
       "HBox(children=(IntProgress(value=0, description='users', max=23, style=ProgressStyle(description_width='initia…"
      ]
     },
     "metadata": {},
     "output_type": "display_data"
    },
    {
     "name": "stdout",
     "output_type": "stream",
     "text": [
      "skipping userAE30\n"
     ]
    },
    {
     "data": {
      "application/vnd.jupyter.widget-view+json": {
       "model_id": "244f14173d6544a38551e2c52f81d5cd",
       "version_major": 2,
       "version_minor": 0
      },
      "text/plain": [
       "HBox(children=(IntProgress(value=0, description='users', max=23, style=ProgressStyle(description_width='initia…"
      ]
     },
     "metadata": {},
     "output_type": "display_data"
    },
    {
     "name": "stdout",
     "output_type": "stream",
     "text": [
      "skipping userAE30\n"
     ]
    },
    {
     "data": {
      "application/vnd.jupyter.widget-view+json": {
       "model_id": "3032dd1934674d5ca95b985b3e261bfd",
       "version_major": 2,
       "version_minor": 0
      },
      "text/plain": [
       "HBox(children=(IntProgress(value=0, description='users', max=23, style=ProgressStyle(description_width='initia…"
      ]
     },
     "metadata": {},
     "output_type": "display_data"
    },
    {
     "name": "stdout",
     "output_type": "stream",
     "text": [
      "skipping userAE30\n"
     ]
    },
    {
     "data": {
      "application/vnd.jupyter.widget-view+json": {
       "model_id": "a6ef51fabb504d5cb634bcc5d976a581",
       "version_major": 2,
       "version_minor": 0
      },
      "text/plain": [
       "HBox(children=(IntProgress(value=0, description='users', max=23, style=ProgressStyle(description_width='initia…"
      ]
     },
     "metadata": {},
     "output_type": "display_data"
    },
    {
     "name": "stdout",
     "output_type": "stream",
     "text": [
      "skipping userAE30\n"
     ]
    },
    {
     "data": {
      "application/vnd.jupyter.widget-view+json": {
       "model_id": "775671a04fb64da18f0d0e15852361fb",
       "version_major": 2,
       "version_minor": 0
      },
      "text/plain": [
       "HBox(children=(IntProgress(value=0, description='users', max=23, style=ProgressStyle(description_width='initia…"
      ]
     },
     "metadata": {},
     "output_type": "display_data"
    },
    {
     "name": "stdout",
     "output_type": "stream",
     "text": [
      "skipping userAE30\n"
     ]
    },
    {
     "data": {
      "application/vnd.jupyter.widget-view+json": {
       "model_id": "15d6a419fabb44138b7986afd83ff289",
       "version_major": 2,
       "version_minor": 0
      },
      "text/plain": [
       "HBox(children=(IntProgress(value=0, description='users', max=23, style=ProgressStyle(description_width='initia…"
      ]
     },
     "metadata": {},
     "output_type": "display_data"
    },
    {
     "name": "stdout",
     "output_type": "stream",
     "text": [
      "skipping userAE30\n",
      "\r",
      "skipped #714 image generations\n"
     ]
    },
    {
     "data": {
      "application/vnd.jupyter.widget-view+json": {
       "model_id": "",
       "version_major": 2,
       "version_minor": 0
      },
      "text/plain": [
       "HBox(children=(IntProgress(value=0, description='gestures', max=31, style=ProgressStyle(description_width='ini…"
      ]
     },
     "metadata": {},
     "output_type": "display_data"
    },
    {
     "data": {
      "application/vnd.jupyter.widget-view+json": {
       "model_id": "b71725ef987f4dd9b01d7c5f7dc705bf",
       "version_major": 2,
       "version_minor": 0
      },
      "text/plain": [
       "HBox(children=(IntProgress(value=0, description='users', max=23, style=ProgressStyle(description_width='initia…"
      ]
     },
     "metadata": {},
     "output_type": "display_data"
    },
    {
     "name": "stdout",
     "output_type": "stream",
     "text": [
      "skipping userAE30\n"
     ]
    },
    {
     "data": {
      "application/vnd.jupyter.widget-view+json": {
       "model_id": "733c77f6913840bf9cee2757a7649eb4",
       "version_major": 2,
       "version_minor": 0
      },
      "text/plain": [
       "HBox(children=(IntProgress(value=0, description='users', max=23, style=ProgressStyle(description_width='initia…"
      ]
     },
     "metadata": {},
     "output_type": "display_data"
    },
    {
     "name": "stdout",
     "output_type": "stream",
     "text": [
      "skipping userAE30\n"
     ]
    },
    {
     "data": {
      "application/vnd.jupyter.widget-view+json": {
       "model_id": "4ace6549a4e8406486862dc94d2c5301",
       "version_major": 2,
       "version_minor": 0
      },
      "text/plain": [
       "HBox(children=(IntProgress(value=0, description='users', max=23, style=ProgressStyle(description_width='initia…"
      ]
     },
     "metadata": {},
     "output_type": "display_data"
    },
    {
     "name": "stdout",
     "output_type": "stream",
     "text": [
      "skipping userAE30\n"
     ]
    },
    {
     "data": {
      "application/vnd.jupyter.widget-view+json": {
       "model_id": "fed98b8e60094b5db91e98f5d64ca721",
       "version_major": 2,
       "version_minor": 0
      },
      "text/plain": [
       "HBox(children=(IntProgress(value=0, description='users', max=23, style=ProgressStyle(description_width='initia…"
      ]
     },
     "metadata": {},
     "output_type": "display_data"
    },
    {
     "name": "stdout",
     "output_type": "stream",
     "text": [
      "skipping userAE30\n"
     ]
    },
    {
     "data": {
      "application/vnd.jupyter.widget-view+json": {
       "model_id": "21951df76d0b4c5c8a7b80177f94e1d9",
       "version_major": 2,
       "version_minor": 0
      },
      "text/plain": [
       "HBox(children=(IntProgress(value=0, description='users', max=23, style=ProgressStyle(description_width='initia…"
      ]
     },
     "metadata": {},
     "output_type": "display_data"
    },
    {
     "name": "stdout",
     "output_type": "stream",
     "text": [
      "skipping userAE30\n"
     ]
    },
    {
     "data": {
      "application/vnd.jupyter.widget-view+json": {
       "model_id": "9fa2d9906445475fb565108bb64dae62",
       "version_major": 2,
       "version_minor": 0
      },
      "text/plain": [
       "HBox(children=(IntProgress(value=0, description='users', max=23, style=ProgressStyle(description_width='initia…"
      ]
     },
     "metadata": {},
     "output_type": "display_data"
    },
    {
     "name": "stdout",
     "output_type": "stream",
     "text": [
      "skipping userAE30\n"
     ]
    },
    {
     "data": {
      "application/vnd.jupyter.widget-view+json": {
       "model_id": "65d75826eb894fbcac3ecc84fce7410f",
       "version_major": 2,
       "version_minor": 0
      },
      "text/plain": [
       "HBox(children=(IntProgress(value=0, description='users', max=23, style=ProgressStyle(description_width='initia…"
      ]
     },
     "metadata": {},
     "output_type": "display_data"
    },
    {
     "name": "stdout",
     "output_type": "stream",
     "text": [
      "skipping userAE30\n"
     ]
    },
    {
     "data": {
      "application/vnd.jupyter.widget-view+json": {
       "model_id": "babbd51ab8044dd098274949b33d52d2",
       "version_major": 2,
       "version_minor": 0
      },
      "text/plain": [
       "HBox(children=(IntProgress(value=0, description='users', max=23, style=ProgressStyle(description_width='initia…"
      ]
     },
     "metadata": {},
     "output_type": "display_data"
    },
    {
     "name": "stdout",
     "output_type": "stream",
     "text": [
      "skipping userAE30\n"
     ]
    },
    {
     "data": {
      "application/vnd.jupyter.widget-view+json": {
       "model_id": "ca3bc89c40e64bcb8accdbeeac157420",
       "version_major": 2,
       "version_minor": 0
      },
      "text/plain": [
       "HBox(children=(IntProgress(value=0, description='users', max=23, style=ProgressStyle(description_width='initia…"
      ]
     },
     "metadata": {},
     "output_type": "display_data"
    },
    {
     "name": "stdout",
     "output_type": "stream",
     "text": [
      "skipping userAE30\n"
     ]
    },
    {
     "data": {
      "application/vnd.jupyter.widget-view+json": {
       "model_id": "b1f71c694a91484e8c148e2f51949311",
       "version_major": 2,
       "version_minor": 0
      },
      "text/plain": [
       "HBox(children=(IntProgress(value=0, description='users', max=23, style=ProgressStyle(description_width='initia…"
      ]
     },
     "metadata": {},
     "output_type": "display_data"
    },
    {
     "name": "stdout",
     "output_type": "stream",
     "text": [
      "skipping userAE30\n"
     ]
    },
    {
     "data": {
      "application/vnd.jupyter.widget-view+json": {
       "model_id": "686e4566104344269d292f8a80df482e",
       "version_major": 2,
       "version_minor": 0
      },
      "text/plain": [
       "HBox(children=(IntProgress(value=0, description='users', max=23, style=ProgressStyle(description_width='initia…"
      ]
     },
     "metadata": {},
     "output_type": "display_data"
    },
    {
     "name": "stdout",
     "output_type": "stream",
     "text": [
      "skipping userAE30\n"
     ]
    },
    {
     "data": {
      "application/vnd.jupyter.widget-view+json": {
       "model_id": "a9757b41f5cb46658152c42ae770669e",
       "version_major": 2,
       "version_minor": 0
      },
      "text/plain": [
       "HBox(children=(IntProgress(value=0, description='users', max=23, style=ProgressStyle(description_width='initia…"
      ]
     },
     "metadata": {},
     "output_type": "display_data"
    },
    {
     "name": "stdout",
     "output_type": "stream",
     "text": [
      "skipping userAE30\n"
     ]
    },
    {
     "data": {
      "application/vnd.jupyter.widget-view+json": {
       "model_id": "aaccaf0ae32b4737b419b93018fcba07",
       "version_major": 2,
       "version_minor": 0
      },
      "text/plain": [
       "HBox(children=(IntProgress(value=0, description='users', max=23, style=ProgressStyle(description_width='initia…"
      ]
     },
     "metadata": {},
     "output_type": "display_data"
    },
    {
     "name": "stdout",
     "output_type": "stream",
     "text": [
      "skipping userAE30\n"
     ]
    },
    {
     "data": {
      "application/vnd.jupyter.widget-view+json": {
       "model_id": "52adb3f8c6f7490fadaee5f0ec0f6de1",
       "version_major": 2,
       "version_minor": 0
      },
      "text/plain": [
       "HBox(children=(IntProgress(value=0, description='users', max=23, style=ProgressStyle(description_width='initia…"
      ]
     },
     "metadata": {},
     "output_type": "display_data"
    },
    {
     "name": "stdout",
     "output_type": "stream",
     "text": [
      "skipping userAE30\n"
     ]
    },
    {
     "data": {
      "application/vnd.jupyter.widget-view+json": {
       "model_id": "a9279de30f294dbdb55b18eaaad3036c",
       "version_major": 2,
       "version_minor": 0
      },
      "text/plain": [
       "HBox(children=(IntProgress(value=0, description='users', max=23, style=ProgressStyle(description_width='initia…"
      ]
     },
     "metadata": {},
     "output_type": "display_data"
    },
    {
     "name": "stdout",
     "output_type": "stream",
     "text": [
      "skipping userAE30\n"
     ]
    },
    {
     "data": {
      "application/vnd.jupyter.widget-view+json": {
       "model_id": "1e5b234d58f24b85b66ff219fe959f31",
       "version_major": 2,
       "version_minor": 0
      },
      "text/plain": [
       "HBox(children=(IntProgress(value=0, description='users', max=23, style=ProgressStyle(description_width='initia…"
      ]
     },
     "metadata": {},
     "output_type": "display_data"
    },
    {
     "name": "stdout",
     "output_type": "stream",
     "text": [
      "skipping userAE30\n"
     ]
    },
    {
     "data": {
      "application/vnd.jupyter.widget-view+json": {
       "model_id": "b704cebc070d4d2ea6c7c8dccff1e1f2",
       "version_major": 2,
       "version_minor": 0
      },
      "text/plain": [
       "HBox(children=(IntProgress(value=0, description='users', max=23, style=ProgressStyle(description_width='initia…"
      ]
     },
     "metadata": {},
     "output_type": "display_data"
    },
    {
     "name": "stdout",
     "output_type": "stream",
     "text": [
      "skipping userAE30\n"
     ]
    },
    {
     "data": {
      "application/vnd.jupyter.widget-view+json": {
       "model_id": "029ab9ad7b81430e81bb5a699a919081",
       "version_major": 2,
       "version_minor": 0
      },
      "text/plain": [
       "HBox(children=(IntProgress(value=0, description='users', max=23, style=ProgressStyle(description_width='initia…"
      ]
     },
     "metadata": {},
     "output_type": "display_data"
    },
    {
     "name": "stdout",
     "output_type": "stream",
     "text": [
      "skipping userAE30\n"
     ]
    },
    {
     "data": {
      "application/vnd.jupyter.widget-view+json": {
       "model_id": "f3d53cf9ca2c4e29aad97c731f5a1c6d",
       "version_major": 2,
       "version_minor": 0
      },
      "text/plain": [
       "HBox(children=(IntProgress(value=0, description='users', max=23, style=ProgressStyle(description_width='initia…"
      ]
     },
     "metadata": {},
     "output_type": "display_data"
    },
    {
     "name": "stdout",
     "output_type": "stream",
     "text": [
      "skipping userAE30\n"
     ]
    },
    {
     "data": {
      "application/vnd.jupyter.widget-view+json": {
       "model_id": "a06a3c5a469941d289b0ca3b44670db7",
       "version_major": 2,
       "version_minor": 0
      },
      "text/plain": [
       "HBox(children=(IntProgress(value=0, description='users', max=23, style=ProgressStyle(description_width='initia…"
      ]
     },
     "metadata": {},
     "output_type": "display_data"
    },
    {
     "name": "stdout",
     "output_type": "stream",
     "text": [
      "skipping userAE30\n"
     ]
    },
    {
     "data": {
      "application/vnd.jupyter.widget-view+json": {
       "model_id": "73812bd8058f4430bd95a26297077a14",
       "version_major": 2,
       "version_minor": 0
      },
      "text/plain": [
       "HBox(children=(IntProgress(value=0, description='users', max=23, style=ProgressStyle(description_width='initia…"
      ]
     },
     "metadata": {},
     "output_type": "display_data"
    },
    {
     "name": "stdout",
     "output_type": "stream",
     "text": [
      "skipping userAE30\n"
     ]
    },
    {
     "data": {
      "application/vnd.jupyter.widget-view+json": {
       "model_id": "3bce0241de1748e0af4a3d904181fdfa",
       "version_major": 2,
       "version_minor": 0
      },
      "text/plain": [
       "HBox(children=(IntProgress(value=0, description='users', max=23, style=ProgressStyle(description_width='initia…"
      ]
     },
     "metadata": {},
     "output_type": "display_data"
    },
    {
     "name": "stdout",
     "output_type": "stream",
     "text": [
      "skipping userAE30\n"
     ]
    },
    {
     "data": {
      "application/vnd.jupyter.widget-view+json": {
       "model_id": "cd7062d5e65f468abbe94b278d8645ce",
       "version_major": 2,
       "version_minor": 0
      },
      "text/plain": [
       "HBox(children=(IntProgress(value=0, description='users', max=23, style=ProgressStyle(description_width='initia…"
      ]
     },
     "metadata": {},
     "output_type": "display_data"
    },
    {
     "name": "stdout",
     "output_type": "stream",
     "text": [
      "skipping userAE30\n"
     ]
    },
    {
     "data": {
      "application/vnd.jupyter.widget-view+json": {
       "model_id": "3b94275c713043d5a10ec1bbe0158794",
       "version_major": 2,
       "version_minor": 0
      },
      "text/plain": [
       "HBox(children=(IntProgress(value=0, description='users', max=23, style=ProgressStyle(description_width='initia…"
      ]
     },
     "metadata": {},
     "output_type": "display_data"
    },
    {
     "name": "stdout",
     "output_type": "stream",
     "text": [
      "skipping userAE30\n"
     ]
    },
    {
     "data": {
      "application/vnd.jupyter.widget-view+json": {
       "model_id": "9969c560a5724bc79aa49f71511cbe16",
       "version_major": 2,
       "version_minor": 0
      },
      "text/plain": [
       "HBox(children=(IntProgress(value=0, description='users', max=23, style=ProgressStyle(description_width='initia…"
      ]
     },
     "metadata": {},
     "output_type": "display_data"
    },
    {
     "name": "stdout",
     "output_type": "stream",
     "text": [
      "skipping userAE30\n"
     ]
    },
    {
     "data": {
      "application/vnd.jupyter.widget-view+json": {
       "model_id": "c3fc94c230b647f5816074daca13a9ea",
       "version_major": 2,
       "version_minor": 0
      },
      "text/plain": [
       "HBox(children=(IntProgress(value=0, description='users', max=23, style=ProgressStyle(description_width='initia…"
      ]
     },
     "metadata": {},
     "output_type": "display_data"
    },
    {
     "name": "stdout",
     "output_type": "stream",
     "text": [
      "skipping userAE30\n"
     ]
    },
    {
     "data": {
      "application/vnd.jupyter.widget-view+json": {
       "model_id": "bca6158f7d08432e80eeffd2ce5caa2b",
       "version_major": 2,
       "version_minor": 0
      },
      "text/plain": [
       "HBox(children=(IntProgress(value=0, description='users', max=23, style=ProgressStyle(description_width='initia…"
      ]
     },
     "metadata": {},
     "output_type": "display_data"
    },
    {
     "name": "stdout",
     "output_type": "stream",
     "text": [
      "skipping userAE30\n"
     ]
    },
    {
     "data": {
      "application/vnd.jupyter.widget-view+json": {
       "model_id": "dfce8f3b7a574bdeaef2bf86d81ca15a",
       "version_major": 2,
       "version_minor": 0
      },
      "text/plain": [
       "HBox(children=(IntProgress(value=0, description='users', max=23, style=ProgressStyle(description_width='initia…"
      ]
     },
     "metadata": {},
     "output_type": "display_data"
    },
    {
     "name": "stdout",
     "output_type": "stream",
     "text": [
      "skipping userAE30\n"
     ]
    },
    {
     "data": {
      "application/vnd.jupyter.widget-view+json": {
       "model_id": "1d4e9f84dcf144a1a912b190d11eed88",
       "version_major": 2,
       "version_minor": 0
      },
      "text/plain": [
       "HBox(children=(IntProgress(value=0, description='users', max=23, style=ProgressStyle(description_width='initia…"
      ]
     },
     "metadata": {},
     "output_type": "display_data"
    },
    {
     "name": "stdout",
     "output_type": "stream",
     "text": [
      "skipping userAE30\n"
     ]
    },
    {
     "data": {
      "application/vnd.jupyter.widget-view+json": {
       "model_id": "2120f2e67cdd44759fb4687febcfcc7f",
       "version_major": 2,
       "version_minor": 0
      },
      "text/plain": [
       "HBox(children=(IntProgress(value=0, description='users', max=23, style=ProgressStyle(description_width='initia…"
      ]
     },
     "metadata": {},
     "output_type": "display_data"
    },
    {
     "name": "stdout",
     "output_type": "stream",
     "text": [
      "skipping userAE30\n"
     ]
    },
    {
     "data": {
      "application/vnd.jupyter.widget-view+json": {
       "model_id": "b9aa60842dbe43f3a6204f0ba0522d28",
       "version_major": 2,
       "version_minor": 0
      },
      "text/plain": [
       "HBox(children=(IntProgress(value=0, description='users', max=23, style=ProgressStyle(description_width='initia…"
      ]
     },
     "metadata": {},
     "output_type": "display_data"
    },
    {
     "name": "stdout",
     "output_type": "stream",
     "text": [
      "skipping userAE30\n",
      "\r",
      "skipped #714 image generations\n"
     ]
    },
    {
     "data": {
      "application/vnd.jupyter.widget-view+json": {
       "model_id": "",
       "version_major": 2,
       "version_minor": 0
      },
      "text/plain": [
       "HBox(children=(IntProgress(value=0, description='gestures', max=31, style=ProgressStyle(description_width='ini…"
      ]
     },
     "metadata": {},
     "output_type": "display_data"
    },
    {
     "data": {
      "application/vnd.jupyter.widget-view+json": {
       "model_id": "210ea8f4089f4cc5a4536812c7958b88",
       "version_major": 2,
       "version_minor": 0
      },
      "text/plain": [
       "HBox(children=(IntProgress(value=0, description='users', max=23, style=ProgressStyle(description_width='initia…"
      ]
     },
     "metadata": {},
     "output_type": "display_data"
    },
    {
     "name": "stdout",
     "output_type": "stream",
     "text": [
      "skipping userAE30\n"
     ]
    },
    {
     "data": {
      "application/vnd.jupyter.widget-view+json": {
       "model_id": "2f32661767aa439b99dad1e0b92943e0",
       "version_major": 2,
       "version_minor": 0
      },
      "text/plain": [
       "HBox(children=(IntProgress(value=0, description='users', max=23, style=ProgressStyle(description_width='initia…"
      ]
     },
     "metadata": {},
     "output_type": "display_data"
    },
    {
     "name": "stdout",
     "output_type": "stream",
     "text": [
      "skipping userAE30\n"
     ]
    },
    {
     "data": {
      "application/vnd.jupyter.widget-view+json": {
       "model_id": "2f8675478c3d400fb5f8c75bfb651496",
       "version_major": 2,
       "version_minor": 0
      },
      "text/plain": [
       "HBox(children=(IntProgress(value=0, description='users', max=23, style=ProgressStyle(description_width='initia…"
      ]
     },
     "metadata": {},
     "output_type": "display_data"
    },
    {
     "name": "stdout",
     "output_type": "stream",
     "text": [
      "skipping userAE30\n"
     ]
    },
    {
     "data": {
      "application/vnd.jupyter.widget-view+json": {
       "model_id": "a63001ecf45b4e81ba598468f402d192",
       "version_major": 2,
       "version_minor": 0
      },
      "text/plain": [
       "HBox(children=(IntProgress(value=0, description='users', max=23, style=ProgressStyle(description_width='initia…"
      ]
     },
     "metadata": {},
     "output_type": "display_data"
    },
    {
     "name": "stdout",
     "output_type": "stream",
     "text": [
      "skipping userAE30\n"
     ]
    },
    {
     "data": {
      "application/vnd.jupyter.widget-view+json": {
       "model_id": "b2f1c4510cdb4836a265f16e70c9a84c",
       "version_major": 2,
       "version_minor": 0
      },
      "text/plain": [
       "HBox(children=(IntProgress(value=0, description='users', max=23, style=ProgressStyle(description_width='initia…"
      ]
     },
     "metadata": {},
     "output_type": "display_data"
    },
    {
     "name": "stdout",
     "output_type": "stream",
     "text": [
      "skipping userAE30\n"
     ]
    },
    {
     "data": {
      "application/vnd.jupyter.widget-view+json": {
       "model_id": "80d2d77fff554b31ad30d1b25bc119cf",
       "version_major": 2,
       "version_minor": 0
      },
      "text/plain": [
       "HBox(children=(IntProgress(value=0, description='users', max=23, style=ProgressStyle(description_width='initia…"
      ]
     },
     "metadata": {},
     "output_type": "display_data"
    },
    {
     "name": "stdout",
     "output_type": "stream",
     "text": [
      "skipping userAE30\n"
     ]
    },
    {
     "data": {
      "application/vnd.jupyter.widget-view+json": {
       "model_id": "923b01d238fe458abe8f2e701bacc388",
       "version_major": 2,
       "version_minor": 0
      },
      "text/plain": [
       "HBox(children=(IntProgress(value=0, description='users', max=23, style=ProgressStyle(description_width='initia…"
      ]
     },
     "metadata": {},
     "output_type": "display_data"
    },
    {
     "name": "stdout",
     "output_type": "stream",
     "text": [
      "skipping userAE30\n"
     ]
    },
    {
     "data": {
      "application/vnd.jupyter.widget-view+json": {
       "model_id": "ec8753485e1244a3af2e5afd0b629e00",
       "version_major": 2,
       "version_minor": 0
      },
      "text/plain": [
       "HBox(children=(IntProgress(value=0, description='users', max=23, style=ProgressStyle(description_width='initia…"
      ]
     },
     "metadata": {},
     "output_type": "display_data"
    },
    {
     "name": "stdout",
     "output_type": "stream",
     "text": [
      "skipping userAE30\n"
     ]
    },
    {
     "data": {
      "application/vnd.jupyter.widget-view+json": {
       "model_id": "9d20d7464f834048aa67994d49d7b09f",
       "version_major": 2,
       "version_minor": 0
      },
      "text/plain": [
       "HBox(children=(IntProgress(value=0, description='users', max=23, style=ProgressStyle(description_width='initia…"
      ]
     },
     "metadata": {},
     "output_type": "display_data"
    },
    {
     "name": "stdout",
     "output_type": "stream",
     "text": [
      "skipping userAE30\n"
     ]
    },
    {
     "data": {
      "application/vnd.jupyter.widget-view+json": {
       "model_id": "bcdd6ab809e64cfdaebd023d7fbec9c9",
       "version_major": 2,
       "version_minor": 0
      },
      "text/plain": [
       "HBox(children=(IntProgress(value=0, description='users', max=23, style=ProgressStyle(description_width='initia…"
      ]
     },
     "metadata": {},
     "output_type": "display_data"
    },
    {
     "name": "stdout",
     "output_type": "stream",
     "text": [
      "skipping userAE30\n"
     ]
    },
    {
     "data": {
      "application/vnd.jupyter.widget-view+json": {
       "model_id": "d6203a148f1e4b86b562a8d3476e8017",
       "version_major": 2,
       "version_minor": 0
      },
      "text/plain": [
       "HBox(children=(IntProgress(value=0, description='users', max=23, style=ProgressStyle(description_width='initia…"
      ]
     },
     "metadata": {},
     "output_type": "display_data"
    },
    {
     "name": "stdout",
     "output_type": "stream",
     "text": [
      "skipping userAE30\n"
     ]
    },
    {
     "data": {
      "application/vnd.jupyter.widget-view+json": {
       "model_id": "4d29fd92bd014a0da0715fd393250ae8",
       "version_major": 2,
       "version_minor": 0
      },
      "text/plain": [
       "HBox(children=(IntProgress(value=0, description='users', max=23, style=ProgressStyle(description_width='initia…"
      ]
     },
     "metadata": {},
     "output_type": "display_data"
    },
    {
     "name": "stdout",
     "output_type": "stream",
     "text": [
      "skipping userAE30\n"
     ]
    },
    {
     "data": {
      "application/vnd.jupyter.widget-view+json": {
       "model_id": "c90e44f46b314ec19019c4627da38ef8",
       "version_major": 2,
       "version_minor": 0
      },
      "text/plain": [
       "HBox(children=(IntProgress(value=0, description='users', max=23, style=ProgressStyle(description_width='initia…"
      ]
     },
     "metadata": {},
     "output_type": "display_data"
    },
    {
     "name": "stdout",
     "output_type": "stream",
     "text": [
      "skipping userAE30\n"
     ]
    },
    {
     "data": {
      "application/vnd.jupyter.widget-view+json": {
       "model_id": "d5dedb9608a84543b872927e8d0e5bab",
       "version_major": 2,
       "version_minor": 0
      },
      "text/plain": [
       "HBox(children=(IntProgress(value=0, description='users', max=23, style=ProgressStyle(description_width='initia…"
      ]
     },
     "metadata": {},
     "output_type": "display_data"
    },
    {
     "name": "stdout",
     "output_type": "stream",
     "text": [
      "skipping userAE30\n"
     ]
    },
    {
     "data": {
      "application/vnd.jupyter.widget-view+json": {
       "model_id": "e4ca8045e0f840039f7aa762075ba9a1",
       "version_major": 2,
       "version_minor": 0
      },
      "text/plain": [
       "HBox(children=(IntProgress(value=0, description='users', max=23, style=ProgressStyle(description_width='initia…"
      ]
     },
     "metadata": {},
     "output_type": "display_data"
    },
    {
     "name": "stdout",
     "output_type": "stream",
     "text": [
      "skipping userAE30\n"
     ]
    },
    {
     "data": {
      "application/vnd.jupyter.widget-view+json": {
       "model_id": "71be1f02d30940ba938df37c0056cfc6",
       "version_major": 2,
       "version_minor": 0
      },
      "text/plain": [
       "HBox(children=(IntProgress(value=0, description='users', max=23, style=ProgressStyle(description_width='initia…"
      ]
     },
     "metadata": {},
     "output_type": "display_data"
    },
    {
     "name": "stdout",
     "output_type": "stream",
     "text": [
      "skipping userAE30\n"
     ]
    },
    {
     "data": {
      "application/vnd.jupyter.widget-view+json": {
       "model_id": "7b24229057d9450a9b5d161e7ab412b5",
       "version_major": 2,
       "version_minor": 0
      },
      "text/plain": [
       "HBox(children=(IntProgress(value=0, description='users', max=23, style=ProgressStyle(description_width='initia…"
      ]
     },
     "metadata": {},
     "output_type": "display_data"
    },
    {
     "name": "stdout",
     "output_type": "stream",
     "text": [
      "skipping userAE30\n"
     ]
    },
    {
     "data": {
      "application/vnd.jupyter.widget-view+json": {
       "model_id": "4e2eade08702442f96585d445e89caa7",
       "version_major": 2,
       "version_minor": 0
      },
      "text/plain": [
       "HBox(children=(IntProgress(value=0, description='users', max=23, style=ProgressStyle(description_width='initia…"
      ]
     },
     "metadata": {},
     "output_type": "display_data"
    },
    {
     "name": "stdout",
     "output_type": "stream",
     "text": [
      "skipping userAE30\n"
     ]
    },
    {
     "data": {
      "application/vnd.jupyter.widget-view+json": {
       "model_id": "11c2d5845d9242cb90d241ee5f4f4554",
       "version_major": 2,
       "version_minor": 0
      },
      "text/plain": [
       "HBox(children=(IntProgress(value=0, description='users', max=23, style=ProgressStyle(description_width='initia…"
      ]
     },
     "metadata": {},
     "output_type": "display_data"
    },
    {
     "name": "stdout",
     "output_type": "stream",
     "text": [
      "skipping userAE30\n"
     ]
    },
    {
     "data": {
      "application/vnd.jupyter.widget-view+json": {
       "model_id": "22a66c2598724df0bdf7b41faf3a9440",
       "version_major": 2,
       "version_minor": 0
      },
      "text/plain": [
       "HBox(children=(IntProgress(value=0, description='users', max=23, style=ProgressStyle(description_width='initia…"
      ]
     },
     "metadata": {},
     "output_type": "display_data"
    },
    {
     "name": "stdout",
     "output_type": "stream",
     "text": [
      "skipping userAE30\n"
     ]
    },
    {
     "data": {
      "application/vnd.jupyter.widget-view+json": {
       "model_id": "7e05e86c0549414ebae7e90588ec9b25",
       "version_major": 2,
       "version_minor": 0
      },
      "text/plain": [
       "HBox(children=(IntProgress(value=0, description='users', max=23, style=ProgressStyle(description_width='initia…"
      ]
     },
     "metadata": {},
     "output_type": "display_data"
    },
    {
     "name": "stdout",
     "output_type": "stream",
     "text": [
      "skipping userAE30\n"
     ]
    },
    {
     "data": {
      "application/vnd.jupyter.widget-view+json": {
       "model_id": "37926951a37c42bfbed836e74f34e1d0",
       "version_major": 2,
       "version_minor": 0
      },
      "text/plain": [
       "HBox(children=(IntProgress(value=0, description='users', max=23, style=ProgressStyle(description_width='initia…"
      ]
     },
     "metadata": {},
     "output_type": "display_data"
    },
    {
     "name": "stdout",
     "output_type": "stream",
     "text": [
      "skipping userAE30\n"
     ]
    },
    {
     "data": {
      "application/vnd.jupyter.widget-view+json": {
       "model_id": "40ce42f613aa4545a9d83f75e1091e0f",
       "version_major": 2,
       "version_minor": 0
      },
      "text/plain": [
       "HBox(children=(IntProgress(value=0, description='users', max=23, style=ProgressStyle(description_width='initia…"
      ]
     },
     "metadata": {},
     "output_type": "display_data"
    },
    {
     "name": "stdout",
     "output_type": "stream",
     "text": [
      "skipping userAE30\n"
     ]
    },
    {
     "data": {
      "application/vnd.jupyter.widget-view+json": {
       "model_id": "53a030df57c14e929d5e9974fb28d1cd",
       "version_major": 2,
       "version_minor": 0
      },
      "text/plain": [
       "HBox(children=(IntProgress(value=0, description='users', max=23, style=ProgressStyle(description_width='initia…"
      ]
     },
     "metadata": {},
     "output_type": "display_data"
    },
    {
     "name": "stdout",
     "output_type": "stream",
     "text": [
      "skipping userAE30\n"
     ]
    },
    {
     "data": {
      "application/vnd.jupyter.widget-view+json": {
       "model_id": "2244811b541840678984dce180d75aa1",
       "version_major": 2,
       "version_minor": 0
      },
      "text/plain": [
       "HBox(children=(IntProgress(value=0, description='users', max=23, style=ProgressStyle(description_width='initia…"
      ]
     },
     "metadata": {},
     "output_type": "display_data"
    },
    {
     "name": "stdout",
     "output_type": "stream",
     "text": [
      "skipping userAE30\n"
     ]
    },
    {
     "data": {
      "application/vnd.jupyter.widget-view+json": {
       "model_id": "0fc35a3f9e6f43fda62e05f62b4ae4fc",
       "version_major": 2,
       "version_minor": 0
      },
      "text/plain": [
       "HBox(children=(IntProgress(value=0, description='users', max=23, style=ProgressStyle(description_width='initia…"
      ]
     },
     "metadata": {},
     "output_type": "display_data"
    },
    {
     "name": "stdout",
     "output_type": "stream",
     "text": [
      "skipping userAE30\n"
     ]
    },
    {
     "data": {
      "application/vnd.jupyter.widget-view+json": {
       "model_id": "6f0f1c1ac04b4276bb0527a0c04c300f",
       "version_major": 2,
       "version_minor": 0
      },
      "text/plain": [
       "HBox(children=(IntProgress(value=0, description='users', max=23, style=ProgressStyle(description_width='initia…"
      ]
     },
     "metadata": {},
     "output_type": "display_data"
    },
    {
     "name": "stdout",
     "output_type": "stream",
     "text": [
      "skipping userAE30\n"
     ]
    },
    {
     "data": {
      "application/vnd.jupyter.widget-view+json": {
       "model_id": "d8154b9eb5c84f3eb11c900a6a50ba5f",
       "version_major": 2,
       "version_minor": 0
      },
      "text/plain": [
       "HBox(children=(IntProgress(value=0, description='users', max=23, style=ProgressStyle(description_width='initia…"
      ]
     },
     "metadata": {},
     "output_type": "display_data"
    },
    {
     "name": "stdout",
     "output_type": "stream",
     "text": [
      "skipping userAE30\n"
     ]
    },
    {
     "data": {
      "application/vnd.jupyter.widget-view+json": {
       "model_id": "c2fc231955ff4521959e1eacf8c79935",
       "version_major": 2,
       "version_minor": 0
      },
      "text/plain": [
       "HBox(children=(IntProgress(value=0, description='users', max=23, style=ProgressStyle(description_width='initia…"
      ]
     },
     "metadata": {},
     "output_type": "display_data"
    },
    {
     "name": "stdout",
     "output_type": "stream",
     "text": [
      "skipping userAE30\n"
     ]
    },
    {
     "data": {
      "application/vnd.jupyter.widget-view+json": {
       "model_id": "9347de93f14b4dcc8e115d6befef0b8a",
       "version_major": 2,
       "version_minor": 0
      },
      "text/plain": [
       "HBox(children=(IntProgress(value=0, description='users', max=23, style=ProgressStyle(description_width='initia…"
      ]
     },
     "metadata": {},
     "output_type": "display_data"
    },
    {
     "name": "stdout",
     "output_type": "stream",
     "text": [
      "skipping userAE30\n"
     ]
    },
    {
     "data": {
      "application/vnd.jupyter.widget-view+json": {
       "model_id": "c80e7a777ce7413e8865c4886e72ca66",
       "version_major": 2,
       "version_minor": 0
      },
      "text/plain": [
       "HBox(children=(IntProgress(value=0, description='users', max=23, style=ProgressStyle(description_width='initia…"
      ]
     },
     "metadata": {},
     "output_type": "display_data"
    },
    {
     "name": "stdout",
     "output_type": "stream",
     "text": [
      "skipping userAE30\n",
      "skipped #714 image generations\n"
     ]
    },
    {
     "data": {
      "application/vnd.jupyter.widget-view+json": {
       "model_id": "",
       "version_major": 2,
       "version_minor": 0
      },
      "text/plain": [
       "HBox(children=(IntProgress(value=0, description='gestures', max=31, style=ProgressStyle(description_width='ini…"
      ]
     },
     "metadata": {},
     "output_type": "display_data"
    },
    {
     "data": {
      "application/vnd.jupyter.widget-view+json": {
       "model_id": "77ae60b4e7e74b7a86027636dc026f47",
       "version_major": 2,
       "version_minor": 0
      },
      "text/plain": [
       "HBox(children=(IntProgress(value=0, description='users', max=23, style=ProgressStyle(description_width='initia…"
      ]
     },
     "metadata": {},
     "output_type": "display_data"
    },
    {
     "name": "stdout",
     "output_type": "stream",
     "text": [
      "skipping userAE30\n"
     ]
    },
    {
     "data": {
      "application/vnd.jupyter.widget-view+json": {
       "model_id": "aec103df56214fdf9e21a0d1bf20730e",
       "version_major": 2,
       "version_minor": 0
      },
      "text/plain": [
       "HBox(children=(IntProgress(value=0, description='users', max=23, style=ProgressStyle(description_width='initia…"
      ]
     },
     "metadata": {},
     "output_type": "display_data"
    },
    {
     "name": "stdout",
     "output_type": "stream",
     "text": [
      "skipping userAE30\n"
     ]
    },
    {
     "data": {
      "application/vnd.jupyter.widget-view+json": {
       "model_id": "41687c14330b4ceeb34dd935f758ca98",
       "version_major": 2,
       "version_minor": 0
      },
      "text/plain": [
       "HBox(children=(IntProgress(value=0, description='users', max=23, style=ProgressStyle(description_width='initia…"
      ]
     },
     "metadata": {},
     "output_type": "display_data"
    },
    {
     "name": "stdout",
     "output_type": "stream",
     "text": [
      "skipping userAE30\n"
     ]
    },
    {
     "data": {
      "application/vnd.jupyter.widget-view+json": {
       "model_id": "2f464bba27e9403984acb6b58fe819f9",
       "version_major": 2,
       "version_minor": 0
      },
      "text/plain": [
       "HBox(children=(IntProgress(value=0, description='users', max=23, style=ProgressStyle(description_width='initia…"
      ]
     },
     "metadata": {},
     "output_type": "display_data"
    },
    {
     "name": "stdout",
     "output_type": "stream",
     "text": [
      "skipping userAE30\n"
     ]
    },
    {
     "data": {
      "application/vnd.jupyter.widget-view+json": {
       "model_id": "9b0fae7ed72c48d7a37fa2c72105ef0c",
       "version_major": 2,
       "version_minor": 0
      },
      "text/plain": [
       "HBox(children=(IntProgress(value=0, description='users', max=23, style=ProgressStyle(description_width='initia…"
      ]
     },
     "metadata": {},
     "output_type": "display_data"
    },
    {
     "name": "stdout",
     "output_type": "stream",
     "text": [
      "skipping userAE30\n"
     ]
    },
    {
     "data": {
      "application/vnd.jupyter.widget-view+json": {
       "model_id": "9902f8c7ed494edd975fb99bd87af0ca",
       "version_major": 2,
       "version_minor": 0
      },
      "text/plain": [
       "HBox(children=(IntProgress(value=0, description='users', max=23, style=ProgressStyle(description_width='initia…"
      ]
     },
     "metadata": {},
     "output_type": "display_data"
    },
    {
     "name": "stdout",
     "output_type": "stream",
     "text": [
      "skipping userAE30\n"
     ]
    },
    {
     "data": {
      "application/vnd.jupyter.widget-view+json": {
       "model_id": "df91c6510121410796d71dec6148f229",
       "version_major": 2,
       "version_minor": 0
      },
      "text/plain": [
       "HBox(children=(IntProgress(value=0, description='users', max=23, style=ProgressStyle(description_width='initia…"
      ]
     },
     "metadata": {},
     "output_type": "display_data"
    },
    {
     "name": "stdout",
     "output_type": "stream",
     "text": [
      "skipping userAE30\n"
     ]
    },
    {
     "data": {
      "application/vnd.jupyter.widget-view+json": {
       "model_id": "e1815ab1db124a8c99f052eb3ea81236",
       "version_major": 2,
       "version_minor": 0
      },
      "text/plain": [
       "HBox(children=(IntProgress(value=0, description='users', max=23, style=ProgressStyle(description_width='initia…"
      ]
     },
     "metadata": {},
     "output_type": "display_data"
    },
    {
     "name": "stdout",
     "output_type": "stream",
     "text": [
      "skipping userAE30\n"
     ]
    },
    {
     "data": {
      "application/vnd.jupyter.widget-view+json": {
       "model_id": "ff1683bd8d024aff940be7db58c17366",
       "version_major": 2,
       "version_minor": 0
      },
      "text/plain": [
       "HBox(children=(IntProgress(value=0, description='users', max=23, style=ProgressStyle(description_width='initia…"
      ]
     },
     "metadata": {},
     "output_type": "display_data"
    },
    {
     "name": "stdout",
     "output_type": "stream",
     "text": [
      "skipping userAE30\n"
     ]
    },
    {
     "data": {
      "application/vnd.jupyter.widget-view+json": {
       "model_id": "d3580d4911d347a7ab0f55e8fa845cf0",
       "version_major": 2,
       "version_minor": 0
      },
      "text/plain": [
       "HBox(children=(IntProgress(value=0, description='users', max=23, style=ProgressStyle(description_width='initia…"
      ]
     },
     "metadata": {},
     "output_type": "display_data"
    },
    {
     "name": "stdout",
     "output_type": "stream",
     "text": [
      "skipping userAE30\n"
     ]
    },
    {
     "data": {
      "application/vnd.jupyter.widget-view+json": {
       "model_id": "17f319b7f4374855b8175523bb6e3da8",
       "version_major": 2,
       "version_minor": 0
      },
      "text/plain": [
       "HBox(children=(IntProgress(value=0, description='users', max=23, style=ProgressStyle(description_width='initia…"
      ]
     },
     "metadata": {},
     "output_type": "display_data"
    },
    {
     "name": "stdout",
     "output_type": "stream",
     "text": [
      "skipping userAE30\n"
     ]
    },
    {
     "data": {
      "application/vnd.jupyter.widget-view+json": {
       "model_id": "2d8187f0da4a4f2ca8f8d3c12ce7b458",
       "version_major": 2,
       "version_minor": 0
      },
      "text/plain": [
       "HBox(children=(IntProgress(value=0, description='users', max=23, style=ProgressStyle(description_width='initia…"
      ]
     },
     "metadata": {},
     "output_type": "display_data"
    },
    {
     "name": "stdout",
     "output_type": "stream",
     "text": [
      "skipping userAE30\n"
     ]
    },
    {
     "data": {
      "application/vnd.jupyter.widget-view+json": {
       "model_id": "b4b9015561fc48c692c67e10c274c750",
       "version_major": 2,
       "version_minor": 0
      },
      "text/plain": [
       "HBox(children=(IntProgress(value=0, description='users', max=23, style=ProgressStyle(description_width='initia…"
      ]
     },
     "metadata": {},
     "output_type": "display_data"
    },
    {
     "name": "stdout",
     "output_type": "stream",
     "text": [
      "skipping userAE30\n"
     ]
    },
    {
     "data": {
      "application/vnd.jupyter.widget-view+json": {
       "model_id": "f990e64e0af945008e3e888d3f6a0be0",
       "version_major": 2,
       "version_minor": 0
      },
      "text/plain": [
       "HBox(children=(IntProgress(value=0, description='users', max=23, style=ProgressStyle(description_width='initia…"
      ]
     },
     "metadata": {},
     "output_type": "display_data"
    },
    {
     "name": "stdout",
     "output_type": "stream",
     "text": [
      "skipping userAE30\n"
     ]
    },
    {
     "data": {
      "application/vnd.jupyter.widget-view+json": {
       "model_id": "9cb358cc3e994f4ca21d04cc1b5da635",
       "version_major": 2,
       "version_minor": 0
      },
      "text/plain": [
       "HBox(children=(IntProgress(value=0, description='users', max=23, style=ProgressStyle(description_width='initia…"
      ]
     },
     "metadata": {},
     "output_type": "display_data"
    },
    {
     "name": "stdout",
     "output_type": "stream",
     "text": [
      "skipping userAE30\n"
     ]
    },
    {
     "data": {
      "application/vnd.jupyter.widget-view+json": {
       "model_id": "db0b890143fd47bca5f804239d0ac6e5",
       "version_major": 2,
       "version_minor": 0
      },
      "text/plain": [
       "HBox(children=(IntProgress(value=0, description='users', max=23, style=ProgressStyle(description_width='initia…"
      ]
     },
     "metadata": {},
     "output_type": "display_data"
    },
    {
     "name": "stdout",
     "output_type": "stream",
     "text": [
      "skipping userAE30\n"
     ]
    },
    {
     "data": {
      "application/vnd.jupyter.widget-view+json": {
       "model_id": "0959e316526d491bb0e348e054ecf0e2",
       "version_major": 2,
       "version_minor": 0
      },
      "text/plain": [
       "HBox(children=(IntProgress(value=0, description='users', max=23, style=ProgressStyle(description_width='initia…"
      ]
     },
     "metadata": {},
     "output_type": "display_data"
    },
    {
     "name": "stdout",
     "output_type": "stream",
     "text": [
      "skipping userAE30\n"
     ]
    },
    {
     "data": {
      "application/vnd.jupyter.widget-view+json": {
       "model_id": "95d4cec365ce4c13809f3168388c8fd2",
       "version_major": 2,
       "version_minor": 0
      },
      "text/plain": [
       "HBox(children=(IntProgress(value=0, description='users', max=23, style=ProgressStyle(description_width='initia…"
      ]
     },
     "metadata": {},
     "output_type": "display_data"
    },
    {
     "name": "stdout",
     "output_type": "stream",
     "text": [
      "skipping userAE30\n"
     ]
    },
    {
     "data": {
      "application/vnd.jupyter.widget-view+json": {
       "model_id": "ee9704dccb0944abb054b529bcb95db8",
       "version_major": 2,
       "version_minor": 0
      },
      "text/plain": [
       "HBox(children=(IntProgress(value=0, description='users', max=23, style=ProgressStyle(description_width='initia…"
      ]
     },
     "metadata": {},
     "output_type": "display_data"
    },
    {
     "name": "stdout",
     "output_type": "stream",
     "text": [
      "skipping userAE30\n"
     ]
    },
    {
     "data": {
      "application/vnd.jupyter.widget-view+json": {
       "model_id": "9639f23ad6f64b6094f60c8ab547ac87",
       "version_major": 2,
       "version_minor": 0
      },
      "text/plain": [
       "HBox(children=(IntProgress(value=0, description='users', max=23, style=ProgressStyle(description_width='initia…"
      ]
     },
     "metadata": {},
     "output_type": "display_data"
    },
    {
     "name": "stdout",
     "output_type": "stream",
     "text": [
      "skipping userAE30\n"
     ]
    },
    {
     "data": {
      "application/vnd.jupyter.widget-view+json": {
       "model_id": "79d6e84221574ddb9921e2c6d10a034c",
       "version_major": 2,
       "version_minor": 0
      },
      "text/plain": [
       "HBox(children=(IntProgress(value=0, description='users', max=23, style=ProgressStyle(description_width='initia…"
      ]
     },
     "metadata": {},
     "output_type": "display_data"
    },
    {
     "name": "stdout",
     "output_type": "stream",
     "text": [
      "skipping userAE30\n"
     ]
    },
    {
     "data": {
      "application/vnd.jupyter.widget-view+json": {
       "model_id": "729faa9e4fa042248958427f918e1e41",
       "version_major": 2,
       "version_minor": 0
      },
      "text/plain": [
       "HBox(children=(IntProgress(value=0, description='users', max=23, style=ProgressStyle(description_width='initia…"
      ]
     },
     "metadata": {},
     "output_type": "display_data"
    },
    {
     "name": "stdout",
     "output_type": "stream",
     "text": [
      "skipping userAE30\n"
     ]
    },
    {
     "data": {
      "application/vnd.jupyter.widget-view+json": {
       "model_id": "106ec9969fe9430b8ba21f0cbbe05305",
       "version_major": 2,
       "version_minor": 0
      },
      "text/plain": [
       "HBox(children=(IntProgress(value=0, description='users', max=23, style=ProgressStyle(description_width='initia…"
      ]
     },
     "metadata": {},
     "output_type": "display_data"
    },
    {
     "name": "stdout",
     "output_type": "stream",
     "text": [
      "skipping userAE30\n"
     ]
    },
    {
     "data": {
      "application/vnd.jupyter.widget-view+json": {
       "model_id": "db34210d34724567abd61413f6f3f24c",
       "version_major": 2,
       "version_minor": 0
      },
      "text/plain": [
       "HBox(children=(IntProgress(value=0, description='users', max=23, style=ProgressStyle(description_width='initia…"
      ]
     },
     "metadata": {},
     "output_type": "display_data"
    },
    {
     "name": "stdout",
     "output_type": "stream",
     "text": [
      "skipping userAE30\n"
     ]
    },
    {
     "data": {
      "application/vnd.jupyter.widget-view+json": {
       "model_id": "52301e61c9ca422a8c07659848906216",
       "version_major": 2,
       "version_minor": 0
      },
      "text/plain": [
       "HBox(children=(IntProgress(value=0, description='users', max=23, style=ProgressStyle(description_width='initia…"
      ]
     },
     "metadata": {},
     "output_type": "display_data"
    },
    {
     "name": "stdout",
     "output_type": "stream",
     "text": [
      "skipping userAE30\n"
     ]
    },
    {
     "data": {
      "application/vnd.jupyter.widget-view+json": {
       "model_id": "050bffc3fa104fadb4883a83ece814c2",
       "version_major": 2,
       "version_minor": 0
      },
      "text/plain": [
       "HBox(children=(IntProgress(value=0, description='users', max=23, style=ProgressStyle(description_width='initia…"
      ]
     },
     "metadata": {},
     "output_type": "display_data"
    },
    {
     "name": "stdout",
     "output_type": "stream",
     "text": [
      "skipping userAE30\n"
     ]
    },
    {
     "data": {
      "application/vnd.jupyter.widget-view+json": {
       "model_id": "be7b03c7152845298e79531310a94205",
       "version_major": 2,
       "version_minor": 0
      },
      "text/plain": [
       "HBox(children=(IntProgress(value=0, description='users', max=23, style=ProgressStyle(description_width='initia…"
      ]
     },
     "metadata": {},
     "output_type": "display_data"
    },
    {
     "name": "stdout",
     "output_type": "stream",
     "text": [
      "skipping userAE30\n"
     ]
    },
    {
     "data": {
      "application/vnd.jupyter.widget-view+json": {
       "model_id": "5589b550b7264e11a764be9c72233102",
       "version_major": 2,
       "version_minor": 0
      },
      "text/plain": [
       "HBox(children=(IntProgress(value=0, description='users', max=23, style=ProgressStyle(description_width='initia…"
      ]
     },
     "metadata": {},
     "output_type": "display_data"
    },
    {
     "name": "stdout",
     "output_type": "stream",
     "text": [
      "skipping userAE30\n"
     ]
    },
    {
     "data": {
      "application/vnd.jupyter.widget-view+json": {
       "model_id": "6a8726f1e604425ebd81440e9282f6e7",
       "version_major": 2,
       "version_minor": 0
      },
      "text/plain": [
       "HBox(children=(IntProgress(value=0, description='users', max=23, style=ProgressStyle(description_width='initia…"
      ]
     },
     "metadata": {},
     "output_type": "display_data"
    },
    {
     "name": "stdout",
     "output_type": "stream",
     "text": [
      "skipping userAE30\n"
     ]
    },
    {
     "data": {
      "application/vnd.jupyter.widget-view+json": {
       "model_id": "5557bff064ed44dbaf6c4ef0771ace43",
       "version_major": 2,
       "version_minor": 0
      },
      "text/plain": [
       "HBox(children=(IntProgress(value=0, description='users', max=23, style=ProgressStyle(description_width='initia…"
      ]
     },
     "metadata": {},
     "output_type": "display_data"
    },
    {
     "name": "stdout",
     "output_type": "stream",
     "text": [
      "skipping userAE30\n"
     ]
    },
    {
     "data": {
      "application/vnd.jupyter.widget-view+json": {
       "model_id": "8a0ed067410440869269a5379ff1b341",
       "version_major": 2,
       "version_minor": 0
      },
      "text/plain": [
       "HBox(children=(IntProgress(value=0, description='users', max=23, style=ProgressStyle(description_width='initia…"
      ]
     },
     "metadata": {},
     "output_type": "display_data"
    },
    {
     "name": "stdout",
     "output_type": "stream",
     "text": [
      "skipping userAE30\n",
      "skipped #714 image generations\n"
     ]
    }
   ],
   "source": [
    "ghi.generate_all_timing_histograms(users, ud_helper)"
   ]
  },
  {
   "cell_type": "markdown",
   "metadata": {},
   "source": [
    "## Visualize Timing of Label Types for all users\n",
    "\n",
    "When I generated all the user gesture combinations I also generated the histograms for the distribution over all gestures and all users for each gesture type. We can see that the automatic gesture type pretty much exactly 3s. The stopping condition is defined as `commulative samples > 3s`, so it depends on the last tramsmissions when exactly the label ends. Dynamic has many very short sequences. Beside that it looks similar to the static and manual label type, although there exist only about 1/3 as many static labels as other label types."
   ]
  },
  {
   "cell_type": "code",
   "execution_count": 25,
   "metadata": {},
   "outputs": [
    {
     "data": {
      "image/png": "[encoded data removed]",
      "text/plain": [
       "<Figure size 1440x720 with 4 Axes>"
      ]
     },
     "metadata": {
      "needs_background": "light"
     },
     "output_type": "display_data"
    }
   ],
   "source": [
    "f, axarr = plt.subplots(2, 2, figsize=(20, 10))\n",
    "\n",
    "axarr[0, 0].set_title(f'automatic')\n",
    "path = f'../figures/raw/all_users/all_gestures/timing_of_automatic.png'\n",
    "a = mpimg.imread(path)\n",
    "axarr[0, 0].imshow(a)\n",
    "iutils.hide_ticks_in_grid(0,0,axarr)\n",
    "\n",
    "axarr[0, 1].set_title(f'manual')\n",
    "path = f'../figures/raw/all_users/all_gestures/timing_of_manual.png'\n",
    "a = mpimg.imread(path)\n",
    "axarr[0, 1].imshow(a)\n",
    "iutils.hide_ticks_in_grid(0,1,axarr)\n",
    "\n",
    "axarr[1, 0].set_title(f'dynamic')\n",
    "path = f'../figures/raw/all_users/all_gestures/timing_of_dynamic.png'\n",
    "a = mpimg.imread(path)\n",
    "axarr[1, 0].imshow(a)\n",
    "iutils.hide_ticks_in_grid(1,0,axarr)\n",
    "\n",
    "axarr[1, 1].set_title(f'static')\n",
    "path = f'../figures/raw/all_users/all_gestures/timing_of_static.png'\n",
    "a = mpimg.imread(path)\n",
    "axarr[1, 1].imshow(a)\n",
    "iutils.hide_ticks_in_grid(1,1,axarr)\n",
    "\n",
    "plt.suptitle('Timing of labels')\n",
    "\n",
    "plt.show()"
   ]
  },
  {
   "cell_type": "code",
   "execution_count": null,
   "metadata": {},
   "outputs": [],
   "source": []
  }
 ],
 "metadata": {
  "kernelspec": {
   "display_name": "Python 3",
   "language": "python",
   "name": "python3"
  },
  "language_info": {
   "codemirror_mode": {
    "name": "ipython",
    "version": 3
   },
   "file_extension": ".py",
   "mimetype": "text/x-python",
   "name": "python",
   "nbconvert_exporter": "python",
   "pygments_lexer": "ipython3",
   "version": "3.7.2"
  }
 },
 "nbformat": 4,
 "nbformat_minor": 2
}
