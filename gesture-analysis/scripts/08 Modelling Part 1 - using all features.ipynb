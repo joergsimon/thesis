{
 "cells": [
  {
   "cell_type": "markdown",
   "metadata": {},
   "source": [
    "# Modelling, Part 1: using all features"
   ]
  },
  {
   "cell_type": "code",
   "execution_count": 1,
   "metadata": {},
   "outputs": [],
   "source": [
    "%load_ext autoreload\n",
    "%autoreload 2"
   ]
  },
  {
   "cell_type": "code",
   "execution_count": 2,
   "metadata": {},
   "outputs": [],
   "source": [
    "import gc\n",
    "import pickle\n",
    "import pathlib\n",
    "import tqdm\n",
    "import numpy as np\n",
    "import numpy.random\n",
    "import pandas as pd\n",
    "from sklearn import svm\n",
    "import sklearn.metrics as metr\n",
    "import sklearn.preprocessing as pp\n",
    "import sklearn.linear_model as lm\n",
    "import sklearn.neighbors.nearest_centroid as nc\n",
    "import sklearn.neighbors as ne\n",
    "import sklearn.naive_bayes as nb\n",
    "import sklearn.ensemble as em\n",
    "import sklearn.discriminant_analysis as da\n",
    "import sklearn.gaussian_process as gp\n",
    "from sklearn import tree\n",
    "from sklearn.metrics import f1_score\n",
    "from sklearn.base import clone\n",
    "import sklearn.model_selection as ms\n",
    "import gestureanalysis.svm_helpers as svmhelper\n",
    "import sklearn.utils\n",
    "import matplotlib.pyplot as plt\n",
    "import seaborn as sns"
   ]
  },
  {
   "cell_type": "code",
   "execution_count": 3,
   "metadata": {},
   "outputs": [],
   "source": [
    "base_path = \"/home/jsimon/Documents/thesis/gesture-analysis/data/\"\n",
    "time_groups_path_corrected_pickl = base_path+\"transformed/time_added/all/time-and-groups-corrected-all.pkl\"\n",
    "stats_added_base_path = base_path+\"transformed/stats_added/all/\"\n",
    "stats_added_path_pickl = stats_added_base_path+\"raw_stats-added-all.pkl\"\n",
    "gyro_calibration_path = base_path+'../scripts/gestureanalysis/gyro_offset.txt'"
   ]
  },
  {
   "cell_type": "code",
   "execution_count": 4,
   "metadata": {},
   "outputs": [
    {
     "data": {
      "text/plain": [
       "'/home/jsimon/Documents/thesis/gesture-analysis/scripts'"
      ]
     },
     "execution_count": 4,
     "metadata": {},
     "output_type": "execute_result"
    }
   ],
   "source": [
    "import os\n",
    "os.getcwd()"
   ]
  },
  {
   "cell_type": "code",
   "execution_count": 5,
   "metadata": {},
   "outputs": [],
   "source": [
    "with open( stats_added_base_path+'train-data-scaled-noconst.pkl', \"rb\" ) as users_pickle_file:\n",
    "    data = pickle.load(users_pickle_file)"
   ]
  },
  {
   "cell_type": "code",
   "execution_count": 6,
   "metadata": {},
   "outputs": [],
   "source": [
    "X = data['X']\n",
    "y = data['y']\n",
    "Xval = data['Xval']\n",
    "yval = data['yval']"
   ]
  },
  {
   "cell_type": "code",
   "execution_count": 7,
   "metadata": {},
   "outputs": [],
   "source": [
    "X, y = sklearn.utils.shuffle(X, y)"
   ]
  },
  {
   "cell_type": "code",
   "execution_count": 8,
   "metadata": {},
   "outputs": [
    {
     "data": {
      "text/plain": [
       "0"
      ]
     },
     "execution_count": 8,
     "metadata": {},
     "output_type": "execute_result"
    }
   ],
   "source": [
    "del [[data]]\n",
    "gc.collect()\n",
    "data = pd.DataFrame()\n",
    "gc.collect()"
   ]
  },
  {
   "cell_type": "markdown",
   "metadata": {},
   "source": [
    "## Give the classifiers who can handle the data with the variance theshold a chance"
   ]
  },
  {
   "cell_type": "code",
   "execution_count": 9,
   "metadata": {},
   "outputs": [],
   "source": [
    "# start with some list, and remove then when the classifier takes too long\n",
    "classifiers = [# (\"lin svc\",svm.LinearSVC(class_weight='balanced')), takes too long (stopped after 2h)\n",
    "               # (\"gaussian process\", gp.GaussianProcessClassifier()), Memory error\n",
    "               # (\"gaussian process w. restarts\", gp.GaussianProcessClassifier(n_restarts_optimizer=3)), , Memory error\n",
    "               # (\"lr\",lm.LogisticRegression(class_weight='balanced')), # kernel died\n",
    "               (\"passive agressive\", lm.PassiveAggressiveClassifier(max_iter=1000, tol=1e-3, class_weight='balanced')),\n",
    "               # (\"lr(l1)\",lm.LogisticRegression(penalty='l1', class_weight='balanced')), # kernel died\n",
    "               (\"sgd[hinge]\",lm.SGDClassifier(loss=\"hinge\", penalty=\"l2\", max_iter=1000, tol=1e-3, class_weight='balanced')),\n",
    "               (\"LDA\", da.LinearDiscriminantAnalysis()),\n",
    "               (\"QDA\", da.QuadraticDiscriminantAnalysis()),\n",
    "               (\"nn\",nc.NearestCentroid()),\n",
    "               #(\"knn\",ne.KNeighborsClassifier()), # fitting worked, but prediction takes to long as this scales with the data\n",
    "               #(\"rnc\",ne.RadiusNeighborsClassifier(radius=3.0)), # could not find a good distance, tried 1 and 3\n",
    "               (\"gaussian navie bayse\",nb.GaussianNB()),\n",
    "               # (\"decision tree\",tree.DecisionTreeClassifier(class_weight='balanced')), # timed out\n",
    "               (\"random forrest\",em.RandomForestClassifier(n_estimators=10, class_weight='balanced', n_jobs=3, verbose=True)),\n",
    "               (\"extra trees\",em.ExtraTreesClassifier(n_estimators=10, class_weight='balanced', n_jobs=3, verbose=True))\n",
    "               # (\"bagging kn\",em.BaggingClassifier(ne.KNeighborsClassifier(),max_samples=0.5, max_features=0.5, verbose=True)), timed out after 1h\n",
    "               # (\"bagging svc\",em.BaggingClassifier(svm.SVC(decision_function_shape='ovo', class_weight='balanced'),max_samples=0.5, n_jobs=3, max_features=0.5, verbose=True)), # timed out after 1h\n",
    "               # (\"ada boost\",em.AdaBoostClassifier(n_estimators=100)), # timed out\n",
    "               #(\"gradient boost\",em.GradientBoostingClassifier(n_estimators=100, learning_rate=1.0, max_depth=1, random_state=0, verbose=True)) # timed out, says after 1h running that it still has 758m open\n",
    "]\n"
   ]
  },
  {
   "cell_type": "code",
   "execution_count": 10,
   "metadata": {},
   "outputs": [],
   "source": [
    "def fit_classifier(classifiers, X, y, Xval, yval):\n",
    "    clf = None\n",
    "    clf_n = None\n",
    "    \n",
    "    results = []\n",
    "    progress = tqdm.tqdm_notebook(classifiers)\n",
    "    for clf_name, clf_candidate in progress:\n",
    "        progress.set_description(clf_name)\n",
    "        clf_candidate = clone(clf_candidate)\n",
    "        gc.collect()\n",
    "        progress.set_description(clf_name + ' cloned')\n",
    "        clf_candidate.fit(X, y)\n",
    "        progress.set_description(clf_name + ' fittet')\n",
    "        p = clf_candidate.predict(Xval)\n",
    "        s = f1_score(yval, p, average='micro')\n",
    "        p_t = clf_candidate.predict(X)\n",
    "        s_t = f1_score(y, p_t, average='micro')\n",
    "        print(f\"val score {s} for {clf_name} (test: {s_t})\")\n",
    "        cmatrix = metr.confusion_matrix(yval, p)\n",
    "        #print(cmatrix)\n",
    "        results.append((clf_name, s, s_t, cmatrix, clf_candidate))\n",
    "        gc.collect()\n",
    "\n",
    "    return results"
   ]
  },
  {
   "cell_type": "code",
   "execution_count": 11,
   "metadata": {
    "scrolled": true
   },
   "outputs": [
    {
     "data": {
      "application/vnd.jupyter.widget-view+json": {
       "model_id": "712d533bde7d46908cc5d8273a03d4c6",
       "version_major": 2,
       "version_minor": 0
      },
      "text/plain": [
       "HBox(children=(IntProgress(value=0, max=8), HTML(value='')))"
      ]
     },
     "metadata": {},
     "output_type": "display_data"
    },
    {
     "name": "stdout",
     "output_type": "stream",
     "text": [
      "val score 0.4104429356611704 for passive agressive (test: 0.5026414121891509)\n",
      "val score 0.08874878758486907 for sgd[hinge] (test: 0.2881587424300992)\n"
     ]
    },
    {
     "name": "stderr",
     "output_type": "stream",
     "text": [
      "/home/jsimon/anaconda3/envs/thesis/lib/python3.7/site-packages/sklearn/discriminant_analysis.py:388: UserWarning: Variables are collinear.\n",
      "  warnings.warn(\"Variables are collinear.\")\n"
     ]
    },
    {
     "name": "stdout",
     "output_type": "stream",
     "text": [
      "val score 0.9494018752020692 for LDA (test: 0.9461796160288622)\n"
     ]
    },
    {
     "name": "stderr",
     "output_type": "stream",
     "text": [
      "/home/jsimon/anaconda3/envs/thesis/lib/python3.7/site-packages/sklearn/discriminant_analysis.py:692: UserWarning: Variables are collinear\n",
      "  warnings.warn(\"Variables are collinear\")\n",
      "/home/jsimon/anaconda3/envs/thesis/lib/python3.7/site-packages/sklearn/discriminant_analysis.py:692: UserWarning: Variables are collinear\n",
      "  warnings.warn(\"Variables are collinear\")\n",
      "/home/jsimon/anaconda3/envs/thesis/lib/python3.7/site-packages/sklearn/discriminant_analysis.py:692: UserWarning: Variables are collinear\n",
      "  warnings.warn(\"Variables are collinear\")\n",
      "/home/jsimon/anaconda3/envs/thesis/lib/python3.7/site-packages/sklearn/discriminant_analysis.py:692: UserWarning: Variables are collinear\n",
      "  warnings.warn(\"Variables are collinear\")\n",
      "/home/jsimon/anaconda3/envs/thesis/lib/python3.7/site-packages/sklearn/discriminant_analysis.py:692: UserWarning: Variables are collinear\n",
      "  warnings.warn(\"Variables are collinear\")\n",
      "/home/jsimon/anaconda3/envs/thesis/lib/python3.7/site-packages/sklearn/discriminant_analysis.py:692: UserWarning: Variables are collinear\n",
      "  warnings.warn(\"Variables are collinear\")\n",
      "/home/jsimon/anaconda3/envs/thesis/lib/python3.7/site-packages/sklearn/discriminant_analysis.py:692: UserWarning: Variables are collinear\n",
      "  warnings.warn(\"Variables are collinear\")\n",
      "/home/jsimon/anaconda3/envs/thesis/lib/python3.7/site-packages/sklearn/discriminant_analysis.py:692: UserWarning: Variables are collinear\n",
      "  warnings.warn(\"Variables are collinear\")\n",
      "/home/jsimon/anaconda3/envs/thesis/lib/python3.7/site-packages/sklearn/discriminant_analysis.py:692: UserWarning: Variables are collinear\n",
      "  warnings.warn(\"Variables are collinear\")\n",
      "/home/jsimon/anaconda3/envs/thesis/lib/python3.7/site-packages/sklearn/discriminant_analysis.py:692: UserWarning: Variables are collinear\n",
      "  warnings.warn(\"Variables are collinear\")\n",
      "/home/jsimon/anaconda3/envs/thesis/lib/python3.7/site-packages/sklearn/discriminant_analysis.py:692: UserWarning: Variables are collinear\n",
      "  warnings.warn(\"Variables are collinear\")\n",
      "/home/jsimon/anaconda3/envs/thesis/lib/python3.7/site-packages/sklearn/discriminant_analysis.py:692: UserWarning: Variables are collinear\n",
      "  warnings.warn(\"Variables are collinear\")\n",
      "/home/jsimon/anaconda3/envs/thesis/lib/python3.7/site-packages/sklearn/discriminant_analysis.py:692: UserWarning: Variables are collinear\n",
      "  warnings.warn(\"Variables are collinear\")\n",
      "/home/jsimon/anaconda3/envs/thesis/lib/python3.7/site-packages/sklearn/discriminant_analysis.py:692: UserWarning: Variables are collinear\n",
      "  warnings.warn(\"Variables are collinear\")\n",
      "/home/jsimon/anaconda3/envs/thesis/lib/python3.7/site-packages/sklearn/discriminant_analysis.py:692: UserWarning: Variables are collinear\n",
      "  warnings.warn(\"Variables are collinear\")\n",
      "/home/jsimon/anaconda3/envs/thesis/lib/python3.7/site-packages/sklearn/discriminant_analysis.py:692: UserWarning: Variables are collinear\n",
      "  warnings.warn(\"Variables are collinear\")\n",
      "/home/jsimon/anaconda3/envs/thesis/lib/python3.7/site-packages/sklearn/discriminant_analysis.py:692: UserWarning: Variables are collinear\n",
      "  warnings.warn(\"Variables are collinear\")\n",
      "/home/jsimon/anaconda3/envs/thesis/lib/python3.7/site-packages/sklearn/discriminant_analysis.py:692: UserWarning: Variables are collinear\n",
      "  warnings.warn(\"Variables are collinear\")\n",
      "/home/jsimon/anaconda3/envs/thesis/lib/python3.7/site-packages/sklearn/discriminant_analysis.py:692: UserWarning: Variables are collinear\n",
      "  warnings.warn(\"Variables are collinear\")\n",
      "/home/jsimon/anaconda3/envs/thesis/lib/python3.7/site-packages/sklearn/discriminant_analysis.py:692: UserWarning: Variables are collinear\n",
      "  warnings.warn(\"Variables are collinear\")\n",
      "/home/jsimon/anaconda3/envs/thesis/lib/python3.7/site-packages/sklearn/discriminant_analysis.py:692: UserWarning: Variables are collinear\n",
      "  warnings.warn(\"Variables are collinear\")\n",
      "/home/jsimon/anaconda3/envs/thesis/lib/python3.7/site-packages/sklearn/discriminant_analysis.py:692: UserWarning: Variables are collinear\n",
      "  warnings.warn(\"Variables are collinear\")\n",
      "/home/jsimon/anaconda3/envs/thesis/lib/python3.7/site-packages/sklearn/discriminant_analysis.py:692: UserWarning: Variables are collinear\n",
      "  warnings.warn(\"Variables are collinear\")\n",
      "/home/jsimon/anaconda3/envs/thesis/lib/python3.7/site-packages/sklearn/discriminant_analysis.py:692: UserWarning: Variables are collinear\n",
      "  warnings.warn(\"Variables are collinear\")\n",
      "/home/jsimon/anaconda3/envs/thesis/lib/python3.7/site-packages/sklearn/discriminant_analysis.py:692: UserWarning: Variables are collinear\n",
      "  warnings.warn(\"Variables are collinear\")\n",
      "/home/jsimon/anaconda3/envs/thesis/lib/python3.7/site-packages/sklearn/discriminant_analysis.py:692: UserWarning: Variables are collinear\n",
      "  warnings.warn(\"Variables are collinear\")\n",
      "/home/jsimon/anaconda3/envs/thesis/lib/python3.7/site-packages/sklearn/discriminant_analysis.py:692: UserWarning: Variables are collinear\n",
      "  warnings.warn(\"Variables are collinear\")\n",
      "/home/jsimon/anaconda3/envs/thesis/lib/python3.7/site-packages/sklearn/discriminant_analysis.py:692: UserWarning: Variables are collinear\n",
      "  warnings.warn(\"Variables are collinear\")\n",
      "/home/jsimon/anaconda3/envs/thesis/lib/python3.7/site-packages/sklearn/discriminant_analysis.py:692: UserWarning: Variables are collinear\n",
      "  warnings.warn(\"Variables are collinear\")\n",
      "/home/jsimon/anaconda3/envs/thesis/lib/python3.7/site-packages/sklearn/discriminant_analysis.py:692: UserWarning: Variables are collinear\n",
      "  warnings.warn(\"Variables are collinear\")\n",
      "/home/jsimon/anaconda3/envs/thesis/lib/python3.7/site-packages/sklearn/discriminant_analysis.py:692: UserWarning: Variables are collinear\n",
      "  warnings.warn(\"Variables are collinear\")\n",
      "/home/jsimon/anaconda3/envs/thesis/lib/python3.7/site-packages/sklearn/discriminant_analysis.py:692: UserWarning: Variables are collinear\n",
      "  warnings.warn(\"Variables are collinear\")\n",
      "/home/jsimon/anaconda3/envs/thesis/lib/python3.7/site-packages/sklearn/discriminant_analysis.py:692: UserWarning: Variables are collinear\n",
      "  warnings.warn(\"Variables are collinear\")\n",
      "/home/jsimon/anaconda3/envs/thesis/lib/python3.7/site-packages/sklearn/discriminant_analysis.py:692: UserWarning: Variables are collinear\n",
      "  warnings.warn(\"Variables are collinear\")\n"
     ]
    },
    {
     "name": "stdout",
     "output_type": "stream",
     "text": [
      "val score 0.6215648237956677 for QDA (test: 0.8896533951810334)\n",
      "val score 0.08115098609763984 for nn (test: 0.0914572864321608)\n",
      "val score 0.2146783058519237 for gaussian navie bayse (test: 0.1306532663316583)\n"
     ]
    },
    {
     "name": "stderr",
     "output_type": "stream",
     "text": [
      "[Parallel(n_jobs=3)]: Using backend ThreadingBackend with 3 concurrent workers.\n",
      "[Parallel(n_jobs=3)]: Done  10 out of  10 | elapsed:   27.8s finished\n",
      "[Parallel(n_jobs=3)]: Using backend ThreadingBackend with 3 concurrent workers.\n",
      "[Parallel(n_jobs=3)]: Done  10 out of  10 | elapsed:    0.0s finished\n",
      "[Parallel(n_jobs=3)]: Using backend ThreadingBackend with 3 concurrent workers.\n",
      "[Parallel(n_jobs=3)]: Done  10 out of  10 | elapsed:    0.3s finished\n"
     ]
    },
    {
     "name": "stdout",
     "output_type": "stream",
     "text": [
      "val score 0.9602327837051406 for random forrest (test: 0.9977451359360907)\n"
     ]
    },
    {
     "name": "stderr",
     "output_type": "stream",
     "text": [
      "[Parallel(n_jobs=3)]: Using backend ThreadingBackend with 3 concurrent workers.\n",
      "[Parallel(n_jobs=3)]: Done  10 out of  10 | elapsed:    5.4s finished\n",
      "[Parallel(n_jobs=3)]: Using backend ThreadingBackend with 3 concurrent workers.\n",
      "[Parallel(n_jobs=3)]: Done  10 out of  10 | elapsed:    0.0s finished\n",
      "[Parallel(n_jobs=3)]: Using backend ThreadingBackend with 3 concurrent workers.\n",
      "[Parallel(n_jobs=3)]: Done  10 out of  10 | elapsed:    0.3s finished\n"
     ]
    },
    {
     "name": "stdout",
     "output_type": "stream",
     "text": [
      "val score 0.9634658907209829 for extra trees (test: 1.0)\n",
      "\n"
     ]
    }
   ],
   "source": [
    "gc.collect()\n",
    "results = fit_classifier(classifiers, X, y, Xval, yval)"
   ]
  },
  {
   "cell_type": "code",
   "execution_count": 12,
   "metadata": {},
   "outputs": [],
   "source": [
    "# if you recompute: this is the 1910 set in reality\n",
    "with open( stats_added_base_path+'full-clss.pkl', \"wb\" ) as users_pickle_file:\n",
    "    pickle.dump(results, users_pickle_file)"
   ]
  },
  {
   "cell_type": "code",
   "execution_count": 13,
   "metadata": {},
   "outputs": [
    {
     "data": {
      "image/png": "[encoded data removed]",
      "text/plain": [
       "<Figure size 1080x1080 with 2 Axes>"
      ]
     },
     "metadata": {
      "needs_background": "light"
     },
     "output_type": "display_data"
    }
   ],
   "source": [
    "f, axarr = plt.subplots(figsize=(15, 15))\n",
    "heatmap = sns.heatmap(results[-1][3], annot=True, fmt=\"d\", ax=axarr)\n",
    "heatmap.yaxis.set_ticklabels(heatmap.yaxis.get_ticklabels(), rotation=0, ha='right')\n",
    "heatmap.xaxis.set_ticklabels(heatmap.xaxis.get_ticklabels(), rotation=45, ha='right')\n",
    "plt.ylabel('True label')\n",
    "plt.xlabel('Predicted label')\n",
    "plt.show()"
   ]
  },
  {
   "cell_type": "markdown",
   "metadata": {},
   "source": [
    "## SVM: the quest to find C"
   ]
  },
  {
   "cell_type": "code",
   "execution_count": null,
   "metadata": {},
   "outputs": [],
   "source": [
    "classifiers = svmhelper.get_svm_grid()"
   ]
  },
  {
   "cell_type": "code",
   "execution_count": null,
   "metadata": {},
   "outputs": [],
   "source": [
    "def find_classifier_hyperparams(classifiers, X, y):\n",
    "    clf = None\n",
    "    clf_n = None\n",
    "    kf = StratifiedKFold(n_splits=4)\n",
    "    kf.get_n_splits(X, y)\n",
    "    score = 0\n",
    "    \n",
    "    results = []\n",
    "    for clf_name, clf_candidate, needsScaledData in tqdm.tqdm_notebook(classifiers):\n",
    "        clf_candidate = clone(clf_candidate)\n",
    "        print(\"KFold fit {}\".format(clf_name))\n",
    "        # decide: we should return the best model for each classifier here?\n",
    "        # and do we pickle them?\n",
    "        fitted_clfs = []\n",
    "        for train_index, test_index in tqdm.tqdm_notebook(kf.split(X, y), leave=False):\n",
    "            X_train = X[train_index, :]\n",
    "            X_ct = X[test_index, :]\n",
    "            y_train = y[train_index]\n",
    "            y_ct = y[test_index]\n",
    "            clf_candidate.fit(X_train, y_train)\n",
    "            p = clf_candidate.predict(X_ct)\n",
    "            s = f1_score(y_ct, p, average='micro')\n",
    "            p_t = clf_candidate.predict(X_train)\n",
    "            s_t = f1_score(y_train, p_t, average='micro')\n",
    "            print(f\"val score {s} for {clf_name} (test: {s_t})\")\n",
    "            cmatrix = metr.confusion_matrix(y_ct, clf_candidate.predict(X_ct))\n",
    "            print(cmatrix)\n",
    "            fitted_clfs.append((s, clf_candidate))\n",
    "            #cscore = cmatrix[1,1] + cmatrix[2,2] + cmatrix[3,3]\n",
    "            #if s > score:\n",
    "            #    score = s\n",
    "            #    clf = clf_candidate\n",
    "            #    clf_n = clf_name\n",
    "        results.append((clf_name, fitted_clfs))\n",
    "    \n",
    "    best_average = 0.0\n",
    "    best_av_clf = None\n",
    "    best_clf_name = None\n",
    "    for name, clfs in results:\n",
    "        sorted_clfs = sorted(clfs, key=lambda tup: tup[0])\n",
    "        average_score, avarage_clf = sorted_clfs[len(clfs)//2]\n",
    "        if average_score > best_average:\n",
    "            best_average = average_score\n",
    "            best_av_clf = avarage_clf\n",
    "            best_clf_name = name\n",
    "\n",
    "    return (best_av_clf, best_clf_name, True, minmax)"
   ]
  },
  {
   "cell_type": "code",
   "execution_count": null,
   "metadata": {},
   "outputs": [],
   "source": [
    "X_samples, y_samples = subsample(candiate2,y,3)"
   ]
  },
  {
   "cell_type": "code",
   "execution_count": null,
   "metadata": {},
   "outputs": [],
   "source": [
    "gc.collect()\n",
    "find_classifier_hyperparams(classifiers, X, y)"
   ]
  }
 ],
 "metadata": {
  "kernelspec": {
   "display_name": "Python 3",
   "language": "python",
   "name": "python3"
  },
  "language_info": {
   "codemirror_mode": {
    "name": "ipython",
    "version": 3
   },
   "file_extension": ".py",
   "mimetype": "text/x-python",
   "name": "python",
   "nbconvert_exporter": "python",
   "pygments_lexer": "ipython3",
   "version": "3.7.2"
  }
 },
 "nbformat": 4,
 "nbformat_minor": 2
}
