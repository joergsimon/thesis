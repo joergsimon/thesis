{
 "cells": [
  {
   "cell_type": "markdown",
   "metadata": {},
   "source": [
    "# Data\n",
    "\n",
    "We collected data from 22 participants, consisting of 8 female and 14 male aged between 24 and 40. Each participant repeated all the gestures with the glove (31 gestures) either five or ten times. We collected Data during the experiment from the Glove and the Myo Armband. In the thesis we concentrate on the Glove. As described in the Hardware section of the thesis the Glove has 64 Channels. There are 13 flexation sensors (two for each finger, an additional one for the thumb, and two for the wrist flexation). Each tip of the finger has one pressure sensor. Also there is an IMU on each finger, one at the middle of the palm and one at the wrist, making it to 7 IMUs and 5 pressure sensors. Each IMU consists of a 3 Axis Accelerometer and a 3 Axis Gyroscope. Additionally there is a 3 Axis Magnetometer on the palm.\n",
    "\n",
    "\n",
    "The glove loopes trough the sensors every $12ms$ and reads the current value and sends this array to a computer, resulting in a sampling rate of $83,\\overline{3}Hz$. This array is then written into a .csv file. In the experiment the data was saved autmatically the following way: For each participant a folder with the participant code was created. In that folder a file in the Format *CODE_TYPE_TIMESTAMP.csv* was created, with *CODE* beeing the participant code, *TYPE* being one of gesture, myo or labels, timestamp being in the format *Year_Month_Day_Hour_Minute_Second*. An example would be *PS42_glove_2015_08_13_15_06_08.csv*.\n",
    "\n",
    "\n",
    "The type glove means it has all the channels for the glove, myo has all the channels for the myo, labels has start and end index for glove and myo for each time a label was recorded in a row. If you combine all the raw data into one big python pickle we have around **3.4 GB** of raw data.\n",
    "\n",
    "\n",
    "If an experiment was interrupted inbetween because there was a short break needed or a problem with a sensor, it could be picked up at a later time. In this case several of the above files exists in the users folder, with a different starting timestamp. A first step is to create one dataset siutable for exploration out of these user recording sessions and individual files. For this reconstruction lets recap the most important structural properties of the data.\n",
    "\n",
    "\n",
    "The data is timeseries data with a set of channels from the glove. This channels can have occasional errors, and contain noise, but in general there should not be many missing values or alike. The timeseries is gathered with a fixed frequency from the glove. While there are many channels only a small set of different sensor types (Accelerometer, Gyroscope, Magnetometer, Flex Sensors and Pressure Sensors) exist, who all share f.e. their characteristic value range. Most importantly there is a set of different types of labels who form a hirachy. Every gesture is labeled. By the protocol of the experiment the participant is only allowed to perform a label when a programm commands him to do so, and he has 3 seconds time to do the gesture then. This 3 second times are automatically annotated as automatic label. Within that 3 seconds an experimenter observed the gesture and pressed 1 for the dynamic part of the gesture and 2 for the static part of the gesture. These timings where combined for the manual label type. That means as a hiracy that automatic gesture label define the maximal start and end time, manual define theoretically the time of the real gesture, and the dynamic and static types again must be shorter and within the times of the manual time. We will harness this properties of the label types to do integrity checks of the data."
   ]
  },
  {
   "cell_type": "code",
   "execution_count": 1,
   "metadata": {},
   "outputs": [],
   "source": [
    "# basic setup for the notebook: autoreload and loading modules\n",
    "%load_ext autoreload\n",
    "%autoreload 2"
   ]
  },
  {
   "cell_type": "code",
   "execution_count": 2,
   "metadata": {},
   "outputs": [],
   "source": [
    "import os\n",
    "import pickle\n",
    "import tqdm\n",
    "import numpy as np\n",
    "import pandas as pd\n",
    "from datetime import datetime, timedelta\n",
    "import gestureanalysis.read_raw as rr\n",
    "import gestureanalysis.raw_preprocessing_and_cleaning as rp\n",
    "import gestureanalysis.utils as utils\n",
    "import gestureanalysis.specific_utils as sutils\n",
    "from gestureanalysis.constants import Constants"
   ]
  },
  {
   "cell_type": "code",
   "execution_count": 3,
   "metadata": {},
   "outputs": [],
   "source": [
    "base_path = \"/home/jsimon/Documents/thesis/gesture-analysis/data/\"\n",
    "base_path_raw = base_path+\"raw/all\"\n",
    "base_path_pickl = base_path+\"transformed/raw-pickeled/all/raw-all.pkl\"\n",
    "time_path_pickl = base_path+\"transformed/time_added/all/time-all.pkl\"\n",
    "time_groups_path_corrected_pickl = base_path+\"transformed/time_added/all/time-and-groups-corrected-all.pkl\""
   ]
  },
  {
   "cell_type": "code",
   "execution_count": 4,
   "metadata": {},
   "outputs": [
    {
     "data": {
      "text/plain": [
       "'/home/jsimon/Documents/thesis/gesture-analysis/scripts'"
      ]
     },
     "execution_count": 4,
     "metadata": {},
     "output_type": "execute_result"
    }
   ],
   "source": [
    "# check working directory and adopt if needed\n",
    "os.getcwd()"
   ]
  },
  {
   "cell_type": "markdown",
   "metadata": {},
   "source": [
    "## Data Loading\n",
    "\n",
    "We first have to load the data. The function rr.read_raw(base_path_raw) iterates trough a directory with user data reading the folders name as username and reads all the .csv into keys for that user. In this first collection each file is read into a individual pandas dataframe, and saved into the users dictionary under the key 'glove', 'myo' or 'label' with it's filename."
   ]
  },
  {
   "cell_type": "code",
   "execution_count": 5,
   "metadata": {},
   "outputs": [],
   "source": [
    "def read_users():\n",
    "    return rr.read_raw(base_path_raw)\n",
    "users = utils.try_pickl_or_recreate(base_path_pickl, read_users)"
   ]
  },
  {
   "cell_type": "markdown",
   "metadata": {},
   "source": [
    "we now have loaded 21 users with the following keys for each:"
   ]
  },
  {
   "cell_type": "code",
   "execution_count": 6,
   "metadata": {},
   "outputs": [
    {
     "name": "stdout",
     "output_type": "stream",
     "text": [
      "['AB73', 'AE30', 'AF82', 'AL29', 'AW18', 'CB23', 'CB24', 'CF58', 'DG12', 'DH42', 'DL24', 'JL61', 'JQ28', 'JS52', 'MF20', 'MS55', 'PC29', 'PM32', 'PS42', 'RR45', 'RW32', 'SF1', 'YW13']\n",
      "['filecount', 'files', 'glove', 'label', 'myo']\n"
     ]
    }
   ],
   "source": [
    "# users:\n",
    "print(list(users.keys()))\n",
    "# keys for one example:\n",
    "print(list(users['AB73'].keys()))"
   ]
  },
  {
   "cell_type": "markdown",
   "metadata": {},
   "source": [
    "## Preprocessing\n",
    "\n",
    "The intial preprocessing consists in adding the labels, changing the indes to the time domain, and with that combining the individual data files (there is only more than one if interruptions occured) into one file with a time domain index\n",
    "\n",
    "- First the labeling info is added back into the data for the glove and the myo data. This should be done first as the labels are collected with a start and end index number relative to the recording number in that file. There exist 4 Types of labels:\n",
    " - Automatic: the user is asked by the prgram of the experiment to perform the gesture after a countoun within three seconds. The start and the end index of this window is tagged with the label_automatic type\n",
    " - Manual: The manual label is the combination of the dynamic and the static label, and recorded as the label_manual type\n",
    " - Dynamic: When the user performs a gesture a experimenter manually pressed 1 when the dynamic part of a gesture was taken place. The dynamic part is defined as the part where arm and/or fingers move to form a gesture. The start and the end index of this manual labeling is recorded in the label_dynamic type.\n",
    " - Static: When the dynamic part ends, often a static part is added to a gesture. The static part is where the arm rests in a pose forming the symobolic shape the gesture represents (like thumbs up). If that part is present the experimenter manually labels that part by pressing 2. The start and end frame is recordet into the label_static type.\n",
    "\n",
    "- After that the timension of time must be correctly recovered: Each recording has a file with a timestamp. This timestamp is used as a base. After initial reading each pandas file is indexed from *0* to _len(records)_. This can be used to recover the time domain by using the base timestamp and adding the index number multiplied by the time delta between each recording. We used a fixed frequency of 83.3Hz or a time delta of 0.012.\n",
    "- Up to this point, if a recording was breaked into two sessions, each file was processed individually, because the index is relative to a file, and needed for recovery of the frames a label belongs to. Since now the labels are correctly combined and the time domain is added, we can concatenate the individual recordings to one big recording. This is saved into the \"glove_merged\" key into each users data dictionary."
   ]
  },
  {
   "cell_type": "code",
   "execution_count": 7,
   "metadata": {},
   "outputs": [],
   "source": [
    "def add_labels(gdata, ldata):\n",
    "    # add labels:\n",
    "\n",
    "    gdata['label_automatic'] = np.NaN\n",
    "    gdata['label_manual'] = np.NaN\n",
    "    gdata['label_dynamic'] = np.NaN\n",
    "    gdata['label_static'] = np.NaN\n",
    "\n",
    "    # prepare annotated Automatic Labels:\n",
    "    automatic = ldata[ldata['manual_L_vs_automatic_G'] == 'G']\n",
    "    manual = ldata[ldata['manual_L_vs_automatic_G'] == 'L']\n",
    "    dynamic = manual[manual['aut0_dyn1_static2'] == 1]\n",
    "    static = manual[manual['aut0_dyn1_static2'] == 2]\n",
    "\n",
    "    for _, row in automatic.iterrows():\n",
    "        rp.add_label(gdata, row, 'label_automatic')\n",
    "    for _, row in manual.iterrows():\n",
    "        rp.add_label(gdata, row, 'label_manual')\n",
    "    for _, row in dynamic.iterrows():\n",
    "        rp.add_label(gdata, row, 'label_dynamic')\n",
    "    for _, row in static.iterrows():\n",
    "        rp.add_label(gdata, row, 'label_static')\n",
    "\n",
    "\n",
    "def transform_index_to_time(fname, gdata, data):\n",
    "    fdate = fname[-23:-4]\n",
    "    startdate = datetime.strptime(fdate, \"%Y_%m_%d_%H_%M_%S\")\n",
    "\n",
    "    offsets = gdata.index.values * Constants.dt_t\n",
    "    times = startdate + offsets\n",
    "    tmp = pd.to_datetime(times)\n",
    "    gdata.index = tmp\n",
    "\n",
    "    if 'glove_merged' in data:\n",
    "        old_data = data['glove_merged']\n",
    "        data['glove_merged'] = old_data.append(gdata)\n",
    "    else:\n",
    "        data['glove_merged'] = gdata"
   ]
  },
  {
   "cell_type": "code",
   "execution_count": 8,
   "metadata": {},
   "outputs": [
    {
     "data": {
      "application/vnd.jupyter.widget-view+json": {
       "model_id": "699d52cc9d37454381702fa6744ef6a1",
       "version_major": 2,
       "version_minor": 0
      },
      "text/plain": [
       "HBox(children=(IntProgress(value=0, max=23), HTML(value='')))"
      ]
     },
     "metadata": {},
     "output_type": "display_data"
    },
    {
     "name": "stdout",
     "output_type": "stream",
     "text": [
      "ignore user  AE30\n",
      "ignore user  AE30\n",
      "\n"
     ]
    }
   ],
   "source": [
    "# preprocess users iterates the users array, and applies the add_labels function and \n",
    "# transfrom_index_to_time to each data frame\n",
    "rp.preprocess_raw(users, add_labels, transform_index_to_time)"
   ]
  },
  {
   "cell_type": "markdown",
   "metadata": {},
   "source": [
    "This adds an additonal field 'glove_merged' to each of the 21 users. This field contains the concatenated data of the individual data files, changed the index into the time-domain, and added the labels."
   ]
  },
  {
   "cell_type": "code",
   "execution_count": 9,
   "metadata": {},
   "outputs": [
    {
     "name": "stdout",
     "output_type": "stream",
     "text": [
      "['AB73', 'AE30', 'AF82', 'AL29', 'AW18', 'CB23', 'CB24', 'CF58', 'DG12', 'DH42', 'DL24', 'JL61', 'JQ28', 'JS52', 'MF20', 'MS55', 'PC29', 'PM32', 'PS42', 'RR45', 'RW32', 'SF1', 'YW13']\n",
      "['filecount', 'files', 'glove', 'label', 'myo', 'glove_merged']\n"
     ]
    }
   ],
   "source": [
    "# users:\n",
    "print(list(users.keys()))\n",
    "# keys for one example:\n",
    "print(list(users['AB73'].keys()))"
   ]
  },
  {
   "cell_type": "markdown",
   "metadata": {},
   "source": [
    "- _filecount_ is the number of files needed for that user. In an experiment without interruption that number is 3, else it is accordingly more\n",
    "- _files_ is the name of the files\n",
    "- _glove_ is a list with a dictionary inside. It has a key file to indicate the specific csv file with glove sensor data for that data, and a key data with a pandas where the data is stored inside\n",
    "- _label_ is like glove, but the data / files is the labels data\n",
    "- _myo_ is like glove, but the data /files is the myo data\n",
    "- *glove_merged* has all the glove data in one pandas dictionary after transforming the index, concatenation and adding the labels"
   ]
  },
  {
   "cell_type": "code",
   "execution_count": 10,
   "metadata": {},
   "outputs": [],
   "source": [
    "# in case the script above worked, execute that line:\n",
    "with open( time_path_pickl, \"wb\" ) as users_pickle_file:\n",
    "    pickle.dump(users, users_pickle_file)"
   ]
  },
  {
   "cell_type": "code",
   "execution_count": 11,
   "metadata": {},
   "outputs": [],
   "source": [
    "# in case you need to reload, and know it exists:\n",
    "with open( time_path_pickl, \"rb\" ) as users_pickle_file:\n",
    "    users = pickle.load(users_pickle_file)"
   ]
  },
  {
   "cell_type": "markdown",
   "metadata": {},
   "source": [
    "### Recovering Label Groups in Data\n",
    "\n",
    "We now added to labels from the labels file to each row of the geasture data. After that we recovered the time domain, so the dataset now has concrete dates for each row as index. The problem with that is that we now lost the start and end index for each label, which is useful to have to inspect the raw data and make analysis before the model is trained.\n",
    "\n",
    "An easy was ist just to go trough the original data, and recover the groups by scanning trough the index and define every consecutive streak of label data as one group. Concretely if a occurence of a label is found, as long as there are new rows with the same label within three times the time delate of 0.012s the next row is counted towards the same group. as soon as this requirenment breaks the group is closed and with the next labeled row the new group started."
   ]
  },
  {
   "cell_type": "code",
   "execution_count": 14,
   "metadata": {},
   "outputs": [
    {
     "data": {
      "application/vnd.jupyter.widget-view+json": {
       "model_id": "3369d92563a842f5a85812bbbcbb1753",
       "version_major": 2,
       "version_minor": 0
      },
      "text/plain": [
       "HBox(children=(IntProgress(value=0, max=23), HTML(value='')))"
      ]
     },
     "metadata": {},
     "output_type": "display_data"
    },
    {
     "name": "stdout",
     "output_type": "stream",
     "text": [
      "\n"
     ]
    }
   ],
   "source": [
    "duration_allowed_error = Constants.dt_t*3\n",
    "dae = duration_allowed_error\n",
    "z = timedelta(milliseconds=0)\n",
    "\n",
    "def label_groups_for_one_label_type(label_type, glove_merged):\n",
    "    g_lbls = glove_merged[glove_merged[label_type].notnull()]\n",
    "    index = g_lbls.index.tolist()\n",
    "    groups = utils.find_consecutive_groups(index, Constants.dt_t*2, use_tqdm=False)\n",
    "    return groups\n",
    "\n",
    "def recover_label_groups_from_data(user_data):\n",
    "    glove_merged = user_data['glove_merged']\n",
    "    \n",
    "    groups = label_groups_for_one_label_type(\"label_automatic\", glove_merged)\n",
    "    user_data['start_end_automatic_groups'] = groups\n",
    "    \n",
    "    groups = label_groups_for_one_label_type(\"label_manual\", glove_merged)\n",
    "    user_data['start_end_manual_groups'] = groups\n",
    "    \n",
    "    groups = label_groups_for_one_label_type(\"label_dynamic\", glove_merged)\n",
    "    user_data['start_end_dynamic_groups'] = groups\n",
    "    \n",
    "    groups = label_groups_for_one_label_type(\"label_static\", glove_merged)\n",
    "    user_data['start_end_static_groups'] = groups\n",
    "\n",
    "for key, data in tqdm.tqdm_notebook(users.items()):\n",
    "    if not 'glove_merged' in data:\n",
    "        continue\n",
    "    recover_label_groups_from_data(data)"
   ]
  },
  {
   "cell_type": "markdown",
   "metadata": {},
   "source": [
    "After recovering we have to check for a set of possible errors. First we force to only allow that labels keep their general structure: A gesture can only happen within an automatic label. In the autmatic there is a manual label consisting of a dynamic and optional static part. To label manual the experimenter has to constantly press the corresponding button, sometimes small errors like loosing contact for a few 100ms can happen. Therefor all the first start of dynamic labels and the last end of it is merged into one dynamic group. The same ist done with the manual label and static label if present. I then lookup the gesture type, and create a LabelGroup object out of this four (autmatic, manual, dynamic, static) label types. Any incomplete group is removed from the dataset as incorrect. With this I remove about 1.9616% of the labels present in the dataset."
   ]
  },
  {
   "cell_type": "code",
   "execution_count": 15,
   "metadata": {},
   "outputs": [],
   "source": [
    "def merge_subautomatic_labels(user_data, show_details):\n",
    "    groups_automatic = user_data['start_end_automatic_groups']\n",
    "    groups_automatic.sort()\n",
    "    groups_manual = user_data['start_end_manual_groups']\n",
    "    groups_dynamic = user_data['start_end_dynamic_groups']\n",
    "    groups_static = user_data['start_end_static_groups']\n",
    "    dyn_idx, sts_idx, man_idx = 0, 0, 0\n",
    "    lbl_groups = []\n",
    "    for a in groups_automatic:\n",
    "        dyn_idx, dgs = sutils.combine_ranges_contained(a, dyn_idx, groups_dynamic)\n",
    "        sts_idx, sgs = sutils.combine_ranges_contained(a, sts_idx, groups_static)\n",
    "        man_idx, mgs = sutils.combine_ranges_contained(a, man_idx, groups_manual)\n",
    "        if (len(dgs) == 1) and (len(mgs) == 1):\n",
    "            d = sutils.t_to_t(dgs[0])\n",
    "            m = sutils.t_to_t(mgs[0])\n",
    "            s = sutils.t_to_t(sgs[0]) if len(sgs) == 1 else None\n",
    "            label = (user_data['glove_merged'].loc[d.start:d.end, 'label_automatic'])[1]\n",
    "            lg = sutils.LabelGroup(label, sutils.t_to_t(a), m, s, d)\n",
    "            lbl_groups.append(lg)\n",
    "    if (len(lbl_groups) != len(groups_automatic)) and show_details:\n",
    "        print(\"changed size of total groups: \", len(groups_automatic), len(lbl_groups), ' that is ', (1-len(lbl_groups)/len(groups_automatic))*100, \"%\")\n",
    "    \n",
    "    user_data['lbl_groups'] = lbl_groups\n",
    "    return lbl_groups"
   ]
  },
  {
   "cell_type": "code",
   "execution_count": 18,
   "metadata": {},
   "outputs": [
    {
     "data": {
      "application/vnd.jupyter.widget-view+json": {
       "model_id": "c76a9693620b41828d2da3c2a2aadc6e",
       "version_major": 2,
       "version_minor": 0
      },
      "text/plain": [
       "HBox(children=(IntProgress(value=0, max=23), HTML(value='')))"
      ]
     },
     "metadata": {},
     "output_type": "display_data"
    },
    {
     "name": "stdout",
     "output_type": "stream",
     "text": [
      "check  AB73\n",
      "changed size of total groups:  310 307  that is  0.9677419354838679 %\n",
      "check  AF82\n",
      "changed size of total groups:  157 155  that is  1.273885350318471 %\n",
      "check  AL29\n",
      "changed size of total groups:  310 308  that is  0.6451612903225823 %\n",
      "check  AW18\n",
      "changed size of total groups:  155 153  that is  1.2903225806451646 %\n",
      "check  CB23\n",
      "changed size of total groups:  155 152  that is  1.9354838709677469 %\n",
      "check  CB24\n",
      "changed size of total groups:  157 154  that is  1.9108280254777066 %\n",
      "check  CF58\n",
      "changed size of total groups:  171 167  that is  2.3391812865497075 %\n",
      "check  DG12\n",
      "changed size of total groups:  155 154  that is  0.6451612903225823 %\n",
      "check  DH42\n",
      "changed size of total groups:  155 153  that is  1.2903225806451646 %\n",
      "check  DL24\n",
      "changed size of total groups:  310 301  that is  2.9032258064516148 %\n",
      "check  JL61\n",
      "changed size of total groups:  165 162  that is  1.8181818181818188 %\n",
      "check  JQ28\n",
      "changed size of total groups:  310 298  that is  3.8709677419354827 %\n",
      "check  JS52\n",
      "changed size of total groups:  310 303  that is  2.2580645161290325 %\n",
      "check  MF20\n",
      "changed size of total groups:  155 153  that is  1.2903225806451646 %\n",
      "check  MS55\n",
      "changed size of total groups:  156 151  that is  3.205128205128205 %\n",
      "check  PC29\n",
      "changed size of total groups:  165 156  that is  5.454545454545457 %\n",
      "check  PM32\n",
      "changed size of total groups:  310 308  that is  0.6451612903225823 %\n",
      "check  PS42\n",
      "changed size of total groups:  156 153  that is  1.9230769230769273 %\n",
      "check  RR45\n",
      "changed size of total groups:  155 153  that is  1.2903225806451646 %\n",
      "check  RW32\n",
      "changed size of total groups:  155 146  that is  5.8064516129032295 %\n",
      "check  SF1\n",
      "changed size of total groups:  155 154  that is  0.6451612903225823 %\n",
      "check  YW13\n",
      "changed size of total groups:  310 307  that is  0.9677419354838679 %\n",
      "\n",
      "in total we removed  1.961648666519722 % of automatic labels\n"
     ]
    }
   ],
   "source": [
    "total_len = 0\n",
    "total_new_len = 0\n",
    "SHOW_DETAILS=True\n",
    "for key, data in tqdm.tqdm_notebook(users.items()):\n",
    "    if not 'glove_merged' in data:\n",
    "        continue\n",
    "    if SHOW_DETAILS: print('check ', key)\n",
    "    total_len += len(data['start_end_automatic_groups'])\n",
    "    merge_subautomatic_labels(data, SHOW_DETAILS)\n",
    "    total_new_len += len(data['lbl_groups'])\n",
    "print('in total we removed ', (1-total_new_len/total_len)*100, '% of automatic labels')"
   ]
  },
  {
   "cell_type": "markdown",
   "metadata": {},
   "source": [
    "### Recovering Label Groups from the Labels File\n",
    "\n",
    "The alternative way to recover label groups is to go over the original label and glove files. In the label file is a start end end index, hence it alteady has the form of a group. The goal is to turn that into the time domain. With this approach I multiply the timedelta by the index + the timestamp of the file directly to get the groups. This should give me the same timings as the other way above...\n",
    "\n",
    "We will see that the timings are almost the same for the automatic labels, the start is always the same, but the end time if usually about 1-2 time deltas off. I can not yet explain that behaviour, for now we just take the longer sequence."
   ]
  },
  {
   "cell_type": "code",
   "execution_count": 19,
   "metadata": {},
   "outputs": [
    {
     "data": {
      "application/vnd.jupyter.widget-view+json": {
       "model_id": "e9491132e7234ec39b888e022798a6c9",
       "version_major": 2,
       "version_minor": 0
      },
      "text/plain": [
       "HBox(children=(IntProgress(value=0, max=23), HTML(value='')))"
      ]
     },
     "metadata": {},
     "output_type": "display_data"
    },
    {
     "data": {
      "application/vnd.jupyter.widget-view+json": {
       "model_id": "",
       "version_major": 2,
       "version_minor": 0
      },
      "text/plain": [
       "HBox(children=(IntProgress(value=0, max=1), HTML(value='')))"
      ]
     },
     "metadata": {},
     "output_type": "display_data"
    },
    {
     "data": {
      "application/vnd.jupyter.widget-view+json": {
       "model_id": "",
       "version_major": 2,
       "version_minor": 0
      },
      "text/plain": [
       "HBox(children=(IntProgress(value=0, max=1), HTML(value='')))"
      ]
     },
     "metadata": {},
     "output_type": "display_data"
    },
    {
     "data": {
      "application/vnd.jupyter.widget-view+json": {
       "model_id": "",
       "version_major": 2,
       "version_minor": 0
      },
      "text/plain": [
       "HBox(children=(IntProgress(value=0, max=1), HTML(value='')))"
      ]
     },
     "metadata": {},
     "output_type": "display_data"
    },
    {
     "data": {
      "application/vnd.jupyter.widget-view+json": {
       "model_id": "",
       "version_major": 2,
       "version_minor": 0
      },
      "text/plain": [
       "HBox(children=(IntProgress(value=0, max=1), HTML(value='')))"
      ]
     },
     "metadata": {},
     "output_type": "display_data"
    },
    {
     "data": {
      "application/vnd.jupyter.widget-view+json": {
       "model_id": "",
       "version_major": 2,
       "version_minor": 0
      },
      "text/plain": [
       "HBox(children=(IntProgress(value=0, max=3), HTML(value='')))"
      ]
     },
     "metadata": {},
     "output_type": "display_data"
    },
    {
     "data": {
      "application/vnd.jupyter.widget-view+json": {
       "model_id": "",
       "version_major": 2,
       "version_minor": 0
      },
      "text/plain": [
       "HBox(children=(IntProgress(value=0, max=3), HTML(value='')))"
      ]
     },
     "metadata": {},
     "output_type": "display_data"
    },
    {
     "data": {
      "application/vnd.jupyter.widget-view+json": {
       "model_id": "",
       "version_major": 2,
       "version_minor": 0
      },
      "text/plain": [
       "HBox(children=(IntProgress(value=0, max=3), HTML(value='')))"
      ]
     },
     "metadata": {},
     "output_type": "display_data"
    },
    {
     "data": {
      "application/vnd.jupyter.widget-view+json": {
       "model_id": "",
       "version_major": 2,
       "version_minor": 0
      },
      "text/plain": [
       "HBox(children=(IntProgress(value=0, max=3), HTML(value='')))"
      ]
     },
     "metadata": {},
     "output_type": "display_data"
    },
    {
     "data": {
      "application/vnd.jupyter.widget-view+json": {
       "model_id": "",
       "version_major": 2,
       "version_minor": 0
      },
      "text/plain": [
       "HBox(children=(IntProgress(value=0, max=1), HTML(value='')))"
      ]
     },
     "metadata": {},
     "output_type": "display_data"
    },
    {
     "data": {
      "application/vnd.jupyter.widget-view+json": {
       "model_id": "",
       "version_major": 2,
       "version_minor": 0
      },
      "text/plain": [
       "HBox(children=(IntProgress(value=0, max=1), HTML(value='')))"
      ]
     },
     "metadata": {},
     "output_type": "display_data"
    },
    {
     "data": {
      "application/vnd.jupyter.widget-view+json": {
       "model_id": "",
       "version_major": 2,
       "version_minor": 0
      },
      "text/plain": [
       "HBox(children=(IntProgress(value=0, max=1), HTML(value='')))"
      ]
     },
     "metadata": {},
     "output_type": "display_data"
    },
    {
     "data": {
      "application/vnd.jupyter.widget-view+json": {
       "model_id": "",
       "version_major": 2,
       "version_minor": 0
      },
      "text/plain": [
       "HBox(children=(IntProgress(value=0, max=1), HTML(value='')))"
      ]
     },
     "metadata": {},
     "output_type": "display_data"
    },
    {
     "data": {
      "application/vnd.jupyter.widget-view+json": {
       "model_id": "",
       "version_major": 2,
       "version_minor": 0
      },
      "text/plain": [
       "HBox(children=(IntProgress(value=0, max=1), HTML(value='')))"
      ]
     },
     "metadata": {},
     "output_type": "display_data"
    },
    {
     "data": {
      "application/vnd.jupyter.widget-view+json": {
       "model_id": "",
       "version_major": 2,
       "version_minor": 0
      },
      "text/plain": [
       "HBox(children=(IntProgress(value=0, max=1), HTML(value='')))"
      ]
     },
     "metadata": {},
     "output_type": "display_data"
    },
    {
     "data": {
      "application/vnd.jupyter.widget-view+json": {
       "model_id": "",
       "version_major": 2,
       "version_minor": 0
      },
      "text/plain": [
       "HBox(children=(IntProgress(value=0, max=1), HTML(value='')))"
      ]
     },
     "metadata": {},
     "output_type": "display_data"
    },
    {
     "data": {
      "application/vnd.jupyter.widget-view+json": {
       "model_id": "",
       "version_major": 2,
       "version_minor": 0
      },
      "text/plain": [
       "HBox(children=(IntProgress(value=0, max=1), HTML(value='')))"
      ]
     },
     "metadata": {},
     "output_type": "display_data"
    },
    {
     "data": {
      "application/vnd.jupyter.widget-view+json": {
       "model_id": "",
       "version_major": 2,
       "version_minor": 0
      },
      "text/plain": [
       "HBox(children=(IntProgress(value=0, max=1), HTML(value='')))"
      ]
     },
     "metadata": {},
     "output_type": "display_data"
    },
    {
     "data": {
      "application/vnd.jupyter.widget-view+json": {
       "model_id": "",
       "version_major": 2,
       "version_minor": 0
      },
      "text/plain": [
       "HBox(children=(IntProgress(value=0, max=1), HTML(value='')))"
      ]
     },
     "metadata": {},
     "output_type": "display_data"
    },
    {
     "data": {
      "application/vnd.jupyter.widget-view+json": {
       "model_id": "",
       "version_major": 2,
       "version_minor": 0
      },
      "text/plain": [
       "HBox(children=(IntProgress(value=0, max=1), HTML(value='')))"
      ]
     },
     "metadata": {},
     "output_type": "display_data"
    },
    {
     "data": {
      "application/vnd.jupyter.widget-view+json": {
       "model_id": "",
       "version_major": 2,
       "version_minor": 0
      },
      "text/plain": [
       "HBox(children=(IntProgress(value=0, max=1), HTML(value='')))"
      ]
     },
     "metadata": {},
     "output_type": "display_data"
    },
    {
     "data": {
      "application/vnd.jupyter.widget-view+json": {
       "model_id": "",
       "version_major": 2,
       "version_minor": 0
      },
      "text/plain": [
       "HBox(children=(IntProgress(value=0, max=2), HTML(value='')))"
      ]
     },
     "metadata": {},
     "output_type": "display_data"
    },
    {
     "data": {
      "application/vnd.jupyter.widget-view+json": {
       "model_id": "",
       "version_major": 2,
       "version_minor": 0
      },
      "text/plain": [
       "HBox(children=(IntProgress(value=0, max=2), HTML(value='')))"
      ]
     },
     "metadata": {},
     "output_type": "display_data"
    },
    {
     "data": {
      "application/vnd.jupyter.widget-view+json": {
       "model_id": "",
       "version_major": 2,
       "version_minor": 0
      },
      "text/plain": [
       "HBox(children=(IntProgress(value=0, max=2), HTML(value='')))"
      ]
     },
     "metadata": {},
     "output_type": "display_data"
    },
    {
     "data": {
      "application/vnd.jupyter.widget-view+json": {
       "model_id": "",
       "version_major": 2,
       "version_minor": 0
      },
      "text/plain": [
       "HBox(children=(IntProgress(value=0, max=2), HTML(value='')))"
      ]
     },
     "metadata": {},
     "output_type": "display_data"
    },
    {
     "data": {
      "application/vnd.jupyter.widget-view+json": {
       "model_id": "",
       "version_major": 2,
       "version_minor": 0
      },
      "text/plain": [
       "HBox(children=(IntProgress(value=0, max=11), HTML(value='')))"
      ]
     },
     "metadata": {},
     "output_type": "display_data"
    },
    {
     "data": {
      "application/vnd.jupyter.widget-view+json": {
       "model_id": "",
       "version_major": 2,
       "version_minor": 0
      },
      "text/plain": [
       "HBox(children=(IntProgress(value=0, max=11), HTML(value='')))"
      ]
     },
     "metadata": {},
     "output_type": "display_data"
    },
    {
     "data": {
      "application/vnd.jupyter.widget-view+json": {
       "model_id": "",
       "version_major": 2,
       "version_minor": 0
      },
      "text/plain": [
       "HBox(children=(IntProgress(value=0, max=11), HTML(value='')))"
      ]
     },
     "metadata": {},
     "output_type": "display_data"
    },
    {
     "data": {
      "application/vnd.jupyter.widget-view+json": {
       "model_id": "",
       "version_major": 2,
       "version_minor": 0
      },
      "text/plain": [
       "HBox(children=(IntProgress(value=0, max=11), HTML(value='')))"
      ]
     },
     "metadata": {},
     "output_type": "display_data"
    },
    {
     "data": {
      "application/vnd.jupyter.widget-view+json": {
       "model_id": "",
       "version_major": 2,
       "version_minor": 0
      },
      "text/plain": [
       "HBox(children=(IntProgress(value=0, max=1), HTML(value='')))"
      ]
     },
     "metadata": {},
     "output_type": "display_data"
    },
    {
     "data": {
      "application/vnd.jupyter.widget-view+json": {
       "model_id": "",
       "version_major": 2,
       "version_minor": 0
      },
      "text/plain": [
       "HBox(children=(IntProgress(value=0, max=1), HTML(value='')))"
      ]
     },
     "metadata": {},
     "output_type": "display_data"
    },
    {
     "data": {
      "application/vnd.jupyter.widget-view+json": {
       "model_id": "",
       "version_major": 2,
       "version_minor": 0
      },
      "text/plain": [
       "HBox(children=(IntProgress(value=0, max=1), HTML(value='')))"
      ]
     },
     "metadata": {},
     "output_type": "display_data"
    },
    {
     "data": {
      "application/vnd.jupyter.widget-view+json": {
       "model_id": "",
       "version_major": 2,
       "version_minor": 0
      },
      "text/plain": [
       "HBox(children=(IntProgress(value=0, max=1), HTML(value='')))"
      ]
     },
     "metadata": {},
     "output_type": "display_data"
    },
    {
     "data": {
      "application/vnd.jupyter.widget-view+json": {
       "model_id": "",
       "version_major": 2,
       "version_minor": 0
      },
      "text/plain": [
       "HBox(children=(IntProgress(value=0, max=1), HTML(value='')))"
      ]
     },
     "metadata": {},
     "output_type": "display_data"
    },
    {
     "data": {
      "application/vnd.jupyter.widget-view+json": {
       "model_id": "",
       "version_major": 2,
       "version_minor": 0
      },
      "text/plain": [
       "HBox(children=(IntProgress(value=0, max=1), HTML(value='')))"
      ]
     },
     "metadata": {},
     "output_type": "display_data"
    },
    {
     "data": {
      "application/vnd.jupyter.widget-view+json": {
       "model_id": "",
       "version_major": 2,
       "version_minor": 0
      },
      "text/plain": [
       "HBox(children=(IntProgress(value=0, max=1), HTML(value='')))"
      ]
     },
     "metadata": {},
     "output_type": "display_data"
    },
    {
     "data": {
      "application/vnd.jupyter.widget-view+json": {
       "model_id": "",
       "version_major": 2,
       "version_minor": 0
      },
      "text/plain": [
       "HBox(children=(IntProgress(value=0, max=1), HTML(value='')))"
      ]
     },
     "metadata": {},
     "output_type": "display_data"
    },
    {
     "data": {
      "application/vnd.jupyter.widget-view+json": {
       "model_id": "",
       "version_major": 2,
       "version_minor": 0
      },
      "text/plain": [
       "HBox(children=(IntProgress(value=0, max=1), HTML(value='')))"
      ]
     },
     "metadata": {},
     "output_type": "display_data"
    },
    {
     "data": {
      "application/vnd.jupyter.widget-view+json": {
       "model_id": "",
       "version_major": 2,
       "version_minor": 0
      },
      "text/plain": [
       "HBox(children=(IntProgress(value=0, max=1), HTML(value='')))"
      ]
     },
     "metadata": {},
     "output_type": "display_data"
    },
    {
     "data": {
      "application/vnd.jupyter.widget-view+json": {
       "model_id": "",
       "version_major": 2,
       "version_minor": 0
      },
      "text/plain": [
       "HBox(children=(IntProgress(value=0, max=1), HTML(value='')))"
      ]
     },
     "metadata": {},
     "output_type": "display_data"
    },
    {
     "data": {
      "application/vnd.jupyter.widget-view+json": {
       "model_id": "",
       "version_major": 2,
       "version_minor": 0
      },
      "text/plain": [
       "HBox(children=(IntProgress(value=0, max=1), HTML(value='')))"
      ]
     },
     "metadata": {},
     "output_type": "display_data"
    },
    {
     "data": {
      "application/vnd.jupyter.widget-view+json": {
       "model_id": "",
       "version_major": 2,
       "version_minor": 0
      },
      "text/plain": [
       "HBox(children=(IntProgress(value=0, max=7), HTML(value='')))"
      ]
     },
     "metadata": {},
     "output_type": "display_data"
    },
    {
     "data": {
      "application/vnd.jupyter.widget-view+json": {
       "model_id": "",
       "version_major": 2,
       "version_minor": 0
      },
      "text/plain": [
       "HBox(children=(IntProgress(value=0, max=7), HTML(value='')))"
      ]
     },
     "metadata": {},
     "output_type": "display_data"
    },
    {
     "data": {
      "application/vnd.jupyter.widget-view+json": {
       "model_id": "",
       "version_major": 2,
       "version_minor": 0
      },
      "text/plain": [
       "HBox(children=(IntProgress(value=0, max=7), HTML(value='')))"
      ]
     },
     "metadata": {},
     "output_type": "display_data"
    },
    {
     "data": {
      "application/vnd.jupyter.widget-view+json": {
       "model_id": "",
       "version_major": 2,
       "version_minor": 0
      },
      "text/plain": [
       "HBox(children=(IntProgress(value=0, max=7), HTML(value='')))"
      ]
     },
     "metadata": {},
     "output_type": "display_data"
    },
    {
     "data": {
      "application/vnd.jupyter.widget-view+json": {
       "model_id": "",
       "version_major": 2,
       "version_minor": 0
      },
      "text/plain": [
       "HBox(children=(IntProgress(value=0, max=1), HTML(value='')))"
      ]
     },
     "metadata": {},
     "output_type": "display_data"
    },
    {
     "data": {
      "application/vnd.jupyter.widget-view+json": {
       "model_id": "",
       "version_major": 2,
       "version_minor": 0
      },
      "text/plain": [
       "HBox(children=(IntProgress(value=0, max=1), HTML(value='')))"
      ]
     },
     "metadata": {},
     "output_type": "display_data"
    },
    {
     "data": {
      "application/vnd.jupyter.widget-view+json": {
       "model_id": "",
       "version_major": 2,
       "version_minor": 0
      },
      "text/plain": [
       "HBox(children=(IntProgress(value=0, max=1), HTML(value='')))"
      ]
     },
     "metadata": {},
     "output_type": "display_data"
    },
    {
     "data": {
      "application/vnd.jupyter.widget-view+json": {
       "model_id": "",
       "version_major": 2,
       "version_minor": 0
      },
      "text/plain": [
       "HBox(children=(IntProgress(value=0, max=1), HTML(value='')))"
      ]
     },
     "metadata": {},
     "output_type": "display_data"
    },
    {
     "data": {
      "application/vnd.jupyter.widget-view+json": {
       "model_id": "",
       "version_major": 2,
       "version_minor": 0
      },
      "text/plain": [
       "HBox(children=(IntProgress(value=0, max=1), HTML(value='')))"
      ]
     },
     "metadata": {},
     "output_type": "display_data"
    },
    {
     "data": {
      "application/vnd.jupyter.widget-view+json": {
       "model_id": "",
       "version_major": 2,
       "version_minor": 0
      },
      "text/plain": [
       "HBox(children=(IntProgress(value=0, max=1), HTML(value='')))"
      ]
     },
     "metadata": {},
     "output_type": "display_data"
    },
    {
     "data": {
      "application/vnd.jupyter.widget-view+json": {
       "model_id": "",
       "version_major": 2,
       "version_minor": 0
      },
      "text/plain": [
       "HBox(children=(IntProgress(value=0, max=1), HTML(value='')))"
      ]
     },
     "metadata": {},
     "output_type": "display_data"
    },
    {
     "data": {
      "application/vnd.jupyter.widget-view+json": {
       "model_id": "",
       "version_major": 2,
       "version_minor": 0
      },
      "text/plain": [
       "HBox(children=(IntProgress(value=0, max=1), HTML(value='')))"
      ]
     },
     "metadata": {},
     "output_type": "display_data"
    },
    {
     "data": {
      "application/vnd.jupyter.widget-view+json": {
       "model_id": "",
       "version_major": 2,
       "version_minor": 0
      },
      "text/plain": [
       "HBox(children=(IntProgress(value=0, max=1), HTML(value='')))"
      ]
     },
     "metadata": {},
     "output_type": "display_data"
    },
    {
     "data": {
      "application/vnd.jupyter.widget-view+json": {
       "model_id": "",
       "version_major": 2,
       "version_minor": 0
      },
      "text/plain": [
       "HBox(children=(IntProgress(value=0, max=1), HTML(value='')))"
      ]
     },
     "metadata": {},
     "output_type": "display_data"
    },
    {
     "data": {
      "application/vnd.jupyter.widget-view+json": {
       "model_id": "",
       "version_major": 2,
       "version_minor": 0
      },
      "text/plain": [
       "HBox(children=(IntProgress(value=0, max=1), HTML(value='')))"
      ]
     },
     "metadata": {},
     "output_type": "display_data"
    },
    {
     "data": {
      "application/vnd.jupyter.widget-view+json": {
       "model_id": "",
       "version_major": 2,
       "version_minor": 0
      },
      "text/plain": [
       "HBox(children=(IntProgress(value=0, max=1), HTML(value='')))"
      ]
     },
     "metadata": {},
     "output_type": "display_data"
    },
    {
     "data": {
      "application/vnd.jupyter.widget-view+json": {
       "model_id": "",
       "version_major": 2,
       "version_minor": 0
      },
      "text/plain": [
       "HBox(children=(IntProgress(value=0, max=7), HTML(value='')))"
      ]
     },
     "metadata": {},
     "output_type": "display_data"
    },
    {
     "data": {
      "application/vnd.jupyter.widget-view+json": {
       "model_id": "",
       "version_major": 2,
       "version_minor": 0
      },
      "text/plain": [
       "HBox(children=(IntProgress(value=0, max=7), HTML(value='')))"
      ]
     },
     "metadata": {},
     "output_type": "display_data"
    },
    {
     "data": {
      "application/vnd.jupyter.widget-view+json": {
       "model_id": "",
       "version_major": 2,
       "version_minor": 0
      },
      "text/plain": [
       "HBox(children=(IntProgress(value=0, max=7), HTML(value='')))"
      ]
     },
     "metadata": {},
     "output_type": "display_data"
    },
    {
     "data": {
      "application/vnd.jupyter.widget-view+json": {
       "model_id": "",
       "version_major": 2,
       "version_minor": 0
      },
      "text/plain": [
       "HBox(children=(IntProgress(value=0, max=7), HTML(value='')))"
      ]
     },
     "metadata": {},
     "output_type": "display_data"
    },
    {
     "data": {
      "application/vnd.jupyter.widget-view+json": {
       "model_id": "",
       "version_major": 2,
       "version_minor": 0
      },
      "text/plain": [
       "HBox(children=(IntProgress(value=0, max=1), HTML(value='')))"
      ]
     },
     "metadata": {},
     "output_type": "display_data"
    },
    {
     "data": {
      "application/vnd.jupyter.widget-view+json": {
       "model_id": "",
       "version_major": 2,
       "version_minor": 0
      },
      "text/plain": [
       "HBox(children=(IntProgress(value=0, max=1), HTML(value='')))"
      ]
     },
     "metadata": {},
     "output_type": "display_data"
    },
    {
     "data": {
      "application/vnd.jupyter.widget-view+json": {
       "model_id": "",
       "version_major": 2,
       "version_minor": 0
      },
      "text/plain": [
       "HBox(children=(IntProgress(value=0, max=1), HTML(value='')))"
      ]
     },
     "metadata": {},
     "output_type": "display_data"
    },
    {
     "data": {
      "application/vnd.jupyter.widget-view+json": {
       "model_id": "",
       "version_major": 2,
       "version_minor": 0
      },
      "text/plain": [
       "HBox(children=(IntProgress(value=0, max=1), HTML(value='')))"
      ]
     },
     "metadata": {},
     "output_type": "display_data"
    },
    {
     "data": {
      "application/vnd.jupyter.widget-view+json": {
       "model_id": "",
       "version_major": 2,
       "version_minor": 0
      },
      "text/plain": [
       "HBox(children=(IntProgress(value=0, max=1), HTML(value='')))"
      ]
     },
     "metadata": {},
     "output_type": "display_data"
    },
    {
     "data": {
      "application/vnd.jupyter.widget-view+json": {
       "model_id": "",
       "version_major": 2,
       "version_minor": 0
      },
      "text/plain": [
       "HBox(children=(IntProgress(value=0, max=1), HTML(value='')))"
      ]
     },
     "metadata": {},
     "output_type": "display_data"
    },
    {
     "data": {
      "application/vnd.jupyter.widget-view+json": {
       "model_id": "",
       "version_major": 2,
       "version_minor": 0
      },
      "text/plain": [
       "HBox(children=(IntProgress(value=0, max=1), HTML(value='')))"
      ]
     },
     "metadata": {},
     "output_type": "display_data"
    },
    {
     "data": {
      "application/vnd.jupyter.widget-view+json": {
       "model_id": "",
       "version_major": 2,
       "version_minor": 0
      },
      "text/plain": [
       "HBox(children=(IntProgress(value=0, max=1), HTML(value='')))"
      ]
     },
     "metadata": {},
     "output_type": "display_data"
    },
    {
     "data": {
      "application/vnd.jupyter.widget-view+json": {
       "model_id": "",
       "version_major": 2,
       "version_minor": 0
      },
      "text/plain": [
       "HBox(children=(IntProgress(value=0, max=2), HTML(value='')))"
      ]
     },
     "metadata": {},
     "output_type": "display_data"
    },
    {
     "data": {
      "application/vnd.jupyter.widget-view+json": {
       "model_id": "",
       "version_major": 2,
       "version_minor": 0
      },
      "text/plain": [
       "HBox(children=(IntProgress(value=0, max=2), HTML(value='')))"
      ]
     },
     "metadata": {},
     "output_type": "display_data"
    },
    {
     "data": {
      "application/vnd.jupyter.widget-view+json": {
       "model_id": "",
       "version_major": 2,
       "version_minor": 0
      },
      "text/plain": [
       "HBox(children=(IntProgress(value=0, max=2), HTML(value='')))"
      ]
     },
     "metadata": {},
     "output_type": "display_data"
    },
    {
     "data": {
      "application/vnd.jupyter.widget-view+json": {
       "model_id": "",
       "version_major": 2,
       "version_minor": 0
      },
      "text/plain": [
       "HBox(children=(IntProgress(value=0, max=2), HTML(value='')))"
      ]
     },
     "metadata": {},
     "output_type": "display_data"
    },
    {
     "data": {
      "application/vnd.jupyter.widget-view+json": {
       "model_id": "",
       "version_major": 2,
       "version_minor": 0
      },
      "text/plain": [
       "HBox(children=(IntProgress(value=0, max=1), HTML(value='')))"
      ]
     },
     "metadata": {},
     "output_type": "display_data"
    },
    {
     "data": {
      "application/vnd.jupyter.widget-view+json": {
       "model_id": "",
       "version_major": 2,
       "version_minor": 0
      },
      "text/plain": [
       "HBox(children=(IntProgress(value=0, max=1), HTML(value='')))"
      ]
     },
     "metadata": {},
     "output_type": "display_data"
    },
    {
     "data": {
      "application/vnd.jupyter.widget-view+json": {
       "model_id": "",
       "version_major": 2,
       "version_minor": 0
      },
      "text/plain": [
       "HBox(children=(IntProgress(value=0, max=1), HTML(value='')))"
      ]
     },
     "metadata": {},
     "output_type": "display_data"
    },
    {
     "data": {
      "application/vnd.jupyter.widget-view+json": {
       "model_id": "",
       "version_major": 2,
       "version_minor": 0
      },
      "text/plain": [
       "HBox(children=(IntProgress(value=0, max=1), HTML(value='')))"
      ]
     },
     "metadata": {},
     "output_type": "display_data"
    },
    {
     "data": {
      "application/vnd.jupyter.widget-view+json": {
       "model_id": "",
       "version_major": 2,
       "version_minor": 0
      },
      "text/plain": [
       "HBox(children=(IntProgress(value=0, max=1), HTML(value='')))"
      ]
     },
     "metadata": {},
     "output_type": "display_data"
    },
    {
     "data": {
      "application/vnd.jupyter.widget-view+json": {
       "model_id": "",
       "version_major": 2,
       "version_minor": 0
      },
      "text/plain": [
       "HBox(children=(IntProgress(value=0, max=1), HTML(value='')))"
      ]
     },
     "metadata": {},
     "output_type": "display_data"
    },
    {
     "data": {
      "application/vnd.jupyter.widget-view+json": {
       "model_id": "",
       "version_major": 2,
       "version_minor": 0
      },
      "text/plain": [
       "HBox(children=(IntProgress(value=0, max=1), HTML(value='')))"
      ]
     },
     "metadata": {},
     "output_type": "display_data"
    },
    {
     "data": {
      "application/vnd.jupyter.widget-view+json": {
       "model_id": "",
       "version_major": 2,
       "version_minor": 0
      },
      "text/plain": [
       "HBox(children=(IntProgress(value=0, max=1), HTML(value='')))"
      ]
     },
     "metadata": {},
     "output_type": "display_data"
    },
    {
     "data": {
      "application/vnd.jupyter.widget-view+json": {
       "model_id": "",
       "version_major": 2,
       "version_minor": 0
      },
      "text/plain": [
       "HBox(children=(IntProgress(value=0, max=1), HTML(value='')))"
      ]
     },
     "metadata": {},
     "output_type": "display_data"
    },
    {
     "data": {
      "application/vnd.jupyter.widget-view+json": {
       "model_id": "",
       "version_major": 2,
       "version_minor": 0
      },
      "text/plain": [
       "HBox(children=(IntProgress(value=0, max=1), HTML(value='')))"
      ]
     },
     "metadata": {},
     "output_type": "display_data"
    },
    {
     "data": {
      "application/vnd.jupyter.widget-view+json": {
       "model_id": "",
       "version_major": 2,
       "version_minor": 0
      },
      "text/plain": [
       "HBox(children=(IntProgress(value=0, max=1), HTML(value='')))"
      ]
     },
     "metadata": {},
     "output_type": "display_data"
    },
    {
     "data": {
      "application/vnd.jupyter.widget-view+json": {
       "model_id": "",
       "version_major": 2,
       "version_minor": 0
      },
      "text/plain": [
       "HBox(children=(IntProgress(value=0, max=1), HTML(value='')))"
      ]
     },
     "metadata": {},
     "output_type": "display_data"
    },
    {
     "data": {
      "application/vnd.jupyter.widget-view+json": {
       "model_id": "",
       "version_major": 2,
       "version_minor": 0
      },
      "text/plain": [
       "HBox(children=(IntProgress(value=0, max=1), HTML(value='')))"
      ]
     },
     "metadata": {},
     "output_type": "display_data"
    },
    {
     "data": {
      "application/vnd.jupyter.widget-view+json": {
       "model_id": "",
       "version_major": 2,
       "version_minor": 0
      },
      "text/plain": [
       "HBox(children=(IntProgress(value=0, max=1), HTML(value='')))"
      ]
     },
     "metadata": {},
     "output_type": "display_data"
    },
    {
     "data": {
      "application/vnd.jupyter.widget-view+json": {
       "model_id": "",
       "version_major": 2,
       "version_minor": 0
      },
      "text/plain": [
       "HBox(children=(IntProgress(value=0, max=1), HTML(value='')))"
      ]
     },
     "metadata": {},
     "output_type": "display_data"
    },
    {
     "data": {
      "application/vnd.jupyter.widget-view+json": {
       "model_id": "",
       "version_major": 2,
       "version_minor": 0
      },
      "text/plain": [
       "HBox(children=(IntProgress(value=0, max=1), HTML(value='')))"
      ]
     },
     "metadata": {},
     "output_type": "display_data"
    },
    {
     "name": "stdout",
     "output_type": "stream",
     "text": [
      "\n"
     ]
    }
   ],
   "source": [
    "def grups_over_label_files(username, data, get_labels):\n",
    "    labelsbar = tqdm.tqdm_notebook(data['label'], leave=False)\n",
    "    groups = []\n",
    "    ignored = 0\n",
    "    for lbl in labelsbar:\n",
    "        ldata, file = lbl['data'], lbl['file']\n",
    "        datestr = sutils.datestr_from_filename(file)\n",
    "        startdate = datetime.strptime(datestr, \"%Y_%m_%d_%H_%M_%S\")\n",
    "        \n",
    "        labels = get_labels(ldata)\n",
    "        \n",
    "        for _, row in labels.iterrows():\n",
    "            group = sutils.recover_group(startdate, row)\n",
    "            (s,e) = group\n",
    "            if s == e:\n",
    "                ignored += 1\n",
    "                continue\n",
    "            groups.append(group)\n",
    "    return groups, ignored, file\n",
    "\n",
    "def recover_label_groups_from_labels_file(username, user_data):\n",
    "    glove_merged = user_data['glove_merged']\n",
    "    \n",
    "    groups, _, _ = grups_over_label_files(username, user_data, sutils.get_automatic_labels)\n",
    "    user_data['start_end_automatic_groups_fl'] = groups\n",
    "    \n",
    "    groups, _, _ = grups_over_label_files(username, user_data, sutils.get_manual_labels)\n",
    "    user_data['start_end_manual_groups_fl'] = groups\n",
    "    \n",
    "    groups, _, _ = grups_over_label_files(username, user_data, sutils.get_dynamic_labels)\n",
    "    user_data['start_end_dynamic_groups_fl'] = groups\n",
    "    \n",
    "    groups, _, _ = grups_over_label_files(username, user_data, sutils.get_static_labels)\n",
    "    user_data['start_end_static_groups_fl'] = groups\n",
    "\n",
    "for key, data in tqdm.tqdm_notebook(users.items()):\n",
    "    if not 'glove_merged' in data:\n",
    "        continue\n",
    "    recover_label_groups_from_labels_file(key, data)"
   ]
  },
  {
   "cell_type": "markdown",
   "metadata": {},
   "source": [
    "Now we build the LabelGroups analog to the labels recovered from data. It seems this method is a bit more complete for this constrain, I only need to remove 1.1902% of the labels that way."
   ]
  },
  {
   "cell_type": "code",
   "execution_count": 20,
   "metadata": {},
   "outputs": [],
   "source": [
    "def merge_subautomatic_labels(user_data, show_details):\n",
    "    groups_automatic = user_data['start_end_automatic_groups_fl']\n",
    "    groups_automatic.sort()\n",
    "    groups_manual = user_data['start_end_manual_groups_fl']\n",
    "    groups_dynamic = user_data['start_end_dynamic_groups_fl']\n",
    "    groups_static = user_data['start_end_static_groups_fl']\n",
    "    dyn_idx, sts_idx, man_idx = 0, 0, 0\n",
    "    lbl_groups = []\n",
    "    for a in groups_automatic:\n",
    "        dyn_idx, dgs = sutils.combine_ranges_contained(a, dyn_idx, groups_dynamic)\n",
    "        sts_idx, sgs = sutils.combine_ranges_contained(a, sts_idx, groups_static)\n",
    "        man_idx, mgs = sutils.combine_ranges_contained(a, man_idx, groups_manual)\n",
    "        if (len(dgs) == 1) and (len(mgs) == 1):\n",
    "            d = sutils.t_to_t(dgs[0])\n",
    "            m = sutils.t_to_t(mgs[0])\n",
    "            s = sutils.t_to_t(sgs[0]) if len(sgs) == 1 else None\n",
    "            label = (user_data['glove_merged'].loc[d.start:d.end, 'label_automatic'])[1]\n",
    "            lg = sutils.LabelGroup(label, sutils.t_to_t(a), m, s, d)\n",
    "            lbl_groups.append(lg)\n",
    "    if (len(lbl_groups) != len(groups_automatic)) and show_details:\n",
    "        print(\"changed size of total groups: \", len(groups_automatic), len(lbl_groups), ' that is ', (1-len(lbl_groups)/len(groups_automatic))*100, \"%\")\n",
    "    \n",
    "    user_data['lbl_groups_fl'] = lbl_groups\n",
    "    return lbl_groups"
   ]
  },
  {
   "cell_type": "code",
   "execution_count": 21,
   "metadata": {},
   "outputs": [
    {
     "data": {
      "application/vnd.jupyter.widget-view+json": {
       "model_id": "e4c53b806de74653b2453f970e353bc9",
       "version_major": 2,
       "version_minor": 0
      },
      "text/plain": [
       "HBox(children=(IntProgress(value=0, max=23), HTML(value='')))"
      ]
     },
     "metadata": {},
     "output_type": "display_data"
    },
    {
     "name": "stdout",
     "output_type": "stream",
     "text": [
      "check  AB73\n",
      "changed size of total groups:  310 307  that is  0.9677419354838679 %\n",
      "check  AF82\n",
      "changed size of total groups:  157 156  that is  0.6369426751592355 %\n",
      "check  AL29\n",
      "changed size of total groups:  310 309  that is  0.3225806451612856 %\n",
      "check  AW18\n",
      "changed size of total groups:  155 154  that is  0.6451612903225823 %\n",
      "check  CB23\n",
      "changed size of total groups:  155 152  that is  1.9354838709677469 %\n",
      "check  CB24\n",
      "changed size of total groups:  157 154  that is  1.9108280254777066 %\n",
      "check  CF58\n",
      "changed size of total groups:  171 167  that is  2.3391812865497075 %\n",
      "check  DG12\n",
      "changed size of total groups:  155 154  that is  0.6451612903225823 %\n",
      "check  DH42\n",
      "changed size of total groups:  155 154  that is  0.6451612903225823 %\n",
      "check  DL24\n",
      "changed size of total groups:  310 304  that is  1.9354838709677469 %\n",
      "check  JL61\n",
      "changed size of total groups:  165 162  that is  1.8181818181818188 %\n",
      "check  JQ28\n",
      "changed size of total groups:  310 307  that is  0.9677419354838679 %\n",
      "check  JS52\n",
      "changed size of total groups:  310 308  that is  0.6451612903225823 %\n",
      "check  MF20\n",
      "changed size of total groups:  155 153  that is  1.2903225806451646 %\n",
      "check  MS55\n",
      "changed size of total groups:  156 151  that is  3.205128205128205 %\n",
      "check  PC29\n",
      "changed size of total groups:  165 160  that is  3.0303030303030276 %\n",
      "check  PM32\n",
      "changed size of total groups:  310 308  that is  0.6451612903225823 %\n",
      "check  PS42\n",
      "changed size of total groups:  156 155  that is  0.6410256410256387 %\n",
      "check  RR45\n",
      "changed size of total groups:  155 154  that is  0.6451612903225823 %\n",
      "check  RW32\n",
      "changed size of total groups:  155 152  that is  1.9354838709677469 %\n",
      "check  SF1\n",
      "changed size of total groups:  155 154  that is  0.6451612903225823 %\n",
      "check  YW13\n",
      "changed size of total groups:  310 308  that is  0.6451612903225823 %\n",
      "\n",
      "in total we removed  1.1902137976636529 % of automatic labels\n"
     ]
    }
   ],
   "source": [
    "total_len = 0\n",
    "total_new_len = 0\n",
    "SHOW_DETAILS=True\n",
    "for key, data in tqdm.tqdm_notebook(users.items()):\n",
    "    if not 'glove_merged' in data:\n",
    "        continue\n",
    "    if SHOW_DETAILS: print('check ', key)\n",
    "    total_len += len(data['start_end_automatic_groups_fl'])\n",
    "    merge_subautomatic_labels(data, SHOW_DETAILS)\n",
    "    total_new_len += len(data['lbl_groups_fl'])\n",
    "print('in total we removed ', (1-total_new_len/total_len)*100, '% of automatic labels')"
   ]
  },
  {
   "cell_type": "markdown",
   "metadata": {},
   "source": [
    "### Check for errors / bad label quality\n",
    "\n",
    "When I first created the program several problems with labels existed. By creating both ways I could correct many errors. But the amound of how much I remove of the labels after checking the first set of basic constrains does not say which label group is better or if any is better. First I need to more rigitly check the constrains of the Groups. This are that the automatic label has to be about 3s (I choos 2.9 to 3.1s as the interval). The start time of the manual group has to be the start time of the dynamic group. The end time of manual has to be either the end time of static if present, or the end of dynamic if static is not present. The gap between the end time of the dynamic label and the start time of the static label if present is not allowed to be too large.\n",
    "\n",
    "From inspection all constrins are already more or less kept within aceptible borders. Only too long or too short autmatic labels are still also present. I again remove all these labels."
   ]
  },
  {
   "cell_type": "code",
   "execution_count": 22,
   "metadata": {},
   "outputs": [],
   "source": [
    "def check_label_group_constrains(user_data, groups_key):\n",
    "    #for aut, man, dyn, stat in zip(groups_automatic, groups_manual, groups_dynamic, groups_static):\n",
    "    errors_found = 0\n",
    "    lgl_groups = []\n",
    "    for g in user_data[groups_key]:\n",
    "        reasons = []\n",
    "        if not g.verify(reasons, (Constants.dt_t * 21)):\n",
    "            errors_found += 1\n",
    "            print(reasons)\n",
    "            if not (('automatic label too short' in reasons) or ('automatic label too long' in reasons)):\n",
    "                lgl_groups.append(g) \n",
    "        else:\n",
    "            lgl_groups.append(g)\n",
    "    user_data[groups_key] = lgl_groups\n",
    "    return errors_found"
   ]
  },
  {
   "cell_type": "markdown",
   "metadata": {},
   "source": [
    "There exist 45 constrain errors in total, but only 33 which are bad enought so they need to be removed from the labels recovered from the data."
   ]
  },
  {
   "cell_type": "code",
   "execution_count": 23,
   "metadata": {},
   "outputs": [
    {
     "data": {
      "application/vnd.jupyter.widget-view+json": {
       "model_id": "ed17d0bec75143e7a27062ba50e2a9f6",
       "version_major": 2,
       "version_minor": 0
      },
      "text/plain": [
       "HBox(children=(IntProgress(value=0, max=23), HTML(value='')))"
      ]
     },
     "metadata": {},
     "output_type": "display_data"
    },
    {
     "name": "stdout",
     "output_type": "stream",
     "text": [
      "check  AB73\n",
      "['dynamic and static gap too large', 'dynamic much longer than static', 'static and manual w. different end']\n",
      "check  AF82\n",
      "['automatic label too short']\n",
      "['automatic label too short']\n",
      "check  AL29\n",
      "check  AW18\n",
      "['dynamic and static gap too large']\n",
      "check  CB23\n",
      "['dynamic and static gap too large']\n",
      "check  CB24\n",
      "check  CF58\n",
      "['automatic label too short']\n",
      "['automatic label too short']\n",
      "['automatic label too short']\n",
      "['automatic label too short']\n",
      "['automatic label too short']\n",
      "['automatic label too short']\n",
      "['automatic label too short']\n",
      "['automatic label too short']\n",
      "['automatic label too short']\n",
      "check  DG12\n",
      "check  DH42\n",
      "check  DL24\n",
      "['static and manual w. different end']\n",
      "check  JL61\n",
      "['automatic label too short']\n",
      "['dynamic and static gap too large', 'dynamic much longer than static', 'static and manual w. different end']\n",
      "['dynamic and static gap too large', 'dynamic much longer than static', 'static and manual w. different end']\n",
      "['dynamic and static gap too large', 'dynamic much longer than static', 'static and manual w. different end']\n",
      "['automatic label too short']\n",
      "['dynamic and static gap too large', 'dynamic much longer than static', 'static and manual w. different end']\n",
      "['automatic label too short']\n",
      "['automatic label too short']\n",
      "['automatic label too short']\n",
      "check  JQ28\n",
      "['automatic label too short']\n",
      "['automatic label too long']\n",
      "['automatic label too long']\n",
      "['automatic label too long']\n",
      "check  JS52\n",
      "['automatic label too long']\n",
      "['automatic label too long']\n",
      "['automatic label too long']\n",
      "['automatic label too long']\n",
      "['automatic label too long']\n",
      "['automatic label too long']\n",
      "['automatic label too long']\n",
      "['automatic label too long']\n",
      "['automatic label too long']\n",
      "['automatic label too long']\n",
      "check  MF20\n",
      "check  MS55\n",
      "['automatic label too short']\n",
      "['automatic label too short']\n",
      "check  PC29\n",
      "['dynamic and static gap too large', 'dynamic much longer than static', 'static and manual w. different end']\n",
      "check  PM32\n",
      "['dynamic and static gap too large', 'dynamic much longer than static', 'static and manual w. different end']\n",
      "check  PS42\n",
      "['dynamic and static gap too large']\n",
      "['automatic label too short']\n",
      "check  RR45\n",
      "check  RW32\n",
      "['dynamic and static gap too large']\n",
      "check  SF1\n",
      "check  YW13\n",
      "\n",
      "total errors found:  45\n"
     ]
    }
   ],
   "source": [
    "errors_found = 0\n",
    "for key, data in tqdm.tqdm_notebook(users.items()):\n",
    "    if not 'glove_merged' in data:\n",
    "        continue\n",
    "    print('check ', key)\n",
    "    errors_found += check_label_group_constrains(data, 'lbl_groups')\n",
    "print('total errors found: ', errors_found)"
   ]
  },
  {
   "cell_type": "markdown",
   "metadata": {},
   "source": [
    "For the labels from the label file there exist 46 constrain violations, and 32 need to be removed."
   ]
  },
  {
   "cell_type": "code",
   "execution_count": 24,
   "metadata": {},
   "outputs": [
    {
     "data": {
      "application/vnd.jupyter.widget-view+json": {
       "model_id": "eedbf99e4f3547e8b2e27822391dde21",
       "version_major": 2,
       "version_minor": 0
      },
      "text/plain": [
       "HBox(children=(IntProgress(value=0, max=23), HTML(value='')))"
      ]
     },
     "metadata": {},
     "output_type": "display_data"
    },
    {
     "name": "stdout",
     "output_type": "stream",
     "text": [
      "check  AB73\n",
      "['dynamic and static gap too large', 'dynamic much longer than static', 'static and manual w. different end']\n",
      "['manual and dynamic w. different start']\n",
      "check  AF82\n",
      "['automatic label too short']\n",
      "['automatic label too short']\n",
      "check  AL29\n",
      "check  AW18\n",
      "['manual and dynamic w. different start', 'dynamic and static gap too large']\n",
      "check  CB23\n",
      "['dynamic and static gap too large']\n",
      "check  CB24\n",
      "check  CF58\n",
      "['automatic label too short']\n",
      "['automatic label too short']\n",
      "['automatic label too short']\n",
      "['automatic label too short']\n",
      "['automatic label too short']\n",
      "['automatic label too short']\n",
      "['automatic label too short']\n",
      "['automatic label too short']\n",
      "['automatic label too short']\n",
      "check  DG12\n",
      "check  DH42\n",
      "check  DL24\n",
      "['manual and dynamic w. different start', 'static and manual w. different end']\n",
      "check  JL61\n",
      "['automatic label too short']\n",
      "['dynamic and static gap too large', 'dynamic much longer than static', 'static and manual w. different end']\n",
      "['dynamic and static gap too large', 'dynamic much longer than static', 'static and manual w. different end']\n",
      "['dynamic and static gap too large', 'dynamic much longer than static', 'static and manual w. different end']\n",
      "['automatic label too short']\n",
      "['manual and dynamic w. different start', 'dynamic and static gap too large', 'dynamic much longer than static', 'static and manual w. different end']\n",
      "['automatic label too short']\n",
      "['automatic label too short']\n",
      "check  JQ28\n",
      "['dynamic and static gap too large', 'dynamic much longer than static', 'static and manual w. different end']\n",
      "['automatic label too short']\n",
      "['automatic label too long']\n",
      "['automatic label too long']\n",
      "['automatic label too long']\n",
      "check  JS52\n",
      "['automatic label too long']\n",
      "['automatic label too long']\n",
      "['automatic label too long']\n",
      "['automatic label too long']\n",
      "['automatic label too long']\n",
      "['automatic label too long']\n",
      "['automatic label too long']\n",
      "['automatic label too long']\n",
      "['automatic label too long']\n",
      "['automatic label too long']\n",
      "check  MF20\n",
      "check  MS55\n",
      "['automatic label too short']\n",
      "['automatic label too short']\n",
      "check  PC29\n",
      "['manual and dynamic w. different start', 'dynamic and static gap too large', 'dynamic much longer than static', 'static and manual w. different end']\n",
      "check  PM32\n",
      "['dynamic and static gap too large', 'dynamic much longer than static', 'static and manual w. different end']\n",
      "check  PS42\n",
      "['dynamic and static gap too large']\n",
      "['automatic label too short']\n",
      "check  RR45\n",
      "check  RW32\n",
      "['dynamic and static gap too large']\n",
      "check  SF1\n",
      "check  YW13\n",
      "\n",
      "total errors found:  46\n"
     ]
    }
   ],
   "source": [
    "errors_found = 0\n",
    "for key, data in tqdm.tqdm_notebook(users.items()):\n",
    "    if not 'glove_merged' in data:\n",
    "        continue\n",
    "    print('check ', key)\n",
    "    errors_found += check_label_group_constrains(data, 'lbl_groups_fl')\n",
    "print('total errors found: ', errors_found)"
   ]
  },
  {
   "cell_type": "markdown",
   "metadata": {},
   "source": [
    "After these transformations we can compare each label group if they are approximately the same. The gesture label and each start and end time of the group is checked. This shows that the labels are mostly the same. The difference is below 1% for most users, with one user having about 4% of labels different. I again just exclude all labels who are significantly different."
   ]
  },
  {
   "cell_type": "code",
   "execution_count": 25,
   "metadata": {},
   "outputs": [],
   "source": [
    "def sort(lst):\n",
    "    lst.sort(key=lambda lg: lg.automatic.start)\n",
    "\n",
    "def compare_lbl_groups(user_data):\n",
    "    lg1 = user_data['lbl_groups']\n",
    "    lg2 = user_data['lbl_groups_fl']\n",
    "    new_lg1 = []\n",
    "    new_lg2 = []\n",
    "    sort(lg1)\n",
    "    sort(lg2)\n",
    "    print(len(lg1))\n",
    "    print(len(lg2))\n",
    "    differences = 0\n",
    "    # this algorithm still has a problem with lists of different size if the first entries differ\n",
    "    # TODO: fix that!\n",
    "    g1_idx = 0\n",
    "    g2_idx = 0\n",
    "    finished = False\n",
    "    while not finished:\n",
    "        g1 = lg1[g1_idx]\n",
    "        g2 = lg2[g2_idx]\n",
    "        if g1.approx(g2, timedelta(milliseconds=500)):\n",
    "            # yay!\n",
    "            new_lg1.append(g1)\n",
    "            new_lg2.append(g2)\n",
    "            g1_idx += 1\n",
    "            g2_idx += 1\n",
    "            finished = (g1_idx >= len(lg1)) or (g2_idx >= len(lg2))\n",
    "            continue\n",
    "        else:\n",
    "            if g1.automatic.end < g2.automatic.start: # advance g1 only, it is earlier\n",
    "                g1_idx += 1\n",
    "                print('found additional timepoint in labels from data:')\n",
    "                #print(g1)\n",
    "                differences += 1\n",
    "            elif g2.automatic.end < g1.automatic.start: \n",
    "                g2_idx += 1\n",
    "                print('found additional timepoint in labels from labels file:')\n",
    "                #print(g2)\n",
    "                differences += 1\n",
    "            else:\n",
    "                g1_idx += 1\n",
    "                g2_idx += 1\n",
    "                print('difference found:')\n",
    "                #print(g1.diff(g2, timedelta(milliseconds=500)))\n",
    "                differences += 1\n",
    "            finished = (g1_idx >= len(lg1)) or (g2_idx >= len(lg2))\n",
    "    rest = utils.rest(lg1, lg2)\n",
    "    if rest is not None:\n",
    "        print(f'additionally found {len(rest)} labels')\n",
    "        #print(rest)\n",
    "    if differences > 0:\n",
    "        print(\"corrected groups differ between methods for \", (differences/min(len(lg1), len(lg2))) * 100, \"%\")\n",
    "    user_data['lbl_groups'] = new_lg1\n",
    "    user_data['lbl_groups_fl'] = new_lg2"
   ]
  },
  {
   "cell_type": "code",
   "execution_count": 26,
   "metadata": {},
   "outputs": [
    {
     "data": {
      "application/vnd.jupyter.widget-view+json": {
       "model_id": "a4249ccd924c4bde95dec2e6a3ab64f9",
       "version_major": 2,
       "version_minor": 0
      },
      "text/plain": [
       "HBox(children=(IntProgress(value=0, max=23), HTML(value='')))"
      ]
     },
     "metadata": {},
     "output_type": "display_data"
    },
    {
     "name": "stdout",
     "output_type": "stream",
     "text": [
      "307\n",
      "307\n",
      "153\n",
      "154\n",
      "found additional timepoint in labels from labels file:\n",
      "additionally found 1 labels\n",
      "corrected groups differ between methods for  0.6535947712418301 %\n",
      "308\n",
      "309\n",
      "found additional timepoint in labels from labels file:\n",
      "additionally found 1 labels\n",
      "corrected groups differ between methods for  0.3246753246753247 %\n",
      "153\n",
      "154\n",
      "difference found:\n",
      "found additional timepoint in labels from labels file:\n",
      "additionally found 1 labels\n",
      "corrected groups differ between methods for  1.3071895424836601 %\n",
      "152\n",
      "152\n",
      "154\n",
      "154\n",
      "158\n",
      "158\n",
      "154\n",
      "154\n",
      "153\n",
      "154\n",
      "found additional timepoint in labels from labels file:\n",
      "additionally found 1 labels\n",
      "corrected groups differ between methods for  0.6535947712418301 %\n",
      "301\n",
      "304\n",
      "found additional timepoint in labels from labels file:\n",
      "found additional timepoint in labels from labels file:\n",
      "found additional timepoint in labels from labels file:\n",
      "additionally found 3 labels\n",
      "corrected groups differ between methods for  0.9966777408637874 %\n",
      "157\n",
      "158\n",
      "found additional timepoint in labels from labels file:\n",
      "additionally found 1 labels\n",
      "corrected groups differ between methods for  0.6369426751592357 %\n",
      "294\n",
      "303\n",
      "found additional timepoint in labels from labels file:\n",
      "found additional timepoint in labels from labels file:\n",
      "found additional timepoint in labels from labels file:\n",
      "found additional timepoint in labels from labels file:\n",
      "found additional timepoint in labels from labels file:\n",
      "found additional timepoint in labels from labels file:\n",
      "found additional timepoint in labels from labels file:\n",
      "found additional timepoint in labels from labels file:\n",
      "found additional timepoint in labels from labels file:\n",
      "additionally found 9 labels\n",
      "corrected groups differ between methods for  3.061224489795918 %\n",
      "293\n",
      "298\n",
      "found additional timepoint in labels from labels file:\n",
      "found additional timepoint in labels from labels file:\n",
      "found additional timepoint in labels from labels file:\n",
      "found additional timepoint in labels from labels file:\n",
      "found additional timepoint in labels from labels file:\n",
      "additionally found 5 labels\n",
      "corrected groups differ between methods for  1.7064846416382253 %\n",
      "153\n",
      "153\n",
      "149\n",
      "149\n",
      "156\n",
      "160\n",
      "found additional timepoint in labels from labels file:\n",
      "found additional timepoint in labels from labels file:\n",
      "found additional timepoint in labels from labels file:\n",
      "found additional timepoint in labels from labels file:\n",
      "additionally found 4 labels\n",
      "corrected groups differ between methods for  2.564102564102564 %\n",
      "308\n",
      "308\n",
      "152\n",
      "154\n",
      "found additional timepoint in labels from labels file:\n",
      "found additional timepoint in labels from labels file:\n",
      "additionally found 2 labels\n",
      "corrected groups differ between methods for  1.3157894736842104 %\n",
      "153\n",
      "154\n",
      "found additional timepoint in labels from labels file:\n",
      "additionally found 1 labels\n",
      "corrected groups differ between methods for  0.6535947712418301 %\n",
      "146\n",
      "152\n",
      "found additional timepoint in labels from labels file:\n",
      "found additional timepoint in labels from labels file:\n",
      "found additional timepoint in labels from labels file:\n",
      "found additional timepoint in labels from labels file:\n",
      "found additional timepoint in labels from labels file:\n",
      "found additional timepoint in labels from labels file:\n",
      "additionally found 6 labels\n",
      "corrected groups differ between methods for  4.10958904109589 %\n",
      "154\n",
      "154\n",
      "307\n",
      "308\n",
      "found additional timepoint in labels from labels file:\n",
      "additionally found 1 labels\n",
      "corrected groups differ between methods for  0.32573289902280134 %\n",
      "\n"
     ]
    }
   ],
   "source": [
    "for key, data in tqdm.tqdm_notebook(users.items()):\n",
    "    if not 'glove_merged' in data:\n",
    "        continue\n",
    "    compare_lbl_groups(data)"
   ]
  },
  {
   "cell_type": "markdown",
   "metadata": {},
   "source": [
    "### Correct the labels\n",
    "\n",
    "After these transformations we have label groups who are at a high quality. The missing step is to remove all labels per row and recreate them with the new high quality labels.\n",
    "\n",
    "Someone might ask if these way of conservatively excluding labels now means that the zero class is contaminated by signals who are actually gestures. While this is true, the zero class is extreamly more data than the gesture class anyway. Only a few percent of the labeled data is excluded. Some of that might be in fact really be a wrong label. The rest should not influence the zero class to much. Another option is to keep track of the excluded labels and also exclude that data. This is not done for now as it does not seem to have too much of an influence."
   ]
  },
  {
   "cell_type": "code",
   "execution_count": 27,
   "metadata": {},
   "outputs": [],
   "source": [
    "def reset_labels_of_user(username, user_data, label_group_key):\n",
    "    glove_merged = user_data['glove_merged']\n",
    "    glove_merged['label_automatic'] = np.NaN\n",
    "    glove_merged['label_manual'] = np.NaN\n",
    "    glove_merged['label_dynamic'] = np.NaN\n",
    "    glove_merged['label_static'] = np.NaN\n",
    "    \n",
    "    for lg in user_data[label_group_key]:\n",
    "        glove_merged.loc[lg.automatic.start:lg.automatic.end, 'label_automatic'] = lg.label_name\n",
    "        glove_merged.loc[lg.manual.start:lg.manual.end, 'label_manual'] = lg.label_name\n",
    "        glove_merged.loc[lg.dynamic.start:lg.dynamic.end, 'label_dynamic'] = lg.label_name\n",
    "        if lg.static is not None:\n",
    "            glove_merged.loc[lg.static.start:lg.static.end, 'label_static'] = lg.label_name"
   ]
  },
  {
   "cell_type": "code",
   "execution_count": 28,
   "metadata": {},
   "outputs": [
    {
     "data": {
      "application/vnd.jupyter.widget-view+json": {
       "model_id": "d989faa7bd8b479db6f5bc1580d58f88",
       "version_major": 2,
       "version_minor": 0
      },
      "text/plain": [
       "HBox(children=(IntProgress(value=0, max=23), HTML(value='')))"
      ]
     },
     "metadata": {},
     "output_type": "display_data"
    },
    {
     "name": "stdout",
     "output_type": "stream",
     "text": [
      "\n"
     ]
    }
   ],
   "source": [
    "for key, data in tqdm.tqdm_notebook(users.items()):\n",
    "    if not 'glove_merged' in data:\n",
    "        continue\n",
    "    reset_labels_of_user(key, data, 'lbl_groups_fl') #_fl"
   ]
  },
  {
   "cell_type": "code",
   "execution_count": 31,
   "metadata": {},
   "outputs": [],
   "source": [
    "# in case the script above worked, execute that line:\n",
    "with open( time_groups_path_corrected_pickl, \"wb\" ) as users_pickle_file:\n",
    "    pickle.dump(users, users_pickle_file)"
   ]
  },
  {
   "cell_type": "code",
   "execution_count": 5,
   "metadata": {},
   "outputs": [],
   "source": [
    "# in case you need to reload, and know it exists:\n",
    "with open( time_groups_path_corrected_pickl, \"rb\" ) as users_pickle_file:\n",
    "    users = pickle.load(users_pickle_file)"
   ]
  },
  {
   "cell_type": "code",
   "execution_count": 6,
   "metadata": {},
   "outputs": [
    {
     "name": "stdout",
     "output_type": "stream",
     "text": [
      "/home/jsimon/Documents/thesis/gesture-analysis/data/transformed/time_added/all/time-and-groups-corrected-all.pkl\n"
     ]
    }
   ],
   "source": [
    "print(time_groups_path_corrected_pickl)"
   ]
  },
  {
   "cell_type": "code",
   "execution_count": 12,
   "metadata": {},
   "outputs": [],
   "source": [
    "automatic = users[\"AB73\"][\"glove_merged\"][\"label_automatic\"]"
   ]
  },
  {
   "cell_type": "code",
   "execution_count": 14,
   "metadata": {},
   "outputs": [
    {
     "data": {
      "text/plain": [
       "2015-08-20 19:13:17.300    (2) Two\n",
       "2015-08-20 19:13:17.312    (2) Two\n",
       "2015-08-20 19:13:17.324    (2) Two\n",
       "2015-08-20 19:13:17.336    (2) Two\n",
       "2015-08-20 19:13:17.348    (2) Two\n",
       "2015-08-20 19:13:17.360    (2) Two\n",
       "2015-08-20 19:13:17.372    (2) Two\n",
       "2015-08-20 19:13:17.384    (2) Two\n",
       "2015-08-20 19:13:17.396    (2) Two\n",
       "2015-08-20 19:13:17.408    (2) Two\n",
       "2015-08-20 19:13:17.420    (2) Two\n",
       "2015-08-20 19:13:17.432    (2) Two\n",
       "2015-08-20 19:13:17.444    (2) Two\n",
       "2015-08-20 19:13:17.456    (2) Two\n",
       "2015-08-20 19:13:17.468    (2) Two\n",
       "2015-08-20 19:13:17.480    (2) Two\n",
       "2015-08-20 19:13:17.492    (2) Two\n",
       "2015-08-20 19:13:17.504    (2) Two\n",
       "2015-08-20 19:13:17.516    (2) Two\n",
       "2015-08-20 19:13:17.528    (2) Two\n",
       "2015-08-20 19:13:17.540    (2) Two\n",
       "2015-08-20 19:13:17.552    (2) Two\n",
       "2015-08-20 19:13:17.564    (2) Two\n",
       "2015-08-20 19:13:17.576    (2) Two\n",
       "2015-08-20 19:13:17.588    (2) Two\n",
       "2015-08-20 19:13:17.600    (2) Two\n",
       "2015-08-20 19:13:17.612    (2) Two\n",
       "2015-08-20 19:13:17.624    (2) Two\n",
       "2015-08-20 19:13:17.636    (2) Two\n",
       "2015-08-20 19:13:17.648    (2) Two\n",
       "                            ...   \n",
       "2015-08-20 19:49:07.700       Zoom\n",
       "2015-08-20 19:49:07.712       Zoom\n",
       "2015-08-20 19:49:07.724       Zoom\n",
       "2015-08-20 19:49:07.736       Zoom\n",
       "2015-08-20 19:49:07.748       Zoom\n",
       "2015-08-20 19:49:07.760       Zoom\n",
       "2015-08-20 19:49:07.772       Zoom\n",
       "2015-08-20 19:49:07.784       Zoom\n",
       "2015-08-20 19:49:07.796       Zoom\n",
       "2015-08-20 19:49:07.808       Zoom\n",
       "2015-08-20 19:49:07.820       Zoom\n",
       "2015-08-20 19:49:07.832       Zoom\n",
       "2015-08-20 19:49:07.844       Zoom\n",
       "2015-08-20 19:49:07.856       Zoom\n",
       "2015-08-20 19:49:07.868       Zoom\n",
       "2015-08-20 19:49:07.880       Zoom\n",
       "2015-08-20 19:49:07.892       Zoom\n",
       "2015-08-20 19:49:07.904       Zoom\n",
       "2015-08-20 19:49:07.916       Zoom\n",
       "2015-08-20 19:49:07.928       Zoom\n",
       "2015-08-20 19:49:07.940       Zoom\n",
       "2015-08-20 19:49:07.952       Zoom\n",
       "2015-08-20 19:49:07.964       Zoom\n",
       "2015-08-20 19:49:07.976       Zoom\n",
       "2015-08-20 19:49:07.988       Zoom\n",
       "2015-08-20 19:49:08.000       Zoom\n",
       "2015-08-20 19:49:08.012       Zoom\n",
       "2015-08-20 19:49:08.024       Zoom\n",
       "2015-08-20 19:49:08.036       Zoom\n",
       "2015-08-20 19:49:08.048       Zoom\n",
       "Name: label_automatic, Length: 78632, dtype: object"
      ]
     },
     "execution_count": 14,
     "metadata": {},
     "output_type": "execute_result"
    }
   ],
   "source": [
    "automatic[automatic.notnull()]"
   ]
  },
  {
   "cell_type": "code",
   "execution_count": null,
   "metadata": {},
   "outputs": [],
   "source": []
  }
 ],
 "metadata": {
  "kernelspec": {
   "display_name": "Python 3",
   "language": "python",
   "name": "python3"
  },
  "language_info": {
   "codemirror_mode": {
    "name": "ipython",
    "version": 3
   },
   "file_extension": ".py",
   "mimetype": "text/x-python",
   "name": "python",
   "nbconvert_exporter": "python",
   "pygments_lexer": "ipython3",
   "version": "3.7.2"
  }
 },
 "nbformat": 4,
 "nbformat_minor": 2
}
