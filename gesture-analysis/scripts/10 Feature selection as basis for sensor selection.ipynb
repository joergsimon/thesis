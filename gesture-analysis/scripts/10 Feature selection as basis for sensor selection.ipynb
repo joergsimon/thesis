{
 "cells": [
  {
   "cell_type": "markdown",
   "metadata": {},
   "source": [
    "# Feature selection as basis of sensor selection\n",
    "Starting with the 70x3k mutual information dataset, I first try to see how low I can get with the features without sacrifizing accuracy. I later (next notebook) use that to rank the reduction per sensor."
   ]
  },
  {
   "cell_type": "code",
   "execution_count": 1,
   "metadata": {},
   "outputs": [],
   "source": [
    "%load_ext autoreload\n",
    "%autoreload 2"
   ]
  },
  {
   "cell_type": "code",
   "execution_count": 2,
   "metadata": {},
   "outputs": [],
   "source": [
    "import gc\n",
    "import pickle\n",
    "import pathlib\n",
    "import tqdm\n",
    "import numpy as np\n",
    "import numpy.random\n",
    "import pandas as pd\n",
    "from sklearn import svm\n",
    "import sklearn.metrics as metr\n",
    "import sklearn.preprocessing as pp\n",
    "import sklearn.linear_model as lm\n",
    "import sklearn.neighbors.nearest_centroid as nc\n",
    "import sklearn.neighbors as ne\n",
    "import sklearn.naive_bayes as nb\n",
    "import sklearn.ensemble as em\n",
    "import sklearn.discriminant_analysis as da\n",
    "import sklearn.gaussian_process as gp\n",
    "from sklearn import tree\n",
    "from sklearn.metrics import f1_score\n",
    "from sklearn.base import clone\n",
    "import sklearn.model_selection as ms\n",
    "import gestureanalysis.svm_helpers as svmhelper\n",
    "import sklearn.feature_selection as fs\n",
    "import sklearn.utils\n",
    "import matplotlib.pyplot as plt\n",
    "import seaborn as sns"
   ]
  },
  {
   "cell_type": "code",
   "execution_count": 3,
   "metadata": {},
   "outputs": [],
   "source": [
    "base_path = \"/home/jsimon/Documents/thesis/gesture-analysis/data/\"\n",
    "time_groups_path_corrected_pickl = base_path+\"transformed/time_added/all/time-and-groups-corrected-all.pkl\"\n",
    "stats_added_base_path = base_path+\"transformed/stats_added/all/\"\n",
    "stats_added_path_pickl = stats_added_base_path+\"raw_stats-added-all.pkl\"\n",
    "gyro_calibration_path = base_path+'../scripts/gestureanalysis/gyro_offset.txt'"
   ]
  },
  {
   "cell_type": "code",
   "execution_count": 4,
   "metadata": {},
   "outputs": [
    {
     "data": {
      "text/plain": [
       "'/home/jsimon/Documents/thesis/gesture-analysis/scripts'"
      ]
     },
     "execution_count": 4,
     "metadata": {},
     "output_type": "execute_result"
    }
   ],
   "source": [
    "import os\n",
    "os.getcwd()"
   ]
  },
  {
   "cell_type": "code",
   "execution_count": 5,
   "metadata": {},
   "outputs": [],
   "source": [
    "with open( stats_added_base_path+'train-data-scaled-mutual-inf60.pkl', \"rb\" ) as users_pickle_file:\n",
    "    data = pickle.load(users_pickle_file)"
   ]
  },
  {
   "cell_type": "code",
   "execution_count": 6,
   "metadata": {},
   "outputs": [],
   "source": [
    "X = data['X']\n",
    "y = data['y']\n",
    "Xval = data['Xval']\n",
    "yval = data['yval']\n",
    "gestures = data['gestures']\n",
    "features = data['headers']"
   ]
  },
  {
   "cell_type": "code",
   "execution_count": 7,
   "metadata": {},
   "outputs": [],
   "source": [
    "X, y = sklearn.utils.shuffle(X, y)"
   ]
  },
  {
   "cell_type": "code",
   "execution_count": 8,
   "metadata": {},
   "outputs": [
    {
     "data": {
      "text/plain": [
       "0"
      ]
     },
     "execution_count": 8,
     "metadata": {},
     "output_type": "execute_result"
    }
   ],
   "source": [
    "del [[data]]\n",
    "gc.collect()\n",
    "data = pd.DataFrame()\n",
    "gc.collect()"
   ]
  },
  {
   "cell_type": "markdown",
   "metadata": {},
   "source": [
    "## RFE with Lasso, $\\alpha$ = 0.1"
   ]
  },
  {
   "cell_type": "code",
   "execution_count": 9,
   "metadata": {
    "scrolled": true
   },
   "outputs": [
    {
     "name": "stdout",
     "output_type": "stream",
     "text": [
      "svc start\n"
     ]
    },
    {
     "name": "stderr",
     "output_type": "stream",
     "text": [
      "/home/jsimon/anaconda3/envs/thesis/lib/python3.7/site-packages/sklearn/linear_model/coordinate_descent.py:492: ConvergenceWarning: Objective did not converge. You might want to increase the number of iterations. Fitting data with very small alpha may cause precision problems.\n",
      "  ConvergenceWarning)\n"
     ]
    },
    {
     "name": "stdout",
     "output_type": "stream",
     "text": [
      "svc fittet\n",
      "rfe start\n",
      "Fitting estimator with 3821 features.\n"
     ]
    },
    {
     "name": "stderr",
     "output_type": "stream",
     "text": [
      "/home/jsimon/anaconda3/envs/thesis/lib/python3.7/site-packages/sklearn/linear_model/coordinate_descent.py:492: ConvergenceWarning: Objective did not converge. You might want to increase the number of iterations. Fitting data with very small alpha may cause precision problems.\n",
      "  ConvergenceWarning)\n"
     ]
    },
    {
     "name": "stdout",
     "output_type": "stream",
     "text": [
      "Fitting estimator with 3439 features.\n"
     ]
    },
    {
     "name": "stderr",
     "output_type": "stream",
     "text": [
      "/home/jsimon/anaconda3/envs/thesis/lib/python3.7/site-packages/sklearn/linear_model/coordinate_descent.py:492: ConvergenceWarning: Objective did not converge. You might want to increase the number of iterations. Fitting data with very small alpha may cause precision problems.\n",
      "  ConvergenceWarning)\n"
     ]
    },
    {
     "name": "stdout",
     "output_type": "stream",
     "text": [
      "Fitting estimator with 3057 features.\n"
     ]
    },
    {
     "name": "stderr",
     "output_type": "stream",
     "text": [
      "/home/jsimon/anaconda3/envs/thesis/lib/python3.7/site-packages/sklearn/linear_model/coordinate_descent.py:492: ConvergenceWarning: Objective did not converge. You might want to increase the number of iterations. Fitting data with very small alpha may cause precision problems.\n",
      "  ConvergenceWarning)\n"
     ]
    },
    {
     "name": "stdout",
     "output_type": "stream",
     "text": [
      "Fitting estimator with 2675 features.\n"
     ]
    },
    {
     "name": "stderr",
     "output_type": "stream",
     "text": [
      "/home/jsimon/anaconda3/envs/thesis/lib/python3.7/site-packages/sklearn/linear_model/coordinate_descent.py:492: ConvergenceWarning: Objective did not converge. You might want to increase the number of iterations. Fitting data with very small alpha may cause precision problems.\n",
      "  ConvergenceWarning)\n"
     ]
    },
    {
     "name": "stdout",
     "output_type": "stream",
     "text": [
      "Fitting estimator with 2293 features.\n"
     ]
    },
    {
     "name": "stderr",
     "output_type": "stream",
     "text": [
      "/home/jsimon/anaconda3/envs/thesis/lib/python3.7/site-packages/sklearn/linear_model/coordinate_descent.py:492: ConvergenceWarning: Objective did not converge. You might want to increase the number of iterations. Fitting data with very small alpha may cause precision problems.\n",
      "  ConvergenceWarning)\n"
     ]
    },
    {
     "name": "stdout",
     "output_type": "stream",
     "text": [
      "Fitting estimator with 1911 features.\n"
     ]
    },
    {
     "name": "stderr",
     "output_type": "stream",
     "text": [
      "/home/jsimon/anaconda3/envs/thesis/lib/python3.7/site-packages/sklearn/linear_model/coordinate_descent.py:492: ConvergenceWarning: Objective did not converge. You might want to increase the number of iterations. Fitting data with very small alpha may cause precision problems.\n",
      "  ConvergenceWarning)\n"
     ]
    },
    {
     "name": "stdout",
     "output_type": "stream",
     "text": [
      "rfe fittet\n"
     ]
    },
    {
     "name": "stderr",
     "output_type": "stream",
     "text": [
      "/home/jsimon/anaconda3/envs/thesis/lib/python3.7/site-packages/sklearn/linear_model/coordinate_descent.py:492: ConvergenceWarning: Objective did not converge. You might want to increase the number of iterations. Fitting data with very small alpha may cause precision problems.\n",
      "  ConvergenceWarning)\n"
     ]
    }
   ],
   "source": [
    "linc = sklearn.linear_model.Lasso(alpha = 0.1)\n",
    "print('svc start')\n",
    "linc.fit(X, y)\n",
    "print('svc fittet')\n",
    "rfecv = fs.RFE(estimator=linc, step=0.1, verbose=2)\n",
    "print('rfe start')\n",
    "rfecv.fit(X, y)\n",
    "print('rfe fittet')\n",
    "col_index = rfecv.get_support(indices=True)"
   ]
  },
  {
   "cell_type": "code",
   "execution_count": 10,
   "metadata": {},
   "outputs": [],
   "source": [
    "Xrfe = X[:,col_index]\n",
    "XValrfe = Xval[:,col_index]"
   ]
  },
  {
   "cell_type": "code",
   "execution_count": 11,
   "metadata": {},
   "outputs": [
    {
     "data": {
      "text/plain": [
       "(1910,)"
      ]
     },
     "execution_count": 11,
     "metadata": {},
     "output_type": "execute_result"
    }
   ],
   "source": [
    "col_index.shape"
   ]
  },
  {
   "cell_type": "code",
   "execution_count": 12,
   "metadata": {},
   "outputs": [
    {
     "data": {
      "text/plain": [
       "array([['0_10_Thumb_base_kurtosis', '0_11_Thumb_base_mode',\n",
       "        '0_12_Thumb_base_fft_mean', ..., '7197_fftPval_8_10',\n",
       "        '7198_diff_8_10', '7200_xcorr_8_10']], dtype='<U73')"
      ]
     },
     "execution_count": 12,
     "metadata": {},
     "output_type": "execute_result"
    }
   ],
   "source": [
    "rfe_features = features[:,col_index]\n",
    "rfe_features"
   ]
  },
  {
   "cell_type": "code",
   "execution_count": 13,
   "metadata": {},
   "outputs": [],
   "source": [
    "with open( stats_added_base_path+'train-data-rfe.pkl', \"wb\" ) as users_pickle_file:\n",
    "    pickle.dump({\n",
    "        'X': Xrfe, 'y': y, 'Xval' : XValrfe, 'yval': yval, \n",
    "        'gestures' : gestures, 'headers': rfe_features\n",
    "    }, users_pickle_file)"
   ]
  },
  {
   "cell_type": "markdown",
   "metadata": {},
   "source": [
    "## RFE-CV with Lasso, $\\alpha$ = 0.1"
   ]
  },
  {
   "cell_type": "code",
   "execution_count": 15,
   "metadata": {},
   "outputs": [
    {
     "name": "stdout",
     "output_type": "stream",
     "text": [
      "svc start\n"
     ]
    },
    {
     "name": "stderr",
     "output_type": "stream",
     "text": [
      "/home/jsimon/anaconda3/envs/thesis/lib/python3.7/site-packages/sklearn/linear_model/coordinate_descent.py:492: ConvergenceWarning: Objective did not converge. You might want to increase the number of iterations. Fitting data with very small alpha may cause precision problems.\n",
      "  ConvergenceWarning)\n",
      "/home/jsimon/anaconda3/envs/thesis/lib/python3.7/site-packages/sklearn/model_selection/_split.py:2053: FutureWarning: You should specify a value for 'cv' instead of relying on the default value. The default value will change from 3 to 5 in version 0.22.\n",
      "  warnings.warn(CV_WARNING, FutureWarning)\n"
     ]
    },
    {
     "name": "stdout",
     "output_type": "stream",
     "text": [
      "svc fittet\n",
      "rfe start\n",
      "Fitting estimator with 3821 features.\n"
     ]
    },
    {
     "name": "stderr",
     "output_type": "stream",
     "text": [
      "/home/jsimon/anaconda3/envs/thesis/lib/python3.7/site-packages/sklearn/linear_model/coordinate_descent.py:492: ConvergenceWarning: Objective did not converge. You might want to increase the number of iterations. Fitting data with very small alpha may cause precision problems.\n",
      "  ConvergenceWarning)\n"
     ]
    },
    {
     "name": "stdout",
     "output_type": "stream",
     "text": [
      "Fitting estimator with 3630 features.\n"
     ]
    },
    {
     "name": "stderr",
     "output_type": "stream",
     "text": [
      "/home/jsimon/anaconda3/envs/thesis/lib/python3.7/site-packages/sklearn/linear_model/coordinate_descent.py:492: ConvergenceWarning: Objective did not converge. You might want to increase the number of iterations. Fitting data with very small alpha may cause precision problems.\n",
      "  ConvergenceWarning)\n"
     ]
    },
    {
     "name": "stdout",
     "output_type": "stream",
     "text": [
      "Fitting estimator with 3439 features.\n"
     ]
    },
    {
     "name": "stderr",
     "output_type": "stream",
     "text": [
      "/home/jsimon/anaconda3/envs/thesis/lib/python3.7/site-packages/sklearn/linear_model/coordinate_descent.py:492: ConvergenceWarning: Objective did not converge. You might want to increase the number of iterations. Fitting data with very small alpha may cause precision problems.\n",
      "  ConvergenceWarning)\n"
     ]
    },
    {
     "name": "stdout",
     "output_type": "stream",
     "text": [
      "Fitting estimator with 3248 features.\n"
     ]
    },
    {
     "name": "stderr",
     "output_type": "stream",
     "text": [
      "/home/jsimon/anaconda3/envs/thesis/lib/python3.7/site-packages/sklearn/linear_model/coordinate_descent.py:492: ConvergenceWarning: Objective did not converge. You might want to increase the number of iterations. Fitting data with very small alpha may cause precision problems.\n",
      "  ConvergenceWarning)\n"
     ]
    },
    {
     "name": "stdout",
     "output_type": "stream",
     "text": [
      "Fitting estimator with 3057 features.\n"
     ]
    },
    {
     "name": "stderr",
     "output_type": "stream",
     "text": [
      "/home/jsimon/anaconda3/envs/thesis/lib/python3.7/site-packages/sklearn/linear_model/coordinate_descent.py:492: ConvergenceWarning: Objective did not converge. You might want to increase the number of iterations. Fitting data with very small alpha may cause precision problems.\n",
      "  ConvergenceWarning)\n"
     ]
    },
    {
     "name": "stdout",
     "output_type": "stream",
     "text": [
      "Fitting estimator with 2866 features.\n"
     ]
    },
    {
     "name": "stderr",
     "output_type": "stream",
     "text": [
      "/home/jsimon/anaconda3/envs/thesis/lib/python3.7/site-packages/sklearn/linear_model/coordinate_descent.py:492: ConvergenceWarning: Objective did not converge. You might want to increase the number of iterations. Fitting data with very small alpha may cause precision problems.\n",
      "  ConvergenceWarning)\n"
     ]
    },
    {
     "name": "stdout",
     "output_type": "stream",
     "text": [
      "Fitting estimator with 2675 features.\n"
     ]
    },
    {
     "name": "stderr",
     "output_type": "stream",
     "text": [
      "/home/jsimon/anaconda3/envs/thesis/lib/python3.7/site-packages/sklearn/linear_model/coordinate_descent.py:492: ConvergenceWarning: Objective did not converge. You might want to increase the number of iterations. Fitting data with very small alpha may cause precision problems.\n",
      "  ConvergenceWarning)\n"
     ]
    },
    {
     "name": "stdout",
     "output_type": "stream",
     "text": [
      "Fitting estimator with 2484 features.\n"
     ]
    },
    {
     "name": "stderr",
     "output_type": "stream",
     "text": [
      "/home/jsimon/anaconda3/envs/thesis/lib/python3.7/site-packages/sklearn/linear_model/coordinate_descent.py:492: ConvergenceWarning: Objective did not converge. You might want to increase the number of iterations. Fitting data with very small alpha may cause precision problems.\n",
      "  ConvergenceWarning)\n"
     ]
    },
    {
     "name": "stdout",
     "output_type": "stream",
     "text": [
      "Fitting estimator with 2293 features.\n"
     ]
    },
    {
     "name": "stderr",
     "output_type": "stream",
     "text": [
      "/home/jsimon/anaconda3/envs/thesis/lib/python3.7/site-packages/sklearn/linear_model/coordinate_descent.py:492: ConvergenceWarning: Objective did not converge. You might want to increase the number of iterations. Fitting data with very small alpha may cause precision problems.\n",
      "  ConvergenceWarning)\n"
     ]
    },
    {
     "name": "stdout",
     "output_type": "stream",
     "text": [
      "Fitting estimator with 2102 features.\n"
     ]
    },
    {
     "name": "stderr",
     "output_type": "stream",
     "text": [
      "/home/jsimon/anaconda3/envs/thesis/lib/python3.7/site-packages/sklearn/linear_model/coordinate_descent.py:492: ConvergenceWarning: Objective did not converge. You might want to increase the number of iterations. Fitting data with very small alpha may cause precision problems.\n",
      "  ConvergenceWarning)\n"
     ]
    },
    {
     "name": "stdout",
     "output_type": "stream",
     "text": [
      "Fitting estimator with 1911 features.\n"
     ]
    },
    {
     "name": "stderr",
     "output_type": "stream",
     "text": [
      "/home/jsimon/anaconda3/envs/thesis/lib/python3.7/site-packages/sklearn/linear_model/coordinate_descent.py:492: ConvergenceWarning: Objective did not converge. You might want to increase the number of iterations. Fitting data with very small alpha may cause precision problems.\n",
      "  ConvergenceWarning)\n"
     ]
    },
    {
     "name": "stdout",
     "output_type": "stream",
     "text": [
      "Fitting estimator with 1720 features.\n"
     ]
    },
    {
     "name": "stderr",
     "output_type": "stream",
     "text": [
      "/home/jsimon/anaconda3/envs/thesis/lib/python3.7/site-packages/sklearn/linear_model/coordinate_descent.py:492: ConvergenceWarning: Objective did not converge. You might want to increase the number of iterations. Fitting data with very small alpha may cause precision problems.\n",
      "  ConvergenceWarning)\n"
     ]
    },
    {
     "name": "stdout",
     "output_type": "stream",
     "text": [
      "Fitting estimator with 1529 features.\n"
     ]
    },
    {
     "name": "stderr",
     "output_type": "stream",
     "text": [
      "/home/jsimon/anaconda3/envs/thesis/lib/python3.7/site-packages/sklearn/linear_model/coordinate_descent.py:492: ConvergenceWarning: Objective did not converge. You might want to increase the number of iterations. Fitting data with very small alpha may cause precision problems.\n",
      "  ConvergenceWarning)\n"
     ]
    },
    {
     "name": "stdout",
     "output_type": "stream",
     "text": [
      "Fitting estimator with 1338 features.\n"
     ]
    },
    {
     "name": "stderr",
     "output_type": "stream",
     "text": [
      "/home/jsimon/anaconda3/envs/thesis/lib/python3.7/site-packages/sklearn/linear_model/coordinate_descent.py:492: ConvergenceWarning: Objective did not converge. You might want to increase the number of iterations. Fitting data with very small alpha may cause precision problems.\n",
      "  ConvergenceWarning)\n"
     ]
    },
    {
     "name": "stdout",
     "output_type": "stream",
     "text": [
      "Fitting estimator with 1147 features.\n"
     ]
    },
    {
     "name": "stderr",
     "output_type": "stream",
     "text": [
      "/home/jsimon/anaconda3/envs/thesis/lib/python3.7/site-packages/sklearn/linear_model/coordinate_descent.py:492: ConvergenceWarning: Objective did not converge. You might want to increase the number of iterations. Fitting data with very small alpha may cause precision problems.\n",
      "  ConvergenceWarning)\n"
     ]
    },
    {
     "name": "stdout",
     "output_type": "stream",
     "text": [
      "Fitting estimator with 956 features.\n"
     ]
    },
    {
     "name": "stderr",
     "output_type": "stream",
     "text": [
      "/home/jsimon/anaconda3/envs/thesis/lib/python3.7/site-packages/sklearn/linear_model/coordinate_descent.py:492: ConvergenceWarning: Objective did not converge. You might want to increase the number of iterations. Fitting data with very small alpha may cause precision problems.\n",
      "  ConvergenceWarning)\n"
     ]
    },
    {
     "name": "stdout",
     "output_type": "stream",
     "text": [
      "Fitting estimator with 765 features.\n"
     ]
    },
    {
     "name": "stderr",
     "output_type": "stream",
     "text": [
      "/home/jsimon/anaconda3/envs/thesis/lib/python3.7/site-packages/sklearn/linear_model/coordinate_descent.py:492: ConvergenceWarning: Objective did not converge. You might want to increase the number of iterations. Fitting data with very small alpha may cause precision problems.\n",
      "  ConvergenceWarning)\n"
     ]
    },
    {
     "name": "stdout",
     "output_type": "stream",
     "text": [
      "Fitting estimator with 574 features.\n"
     ]
    },
    {
     "name": "stderr",
     "output_type": "stream",
     "text": [
      "/home/jsimon/anaconda3/envs/thesis/lib/python3.7/site-packages/sklearn/linear_model/coordinate_descent.py:492: ConvergenceWarning: Objective did not converge. You might want to increase the number of iterations. Fitting data with very small alpha may cause precision problems.\n",
      "  ConvergenceWarning)\n"
     ]
    },
    {
     "name": "stdout",
     "output_type": "stream",
     "text": [
      "Fitting estimator with 383 features.\n"
     ]
    },
    {
     "name": "stderr",
     "output_type": "stream",
     "text": [
      "/home/jsimon/anaconda3/envs/thesis/lib/python3.7/site-packages/sklearn/linear_model/coordinate_descent.py:492: ConvergenceWarning: Objective did not converge. You might want to increase the number of iterations. Fitting data with very small alpha may cause precision problems.\n",
      "  ConvergenceWarning)\n"
     ]
    },
    {
     "name": "stdout",
     "output_type": "stream",
     "text": [
      "Fitting estimator with 192 features.\n"
     ]
    },
    {
     "name": "stderr",
     "output_type": "stream",
     "text": [
      "/home/jsimon/anaconda3/envs/thesis/lib/python3.7/site-packages/sklearn/linear_model/coordinate_descent.py:492: ConvergenceWarning: Objective did not converge. You might want to increase the number of iterations. Fitting data with very small alpha may cause precision problems.\n",
      "  ConvergenceWarning)\n"
     ]
    },
    {
     "name": "stdout",
     "output_type": "stream",
     "text": [
      "Fitting estimator with 3821 features.\n"
     ]
    },
    {
     "name": "stderr",
     "output_type": "stream",
     "text": [
      "/home/jsimon/anaconda3/envs/thesis/lib/python3.7/site-packages/sklearn/linear_model/coordinate_descent.py:492: ConvergenceWarning: Objective did not converge. You might want to increase the number of iterations. Fitting data with very small alpha may cause precision problems.\n",
      "  ConvergenceWarning)\n"
     ]
    },
    {
     "name": "stdout",
     "output_type": "stream",
     "text": [
      "Fitting estimator with 3630 features.\n"
     ]
    },
    {
     "name": "stderr",
     "output_type": "stream",
     "text": [
      "/home/jsimon/anaconda3/envs/thesis/lib/python3.7/site-packages/sklearn/linear_model/coordinate_descent.py:492: ConvergenceWarning: Objective did not converge. You might want to increase the number of iterations. Fitting data with very small alpha may cause precision problems.\n",
      "  ConvergenceWarning)\n"
     ]
    },
    {
     "name": "stdout",
     "output_type": "stream",
     "text": [
      "Fitting estimator with 3439 features.\n"
     ]
    },
    {
     "name": "stderr",
     "output_type": "stream",
     "text": [
      "/home/jsimon/anaconda3/envs/thesis/lib/python3.7/site-packages/sklearn/linear_model/coordinate_descent.py:492: ConvergenceWarning: Objective did not converge. You might want to increase the number of iterations. Fitting data with very small alpha may cause precision problems.\n",
      "  ConvergenceWarning)\n"
     ]
    },
    {
     "name": "stdout",
     "output_type": "stream",
     "text": [
      "Fitting estimator with 3248 features.\n"
     ]
    },
    {
     "name": "stderr",
     "output_type": "stream",
     "text": [
      "/home/jsimon/anaconda3/envs/thesis/lib/python3.7/site-packages/sklearn/linear_model/coordinate_descent.py:492: ConvergenceWarning: Objective did not converge. You might want to increase the number of iterations. Fitting data with very small alpha may cause precision problems.\n",
      "  ConvergenceWarning)\n"
     ]
    },
    {
     "name": "stdout",
     "output_type": "stream",
     "text": [
      "Fitting estimator with 3057 features.\n"
     ]
    },
    {
     "name": "stderr",
     "output_type": "stream",
     "text": [
      "/home/jsimon/anaconda3/envs/thesis/lib/python3.7/site-packages/sklearn/linear_model/coordinate_descent.py:492: ConvergenceWarning: Objective did not converge. You might want to increase the number of iterations. Fitting data with very small alpha may cause precision problems.\n",
      "  ConvergenceWarning)\n"
     ]
    },
    {
     "name": "stdout",
     "output_type": "stream",
     "text": [
      "Fitting estimator with 2866 features.\n"
     ]
    },
    {
     "name": "stderr",
     "output_type": "stream",
     "text": [
      "/home/jsimon/anaconda3/envs/thesis/lib/python3.7/site-packages/sklearn/linear_model/coordinate_descent.py:492: ConvergenceWarning: Objective did not converge. You might want to increase the number of iterations. Fitting data with very small alpha may cause precision problems.\n",
      "  ConvergenceWarning)\n"
     ]
    },
    {
     "name": "stdout",
     "output_type": "stream",
     "text": [
      "Fitting estimator with 2675 features.\n"
     ]
    },
    {
     "name": "stderr",
     "output_type": "stream",
     "text": [
      "/home/jsimon/anaconda3/envs/thesis/lib/python3.7/site-packages/sklearn/linear_model/coordinate_descent.py:492: ConvergenceWarning: Objective did not converge. You might want to increase the number of iterations. Fitting data with very small alpha may cause precision problems.\n",
      "  ConvergenceWarning)\n"
     ]
    },
    {
     "name": "stdout",
     "output_type": "stream",
     "text": [
      "Fitting estimator with 2484 features.\n"
     ]
    },
    {
     "name": "stderr",
     "output_type": "stream",
     "text": [
      "/home/jsimon/anaconda3/envs/thesis/lib/python3.7/site-packages/sklearn/linear_model/coordinate_descent.py:492: ConvergenceWarning: Objective did not converge. You might want to increase the number of iterations. Fitting data with very small alpha may cause precision problems.\n",
      "  ConvergenceWarning)\n"
     ]
    },
    {
     "name": "stdout",
     "output_type": "stream",
     "text": [
      "Fitting estimator with 2293 features.\n"
     ]
    },
    {
     "name": "stderr",
     "output_type": "stream",
     "text": [
      "/home/jsimon/anaconda3/envs/thesis/lib/python3.7/site-packages/sklearn/linear_model/coordinate_descent.py:492: ConvergenceWarning: Objective did not converge. You might want to increase the number of iterations. Fitting data with very small alpha may cause precision problems.\n",
      "  ConvergenceWarning)\n"
     ]
    },
    {
     "name": "stdout",
     "output_type": "stream",
     "text": [
      "Fitting estimator with 2102 features.\n"
     ]
    },
    {
     "name": "stderr",
     "output_type": "stream",
     "text": [
      "/home/jsimon/anaconda3/envs/thesis/lib/python3.7/site-packages/sklearn/linear_model/coordinate_descent.py:492: ConvergenceWarning: Objective did not converge. You might want to increase the number of iterations. Fitting data with very small alpha may cause precision problems.\n",
      "  ConvergenceWarning)\n"
     ]
    },
    {
     "name": "stdout",
     "output_type": "stream",
     "text": [
      "Fitting estimator with 1911 features.\n"
     ]
    },
    {
     "name": "stderr",
     "output_type": "stream",
     "text": [
      "/home/jsimon/anaconda3/envs/thesis/lib/python3.7/site-packages/sklearn/linear_model/coordinate_descent.py:492: ConvergenceWarning: Objective did not converge. You might want to increase the number of iterations. Fitting data with very small alpha may cause precision problems.\n",
      "  ConvergenceWarning)\n"
     ]
    },
    {
     "name": "stdout",
     "output_type": "stream",
     "text": [
      "Fitting estimator with 1720 features.\n"
     ]
    },
    {
     "name": "stderr",
     "output_type": "stream",
     "text": [
      "/home/jsimon/anaconda3/envs/thesis/lib/python3.7/site-packages/sklearn/linear_model/coordinate_descent.py:492: ConvergenceWarning: Objective did not converge. You might want to increase the number of iterations. Fitting data with very small alpha may cause precision problems.\n",
      "  ConvergenceWarning)\n"
     ]
    },
    {
     "name": "stdout",
     "output_type": "stream",
     "text": [
      "Fitting estimator with 1529 features.\n"
     ]
    },
    {
     "name": "stderr",
     "output_type": "stream",
     "text": [
      "/home/jsimon/anaconda3/envs/thesis/lib/python3.7/site-packages/sklearn/linear_model/coordinate_descent.py:492: ConvergenceWarning: Objective did not converge. You might want to increase the number of iterations. Fitting data with very small alpha may cause precision problems.\n",
      "  ConvergenceWarning)\n"
     ]
    },
    {
     "name": "stdout",
     "output_type": "stream",
     "text": [
      "Fitting estimator with 1338 features.\n"
     ]
    },
    {
     "name": "stderr",
     "output_type": "stream",
     "text": [
      "/home/jsimon/anaconda3/envs/thesis/lib/python3.7/site-packages/sklearn/linear_model/coordinate_descent.py:492: ConvergenceWarning: Objective did not converge. You might want to increase the number of iterations. Fitting data with very small alpha may cause precision problems.\n",
      "  ConvergenceWarning)\n"
     ]
    },
    {
     "name": "stdout",
     "output_type": "stream",
     "text": [
      "Fitting estimator with 1147 features.\n"
     ]
    },
    {
     "name": "stderr",
     "output_type": "stream",
     "text": [
      "/home/jsimon/anaconda3/envs/thesis/lib/python3.7/site-packages/sklearn/linear_model/coordinate_descent.py:492: ConvergenceWarning: Objective did not converge. You might want to increase the number of iterations. Fitting data with very small alpha may cause precision problems.\n",
      "  ConvergenceWarning)\n"
     ]
    },
    {
     "name": "stdout",
     "output_type": "stream",
     "text": [
      "Fitting estimator with 956 features.\n"
     ]
    },
    {
     "name": "stderr",
     "output_type": "stream",
     "text": [
      "/home/jsimon/anaconda3/envs/thesis/lib/python3.7/site-packages/sklearn/linear_model/coordinate_descent.py:492: ConvergenceWarning: Objective did not converge. You might want to increase the number of iterations. Fitting data with very small alpha may cause precision problems.\n",
      "  ConvergenceWarning)\n"
     ]
    },
    {
     "name": "stdout",
     "output_type": "stream",
     "text": [
      "Fitting estimator with 765 features.\n"
     ]
    },
    {
     "name": "stderr",
     "output_type": "stream",
     "text": [
      "/home/jsimon/anaconda3/envs/thesis/lib/python3.7/site-packages/sklearn/linear_model/coordinate_descent.py:492: ConvergenceWarning: Objective did not converge. You might want to increase the number of iterations. Fitting data with very small alpha may cause precision problems.\n",
      "  ConvergenceWarning)\n"
     ]
    },
    {
     "name": "stdout",
     "output_type": "stream",
     "text": [
      "Fitting estimator with 574 features.\n"
     ]
    },
    {
     "name": "stderr",
     "output_type": "stream",
     "text": [
      "/home/jsimon/anaconda3/envs/thesis/lib/python3.7/site-packages/sklearn/linear_model/coordinate_descent.py:492: ConvergenceWarning: Objective did not converge. You might want to increase the number of iterations. Fitting data with very small alpha may cause precision problems.\n",
      "  ConvergenceWarning)\n"
     ]
    },
    {
     "name": "stdout",
     "output_type": "stream",
     "text": [
      "Fitting estimator with 383 features.\n"
     ]
    },
    {
     "name": "stderr",
     "output_type": "stream",
     "text": [
      "/home/jsimon/anaconda3/envs/thesis/lib/python3.7/site-packages/sklearn/linear_model/coordinate_descent.py:492: ConvergenceWarning: Objective did not converge. You might want to increase the number of iterations. Fitting data with very small alpha may cause precision problems.\n",
      "  ConvergenceWarning)\n"
     ]
    },
    {
     "name": "stdout",
     "output_type": "stream",
     "text": [
      "Fitting estimator with 192 features.\n"
     ]
    },
    {
     "name": "stderr",
     "output_type": "stream",
     "text": [
      "/home/jsimon/anaconda3/envs/thesis/lib/python3.7/site-packages/sklearn/linear_model/coordinate_descent.py:492: ConvergenceWarning: Objective did not converge. You might want to increase the number of iterations. Fitting data with very small alpha may cause precision problems.\n",
      "  ConvergenceWarning)\n"
     ]
    },
    {
     "name": "stdout",
     "output_type": "stream",
     "text": [
      "Fitting estimator with 3821 features.\n"
     ]
    },
    {
     "name": "stderr",
     "output_type": "stream",
     "text": [
      "/home/jsimon/anaconda3/envs/thesis/lib/python3.7/site-packages/sklearn/linear_model/coordinate_descent.py:492: ConvergenceWarning: Objective did not converge. You might want to increase the number of iterations. Fitting data with very small alpha may cause precision problems.\n",
      "  ConvergenceWarning)\n"
     ]
    },
    {
     "name": "stdout",
     "output_type": "stream",
     "text": [
      "Fitting estimator with 3630 features.\n"
     ]
    },
    {
     "name": "stderr",
     "output_type": "stream",
     "text": [
      "/home/jsimon/anaconda3/envs/thesis/lib/python3.7/site-packages/sklearn/linear_model/coordinate_descent.py:492: ConvergenceWarning: Objective did not converge. You might want to increase the number of iterations. Fitting data with very small alpha may cause precision problems.\n",
      "  ConvergenceWarning)\n"
     ]
    },
    {
     "name": "stdout",
     "output_type": "stream",
     "text": [
      "Fitting estimator with 3439 features.\n"
     ]
    },
    {
     "name": "stderr",
     "output_type": "stream",
     "text": [
      "/home/jsimon/anaconda3/envs/thesis/lib/python3.7/site-packages/sklearn/linear_model/coordinate_descent.py:492: ConvergenceWarning: Objective did not converge. You might want to increase the number of iterations. Fitting data with very small alpha may cause precision problems.\n",
      "  ConvergenceWarning)\n"
     ]
    },
    {
     "name": "stdout",
     "output_type": "stream",
     "text": [
      "Fitting estimator with 3248 features.\n"
     ]
    },
    {
     "name": "stderr",
     "output_type": "stream",
     "text": [
      "/home/jsimon/anaconda3/envs/thesis/lib/python3.7/site-packages/sklearn/linear_model/coordinate_descent.py:492: ConvergenceWarning: Objective did not converge. You might want to increase the number of iterations. Fitting data with very small alpha may cause precision problems.\n",
      "  ConvergenceWarning)\n"
     ]
    },
    {
     "name": "stdout",
     "output_type": "stream",
     "text": [
      "Fitting estimator with 3057 features.\n"
     ]
    },
    {
     "name": "stderr",
     "output_type": "stream",
     "text": [
      "/home/jsimon/anaconda3/envs/thesis/lib/python3.7/site-packages/sklearn/linear_model/coordinate_descent.py:492: ConvergenceWarning: Objective did not converge. You might want to increase the number of iterations. Fitting data with very small alpha may cause precision problems.\n",
      "  ConvergenceWarning)\n"
     ]
    },
    {
     "name": "stdout",
     "output_type": "stream",
     "text": [
      "Fitting estimator with 2866 features.\n"
     ]
    },
    {
     "name": "stderr",
     "output_type": "stream",
     "text": [
      "/home/jsimon/anaconda3/envs/thesis/lib/python3.7/site-packages/sklearn/linear_model/coordinate_descent.py:492: ConvergenceWarning: Objective did not converge. You might want to increase the number of iterations. Fitting data with very small alpha may cause precision problems.\n",
      "  ConvergenceWarning)\n"
     ]
    },
    {
     "name": "stdout",
     "output_type": "stream",
     "text": [
      "Fitting estimator with 2675 features.\n"
     ]
    },
    {
     "name": "stderr",
     "output_type": "stream",
     "text": [
      "/home/jsimon/anaconda3/envs/thesis/lib/python3.7/site-packages/sklearn/linear_model/coordinate_descent.py:492: ConvergenceWarning: Objective did not converge. You might want to increase the number of iterations. Fitting data with very small alpha may cause precision problems.\n",
      "  ConvergenceWarning)\n"
     ]
    },
    {
     "name": "stdout",
     "output_type": "stream",
     "text": [
      "Fitting estimator with 2484 features.\n"
     ]
    },
    {
     "name": "stderr",
     "output_type": "stream",
     "text": [
      "/home/jsimon/anaconda3/envs/thesis/lib/python3.7/site-packages/sklearn/linear_model/coordinate_descent.py:492: ConvergenceWarning: Objective did not converge. You might want to increase the number of iterations. Fitting data with very small alpha may cause precision problems.\n",
      "  ConvergenceWarning)\n"
     ]
    },
    {
     "name": "stdout",
     "output_type": "stream",
     "text": [
      "Fitting estimator with 2293 features.\n"
     ]
    },
    {
     "name": "stderr",
     "output_type": "stream",
     "text": [
      "/home/jsimon/anaconda3/envs/thesis/lib/python3.7/site-packages/sklearn/linear_model/coordinate_descent.py:492: ConvergenceWarning: Objective did not converge. You might want to increase the number of iterations. Fitting data with very small alpha may cause precision problems.\n",
      "  ConvergenceWarning)\n"
     ]
    },
    {
     "name": "stdout",
     "output_type": "stream",
     "text": [
      "Fitting estimator with 2102 features.\n"
     ]
    },
    {
     "name": "stderr",
     "output_type": "stream",
     "text": [
      "/home/jsimon/anaconda3/envs/thesis/lib/python3.7/site-packages/sklearn/linear_model/coordinate_descent.py:492: ConvergenceWarning: Objective did not converge. You might want to increase the number of iterations. Fitting data with very small alpha may cause precision problems.\n",
      "  ConvergenceWarning)\n"
     ]
    },
    {
     "name": "stdout",
     "output_type": "stream",
     "text": [
      "Fitting estimator with 1911 features.\n"
     ]
    },
    {
     "name": "stderr",
     "output_type": "stream",
     "text": [
      "/home/jsimon/anaconda3/envs/thesis/lib/python3.7/site-packages/sklearn/linear_model/coordinate_descent.py:492: ConvergenceWarning: Objective did not converge. You might want to increase the number of iterations. Fitting data with very small alpha may cause precision problems.\n",
      "  ConvergenceWarning)\n"
     ]
    },
    {
     "name": "stdout",
     "output_type": "stream",
     "text": [
      "Fitting estimator with 1720 features.\n"
     ]
    },
    {
     "name": "stderr",
     "output_type": "stream",
     "text": [
      "/home/jsimon/anaconda3/envs/thesis/lib/python3.7/site-packages/sklearn/linear_model/coordinate_descent.py:492: ConvergenceWarning: Objective did not converge. You might want to increase the number of iterations. Fitting data with very small alpha may cause precision problems.\n",
      "  ConvergenceWarning)\n"
     ]
    },
    {
     "name": "stdout",
     "output_type": "stream",
     "text": [
      "Fitting estimator with 1529 features.\n"
     ]
    },
    {
     "name": "stderr",
     "output_type": "stream",
     "text": [
      "/home/jsimon/anaconda3/envs/thesis/lib/python3.7/site-packages/sklearn/linear_model/coordinate_descent.py:492: ConvergenceWarning: Objective did not converge. You might want to increase the number of iterations. Fitting data with very small alpha may cause precision problems.\n",
      "  ConvergenceWarning)\n"
     ]
    },
    {
     "name": "stdout",
     "output_type": "stream",
     "text": [
      "Fitting estimator with 1338 features.\n"
     ]
    },
    {
     "name": "stderr",
     "output_type": "stream",
     "text": [
      "/home/jsimon/anaconda3/envs/thesis/lib/python3.7/site-packages/sklearn/linear_model/coordinate_descent.py:492: ConvergenceWarning: Objective did not converge. You might want to increase the number of iterations. Fitting data with very small alpha may cause precision problems.\n",
      "  ConvergenceWarning)\n"
     ]
    },
    {
     "name": "stdout",
     "output_type": "stream",
     "text": [
      "Fitting estimator with 1147 features.\n"
     ]
    },
    {
     "name": "stderr",
     "output_type": "stream",
     "text": [
      "/home/jsimon/anaconda3/envs/thesis/lib/python3.7/site-packages/sklearn/linear_model/coordinate_descent.py:492: ConvergenceWarning: Objective did not converge. You might want to increase the number of iterations. Fitting data with very small alpha may cause precision problems.\n",
      "  ConvergenceWarning)\n"
     ]
    },
    {
     "name": "stdout",
     "output_type": "stream",
     "text": [
      "Fitting estimator with 956 features.\n"
     ]
    },
    {
     "name": "stderr",
     "output_type": "stream",
     "text": [
      "/home/jsimon/anaconda3/envs/thesis/lib/python3.7/site-packages/sklearn/linear_model/coordinate_descent.py:492: ConvergenceWarning: Objective did not converge. You might want to increase the number of iterations. Fitting data with very small alpha may cause precision problems.\n",
      "  ConvergenceWarning)\n"
     ]
    },
    {
     "name": "stdout",
     "output_type": "stream",
     "text": [
      "Fitting estimator with 765 features.\n"
     ]
    },
    {
     "name": "stderr",
     "output_type": "stream",
     "text": [
      "/home/jsimon/anaconda3/envs/thesis/lib/python3.7/site-packages/sklearn/linear_model/coordinate_descent.py:492: ConvergenceWarning: Objective did not converge. You might want to increase the number of iterations. Fitting data with very small alpha may cause precision problems.\n",
      "  ConvergenceWarning)\n"
     ]
    },
    {
     "name": "stdout",
     "output_type": "stream",
     "text": [
      "Fitting estimator with 574 features.\n"
     ]
    },
    {
     "name": "stderr",
     "output_type": "stream",
     "text": [
      "/home/jsimon/anaconda3/envs/thesis/lib/python3.7/site-packages/sklearn/linear_model/coordinate_descent.py:492: ConvergenceWarning: Objective did not converge. You might want to increase the number of iterations. Fitting data with very small alpha may cause precision problems.\n",
      "  ConvergenceWarning)\n"
     ]
    },
    {
     "name": "stdout",
     "output_type": "stream",
     "text": [
      "Fitting estimator with 383 features.\n"
     ]
    },
    {
     "name": "stderr",
     "output_type": "stream",
     "text": [
      "/home/jsimon/anaconda3/envs/thesis/lib/python3.7/site-packages/sklearn/linear_model/coordinate_descent.py:492: ConvergenceWarning: Objective did not converge. You might want to increase the number of iterations. Fitting data with very small alpha may cause precision problems.\n",
      "  ConvergenceWarning)\n"
     ]
    },
    {
     "name": "stdout",
     "output_type": "stream",
     "text": [
      "Fitting estimator with 192 features.\n",
      "Fitting estimator with 3821 features.\n"
     ]
    },
    {
     "name": "stderr",
     "output_type": "stream",
     "text": [
      "/home/jsimon/anaconda3/envs/thesis/lib/python3.7/site-packages/sklearn/linear_model/coordinate_descent.py:492: ConvergenceWarning: Objective did not converge. You might want to increase the number of iterations. Fitting data with very small alpha may cause precision problems.\n",
      "  ConvergenceWarning)\n"
     ]
    },
    {
     "name": "stdout",
     "output_type": "stream",
     "text": [
      "Fitting estimator with 3630 features.\n"
     ]
    },
    {
     "name": "stderr",
     "output_type": "stream",
     "text": [
      "/home/jsimon/anaconda3/envs/thesis/lib/python3.7/site-packages/sklearn/linear_model/coordinate_descent.py:492: ConvergenceWarning: Objective did not converge. You might want to increase the number of iterations. Fitting data with very small alpha may cause precision problems.\n",
      "  ConvergenceWarning)\n"
     ]
    },
    {
     "name": "stdout",
     "output_type": "stream",
     "text": [
      "Fitting estimator with 3439 features.\n"
     ]
    },
    {
     "name": "stderr",
     "output_type": "stream",
     "text": [
      "/home/jsimon/anaconda3/envs/thesis/lib/python3.7/site-packages/sklearn/linear_model/coordinate_descent.py:492: ConvergenceWarning: Objective did not converge. You might want to increase the number of iterations. Fitting data with very small alpha may cause precision problems.\n",
      "  ConvergenceWarning)\n"
     ]
    },
    {
     "name": "stdout",
     "output_type": "stream",
     "text": [
      "Fitting estimator with 3248 features.\n"
     ]
    },
    {
     "name": "stderr",
     "output_type": "stream",
     "text": [
      "/home/jsimon/anaconda3/envs/thesis/lib/python3.7/site-packages/sklearn/linear_model/coordinate_descent.py:492: ConvergenceWarning: Objective did not converge. You might want to increase the number of iterations. Fitting data with very small alpha may cause precision problems.\n",
      "  ConvergenceWarning)\n"
     ]
    },
    {
     "name": "stdout",
     "output_type": "stream",
     "text": [
      "Fitting estimator with 3057 features.\n"
     ]
    },
    {
     "name": "stderr",
     "output_type": "stream",
     "text": [
      "/home/jsimon/anaconda3/envs/thesis/lib/python3.7/site-packages/sklearn/linear_model/coordinate_descent.py:492: ConvergenceWarning: Objective did not converge. You might want to increase the number of iterations. Fitting data with very small alpha may cause precision problems.\n",
      "  ConvergenceWarning)\n"
     ]
    },
    {
     "name": "stdout",
     "output_type": "stream",
     "text": [
      "Fitting estimator with 2866 features.\n"
     ]
    },
    {
     "name": "stderr",
     "output_type": "stream",
     "text": [
      "/home/jsimon/anaconda3/envs/thesis/lib/python3.7/site-packages/sklearn/linear_model/coordinate_descent.py:492: ConvergenceWarning: Objective did not converge. You might want to increase the number of iterations. Fitting data with very small alpha may cause precision problems.\n",
      "  ConvergenceWarning)\n"
     ]
    },
    {
     "name": "stdout",
     "output_type": "stream",
     "text": [
      "Fitting estimator with 2675 features.\n"
     ]
    },
    {
     "name": "stderr",
     "output_type": "stream",
     "text": [
      "/home/jsimon/anaconda3/envs/thesis/lib/python3.7/site-packages/sklearn/linear_model/coordinate_descent.py:492: ConvergenceWarning: Objective did not converge. You might want to increase the number of iterations. Fitting data with very small alpha may cause precision problems.\n",
      "  ConvergenceWarning)\n"
     ]
    },
    {
     "name": "stdout",
     "output_type": "stream",
     "text": [
      "Fitting estimator with 2484 features.\n"
     ]
    },
    {
     "name": "stderr",
     "output_type": "stream",
     "text": [
      "/home/jsimon/anaconda3/envs/thesis/lib/python3.7/site-packages/sklearn/linear_model/coordinate_descent.py:492: ConvergenceWarning: Objective did not converge. You might want to increase the number of iterations. Fitting data with very small alpha may cause precision problems.\n",
      "  ConvergenceWarning)\n"
     ]
    },
    {
     "name": "stdout",
     "output_type": "stream",
     "text": [
      "Fitting estimator with 2293 features.\n"
     ]
    },
    {
     "name": "stderr",
     "output_type": "stream",
     "text": [
      "/home/jsimon/anaconda3/envs/thesis/lib/python3.7/site-packages/sklearn/linear_model/coordinate_descent.py:492: ConvergenceWarning: Objective did not converge. You might want to increase the number of iterations. Fitting data with very small alpha may cause precision problems.\n",
      "  ConvergenceWarning)\n"
     ]
    },
    {
     "name": "stdout",
     "output_type": "stream",
     "text": [
      "Fitting estimator with 2102 features.\n"
     ]
    },
    {
     "name": "stderr",
     "output_type": "stream",
     "text": [
      "/home/jsimon/anaconda3/envs/thesis/lib/python3.7/site-packages/sklearn/linear_model/coordinate_descent.py:492: ConvergenceWarning: Objective did not converge. You might want to increase the number of iterations. Fitting data with very small alpha may cause precision problems.\n",
      "  ConvergenceWarning)\n"
     ]
    },
    {
     "name": "stdout",
     "output_type": "stream",
     "text": [
      "Fitting estimator with 1911 features.\n"
     ]
    },
    {
     "name": "stderr",
     "output_type": "stream",
     "text": [
      "/home/jsimon/anaconda3/envs/thesis/lib/python3.7/site-packages/sklearn/linear_model/coordinate_descent.py:492: ConvergenceWarning: Objective did not converge. You might want to increase the number of iterations. Fitting data with very small alpha may cause precision problems.\n",
      "  ConvergenceWarning)\n"
     ]
    },
    {
     "name": "stdout",
     "output_type": "stream",
     "text": [
      "Fitting estimator with 1720 features.\n"
     ]
    },
    {
     "name": "stderr",
     "output_type": "stream",
     "text": [
      "/home/jsimon/anaconda3/envs/thesis/lib/python3.7/site-packages/sklearn/linear_model/coordinate_descent.py:492: ConvergenceWarning: Objective did not converge. You might want to increase the number of iterations. Fitting data with very small alpha may cause precision problems.\n",
      "  ConvergenceWarning)\n"
     ]
    },
    {
     "name": "stdout",
     "output_type": "stream",
     "text": [
      "Fitting estimator with 1529 features.\n"
     ]
    },
    {
     "name": "stderr",
     "output_type": "stream",
     "text": [
      "/home/jsimon/anaconda3/envs/thesis/lib/python3.7/site-packages/sklearn/linear_model/coordinate_descent.py:492: ConvergenceWarning: Objective did not converge. You might want to increase the number of iterations. Fitting data with very small alpha may cause precision problems.\n",
      "  ConvergenceWarning)\n"
     ]
    },
    {
     "name": "stdout",
     "output_type": "stream",
     "text": [
      "Fitting estimator with 1338 features.\n"
     ]
    },
    {
     "name": "stderr",
     "output_type": "stream",
     "text": [
      "/home/jsimon/anaconda3/envs/thesis/lib/python3.7/site-packages/sklearn/linear_model/coordinate_descent.py:492: ConvergenceWarning: Objective did not converge. You might want to increase the number of iterations. Fitting data with very small alpha may cause precision problems.\n",
      "  ConvergenceWarning)\n"
     ]
    },
    {
     "name": "stdout",
     "output_type": "stream",
     "text": [
      "Fitting estimator with 1147 features.\n"
     ]
    },
    {
     "name": "stderr",
     "output_type": "stream",
     "text": [
      "/home/jsimon/anaconda3/envs/thesis/lib/python3.7/site-packages/sklearn/linear_model/coordinate_descent.py:492: ConvergenceWarning: Objective did not converge. You might want to increase the number of iterations. Fitting data with very small alpha may cause precision problems.\n",
      "  ConvergenceWarning)\n"
     ]
    },
    {
     "name": "stdout",
     "output_type": "stream",
     "text": [
      "Fitting estimator with 956 features.\n"
     ]
    },
    {
     "name": "stderr",
     "output_type": "stream",
     "text": [
      "/home/jsimon/anaconda3/envs/thesis/lib/python3.7/site-packages/sklearn/linear_model/coordinate_descent.py:492: ConvergenceWarning: Objective did not converge. You might want to increase the number of iterations. Fitting data with very small alpha may cause precision problems.\n",
      "  ConvergenceWarning)\n"
     ]
    },
    {
     "name": "stdout",
     "output_type": "stream",
     "text": [
      "Fitting estimator with 765 features.\n"
     ]
    },
    {
     "name": "stderr",
     "output_type": "stream",
     "text": [
      "/home/jsimon/anaconda3/envs/thesis/lib/python3.7/site-packages/sklearn/linear_model/coordinate_descent.py:492: ConvergenceWarning: Objective did not converge. You might want to increase the number of iterations. Fitting data with very small alpha may cause precision problems.\n",
      "  ConvergenceWarning)\n"
     ]
    },
    {
     "name": "stdout",
     "output_type": "stream",
     "text": [
      "Fitting estimator with 574 features.\n"
     ]
    },
    {
     "name": "stderr",
     "output_type": "stream",
     "text": [
      "/home/jsimon/anaconda3/envs/thesis/lib/python3.7/site-packages/sklearn/linear_model/coordinate_descent.py:492: ConvergenceWarning: Objective did not converge. You might want to increase the number of iterations. Fitting data with very small alpha may cause precision problems.\n",
      "  ConvergenceWarning)\n",
      "/home/jsimon/anaconda3/envs/thesis/lib/python3.7/site-packages/sklearn/linear_model/coordinate_descent.py:492: ConvergenceWarning: Objective did not converge. You might want to increase the number of iterations. Fitting data with very small alpha may cause precision problems.\n",
      "  ConvergenceWarning)\n"
     ]
    },
    {
     "name": "stdout",
     "output_type": "stream",
     "text": [
      "rfe fittet\n"
     ]
    },
    {
     "name": "stderr",
     "output_type": "stream",
     "text": [
      "/home/jsimon/anaconda3/envs/thesis/lib/python3.7/site-packages/sklearn/linear_model/coordinate_descent.py:492: ConvergenceWarning: Objective did not converge. You might want to increase the number of iterations. Fitting data with very small alpha may cause precision problems.\n",
      "  ConvergenceWarning)\n"
     ]
    }
   ],
   "source": [
    "linc = sklearn.linear_model.Lasso(alpha = 0.1)\n",
    "print('svc start')\n",
    "linc.fit(X, y)\n",
    "print('svc fittet')\n",
    "rfecv = fs.RFECV(estimator=linc, step=0.05, verbose=2)\n",
    "print('rfe start')\n",
    "rfecv.fit(X, y)\n",
    "print('rfe fittet')\n",
    "col_index = rfecv.get_support(indices=True)"
   ]
  },
  {
   "cell_type": "code",
   "execution_count": 16,
   "metadata": {},
   "outputs": [],
   "source": [
    "Xrfe = X[:,col_index]\n",
    "XValrfe = Xval[:,col_index]"
   ]
  },
  {
   "cell_type": "code",
   "execution_count": 17,
   "metadata": {},
   "outputs": [
    {
     "data": {
      "text/plain": [
       "(383,)"
      ]
     },
     "execution_count": 17,
     "metadata": {},
     "output_type": "execute_result"
    }
   ],
   "source": [
    "col_index.shape"
   ]
  },
  {
   "cell_type": "code",
   "execution_count": 18,
   "metadata": {},
   "outputs": [
    {
     "data": {
      "text/plain": [
       "array([['0_22_Thumb_base_fft_kurtosis', '0_57_Thumb_base_peak_max',\n",
       "        '2_50_Angle_between_thumb_and_hand_cwt_range',\n",
       "        '3_25_Finger_1_base_spectral_entropy',\n",
       "        '4_21_Finger_1_tip_fft_skew',\n",
       "        '4_24_Finger_1_tip_spectral_centroid',\n",
       "        '4_25_Finger_1_tip_spectral_entropy', '4_27_Finger_1_tip_ff2',\n",
       "        '4_33_Finger_1_tip_cwt_sums_0', '4_51_Finger_1_tip_cwt_var',\n",
       "        '5_1_Finger_2_base_std', '5_32_Finger_2_base_bandwith',\n",
       "        '5_40_Finger_2_base_cwt_sums_7', '6_26_Finger_2_tip_ff1',\n",
       "        '6_33_Finger_2_tip_cwt_sums_0', '6_44_Finger_2_tip_cwt_std',\n",
       "        '6_55_Finger_2_tip_num_peaks', '7_33_Finger_3_base_cwt_sums_0',\n",
       "        '8_5_Finger_3_tip_75q', '8_28_Finger_3_tip_ff3',\n",
       "        '8_44_Finger_3_tip_cwt_std', '9_32_Finger_4_base_bandwith',\n",
       "        '10_17_Finger_4_tip_fft_75q', '10_19_Finger_4_tip_fft_range',\n",
       "        '10_20_Finger_4_tip_fft_var', '10_21_Finger_4_tip_fft_skew',\n",
       "        '10_27_Finger_4_tip_ff2', '10_29_Finger_4_tip_ff4',\n",
       "        '10_46_Finger_4_tip_cwt_25q', '10_50_Finger_4_tip_cwt_range',\n",
       "        '10_51_Finger_4_tip_cwt_var', '10_56_Finger_4_tip_peak_min',\n",
       "        '10_57_Finger_4_tip_peak_max', '11_4_Thumb_tip_median',\n",
       "        '11_5_Thumb_tip_75q', '11_31_Thumb_tip_freq_5sum',\n",
       "        '11_34_Thumb_tip_cwt_sums_1', '12_6_Finger_1_pressure_max',\n",
       "        '12_17_Finger_1_pressure_fft_75q',\n",
       "        '12_21_Finger_1_pressure_fft_skew',\n",
       "        '12_26_Finger_1_pressure_ff1', '12_27_Finger_1_pressure_ff2',\n",
       "        '12_32_Finger_1_pressure_bandwith',\n",
       "        '12_33_Finger_1_pressure_cwt_sums_0',\n",
       "        '12_49_Finger_1_pressure_cwt_max',\n",
       "        '12_56_Finger_1_pressure_peak_min',\n",
       "        '14_21_Finger_3_pressure_fft_skew',\n",
       "        '14_29_Finger_3_pressure_ff4', '15_8_Finger_4_pressure_var',\n",
       "        '15_9_Finger_4_pressure_skew', '16_8_Wrist_extension_var',\n",
       "        '16_10_Wrist_extension_kurtosis',\n",
       "        '16_12_Wrist_extension_fft_mean',\n",
       "        '16_14_Wrist_extension_fft_min', '16_17_Wrist_extension_fft_75q',\n",
       "        '16_19_Wrist_extension_fft_range',\n",
       "        '16_20_Wrist_extension_fft_var',\n",
       "        '16_21_Wrist_extension_fft_skew',\n",
       "        '16_24_Wrist_extension_spectral_centroid',\n",
       "        '16_25_Wrist_extension_spectral_entropy',\n",
       "        '16_26_Wrist_extension_ff1', '16_27_Wrist_extension_ff2',\n",
       "        '16_36_Wrist_extension_cwt_sums_3',\n",
       "        '16_42_Wrist_extension_cwt_sums_9',\n",
       "        '16_46_Wrist_extension_cwt_25q', '16_48_Wrist_extension_cwt_75q',\n",
       "        '16_50_Wrist_extension_cwt_range',\n",
       "        '16_51_Wrist_extension_cwt_var',\n",
       "        '16_53_Wrist_extension_cwt_kurtosis',\n",
       "        '16_54_Wrist_extension_cwt_mode',\n",
       "        '16_56_Wrist_extension_peak_min',\n",
       "        '16_57_Wrist_extension_peak_max',\n",
       "        '16_58_Wrist_extension_peak_mean', '17_1_Wrist_flexion_std',\n",
       "        '17_3_Wrist_flexion_25q', '17_6_Wrist_flexion_max',\n",
       "        '17_9_Wrist_flexion_skew', '17_12_Wrist_flexion_fft_mean',\n",
       "        '17_13_Wrist_flexion_fft_std', '17_14_Wrist_flexion_fft_min',\n",
       "        '17_15_Wrist_flexion_fft_25q', '17_16_Wrist_flexion_fft_median',\n",
       "        '17_17_Wrist_flexion_fft_75q', '17_18_Wrist_flexion_fft_max',\n",
       "        '17_19_Wrist_flexion_fft_range',\n",
       "        '17_22_Wrist_flexion_fft_kurtosis',\n",
       "        '17_23_Wrist_flexion_fft_mode',\n",
       "        '17_25_Wrist_flexion_spectral_entropy',\n",
       "        '17_26_Wrist_flexion_ff1', '17_28_Wrist_flexion_ff3',\n",
       "        '17_29_Wrist_flexion_ff4', '17_31_Wrist_flexion_freq_5sum',\n",
       "        '17_32_Wrist_flexion_bandwith', '17_40_Wrist_flexion_cwt_sums_7',\n",
       "        '17_45_Wrist_flexion_cwt_min', '18_29_Finger_1_Accel_X_ff4',\n",
       "        '20_16_Finger_1_Accel_Z_fft_median',\n",
       "        '20_42_Finger_1_Accel_Z_cwt_sums_9',\n",
       "        '20_58_Finger_1_Accel_Z_peak_mean', '21_0_Finger_1_Gyro_X_mean',\n",
       "        '21_1_Finger_1_Gyro_X_std', '21_12_Finger_1_Gyro_X_fft_mean',\n",
       "        '21_13_Finger_1_Gyro_X_fft_std',\n",
       "        '22_23_Finger_1_Gyro_Y_fft_mode',\n",
       "        '22_37_Finger_1_Gyro_Y_cwt_sums_4',\n",
       "        '22_42_Finger_1_Gyro_Y_cwt_sums_9',\n",
       "        '24_21_Finger_2_Accel_X_fft_skew',\n",
       "        '24_34_Finger_2_Accel_X_cwt_sums_1',\n",
       "        '24_37_Finger_2_Accel_X_cwt_sums_4',\n",
       "        '24_39_Finger_2_Accel_X_cwt_sums_6',\n",
       "        '24_53_Finger_2_Accel_X_cwt_kurtosis',\n",
       "        '25_3_Finger_2_Accel_Y_25q', '25_6_Finger_2_Accel_Y_max',\n",
       "        '25_10_Finger_2_Accel_Y_kurtosis', '25_11_Finger_2_Accel_Y_mode',\n",
       "        '25_12_Finger_2_Accel_Y_fft_mean',\n",
       "        '25_40_Finger_2_Accel_Y_cwt_sums_7',\n",
       "        '28_39_Finger_2_Gyro_Y_cwt_sums_6',\n",
       "        '29_38_Finger_2_Gyro_Z_cwt_sums_5',\n",
       "        '29_47_Finger_2_Gyro_Z_cwt_median',\n",
       "        '29_51_Finger_2_Gyro_Z_cwt_var',\n",
       "        '30_23_Finger_3_Accel_X_fft_mode',\n",
       "        '30_35_Finger_3_Accel_X_cwt_sums_2',\n",
       "        '30_36_Finger_3_Accel_X_cwt_sums_3',\n",
       "        '30_37_Finger_3_Accel_X_cwt_sums_4',\n",
       "        '30_38_Finger_3_Accel_X_cwt_sums_5',\n",
       "        '30_42_Finger_3_Accel_X_cwt_sums_9',\n",
       "        '30_43_Finger_3_Accel_X_cwt_mean', '31_11_Finger_3_Accel_Y_mode',\n",
       "        '31_15_Finger_3_Accel_Y_fft_25q', '31_29_Finger_3_Accel_Y_ff4',\n",
       "        '31_32_Finger_3_Accel_Y_bandwith',\n",
       "        '31_45_Finger_3_Accel_Y_cwt_min',\n",
       "        '31_51_Finger_3_Accel_Y_cwt_var',\n",
       "        '32_37_Finger_3_Accel_Z_cwt_sums_4',\n",
       "        '32_39_Finger_3_Accel_Z_cwt_sums_6',\n",
       "        '32_43_Finger_3_Accel_Z_cwt_mean',\n",
       "        '32_55_Finger_3_Accel_Z_num_peaks',\n",
       "        '32_56_Finger_3_Accel_Z_peak_min', '33_0_Finger_3_Gyro_X_mean',\n",
       "        '33_7_Finger_3_Gyro_X_range', '33_10_Finger_3_Gyro_X_kurtosis',\n",
       "        '33_16_Finger_3_Gyro_X_fft_median',\n",
       "        '33_42_Finger_3_Gyro_X_cwt_sums_9',\n",
       "        '33_46_Finger_3_Gyro_X_cwt_25q',\n",
       "        '34_23_Finger_3_Gyro_Y_fft_mode',\n",
       "        '34_25_Finger_3_Gyro_Y_spectral_entropy',\n",
       "        '34_37_Finger_3_Gyro_Y_cwt_sums_4',\n",
       "        '34_39_Finger_3_Gyro_Y_cwt_sums_6',\n",
       "        '34_40_Finger_3_Gyro_Y_cwt_sums_7',\n",
       "        '34_43_Finger_3_Gyro_Y_cwt_mean',\n",
       "        '34_45_Finger_3_Gyro_Y_cwt_min', '35_13_Finger_3_Gyro_Z_fft_std',\n",
       "        '35_16_Finger_3_Gyro_Z_fft_median',\n",
       "        '35_17_Finger_3_Gyro_Z_fft_75q',\n",
       "        '35_23_Finger_3_Gyro_Z_fft_mode', '35_26_Finger_3_Gyro_Z_ff1',\n",
       "        '35_40_Finger_3_Gyro_Z_cwt_sums_7',\n",
       "        '35_48_Finger_3_Gyro_Z_cwt_75q', '37_2_Finger_4_Accel_Y_min',\n",
       "        '37_16_Finger_4_Accel_Y_fft_median',\n",
       "        '37_17_Finger_4_Accel_Y_fft_75q',\n",
       "        '37_20_Finger_4_Accel_Y_fft_var', '37_27_Finger_4_Accel_Y_ff2',\n",
       "        '37_30_Finger_4_Accel_Y_ff5', '37_32_Finger_4_Accel_Y_bandwith',\n",
       "        '39_50_Finger_4_Gyro_X_cwt_range',\n",
       "        '40_21_Finger_4_Gyro_Y_fft_skew',\n",
       "        '40_48_Finger_4_Gyro_Y_cwt_75q', '40_49_Finger_4_Gyro_Y_cwt_max',\n",
       "        '40_55_Finger_4_Gyro_Y_num_peaks',\n",
       "        '40_56_Finger_4_Gyro_Y_peak_min',\n",
       "        '40_57_Finger_4_Gyro_Y_peak_max', '41_3_Finger_4_Gyro_Z_25q',\n",
       "        '41_9_Finger_4_Gyro_Z_skew', '41_15_Finger_4_Gyro_Z_fft_25q',\n",
       "        '42_23_Thumb_Accel_X_fft_mode',\n",
       "        '44_22_Thumb_Accel_Z_fft_kurtosis',\n",
       "        '44_32_Thumb_Accel_Z_bandwith', '45_47_Thumb_Gyro_X_cwt_median',\n",
       "        '45_48_Thumb_Gyro_X_cwt_75q', '45_50_Thumb_Gyro_X_cwt_range',\n",
       "        '47_27_Thumb_Gyro_Z_ff2', '47_30_Thumb_Gyro_Z_ff5',\n",
       "        '47_36_Thumb_Gyro_Z_cwt_sums_3', '47_42_Thumb_Gyro_Z_cwt_sums_9',\n",
       "        '49_1_Palm_Accel_Y_std', '49_2_Palm_Accel_Y_min',\n",
       "        '49_3_Palm_Accel_Y_25q', '49_6_Palm_Accel_Y_max',\n",
       "        '49_19_Palm_Accel_Y_fft_range',\n",
       "        '49_24_Palm_Accel_Y_spectral_centroid',\n",
       "        '49_36_Palm_Accel_Y_cwt_sums_3', '49_55_Palm_Accel_Y_num_peaks',\n",
       "        '49_58_Palm_Accel_Y_peak_mean', '50_46_Palm_Accel_Z_cwt_25q',\n",
       "        '51_42_Palm_Gyro_X_cwt_sums_9', '51_46_Palm_Gyro_X_cwt_25q',\n",
       "        '51_51_Palm_Gyro_X_cwt_var',\n",
       "        '70_51_Finger_2_Accel_X_lin_accel_cwt_var',\n",
       "        '70_56_Finger_2_Accel_X_lin_accel_peak_min',\n",
       "        '71_10_Finger_2_Accel_Y_lin_accel_kurtosis',\n",
       "        '71_11_Finger_2_Accel_Y_lin_accel_mode',\n",
       "        '71_12_Finger_2_Accel_Y_lin_accel_fft_mean',\n",
       "        '71_15_Finger_2_Accel_Y_lin_accel_fft_25q',\n",
       "        '71_19_Finger_2_Accel_Y_lin_accel_fft_range',\n",
       "        '71_22_Finger_2_Accel_Y_lin_accel_fft_kurtosis',\n",
       "        '71_26_Finger_2_Accel_Y_lin_accel_ff1',\n",
       "        '71_58_Finger_2_Accel_Y_lin_accel_peak_mean',\n",
       "        '72_0_Finger_2_Accel_Z_lin_accel_mean',\n",
       "        '72_3_Finger_2_Accel_Z_lin_accel_25q',\n",
       "        '72_35_Finger_2_Accel_Z_lin_accel_cwt_sums_2',\n",
       "        '72_52_Finger_2_Accel_Z_lin_accel_cwt_skew',\n",
       "        '72_58_Finger_2_Accel_Z_lin_accel_peak_mean',\n",
       "        '73_12_Finger_3_Accel_X_lin_accel_fft_mean',\n",
       "        '73_15_Finger_3_Accel_X_lin_accel_fft_25q',\n",
       "        '73_19_Finger_3_Accel_X_lin_accel_fft_range',\n",
       "        '73_32_Finger_3_Accel_X_lin_accel_bandwith',\n",
       "        '74_3_Finger_3_Accel_Y_lin_accel_25q',\n",
       "        '74_5_Finger_3_Accel_Y_lin_accel_75q',\n",
       "        '75_33_Finger_3_Accel_Z_lin_accel_cwt_sums_0',\n",
       "        '76_37_Finger_4_Accel_X_lin_accel_cwt_sums_4',\n",
       "        '79_17_Thumb_Accel_X_lin_accel_fft_75q',\n",
       "        '81_0_Thumb_Accel_Z_lin_accel_mean',\n",
       "        '81_1_Thumb_Accel_Z_lin_accel_std',\n",
       "        '81_18_Thumb_Accel_Z_lin_accel_fft_max',\n",
       "        '91_6_Finger_4_Accel_absolute_froce_max',\n",
       "        '91_41_Finger_4_Accel_absolute_froce_cwt_sums_8',\n",
       "        '93_17_Palm_Accel_absolute_froce_fft_75q',\n",
       "        '94_13_Wrist_Accel_absolute_froce_fft_std',\n",
       "        '94_58_Wrist_Accel_absolute_froce_peak_mean',\n",
       "        '95_44_Finger_2_Accel_Y_lin_accel_absolute_lin_froce_cwt_std',\n",
       "        '96_52_Finger_3_Accel_Y_lin_accel_absolute_lin_froce_cwt_skew',\n",
       "        '97_6_Finger_4_Accel_Y_lin_accel_absolute_lin_froce_max',\n",
       "        '97_7_Finger_4_Accel_Y_lin_accel_absolute_lin_froce_range',\n",
       "        '97_18_Finger_4_Accel_Y_lin_accel_absolute_lin_froce_fft_max',\n",
       "        '97_24_Finger_4_Accel_Y_lin_accel_absolute_lin_froce_spectral_centroid',\n",
       "        '97_25_Finger_4_Accel_Y_lin_accel_absolute_lin_froce_spectral_entropy',\n",
       "        '97_31_Finger_4_Accel_Y_lin_accel_absolute_lin_froce_freq_5sum',\n",
       "        '97_32_Finger_4_Accel_Y_lin_accel_absolute_lin_froce_bandwith',\n",
       "        '97_33_Finger_4_Accel_Y_lin_accel_absolute_lin_froce_cwt_sums_0',\n",
       "        '97_34_Finger_4_Accel_Y_lin_accel_absolute_lin_froce_cwt_sums_1',\n",
       "        '97_39_Finger_4_Accel_Y_lin_accel_absolute_lin_froce_cwt_sums_6',\n",
       "        '97_42_Finger_4_Accel_Y_lin_accel_absolute_lin_froce_cwt_sums_9',\n",
       "        '97_45_Finger_4_Accel_Y_lin_accel_absolute_lin_froce_cwt_min',\n",
       "        '98_15_Thumb_Accel_Y_lin_accel_absolute_lin_froce_fft_25q',\n",
       "        '99_9_Palm_Accel_Y_lin_accel_absolute_lin_froce_skew',\n",
       "        '99_15_Palm_Accel_Y_lin_accel_absolute_lin_froce_fft_25q',\n",
       "        '99_17_Palm_Accel_Y_lin_accel_absolute_lin_froce_fft_75q',\n",
       "        '99_34_Palm_Accel_Y_lin_accel_absolute_lin_froce_cwt_sums_1',\n",
       "        '100_18_Wrist_Accel_Y_lin_accel_absolute_lin_froce_fft_max',\n",
       "        '101_7_Finger_2_Accel_absolute_froce_absolute_lin_froce_range',\n",
       "        '101_23_Finger_2_Accel_absolute_froce_absolute_lin_froce_fft_mode',\n",
       "        '101_30_Finger_2_Accel_absolute_froce_absolute_lin_froce_ff5',\n",
       "        '101_31_Finger_2_Accel_absolute_froce_absolute_lin_froce_freq_5sum',\n",
       "        '101_32_Finger_2_Accel_absolute_froce_absolute_lin_froce_bandwith',\n",
       "        '101_35_Finger_2_Accel_absolute_froce_absolute_lin_froce_cwt_sums_2',\n",
       "        '101_36_Finger_2_Accel_absolute_froce_absolute_lin_froce_cwt_sums_3',\n",
       "        '101_50_Finger_2_Accel_absolute_froce_absolute_lin_froce_cwt_range',\n",
       "        '103_32_Finger_1_Gyro_Y_direction_cosine_bandwith',\n",
       "        '103_48_Finger_1_Gyro_Y_direction_cosine_cwt_75q',\n",
       "        '104_51_Finger_1_Gyro_Z_direction_cosine_cwt_var',\n",
       "        '106_22_Finger_2_Gyro_Y_direction_cosine_fft_kurtosis',\n",
       "        '106_43_Finger_2_Gyro_Y_direction_cosine_cwt_mean',\n",
       "        '106_52_Finger_2_Gyro_Y_direction_cosine_cwt_skew',\n",
       "        '107_10_Finger_2_Gyro_Z_direction_cosine_kurtosis',\n",
       "        '107_12_Finger_2_Gyro_Z_direction_cosine_fft_mean',\n",
       "        '107_15_Finger_2_Gyro_Z_direction_cosine_fft_25q',\n",
       "        '107_20_Finger_2_Gyro_Z_direction_cosine_fft_var',\n",
       "        '107_22_Finger_2_Gyro_Z_direction_cosine_fft_kurtosis',\n",
       "        '107_25_Finger_2_Gyro_Z_direction_cosine_spectral_entropy',\n",
       "        '107_27_Finger_2_Gyro_Z_direction_cosine_ff2',\n",
       "        '107_30_Finger_2_Gyro_Z_direction_cosine_ff5',\n",
       "        '107_32_Finger_2_Gyro_Z_direction_cosine_bandwith',\n",
       "        '107_33_Finger_2_Gyro_Z_direction_cosine_cwt_sums_0',\n",
       "        '107_36_Finger_2_Gyro_Z_direction_cosine_cwt_sums_3',\n",
       "        '107_37_Finger_2_Gyro_Z_direction_cosine_cwt_sums_4',\n",
       "        '107_39_Finger_2_Gyro_Z_direction_cosine_cwt_sums_6',\n",
       "        '107_45_Finger_2_Gyro_Z_direction_cosine_cwt_min',\n",
       "        '107_49_Finger_2_Gyro_Z_direction_cosine_cwt_max',\n",
       "        '107_50_Finger_2_Gyro_Z_direction_cosine_cwt_range',\n",
       "        '108_18_Finger_3_Gyro_X_direction_cosine_fft_max',\n",
       "        '108_21_Finger_3_Gyro_X_direction_cosine_fft_skew',\n",
       "        '108_32_Finger_3_Gyro_X_direction_cosine_bandwith',\n",
       "        '108_35_Finger_3_Gyro_X_direction_cosine_cwt_sums_2',\n",
       "        '108_48_Finger_3_Gyro_X_direction_cosine_cwt_75q',\n",
       "        '109_11_Finger_3_Gyro_Y_direction_cosine_mode',\n",
       "        '109_17_Finger_3_Gyro_Y_direction_cosine_fft_75q',\n",
       "        '109_23_Finger_3_Gyro_Y_direction_cosine_fft_mode',\n",
       "        '109_24_Finger_3_Gyro_Y_direction_cosine_spectral_centroid',\n",
       "        '109_25_Finger_3_Gyro_Y_direction_cosine_spectral_entropy',\n",
       "        '109_29_Finger_3_Gyro_Y_direction_cosine_ff4',\n",
       "        '109_30_Finger_3_Gyro_Y_direction_cosine_ff5',\n",
       "        '109_31_Finger_3_Gyro_Y_direction_cosine_freq_5sum',\n",
       "        '109_42_Finger_3_Gyro_Y_direction_cosine_cwt_sums_9',\n",
       "        '109_43_Finger_3_Gyro_Y_direction_cosine_cwt_mean',\n",
       "        '109_48_Finger_3_Gyro_Y_direction_cosine_cwt_75q',\n",
       "        '109_49_Finger_3_Gyro_Y_direction_cosine_cwt_max',\n",
       "        '109_54_Finger_3_Gyro_Y_direction_cosine_cwt_mode',\n",
       "        '109_56_Finger_3_Gyro_Y_direction_cosine_peak_min',\n",
       "        '110_8_Finger_3_Gyro_Z_direction_cosine_var',\n",
       "        '110_16_Finger_3_Gyro_Z_direction_cosine_fft_median',\n",
       "        '110_21_Finger_3_Gyro_Z_direction_cosine_fft_skew',\n",
       "        '110_23_Finger_3_Gyro_Z_direction_cosine_fft_mode',\n",
       "        '110_28_Finger_3_Gyro_Z_direction_cosine_ff3',\n",
       "        '110_29_Finger_3_Gyro_Z_direction_cosine_ff4',\n",
       "        '110_30_Finger_3_Gyro_Z_direction_cosine_ff5',\n",
       "        '110_55_Finger_3_Gyro_Z_direction_cosine_num_peaks',\n",
       "        '110_58_Finger_3_Gyro_Z_direction_cosine_peak_mean',\n",
       "        '111_1_Finger_4_Gyro_X_direction_cosine_std',\n",
       "        '111_3_Finger_4_Gyro_X_direction_cosine_25q',\n",
       "        '111_5_Finger_4_Gyro_X_direction_cosine_75q',\n",
       "        '111_12_Finger_4_Gyro_X_direction_cosine_fft_mean',\n",
       "        '111_13_Finger_4_Gyro_X_direction_cosine_fft_std',\n",
       "        '111_18_Finger_4_Gyro_X_direction_cosine_fft_max',\n",
       "        '111_19_Finger_4_Gyro_X_direction_cosine_fft_range',\n",
       "        '111_20_Finger_4_Gyro_X_direction_cosine_fft_var',\n",
       "        '111_24_Finger_4_Gyro_X_direction_cosine_spectral_centroid',\n",
       "        '111_25_Finger_4_Gyro_X_direction_cosine_spectral_entropy',\n",
       "        '111_26_Finger_4_Gyro_X_direction_cosine_ff1',\n",
       "        '111_30_Finger_4_Gyro_X_direction_cosine_ff5',\n",
       "        '111_31_Finger_4_Gyro_X_direction_cosine_freq_5sum',\n",
       "        '111_36_Finger_4_Gyro_X_direction_cosine_cwt_sums_3',\n",
       "        '111_37_Finger_4_Gyro_X_direction_cosine_cwt_sums_4',\n",
       "        '111_40_Finger_4_Gyro_X_direction_cosine_cwt_sums_7',\n",
       "        '111_42_Finger_4_Gyro_X_direction_cosine_cwt_sums_9',\n",
       "        '111_43_Finger_4_Gyro_X_direction_cosine_cwt_mean',\n",
       "        '111_44_Finger_4_Gyro_X_direction_cosine_cwt_std',\n",
       "        '111_48_Finger_4_Gyro_X_direction_cosine_cwt_75q',\n",
       "        '111_54_Finger_4_Gyro_X_direction_cosine_cwt_mode',\n",
       "        '111_55_Finger_4_Gyro_X_direction_cosine_num_peaks',\n",
       "        '111_56_Finger_4_Gyro_X_direction_cosine_peak_min',\n",
       "        '111_57_Finger_4_Gyro_X_direction_cosine_peak_max',\n",
       "        '112_1_Finger_4_Gyro_Y_direction_cosine_std',\n",
       "        '112_3_Finger_4_Gyro_Y_direction_cosine_25q',\n",
       "        '112_4_Finger_4_Gyro_Y_direction_cosine_median',\n",
       "        '112_6_Finger_4_Gyro_Y_direction_cosine_max',\n",
       "        '112_7_Finger_4_Gyro_Y_direction_cosine_range',\n",
       "        '112_8_Finger_4_Gyro_Y_direction_cosine_var',\n",
       "        '112_11_Finger_4_Gyro_Y_direction_cosine_mode',\n",
       "        '112_14_Finger_4_Gyro_Y_direction_cosine_fft_min',\n",
       "        '112_15_Finger_4_Gyro_Y_direction_cosine_fft_25q',\n",
       "        '112_29_Finger_4_Gyro_Y_direction_cosine_ff4',\n",
       "        '112_31_Finger_4_Gyro_Y_direction_cosine_freq_5sum',\n",
       "        '112_47_Finger_4_Gyro_Y_direction_cosine_cwt_median',\n",
       "        '113_3_Finger_4_Gyro_Z_direction_cosine_25q',\n",
       "        '113_8_Finger_4_Gyro_Z_direction_cosine_var',\n",
       "        '113_12_Finger_4_Gyro_Z_direction_cosine_fft_mean',\n",
       "        '113_25_Finger_4_Gyro_Z_direction_cosine_spectral_entropy',\n",
       "        '113_53_Finger_4_Gyro_Z_direction_cosine_cwt_kurtosis',\n",
       "        '114_45_Thumb_Gyro_X_direction_cosine_cwt_min',\n",
       "        '117_21_Palm_Gyro_X_direction_cosine_fft_skew',\n",
       "        '117_27_Palm_Gyro_X_direction_cosine_ff2',\n",
       "        '117_29_Palm_Gyro_X_direction_cosine_ff4',\n",
       "        '117_34_Palm_Gyro_X_direction_cosine_cwt_sums_1',\n",
       "        '117_38_Palm_Gyro_X_direction_cosine_cwt_sums_5',\n",
       "        '117_55_Palm_Gyro_X_direction_cosine_num_peaks',\n",
       "        '118_22_Palm_Gyro_Y_direction_cosine_fft_kurtosis',\n",
       "        '118_27_Palm_Gyro_Y_direction_cosine_ff2',\n",
       "        '118_34_Palm_Gyro_Y_direction_cosine_cwt_sums_1',\n",
       "        '118_35_Palm_Gyro_Y_direction_cosine_cwt_sums_2',\n",
       "        '119_12_Palm_Gyro_Z_direction_cosine_fft_mean',\n",
       "        '119_20_Palm_Gyro_Z_direction_cosine_fft_var',\n",
       "        '119_21_Palm_Gyro_Z_direction_cosine_fft_skew',\n",
       "        '119_41_Palm_Gyro_Z_direction_cosine_cwt_sums_8',\n",
       "        '119_48_Palm_Gyro_Z_direction_cosine_cwt_75q',\n",
       "        '120_33_Wrist_Gyro_X_direction_cosine_cwt_sums_0',\n",
       "        '121_20_Wrist_Gyro_Y_direction_cosine_fft_var',\n",
       "        '121_21_Wrist_Gyro_Y_direction_cosine_fft_skew',\n",
       "        '121_22_Wrist_Gyro_Y_direction_cosine_fft_kurtosis',\n",
       "        '121_26_Wrist_Gyro_Y_direction_cosine_ff1',\n",
       "        '121_46_Wrist_Gyro_Y_direction_cosine_cwt_25q',\n",
       "        '7024_fftAngle_0_3', '7028_diffFFT_0_3', '7031_corr_0_5',\n",
       "        '7035_fftPval_0_5', '7038_xcorr_0_5', '7091_diffFFT_5_7',\n",
       "        '7098_fftPval_5_9', '7145_diffFFT_11_10', '7152_fftPval_4_6',\n",
       "        '7172_diffFFT_4_10', '7174_angle_6_8']], dtype='<U73')"
      ]
     },
     "execution_count": 18,
     "metadata": {},
     "output_type": "execute_result"
    }
   ],
   "source": [
    "rfe_features = features[:,col_index]\n",
    "rfe_features"
   ]
  },
  {
   "cell_type": "code",
   "execution_count": 19,
   "metadata": {},
   "outputs": [],
   "source": [
    "with open( stats_added_base_path+'train-data-rfecv1.pkl', \"wb\" ) as users_pickle_file:\n",
    "    pickle.dump({\n",
    "        'X': Xrfe, 'y': y, 'Xval' : XValrfe, 'yval': yval, \n",
    "        'gestures' : gestures, 'headers': rfe_features\n",
    "    }, users_pickle_file)"
   ]
  },
  {
   "cell_type": "markdown",
   "metadata": {},
   "source": [
    "## RFE with Lasso, $\\alpha$ = 0.01"
   ]
  },
  {
   "cell_type": "code",
   "execution_count": 9,
   "metadata": {
    "scrolled": true
   },
   "outputs": [
    {
     "name": "stdout",
     "output_type": "stream",
     "text": [
      "svc start\n"
     ]
    },
    {
     "name": "stderr",
     "output_type": "stream",
     "text": [
      "/home/jsimon/anaconda3/envs/thesis/lib/python3.7/site-packages/sklearn/linear_model/coordinate_descent.py:492: ConvergenceWarning: Objective did not converge. You might want to increase the number of iterations. Fitting data with very small alpha may cause precision problems.\n",
      "  ConvergenceWarning)\n"
     ]
    },
    {
     "name": "stdout",
     "output_type": "stream",
     "text": [
      "svc fittet\n",
      "rfe start\n",
      "Fitting estimator with 3821 features.\n"
     ]
    },
    {
     "name": "stderr",
     "output_type": "stream",
     "text": [
      "/home/jsimon/anaconda3/envs/thesis/lib/python3.7/site-packages/sklearn/linear_model/coordinate_descent.py:492: ConvergenceWarning: Objective did not converge. You might want to increase the number of iterations. Fitting data with very small alpha may cause precision problems.\n",
      "  ConvergenceWarning)\n"
     ]
    },
    {
     "name": "stdout",
     "output_type": "stream",
     "text": [
      "Fitting estimator with 3630 features.\n"
     ]
    },
    {
     "name": "stderr",
     "output_type": "stream",
     "text": [
      "/home/jsimon/anaconda3/envs/thesis/lib/python3.7/site-packages/sklearn/linear_model/coordinate_descent.py:492: ConvergenceWarning: Objective did not converge. You might want to increase the number of iterations. Fitting data with very small alpha may cause precision problems.\n",
      "  ConvergenceWarning)\n"
     ]
    },
    {
     "name": "stdout",
     "output_type": "stream",
     "text": [
      "Fitting estimator with 3439 features.\n"
     ]
    },
    {
     "name": "stderr",
     "output_type": "stream",
     "text": [
      "/home/jsimon/anaconda3/envs/thesis/lib/python3.7/site-packages/sklearn/linear_model/coordinate_descent.py:492: ConvergenceWarning: Objective did not converge. You might want to increase the number of iterations. Fitting data with very small alpha may cause precision problems.\n",
      "  ConvergenceWarning)\n"
     ]
    },
    {
     "name": "stdout",
     "output_type": "stream",
     "text": [
      "Fitting estimator with 3248 features.\n"
     ]
    },
    {
     "name": "stderr",
     "output_type": "stream",
     "text": [
      "/home/jsimon/anaconda3/envs/thesis/lib/python3.7/site-packages/sklearn/linear_model/coordinate_descent.py:492: ConvergenceWarning: Objective did not converge. You might want to increase the number of iterations. Fitting data with very small alpha may cause precision problems.\n",
      "  ConvergenceWarning)\n"
     ]
    },
    {
     "name": "stdout",
     "output_type": "stream",
     "text": [
      "Fitting estimator with 3057 features.\n"
     ]
    },
    {
     "name": "stderr",
     "output_type": "stream",
     "text": [
      "/home/jsimon/anaconda3/envs/thesis/lib/python3.7/site-packages/sklearn/linear_model/coordinate_descent.py:492: ConvergenceWarning: Objective did not converge. You might want to increase the number of iterations. Fitting data with very small alpha may cause precision problems.\n",
      "  ConvergenceWarning)\n"
     ]
    },
    {
     "name": "stdout",
     "output_type": "stream",
     "text": [
      "Fitting estimator with 2866 features.\n"
     ]
    },
    {
     "name": "stderr",
     "output_type": "stream",
     "text": [
      "/home/jsimon/anaconda3/envs/thesis/lib/python3.7/site-packages/sklearn/linear_model/coordinate_descent.py:492: ConvergenceWarning: Objective did not converge. You might want to increase the number of iterations. Fitting data with very small alpha may cause precision problems.\n",
      "  ConvergenceWarning)\n"
     ]
    },
    {
     "name": "stdout",
     "output_type": "stream",
     "text": [
      "Fitting estimator with 2675 features.\n"
     ]
    },
    {
     "name": "stderr",
     "output_type": "stream",
     "text": [
      "/home/jsimon/anaconda3/envs/thesis/lib/python3.7/site-packages/sklearn/linear_model/coordinate_descent.py:492: ConvergenceWarning: Objective did not converge. You might want to increase the number of iterations. Fitting data with very small alpha may cause precision problems.\n",
      "  ConvergenceWarning)\n"
     ]
    },
    {
     "name": "stdout",
     "output_type": "stream",
     "text": [
      "Fitting estimator with 2484 features.\n"
     ]
    },
    {
     "name": "stderr",
     "output_type": "stream",
     "text": [
      "/home/jsimon/anaconda3/envs/thesis/lib/python3.7/site-packages/sklearn/linear_model/coordinate_descent.py:492: ConvergenceWarning: Objective did not converge. You might want to increase the number of iterations. Fitting data with very small alpha may cause precision problems.\n",
      "  ConvergenceWarning)\n"
     ]
    },
    {
     "name": "stdout",
     "output_type": "stream",
     "text": [
      "Fitting estimator with 2293 features.\n"
     ]
    },
    {
     "name": "stderr",
     "output_type": "stream",
     "text": [
      "/home/jsimon/anaconda3/envs/thesis/lib/python3.7/site-packages/sklearn/linear_model/coordinate_descent.py:492: ConvergenceWarning: Objective did not converge. You might want to increase the number of iterations. Fitting data with very small alpha may cause precision problems.\n",
      "  ConvergenceWarning)\n"
     ]
    },
    {
     "name": "stdout",
     "output_type": "stream",
     "text": [
      "Fitting estimator with 2102 features.\n"
     ]
    },
    {
     "name": "stderr",
     "output_type": "stream",
     "text": [
      "/home/jsimon/anaconda3/envs/thesis/lib/python3.7/site-packages/sklearn/linear_model/coordinate_descent.py:492: ConvergenceWarning: Objective did not converge. You might want to increase the number of iterations. Fitting data with very small alpha may cause precision problems.\n",
      "  ConvergenceWarning)\n"
     ]
    },
    {
     "name": "stdout",
     "output_type": "stream",
     "text": [
      "Fitting estimator with 1911 features.\n"
     ]
    },
    {
     "name": "stderr",
     "output_type": "stream",
     "text": [
      "/home/jsimon/anaconda3/envs/thesis/lib/python3.7/site-packages/sklearn/linear_model/coordinate_descent.py:492: ConvergenceWarning: Objective did not converge. You might want to increase the number of iterations. Fitting data with very small alpha may cause precision problems.\n",
      "  ConvergenceWarning)\n"
     ]
    },
    {
     "name": "stdout",
     "output_type": "stream",
     "text": [
      "Fitting estimator with 1720 features.\n"
     ]
    },
    {
     "name": "stderr",
     "output_type": "stream",
     "text": [
      "/home/jsimon/anaconda3/envs/thesis/lib/python3.7/site-packages/sklearn/linear_model/coordinate_descent.py:492: ConvergenceWarning: Objective did not converge. You might want to increase the number of iterations. Fitting data with very small alpha may cause precision problems.\n",
      "  ConvergenceWarning)\n"
     ]
    },
    {
     "name": "stdout",
     "output_type": "stream",
     "text": [
      "Fitting estimator with 1529 features.\n"
     ]
    },
    {
     "name": "stderr",
     "output_type": "stream",
     "text": [
      "/home/jsimon/anaconda3/envs/thesis/lib/python3.7/site-packages/sklearn/linear_model/coordinate_descent.py:492: ConvergenceWarning: Objective did not converge. You might want to increase the number of iterations. Fitting data with very small alpha may cause precision problems.\n",
      "  ConvergenceWarning)\n"
     ]
    },
    {
     "name": "stdout",
     "output_type": "stream",
     "text": [
      "Fitting estimator with 1338 features.\n"
     ]
    },
    {
     "name": "stderr",
     "output_type": "stream",
     "text": [
      "/home/jsimon/anaconda3/envs/thesis/lib/python3.7/site-packages/sklearn/linear_model/coordinate_descent.py:492: ConvergenceWarning: Objective did not converge. You might want to increase the number of iterations. Fitting data with very small alpha may cause precision problems.\n",
      "  ConvergenceWarning)\n"
     ]
    },
    {
     "name": "stdout",
     "output_type": "stream",
     "text": [
      "Fitting estimator with 1147 features.\n"
     ]
    },
    {
     "name": "stderr",
     "output_type": "stream",
     "text": [
      "/home/jsimon/anaconda3/envs/thesis/lib/python3.7/site-packages/sklearn/linear_model/coordinate_descent.py:492: ConvergenceWarning: Objective did not converge. You might want to increase the number of iterations. Fitting data with very small alpha may cause precision problems.\n",
      "  ConvergenceWarning)\n"
     ]
    },
    {
     "name": "stdout",
     "output_type": "stream",
     "text": [
      "Fitting estimator with 956 features.\n"
     ]
    },
    {
     "name": "stderr",
     "output_type": "stream",
     "text": [
      "/home/jsimon/anaconda3/envs/thesis/lib/python3.7/site-packages/sklearn/linear_model/coordinate_descent.py:492: ConvergenceWarning: Objective did not converge. You might want to increase the number of iterations. Fitting data with very small alpha may cause precision problems.\n",
      "  ConvergenceWarning)\n"
     ]
    },
    {
     "name": "stdout",
     "output_type": "stream",
     "text": [
      "Fitting estimator with 765 features.\n"
     ]
    },
    {
     "name": "stderr",
     "output_type": "stream",
     "text": [
      "/home/jsimon/anaconda3/envs/thesis/lib/python3.7/site-packages/sklearn/linear_model/coordinate_descent.py:492: ConvergenceWarning: Objective did not converge. You might want to increase the number of iterations. Fitting data with very small alpha may cause precision problems.\n",
      "  ConvergenceWarning)\n"
     ]
    },
    {
     "name": "stdout",
     "output_type": "stream",
     "text": [
      "Fitting estimator with 574 features.\n"
     ]
    },
    {
     "name": "stderr",
     "output_type": "stream",
     "text": [
      "/home/jsimon/anaconda3/envs/thesis/lib/python3.7/site-packages/sklearn/linear_model/coordinate_descent.py:492: ConvergenceWarning: Objective did not converge. You might want to increase the number of iterations. Fitting data with very small alpha may cause precision problems.\n",
      "  ConvergenceWarning)\n"
     ]
    },
    {
     "name": "stdout",
     "output_type": "stream",
     "text": [
      "Fitting estimator with 383 features.\n"
     ]
    },
    {
     "name": "stderr",
     "output_type": "stream",
     "text": [
      "/home/jsimon/anaconda3/envs/thesis/lib/python3.7/site-packages/sklearn/linear_model/coordinate_descent.py:492: ConvergenceWarning: Objective did not converge. You might want to increase the number of iterations. Fitting data with very small alpha may cause precision problems.\n",
      "  ConvergenceWarning)\n"
     ]
    },
    {
     "name": "stdout",
     "output_type": "stream",
     "text": [
      "Fitting estimator with 192 features.\n"
     ]
    },
    {
     "name": "stderr",
     "output_type": "stream",
     "text": [
      "/home/jsimon/anaconda3/envs/thesis/lib/python3.7/site-packages/sklearn/linear_model/coordinate_descent.py:492: ConvergenceWarning: Objective did not converge. You might want to increase the number of iterations. Fitting data with very small alpha may cause precision problems.\n",
      "  ConvergenceWarning)\n"
     ]
    },
    {
     "name": "stdout",
     "output_type": "stream",
     "text": [
      "Fitting estimator with 3821 features.\n"
     ]
    },
    {
     "name": "stderr",
     "output_type": "stream",
     "text": [
      "/home/jsimon/anaconda3/envs/thesis/lib/python3.7/site-packages/sklearn/linear_model/coordinate_descent.py:492: ConvergenceWarning: Objective did not converge. You might want to increase the number of iterations. Fitting data with very small alpha may cause precision problems.\n",
      "  ConvergenceWarning)\n"
     ]
    },
    {
     "name": "stdout",
     "output_type": "stream",
     "text": [
      "Fitting estimator with 3630 features.\n"
     ]
    },
    {
     "name": "stderr",
     "output_type": "stream",
     "text": [
      "/home/jsimon/anaconda3/envs/thesis/lib/python3.7/site-packages/sklearn/linear_model/coordinate_descent.py:492: ConvergenceWarning: Objective did not converge. You might want to increase the number of iterations. Fitting data with very small alpha may cause precision problems.\n",
      "  ConvergenceWarning)\n"
     ]
    },
    {
     "name": "stdout",
     "output_type": "stream",
     "text": [
      "Fitting estimator with 3439 features.\n"
     ]
    },
    {
     "name": "stderr",
     "output_type": "stream",
     "text": [
      "/home/jsimon/anaconda3/envs/thesis/lib/python3.7/site-packages/sklearn/linear_model/coordinate_descent.py:492: ConvergenceWarning: Objective did not converge. You might want to increase the number of iterations. Fitting data with very small alpha may cause precision problems.\n",
      "  ConvergenceWarning)\n"
     ]
    },
    {
     "name": "stdout",
     "output_type": "stream",
     "text": [
      "Fitting estimator with 3248 features.\n"
     ]
    },
    {
     "name": "stderr",
     "output_type": "stream",
     "text": [
      "/home/jsimon/anaconda3/envs/thesis/lib/python3.7/site-packages/sklearn/linear_model/coordinate_descent.py:492: ConvergenceWarning: Objective did not converge. You might want to increase the number of iterations. Fitting data with very small alpha may cause precision problems.\n",
      "  ConvergenceWarning)\n"
     ]
    },
    {
     "name": "stdout",
     "output_type": "stream",
     "text": [
      "Fitting estimator with 3057 features.\n"
     ]
    },
    {
     "name": "stderr",
     "output_type": "stream",
     "text": [
      "/home/jsimon/anaconda3/envs/thesis/lib/python3.7/site-packages/sklearn/linear_model/coordinate_descent.py:492: ConvergenceWarning: Objective did not converge. You might want to increase the number of iterations. Fitting data with very small alpha may cause precision problems.\n",
      "  ConvergenceWarning)\n"
     ]
    },
    {
     "name": "stdout",
     "output_type": "stream",
     "text": [
      "Fitting estimator with 2866 features.\n"
     ]
    },
    {
     "name": "stderr",
     "output_type": "stream",
     "text": [
      "/home/jsimon/anaconda3/envs/thesis/lib/python3.7/site-packages/sklearn/linear_model/coordinate_descent.py:492: ConvergenceWarning: Objective did not converge. You might want to increase the number of iterations. Fitting data with very small alpha may cause precision problems.\n",
      "  ConvergenceWarning)\n"
     ]
    },
    {
     "name": "stdout",
     "output_type": "stream",
     "text": [
      "Fitting estimator with 2675 features.\n"
     ]
    },
    {
     "name": "stderr",
     "output_type": "stream",
     "text": [
      "/home/jsimon/anaconda3/envs/thesis/lib/python3.7/site-packages/sklearn/linear_model/coordinate_descent.py:492: ConvergenceWarning: Objective did not converge. You might want to increase the number of iterations. Fitting data with very small alpha may cause precision problems.\n",
      "  ConvergenceWarning)\n"
     ]
    },
    {
     "name": "stdout",
     "output_type": "stream",
     "text": [
      "Fitting estimator with 2484 features.\n"
     ]
    },
    {
     "name": "stderr",
     "output_type": "stream",
     "text": [
      "/home/jsimon/anaconda3/envs/thesis/lib/python3.7/site-packages/sklearn/linear_model/coordinate_descent.py:492: ConvergenceWarning: Objective did not converge. You might want to increase the number of iterations. Fitting data with very small alpha may cause precision problems.\n",
      "  ConvergenceWarning)\n"
     ]
    },
    {
     "name": "stdout",
     "output_type": "stream",
     "text": [
      "Fitting estimator with 2293 features.\n"
     ]
    },
    {
     "name": "stderr",
     "output_type": "stream",
     "text": [
      "/home/jsimon/anaconda3/envs/thesis/lib/python3.7/site-packages/sklearn/linear_model/coordinate_descent.py:492: ConvergenceWarning: Objective did not converge. You might want to increase the number of iterations. Fitting data with very small alpha may cause precision problems.\n",
      "  ConvergenceWarning)\n"
     ]
    },
    {
     "name": "stdout",
     "output_type": "stream",
     "text": [
      "Fitting estimator with 2102 features.\n"
     ]
    },
    {
     "name": "stderr",
     "output_type": "stream",
     "text": [
      "/home/jsimon/anaconda3/envs/thesis/lib/python3.7/site-packages/sklearn/linear_model/coordinate_descent.py:492: ConvergenceWarning: Objective did not converge. You might want to increase the number of iterations. Fitting data with very small alpha may cause precision problems.\n",
      "  ConvergenceWarning)\n"
     ]
    },
    {
     "name": "stdout",
     "output_type": "stream",
     "text": [
      "Fitting estimator with 1911 features.\n"
     ]
    },
    {
     "name": "stderr",
     "output_type": "stream",
     "text": [
      "/home/jsimon/anaconda3/envs/thesis/lib/python3.7/site-packages/sklearn/linear_model/coordinate_descent.py:492: ConvergenceWarning: Objective did not converge. You might want to increase the number of iterations. Fitting data with very small alpha may cause precision problems.\n",
      "  ConvergenceWarning)\n"
     ]
    },
    {
     "name": "stdout",
     "output_type": "stream",
     "text": [
      "Fitting estimator with 1720 features.\n"
     ]
    },
    {
     "name": "stderr",
     "output_type": "stream",
     "text": [
      "/home/jsimon/anaconda3/envs/thesis/lib/python3.7/site-packages/sklearn/linear_model/coordinate_descent.py:492: ConvergenceWarning: Objective did not converge. You might want to increase the number of iterations. Fitting data with very small alpha may cause precision problems.\n",
      "  ConvergenceWarning)\n"
     ]
    },
    {
     "name": "stdout",
     "output_type": "stream",
     "text": [
      "Fitting estimator with 1529 features.\n"
     ]
    },
    {
     "name": "stderr",
     "output_type": "stream",
     "text": [
      "/home/jsimon/anaconda3/envs/thesis/lib/python3.7/site-packages/sklearn/linear_model/coordinate_descent.py:492: ConvergenceWarning: Objective did not converge. You might want to increase the number of iterations. Fitting data with very small alpha may cause precision problems.\n",
      "  ConvergenceWarning)\n"
     ]
    },
    {
     "name": "stdout",
     "output_type": "stream",
     "text": [
      "Fitting estimator with 1338 features.\n"
     ]
    },
    {
     "name": "stderr",
     "output_type": "stream",
     "text": [
      "/home/jsimon/anaconda3/envs/thesis/lib/python3.7/site-packages/sklearn/linear_model/coordinate_descent.py:492: ConvergenceWarning: Objective did not converge. You might want to increase the number of iterations. Fitting data with very small alpha may cause precision problems.\n",
      "  ConvergenceWarning)\n"
     ]
    },
    {
     "name": "stdout",
     "output_type": "stream",
     "text": [
      "Fitting estimator with 1147 features.\n"
     ]
    },
    {
     "name": "stderr",
     "output_type": "stream",
     "text": [
      "/home/jsimon/anaconda3/envs/thesis/lib/python3.7/site-packages/sklearn/linear_model/coordinate_descent.py:492: ConvergenceWarning: Objective did not converge. You might want to increase the number of iterations. Fitting data with very small alpha may cause precision problems.\n",
      "  ConvergenceWarning)\n"
     ]
    },
    {
     "name": "stdout",
     "output_type": "stream",
     "text": [
      "Fitting estimator with 956 features.\n"
     ]
    },
    {
     "name": "stderr",
     "output_type": "stream",
     "text": [
      "/home/jsimon/anaconda3/envs/thesis/lib/python3.7/site-packages/sklearn/linear_model/coordinate_descent.py:492: ConvergenceWarning: Objective did not converge. You might want to increase the number of iterations. Fitting data with very small alpha may cause precision problems.\n",
      "  ConvergenceWarning)\n"
     ]
    },
    {
     "name": "stdout",
     "output_type": "stream",
     "text": [
      "Fitting estimator with 765 features.\n"
     ]
    },
    {
     "name": "stderr",
     "output_type": "stream",
     "text": [
      "/home/jsimon/anaconda3/envs/thesis/lib/python3.7/site-packages/sklearn/linear_model/coordinate_descent.py:492: ConvergenceWarning: Objective did not converge. You might want to increase the number of iterations. Fitting data with very small alpha may cause precision problems.\n",
      "  ConvergenceWarning)\n"
     ]
    },
    {
     "name": "stdout",
     "output_type": "stream",
     "text": [
      "Fitting estimator with 574 features.\n"
     ]
    },
    {
     "name": "stderr",
     "output_type": "stream",
     "text": [
      "/home/jsimon/anaconda3/envs/thesis/lib/python3.7/site-packages/sklearn/linear_model/coordinate_descent.py:492: ConvergenceWarning: Objective did not converge. You might want to increase the number of iterations. Fitting data with very small alpha may cause precision problems.\n",
      "  ConvergenceWarning)\n"
     ]
    },
    {
     "name": "stdout",
     "output_type": "stream",
     "text": [
      "Fitting estimator with 383 features.\n"
     ]
    },
    {
     "name": "stderr",
     "output_type": "stream",
     "text": [
      "/home/jsimon/anaconda3/envs/thesis/lib/python3.7/site-packages/sklearn/linear_model/coordinate_descent.py:492: ConvergenceWarning: Objective did not converge. You might want to increase the number of iterations. Fitting data with very small alpha may cause precision problems.\n",
      "  ConvergenceWarning)\n"
     ]
    },
    {
     "name": "stdout",
     "output_type": "stream",
     "text": [
      "Fitting estimator with 192 features.\n",
      "Fitting estimator with 3821 features.\n"
     ]
    },
    {
     "name": "stderr",
     "output_type": "stream",
     "text": [
      "/home/jsimon/anaconda3/envs/thesis/lib/python3.7/site-packages/sklearn/linear_model/coordinate_descent.py:492: ConvergenceWarning: Objective did not converge. You might want to increase the number of iterations. Fitting data with very small alpha may cause precision problems.\n",
      "  ConvergenceWarning)\n"
     ]
    },
    {
     "name": "stdout",
     "output_type": "stream",
     "text": [
      "Fitting estimator with 3630 features.\n"
     ]
    },
    {
     "name": "stderr",
     "output_type": "stream",
     "text": [
      "/home/jsimon/anaconda3/envs/thesis/lib/python3.7/site-packages/sklearn/linear_model/coordinate_descent.py:492: ConvergenceWarning: Objective did not converge. You might want to increase the number of iterations. Fitting data with very small alpha may cause precision problems.\n",
      "  ConvergenceWarning)\n"
     ]
    },
    {
     "name": "stdout",
     "output_type": "stream",
     "text": [
      "Fitting estimator with 3439 features.\n"
     ]
    },
    {
     "name": "stderr",
     "output_type": "stream",
     "text": [
      "/home/jsimon/anaconda3/envs/thesis/lib/python3.7/site-packages/sklearn/linear_model/coordinate_descent.py:492: ConvergenceWarning: Objective did not converge. You might want to increase the number of iterations. Fitting data with very small alpha may cause precision problems.\n",
      "  ConvergenceWarning)\n"
     ]
    },
    {
     "name": "stdout",
     "output_type": "stream",
     "text": [
      "Fitting estimator with 3248 features.\n"
     ]
    },
    {
     "name": "stderr",
     "output_type": "stream",
     "text": [
      "/home/jsimon/anaconda3/envs/thesis/lib/python3.7/site-packages/sklearn/linear_model/coordinate_descent.py:492: ConvergenceWarning: Objective did not converge. You might want to increase the number of iterations. Fitting data with very small alpha may cause precision problems.\n",
      "  ConvergenceWarning)\n"
     ]
    },
    {
     "name": "stdout",
     "output_type": "stream",
     "text": [
      "Fitting estimator with 3057 features.\n"
     ]
    },
    {
     "name": "stderr",
     "output_type": "stream",
     "text": [
      "/home/jsimon/anaconda3/envs/thesis/lib/python3.7/site-packages/sklearn/linear_model/coordinate_descent.py:492: ConvergenceWarning: Objective did not converge. You might want to increase the number of iterations. Fitting data with very small alpha may cause precision problems.\n",
      "  ConvergenceWarning)\n"
     ]
    },
    {
     "name": "stdout",
     "output_type": "stream",
     "text": [
      "Fitting estimator with 2866 features.\n"
     ]
    },
    {
     "name": "stderr",
     "output_type": "stream",
     "text": [
      "/home/jsimon/anaconda3/envs/thesis/lib/python3.7/site-packages/sklearn/linear_model/coordinate_descent.py:492: ConvergenceWarning: Objective did not converge. You might want to increase the number of iterations. Fitting data with very small alpha may cause precision problems.\n",
      "  ConvergenceWarning)\n"
     ]
    },
    {
     "name": "stdout",
     "output_type": "stream",
     "text": [
      "Fitting estimator with 2675 features.\n"
     ]
    },
    {
     "name": "stderr",
     "output_type": "stream",
     "text": [
      "/home/jsimon/anaconda3/envs/thesis/lib/python3.7/site-packages/sklearn/linear_model/coordinate_descent.py:492: ConvergenceWarning: Objective did not converge. You might want to increase the number of iterations. Fitting data with very small alpha may cause precision problems.\n",
      "  ConvergenceWarning)\n"
     ]
    },
    {
     "name": "stdout",
     "output_type": "stream",
     "text": [
      "Fitting estimator with 2484 features.\n"
     ]
    },
    {
     "name": "stderr",
     "output_type": "stream",
     "text": [
      "/home/jsimon/anaconda3/envs/thesis/lib/python3.7/site-packages/sklearn/linear_model/coordinate_descent.py:492: ConvergenceWarning: Objective did not converge. You might want to increase the number of iterations. Fitting data with very small alpha may cause precision problems.\n",
      "  ConvergenceWarning)\n"
     ]
    },
    {
     "name": "stdout",
     "output_type": "stream",
     "text": [
      "Fitting estimator with 2293 features.\n"
     ]
    },
    {
     "name": "stderr",
     "output_type": "stream",
     "text": [
      "/home/jsimon/anaconda3/envs/thesis/lib/python3.7/site-packages/sklearn/linear_model/coordinate_descent.py:492: ConvergenceWarning: Objective did not converge. You might want to increase the number of iterations. Fitting data with very small alpha may cause precision problems.\n",
      "  ConvergenceWarning)\n"
     ]
    },
    {
     "name": "stdout",
     "output_type": "stream",
     "text": [
      "Fitting estimator with 2102 features.\n"
     ]
    },
    {
     "name": "stderr",
     "output_type": "stream",
     "text": [
      "/home/jsimon/anaconda3/envs/thesis/lib/python3.7/site-packages/sklearn/linear_model/coordinate_descent.py:492: ConvergenceWarning: Objective did not converge. You might want to increase the number of iterations. Fitting data with very small alpha may cause precision problems.\n",
      "  ConvergenceWarning)\n"
     ]
    },
    {
     "name": "stdout",
     "output_type": "stream",
     "text": [
      "Fitting estimator with 1911 features.\n"
     ]
    },
    {
     "name": "stderr",
     "output_type": "stream",
     "text": [
      "/home/jsimon/anaconda3/envs/thesis/lib/python3.7/site-packages/sklearn/linear_model/coordinate_descent.py:492: ConvergenceWarning: Objective did not converge. You might want to increase the number of iterations. Fitting data with very small alpha may cause precision problems.\n",
      "  ConvergenceWarning)\n"
     ]
    },
    {
     "name": "stdout",
     "output_type": "stream",
     "text": [
      "Fitting estimator with 1720 features.\n"
     ]
    },
    {
     "name": "stderr",
     "output_type": "stream",
     "text": [
      "/home/jsimon/anaconda3/envs/thesis/lib/python3.7/site-packages/sklearn/linear_model/coordinate_descent.py:492: ConvergenceWarning: Objective did not converge. You might want to increase the number of iterations. Fitting data with very small alpha may cause precision problems.\n",
      "  ConvergenceWarning)\n"
     ]
    },
    {
     "name": "stdout",
     "output_type": "stream",
     "text": [
      "Fitting estimator with 1529 features.\n"
     ]
    },
    {
     "name": "stderr",
     "output_type": "stream",
     "text": [
      "/home/jsimon/anaconda3/envs/thesis/lib/python3.7/site-packages/sklearn/linear_model/coordinate_descent.py:492: ConvergenceWarning: Objective did not converge. You might want to increase the number of iterations. Fitting data with very small alpha may cause precision problems.\n",
      "  ConvergenceWarning)\n"
     ]
    },
    {
     "name": "stdout",
     "output_type": "stream",
     "text": [
      "Fitting estimator with 1338 features.\n"
     ]
    },
    {
     "name": "stderr",
     "output_type": "stream",
     "text": [
      "/home/jsimon/anaconda3/envs/thesis/lib/python3.7/site-packages/sklearn/linear_model/coordinate_descent.py:492: ConvergenceWarning: Objective did not converge. You might want to increase the number of iterations. Fitting data with very small alpha may cause precision problems.\n",
      "  ConvergenceWarning)\n"
     ]
    },
    {
     "name": "stdout",
     "output_type": "stream",
     "text": [
      "Fitting estimator with 1147 features.\n"
     ]
    },
    {
     "name": "stderr",
     "output_type": "stream",
     "text": [
      "/home/jsimon/anaconda3/envs/thesis/lib/python3.7/site-packages/sklearn/linear_model/coordinate_descent.py:492: ConvergenceWarning: Objective did not converge. You might want to increase the number of iterations. Fitting data with very small alpha may cause precision problems.\n",
      "  ConvergenceWarning)\n"
     ]
    },
    {
     "name": "stdout",
     "output_type": "stream",
     "text": [
      "Fitting estimator with 956 features.\n"
     ]
    },
    {
     "name": "stderr",
     "output_type": "stream",
     "text": [
      "/home/jsimon/anaconda3/envs/thesis/lib/python3.7/site-packages/sklearn/linear_model/coordinate_descent.py:492: ConvergenceWarning: Objective did not converge. You might want to increase the number of iterations. Fitting data with very small alpha may cause precision problems.\n",
      "  ConvergenceWarning)\n"
     ]
    },
    {
     "name": "stdout",
     "output_type": "stream",
     "text": [
      "Fitting estimator with 765 features.\n"
     ]
    },
    {
     "name": "stderr",
     "output_type": "stream",
     "text": [
      "/home/jsimon/anaconda3/envs/thesis/lib/python3.7/site-packages/sklearn/linear_model/coordinate_descent.py:492: ConvergenceWarning: Objective did not converge. You might want to increase the number of iterations. Fitting data with very small alpha may cause precision problems.\n",
      "  ConvergenceWarning)\n"
     ]
    },
    {
     "name": "stdout",
     "output_type": "stream",
     "text": [
      "Fitting estimator with 574 features.\n"
     ]
    },
    {
     "name": "stderr",
     "output_type": "stream",
     "text": [
      "/home/jsimon/anaconda3/envs/thesis/lib/python3.7/site-packages/sklearn/linear_model/coordinate_descent.py:492: ConvergenceWarning: Objective did not converge. You might want to increase the number of iterations. Fitting data with very small alpha may cause precision problems.\n",
      "  ConvergenceWarning)\n"
     ]
    },
    {
     "name": "stdout",
     "output_type": "stream",
     "text": [
      "Fitting estimator with 383 features.\n"
     ]
    },
    {
     "name": "stderr",
     "output_type": "stream",
     "text": [
      "/home/jsimon/anaconda3/envs/thesis/lib/python3.7/site-packages/sklearn/linear_model/coordinate_descent.py:492: ConvergenceWarning: Objective did not converge. You might want to increase the number of iterations. Fitting data with very small alpha may cause precision problems.\n",
      "  ConvergenceWarning)\n"
     ]
    },
    {
     "name": "stdout",
     "output_type": "stream",
     "text": [
      "Fitting estimator with 192 features.\n"
     ]
    },
    {
     "name": "stderr",
     "output_type": "stream",
     "text": [
      "/home/jsimon/anaconda3/envs/thesis/lib/python3.7/site-packages/sklearn/linear_model/coordinate_descent.py:492: ConvergenceWarning: Objective did not converge. You might want to increase the number of iterations. Fitting data with very small alpha may cause precision problems.\n",
      "  ConvergenceWarning)\n"
     ]
    },
    {
     "name": "stdout",
     "output_type": "stream",
     "text": [
      "Fitting estimator with 3821 features.\n"
     ]
    },
    {
     "name": "stderr",
     "output_type": "stream",
     "text": [
      "/home/jsimon/anaconda3/envs/thesis/lib/python3.7/site-packages/sklearn/linear_model/coordinate_descent.py:492: ConvergenceWarning: Objective did not converge. You might want to increase the number of iterations. Fitting data with very small alpha may cause precision problems.\n",
      "  ConvergenceWarning)\n"
     ]
    },
    {
     "name": "stdout",
     "output_type": "stream",
     "text": [
      "Fitting estimator with 3630 features.\n"
     ]
    },
    {
     "name": "stderr",
     "output_type": "stream",
     "text": [
      "/home/jsimon/anaconda3/envs/thesis/lib/python3.7/site-packages/sklearn/linear_model/coordinate_descent.py:492: ConvergenceWarning: Objective did not converge. You might want to increase the number of iterations. Fitting data with very small alpha may cause precision problems.\n",
      "  ConvergenceWarning)\n"
     ]
    },
    {
     "name": "stdout",
     "output_type": "stream",
     "text": [
      "Fitting estimator with 3439 features.\n"
     ]
    },
    {
     "name": "stderr",
     "output_type": "stream",
     "text": [
      "/home/jsimon/anaconda3/envs/thesis/lib/python3.7/site-packages/sklearn/linear_model/coordinate_descent.py:492: ConvergenceWarning: Objective did not converge. You might want to increase the number of iterations. Fitting data with very small alpha may cause precision problems.\n",
      "  ConvergenceWarning)\n"
     ]
    },
    {
     "name": "stdout",
     "output_type": "stream",
     "text": [
      "Fitting estimator with 3248 features.\n"
     ]
    },
    {
     "name": "stderr",
     "output_type": "stream",
     "text": [
      "/home/jsimon/anaconda3/envs/thesis/lib/python3.7/site-packages/sklearn/linear_model/coordinate_descent.py:492: ConvergenceWarning: Objective did not converge. You might want to increase the number of iterations. Fitting data with very small alpha may cause precision problems.\n",
      "  ConvergenceWarning)\n"
     ]
    },
    {
     "name": "stdout",
     "output_type": "stream",
     "text": [
      "Fitting estimator with 3057 features.\n"
     ]
    },
    {
     "name": "stderr",
     "output_type": "stream",
     "text": [
      "/home/jsimon/anaconda3/envs/thesis/lib/python3.7/site-packages/sklearn/linear_model/coordinate_descent.py:492: ConvergenceWarning: Objective did not converge. You might want to increase the number of iterations. Fitting data with very small alpha may cause precision problems.\n",
      "  ConvergenceWarning)\n"
     ]
    },
    {
     "name": "stdout",
     "output_type": "stream",
     "text": [
      "Fitting estimator with 2866 features.\n"
     ]
    },
    {
     "name": "stderr",
     "output_type": "stream",
     "text": [
      "/home/jsimon/anaconda3/envs/thesis/lib/python3.7/site-packages/sklearn/linear_model/coordinate_descent.py:492: ConvergenceWarning: Objective did not converge. You might want to increase the number of iterations. Fitting data with very small alpha may cause precision problems.\n",
      "  ConvergenceWarning)\n"
     ]
    },
    {
     "name": "stdout",
     "output_type": "stream",
     "text": [
      "Fitting estimator with 2675 features.\n"
     ]
    },
    {
     "name": "stderr",
     "output_type": "stream",
     "text": [
      "/home/jsimon/anaconda3/envs/thesis/lib/python3.7/site-packages/sklearn/linear_model/coordinate_descent.py:492: ConvergenceWarning: Objective did not converge. You might want to increase the number of iterations. Fitting data with very small alpha may cause precision problems.\n",
      "  ConvergenceWarning)\n"
     ]
    },
    {
     "name": "stdout",
     "output_type": "stream",
     "text": [
      "Fitting estimator with 2484 features.\n"
     ]
    },
    {
     "name": "stderr",
     "output_type": "stream",
     "text": [
      "/home/jsimon/anaconda3/envs/thesis/lib/python3.7/site-packages/sklearn/linear_model/coordinate_descent.py:492: ConvergenceWarning: Objective did not converge. You might want to increase the number of iterations. Fitting data with very small alpha may cause precision problems.\n",
      "  ConvergenceWarning)\n"
     ]
    },
    {
     "name": "stdout",
     "output_type": "stream",
     "text": [
      "Fitting estimator with 2293 features.\n"
     ]
    },
    {
     "name": "stderr",
     "output_type": "stream",
     "text": [
      "/home/jsimon/anaconda3/envs/thesis/lib/python3.7/site-packages/sklearn/linear_model/coordinate_descent.py:492: ConvergenceWarning: Objective did not converge. You might want to increase the number of iterations. Fitting data with very small alpha may cause precision problems.\n",
      "  ConvergenceWarning)\n"
     ]
    },
    {
     "name": "stdout",
     "output_type": "stream",
     "text": [
      "Fitting estimator with 2102 features.\n"
     ]
    },
    {
     "name": "stderr",
     "output_type": "stream",
     "text": [
      "/home/jsimon/anaconda3/envs/thesis/lib/python3.7/site-packages/sklearn/linear_model/coordinate_descent.py:492: ConvergenceWarning: Objective did not converge. You might want to increase the number of iterations. Fitting data with very small alpha may cause precision problems.\n",
      "  ConvergenceWarning)\n"
     ]
    },
    {
     "name": "stdout",
     "output_type": "stream",
     "text": [
      "Fitting estimator with 1911 features.\n"
     ]
    },
    {
     "name": "stderr",
     "output_type": "stream",
     "text": [
      "/home/jsimon/anaconda3/envs/thesis/lib/python3.7/site-packages/sklearn/linear_model/coordinate_descent.py:492: ConvergenceWarning: Objective did not converge. You might want to increase the number of iterations. Fitting data with very small alpha may cause precision problems.\n",
      "  ConvergenceWarning)\n"
     ]
    },
    {
     "name": "stdout",
     "output_type": "stream",
     "text": [
      "Fitting estimator with 1720 features.\n"
     ]
    },
    {
     "name": "stderr",
     "output_type": "stream",
     "text": [
      "/home/jsimon/anaconda3/envs/thesis/lib/python3.7/site-packages/sklearn/linear_model/coordinate_descent.py:492: ConvergenceWarning: Objective did not converge. You might want to increase the number of iterations. Fitting data with very small alpha may cause precision problems.\n",
      "  ConvergenceWarning)\n"
     ]
    },
    {
     "name": "stdout",
     "output_type": "stream",
     "text": [
      "Fitting estimator with 1529 features.\n"
     ]
    },
    {
     "name": "stderr",
     "output_type": "stream",
     "text": [
      "/home/jsimon/anaconda3/envs/thesis/lib/python3.7/site-packages/sklearn/linear_model/coordinate_descent.py:492: ConvergenceWarning: Objective did not converge. You might want to increase the number of iterations. Fitting data with very small alpha may cause precision problems.\n",
      "  ConvergenceWarning)\n"
     ]
    },
    {
     "name": "stdout",
     "output_type": "stream",
     "text": [
      "Fitting estimator with 1338 features.\n"
     ]
    },
    {
     "name": "stderr",
     "output_type": "stream",
     "text": [
      "/home/jsimon/anaconda3/envs/thesis/lib/python3.7/site-packages/sklearn/linear_model/coordinate_descent.py:492: ConvergenceWarning: Objective did not converge. You might want to increase the number of iterations. Fitting data with very small alpha may cause precision problems.\n",
      "  ConvergenceWarning)\n"
     ]
    },
    {
     "name": "stdout",
     "output_type": "stream",
     "text": [
      "Fitting estimator with 1147 features.\n"
     ]
    },
    {
     "name": "stderr",
     "output_type": "stream",
     "text": [
      "/home/jsimon/anaconda3/envs/thesis/lib/python3.7/site-packages/sklearn/linear_model/coordinate_descent.py:492: ConvergenceWarning: Objective did not converge. You might want to increase the number of iterations. Fitting data with very small alpha may cause precision problems.\n",
      "  ConvergenceWarning)\n"
     ]
    },
    {
     "name": "stdout",
     "output_type": "stream",
     "text": [
      "Fitting estimator with 956 features.\n"
     ]
    },
    {
     "name": "stderr",
     "output_type": "stream",
     "text": [
      "/home/jsimon/anaconda3/envs/thesis/lib/python3.7/site-packages/sklearn/linear_model/coordinate_descent.py:492: ConvergenceWarning: Objective did not converge. You might want to increase the number of iterations. Fitting data with very small alpha may cause precision problems.\n",
      "  ConvergenceWarning)\n"
     ]
    },
    {
     "name": "stdout",
     "output_type": "stream",
     "text": [
      "Fitting estimator with 765 features.\n"
     ]
    },
    {
     "name": "stderr",
     "output_type": "stream",
     "text": [
      "/home/jsimon/anaconda3/envs/thesis/lib/python3.7/site-packages/sklearn/linear_model/coordinate_descent.py:492: ConvergenceWarning: Objective did not converge. You might want to increase the number of iterations. Fitting data with very small alpha may cause precision problems.\n",
      "  ConvergenceWarning)\n"
     ]
    },
    {
     "name": "stdout",
     "output_type": "stream",
     "text": [
      "Fitting estimator with 574 features.\n"
     ]
    },
    {
     "name": "stderr",
     "output_type": "stream",
     "text": [
      "/home/jsimon/anaconda3/envs/thesis/lib/python3.7/site-packages/sklearn/linear_model/coordinate_descent.py:492: ConvergenceWarning: Objective did not converge. You might want to increase the number of iterations. Fitting data with very small alpha may cause precision problems.\n",
      "  ConvergenceWarning)\n"
     ]
    },
    {
     "name": "stdout",
     "output_type": "stream",
     "text": [
      "Fitting estimator with 383 features.\n"
     ]
    },
    {
     "name": "stderr",
     "output_type": "stream",
     "text": [
      "/home/jsimon/anaconda3/envs/thesis/lib/python3.7/site-packages/sklearn/linear_model/coordinate_descent.py:492: ConvergenceWarning: Objective did not converge. You might want to increase the number of iterations. Fitting data with very small alpha may cause precision problems.\n",
      "  ConvergenceWarning)\n"
     ]
    },
    {
     "name": "stdout",
     "output_type": "stream",
     "text": [
      "Fitting estimator with 192 features.\n"
     ]
    },
    {
     "name": "stderr",
     "output_type": "stream",
     "text": [
      "/home/jsimon/anaconda3/envs/thesis/lib/python3.7/site-packages/sklearn/linear_model/coordinate_descent.py:492: ConvergenceWarning: Objective did not converge. You might want to increase the number of iterations. Fitting data with very small alpha may cause precision problems.\n",
      "  ConvergenceWarning)\n"
     ]
    },
    {
     "name": "stdout",
     "output_type": "stream",
     "text": [
      "Fitting estimator with 3821 features.\n"
     ]
    },
    {
     "name": "stderr",
     "output_type": "stream",
     "text": [
      "/home/jsimon/anaconda3/envs/thesis/lib/python3.7/site-packages/sklearn/linear_model/coordinate_descent.py:492: ConvergenceWarning: Objective did not converge. You might want to increase the number of iterations. Fitting data with very small alpha may cause precision problems.\n",
      "  ConvergenceWarning)\n"
     ]
    },
    {
     "name": "stdout",
     "output_type": "stream",
     "text": [
      "Fitting estimator with 3630 features.\n"
     ]
    },
    {
     "name": "stderr",
     "output_type": "stream",
     "text": [
      "/home/jsimon/anaconda3/envs/thesis/lib/python3.7/site-packages/sklearn/linear_model/coordinate_descent.py:492: ConvergenceWarning: Objective did not converge. You might want to increase the number of iterations. Fitting data with very small alpha may cause precision problems.\n",
      "  ConvergenceWarning)\n"
     ]
    },
    {
     "name": "stdout",
     "output_type": "stream",
     "text": [
      "Fitting estimator with 3439 features.\n"
     ]
    },
    {
     "name": "stderr",
     "output_type": "stream",
     "text": [
      "/home/jsimon/anaconda3/envs/thesis/lib/python3.7/site-packages/sklearn/linear_model/coordinate_descent.py:492: ConvergenceWarning: Objective did not converge. You might want to increase the number of iterations. Fitting data with very small alpha may cause precision problems.\n",
      "  ConvergenceWarning)\n"
     ]
    },
    {
     "name": "stdout",
     "output_type": "stream",
     "text": [
      "Fitting estimator with 3248 features.\n"
     ]
    },
    {
     "name": "stderr",
     "output_type": "stream",
     "text": [
      "/home/jsimon/anaconda3/envs/thesis/lib/python3.7/site-packages/sklearn/linear_model/coordinate_descent.py:492: ConvergenceWarning: Objective did not converge. You might want to increase the number of iterations. Fitting data with very small alpha may cause precision problems.\n",
      "  ConvergenceWarning)\n"
     ]
    },
    {
     "name": "stdout",
     "output_type": "stream",
     "text": [
      "Fitting estimator with 3057 features.\n"
     ]
    },
    {
     "name": "stderr",
     "output_type": "stream",
     "text": [
      "/home/jsimon/anaconda3/envs/thesis/lib/python3.7/site-packages/sklearn/linear_model/coordinate_descent.py:492: ConvergenceWarning: Objective did not converge. You might want to increase the number of iterations. Fitting data with very small alpha may cause precision problems.\n",
      "  ConvergenceWarning)\n"
     ]
    },
    {
     "name": "stdout",
     "output_type": "stream",
     "text": [
      "Fitting estimator with 2866 features.\n"
     ]
    },
    {
     "name": "stderr",
     "output_type": "stream",
     "text": [
      "/home/jsimon/anaconda3/envs/thesis/lib/python3.7/site-packages/sklearn/linear_model/coordinate_descent.py:492: ConvergenceWarning: Objective did not converge. You might want to increase the number of iterations. Fitting data with very small alpha may cause precision problems.\n",
      "  ConvergenceWarning)\n"
     ]
    },
    {
     "name": "stdout",
     "output_type": "stream",
     "text": [
      "Fitting estimator with 2675 features.\n"
     ]
    },
    {
     "name": "stderr",
     "output_type": "stream",
     "text": [
      "/home/jsimon/anaconda3/envs/thesis/lib/python3.7/site-packages/sklearn/linear_model/coordinate_descent.py:492: ConvergenceWarning: Objective did not converge. You might want to increase the number of iterations. Fitting data with very small alpha may cause precision problems.\n",
      "  ConvergenceWarning)\n"
     ]
    },
    {
     "name": "stdout",
     "output_type": "stream",
     "text": [
      "Fitting estimator with 2484 features.\n"
     ]
    },
    {
     "name": "stderr",
     "output_type": "stream",
     "text": [
      "/home/jsimon/anaconda3/envs/thesis/lib/python3.7/site-packages/sklearn/linear_model/coordinate_descent.py:492: ConvergenceWarning: Objective did not converge. You might want to increase the number of iterations. Fitting data with very small alpha may cause precision problems.\n",
      "  ConvergenceWarning)\n"
     ]
    },
    {
     "name": "stdout",
     "output_type": "stream",
     "text": [
      "Fitting estimator with 2293 features.\n"
     ]
    },
    {
     "name": "stderr",
     "output_type": "stream",
     "text": [
      "/home/jsimon/anaconda3/envs/thesis/lib/python3.7/site-packages/sklearn/linear_model/coordinate_descent.py:492: ConvergenceWarning: Objective did not converge. You might want to increase the number of iterations. Fitting data with very small alpha may cause precision problems.\n",
      "  ConvergenceWarning)\n"
     ]
    },
    {
     "name": "stdout",
     "output_type": "stream",
     "text": [
      "Fitting estimator with 2102 features.\n"
     ]
    },
    {
     "name": "stderr",
     "output_type": "stream",
     "text": [
      "/home/jsimon/anaconda3/envs/thesis/lib/python3.7/site-packages/sklearn/linear_model/coordinate_descent.py:492: ConvergenceWarning: Objective did not converge. You might want to increase the number of iterations. Fitting data with very small alpha may cause precision problems.\n",
      "  ConvergenceWarning)\n"
     ]
    },
    {
     "name": "stdout",
     "output_type": "stream",
     "text": [
      "Fitting estimator with 1911 features.\n"
     ]
    },
    {
     "name": "stderr",
     "output_type": "stream",
     "text": [
      "/home/jsimon/anaconda3/envs/thesis/lib/python3.7/site-packages/sklearn/linear_model/coordinate_descent.py:492: ConvergenceWarning: Objective did not converge. You might want to increase the number of iterations. Fitting data with very small alpha may cause precision problems.\n",
      "  ConvergenceWarning)\n"
     ]
    },
    {
     "name": "stdout",
     "output_type": "stream",
     "text": [
      "Fitting estimator with 1720 features.\n"
     ]
    },
    {
     "name": "stderr",
     "output_type": "stream",
     "text": [
      "/home/jsimon/anaconda3/envs/thesis/lib/python3.7/site-packages/sklearn/linear_model/coordinate_descent.py:492: ConvergenceWarning: Objective did not converge. You might want to increase the number of iterations. Fitting data with very small alpha may cause precision problems.\n",
      "  ConvergenceWarning)\n"
     ]
    },
    {
     "name": "stdout",
     "output_type": "stream",
     "text": [
      "Fitting estimator with 1529 features.\n"
     ]
    },
    {
     "name": "stderr",
     "output_type": "stream",
     "text": [
      "/home/jsimon/anaconda3/envs/thesis/lib/python3.7/site-packages/sklearn/linear_model/coordinate_descent.py:492: ConvergenceWarning: Objective did not converge. You might want to increase the number of iterations. Fitting data with very small alpha may cause precision problems.\n",
      "  ConvergenceWarning)\n"
     ]
    },
    {
     "name": "stdout",
     "output_type": "stream",
     "text": [
      "Fitting estimator with 1338 features.\n"
     ]
    },
    {
     "name": "stderr",
     "output_type": "stream",
     "text": [
      "/home/jsimon/anaconda3/envs/thesis/lib/python3.7/site-packages/sklearn/linear_model/coordinate_descent.py:492: ConvergenceWarning: Objective did not converge. You might want to increase the number of iterations. Fitting data with very small alpha may cause precision problems.\n",
      "  ConvergenceWarning)\n"
     ]
    },
    {
     "name": "stdout",
     "output_type": "stream",
     "text": [
      "Fitting estimator with 1147 features.\n"
     ]
    },
    {
     "name": "stderr",
     "output_type": "stream",
     "text": [
      "/home/jsimon/anaconda3/envs/thesis/lib/python3.7/site-packages/sklearn/linear_model/coordinate_descent.py:492: ConvergenceWarning: Objective did not converge. You might want to increase the number of iterations. Fitting data with very small alpha may cause precision problems.\n",
      "  ConvergenceWarning)\n"
     ]
    },
    {
     "name": "stdout",
     "output_type": "stream",
     "text": [
      "Fitting estimator with 956 features.\n"
     ]
    },
    {
     "name": "stderr",
     "output_type": "stream",
     "text": [
      "/home/jsimon/anaconda3/envs/thesis/lib/python3.7/site-packages/sklearn/linear_model/coordinate_descent.py:492: ConvergenceWarning: Objective did not converge. You might want to increase the number of iterations. Fitting data with very small alpha may cause precision problems.\n",
      "  ConvergenceWarning)\n"
     ]
    },
    {
     "name": "stdout",
     "output_type": "stream",
     "text": [
      "Fitting estimator with 765 features.\n"
     ]
    },
    {
     "name": "stderr",
     "output_type": "stream",
     "text": [
      "/home/jsimon/anaconda3/envs/thesis/lib/python3.7/site-packages/sklearn/linear_model/coordinate_descent.py:492: ConvergenceWarning: Objective did not converge. You might want to increase the number of iterations. Fitting data with very small alpha may cause precision problems.\n",
      "  ConvergenceWarning)\n"
     ]
    },
    {
     "name": "stdout",
     "output_type": "stream",
     "text": [
      "Fitting estimator with 574 features.\n"
     ]
    },
    {
     "name": "stderr",
     "output_type": "stream",
     "text": [
      "/home/jsimon/anaconda3/envs/thesis/lib/python3.7/site-packages/sklearn/linear_model/coordinate_descent.py:492: ConvergenceWarning: Objective did not converge. You might want to increase the number of iterations. Fitting data with very small alpha may cause precision problems.\n",
      "  ConvergenceWarning)\n"
     ]
    },
    {
     "name": "stdout",
     "output_type": "stream",
     "text": [
      "Fitting estimator with 383 features.\n"
     ]
    },
    {
     "name": "stderr",
     "output_type": "stream",
     "text": [
      "/home/jsimon/anaconda3/envs/thesis/lib/python3.7/site-packages/sklearn/linear_model/coordinate_descent.py:492: ConvergenceWarning: Objective did not converge. You might want to increase the number of iterations. Fitting data with very small alpha may cause precision problems.\n",
      "  ConvergenceWarning)\n"
     ]
    },
    {
     "name": "stdout",
     "output_type": "stream",
     "text": [
      "Fitting estimator with 192 features.\n",
      "Fitting estimator with 3821 features.\n"
     ]
    },
    {
     "name": "stderr",
     "output_type": "stream",
     "text": [
      "/home/jsimon/anaconda3/envs/thesis/lib/python3.7/site-packages/sklearn/linear_model/coordinate_descent.py:492: ConvergenceWarning: Objective did not converge. You might want to increase the number of iterations. Fitting data with very small alpha may cause precision problems.\n",
      "  ConvergenceWarning)\n"
     ]
    },
    {
     "name": "stdout",
     "output_type": "stream",
     "text": [
      "Fitting estimator with 3630 features.\n"
     ]
    },
    {
     "name": "stderr",
     "output_type": "stream",
     "text": [
      "/home/jsimon/anaconda3/envs/thesis/lib/python3.7/site-packages/sklearn/linear_model/coordinate_descent.py:492: ConvergenceWarning: Objective did not converge. You might want to increase the number of iterations. Fitting data with very small alpha may cause precision problems.\n",
      "  ConvergenceWarning)\n"
     ]
    },
    {
     "name": "stdout",
     "output_type": "stream",
     "text": [
      "Fitting estimator with 3439 features.\n"
     ]
    },
    {
     "name": "stderr",
     "output_type": "stream",
     "text": [
      "/home/jsimon/anaconda3/envs/thesis/lib/python3.7/site-packages/sklearn/linear_model/coordinate_descent.py:492: ConvergenceWarning: Objective did not converge. You might want to increase the number of iterations. Fitting data with very small alpha may cause precision problems.\n",
      "  ConvergenceWarning)\n"
     ]
    },
    {
     "name": "stdout",
     "output_type": "stream",
     "text": [
      "Fitting estimator with 3248 features.\n"
     ]
    },
    {
     "name": "stderr",
     "output_type": "stream",
     "text": [
      "/home/jsimon/anaconda3/envs/thesis/lib/python3.7/site-packages/sklearn/linear_model/coordinate_descent.py:492: ConvergenceWarning: Objective did not converge. You might want to increase the number of iterations. Fitting data with very small alpha may cause precision problems.\n",
      "  ConvergenceWarning)\n"
     ]
    },
    {
     "name": "stdout",
     "output_type": "stream",
     "text": [
      "Fitting estimator with 3057 features.\n"
     ]
    },
    {
     "name": "stderr",
     "output_type": "stream",
     "text": [
      "/home/jsimon/anaconda3/envs/thesis/lib/python3.7/site-packages/sklearn/linear_model/coordinate_descent.py:492: ConvergenceWarning: Objective did not converge. You might want to increase the number of iterations. Fitting data with very small alpha may cause precision problems.\n",
      "  ConvergenceWarning)\n"
     ]
    },
    {
     "name": "stdout",
     "output_type": "stream",
     "text": [
      "Fitting estimator with 2866 features.\n"
     ]
    },
    {
     "name": "stderr",
     "output_type": "stream",
     "text": [
      "/home/jsimon/anaconda3/envs/thesis/lib/python3.7/site-packages/sklearn/linear_model/coordinate_descent.py:492: ConvergenceWarning: Objective did not converge. You might want to increase the number of iterations. Fitting data with very small alpha may cause precision problems.\n",
      "  ConvergenceWarning)\n"
     ]
    },
    {
     "name": "stdout",
     "output_type": "stream",
     "text": [
      "Fitting estimator with 2675 features.\n"
     ]
    },
    {
     "name": "stderr",
     "output_type": "stream",
     "text": [
      "/home/jsimon/anaconda3/envs/thesis/lib/python3.7/site-packages/sklearn/linear_model/coordinate_descent.py:492: ConvergenceWarning: Objective did not converge. You might want to increase the number of iterations. Fitting data with very small alpha may cause precision problems.\n",
      "  ConvergenceWarning)\n"
     ]
    },
    {
     "name": "stdout",
     "output_type": "stream",
     "text": [
      "Fitting estimator with 2484 features.\n"
     ]
    },
    {
     "name": "stderr",
     "output_type": "stream",
     "text": [
      "/home/jsimon/anaconda3/envs/thesis/lib/python3.7/site-packages/sklearn/linear_model/coordinate_descent.py:492: ConvergenceWarning: Objective did not converge. You might want to increase the number of iterations. Fitting data with very small alpha may cause precision problems.\n",
      "  ConvergenceWarning)\n"
     ]
    },
    {
     "name": "stdout",
     "output_type": "stream",
     "text": [
      "Fitting estimator with 2293 features.\n"
     ]
    },
    {
     "name": "stderr",
     "output_type": "stream",
     "text": [
      "/home/jsimon/anaconda3/envs/thesis/lib/python3.7/site-packages/sklearn/linear_model/coordinate_descent.py:492: ConvergenceWarning: Objective did not converge. You might want to increase the number of iterations. Fitting data with very small alpha may cause precision problems.\n",
      "  ConvergenceWarning)\n"
     ]
    },
    {
     "name": "stdout",
     "output_type": "stream",
     "text": [
      "Fitting estimator with 2102 features.\n"
     ]
    },
    {
     "name": "stderr",
     "output_type": "stream",
     "text": [
      "/home/jsimon/anaconda3/envs/thesis/lib/python3.7/site-packages/sklearn/linear_model/coordinate_descent.py:492: ConvergenceWarning: Objective did not converge. You might want to increase the number of iterations. Fitting data with very small alpha may cause precision problems.\n",
      "  ConvergenceWarning)\n"
     ]
    },
    {
     "name": "stdout",
     "output_type": "stream",
     "text": [
      "Fitting estimator with 1911 features.\n"
     ]
    },
    {
     "name": "stderr",
     "output_type": "stream",
     "text": [
      "/home/jsimon/anaconda3/envs/thesis/lib/python3.7/site-packages/sklearn/linear_model/coordinate_descent.py:492: ConvergenceWarning: Objective did not converge. You might want to increase the number of iterations. Fitting data with very small alpha may cause precision problems.\n",
      "  ConvergenceWarning)\n"
     ]
    },
    {
     "name": "stdout",
     "output_type": "stream",
     "text": [
      "Fitting estimator with 1720 features.\n"
     ]
    },
    {
     "name": "stderr",
     "output_type": "stream",
     "text": [
      "/home/jsimon/anaconda3/envs/thesis/lib/python3.7/site-packages/sklearn/linear_model/coordinate_descent.py:492: ConvergenceWarning: Objective did not converge. You might want to increase the number of iterations. Fitting data with very small alpha may cause precision problems.\n",
      "  ConvergenceWarning)\n"
     ]
    },
    {
     "name": "stdout",
     "output_type": "stream",
     "text": [
      "Fitting estimator with 1529 features.\n"
     ]
    },
    {
     "name": "stderr",
     "output_type": "stream",
     "text": [
      "/home/jsimon/anaconda3/envs/thesis/lib/python3.7/site-packages/sklearn/linear_model/coordinate_descent.py:492: ConvergenceWarning: Objective did not converge. You might want to increase the number of iterations. Fitting data with very small alpha may cause precision problems.\n",
      "  ConvergenceWarning)\n"
     ]
    },
    {
     "name": "stdout",
     "output_type": "stream",
     "text": [
      "Fitting estimator with 1338 features.\n"
     ]
    },
    {
     "name": "stderr",
     "output_type": "stream",
     "text": [
      "/home/jsimon/anaconda3/envs/thesis/lib/python3.7/site-packages/sklearn/linear_model/coordinate_descent.py:492: ConvergenceWarning: Objective did not converge. You might want to increase the number of iterations. Fitting data with very small alpha may cause precision problems.\n",
      "  ConvergenceWarning)\n"
     ]
    },
    {
     "name": "stdout",
     "output_type": "stream",
     "text": [
      "Fitting estimator with 1147 features.\n"
     ]
    },
    {
     "name": "stderr",
     "output_type": "stream",
     "text": [
      "/home/jsimon/anaconda3/envs/thesis/lib/python3.7/site-packages/sklearn/linear_model/coordinate_descent.py:492: ConvergenceWarning: Objective did not converge. You might want to increase the number of iterations. Fitting data with very small alpha may cause precision problems.\n",
      "  ConvergenceWarning)\n"
     ]
    },
    {
     "name": "stdout",
     "output_type": "stream",
     "text": [
      "Fitting estimator with 956 features.\n"
     ]
    },
    {
     "name": "stderr",
     "output_type": "stream",
     "text": [
      "/home/jsimon/anaconda3/envs/thesis/lib/python3.7/site-packages/sklearn/linear_model/coordinate_descent.py:492: ConvergenceWarning: Objective did not converge. You might want to increase the number of iterations. Fitting data with very small alpha may cause precision problems.\n",
      "  ConvergenceWarning)\n",
      "/home/jsimon/anaconda3/envs/thesis/lib/python3.7/site-packages/sklearn/linear_model/coordinate_descent.py:492: ConvergenceWarning: Objective did not converge. You might want to increase the number of iterations. Fitting data with very small alpha may cause precision problems.\n",
      "  ConvergenceWarning)\n"
     ]
    },
    {
     "name": "stdout",
     "output_type": "stream",
     "text": [
      "rfe fittet\n"
     ]
    },
    {
     "name": "stderr",
     "output_type": "stream",
     "text": [
      "/home/jsimon/anaconda3/envs/thesis/lib/python3.7/site-packages/sklearn/linear_model/coordinate_descent.py:492: ConvergenceWarning: Objective did not converge. You might want to increase the number of iterations. Fitting data with very small alpha may cause precision problems.\n",
      "  ConvergenceWarning)\n"
     ]
    },
    {
     "ename": "NameError",
     "evalue": "name 'rfecv' is not defined",
     "output_type": "error",
     "traceback": [
      "\u001b[0;31m---------------------------------------------------------------------------\u001b[0m",
      "\u001b[0;31mNameError\u001b[0m                                 Traceback (most recent call last)",
      "\u001b[0;32m<ipython-input-9-757539108084>\u001b[0m in \u001b[0;36m<module>\u001b[0;34m\u001b[0m\n\u001b[1;32m      7\u001b[0m \u001b[0mrfecv2\u001b[0m\u001b[0;34m.\u001b[0m\u001b[0mfit\u001b[0m\u001b[0;34m(\u001b[0m\u001b[0mX\u001b[0m\u001b[0;34m,\u001b[0m \u001b[0my\u001b[0m\u001b[0;34m)\u001b[0m\u001b[0;34m\u001b[0m\u001b[0;34m\u001b[0m\u001b[0m\n\u001b[1;32m      8\u001b[0m \u001b[0mprint\u001b[0m\u001b[0;34m(\u001b[0m\u001b[0;34m'rfe fittet'\u001b[0m\u001b[0;34m)\u001b[0m\u001b[0;34m\u001b[0m\u001b[0;34m\u001b[0m\u001b[0m\n\u001b[0;32m----> 9\u001b[0;31m \u001b[0mcol_index2\u001b[0m \u001b[0;34m=\u001b[0m \u001b[0mrfecv\u001b[0m\u001b[0;34m.\u001b[0m\u001b[0mget_support\u001b[0m\u001b[0;34m(\u001b[0m\u001b[0mindices\u001b[0m\u001b[0;34m=\u001b[0m\u001b[0;32mTrue\u001b[0m\u001b[0;34m)\u001b[0m\u001b[0;34m\u001b[0m\u001b[0;34m\u001b[0m\u001b[0m\n\u001b[0m",
      "\u001b[0;31mNameError\u001b[0m: name 'rfecv' is not defined"
     ]
    }
   ],
   "source": [
    "linc2 = sklearn.linear_model.Lasso(alpha = 0.01, max_iter=2000, tol=1e-3)\n",
    "print('svc start')\n",
    "linc2.fit(X, y)\n",
    "print('svc fittet')\n",
    "rfecv2 = fs.RFECV(estimator=linc2, cv=5, step=0.05, verbose=2)\n",
    "print('rfe start')\n",
    "rfecv2.fit(X, y)\n",
    "print('rfe fittet')\n",
    "col_index2 = rfecv2.get_support(indices=True)"
   ]
  },
  {
   "cell_type": "code",
   "execution_count": 11,
   "metadata": {},
   "outputs": [],
   "source": [
    "col_index2 = rfecv2.get_support(indices=True)\n",
    "Xrfe = X[:,col_index2]\n",
    "XValrfe = Xval[:,col_index2]"
   ]
  },
  {
   "cell_type": "code",
   "execution_count": 12,
   "metadata": {},
   "outputs": [
    {
     "data": {
      "text/plain": [
       "(765,)"
      ]
     },
     "execution_count": 12,
     "metadata": {},
     "output_type": "execute_result"
    }
   ],
   "source": [
    "col_index2.shape"
   ]
  },
  {
   "cell_type": "code",
   "execution_count": 13,
   "metadata": {},
   "outputs": [
    {
     "data": {
      "text/plain": [
       "array([['0_31_Thumb_base_freq_5sum', '0_46_Thumb_base_cwt_25q',\n",
       "        '0_58_Thumb_base_peak_mean', '1_26_Thumb_pressure_ff1',\n",
       "        '2_1_Angle_between_thumb_and_hand_std',\n",
       "        '2_12_Angle_between_thumb_and_hand_fft_mean',\n",
       "        '2_17_Angle_between_thumb_and_hand_fft_75q',\n",
       "        '2_23_Angle_between_thumb_and_hand_fft_mode',\n",
       "        '2_24_Angle_between_thumb_and_hand_spectral_centroid',\n",
       "        '2_27_Angle_between_thumb_and_hand_ff2',\n",
       "        '2_32_Angle_between_thumb_and_hand_bandwith',\n",
       "        '2_38_Angle_between_thumb_and_hand_cwt_sums_5',\n",
       "        '2_43_Angle_between_thumb_and_hand_cwt_mean',\n",
       "        '2_44_Angle_between_thumb_and_hand_cwt_std',\n",
       "        '2_45_Angle_between_thumb_and_hand_cwt_min',\n",
       "        '2_50_Angle_between_thumb_and_hand_cwt_range',\n",
       "        '2_55_Angle_between_thumb_and_hand_num_peaks',\n",
       "        '2_57_Angle_between_thumb_and_hand_peak_max',\n",
       "        '2_58_Angle_between_thumb_and_hand_peak_mean',\n",
       "        '3_4_Finger_1_base_median', '3_5_Finger_1_base_75q',\n",
       "        '3_6_Finger_1_base_max', '3_10_Finger_1_base_kurtosis',\n",
       "        '3_12_Finger_1_base_fft_mean', '3_13_Finger_1_base_fft_std',\n",
       "        '3_15_Finger_1_base_fft_25q', '3_17_Finger_1_base_fft_75q',\n",
       "        '3_18_Finger_1_base_fft_max', '3_19_Finger_1_base_fft_range',\n",
       "        '3_22_Finger_1_base_fft_kurtosis',\n",
       "        '3_25_Finger_1_base_spectral_entropy', '3_26_Finger_1_base_ff1',\n",
       "        '3_35_Finger_1_base_cwt_sums_2', '3_38_Finger_1_base_cwt_sums_5',\n",
       "        '4_4_Finger_1_tip_median', '4_17_Finger_1_tip_fft_75q',\n",
       "        '4_20_Finger_1_tip_fft_var', '4_21_Finger_1_tip_fft_skew',\n",
       "        '4_24_Finger_1_tip_spectral_centroid',\n",
       "        '4_25_Finger_1_tip_spectral_entropy', '4_26_Finger_1_tip_ff1',\n",
       "        '4_28_Finger_1_tip_ff3', '4_33_Finger_1_tip_cwt_sums_0',\n",
       "        '4_34_Finger_1_tip_cwt_sums_1', '4_36_Finger_1_tip_cwt_sums_3',\n",
       "        '4_40_Finger_1_tip_cwt_sums_7', '4_43_Finger_1_tip_cwt_mean',\n",
       "        '4_47_Finger_1_tip_cwt_median', '4_51_Finger_1_tip_cwt_var',\n",
       "        '4_53_Finger_1_tip_cwt_kurtosis', '4_57_Finger_1_tip_peak_max',\n",
       "        '5_1_Finger_2_base_std', '5_27_Finger_2_base_ff2',\n",
       "        '5_32_Finger_2_base_bandwith', '5_35_Finger_2_base_cwt_sums_2',\n",
       "        '5_40_Finger_2_base_cwt_sums_7', '5_55_Finger_2_base_num_peaks',\n",
       "        '6_21_Finger_2_tip_fft_skew', '6_23_Finger_2_tip_fft_mode',\n",
       "        '6_24_Finger_2_tip_spectral_centroid',\n",
       "        '6_25_Finger_2_tip_spectral_entropy', '6_26_Finger_2_tip_ff1',\n",
       "        '6_31_Finger_2_tip_freq_5sum', '6_38_Finger_2_tip_cwt_sums_5',\n",
       "        '6_44_Finger_2_tip_cwt_std', '6_45_Finger_2_tip_cwt_min',\n",
       "        '6_46_Finger_2_tip_cwt_25q', '6_53_Finger_2_tip_cwt_kurtosis',\n",
       "        '6_55_Finger_2_tip_num_peaks', '7_5_Finger_3_base_75q',\n",
       "        '8_10_Finger_3_tip_kurtosis', '8_14_Finger_3_tip_fft_min',\n",
       "        '8_28_Finger_3_tip_ff3', '8_29_Finger_3_tip_ff4',\n",
       "        '8_34_Finger_3_tip_cwt_sums_1', '8_47_Finger_3_tip_cwt_median',\n",
       "        '9_6_Finger_4_base_max', '9_28_Finger_4_base_ff3',\n",
       "        '9_29_Finger_4_base_ff4', '9_30_Finger_4_base_ff5',\n",
       "        '9_32_Finger_4_base_bandwith', '9_33_Finger_4_base_cwt_sums_0',\n",
       "        '9_42_Finger_4_base_cwt_sums_9', '10_7_Finger_4_tip_range',\n",
       "        '10_14_Finger_4_tip_fft_min', '10_21_Finger_4_tip_fft_skew',\n",
       "        '10_23_Finger_4_tip_fft_mode',\n",
       "        '10_25_Finger_4_tip_spectral_entropy', '10_26_Finger_4_tip_ff1',\n",
       "        '10_27_Finger_4_tip_ff2', '10_32_Finger_4_tip_bandwith',\n",
       "        '10_33_Finger_4_tip_cwt_sums_0', '10_39_Finger_4_tip_cwt_sums_6',\n",
       "        '10_40_Finger_4_tip_cwt_sums_7', '10_41_Finger_4_tip_cwt_sums_8',\n",
       "        '10_44_Finger_4_tip_cwt_std', '10_50_Finger_4_tip_cwt_range',\n",
       "        '10_51_Finger_4_tip_cwt_var', '10_52_Finger_4_tip_cwt_skew',\n",
       "        '10_53_Finger_4_tip_cwt_kurtosis',\n",
       "        '10_55_Finger_4_tip_num_peaks', '10_56_Finger_4_tip_peak_min',\n",
       "        '11_2_Thumb_tip_min', '11_4_Thumb_tip_median',\n",
       "        '11_5_Thumb_tip_75q', '11_31_Thumb_tip_freq_5sum',\n",
       "        '11_34_Thumb_tip_cwt_sums_1', '11_35_Thumb_tip_cwt_sums_2',\n",
       "        '11_36_Thumb_tip_cwt_sums_3', '11_43_Thumb_tip_cwt_mean',\n",
       "        '12_6_Finger_1_pressure_max', '12_9_Finger_1_pressure_skew',\n",
       "        '12_10_Finger_1_pressure_kurtosis',\n",
       "        '12_17_Finger_1_pressure_fft_75q',\n",
       "        '12_23_Finger_1_pressure_fft_mode',\n",
       "        '12_24_Finger_1_pressure_spectral_centroid',\n",
       "        '12_25_Finger_1_pressure_spectral_entropy',\n",
       "        '12_26_Finger_1_pressure_ff1', '12_27_Finger_1_pressure_ff2',\n",
       "        '12_28_Finger_1_pressure_ff3', '12_29_Finger_1_pressure_ff4',\n",
       "        '12_31_Finger_1_pressure_freq_5sum',\n",
       "        '12_32_Finger_1_pressure_bandwith',\n",
       "        '12_33_Finger_1_pressure_cwt_sums_0',\n",
       "        '12_37_Finger_1_pressure_cwt_sums_4',\n",
       "        '12_39_Finger_1_pressure_cwt_sums_6',\n",
       "        '12_42_Finger_1_pressure_cwt_sums_9',\n",
       "        '12_43_Finger_1_pressure_cwt_mean',\n",
       "        '12_49_Finger_1_pressure_cwt_max',\n",
       "        '12_52_Finger_1_pressure_cwt_skew',\n",
       "        '12_53_Finger_1_pressure_cwt_kurtosis',\n",
       "        '12_55_Finger_1_pressure_num_peaks',\n",
       "        '12_56_Finger_1_pressure_peak_min',\n",
       "        '12_58_Finger_1_pressure_peak_mean',\n",
       "        '13_4_Finger_2_pressure_median', '13_8_Finger_2_pressure_var',\n",
       "        '13_13_Finger_2_pressure_fft_std',\n",
       "        '13_36_Finger_2_pressure_cwt_sums_3',\n",
       "        '14_13_Finger_3_pressure_fft_std',\n",
       "        '14_15_Finger_3_pressure_fft_25q',\n",
       "        '14_16_Finger_3_pressure_fft_median',\n",
       "        '14_19_Finger_3_pressure_fft_range',\n",
       "        '14_21_Finger_3_pressure_fft_skew',\n",
       "        '14_54_Finger_3_pressure_cwt_mode', '15_8_Finger_4_pressure_var',\n",
       "        '15_9_Finger_4_pressure_skew',\n",
       "        '15_10_Finger_4_pressure_kurtosis',\n",
       "        '15_16_Finger_4_pressure_fft_median',\n",
       "        '15_19_Finger_4_pressure_fft_range',\n",
       "        '15_23_Finger_4_pressure_fft_mode',\n",
       "        '15_24_Finger_4_pressure_spectral_centroid',\n",
       "        '15_26_Finger_4_pressure_ff1', '15_27_Finger_4_pressure_ff2',\n",
       "        '15_29_Finger_4_pressure_ff4',\n",
       "        '15_31_Finger_4_pressure_freq_5sum',\n",
       "        '15_39_Finger_4_pressure_cwt_sums_6',\n",
       "        '15_40_Finger_4_pressure_cwt_sums_7',\n",
       "        '15_42_Finger_4_pressure_cwt_sums_9',\n",
       "        '15_45_Finger_4_pressure_cwt_min', '16_0_Wrist_extension_mean',\n",
       "        '16_8_Wrist_extension_var', '16_10_Wrist_extension_kurtosis',\n",
       "        '16_12_Wrist_extension_fft_mean',\n",
       "        '16_14_Wrist_extension_fft_min', '16_15_Wrist_extension_fft_25q',\n",
       "        '16_17_Wrist_extension_fft_75q', '16_18_Wrist_extension_fft_max',\n",
       "        '16_24_Wrist_extension_spectral_centroid',\n",
       "        '16_25_Wrist_extension_spectral_entropy',\n",
       "        '16_26_Wrist_extension_ff1', '16_29_Wrist_extension_ff4',\n",
       "        '16_33_Wrist_extension_cwt_sums_0',\n",
       "        '16_34_Wrist_extension_cwt_sums_1',\n",
       "        '16_38_Wrist_extension_cwt_sums_5',\n",
       "        '16_42_Wrist_extension_cwt_sums_9',\n",
       "        '16_45_Wrist_extension_cwt_min', '16_48_Wrist_extension_cwt_75q',\n",
       "        '16_50_Wrist_extension_cwt_range',\n",
       "        '16_51_Wrist_extension_cwt_var',\n",
       "        '16_52_Wrist_extension_cwt_skew',\n",
       "        '16_53_Wrist_extension_cwt_kurtosis',\n",
       "        '16_56_Wrist_extension_peak_min',\n",
       "        '16_57_Wrist_extension_peak_max',\n",
       "        '16_58_Wrist_extension_peak_mean', '17_3_Wrist_flexion_25q',\n",
       "        '17_5_Wrist_flexion_75q', '17_6_Wrist_flexion_max',\n",
       "        '17_10_Wrist_flexion_kurtosis', '17_11_Wrist_flexion_mode',\n",
       "        '17_18_Wrist_flexion_fft_max',\n",
       "        '17_22_Wrist_flexion_fft_kurtosis',\n",
       "        '17_24_Wrist_flexion_spectral_centroid',\n",
       "        '17_25_Wrist_flexion_spectral_entropy',\n",
       "        '17_26_Wrist_flexion_ff1', '17_31_Wrist_flexion_freq_5sum',\n",
       "        '17_33_Wrist_flexion_cwt_sums_0',\n",
       "        '17_34_Wrist_flexion_cwt_sums_1',\n",
       "        '17_35_Wrist_flexion_cwt_sums_2',\n",
       "        '17_36_Wrist_flexion_cwt_sums_3', '17_45_Wrist_flexion_cwt_min',\n",
       "        '17_48_Wrist_flexion_cwt_75q', '18_0_Finger_1_Accel_X_mean',\n",
       "        '18_29_Finger_1_Accel_X_ff4',\n",
       "        '18_35_Finger_1_Accel_X_cwt_sums_2',\n",
       "        '18_47_Finger_1_Accel_X_cwt_median',\n",
       "        '19_0_Finger_1_Accel_Y_mean',\n",
       "        '19_36_Finger_1_Accel_Y_cwt_sums_3',\n",
       "        '20_16_Finger_1_Accel_Z_fft_median',\n",
       "        '20_42_Finger_1_Accel_Z_cwt_sums_9',\n",
       "        '21_12_Finger_1_Gyro_X_fft_mean',\n",
       "        '21_13_Finger_1_Gyro_X_fft_std',\n",
       "        '22_42_Finger_1_Gyro_Y_cwt_sums_9',\n",
       "        '22_53_Finger_1_Gyro_Y_cwt_kurtosis', '23_1_Finger_1_Gyro_Z_std',\n",
       "        '23_37_Finger_1_Gyro_Z_cwt_sums_4',\n",
       "        '23_40_Finger_1_Gyro_Z_cwt_sums_7',\n",
       "        '24_21_Finger_2_Accel_X_fft_skew',\n",
       "        '24_33_Finger_2_Accel_X_cwt_sums_0',\n",
       "        '24_35_Finger_2_Accel_X_cwt_sums_2',\n",
       "        '24_36_Finger_2_Accel_X_cwt_sums_3',\n",
       "        '24_38_Finger_2_Accel_X_cwt_sums_5',\n",
       "        '24_39_Finger_2_Accel_X_cwt_sums_6',\n",
       "        '24_40_Finger_2_Accel_X_cwt_sums_7',\n",
       "        '24_45_Finger_2_Accel_X_cwt_min',\n",
       "        '24_47_Finger_2_Accel_X_cwt_median',\n",
       "        '24_48_Finger_2_Accel_X_cwt_75q',\n",
       "        '24_50_Finger_2_Accel_X_cwt_range',\n",
       "        '24_51_Finger_2_Accel_X_cwt_var',\n",
       "        '24_52_Finger_2_Accel_X_cwt_skew',\n",
       "        '24_53_Finger_2_Accel_X_cwt_kurtosis',\n",
       "        '24_57_Finger_2_Accel_X_peak_max',\n",
       "        '24_58_Finger_2_Accel_X_peak_mean', '25_0_Finger_2_Accel_Y_mean',\n",
       "        '25_1_Finger_2_Accel_Y_std', '25_2_Finger_2_Accel_Y_min',\n",
       "        '25_3_Finger_2_Accel_Y_25q', '25_4_Finger_2_Accel_Y_median',\n",
       "        '25_5_Finger_2_Accel_Y_75q', '25_6_Finger_2_Accel_Y_max',\n",
       "        '25_11_Finger_2_Accel_Y_mode', '25_12_Finger_2_Accel_Y_fft_mean',\n",
       "        '25_38_Finger_2_Accel_Y_cwt_sums_5',\n",
       "        '25_41_Finger_2_Accel_Y_cwt_sums_8',\n",
       "        '26_32_Finger_2_Accel_Z_bandwith',\n",
       "        '26_34_Finger_2_Accel_Z_cwt_sums_1',\n",
       "        '26_37_Finger_2_Accel_Z_cwt_sums_4',\n",
       "        '26_38_Finger_2_Accel_Z_cwt_sums_5',\n",
       "        '26_45_Finger_2_Accel_Z_cwt_min',\n",
       "        '26_54_Finger_2_Accel_Z_cwt_mode',\n",
       "        '26_55_Finger_2_Accel_Z_num_peaks',\n",
       "        '26_56_Finger_2_Accel_Z_peak_min', '27_4_Finger_2_Gyro_X_median',\n",
       "        '27_8_Finger_2_Gyro_X_var', '27_42_Finger_2_Gyro_X_cwt_sums_9',\n",
       "        '28_54_Finger_2_Gyro_Y_cwt_mode',\n",
       "        '28_58_Finger_2_Gyro_Y_peak_mean', '29_4_Finger_2_Gyro_Z_median',\n",
       "        '29_5_Finger_2_Gyro_Z_75q', '29_10_Finger_2_Gyro_Z_kurtosis',\n",
       "        '29_18_Finger_2_Gyro_Z_fft_max',\n",
       "        '29_21_Finger_2_Gyro_Z_fft_skew',\n",
       "        '29_22_Finger_2_Gyro_Z_fft_kurtosis',\n",
       "        '29_47_Finger_2_Gyro_Z_cwt_median',\n",
       "        '29_51_Finger_2_Gyro_Z_cwt_var',\n",
       "        '30_23_Finger_3_Accel_X_fft_mode',\n",
       "        '31_17_Finger_3_Accel_Y_fft_75q',\n",
       "        '31_23_Finger_3_Accel_Y_fft_mode', '31_29_Finger_3_Accel_Y_ff4',\n",
       "        '31_33_Finger_3_Accel_Y_cwt_sums_0',\n",
       "        '33_10_Finger_3_Gyro_X_kurtosis',\n",
       "        '34_58_Finger_3_Gyro_Y_peak_mean',\n",
       "        '35_17_Finger_3_Gyro_Z_fft_75q', '35_18_Finger_3_Gyro_Z_fft_max',\n",
       "        '35_35_Finger_3_Gyro_Z_cwt_sums_2',\n",
       "        '35_40_Finger_3_Gyro_Z_cwt_sums_7',\n",
       "        '36_36_Finger_4_Accel_X_cwt_sums_3',\n",
       "        '36_40_Finger_4_Accel_X_cwt_sums_7',\n",
       "        '36_47_Finger_4_Accel_X_cwt_median', '37_6_Finger_4_Accel_Y_max',\n",
       "        '37_7_Finger_4_Accel_Y_range', '37_12_Finger_4_Accel_Y_fft_mean',\n",
       "        '37_16_Finger_4_Accel_Y_fft_median',\n",
       "        '37_20_Finger_4_Accel_Y_fft_var',\n",
       "        '37_24_Finger_4_Accel_Y_spectral_centroid',\n",
       "        '37_26_Finger_4_Accel_Y_ff1', '37_28_Finger_4_Accel_Y_ff3',\n",
       "        '37_30_Finger_4_Accel_Y_ff5', '37_32_Finger_4_Accel_Y_bandwith',\n",
       "        '37_35_Finger_4_Accel_Y_cwt_sums_2',\n",
       "        '37_47_Finger_4_Accel_Y_cwt_median',\n",
       "        '38_39_Finger_4_Accel_Z_cwt_sums_6',\n",
       "        '38_46_Finger_4_Accel_Z_cwt_25q',\n",
       "        '38_56_Finger_4_Accel_Z_peak_min', '39_2_Finger_4_Gyro_X_min',\n",
       "        '39_50_Finger_4_Gyro_X_cwt_range',\n",
       "        '40_21_Finger_4_Gyro_Y_fft_skew',\n",
       "        '40_38_Finger_4_Gyro_Y_cwt_sums_5',\n",
       "        '40_39_Finger_4_Gyro_Y_cwt_sums_6',\n",
       "        '40_40_Finger_4_Gyro_Y_cwt_sums_7',\n",
       "        '40_42_Finger_4_Gyro_Y_cwt_sums_9',\n",
       "        '40_43_Finger_4_Gyro_Y_cwt_mean',\n",
       "        '40_44_Finger_4_Gyro_Y_cwt_std', '40_45_Finger_4_Gyro_Y_cwt_min',\n",
       "        '40_46_Finger_4_Gyro_Y_cwt_25q', '40_48_Finger_4_Gyro_Y_cwt_75q',\n",
       "        '40_49_Finger_4_Gyro_Y_cwt_max', '40_51_Finger_4_Gyro_Y_cwt_var',\n",
       "        '40_52_Finger_4_Gyro_Y_cwt_skew',\n",
       "        '40_56_Finger_4_Gyro_Y_peak_min',\n",
       "        '40_57_Finger_4_Gyro_Y_peak_max', '41_0_Finger_4_Gyro_Z_mean',\n",
       "        '41_3_Finger_4_Gyro_Z_25q', '41_6_Finger_4_Gyro_Z_max',\n",
       "        '41_8_Finger_4_Gyro_Z_var', '41_9_Finger_4_Gyro_Z_skew',\n",
       "        '41_11_Finger_4_Gyro_Z_mode', '41_12_Finger_4_Gyro_Z_fft_mean',\n",
       "        '41_13_Finger_4_Gyro_Z_fft_std', '41_14_Finger_4_Gyro_Z_fft_min',\n",
       "        '41_15_Finger_4_Gyro_Z_fft_25q', '41_20_Finger_4_Gyro_Z_fft_var',\n",
       "        '42_7_Thumb_Accel_X_range', '42_9_Thumb_Accel_X_skew',\n",
       "        '42_10_Thumb_Accel_X_kurtosis', '46_33_Thumb_Gyro_Y_cwt_sums_0',\n",
       "        '47_11_Thumb_Gyro_Z_mode', '47_18_Thumb_Gyro_Z_fft_max',\n",
       "        '47_30_Thumb_Gyro_Z_ff5', '47_32_Thumb_Gyro_Z_bandwith',\n",
       "        '47_44_Thumb_Gyro_Z_cwt_std', '48_35_Palm_Accel_X_cwt_sums_2',\n",
       "        '48_43_Palm_Accel_X_cwt_mean', '48_46_Palm_Accel_X_cwt_25q',\n",
       "        '48_49_Palm_Accel_X_cwt_max', '48_51_Palm_Accel_X_cwt_var',\n",
       "        '48_58_Palm_Accel_X_peak_mean', '49_1_Palm_Accel_Y_std',\n",
       "        '49_2_Palm_Accel_Y_min', '49_3_Palm_Accel_Y_25q',\n",
       "        '49_5_Palm_Accel_Y_75q', '49_7_Palm_Accel_Y_range',\n",
       "        '49_8_Palm_Accel_Y_var', '49_10_Palm_Accel_Y_kurtosis',\n",
       "        '49_17_Palm_Accel_Y_fft_75q', '49_19_Palm_Accel_Y_fft_range',\n",
       "        '49_22_Palm_Accel_Y_fft_kurtosis', '49_23_Palm_Accel_Y_fft_mode',\n",
       "        '49_24_Palm_Accel_Y_spectral_centroid',\n",
       "        '49_36_Palm_Accel_Y_cwt_sums_3', '49_38_Palm_Accel_Y_cwt_sums_5',\n",
       "        '49_40_Palm_Accel_Y_cwt_sums_7', '49_41_Palm_Accel_Y_cwt_sums_8',\n",
       "        '49_44_Palm_Accel_Y_cwt_std', '49_51_Palm_Accel_Y_cwt_var',\n",
       "        '49_52_Palm_Accel_Y_cwt_skew', '49_54_Palm_Accel_Y_cwt_mode',\n",
       "        '49_55_Palm_Accel_Y_num_peaks', '50_0_Palm_Accel_Z_mean',\n",
       "        '50_7_Palm_Accel_Z_range', '50_10_Palm_Accel_Z_kurtosis',\n",
       "        '50_12_Palm_Accel_Z_fft_mean',\n",
       "        '50_25_Palm_Accel_Z_spectral_entropy',\n",
       "        '50_33_Palm_Accel_Z_cwt_sums_0', '50_34_Palm_Accel_Z_cwt_sums_1',\n",
       "        '50_46_Palm_Accel_Z_cwt_25q', '50_53_Palm_Accel_Z_cwt_kurtosis',\n",
       "        '50_58_Palm_Accel_Z_peak_mean', '51_2_Palm_Gyro_X_min',\n",
       "        '51_3_Palm_Gyro_X_25q', '51_4_Palm_Gyro_X_median',\n",
       "        '51_6_Palm_Gyro_X_max', '51_8_Palm_Gyro_X_var',\n",
       "        '51_10_Palm_Gyro_X_kurtosis', '51_11_Palm_Gyro_X_mode',\n",
       "        '51_13_Palm_Gyro_X_fft_std', '51_18_Palm_Gyro_X_fft_max',\n",
       "        '51_20_Palm_Gyro_X_fft_var', '51_21_Palm_Gyro_X_fft_skew',\n",
       "        '51_25_Palm_Gyro_X_spectral_entropy', '51_28_Palm_Gyro_X_ff3',\n",
       "        '51_34_Palm_Gyro_X_cwt_sums_1', '51_35_Palm_Gyro_X_cwt_sums_2',\n",
       "        '51_40_Palm_Gyro_X_cwt_sums_7', '51_42_Palm_Gyro_X_cwt_sums_9',\n",
       "        '51_45_Palm_Gyro_X_cwt_min', '51_46_Palm_Gyro_X_cwt_25q',\n",
       "        '51_51_Palm_Gyro_X_cwt_var', '51_52_Palm_Gyro_X_cwt_skew',\n",
       "        '51_56_Palm_Gyro_X_peak_min', '52_7_Palm_Gyro_Y_range',\n",
       "        '52_12_Palm_Gyro_Y_fft_mean', '52_16_Palm_Gyro_Y_fft_median',\n",
       "        '52_23_Palm_Gyro_Y_fft_mode',\n",
       "        '70_37_Finger_2_Accel_X_lin_accel_cwt_sums_4',\n",
       "        '70_51_Finger_2_Accel_X_lin_accel_cwt_var',\n",
       "        '70_53_Finger_2_Accel_X_lin_accel_cwt_kurtosis',\n",
       "        '70_56_Finger_2_Accel_X_lin_accel_peak_min',\n",
       "        '70_58_Finger_2_Accel_X_lin_accel_peak_mean',\n",
       "        '71_10_Finger_2_Accel_Y_lin_accel_kurtosis',\n",
       "        '71_11_Finger_2_Accel_Y_lin_accel_mode',\n",
       "        '71_17_Finger_2_Accel_Y_lin_accel_fft_75q',\n",
       "        '71_22_Finger_2_Accel_Y_lin_accel_fft_kurtosis',\n",
       "        '71_24_Finger_2_Accel_Y_lin_accel_spectral_centroid',\n",
       "        '72_0_Finger_2_Accel_Z_lin_accel_mean',\n",
       "        '72_1_Finger_2_Accel_Z_lin_accel_std',\n",
       "        '72_2_Finger_2_Accel_Z_lin_accel_min',\n",
       "        '72_3_Finger_2_Accel_Z_lin_accel_25q',\n",
       "        '72_43_Finger_2_Accel_Z_lin_accel_cwt_mean',\n",
       "        '72_52_Finger_2_Accel_Z_lin_accel_cwt_skew',\n",
       "        '72_54_Finger_2_Accel_Z_lin_accel_cwt_mode',\n",
       "        '72_58_Finger_2_Accel_Z_lin_accel_peak_mean',\n",
       "        '73_5_Finger_3_Accel_X_lin_accel_75q',\n",
       "        '73_12_Finger_3_Accel_X_lin_accel_fft_mean',\n",
       "        '73_19_Finger_3_Accel_X_lin_accel_fft_range',\n",
       "        '73_22_Finger_3_Accel_X_lin_accel_fft_kurtosis',\n",
       "        '73_25_Finger_3_Accel_X_lin_accel_spectral_entropy',\n",
       "        '73_26_Finger_3_Accel_X_lin_accel_ff1',\n",
       "        '73_27_Finger_3_Accel_X_lin_accel_ff2',\n",
       "        '73_32_Finger_3_Accel_X_lin_accel_bandwith',\n",
       "        '74_1_Finger_3_Accel_Y_lin_accel_std',\n",
       "        '74_3_Finger_3_Accel_Y_lin_accel_25q',\n",
       "        '74_5_Finger_3_Accel_Y_lin_accel_75q',\n",
       "        '74_6_Finger_3_Accel_Y_lin_accel_max',\n",
       "        '75_7_Finger_3_Accel_Z_lin_accel_range',\n",
       "        '75_10_Finger_3_Accel_Z_lin_accel_kurtosis',\n",
       "        '75_20_Finger_3_Accel_Z_lin_accel_fft_var',\n",
       "        '75_22_Finger_3_Accel_Z_lin_accel_fft_kurtosis',\n",
       "        '75_26_Finger_3_Accel_Z_lin_accel_ff1',\n",
       "        '75_30_Finger_3_Accel_Z_lin_accel_ff5',\n",
       "        '75_33_Finger_3_Accel_Z_lin_accel_cwt_sums_0',\n",
       "        '75_35_Finger_3_Accel_Z_lin_accel_cwt_sums_2',\n",
       "        '76_6_Finger_4_Accel_X_lin_accel_max',\n",
       "        '78_7_Finger_4_Accel_Z_lin_accel_range',\n",
       "        '78_38_Finger_4_Accel_Z_lin_accel_cwt_sums_5',\n",
       "        '78_52_Finger_4_Accel_Z_lin_accel_cwt_skew',\n",
       "        '79_8_Thumb_Accel_X_lin_accel_var',\n",
       "        '79_24_Thumb_Accel_X_lin_accel_spectral_centroid',\n",
       "        '79_37_Thumb_Accel_X_lin_accel_cwt_sums_4',\n",
       "        '81_0_Thumb_Accel_Z_lin_accel_mean',\n",
       "        '81_25_Thumb_Accel_Z_lin_accel_spectral_entropy',\n",
       "        '82_8_Palm_Accel_X_lin_accel_var',\n",
       "        '83_7_Palm_Accel_Y_lin_accel_range',\n",
       "        '83_25_Palm_Accel_Y_lin_accel_spectral_entropy',\n",
       "        '85_2_Wrist_Accel_X_lin_accel_min',\n",
       "        '85_33_Wrist_Accel_X_lin_accel_cwt_sums_0',\n",
       "        '87_13_Wrist_Accel_Z_lin_accel_fft_std',\n",
       "        '89_6_Finger_2_Accel_absolute_froce_max',\n",
       "        '89_11_Finger_2_Accel_absolute_froce_mode',\n",
       "        '89_14_Finger_2_Accel_absolute_froce_fft_min',\n",
       "        '89_22_Finger_2_Accel_absolute_froce_fft_kurtosis',\n",
       "        '89_24_Finger_2_Accel_absolute_froce_spectral_centroid',\n",
       "        '89_40_Finger_2_Accel_absolute_froce_cwt_sums_7',\n",
       "        '93_3_Palm_Accel_absolute_froce_25q',\n",
       "        '93_17_Palm_Accel_absolute_froce_fft_75q',\n",
       "        '93_19_Palm_Accel_absolute_froce_fft_range',\n",
       "        '93_20_Palm_Accel_absolute_froce_fft_var',\n",
       "        '93_22_Palm_Accel_absolute_froce_fft_kurtosis',\n",
       "        '93_35_Palm_Accel_absolute_froce_cwt_sums_2',\n",
       "        '94_12_Wrist_Accel_absolute_froce_fft_mean',\n",
       "        '94_13_Wrist_Accel_absolute_froce_fft_std',\n",
       "        '94_16_Wrist_Accel_absolute_froce_fft_median',\n",
       "        '94_49_Wrist_Accel_absolute_froce_cwt_max',\n",
       "        '94_50_Wrist_Accel_absolute_froce_cwt_range',\n",
       "        '94_53_Wrist_Accel_absolute_froce_cwt_kurtosis',\n",
       "        '94_56_Wrist_Accel_absolute_froce_peak_min',\n",
       "        '94_58_Wrist_Accel_absolute_froce_peak_mean',\n",
       "        '95_7_Finger_2_Accel_Y_lin_accel_absolute_lin_froce_range',\n",
       "        '95_31_Finger_2_Accel_Y_lin_accel_absolute_lin_froce_freq_5sum',\n",
       "        '95_32_Finger_2_Accel_Y_lin_accel_absolute_lin_froce_bandwith',\n",
       "        '95_34_Finger_2_Accel_Y_lin_accel_absolute_lin_froce_cwt_sums_1',\n",
       "        '95_39_Finger_2_Accel_Y_lin_accel_absolute_lin_froce_cwt_sums_6',\n",
       "        '95_42_Finger_2_Accel_Y_lin_accel_absolute_lin_froce_cwt_sums_9',\n",
       "        '95_45_Finger_2_Accel_Y_lin_accel_absolute_lin_froce_cwt_min',\n",
       "        '95_50_Finger_2_Accel_Y_lin_accel_absolute_lin_froce_cwt_range',\n",
       "        '96_52_Finger_3_Accel_Y_lin_accel_absolute_lin_froce_cwt_skew',\n",
       "        '96_56_Finger_3_Accel_Y_lin_accel_absolute_lin_froce_peak_min',\n",
       "        '97_6_Finger_4_Accel_Y_lin_accel_absolute_lin_froce_max',\n",
       "        '97_7_Finger_4_Accel_Y_lin_accel_absolute_lin_froce_range',\n",
       "        '97_9_Finger_4_Accel_Y_lin_accel_absolute_lin_froce_skew',\n",
       "        '97_10_Finger_4_Accel_Y_lin_accel_absolute_lin_froce_kurtosis',\n",
       "        '97_12_Finger_4_Accel_Y_lin_accel_absolute_lin_froce_fft_mean',\n",
       "        '97_13_Finger_4_Accel_Y_lin_accel_absolute_lin_froce_fft_std',\n",
       "        '97_14_Finger_4_Accel_Y_lin_accel_absolute_lin_froce_fft_min',\n",
       "        '97_17_Finger_4_Accel_Y_lin_accel_absolute_lin_froce_fft_75q',\n",
       "        '97_24_Finger_4_Accel_Y_lin_accel_absolute_lin_froce_spectral_centroid',\n",
       "        '97_25_Finger_4_Accel_Y_lin_accel_absolute_lin_froce_spectral_entropy',\n",
       "        '97_26_Finger_4_Accel_Y_lin_accel_absolute_lin_froce_ff1',\n",
       "        '97_32_Finger_4_Accel_Y_lin_accel_absolute_lin_froce_bandwith',\n",
       "        '97_33_Finger_4_Accel_Y_lin_accel_absolute_lin_froce_cwt_sums_0',\n",
       "        '97_34_Finger_4_Accel_Y_lin_accel_absolute_lin_froce_cwt_sums_1',\n",
       "        '97_39_Finger_4_Accel_Y_lin_accel_absolute_lin_froce_cwt_sums_6',\n",
       "        '97_40_Finger_4_Accel_Y_lin_accel_absolute_lin_froce_cwt_sums_7',\n",
       "        '97_42_Finger_4_Accel_Y_lin_accel_absolute_lin_froce_cwt_sums_9',\n",
       "        '97_46_Finger_4_Accel_Y_lin_accel_absolute_lin_froce_cwt_25q',\n",
       "        '98_13_Thumb_Accel_Y_lin_accel_absolute_lin_froce_fft_std',\n",
       "        '98_16_Thumb_Accel_Y_lin_accel_absolute_lin_froce_fft_median',\n",
       "        '98_25_Thumb_Accel_Y_lin_accel_absolute_lin_froce_spectral_entropy',\n",
       "        '98_57_Thumb_Accel_Y_lin_accel_absolute_lin_froce_peak_max',\n",
       "        '99_12_Palm_Accel_Y_lin_accel_absolute_lin_froce_fft_mean',\n",
       "        '99_24_Palm_Accel_Y_lin_accel_absolute_lin_froce_spectral_centroid',\n",
       "        '99_25_Palm_Accel_Y_lin_accel_absolute_lin_froce_spectral_entropy',\n",
       "        '99_32_Palm_Accel_Y_lin_accel_absolute_lin_froce_bandwith',\n",
       "        '99_34_Palm_Accel_Y_lin_accel_absolute_lin_froce_cwt_sums_1',\n",
       "        '99_38_Palm_Accel_Y_lin_accel_absolute_lin_froce_cwt_sums_5',\n",
       "        '100_17_Wrist_Accel_Y_lin_accel_absolute_lin_froce_fft_75q',\n",
       "        '100_41_Wrist_Accel_Y_lin_accel_absolute_lin_froce_cwt_sums_8',\n",
       "        '100_49_Wrist_Accel_Y_lin_accel_absolute_lin_froce_cwt_max',\n",
       "        '101_7_Finger_2_Accel_absolute_froce_absolute_lin_froce_range',\n",
       "        '101_13_Finger_2_Accel_absolute_froce_absolute_lin_froce_fft_std',\n",
       "        '101_16_Finger_2_Accel_absolute_froce_absolute_lin_froce_fft_median',\n",
       "        '101_17_Finger_2_Accel_absolute_froce_absolute_lin_froce_fft_75q',\n",
       "        '101_18_Finger_2_Accel_absolute_froce_absolute_lin_froce_fft_max',\n",
       "        '101_22_Finger_2_Accel_absolute_froce_absolute_lin_froce_fft_kurtosis',\n",
       "        '101_23_Finger_2_Accel_absolute_froce_absolute_lin_froce_fft_mode',\n",
       "        '101_30_Finger_2_Accel_absolute_froce_absolute_lin_froce_ff5',\n",
       "        '101_32_Finger_2_Accel_absolute_froce_absolute_lin_froce_bandwith',\n",
       "        '101_35_Finger_2_Accel_absolute_froce_absolute_lin_froce_cwt_sums_2',\n",
       "        '101_36_Finger_2_Accel_absolute_froce_absolute_lin_froce_cwt_sums_3',\n",
       "        '101_48_Finger_2_Accel_absolute_froce_absolute_lin_froce_cwt_75q',\n",
       "        '101_50_Finger_2_Accel_absolute_froce_absolute_lin_froce_cwt_range',\n",
       "        '102_17_Finger_1_Gyro_X_direction_cosine_fft_75q',\n",
       "        '102_19_Finger_1_Gyro_X_direction_cosine_fft_range',\n",
       "        '102_42_Finger_1_Gyro_X_direction_cosine_cwt_sums_9',\n",
       "        '103_8_Finger_1_Gyro_Y_direction_cosine_var',\n",
       "        '103_10_Finger_1_Gyro_Y_direction_cosine_kurtosis',\n",
       "        '103_11_Finger_1_Gyro_Y_direction_cosine_mode',\n",
       "        '103_14_Finger_1_Gyro_Y_direction_cosine_fft_min',\n",
       "        '103_16_Finger_1_Gyro_Y_direction_cosine_fft_median',\n",
       "        '103_23_Finger_1_Gyro_Y_direction_cosine_fft_mode',\n",
       "        '103_33_Finger_1_Gyro_Y_direction_cosine_cwt_sums_0',\n",
       "        '103_35_Finger_1_Gyro_Y_direction_cosine_cwt_sums_2',\n",
       "        '103_36_Finger_1_Gyro_Y_direction_cosine_cwt_sums_3',\n",
       "        '103_40_Finger_1_Gyro_Y_direction_cosine_cwt_sums_7',\n",
       "        '103_47_Finger_1_Gyro_Y_direction_cosine_cwt_median',\n",
       "        '103_48_Finger_1_Gyro_Y_direction_cosine_cwt_75q',\n",
       "        '103_50_Finger_1_Gyro_Y_direction_cosine_cwt_range',\n",
       "        '103_52_Finger_1_Gyro_Y_direction_cosine_cwt_skew',\n",
       "        '103_53_Finger_1_Gyro_Y_direction_cosine_cwt_kurtosis',\n",
       "        '103_56_Finger_1_Gyro_Y_direction_cosine_peak_min',\n",
       "        '104_33_Finger_1_Gyro_Z_direction_cosine_cwt_sums_0',\n",
       "        '104_39_Finger_1_Gyro_Z_direction_cosine_cwt_sums_6',\n",
       "        '105_3_Finger_2_Gyro_X_direction_cosine_25q',\n",
       "        '105_9_Finger_2_Gyro_X_direction_cosine_skew',\n",
       "        '105_10_Finger_2_Gyro_X_direction_cosine_kurtosis',\n",
       "        '105_33_Finger_2_Gyro_X_direction_cosine_cwt_sums_0',\n",
       "        '105_34_Finger_2_Gyro_X_direction_cosine_cwt_sums_1',\n",
       "        '105_45_Finger_2_Gyro_X_direction_cosine_cwt_min',\n",
       "        '106_12_Finger_2_Gyro_Y_direction_cosine_fft_mean',\n",
       "        '106_22_Finger_2_Gyro_Y_direction_cosine_fft_kurtosis',\n",
       "        '106_32_Finger_2_Gyro_Y_direction_cosine_bandwith',\n",
       "        '106_43_Finger_2_Gyro_Y_direction_cosine_cwt_mean',\n",
       "        '107_10_Finger_2_Gyro_Z_direction_cosine_kurtosis',\n",
       "        '107_11_Finger_2_Gyro_Z_direction_cosine_mode',\n",
       "        '107_12_Finger_2_Gyro_Z_direction_cosine_fft_mean',\n",
       "        '107_13_Finger_2_Gyro_Z_direction_cosine_fft_std',\n",
       "        '107_18_Finger_2_Gyro_Z_direction_cosine_fft_max',\n",
       "        '107_19_Finger_2_Gyro_Z_direction_cosine_fft_range',\n",
       "        '107_20_Finger_2_Gyro_Z_direction_cosine_fft_var',\n",
       "        '107_21_Finger_2_Gyro_Z_direction_cosine_fft_skew',\n",
       "        '107_23_Finger_2_Gyro_Z_direction_cosine_fft_mode',\n",
       "        '107_24_Finger_2_Gyro_Z_direction_cosine_spectral_centroid',\n",
       "        '107_25_Finger_2_Gyro_Z_direction_cosine_spectral_entropy',\n",
       "        '107_27_Finger_2_Gyro_Z_direction_cosine_ff2',\n",
       "        '107_30_Finger_2_Gyro_Z_direction_cosine_ff5',\n",
       "        '107_31_Finger_2_Gyro_Z_direction_cosine_freq_5sum',\n",
       "        '107_32_Finger_2_Gyro_Z_direction_cosine_bandwith',\n",
       "        '107_33_Finger_2_Gyro_Z_direction_cosine_cwt_sums_0',\n",
       "        '107_35_Finger_2_Gyro_Z_direction_cosine_cwt_sums_2',\n",
       "        '107_36_Finger_2_Gyro_Z_direction_cosine_cwt_sums_3',\n",
       "        '107_37_Finger_2_Gyro_Z_direction_cosine_cwt_sums_4',\n",
       "        '107_38_Finger_2_Gyro_Z_direction_cosine_cwt_sums_5',\n",
       "        '107_39_Finger_2_Gyro_Z_direction_cosine_cwt_sums_6',\n",
       "        '107_43_Finger_2_Gyro_Z_direction_cosine_cwt_mean',\n",
       "        '107_44_Finger_2_Gyro_Z_direction_cosine_cwt_std',\n",
       "        '107_45_Finger_2_Gyro_Z_direction_cosine_cwt_min',\n",
       "        '107_46_Finger_2_Gyro_Z_direction_cosine_cwt_25q',\n",
       "        '107_49_Finger_2_Gyro_Z_direction_cosine_cwt_max',\n",
       "        '107_50_Finger_2_Gyro_Z_direction_cosine_cwt_range',\n",
       "        '108_15_Finger_3_Gyro_X_direction_cosine_fft_25q',\n",
       "        '108_21_Finger_3_Gyro_X_direction_cosine_fft_skew',\n",
       "        '108_22_Finger_3_Gyro_X_direction_cosine_fft_kurtosis',\n",
       "        '108_30_Finger_3_Gyro_X_direction_cosine_ff5',\n",
       "        '108_35_Finger_3_Gyro_X_direction_cosine_cwt_sums_2',\n",
       "        '108_41_Finger_3_Gyro_X_direction_cosine_cwt_sums_8',\n",
       "        '108_48_Finger_3_Gyro_X_direction_cosine_cwt_75q',\n",
       "        '108_54_Finger_3_Gyro_X_direction_cosine_cwt_mode',\n",
       "        '108_58_Finger_3_Gyro_X_direction_cosine_peak_mean',\n",
       "        '109_3_Finger_3_Gyro_Y_direction_cosine_25q',\n",
       "        '109_11_Finger_3_Gyro_Y_direction_cosine_mode',\n",
       "        '109_13_Finger_3_Gyro_Y_direction_cosine_fft_std',\n",
       "        '109_18_Finger_3_Gyro_Y_direction_cosine_fft_max',\n",
       "        '109_19_Finger_3_Gyro_Y_direction_cosine_fft_range',\n",
       "        '109_25_Finger_3_Gyro_Y_direction_cosine_spectral_entropy',\n",
       "        '109_29_Finger_3_Gyro_Y_direction_cosine_ff4',\n",
       "        '109_30_Finger_3_Gyro_Y_direction_cosine_ff5',\n",
       "        '109_31_Finger_3_Gyro_Y_direction_cosine_freq_5sum',\n",
       "        '109_35_Finger_3_Gyro_Y_direction_cosine_cwt_sums_2',\n",
       "        '109_36_Finger_3_Gyro_Y_direction_cosine_cwt_sums_3',\n",
       "        '109_47_Finger_3_Gyro_Y_direction_cosine_cwt_median',\n",
       "        '109_56_Finger_3_Gyro_Y_direction_cosine_peak_min',\n",
       "        '109_57_Finger_3_Gyro_Y_direction_cosine_peak_max',\n",
       "        '109_58_Finger_3_Gyro_Y_direction_cosine_peak_mean',\n",
       "        '110_0_Finger_3_Gyro_Z_direction_cosine_mean',\n",
       "        '110_4_Finger_3_Gyro_Z_direction_cosine_median',\n",
       "        '110_6_Finger_3_Gyro_Z_direction_cosine_max',\n",
       "        '110_8_Finger_3_Gyro_Z_direction_cosine_var',\n",
       "        '110_9_Finger_3_Gyro_Z_direction_cosine_skew',\n",
       "        '110_10_Finger_3_Gyro_Z_direction_cosine_kurtosis',\n",
       "        '110_14_Finger_3_Gyro_Z_direction_cosine_fft_min',\n",
       "        '110_15_Finger_3_Gyro_Z_direction_cosine_fft_25q',\n",
       "        '110_16_Finger_3_Gyro_Z_direction_cosine_fft_median',\n",
       "        '110_18_Finger_3_Gyro_Z_direction_cosine_fft_max',\n",
       "        '110_19_Finger_3_Gyro_Z_direction_cosine_fft_range',\n",
       "        '110_21_Finger_3_Gyro_Z_direction_cosine_fft_skew',\n",
       "        '110_22_Finger_3_Gyro_Z_direction_cosine_fft_kurtosis',\n",
       "        '110_23_Finger_3_Gyro_Z_direction_cosine_fft_mode',\n",
       "        '110_55_Finger_3_Gyro_Z_direction_cosine_num_peaks',\n",
       "        '111_0_Finger_4_Gyro_X_direction_cosine_mean',\n",
       "        '111_2_Finger_4_Gyro_X_direction_cosine_min',\n",
       "        '111_4_Finger_4_Gyro_X_direction_cosine_median',\n",
       "        '111_18_Finger_4_Gyro_X_direction_cosine_fft_max',\n",
       "        '111_19_Finger_4_Gyro_X_direction_cosine_fft_range',\n",
       "        '111_25_Finger_4_Gyro_X_direction_cosine_spectral_entropy',\n",
       "        '111_26_Finger_4_Gyro_X_direction_cosine_ff1',\n",
       "        '111_36_Finger_4_Gyro_X_direction_cosine_cwt_sums_3',\n",
       "        '111_42_Finger_4_Gyro_X_direction_cosine_cwt_sums_9',\n",
       "        '111_44_Finger_4_Gyro_X_direction_cosine_cwt_std',\n",
       "        '111_50_Finger_4_Gyro_X_direction_cosine_cwt_range',\n",
       "        '111_54_Finger_4_Gyro_X_direction_cosine_cwt_mode',\n",
       "        '111_55_Finger_4_Gyro_X_direction_cosine_num_peaks',\n",
       "        '111_56_Finger_4_Gyro_X_direction_cosine_peak_min',\n",
       "        '112_1_Finger_4_Gyro_Y_direction_cosine_std',\n",
       "        '112_19_Finger_4_Gyro_Y_direction_cosine_fft_range',\n",
       "        '112_21_Finger_4_Gyro_Y_direction_cosine_fft_skew',\n",
       "        '112_22_Finger_4_Gyro_Y_direction_cosine_fft_kurtosis',\n",
       "        '112_25_Finger_4_Gyro_Y_direction_cosine_spectral_entropy',\n",
       "        '112_28_Finger_4_Gyro_Y_direction_cosine_ff3',\n",
       "        '112_31_Finger_4_Gyro_Y_direction_cosine_freq_5sum',\n",
       "        '112_47_Finger_4_Gyro_Y_direction_cosine_cwt_median',\n",
       "        '113_1_Finger_4_Gyro_Z_direction_cosine_std',\n",
       "        '113_3_Finger_4_Gyro_Z_direction_cosine_25q',\n",
       "        '113_5_Finger_4_Gyro_Z_direction_cosine_75q',\n",
       "        '113_12_Finger_4_Gyro_Z_direction_cosine_fft_mean',\n",
       "        '113_19_Finger_4_Gyro_Z_direction_cosine_fft_range',\n",
       "        '113_26_Finger_4_Gyro_Z_direction_cosine_ff1',\n",
       "        '113_27_Finger_4_Gyro_Z_direction_cosine_ff2',\n",
       "        '113_49_Finger_4_Gyro_Z_direction_cosine_cwt_max',\n",
       "        '113_55_Finger_4_Gyro_Z_direction_cosine_num_peaks',\n",
       "        '114_7_Thumb_Gyro_X_direction_cosine_range',\n",
       "        '114_10_Thumb_Gyro_X_direction_cosine_kurtosis',\n",
       "        '114_11_Thumb_Gyro_X_direction_cosine_mode',\n",
       "        '114_12_Thumb_Gyro_X_direction_cosine_fft_mean',\n",
       "        '114_14_Thumb_Gyro_X_direction_cosine_fft_min',\n",
       "        '114_15_Thumb_Gyro_X_direction_cosine_fft_25q',\n",
       "        '114_21_Thumb_Gyro_X_direction_cosine_fft_skew',\n",
       "        '114_26_Thumb_Gyro_X_direction_cosine_ff1',\n",
       "        '114_28_Thumb_Gyro_X_direction_cosine_ff3',\n",
       "        '114_29_Thumb_Gyro_X_direction_cosine_ff4',\n",
       "        '114_30_Thumb_Gyro_X_direction_cosine_ff5',\n",
       "        '114_45_Thumb_Gyro_X_direction_cosine_cwt_min',\n",
       "        '114_49_Thumb_Gyro_X_direction_cosine_cwt_max',\n",
       "        '114_52_Thumb_Gyro_X_direction_cosine_cwt_skew',\n",
       "        '117_0_Palm_Gyro_X_direction_cosine_mean',\n",
       "        '117_18_Palm_Gyro_X_direction_cosine_fft_max',\n",
       "        '117_20_Palm_Gyro_X_direction_cosine_fft_var',\n",
       "        '117_21_Palm_Gyro_X_direction_cosine_fft_skew',\n",
       "        '117_26_Palm_Gyro_X_direction_cosine_ff1',\n",
       "        '117_27_Palm_Gyro_X_direction_cosine_ff2',\n",
       "        '117_29_Palm_Gyro_X_direction_cosine_ff4',\n",
       "        '117_32_Palm_Gyro_X_direction_cosine_bandwith',\n",
       "        '117_33_Palm_Gyro_X_direction_cosine_cwt_sums_0',\n",
       "        '117_34_Palm_Gyro_X_direction_cosine_cwt_sums_1',\n",
       "        '117_35_Palm_Gyro_X_direction_cosine_cwt_sums_2',\n",
       "        '117_37_Palm_Gyro_X_direction_cosine_cwt_sums_4',\n",
       "        '117_38_Palm_Gyro_X_direction_cosine_cwt_sums_5',\n",
       "        '117_39_Palm_Gyro_X_direction_cosine_cwt_sums_6',\n",
       "        '117_40_Palm_Gyro_X_direction_cosine_cwt_sums_7',\n",
       "        '117_43_Palm_Gyro_X_direction_cosine_cwt_mean',\n",
       "        '117_44_Palm_Gyro_X_direction_cosine_cwt_std',\n",
       "        '117_46_Palm_Gyro_X_direction_cosine_cwt_25q',\n",
       "        '117_47_Palm_Gyro_X_direction_cosine_cwt_median',\n",
       "        '117_50_Palm_Gyro_X_direction_cosine_cwt_range',\n",
       "        '117_52_Palm_Gyro_X_direction_cosine_cwt_skew',\n",
       "        '117_54_Palm_Gyro_X_direction_cosine_cwt_mode',\n",
       "        '118_22_Palm_Gyro_Y_direction_cosine_fft_kurtosis',\n",
       "        '118_34_Palm_Gyro_Y_direction_cosine_cwt_sums_1',\n",
       "        '118_50_Palm_Gyro_Y_direction_cosine_cwt_range',\n",
       "        '119_0_Palm_Gyro_Z_direction_cosine_mean',\n",
       "        '119_5_Palm_Gyro_Z_direction_cosine_75q',\n",
       "        '119_11_Palm_Gyro_Z_direction_cosine_mode',\n",
       "        '119_18_Palm_Gyro_Z_direction_cosine_fft_max',\n",
       "        '119_20_Palm_Gyro_Z_direction_cosine_fft_var',\n",
       "        '119_21_Palm_Gyro_Z_direction_cosine_fft_skew',\n",
       "        '119_27_Palm_Gyro_Z_direction_cosine_ff2',\n",
       "        '119_28_Palm_Gyro_Z_direction_cosine_ff3',\n",
       "        '119_29_Palm_Gyro_Z_direction_cosine_ff4',\n",
       "        '119_30_Palm_Gyro_Z_direction_cosine_ff5',\n",
       "        '119_37_Palm_Gyro_Z_direction_cosine_cwt_sums_4',\n",
       "        '119_41_Palm_Gyro_Z_direction_cosine_cwt_sums_8',\n",
       "        '119_47_Palm_Gyro_Z_direction_cosine_cwt_median',\n",
       "        '119_52_Palm_Gyro_Z_direction_cosine_cwt_skew',\n",
       "        '119_53_Palm_Gyro_Z_direction_cosine_cwt_kurtosis',\n",
       "        '119_57_Palm_Gyro_Z_direction_cosine_peak_max',\n",
       "        '119_58_Palm_Gyro_Z_direction_cosine_peak_mean',\n",
       "        '120_0_Wrist_Gyro_X_direction_cosine_mean',\n",
       "        '120_24_Wrist_Gyro_X_direction_cosine_spectral_centroid',\n",
       "        '120_25_Wrist_Gyro_X_direction_cosine_spectral_entropy',\n",
       "        '120_27_Wrist_Gyro_X_direction_cosine_ff2',\n",
       "        '120_28_Wrist_Gyro_X_direction_cosine_ff3',\n",
       "        '120_29_Wrist_Gyro_X_direction_cosine_ff4',\n",
       "        '120_33_Wrist_Gyro_X_direction_cosine_cwt_sums_0',\n",
       "        '120_35_Wrist_Gyro_X_direction_cosine_cwt_sums_2',\n",
       "        '120_36_Wrist_Gyro_X_direction_cosine_cwt_sums_3',\n",
       "        '121_8_Wrist_Gyro_Y_direction_cosine_var',\n",
       "        '121_10_Wrist_Gyro_Y_direction_cosine_kurtosis',\n",
       "        '121_20_Wrist_Gyro_Y_direction_cosine_fft_var',\n",
       "        '121_21_Wrist_Gyro_Y_direction_cosine_fft_skew',\n",
       "        '121_22_Wrist_Gyro_Y_direction_cosine_fft_kurtosis',\n",
       "        '121_25_Wrist_Gyro_Y_direction_cosine_spectral_entropy',\n",
       "        '121_27_Wrist_Gyro_Y_direction_cosine_ff2',\n",
       "        '121_29_Wrist_Gyro_Y_direction_cosine_ff4',\n",
       "        '121_32_Wrist_Gyro_Y_direction_cosine_bandwith',\n",
       "        '121_34_Wrist_Gyro_Y_direction_cosine_cwt_sums_1',\n",
       "        '121_37_Wrist_Gyro_Y_direction_cosine_cwt_sums_4',\n",
       "        '121_41_Wrist_Gyro_Y_direction_cosine_cwt_sums_8',\n",
       "        '121_42_Wrist_Gyro_Y_direction_cosine_cwt_sums_9',\n",
       "        '121_43_Wrist_Gyro_Y_direction_cosine_cwt_mean',\n",
       "        '121_46_Wrist_Gyro_Y_direction_cosine_cwt_25q',\n",
       "        '121_50_Wrist_Gyro_Y_direction_cosine_cwt_range',\n",
       "        '121_51_Wrist_Gyro_Y_direction_cosine_cwt_var',\n",
       "        '121_52_Wrist_Gyro_Y_direction_cosine_cwt_skew',\n",
       "        '121_57_Wrist_Gyro_Y_direction_cosine_peak_max',\n",
       "        '121_58_Wrist_Gyro_Y_direction_cosine_peak_mean',\n",
       "        '122_37_Wrist_Gyro_Z_direction_cosine_cwt_sums_4',\n",
       "        '122_50_Wrist_Gyro_Z_direction_cosine_cwt_range',\n",
       "        '7021_angle_0_3', '7023_pval_0_3', '7024_fftAngle_0_3',\n",
       "        '7026_fftPval_0_3', '7028_diffFFT_0_3', '7031_corr_0_5',\n",
       "        '7032_pval_0_5', '7034_fftCorr_0_5', '7035_fftPval_0_5',\n",
       "        '7036_diff_0_5', '7037_diffFFT_0_5', '7038_xcorr_0_5',\n",
       "        '7039_angle_0_7', '7048_angle_0_9', '7082_diffFFT_3_9',\n",
       "        '7084_angle_5_7', '7085_corr_5_7', '7090_diff_5_7',\n",
       "        '7091_diffFFT_5_7', '7094_corr_5_9', '7095_pval_5_9',\n",
       "        '7096_fftAngle_5_9', '7098_fftPval_5_9', '7099_diff_5_9',\n",
       "        '7110_xcorr_7_9', '7141_fftAngle_11_10', '7153_diff_4_6',\n",
       "        '7173_xcorr_4_10', '7174_angle_6_8', '7188_fftPval_6_10']],\n",
       "      dtype='<U73')"
      ]
     },
     "execution_count": 13,
     "metadata": {},
     "output_type": "execute_result"
    }
   ],
   "source": [
    "rfe_features = features[:,col_index2]\n",
    "rfe_features"
   ]
  },
  {
   "cell_type": "code",
   "execution_count": 14,
   "metadata": {},
   "outputs": [],
   "source": [
    "with open( stats_added_base_path+'train-data-rfecv2.pk', \"wb\" ) as users_pickle_file:\n",
    "    pickle.dump({\n",
    "        'X': Xrfe, 'y': y, 'Xval' : XValrfe, 'yval': yval, \n",
    "        'gestures' : gestures, 'headers': rfe_features\n",
    "    }, users_pickle_file)"
   ]
  },
  {
   "cell_type": "markdown",
   "metadata": {},
   "source": [
    "## RFE with Lasso, $\\alpha$ = 0.5"
   ]
  },
  {
   "cell_type": "code",
   "execution_count": 16,
   "metadata": {
    "scrolled": true
   },
   "outputs": [
    {
     "name": "stdout",
     "output_type": "stream",
     "text": [
      "svc start\n",
      "svc fittet\n",
      "rfe start\n",
      "Fitting estimator with 3821 features.\n",
      "Fitting estimator with 3630 features.\n",
      "Fitting estimator with 3439 features.\n",
      "Fitting estimator with 3248 features.\n",
      "Fitting estimator with 3057 features.\n",
      "Fitting estimator with 2866 features.\n",
      "Fitting estimator with 2675 features.\n",
      "Fitting estimator with 2484 features.\n",
      "Fitting estimator with 2293 features.\n",
      "Fitting estimator with 2102 features.\n",
      "Fitting estimator with 1911 features.\n",
      "Fitting estimator with 1720 features.\n",
      "Fitting estimator with 1529 features.\n",
      "Fitting estimator with 1338 features.\n",
      "Fitting estimator with 1147 features.\n",
      "Fitting estimator with 956 features.\n",
      "Fitting estimator with 765 features.\n",
      "Fitting estimator with 574 features.\n",
      "Fitting estimator with 383 features.\n",
      "Fitting estimator with 192 features.\n",
      "Fitting estimator with 3821 features.\n",
      "Fitting estimator with 3630 features.\n",
      "Fitting estimator with 3439 features.\n",
      "Fitting estimator with 3248 features.\n",
      "Fitting estimator with 3057 features.\n",
      "Fitting estimator with 2866 features.\n",
      "Fitting estimator with 2675 features.\n",
      "Fitting estimator with 2484 features.\n",
      "Fitting estimator with 2293 features.\n",
      "Fitting estimator with 2102 features.\n",
      "Fitting estimator with 1911 features.\n",
      "Fitting estimator with 1720 features.\n",
      "Fitting estimator with 1529 features.\n",
      "Fitting estimator with 1338 features.\n",
      "Fitting estimator with 1147 features.\n",
      "Fitting estimator with 956 features.\n",
      "Fitting estimator with 765 features.\n",
      "Fitting estimator with 574 features.\n",
      "Fitting estimator with 383 features.\n",
      "Fitting estimator with 192 features.\n",
      "Fitting estimator with 3821 features.\n",
      "Fitting estimator with 3630 features.\n",
      "Fitting estimator with 3439 features.\n",
      "Fitting estimator with 3248 features.\n",
      "Fitting estimator with 3057 features.\n",
      "Fitting estimator with 2866 features.\n",
      "Fitting estimator with 2675 features.\n",
      "Fitting estimator with 2484 features.\n",
      "Fitting estimator with 2293 features.\n",
      "Fitting estimator with 2102 features.\n",
      "Fitting estimator with 1911 features.\n",
      "Fitting estimator with 1720 features.\n",
      "Fitting estimator with 1529 features.\n",
      "Fitting estimator with 1338 features.\n",
      "Fitting estimator with 1147 features.\n",
      "Fitting estimator with 956 features.\n",
      "Fitting estimator with 765 features.\n",
      "Fitting estimator with 574 features.\n",
      "Fitting estimator with 383 features.\n",
      "Fitting estimator with 192 features.\n",
      "Fitting estimator with 3821 features.\n",
      "Fitting estimator with 3630 features.\n",
      "Fitting estimator with 3439 features.\n",
      "Fitting estimator with 3248 features.\n",
      "Fitting estimator with 3057 features.\n",
      "Fitting estimator with 2866 features.\n",
      "Fitting estimator with 2675 features.\n",
      "Fitting estimator with 2484 features.\n",
      "Fitting estimator with 2293 features.\n",
      "Fitting estimator with 2102 features.\n",
      "Fitting estimator with 1911 features.\n",
      "Fitting estimator with 1720 features.\n",
      "Fitting estimator with 1529 features.\n",
      "Fitting estimator with 1338 features.\n",
      "Fitting estimator with 1147 features.\n",
      "Fitting estimator with 956 features.\n",
      "Fitting estimator with 765 features.\n",
      "Fitting estimator with 574 features.\n",
      "Fitting estimator with 383 features.\n",
      "Fitting estimator with 192 features.\n",
      "Fitting estimator with 3821 features.\n",
      "Fitting estimator with 3630 features.\n",
      "Fitting estimator with 3439 features.\n",
      "Fitting estimator with 3248 features.\n",
      "Fitting estimator with 3057 features.\n",
      "Fitting estimator with 2866 features.\n",
      "Fitting estimator with 2675 features.\n",
      "Fitting estimator with 2484 features.\n",
      "Fitting estimator with 2293 features.\n",
      "Fitting estimator with 2102 features.\n",
      "Fitting estimator with 1911 features.\n",
      "Fitting estimator with 1720 features.\n",
      "Fitting estimator with 1529 features.\n",
      "Fitting estimator with 1338 features.\n",
      "Fitting estimator with 1147 features.\n",
      "Fitting estimator with 956 features.\n",
      "Fitting estimator with 765 features.\n",
      "Fitting estimator with 574 features.\n",
      "Fitting estimator with 383 features.\n",
      "Fitting estimator with 192 features.\n",
      "Fitting estimator with 3821 features.\n",
      "Fitting estimator with 3630 features.\n",
      "Fitting estimator with 3439 features.\n",
      "Fitting estimator with 3248 features.\n",
      "Fitting estimator with 3057 features.\n",
      "Fitting estimator with 2866 features.\n",
      "Fitting estimator with 2675 features.\n",
      "Fitting estimator with 2484 features.\n",
      "Fitting estimator with 2293 features.\n",
      "Fitting estimator with 2102 features.\n",
      "Fitting estimator with 1911 features.\n",
      "Fitting estimator with 1720 features.\n",
      "Fitting estimator with 1529 features.\n",
      "Fitting estimator with 1338 features.\n",
      "Fitting estimator with 1147 features.\n",
      "Fitting estimator with 956 features.\n",
      "Fitting estimator with 765 features.\n",
      "Fitting estimator with 574 features.\n",
      "Fitting estimator with 383 features.\n",
      "rfe fittet\n"
     ]
    }
   ],
   "source": [
    "linc3 = sklearn.linear_model.Lasso(alpha = 0.5, max_iter=2000, tol=1e-3)\n",
    "print('svc start')\n",
    "linc3.fit(X, y)\n",
    "print('svc fittet')\n",
    "rfecv3 = fs.RFECV(estimator=linc3, cv=5, step=0.05, verbose=2)\n",
    "print('rfe start')\n",
    "rfecv3.fit(X, y)\n",
    "print('rfe fittet')\n",
    "col_index3 = rfecv3.get_support(indices=True)"
   ]
  },
  {
   "cell_type": "code",
   "execution_count": 22,
   "metadata": {},
   "outputs": [
    {
     "ename": "NotFittedError",
     "evalue": "This RFECV instance is not fitted yet. Call 'fit' with appropriate arguments before using this method.",
     "output_type": "error",
     "traceback": [
      "\u001b[0;31m---------------------------------------------------------------------------\u001b[0m",
      "\u001b[0;31mNotFittedError\u001b[0m                            Traceback (most recent call last)",
      "\u001b[0;32m<ipython-input-22-44689a2b2028>\u001b[0m in \u001b[0;36m<module>\u001b[0;34m\u001b[0m\n\u001b[0;32m----> 1\u001b[0;31m \u001b[0mcol_index3\u001b[0m \u001b[0;34m=\u001b[0m \u001b[0mrfecv3\u001b[0m\u001b[0;34m.\u001b[0m\u001b[0mget_support\u001b[0m\u001b[0;34m(\u001b[0m\u001b[0mindices\u001b[0m\u001b[0;34m=\u001b[0m\u001b[0;32mTrue\u001b[0m\u001b[0;34m)\u001b[0m\u001b[0;34m\u001b[0m\u001b[0;34m\u001b[0m\u001b[0m\n\u001b[0m\u001b[1;32m      2\u001b[0m \u001b[0mXrfe\u001b[0m \u001b[0;34m=\u001b[0m \u001b[0mX\u001b[0m\u001b[0;34m[\u001b[0m\u001b[0;34m:\u001b[0m\u001b[0;34m,\u001b[0m\u001b[0mcol_index3\u001b[0m\u001b[0;34m]\u001b[0m\u001b[0;34m\u001b[0m\u001b[0;34m\u001b[0m\u001b[0m\n\u001b[1;32m      3\u001b[0m \u001b[0mXValrfe\u001b[0m \u001b[0;34m=\u001b[0m \u001b[0mXval\u001b[0m\u001b[0;34m[\u001b[0m\u001b[0;34m:\u001b[0m\u001b[0;34m,\u001b[0m\u001b[0mcol_index3\u001b[0m\u001b[0;34m]\u001b[0m\u001b[0;34m\u001b[0m\u001b[0;34m\u001b[0m\u001b[0m\n",
      "\u001b[0;32m~/anaconda3/envs/thesis/lib/python3.7/site-packages/sklearn/feature_selection/base.py\u001b[0m in \u001b[0;36mget_support\u001b[0;34m(self, indices)\u001b[0m\n\u001b[1;32m     45\u001b[0m             \u001b[0mvalues\u001b[0m \u001b[0mare\u001b[0m \u001b[0mindices\u001b[0m \u001b[0minto\u001b[0m \u001b[0mthe\u001b[0m \u001b[0minput\u001b[0m \u001b[0mfeature\u001b[0m \u001b[0mvector\u001b[0m\u001b[0;34m.\u001b[0m\u001b[0;34m\u001b[0m\u001b[0;34m\u001b[0m\u001b[0m\n\u001b[1;32m     46\u001b[0m         \"\"\"\n\u001b[0;32m---> 47\u001b[0;31m         \u001b[0mmask\u001b[0m \u001b[0;34m=\u001b[0m \u001b[0mself\u001b[0m\u001b[0;34m.\u001b[0m\u001b[0m_get_support_mask\u001b[0m\u001b[0;34m(\u001b[0m\u001b[0;34m)\u001b[0m\u001b[0;34m\u001b[0m\u001b[0;34m\u001b[0m\u001b[0m\n\u001b[0m\u001b[1;32m     48\u001b[0m         \u001b[0;32mreturn\u001b[0m \u001b[0mmask\u001b[0m \u001b[0;32mif\u001b[0m \u001b[0;32mnot\u001b[0m \u001b[0mindices\u001b[0m \u001b[0;32melse\u001b[0m \u001b[0mnp\u001b[0m\u001b[0;34m.\u001b[0m\u001b[0mwhere\u001b[0m\u001b[0;34m(\u001b[0m\u001b[0mmask\u001b[0m\u001b[0;34m)\u001b[0m\u001b[0;34m[\u001b[0m\u001b[0;36m0\u001b[0m\u001b[0;34m]\u001b[0m\u001b[0;34m\u001b[0m\u001b[0;34m\u001b[0m\u001b[0m\n\u001b[1;32m     49\u001b[0m \u001b[0;34m\u001b[0m\u001b[0m\n",
      "\u001b[0;32m~/anaconda3/envs/thesis/lib/python3.7/site-packages/sklearn/feature_selection/rfe.py\u001b[0m in \u001b[0;36m_get_support_mask\u001b[0;34m(self)\u001b[0m\n\u001b[1;32m    258\u001b[0m \u001b[0;34m\u001b[0m\u001b[0m\n\u001b[1;32m    259\u001b[0m     \u001b[0;32mdef\u001b[0m \u001b[0m_get_support_mask\u001b[0m\u001b[0;34m(\u001b[0m\u001b[0mself\u001b[0m\u001b[0;34m)\u001b[0m\u001b[0;34m:\u001b[0m\u001b[0;34m\u001b[0m\u001b[0;34m\u001b[0m\u001b[0m\n\u001b[0;32m--> 260\u001b[0;31m         \u001b[0mcheck_is_fitted\u001b[0m\u001b[0;34m(\u001b[0m\u001b[0mself\u001b[0m\u001b[0;34m,\u001b[0m \u001b[0;34m'support_'\u001b[0m\u001b[0;34m)\u001b[0m\u001b[0;34m\u001b[0m\u001b[0;34m\u001b[0m\u001b[0m\n\u001b[0m\u001b[1;32m    261\u001b[0m         \u001b[0;32mreturn\u001b[0m \u001b[0mself\u001b[0m\u001b[0;34m.\u001b[0m\u001b[0msupport_\u001b[0m\u001b[0;34m\u001b[0m\u001b[0;34m\u001b[0m\u001b[0m\n\u001b[1;32m    262\u001b[0m \u001b[0;34m\u001b[0m\u001b[0m\n",
      "\u001b[0;32m~/anaconda3/envs/thesis/lib/python3.7/site-packages/sklearn/utils/validation.py\u001b[0m in \u001b[0;36mcheck_is_fitted\u001b[0;34m(estimator, attributes, msg, all_or_any)\u001b[0m\n\u001b[1;32m    949\u001b[0m \u001b[0;34m\u001b[0m\u001b[0m\n\u001b[1;32m    950\u001b[0m     \u001b[0;32mif\u001b[0m \u001b[0;32mnot\u001b[0m \u001b[0mall_or_any\u001b[0m\u001b[0;34m(\u001b[0m\u001b[0;34m[\u001b[0m\u001b[0mhasattr\u001b[0m\u001b[0;34m(\u001b[0m\u001b[0mestimator\u001b[0m\u001b[0;34m,\u001b[0m \u001b[0mattr\u001b[0m\u001b[0;34m)\u001b[0m \u001b[0;32mfor\u001b[0m \u001b[0mattr\u001b[0m \u001b[0;32min\u001b[0m \u001b[0mattributes\u001b[0m\u001b[0;34m]\u001b[0m\u001b[0;34m)\u001b[0m\u001b[0;34m:\u001b[0m\u001b[0;34m\u001b[0m\u001b[0;34m\u001b[0m\u001b[0m\n\u001b[0;32m--> 951\u001b[0;31m         \u001b[0;32mraise\u001b[0m \u001b[0mNotFittedError\u001b[0m\u001b[0;34m(\u001b[0m\u001b[0mmsg\u001b[0m \u001b[0;34m%\u001b[0m \u001b[0;34m{\u001b[0m\u001b[0;34m'name'\u001b[0m\u001b[0;34m:\u001b[0m \u001b[0mtype\u001b[0m\u001b[0;34m(\u001b[0m\u001b[0mestimator\u001b[0m\u001b[0;34m)\u001b[0m\u001b[0;34m.\u001b[0m\u001b[0m__name__\u001b[0m\u001b[0;34m}\u001b[0m\u001b[0;34m)\u001b[0m\u001b[0;34m\u001b[0m\u001b[0;34m\u001b[0m\u001b[0m\n\u001b[0m\u001b[1;32m    952\u001b[0m \u001b[0;34m\u001b[0m\u001b[0m\n\u001b[1;32m    953\u001b[0m \u001b[0;34m\u001b[0m\u001b[0m\n",
      "\u001b[0;31mNotFittedError\u001b[0m: This RFECV instance is not fitted yet. Call 'fit' with appropriate arguments before using this method."
     ]
    }
   ],
   "source": [
    "col_index3 = rfecv3.get_support(indices=True)\n",
    "Xrfe = X[:,col_index3]\n",
    "XValrfe = Xval[:,col_index3]"
   ]
  },
  {
   "cell_type": "code",
   "execution_count": null,
   "metadata": {},
   "outputs": [],
   "source": [
    "col_index3.shape"
   ]
  },
  {
   "cell_type": "code",
   "execution_count": 18,
   "metadata": {},
   "outputs": [
    {
     "data": {
      "text/plain": [
       "array([['4_21_Finger_1_tip_fft_skew', '4_27_Finger_1_tip_ff2',\n",
       "        '6_26_Finger_2_tip_ff1', '7_1_Finger_3_base_std',\n",
       "        '7_2_Finger_3_base_min', '8_5_Finger_3_tip_75q',\n",
       "        '8_19_Finger_3_tip_fft_range', '8_44_Finger_3_tip_cwt_std',\n",
       "        '9_32_Finger_4_base_bandwith', '9_33_Finger_4_base_cwt_sums_0',\n",
       "        '10_17_Finger_4_tip_fft_75q', '10_19_Finger_4_tip_fft_range',\n",
       "        '10_20_Finger_4_tip_fft_var', '10_27_Finger_4_tip_ff2',\n",
       "        '10_46_Finger_4_tip_cwt_25q', '10_56_Finger_4_tip_peak_min',\n",
       "        '11_4_Thumb_tip_median', '11_5_Thumb_tip_75q',\n",
       "        '12_26_Finger_1_pressure_ff1', '12_49_Finger_1_pressure_cwt_max',\n",
       "        '16_10_Wrist_extension_kurtosis',\n",
       "        '16_12_Wrist_extension_fft_mean',\n",
       "        '16_14_Wrist_extension_fft_min', '16_17_Wrist_extension_fft_75q',\n",
       "        '16_19_Wrist_extension_fft_range',\n",
       "        '16_20_Wrist_extension_fft_var',\n",
       "        '16_21_Wrist_extension_fft_skew', '16_26_Wrist_extension_ff1',\n",
       "        '16_33_Wrist_extension_cwt_sums_0', '17_9_Wrist_flexion_skew',\n",
       "        '17_17_Wrist_flexion_fft_75q', '17_18_Wrist_flexion_fft_max',\n",
       "        '17_22_Wrist_flexion_fft_kurtosis',\n",
       "        '17_23_Wrist_flexion_fft_mode', '17_29_Wrist_flexion_ff4',\n",
       "        '17_30_Wrist_flexion_ff5', '17_32_Wrist_flexion_bandwith',\n",
       "        '17_36_Wrist_flexion_cwt_sums_3',\n",
       "        '17_38_Wrist_flexion_cwt_sums_5',\n",
       "        '17_39_Wrist_flexion_cwt_sums_6',\n",
       "        '20_16_Finger_1_Accel_Z_fft_median',\n",
       "        '20_42_Finger_1_Accel_Z_cwt_sums_9',\n",
       "        '20_58_Finger_1_Accel_Z_peak_mean', '21_0_Finger_1_Gyro_X_mean',\n",
       "        '21_1_Finger_1_Gyro_X_std', '21_13_Finger_1_Gyro_X_fft_std',\n",
       "        '22_2_Finger_1_Gyro_Y_min', '22_4_Finger_1_Gyro_Y_median',\n",
       "        '22_37_Finger_1_Gyro_Y_cwt_sums_4',\n",
       "        '23_49_Finger_1_Gyro_Z_cwt_max',\n",
       "        '24_34_Finger_2_Accel_X_cwt_sums_1',\n",
       "        '24_39_Finger_2_Accel_X_cwt_sums_6',\n",
       "        '24_53_Finger_2_Accel_X_cwt_kurtosis',\n",
       "        '25_10_Finger_2_Accel_Y_kurtosis', '25_11_Finger_2_Accel_Y_mode',\n",
       "        '25_37_Finger_2_Accel_Y_cwt_sums_4',\n",
       "        '28_39_Finger_2_Gyro_Y_cwt_sums_6',\n",
       "        '28_52_Finger_2_Gyro_Y_cwt_skew',\n",
       "        '30_35_Finger_3_Accel_X_cwt_sums_2',\n",
       "        '30_36_Finger_3_Accel_X_cwt_sums_3',\n",
       "        '30_37_Finger_3_Accel_X_cwt_sums_4',\n",
       "        '30_38_Finger_3_Accel_X_cwt_sums_5',\n",
       "        '31_17_Finger_3_Accel_Y_fft_75q',\n",
       "        '31_21_Finger_3_Accel_Y_fft_skew',\n",
       "        '32_36_Finger_3_Accel_Z_cwt_sums_3',\n",
       "        '32_37_Finger_3_Accel_Z_cwt_sums_4',\n",
       "        '32_38_Finger_3_Accel_Z_cwt_sums_5',\n",
       "        '32_39_Finger_3_Accel_Z_cwt_sums_6',\n",
       "        '32_43_Finger_3_Accel_Z_cwt_mean',\n",
       "        '33_17_Finger_3_Gyro_X_fft_75q',\n",
       "        '33_41_Finger_3_Gyro_X_cwt_sums_8',\n",
       "        '33_42_Finger_3_Gyro_X_cwt_sums_9',\n",
       "        '33_53_Finger_3_Gyro_X_cwt_kurtosis',\n",
       "        '34_37_Finger_3_Gyro_Y_cwt_sums_4',\n",
       "        '34_38_Finger_3_Gyro_Y_cwt_sums_5',\n",
       "        '34_39_Finger_3_Gyro_Y_cwt_sums_6',\n",
       "        '34_40_Finger_3_Gyro_Y_cwt_sums_7',\n",
       "        '34_45_Finger_3_Gyro_Y_cwt_min',\n",
       "        '35_23_Finger_3_Gyro_Z_fft_mode',\n",
       "        '35_42_Finger_3_Gyro_Z_cwt_sums_9',\n",
       "        '37_20_Finger_4_Accel_Y_fft_var',\n",
       "        '40_21_Finger_4_Gyro_Y_fft_skew',\n",
       "        '40_58_Finger_4_Gyro_Y_peak_mean',\n",
       "        '41_15_Finger_4_Gyro_Z_fft_25q',\n",
       "        '42_39_Thumb_Accel_X_cwt_sums_6',\n",
       "        '42_41_Thumb_Accel_X_cwt_sums_8', '42_46_Thumb_Accel_X_cwt_25q',\n",
       "        '42_47_Thumb_Accel_X_cwt_median', '42_52_Thumb_Accel_X_cwt_skew',\n",
       "        '42_58_Thumb_Accel_X_peak_mean', '43_5_Thumb_Accel_Y_75q',\n",
       "        '43_6_Thumb_Accel_Y_max', '43_16_Thumb_Accel_Y_fft_median',\n",
       "        '43_23_Thumb_Accel_Y_fft_mode', '43_50_Thumb_Accel_Y_cwt_range',\n",
       "        '44_22_Thumb_Accel_Z_fft_kurtosis', '44_28_Thumb_Accel_Z_ff3',\n",
       "        '44_32_Thumb_Accel_Z_bandwith', '44_33_Thumb_Accel_Z_cwt_sums_0',\n",
       "        '44_38_Thumb_Accel_Z_cwt_sums_5',\n",
       "        '45_47_Thumb_Gyro_X_cwt_median', '45_50_Thumb_Gyro_X_cwt_range',\n",
       "        '45_56_Thumb_Gyro_X_peak_min', '45_58_Thumb_Gyro_X_peak_mean',\n",
       "        '46_0_Thumb_Gyro_Y_mean', '46_48_Thumb_Gyro_Y_cwt_75q',\n",
       "        '49_6_Palm_Accel_Y_max', '49_24_Palm_Accel_Y_spectral_centroid',\n",
       "        '71_11_Finger_2_Accel_Y_lin_accel_mode',\n",
       "        '71_14_Finger_2_Accel_Y_lin_accel_fft_min',\n",
       "        '71_58_Finger_2_Accel_Y_lin_accel_peak_mean',\n",
       "        '72_0_Finger_2_Accel_Z_lin_accel_mean',\n",
       "        '72_35_Finger_2_Accel_Z_lin_accel_cwt_sums_2',\n",
       "        '73_12_Finger_3_Accel_X_lin_accel_fft_mean',\n",
       "        '73_15_Finger_3_Accel_X_lin_accel_fft_25q',\n",
       "        '73_27_Finger_3_Accel_X_lin_accel_ff2',\n",
       "        '73_28_Finger_3_Accel_X_lin_accel_ff3',\n",
       "        '97_18_Finger_4_Accel_Y_lin_accel_absolute_lin_froce_fft_max',\n",
       "        '97_24_Finger_4_Accel_Y_lin_accel_absolute_lin_froce_spectral_centroid',\n",
       "        '97_25_Finger_4_Accel_Y_lin_accel_absolute_lin_froce_spectral_entropy',\n",
       "        '97_32_Finger_4_Accel_Y_lin_accel_absolute_lin_froce_bandwith',\n",
       "        '99_9_Palm_Accel_Y_lin_accel_absolute_lin_froce_skew',\n",
       "        '99_17_Palm_Accel_Y_lin_accel_absolute_lin_froce_fft_75q',\n",
       "        '99_27_Palm_Accel_Y_lin_accel_absolute_lin_froce_ff2',\n",
       "        '99_28_Palm_Accel_Y_lin_accel_absolute_lin_froce_ff3',\n",
       "        '99_29_Palm_Accel_Y_lin_accel_absolute_lin_froce_ff4',\n",
       "        '99_34_Palm_Accel_Y_lin_accel_absolute_lin_froce_cwt_sums_1',\n",
       "        '101_7_Finger_2_Accel_absolute_froce_absolute_lin_froce_range',\n",
       "        '101_13_Finger_2_Accel_absolute_froce_absolute_lin_froce_fft_std',\n",
       "        '101_25_Finger_2_Accel_absolute_froce_absolute_lin_froce_spectral_entropy',\n",
       "        '101_30_Finger_2_Accel_absolute_froce_absolute_lin_froce_ff5',\n",
       "        '101_31_Finger_2_Accel_absolute_froce_absolute_lin_froce_freq_5sum',\n",
       "        '104_51_Finger_1_Gyro_Z_direction_cosine_cwt_var',\n",
       "        '106_52_Finger_2_Gyro_Y_direction_cosine_cwt_skew',\n",
       "        '107_15_Finger_2_Gyro_Z_direction_cosine_fft_25q',\n",
       "        '107_25_Finger_2_Gyro_Z_direction_cosine_spectral_entropy',\n",
       "        '107_37_Finger_2_Gyro_Z_direction_cosine_cwt_sums_4',\n",
       "        '107_39_Finger_2_Gyro_Z_direction_cosine_cwt_sums_6',\n",
       "        '107_45_Finger_2_Gyro_Z_direction_cosine_cwt_min',\n",
       "        '107_50_Finger_2_Gyro_Z_direction_cosine_cwt_range',\n",
       "        '108_21_Finger_3_Gyro_X_direction_cosine_fft_skew',\n",
       "        '108_22_Finger_3_Gyro_X_direction_cosine_fft_kurtosis',\n",
       "        '108_54_Finger_3_Gyro_X_direction_cosine_cwt_mode',\n",
       "        '109_0_Finger_3_Gyro_Y_direction_cosine_mean',\n",
       "        '109_2_Finger_3_Gyro_Y_direction_cosine_min',\n",
       "        '109_29_Finger_3_Gyro_Y_direction_cosine_ff4',\n",
       "        '109_43_Finger_3_Gyro_Y_direction_cosine_cwt_mean',\n",
       "        '110_21_Finger_3_Gyro_Z_direction_cosine_fft_skew',\n",
       "        '110_30_Finger_3_Gyro_Z_direction_cosine_ff5',\n",
       "        '111_0_Finger_4_Gyro_X_direction_cosine_mean',\n",
       "        '111_13_Finger_4_Gyro_X_direction_cosine_fft_std',\n",
       "        '111_14_Finger_4_Gyro_X_direction_cosine_fft_min',\n",
       "        '111_18_Finger_4_Gyro_X_direction_cosine_fft_max',\n",
       "        '111_19_Finger_4_Gyro_X_direction_cosine_fft_range',\n",
       "        '111_20_Finger_4_Gyro_X_direction_cosine_fft_var',\n",
       "        '111_24_Finger_4_Gyro_X_direction_cosine_spectral_centroid',\n",
       "        '111_25_Finger_4_Gyro_X_direction_cosine_spectral_entropy',\n",
       "        '111_30_Finger_4_Gyro_X_direction_cosine_ff5',\n",
       "        '111_32_Finger_4_Gyro_X_direction_cosine_bandwith',\n",
       "        '111_37_Finger_4_Gyro_X_direction_cosine_cwt_sums_4',\n",
       "        '111_40_Finger_4_Gyro_X_direction_cosine_cwt_sums_7',\n",
       "        '111_42_Finger_4_Gyro_X_direction_cosine_cwt_sums_9',\n",
       "        '111_43_Finger_4_Gyro_X_direction_cosine_cwt_mean',\n",
       "        '111_48_Finger_4_Gyro_X_direction_cosine_cwt_75q',\n",
       "        '111_50_Finger_4_Gyro_X_direction_cosine_cwt_range',\n",
       "        '111_54_Finger_4_Gyro_X_direction_cosine_cwt_mode',\n",
       "        '111_55_Finger_4_Gyro_X_direction_cosine_num_peaks',\n",
       "        '111_56_Finger_4_Gyro_X_direction_cosine_peak_min',\n",
       "        '112_1_Finger_4_Gyro_Y_direction_cosine_std',\n",
       "        '112_4_Finger_4_Gyro_Y_direction_cosine_median',\n",
       "        '112_5_Finger_4_Gyro_Y_direction_cosine_75q',\n",
       "        '112_6_Finger_4_Gyro_Y_direction_cosine_max',\n",
       "        '112_7_Finger_4_Gyro_Y_direction_cosine_range',\n",
       "        '112_9_Finger_4_Gyro_Y_direction_cosine_skew',\n",
       "        '112_11_Finger_4_Gyro_Y_direction_cosine_mode',\n",
       "        '112_12_Finger_4_Gyro_Y_direction_cosine_fft_mean',\n",
       "        '112_13_Finger_4_Gyro_Y_direction_cosine_fft_std',\n",
       "        '112_14_Finger_4_Gyro_Y_direction_cosine_fft_min',\n",
       "        '112_15_Finger_4_Gyro_Y_direction_cosine_fft_25q',\n",
       "        '112_16_Finger_4_Gyro_Y_direction_cosine_fft_median',\n",
       "        '112_17_Finger_4_Gyro_Y_direction_cosine_fft_75q',\n",
       "        '112_18_Finger_4_Gyro_Y_direction_cosine_fft_max',\n",
       "        '112_25_Finger_4_Gyro_Y_direction_cosine_spectral_entropy',\n",
       "        '112_29_Finger_4_Gyro_Y_direction_cosine_ff4',\n",
       "        '118_22_Palm_Gyro_Y_direction_cosine_fft_kurtosis',\n",
       "        '118_23_Palm_Gyro_Y_direction_cosine_fft_mode',\n",
       "        '118_35_Palm_Gyro_Y_direction_cosine_cwt_sums_2',\n",
       "        '119_41_Palm_Gyro_Z_direction_cosine_cwt_sums_8',\n",
       "        '7035_fftPval_0_5', '7038_xcorr_0_5', '7145_diffFFT_11_10',\n",
       "        '7172_diffFFT_4_10']], dtype='<U73')"
      ]
     },
     "execution_count": 18,
     "metadata": {},
     "output_type": "execute_result"
    }
   ],
   "source": [
    "rfe_features = features[:,col_index3]\n",
    "rfe_features"
   ]
  },
  {
   "cell_type": "code",
   "execution_count": 20,
   "metadata": {},
   "outputs": [],
   "source": [
    "with open( stats_added_base_path+'train-data-rfecv3.pk', \"wb\" ) as users_pickle_file:\n",
    "    pickle.dump({\n",
    "        'X': Xrfe, 'y': y, 'Xval' : XValrfe, 'yval': yval, \n",
    "        'gestures' : gestures, 'headers': rfe_features\n",
    "    }, users_pickle_file)"
   ]
  },
  {
   "cell_type": "markdown",
   "metadata": {},
   "source": [
    "## RFE with Lasso, $\\alpha$ = 0.9"
   ]
  },
  {
   "cell_type": "code",
   "execution_count": 9,
   "metadata": {
    "scrolled": true
   },
   "outputs": [
    {
     "name": "stdout",
     "output_type": "stream",
     "text": [
      "svc start\n",
      "svc fittet\n",
      "rfe start\n",
      "Fitting estimator with 3821 features.\n",
      "Fitting estimator with 3630 features.\n",
      "Fitting estimator with 3439 features.\n",
      "Fitting estimator with 3248 features.\n",
      "Fitting estimator with 2866 features.\n",
      "Fitting estimator with 2675 features.\n",
      "Fitting estimator with 2484 features.\n",
      "Fitting estimator with 2293 features.\n",
      "Fitting estimator with 2102 features.\n",
      "Fitting estimator with 1911 features.\n",
      "Fitting estimator with 1720 features.\n",
      "Fitting estimator with 1529 features.\n",
      "Fitting estimator with 1338 features.\n",
      "Fitting estimator with 1147 features.\n",
      "Fitting estimator with 956 features.\n",
      "Fitting estimator with 765 features.\n",
      "Fitting estimator with 574 features.\n",
      "Fitting estimator with 383 features.\n",
      "Fitting estimator with 192 features.\n",
      "Fitting estimator with 3821 features.\n",
      "Fitting estimator with 3630 features.\n",
      "Fitting estimator with 3439 features.\n",
      "Fitting estimator with 3248 features.\n",
      "Fitting estimator with 3057 features.\n",
      "Fitting estimator with 2866 features.\n",
      "Fitting estimator with 2675 features.\n",
      "Fitting estimator with 2484 features.\n",
      "Fitting estimator with 2293 features.\n",
      "Fitting estimator with 2102 features.\n",
      "Fitting estimator with 1911 features.\n",
      "Fitting estimator with 1720 features.\n",
      "Fitting estimator with 1529 features.\n",
      "Fitting estimator with 1338 features.\n",
      "Fitting estimator with 1147 features.\n",
      "Fitting estimator with 956 features.\n",
      "Fitting estimator with 765 features.\n",
      "Fitting estimator with 574 features.\n",
      "Fitting estimator with 383 features.\n",
      "Fitting estimator with 192 features.\n",
      "Fitting estimator with 3821 features.\n"
     ]
    },
    {
     "name": "stderr",
     "output_type": "stream",
     "text": [
      "/home/jsimon/anaconda3/envs/thesis/lib/python3.7/site-packages/sklearn/linear_model/coordinate_descent.py:492: ConvergenceWarning: Objective did not converge. You might want to increase the number of iterations. Fitting data with very small alpha may cause precision problems.\n",
      "  ConvergenceWarning)\n"
     ]
    },
    {
     "name": "stdout",
     "output_type": "stream",
     "text": [
      "Fitting estimator with 3630 features.\n"
     ]
    },
    {
     "name": "stderr",
     "output_type": "stream",
     "text": [
      "/home/jsimon/anaconda3/envs/thesis/lib/python3.7/site-packages/sklearn/linear_model/coordinate_descent.py:492: ConvergenceWarning: Objective did not converge. You might want to increase the number of iterations. Fitting data with very small alpha may cause precision problems.\n",
      "  ConvergenceWarning)\n"
     ]
    },
    {
     "name": "stdout",
     "output_type": "stream",
     "text": [
      "Fitting estimator with 3439 features.\n"
     ]
    },
    {
     "name": "stderr",
     "output_type": "stream",
     "text": [
      "/home/jsimon/anaconda3/envs/thesis/lib/python3.7/site-packages/sklearn/linear_model/coordinate_descent.py:492: ConvergenceWarning: Objective did not converge. You might want to increase the number of iterations. Fitting data with very small alpha may cause precision problems.\n",
      "  ConvergenceWarning)\n"
     ]
    },
    {
     "name": "stdout",
     "output_type": "stream",
     "text": [
      "Fitting estimator with 3248 features.\n"
     ]
    },
    {
     "name": "stderr",
     "output_type": "stream",
     "text": [
      "/home/jsimon/anaconda3/envs/thesis/lib/python3.7/site-packages/sklearn/linear_model/coordinate_descent.py:492: ConvergenceWarning: Objective did not converge. You might want to increase the number of iterations. Fitting data with very small alpha may cause precision problems.\n",
      "  ConvergenceWarning)\n"
     ]
    },
    {
     "name": "stdout",
     "output_type": "stream",
     "text": [
      "Fitting estimator with 3057 features.\n"
     ]
    },
    {
     "name": "stderr",
     "output_type": "stream",
     "text": [
      "/home/jsimon/anaconda3/envs/thesis/lib/python3.7/site-packages/sklearn/linear_model/coordinate_descent.py:492: ConvergenceWarning: Objective did not converge. You might want to increase the number of iterations. Fitting data with very small alpha may cause precision problems.\n",
      "  ConvergenceWarning)\n"
     ]
    },
    {
     "name": "stdout",
     "output_type": "stream",
     "text": [
      "Fitting estimator with 2866 features.\n"
     ]
    },
    {
     "name": "stderr",
     "output_type": "stream",
     "text": [
      "/home/jsimon/anaconda3/envs/thesis/lib/python3.7/site-packages/sklearn/linear_model/coordinate_descent.py:492: ConvergenceWarning: Objective did not converge. You might want to increase the number of iterations. Fitting data with very small alpha may cause precision problems.\n",
      "  ConvergenceWarning)\n"
     ]
    },
    {
     "name": "stdout",
     "output_type": "stream",
     "text": [
      "Fitting estimator with 2675 features.\n"
     ]
    },
    {
     "name": "stderr",
     "output_type": "stream",
     "text": [
      "/home/jsimon/anaconda3/envs/thesis/lib/python3.7/site-packages/sklearn/linear_model/coordinate_descent.py:492: ConvergenceWarning: Objective did not converge. You might want to increase the number of iterations. Fitting data with very small alpha may cause precision problems.\n",
      "  ConvergenceWarning)\n"
     ]
    },
    {
     "name": "stdout",
     "output_type": "stream",
     "text": [
      "Fitting estimator with 2484 features.\n"
     ]
    },
    {
     "name": "stderr",
     "output_type": "stream",
     "text": [
      "/home/jsimon/anaconda3/envs/thesis/lib/python3.7/site-packages/sklearn/linear_model/coordinate_descent.py:492: ConvergenceWarning: Objective did not converge. You might want to increase the number of iterations. Fitting data with very small alpha may cause precision problems.\n",
      "  ConvergenceWarning)\n"
     ]
    },
    {
     "name": "stdout",
     "output_type": "stream",
     "text": [
      "Fitting estimator with 2293 features.\n"
     ]
    },
    {
     "name": "stderr",
     "output_type": "stream",
     "text": [
      "/home/jsimon/anaconda3/envs/thesis/lib/python3.7/site-packages/sklearn/linear_model/coordinate_descent.py:492: ConvergenceWarning: Objective did not converge. You might want to increase the number of iterations. Fitting data with very small alpha may cause precision problems.\n",
      "  ConvergenceWarning)\n"
     ]
    },
    {
     "name": "stdout",
     "output_type": "stream",
     "text": [
      "Fitting estimator with 2102 features.\n"
     ]
    },
    {
     "name": "stderr",
     "output_type": "stream",
     "text": [
      "/home/jsimon/anaconda3/envs/thesis/lib/python3.7/site-packages/sklearn/linear_model/coordinate_descent.py:492: ConvergenceWarning: Objective did not converge. You might want to increase the number of iterations. Fitting data with very small alpha may cause precision problems.\n",
      "  ConvergenceWarning)\n"
     ]
    },
    {
     "name": "stdout",
     "output_type": "stream",
     "text": [
      "Fitting estimator with 1911 features.\n"
     ]
    },
    {
     "name": "stderr",
     "output_type": "stream",
     "text": [
      "/home/jsimon/anaconda3/envs/thesis/lib/python3.7/site-packages/sklearn/linear_model/coordinate_descent.py:492: ConvergenceWarning: Objective did not converge. You might want to increase the number of iterations. Fitting data with very small alpha may cause precision problems.\n",
      "  ConvergenceWarning)\n"
     ]
    },
    {
     "name": "stdout",
     "output_type": "stream",
     "text": [
      "Fitting estimator with 1720 features.\n"
     ]
    },
    {
     "name": "stderr",
     "output_type": "stream",
     "text": [
      "/home/jsimon/anaconda3/envs/thesis/lib/python3.7/site-packages/sklearn/linear_model/coordinate_descent.py:492: ConvergenceWarning: Objective did not converge. You might want to increase the number of iterations. Fitting data with very small alpha may cause precision problems.\n",
      "  ConvergenceWarning)\n"
     ]
    },
    {
     "name": "stdout",
     "output_type": "stream",
     "text": [
      "Fitting estimator with 1529 features.\n"
     ]
    },
    {
     "name": "stderr",
     "output_type": "stream",
     "text": [
      "/home/jsimon/anaconda3/envs/thesis/lib/python3.7/site-packages/sklearn/linear_model/coordinate_descent.py:492: ConvergenceWarning: Objective did not converge. You might want to increase the number of iterations. Fitting data with very small alpha may cause precision problems.\n",
      "  ConvergenceWarning)\n"
     ]
    },
    {
     "name": "stdout",
     "output_type": "stream",
     "text": [
      "Fitting estimator with 1338 features.\n"
     ]
    },
    {
     "name": "stderr",
     "output_type": "stream",
     "text": [
      "/home/jsimon/anaconda3/envs/thesis/lib/python3.7/site-packages/sklearn/linear_model/coordinate_descent.py:492: ConvergenceWarning: Objective did not converge. You might want to increase the number of iterations. Fitting data with very small alpha may cause precision problems.\n",
      "  ConvergenceWarning)\n"
     ]
    },
    {
     "name": "stdout",
     "output_type": "stream",
     "text": [
      "Fitting estimator with 1147 features.\n"
     ]
    },
    {
     "name": "stderr",
     "output_type": "stream",
     "text": [
      "/home/jsimon/anaconda3/envs/thesis/lib/python3.7/site-packages/sklearn/linear_model/coordinate_descent.py:492: ConvergenceWarning: Objective did not converge. You might want to increase the number of iterations. Fitting data with very small alpha may cause precision problems.\n",
      "  ConvergenceWarning)\n"
     ]
    },
    {
     "name": "stdout",
     "output_type": "stream",
     "text": [
      "Fitting estimator with 956 features.\n"
     ]
    },
    {
     "name": "stderr",
     "output_type": "stream",
     "text": [
      "/home/jsimon/anaconda3/envs/thesis/lib/python3.7/site-packages/sklearn/linear_model/coordinate_descent.py:492: ConvergenceWarning: Objective did not converge. You might want to increase the number of iterations. Fitting data with very small alpha may cause precision problems.\n",
      "  ConvergenceWarning)\n"
     ]
    },
    {
     "name": "stdout",
     "output_type": "stream",
     "text": [
      "Fitting estimator with 765 features.\n"
     ]
    },
    {
     "name": "stderr",
     "output_type": "stream",
     "text": [
      "/home/jsimon/anaconda3/envs/thesis/lib/python3.7/site-packages/sklearn/linear_model/coordinate_descent.py:492: ConvergenceWarning: Objective did not converge. You might want to increase the number of iterations. Fitting data with very small alpha may cause precision problems.\n",
      "  ConvergenceWarning)\n"
     ]
    },
    {
     "name": "stdout",
     "output_type": "stream",
     "text": [
      "Fitting estimator with 574 features.\n"
     ]
    },
    {
     "name": "stderr",
     "output_type": "stream",
     "text": [
      "/home/jsimon/anaconda3/envs/thesis/lib/python3.7/site-packages/sklearn/linear_model/coordinate_descent.py:492: ConvergenceWarning: Objective did not converge. You might want to increase the number of iterations. Fitting data with very small alpha may cause precision problems.\n",
      "  ConvergenceWarning)\n"
     ]
    },
    {
     "name": "stdout",
     "output_type": "stream",
     "text": [
      "Fitting estimator with 383 features.\n"
     ]
    },
    {
     "name": "stderr",
     "output_type": "stream",
     "text": [
      "/home/jsimon/anaconda3/envs/thesis/lib/python3.7/site-packages/sklearn/linear_model/coordinate_descent.py:492: ConvergenceWarning: Objective did not converge. You might want to increase the number of iterations. Fitting data with very small alpha may cause precision problems.\n",
      "  ConvergenceWarning)\n"
     ]
    },
    {
     "name": "stdout",
     "output_type": "stream",
     "text": [
      "Fitting estimator with 192 features.\n"
     ]
    },
    {
     "name": "stderr",
     "output_type": "stream",
     "text": [
      "/home/jsimon/anaconda3/envs/thesis/lib/python3.7/site-packages/sklearn/linear_model/coordinate_descent.py:492: ConvergenceWarning: Objective did not converge. You might want to increase the number of iterations. Fitting data with very small alpha may cause precision problems.\n",
      "  ConvergenceWarning)\n"
     ]
    },
    {
     "name": "stdout",
     "output_type": "stream",
     "text": [
      "Fitting estimator with 3821 features.\n"
     ]
    },
    {
     "name": "stderr",
     "output_type": "stream",
     "text": [
      "/home/jsimon/anaconda3/envs/thesis/lib/python3.7/site-packages/sklearn/linear_model/coordinate_descent.py:492: ConvergenceWarning: Objective did not converge. You might want to increase the number of iterations. Fitting data with very small alpha may cause precision problems.\n",
      "  ConvergenceWarning)\n"
     ]
    },
    {
     "name": "stdout",
     "output_type": "stream",
     "text": [
      "Fitting estimator with 3630 features.\n"
     ]
    },
    {
     "name": "stderr",
     "output_type": "stream",
     "text": [
      "/home/jsimon/anaconda3/envs/thesis/lib/python3.7/site-packages/sklearn/linear_model/coordinate_descent.py:492: ConvergenceWarning: Objective did not converge. You might want to increase the number of iterations. Fitting data with very small alpha may cause precision problems.\n",
      "  ConvergenceWarning)\n"
     ]
    },
    {
     "name": "stdout",
     "output_type": "stream",
     "text": [
      "Fitting estimator with 3439 features.\n"
     ]
    },
    {
     "name": "stderr",
     "output_type": "stream",
     "text": [
      "/home/jsimon/anaconda3/envs/thesis/lib/python3.7/site-packages/sklearn/linear_model/coordinate_descent.py:492: ConvergenceWarning: Objective did not converge. You might want to increase the number of iterations. Fitting data with very small alpha may cause precision problems.\n",
      "  ConvergenceWarning)\n"
     ]
    },
    {
     "name": "stdout",
     "output_type": "stream",
     "text": [
      "Fitting estimator with 3248 features.\n"
     ]
    },
    {
     "name": "stderr",
     "output_type": "stream",
     "text": [
      "/home/jsimon/anaconda3/envs/thesis/lib/python3.7/site-packages/sklearn/linear_model/coordinate_descent.py:492: ConvergenceWarning: Objective did not converge. You might want to increase the number of iterations. Fitting data with very small alpha may cause precision problems.\n",
      "  ConvergenceWarning)\n"
     ]
    },
    {
     "name": "stdout",
     "output_type": "stream",
     "text": [
      "Fitting estimator with 3057 features.\n"
     ]
    },
    {
     "name": "stderr",
     "output_type": "stream",
     "text": [
      "/home/jsimon/anaconda3/envs/thesis/lib/python3.7/site-packages/sklearn/linear_model/coordinate_descent.py:492: ConvergenceWarning: Objective did not converge. You might want to increase the number of iterations. Fitting data with very small alpha may cause precision problems.\n",
      "  ConvergenceWarning)\n"
     ]
    },
    {
     "name": "stdout",
     "output_type": "stream",
     "text": [
      "Fitting estimator with 2866 features.\n"
     ]
    },
    {
     "name": "stderr",
     "output_type": "stream",
     "text": [
      "/home/jsimon/anaconda3/envs/thesis/lib/python3.7/site-packages/sklearn/linear_model/coordinate_descent.py:492: ConvergenceWarning: Objective did not converge. You might want to increase the number of iterations. Fitting data with very small alpha may cause precision problems.\n",
      "  ConvergenceWarning)\n"
     ]
    },
    {
     "name": "stdout",
     "output_type": "stream",
     "text": [
      "Fitting estimator with 2675 features.\n"
     ]
    },
    {
     "name": "stderr",
     "output_type": "stream",
     "text": [
      "/home/jsimon/anaconda3/envs/thesis/lib/python3.7/site-packages/sklearn/linear_model/coordinate_descent.py:492: ConvergenceWarning: Objective did not converge. You might want to increase the number of iterations. Fitting data with very small alpha may cause precision problems.\n",
      "  ConvergenceWarning)\n"
     ]
    },
    {
     "name": "stdout",
     "output_type": "stream",
     "text": [
      "Fitting estimator with 2484 features.\n"
     ]
    },
    {
     "name": "stderr",
     "output_type": "stream",
     "text": [
      "/home/jsimon/anaconda3/envs/thesis/lib/python3.7/site-packages/sklearn/linear_model/coordinate_descent.py:492: ConvergenceWarning: Objective did not converge. You might want to increase the number of iterations. Fitting data with very small alpha may cause precision problems.\n",
      "  ConvergenceWarning)\n"
     ]
    },
    {
     "name": "stdout",
     "output_type": "stream",
     "text": [
      "Fitting estimator with 2293 features.\n"
     ]
    },
    {
     "name": "stderr",
     "output_type": "stream",
     "text": [
      "/home/jsimon/anaconda3/envs/thesis/lib/python3.7/site-packages/sklearn/linear_model/coordinate_descent.py:492: ConvergenceWarning: Objective did not converge. You might want to increase the number of iterations. Fitting data with very small alpha may cause precision problems.\n",
      "  ConvergenceWarning)\n"
     ]
    },
    {
     "name": "stdout",
     "output_type": "stream",
     "text": [
      "Fitting estimator with 2102 features.\n"
     ]
    },
    {
     "name": "stderr",
     "output_type": "stream",
     "text": [
      "/home/jsimon/anaconda3/envs/thesis/lib/python3.7/site-packages/sklearn/linear_model/coordinate_descent.py:492: ConvergenceWarning: Objective did not converge. You might want to increase the number of iterations. Fitting data with very small alpha may cause precision problems.\n",
      "  ConvergenceWarning)\n"
     ]
    },
    {
     "name": "stdout",
     "output_type": "stream",
     "text": [
      "Fitting estimator with 1911 features.\n"
     ]
    },
    {
     "name": "stderr",
     "output_type": "stream",
     "text": [
      "/home/jsimon/anaconda3/envs/thesis/lib/python3.7/site-packages/sklearn/linear_model/coordinate_descent.py:492: ConvergenceWarning: Objective did not converge. You might want to increase the number of iterations. Fitting data with very small alpha may cause precision problems.\n",
      "  ConvergenceWarning)\n"
     ]
    },
    {
     "name": "stdout",
     "output_type": "stream",
     "text": [
      "Fitting estimator with 1720 features.\n"
     ]
    },
    {
     "name": "stderr",
     "output_type": "stream",
     "text": [
      "/home/jsimon/anaconda3/envs/thesis/lib/python3.7/site-packages/sklearn/linear_model/coordinate_descent.py:492: ConvergenceWarning: Objective did not converge. You might want to increase the number of iterations. Fitting data with very small alpha may cause precision problems.\n",
      "  ConvergenceWarning)\n"
     ]
    },
    {
     "name": "stdout",
     "output_type": "stream",
     "text": [
      "Fitting estimator with 1529 features.\n"
     ]
    },
    {
     "name": "stderr",
     "output_type": "stream",
     "text": [
      "/home/jsimon/anaconda3/envs/thesis/lib/python3.7/site-packages/sklearn/linear_model/coordinate_descent.py:492: ConvergenceWarning: Objective did not converge. You might want to increase the number of iterations. Fitting data with very small alpha may cause precision problems.\n",
      "  ConvergenceWarning)\n"
     ]
    },
    {
     "name": "stdout",
     "output_type": "stream",
     "text": [
      "Fitting estimator with 1338 features.\n"
     ]
    },
    {
     "name": "stderr",
     "output_type": "stream",
     "text": [
      "/home/jsimon/anaconda3/envs/thesis/lib/python3.7/site-packages/sklearn/linear_model/coordinate_descent.py:492: ConvergenceWarning: Objective did not converge. You might want to increase the number of iterations. Fitting data with very small alpha may cause precision problems.\n",
      "  ConvergenceWarning)\n"
     ]
    },
    {
     "name": "stdout",
     "output_type": "stream",
     "text": [
      "Fitting estimator with 1147 features.\n"
     ]
    },
    {
     "name": "stderr",
     "output_type": "stream",
     "text": [
      "/home/jsimon/anaconda3/envs/thesis/lib/python3.7/site-packages/sklearn/linear_model/coordinate_descent.py:492: ConvergenceWarning: Objective did not converge. You might want to increase the number of iterations. Fitting data with very small alpha may cause precision problems.\n",
      "  ConvergenceWarning)\n"
     ]
    },
    {
     "name": "stdout",
     "output_type": "stream",
     "text": [
      "Fitting estimator with 956 features.\n"
     ]
    },
    {
     "name": "stderr",
     "output_type": "stream",
     "text": [
      "/home/jsimon/anaconda3/envs/thesis/lib/python3.7/site-packages/sklearn/linear_model/coordinate_descent.py:492: ConvergenceWarning: Objective did not converge. You might want to increase the number of iterations. Fitting data with very small alpha may cause precision problems.\n",
      "  ConvergenceWarning)\n"
     ]
    },
    {
     "name": "stdout",
     "output_type": "stream",
     "text": [
      "Fitting estimator with 765 features.\n"
     ]
    },
    {
     "name": "stderr",
     "output_type": "stream",
     "text": [
      "/home/jsimon/anaconda3/envs/thesis/lib/python3.7/site-packages/sklearn/linear_model/coordinate_descent.py:492: ConvergenceWarning: Objective did not converge. You might want to increase the number of iterations. Fitting data with very small alpha may cause precision problems.\n",
      "  ConvergenceWarning)\n"
     ]
    },
    {
     "name": "stdout",
     "output_type": "stream",
     "text": [
      "Fitting estimator with 574 features.\n"
     ]
    },
    {
     "name": "stderr",
     "output_type": "stream",
     "text": [
      "/home/jsimon/anaconda3/envs/thesis/lib/python3.7/site-packages/sklearn/linear_model/coordinate_descent.py:492: ConvergenceWarning: Objective did not converge. You might want to increase the number of iterations. Fitting data with very small alpha may cause precision problems.\n",
      "  ConvergenceWarning)\n"
     ]
    },
    {
     "name": "stdout",
     "output_type": "stream",
     "text": [
      "Fitting estimator with 383 features.\n"
     ]
    },
    {
     "name": "stderr",
     "output_type": "stream",
     "text": [
      "/home/jsimon/anaconda3/envs/thesis/lib/python3.7/site-packages/sklearn/linear_model/coordinate_descent.py:492: ConvergenceWarning: Objective did not converge. You might want to increase the number of iterations. Fitting data with very small alpha may cause precision problems.\n",
      "  ConvergenceWarning)\n"
     ]
    },
    {
     "name": "stdout",
     "output_type": "stream",
     "text": [
      "Fitting estimator with 192 features.\n"
     ]
    },
    {
     "name": "stderr",
     "output_type": "stream",
     "text": [
      "/home/jsimon/anaconda3/envs/thesis/lib/python3.7/site-packages/sklearn/linear_model/coordinate_descent.py:492: ConvergenceWarning: Objective did not converge. You might want to increase the number of iterations. Fitting data with very small alpha may cause precision problems.\n",
      "  ConvergenceWarning)\n"
     ]
    },
    {
     "name": "stdout",
     "output_type": "stream",
     "text": [
      "Fitting estimator with 3821 features.\n",
      "Fitting estimator with 3630 features.\n",
      "Fitting estimator with 3439 features.\n",
      "Fitting estimator with 3248 features.\n",
      "Fitting estimator with 3057 features.\n",
      "Fitting estimator with 2866 features.\n",
      "Fitting estimator with 2675 features.\n",
      "Fitting estimator with 2484 features.\n",
      "Fitting estimator with 2293 features.\n",
      "Fitting estimator with 2102 features.\n",
      "Fitting estimator with 1911 features.\n",
      "Fitting estimator with 1720 features.\n",
      "Fitting estimator with 1529 features.\n",
      "Fitting estimator with 1338 features.\n",
      "Fitting estimator with 1147 features.\n",
      "Fitting estimator with 956 features.\n",
      "Fitting estimator with 765 features.\n",
      "Fitting estimator with 574 features.\n",
      "Fitting estimator with 383 features.\n",
      "Fitting estimator with 192 features.\n",
      "Fitting estimator with 3821 features.\n",
      "Fitting estimator with 3630 features.\n",
      "Fitting estimator with 3439 features.\n",
      "Fitting estimator with 3248 features.\n",
      "Fitting estimator with 3057 features.\n",
      "Fitting estimator with 2866 features.\n",
      "Fitting estimator with 2675 features.\n",
      "Fitting estimator with 2484 features.\n",
      "Fitting estimator with 2293 features.\n",
      "Fitting estimator with 2102 features.\n",
      "Fitting estimator with 1911 features.\n",
      "Fitting estimator with 1720 features.\n",
      "Fitting estimator with 1529 features.\n",
      "Fitting estimator with 1338 features.\n",
      "Fitting estimator with 1147 features.\n",
      "Fitting estimator with 956 features.\n",
      "Fitting estimator with 765 features.\n",
      "Fitting estimator with 574 features.\n",
      "Fitting estimator with 383 features.\n",
      "rfe fittet\n"
     ]
    }
   ],
   "source": [
    "linc3 = sklearn.linear_model.Lasso(alpha = 0.9, max_iter=2000, tol=1e-4)\n",
    "print('svc start')\n",
    "linc3.fit(X, y)\n",
    "print('svc fittet')\n",
    "rfecv3 = fs.RFECV(estimator=linc3, cv=5, step=0.05, verbose=2)\n",
    "print('rfe start')\n",
    "rfecv3.fit(X, y)\n",
    "print('rfe fittet')\n",
    "col_index3 = rfecv3.get_support(indices=True)"
   ]
  },
  {
   "cell_type": "code",
   "execution_count": 10,
   "metadata": {},
   "outputs": [],
   "source": [
    "col_index3 = rfecv3.get_support(indices=True)\n",
    "Xrfe = X[:,col_index3]\n",
    "XValrfe = Xval[:,col_index3]"
   ]
  },
  {
   "cell_type": "code",
   "execution_count": 11,
   "metadata": {},
   "outputs": [
    {
     "data": {
      "text/plain": [
       "(192,)"
      ]
     },
     "execution_count": 11,
     "metadata": {},
     "output_type": "execute_result"
    }
   ],
   "source": [
    "col_index3.shape"
   ]
  },
  {
   "cell_type": "code",
   "execution_count": 12,
   "metadata": {},
   "outputs": [
    {
     "data": {
      "text/plain": [
       "array([['4_21_Finger_1_tip_fft_skew', '6_48_Finger_2_tip_cwt_75q',\n",
       "        '7_1_Finger_3_base_std', '7_2_Finger_3_base_min',\n",
       "        '8_5_Finger_3_tip_75q', '8_19_Finger_3_tip_fft_range',\n",
       "        '8_44_Finger_3_tip_cwt_std', '9_33_Finger_4_base_cwt_sums_0',\n",
       "        '10_17_Finger_4_tip_fft_75q', '10_19_Finger_4_tip_fft_range',\n",
       "        '10_27_Finger_4_tip_ff2', '10_46_Finger_4_tip_cwt_25q',\n",
       "        '10_56_Finger_4_tip_peak_min', '11_4_Thumb_tip_median',\n",
       "        '12_26_Finger_1_pressure_ff1', '12_49_Finger_1_pressure_cwt_max',\n",
       "        '16_10_Wrist_extension_kurtosis',\n",
       "        '16_14_Wrist_extension_fft_min', '16_17_Wrist_extension_fft_75q',\n",
       "        '16_19_Wrist_extension_fft_range',\n",
       "        '16_21_Wrist_extension_fft_skew',\n",
       "        '16_33_Wrist_extension_cwt_sums_0', '17_9_Wrist_flexion_skew',\n",
       "        '17_18_Wrist_flexion_fft_max',\n",
       "        '17_22_Wrist_flexion_fft_kurtosis', '17_29_Wrist_flexion_ff4',\n",
       "        '17_32_Wrist_flexion_bandwith', '17_36_Wrist_flexion_cwt_sums_3',\n",
       "        '17_38_Wrist_flexion_cwt_sums_5',\n",
       "        '17_39_Wrist_flexion_cwt_sums_6',\n",
       "        '20_42_Finger_1_Accel_Z_cwt_sums_9',\n",
       "        '20_58_Finger_1_Accel_Z_peak_mean', '21_0_Finger_1_Gyro_X_mean',\n",
       "        '22_2_Finger_1_Gyro_Y_min', '22_4_Finger_1_Gyro_Y_median',\n",
       "        '22_25_Finger_1_Gyro_Y_spectral_entropy',\n",
       "        '23_49_Finger_1_Gyro_Z_cwt_max',\n",
       "        '24_34_Finger_2_Accel_X_cwt_sums_1',\n",
       "        '24_39_Finger_2_Accel_X_cwt_sums_6',\n",
       "        '25_11_Finger_2_Accel_Y_mode',\n",
       "        '25_37_Finger_2_Accel_Y_cwt_sums_4',\n",
       "        '28_39_Finger_2_Gyro_Y_cwt_sums_6',\n",
       "        '30_35_Finger_3_Accel_X_cwt_sums_2',\n",
       "        '30_36_Finger_3_Accel_X_cwt_sums_3',\n",
       "        '30_37_Finger_3_Accel_X_cwt_sums_4',\n",
       "        '31_17_Finger_3_Accel_Y_fft_75q',\n",
       "        '31_21_Finger_3_Accel_Y_fft_skew',\n",
       "        '32_36_Finger_3_Accel_Z_cwt_sums_3',\n",
       "        '32_37_Finger_3_Accel_Z_cwt_sums_4',\n",
       "        '32_38_Finger_3_Accel_Z_cwt_sums_5',\n",
       "        '32_39_Finger_3_Accel_Z_cwt_sums_6',\n",
       "        '33_17_Finger_3_Gyro_X_fft_75q',\n",
       "        '33_41_Finger_3_Gyro_X_cwt_sums_8',\n",
       "        '33_53_Finger_3_Gyro_X_cwt_kurtosis',\n",
       "        '34_37_Finger_3_Gyro_Y_cwt_sums_4',\n",
       "        '34_38_Finger_3_Gyro_Y_cwt_sums_5',\n",
       "        '34_39_Finger_3_Gyro_Y_cwt_sums_6',\n",
       "        '34_40_Finger_3_Gyro_Y_cwt_sums_7',\n",
       "        '35_23_Finger_3_Gyro_Z_fft_mode',\n",
       "        '35_42_Finger_3_Gyro_Z_cwt_sums_9',\n",
       "        '35_54_Finger_3_Gyro_Z_cwt_mode',\n",
       "        '37_20_Finger_4_Accel_Y_fft_var',\n",
       "        '40_21_Finger_4_Gyro_Y_fft_skew',\n",
       "        '40_52_Finger_4_Gyro_Y_cwt_skew', '42_27_Thumb_Accel_X_ff2',\n",
       "        '42_39_Thumb_Accel_X_cwt_sums_6',\n",
       "        '42_40_Thumb_Accel_X_cwt_sums_7',\n",
       "        '42_41_Thumb_Accel_X_cwt_sums_8', '42_45_Thumb_Accel_X_cwt_min',\n",
       "        '42_46_Thumb_Accel_X_cwt_25q', '42_47_Thumb_Accel_X_cwt_median',\n",
       "        '42_51_Thumb_Accel_X_cwt_var', '42_52_Thumb_Accel_X_cwt_skew',\n",
       "        '42_53_Thumb_Accel_X_cwt_kurtosis',\n",
       "        '42_57_Thumb_Accel_X_peak_max', '42_58_Thumb_Accel_X_peak_mean',\n",
       "        '43_0_Thumb_Accel_Y_mean', '43_4_Thumb_Accel_Y_median',\n",
       "        '43_5_Thumb_Accel_Y_75q', '43_6_Thumb_Accel_Y_max',\n",
       "        '43_11_Thumb_Accel_Y_mode', '43_12_Thumb_Accel_Y_fft_mean',\n",
       "        '43_16_Thumb_Accel_Y_fft_median', '43_17_Thumb_Accel_Y_fft_75q',\n",
       "        '43_18_Thumb_Accel_Y_fft_max', '43_23_Thumb_Accel_Y_fft_mode',\n",
       "        '43_24_Thumb_Accel_Y_spectral_centroid',\n",
       "        '43_25_Thumb_Accel_Y_spectral_entropy',\n",
       "        '43_26_Thumb_Accel_Y_ff1', '43_28_Thumb_Accel_Y_ff3',\n",
       "        '43_29_Thumb_Accel_Y_ff4', '43_30_Thumb_Accel_Y_ff5',\n",
       "        '43_31_Thumb_Accel_Y_freq_5sum', '43_32_Thumb_Accel_Y_bandwith',\n",
       "        '43_33_Thumb_Accel_Y_cwt_sums_0',\n",
       "        '43_36_Thumb_Accel_Y_cwt_sums_3',\n",
       "        '43_37_Thumb_Accel_Y_cwt_sums_4',\n",
       "        '43_40_Thumb_Accel_Y_cwt_sums_7',\n",
       "        '43_41_Thumb_Accel_Y_cwt_sums_8',\n",
       "        '43_42_Thumb_Accel_Y_cwt_sums_9', '43_43_Thumb_Accel_Y_cwt_mean',\n",
       "        '43_45_Thumb_Accel_Y_cwt_min', '43_50_Thumb_Accel_Y_cwt_range',\n",
       "        '44_24_Thumb_Accel_Z_spectral_centroid',\n",
       "        '44_32_Thumb_Accel_Z_bandwith', '44_33_Thumb_Accel_Z_cwt_sums_0',\n",
       "        '44_38_Thumb_Accel_Z_cwt_sums_5',\n",
       "        '44_40_Thumb_Accel_Z_cwt_sums_7',\n",
       "        '44_42_Thumb_Accel_Z_cwt_sums_9',\n",
       "        '44_47_Thumb_Accel_Z_cwt_median',\n",
       "        '44_53_Thumb_Accel_Z_cwt_kurtosis',\n",
       "        '44_54_Thumb_Accel_Z_cwt_mode', '45_0_Thumb_Gyro_X_mean',\n",
       "        '45_6_Thumb_Gyro_X_max', '45_7_Thumb_Gyro_X_range',\n",
       "        '45_12_Thumb_Gyro_X_fft_mean', '45_17_Thumb_Gyro_X_fft_75q',\n",
       "        '45_19_Thumb_Gyro_X_fft_range', '45_23_Thumb_Gyro_X_fft_mode',\n",
       "        '45_24_Thumb_Gyro_X_spectral_centroid',\n",
       "        '45_25_Thumb_Gyro_X_spectral_entropy', '45_26_Thumb_Gyro_X_ff1',\n",
       "        '45_29_Thumb_Gyro_X_ff4', '45_33_Thumb_Gyro_X_cwt_sums_0',\n",
       "        '45_45_Thumb_Gyro_X_cwt_min', '45_47_Thumb_Gyro_X_cwt_median',\n",
       "        '45_50_Thumb_Gyro_X_cwt_range', '45_52_Thumb_Gyro_X_cwt_skew',\n",
       "        '45_54_Thumb_Gyro_X_cwt_mode', '45_56_Thumb_Gyro_X_peak_min',\n",
       "        '45_58_Thumb_Gyro_X_peak_mean', '46_0_Thumb_Gyro_Y_mean',\n",
       "        '46_48_Thumb_Gyro_Y_cwt_75q',\n",
       "        '71_11_Finger_2_Accel_Y_lin_accel_mode',\n",
       "        '72_0_Finger_2_Accel_Z_lin_accel_mean',\n",
       "        '72_35_Finger_2_Accel_Z_lin_accel_cwt_sums_2',\n",
       "        '97_18_Finger_4_Accel_Y_lin_accel_absolute_lin_froce_fft_max',\n",
       "        '97_24_Finger_4_Accel_Y_lin_accel_absolute_lin_froce_spectral_centroid',\n",
       "        '97_25_Finger_4_Accel_Y_lin_accel_absolute_lin_froce_spectral_entropy',\n",
       "        '99_9_Palm_Accel_Y_lin_accel_absolute_lin_froce_skew',\n",
       "        '99_17_Palm_Accel_Y_lin_accel_absolute_lin_froce_fft_75q',\n",
       "        '99_27_Palm_Accel_Y_lin_accel_absolute_lin_froce_ff2',\n",
       "        '99_28_Palm_Accel_Y_lin_accel_absolute_lin_froce_ff3',\n",
       "        '99_29_Palm_Accel_Y_lin_accel_absolute_lin_froce_ff4',\n",
       "        '101_7_Finger_2_Accel_absolute_froce_absolute_lin_froce_range',\n",
       "        '101_13_Finger_2_Accel_absolute_froce_absolute_lin_froce_fft_std',\n",
       "        '101_25_Finger_2_Accel_absolute_froce_absolute_lin_froce_spectral_entropy',\n",
       "        '101_30_Finger_2_Accel_absolute_froce_absolute_lin_froce_ff5',\n",
       "        '104_51_Finger_1_Gyro_Z_direction_cosine_cwt_var',\n",
       "        '107_37_Finger_2_Gyro_Z_direction_cosine_cwt_sums_4',\n",
       "        '107_50_Finger_2_Gyro_Z_direction_cosine_cwt_range',\n",
       "        '108_20_Finger_3_Gyro_X_direction_cosine_fft_var',\n",
       "        '108_21_Finger_3_Gyro_X_direction_cosine_fft_skew',\n",
       "        '108_22_Finger_3_Gyro_X_direction_cosine_fft_kurtosis',\n",
       "        '109_2_Finger_3_Gyro_Y_direction_cosine_min',\n",
       "        '109_29_Finger_3_Gyro_Y_direction_cosine_ff4',\n",
       "        '110_30_Finger_3_Gyro_Z_direction_cosine_ff5',\n",
       "        '111_0_Finger_4_Gyro_X_direction_cosine_mean',\n",
       "        '111_13_Finger_4_Gyro_X_direction_cosine_fft_std',\n",
       "        '111_14_Finger_4_Gyro_X_direction_cosine_fft_min',\n",
       "        '111_18_Finger_4_Gyro_X_direction_cosine_fft_max',\n",
       "        '111_19_Finger_4_Gyro_X_direction_cosine_fft_range',\n",
       "        '111_20_Finger_4_Gyro_X_direction_cosine_fft_var',\n",
       "        '111_24_Finger_4_Gyro_X_direction_cosine_spectral_centroid',\n",
       "        '111_25_Finger_4_Gyro_X_direction_cosine_spectral_entropy',\n",
       "        '111_30_Finger_4_Gyro_X_direction_cosine_ff5',\n",
       "        '111_32_Finger_4_Gyro_X_direction_cosine_bandwith',\n",
       "        '111_37_Finger_4_Gyro_X_direction_cosine_cwt_sums_4',\n",
       "        '111_42_Finger_4_Gyro_X_direction_cosine_cwt_sums_9',\n",
       "        '111_43_Finger_4_Gyro_X_direction_cosine_cwt_mean',\n",
       "        '111_48_Finger_4_Gyro_X_direction_cosine_cwt_75q',\n",
       "        '111_50_Finger_4_Gyro_X_direction_cosine_cwt_range',\n",
       "        '111_54_Finger_4_Gyro_X_direction_cosine_cwt_mode',\n",
       "        '111_55_Finger_4_Gyro_X_direction_cosine_num_peaks',\n",
       "        '111_58_Finger_4_Gyro_X_direction_cosine_peak_mean',\n",
       "        '112_5_Finger_4_Gyro_Y_direction_cosine_75q',\n",
       "        '112_6_Finger_4_Gyro_Y_direction_cosine_max',\n",
       "        '112_7_Finger_4_Gyro_Y_direction_cosine_range',\n",
       "        '112_9_Finger_4_Gyro_Y_direction_cosine_skew',\n",
       "        '112_10_Finger_4_Gyro_Y_direction_cosine_kurtosis',\n",
       "        '112_12_Finger_4_Gyro_Y_direction_cosine_fft_mean',\n",
       "        '112_13_Finger_4_Gyro_Y_direction_cosine_fft_std',\n",
       "        '112_14_Finger_4_Gyro_Y_direction_cosine_fft_min',\n",
       "        '112_15_Finger_4_Gyro_Y_direction_cosine_fft_25q',\n",
       "        '112_17_Finger_4_Gyro_Y_direction_cosine_fft_75q',\n",
       "        '112_18_Finger_4_Gyro_Y_direction_cosine_fft_max',\n",
       "        '112_29_Finger_4_Gyro_Y_direction_cosine_ff4',\n",
       "        '118_22_Palm_Gyro_Y_direction_cosine_fft_kurtosis',\n",
       "        '118_23_Palm_Gyro_Y_direction_cosine_fft_mode',\n",
       "        '118_35_Palm_Gyro_Y_direction_cosine_cwt_sums_2',\n",
       "        '119_12_Palm_Gyro_Z_direction_cosine_fft_mean', '7038_xcorr_0_5']],\n",
       "      dtype='<U73')"
      ]
     },
     "execution_count": 12,
     "metadata": {},
     "output_type": "execute_result"
    }
   ],
   "source": [
    "rfe_features = features[:,col_index3]\n",
    "rfe_features"
   ]
  },
  {
   "cell_type": "code",
   "execution_count": 13,
   "metadata": {},
   "outputs": [],
   "source": [
    "with open( stats_added_base_path+'train-data-rfecv4.pk', \"wb\" ) as users_pickle_file:\n",
    "    pickle.dump({\n",
    "        'X': Xrfe, 'y': y, 'Xval' : XValrfe, 'yval': yval, \n",
    "        'gestures' : gestures, 'headers': rfe_features\n",
    "    }, users_pickle_file)"
   ]
  },
  {
   "cell_type": "markdown",
   "metadata": {},
   "source": [
    "# Try all the classifiers for all reduced data sets\n",
    "\n",
    "## RFE with Lasso, $\\alpha$ = 0.1"
   ]
  },
  {
   "cell_type": "code",
   "execution_count": 5,
   "metadata": {},
   "outputs": [],
   "source": [
    "with open( stats_added_base_path+'train-data-rfe.pkl', \"rb\" ) as users_pickle_file:\n",
    "    data = pickle.load(users_pickle_file)\n",
    "Xrfe = data['X']\n",
    "y = data['y']\n",
    "XValrfe = data['Xval']\n",
    "yval = data['yval']\n",
    "gestures = data['gestures']\n",
    "rfe_features = data['headers']"
   ]
  },
  {
   "cell_type": "code",
   "execution_count": 6,
   "metadata": {},
   "outputs": [
    {
     "data": {
      "text/plain": [
       "0"
      ]
     },
     "execution_count": 6,
     "metadata": {},
     "output_type": "execute_result"
    }
   ],
   "source": [
    "del [[data]]\n",
    "gc.collect()\n",
    "data = pd.DataFrame()\n",
    "gc.collect()"
   ]
  },
  {
   "cell_type": "code",
   "execution_count": 7,
   "metadata": {},
   "outputs": [],
   "source": [
    "# start with some list, and remove then when the classifier takes too long\n",
    "classifiers = [(\"passive agressive\", lm.PassiveAggressiveClassifier(max_iter=1000, tol=1e-3, class_weight='balanced', n_jobs=3)), # put verbose away, too much output\n",
    "               (\"sgd[hinge]\",lm.SGDClassifier(loss=\"hinge\", penalty=\"l2\", max_iter=1000, tol=1e-3, class_weight='balanced', n_jobs=3)), # put verbose away, too much output\n",
    "               (\"LDA\", da.LinearDiscriminantAnalysis()),\n",
    "               (\"QDA\", da.QuadraticDiscriminantAnalysis()),\n",
    "               (\"nn\",nc.NearestCentroid()),\n",
    "               (\"gaussian navie bayse\",nb.GaussianNB()),\n",
    "               (\"decision tree\",tree.DecisionTreeClassifier(class_weight='balanced')), # timed out\n",
    "               (\"random forrest\",em.RandomForestClassifier(n_estimators=10, class_weight='balanced', n_jobs=3, verbose=True)),\n",
    "               (\"extra trees\",em.ExtraTreesClassifier(n_estimators=10, class_weight='balanced', n_jobs=3, verbose=True)),\n",
    "               (\"ada boost\",em.AdaBoostClassifier(n_estimators=100)),\n",
    "              ]"
   ]
  },
  {
   "cell_type": "code",
   "execution_count": 8,
   "metadata": {},
   "outputs": [],
   "source": [
    "def fit_classifier(classifiers, X, y, Xval, yval):\n",
    "    clf = None\n",
    "    clf_n = None\n",
    "    \n",
    "    results = []\n",
    "    progress = tqdm.tqdm_notebook(classifiers)\n",
    "    for clf_name, clf_candidate in progress:\n",
    "        progress.set_description(clf_name)\n",
    "        clf_candidate = clone(clf_candidate)\n",
    "        gc.collect()\n",
    "        progress.set_description(clf_name + ' cloned')\n",
    "        clf_candidate.fit(X, y)\n",
    "        progress.set_description(clf_name + ' fittet')\n",
    "        p = clf_candidate.predict(Xval)\n",
    "        s = f1_score(yval, p, average='micro')\n",
    "        p_t = clf_candidate.predict(X)\n",
    "        s_t = f1_score(y, p_t, average='micro')\n",
    "        print(f\"val score {s} for {clf_name} (test: {s_t})\")\n",
    "        cmatrix = metr.confusion_matrix(yval, p)\n",
    "        #print(cmatrix)\n",
    "        results.append((clf_name, s, s_t, cmatrix, clf_candidate))\n",
    "        gc.collect()\n",
    "\n",
    "    return results"
   ]
  },
  {
   "cell_type": "code",
   "execution_count": 9,
   "metadata": {},
   "outputs": [
    {
     "data": {
      "application/vnd.jupyter.widget-view+json": {
       "model_id": "254b04f4ad2143b9b52c34a8a18228dc",
       "version_major": 2,
       "version_minor": 0
      },
      "text/plain": [
       "HBox(children=(IntProgress(value=0, max=10), HTML(value='')))"
      ]
     },
     "metadata": {},
     "output_type": "display_data"
    },
    {
     "name": "stdout",
     "output_type": "stream",
     "text": [
      "val score 0.3289686388619463 for passive agressive (test: 0.429854400206159)\n",
      "val score 0.06983511154219205 for sgd[hinge] (test: 0.25370441953356526)\n"
     ]
    },
    {
     "name": "stderr",
     "output_type": "stream",
     "text": [
      "/home/jsimon/anaconda3/envs/thesis/lib/python3.7/site-packages/sklearn/discriminant_analysis.py:388: UserWarning: Variables are collinear.\n",
      "  warnings.warn(\"Variables are collinear.\")\n"
     ]
    },
    {
     "name": "stdout",
     "output_type": "stream",
     "text": [
      "val score 0.9335596508244423 for LDA (test: 0.9300347893312717)\n"
     ]
    },
    {
     "name": "stderr",
     "output_type": "stream",
     "text": [
      "/home/jsimon/anaconda3/envs/thesis/lib/python3.7/site-packages/sklearn/discriminant_analysis.py:692: UserWarning: Variables are collinear\n",
      "  warnings.warn(\"Variables are collinear\")\n",
      "/home/jsimon/anaconda3/envs/thesis/lib/python3.7/site-packages/sklearn/discriminant_analysis.py:692: UserWarning: Variables are collinear\n",
      "  warnings.warn(\"Variables are collinear\")\n",
      "/home/jsimon/anaconda3/envs/thesis/lib/python3.7/site-packages/sklearn/discriminant_analysis.py:692: UserWarning: Variables are collinear\n",
      "  warnings.warn(\"Variables are collinear\")\n",
      "/home/jsimon/anaconda3/envs/thesis/lib/python3.7/site-packages/sklearn/discriminant_analysis.py:692: UserWarning: Variables are collinear\n",
      "  warnings.warn(\"Variables are collinear\")\n",
      "/home/jsimon/anaconda3/envs/thesis/lib/python3.7/site-packages/sklearn/discriminant_analysis.py:692: UserWarning: Variables are collinear\n",
      "  warnings.warn(\"Variables are collinear\")\n",
      "/home/jsimon/anaconda3/envs/thesis/lib/python3.7/site-packages/sklearn/discriminant_analysis.py:692: UserWarning: Variables are collinear\n",
      "  warnings.warn(\"Variables are collinear\")\n",
      "/home/jsimon/anaconda3/envs/thesis/lib/python3.7/site-packages/sklearn/discriminant_analysis.py:692: UserWarning: Variables are collinear\n",
      "  warnings.warn(\"Variables are collinear\")\n",
      "/home/jsimon/anaconda3/envs/thesis/lib/python3.7/site-packages/sklearn/discriminant_analysis.py:692: UserWarning: Variables are collinear\n",
      "  warnings.warn(\"Variables are collinear\")\n",
      "/home/jsimon/anaconda3/envs/thesis/lib/python3.7/site-packages/sklearn/discriminant_analysis.py:692: UserWarning: Variables are collinear\n",
      "  warnings.warn(\"Variables are collinear\")\n",
      "/home/jsimon/anaconda3/envs/thesis/lib/python3.7/site-packages/sklearn/discriminant_analysis.py:692: UserWarning: Variables are collinear\n",
      "  warnings.warn(\"Variables are collinear\")\n",
      "/home/jsimon/anaconda3/envs/thesis/lib/python3.7/site-packages/sklearn/discriminant_analysis.py:692: UserWarning: Variables are collinear\n",
      "  warnings.warn(\"Variables are collinear\")\n",
      "/home/jsimon/anaconda3/envs/thesis/lib/python3.7/site-packages/sklearn/discriminant_analysis.py:692: UserWarning: Variables are collinear\n",
      "  warnings.warn(\"Variables are collinear\")\n",
      "/home/jsimon/anaconda3/envs/thesis/lib/python3.7/site-packages/sklearn/discriminant_analysis.py:692: UserWarning: Variables are collinear\n",
      "  warnings.warn(\"Variables are collinear\")\n",
      "/home/jsimon/anaconda3/envs/thesis/lib/python3.7/site-packages/sklearn/discriminant_analysis.py:692: UserWarning: Variables are collinear\n",
      "  warnings.warn(\"Variables are collinear\")\n",
      "/home/jsimon/anaconda3/envs/thesis/lib/python3.7/site-packages/sklearn/discriminant_analysis.py:692: UserWarning: Variables are collinear\n",
      "  warnings.warn(\"Variables are collinear\")\n",
      "/home/jsimon/anaconda3/envs/thesis/lib/python3.7/site-packages/sklearn/discriminant_analysis.py:692: UserWarning: Variables are collinear\n",
      "  warnings.warn(\"Variables are collinear\")\n",
      "/home/jsimon/anaconda3/envs/thesis/lib/python3.7/site-packages/sklearn/discriminant_analysis.py:692: UserWarning: Variables are collinear\n",
      "  warnings.warn(\"Variables are collinear\")\n",
      "/home/jsimon/anaconda3/envs/thesis/lib/python3.7/site-packages/sklearn/discriminant_analysis.py:692: UserWarning: Variables are collinear\n",
      "  warnings.warn(\"Variables are collinear\")\n",
      "/home/jsimon/anaconda3/envs/thesis/lib/python3.7/site-packages/sklearn/discriminant_analysis.py:692: UserWarning: Variables are collinear\n",
      "  warnings.warn(\"Variables are collinear\")\n",
      "/home/jsimon/anaconda3/envs/thesis/lib/python3.7/site-packages/sklearn/discriminant_analysis.py:692: UserWarning: Variables are collinear\n",
      "  warnings.warn(\"Variables are collinear\")\n",
      "/home/jsimon/anaconda3/envs/thesis/lib/python3.7/site-packages/sklearn/discriminant_analysis.py:692: UserWarning: Variables are collinear\n",
      "  warnings.warn(\"Variables are collinear\")\n",
      "/home/jsimon/anaconda3/envs/thesis/lib/python3.7/site-packages/sklearn/discriminant_analysis.py:692: UserWarning: Variables are collinear\n",
      "  warnings.warn(\"Variables are collinear\")\n",
      "/home/jsimon/anaconda3/envs/thesis/lib/python3.7/site-packages/sklearn/discriminant_analysis.py:692: UserWarning: Variables are collinear\n",
      "  warnings.warn(\"Variables are collinear\")\n",
      "/home/jsimon/anaconda3/envs/thesis/lib/python3.7/site-packages/sklearn/discriminant_analysis.py:692: UserWarning: Variables are collinear\n",
      "  warnings.warn(\"Variables are collinear\")\n",
      "/home/jsimon/anaconda3/envs/thesis/lib/python3.7/site-packages/sklearn/discriminant_analysis.py:692: UserWarning: Variables are collinear\n",
      "  warnings.warn(\"Variables are collinear\")\n",
      "/home/jsimon/anaconda3/envs/thesis/lib/python3.7/site-packages/sklearn/discriminant_analysis.py:692: UserWarning: Variables are collinear\n",
      "  warnings.warn(\"Variables are collinear\")\n",
      "/home/jsimon/anaconda3/envs/thesis/lib/python3.7/site-packages/sklearn/discriminant_analysis.py:692: UserWarning: Variables are collinear\n",
      "  warnings.warn(\"Variables are collinear\")\n",
      "/home/jsimon/anaconda3/envs/thesis/lib/python3.7/site-packages/sklearn/discriminant_analysis.py:692: UserWarning: Variables are collinear\n",
      "  warnings.warn(\"Variables are collinear\")\n",
      "/home/jsimon/anaconda3/envs/thesis/lib/python3.7/site-packages/sklearn/discriminant_analysis.py:692: UserWarning: Variables are collinear\n",
      "  warnings.warn(\"Variables are collinear\")\n",
      "/home/jsimon/anaconda3/envs/thesis/lib/python3.7/site-packages/sklearn/discriminant_analysis.py:692: UserWarning: Variables are collinear\n",
      "  warnings.warn(\"Variables are collinear\")\n",
      "/home/jsimon/anaconda3/envs/thesis/lib/python3.7/site-packages/sklearn/discriminant_analysis.py:692: UserWarning: Variables are collinear\n",
      "  warnings.warn(\"Variables are collinear\")\n",
      "/home/jsimon/anaconda3/envs/thesis/lib/python3.7/site-packages/sklearn/discriminant_analysis.py:692: UserWarning: Variables are collinear\n",
      "  warnings.warn(\"Variables are collinear\")\n",
      "/home/jsimon/anaconda3/envs/thesis/lib/python3.7/site-packages/sklearn/discriminant_analysis.py:692: UserWarning: Variables are collinear\n",
      "  warnings.warn(\"Variables are collinear\")\n",
      "/home/jsimon/anaconda3/envs/thesis/lib/python3.7/site-packages/sklearn/discriminant_analysis.py:692: UserWarning: Variables are collinear\n",
      "  warnings.warn(\"Variables are collinear\")\n"
     ]
    },
    {
     "name": "stdout",
     "output_type": "stream",
     "text": [
      "val score 0.6058842547688329 for QDA (test: 0.9105914186316196)\n",
      "val score 0.05835758163595215 for nn (test: 0.5099858265687411)\n",
      "val score 0.37714193339799545 for gaussian navie bayse (test: 0.590310526993944)\n",
      "val score 0.9164241836404785 for decision tree (test: 1.0)\n"
     ]
    },
    {
     "name": "stderr",
     "output_type": "stream",
     "text": [
      "[Parallel(n_jobs=3)]: Using backend ThreadingBackend with 3 concurrent workers.\n",
      "[Parallel(n_jobs=3)]: Done  10 out of  10 | elapsed:   14.1s finished\n",
      "[Parallel(n_jobs=3)]: Using backend ThreadingBackend with 3 concurrent workers.\n",
      "[Parallel(n_jobs=3)]: Done  10 out of  10 | elapsed:    0.0s finished\n",
      "[Parallel(n_jobs=3)]: Using backend ThreadingBackend with 3 concurrent workers.\n",
      "[Parallel(n_jobs=3)]: Done  10 out of  10 | elapsed:    0.3s finished\n"
     ]
    },
    {
     "name": "stdout",
     "output_type": "stream",
     "text": [
      "val score 0.965082444228904 for random forrest (test: 0.9976034016235021)\n"
     ]
    },
    {
     "name": "stderr",
     "output_type": "stream",
     "text": [
      "[Parallel(n_jobs=3)]: Using backend ThreadingBackend with 3 concurrent workers.\n",
      "[Parallel(n_jobs=3)]: Done  10 out of  10 | elapsed:    2.1s finished\n",
      "[Parallel(n_jobs=3)]: Using backend ThreadingBackend with 3 concurrent workers.\n",
      "[Parallel(n_jobs=3)]: Done  10 out of  10 | elapsed:    0.0s finished\n",
      "[Parallel(n_jobs=3)]: Using backend ThreadingBackend with 3 concurrent workers.\n",
      "[Parallel(n_jobs=3)]: Done  10 out of  10 | elapsed:    0.2s finished\n"
     ]
    },
    {
     "name": "stdout",
     "output_type": "stream",
     "text": [
      "val score 0.9624959586162302 for extra trees (test: 1.0)\n",
      "val score 0.16359521500161656 for ada boost (test: 0.5719237211699523)\n",
      "\n"
     ]
    }
   ],
   "source": [
    "# 1910 features\n",
    "gc.collect()\n",
    "results = fit_classifier(classifiers, Xrfe, y, XValrfe, yval)"
   ]
  },
  {
   "cell_type": "code",
   "execution_count": 10,
   "metadata": {},
   "outputs": [],
   "source": [
    "with open( stats_added_base_path+'rfe-a01cls.pkl', \"wb\" ) as users_pickle_file:\n",
    "    pickle.dump(results, users_pickle_file)"
   ]
  },
  {
   "cell_type": "markdown",
   "metadata": {},
   "source": [
    "## RFE-CV with Lasso, $\\alpha$ = 0.1"
   ]
  },
  {
   "cell_type": "code",
   "execution_count": 11,
   "metadata": {},
   "outputs": [],
   "source": [
    "with open( stats_added_base_path+'train-data-rfecv1.pkl', \"rb\" ) as users_pickle_file:\n",
    "    data = pickle.load(users_pickle_file)\n",
    "Xrfe = data['X']\n",
    "y = data['y']\n",
    "XValrfe = data['Xval']\n",
    "yval = data['yval']\n",
    "gestures = data['gestures']\n",
    "rfe_features = data['headers']"
   ]
  },
  {
   "cell_type": "code",
   "execution_count": 12,
   "metadata": {},
   "outputs": [
    {
     "data": {
      "text/plain": [
       "(1, 383)"
      ]
     },
     "execution_count": 12,
     "metadata": {},
     "output_type": "execute_result"
    }
   ],
   "source": [
    "rfe_features.shape"
   ]
  },
  {
   "cell_type": "code",
   "execution_count": 13,
   "metadata": {},
   "outputs": [
    {
     "data": {
      "text/plain": [
       "0"
      ]
     },
     "execution_count": 13,
     "metadata": {},
     "output_type": "execute_result"
    }
   ],
   "source": [
    "del [[data]]\n",
    "gc.collect()\n",
    "data = pd.DataFrame()\n",
    "gc.collect()"
   ]
  },
  {
   "cell_type": "code",
   "execution_count": 14,
   "metadata": {},
   "outputs": [],
   "source": [
    "# start with some list, and remove then when the classifier takes too long\n",
    "classifiers = [(\"passive agressive\", lm.PassiveAggressiveClassifier(max_iter=1000, tol=1e-3, class_weight='balanced', n_jobs=3)),\n",
    "               (\"sgd[hinge]\",lm.SGDClassifier(loss=\"hinge\", penalty=\"l2\", max_iter=1000, tol=1e-3, class_weight='balanced', n_jobs=3)),\n",
    "               (\"LDA\", da.LinearDiscriminantAnalysis()),\n",
    "               (\"QDA\", da.QuadraticDiscriminantAnalysis()),\n",
    "               (\"nn\",nc.NearestCentroid()),\n",
    "               (\"knn\",ne.KNeighborsClassifier(n_jobs=3)),\n",
    "               (\"gaussian navie bayse\",nb.GaussianNB()),\n",
    "               (\"decision tree\",tree.DecisionTreeClassifier(class_weight='balanced')), # timed out\n",
    "               (\"random forrest\",em.RandomForestClassifier(n_estimators=10, class_weight='balanced', n_jobs=3, verbose=True)),\n",
    "               (\"extra trees\",em.ExtraTreesClassifier(n_estimators=10, class_weight='balanced', n_jobs=3, verbose=True)),\n",
    "               (\"ada boost\",em.AdaBoostClassifier(n_estimators=100)),\n",
    "               (\"gradient boost\",em.GradientBoostingClassifier(n_estimators=100, learning_rate=1.0, max_depth=1, random_state=0, verbose=True)) # timed out, says after 1h running that it still has 400 open\n",
    "]"
   ]
  },
  {
   "cell_type": "code",
   "execution_count": 15,
   "metadata": {
    "scrolled": true
   },
   "outputs": [
    {
     "data": {
      "application/vnd.jupyter.widget-view+json": {
       "model_id": "ddf354747f09473d878c66342e3634cb",
       "version_major": 2,
       "version_minor": 0
      },
      "text/plain": [
       "HBox(children=(IntProgress(value=0, max=12), HTML(value='')))"
      ]
     },
     "metadata": {},
     "output_type": "display_data"
    },
    {
     "name": "stdout",
     "output_type": "stream",
     "text": [
      "val score 0.8640478499838344 for passive agressive (test: 0.8402138899626337)\n",
      "val score 0.8679275784028452 for sgd[hinge] (test: 0.8898853240561784)\n",
      "val score 0.860491432266408 for LDA (test: 0.87862388867414)\n"
     ]
    },
    {
     "name": "stderr",
     "output_type": "stream",
     "text": [
      "/home/jsimon/anaconda3/envs/thesis/lib/python3.7/site-packages/sklearn/discriminant_analysis.py:692: UserWarning: Variables are collinear\n",
      "  warnings.warn(\"Variables are collinear\")\n",
      "/home/jsimon/anaconda3/envs/thesis/lib/python3.7/site-packages/sklearn/discriminant_analysis.py:692: UserWarning: Variables are collinear\n",
      "  warnings.warn(\"Variables are collinear\")\n",
      "/home/jsimon/anaconda3/envs/thesis/lib/python3.7/site-packages/sklearn/discriminant_analysis.py:692: UserWarning: Variables are collinear\n",
      "  warnings.warn(\"Variables are collinear\")\n",
      "/home/jsimon/anaconda3/envs/thesis/lib/python3.7/site-packages/sklearn/discriminant_analysis.py:692: UserWarning: Variables are collinear\n",
      "  warnings.warn(\"Variables are collinear\")\n",
      "/home/jsimon/anaconda3/envs/thesis/lib/python3.7/site-packages/sklearn/discriminant_analysis.py:692: UserWarning: Variables are collinear\n",
      "  warnings.warn(\"Variables are collinear\")\n",
      "/home/jsimon/anaconda3/envs/thesis/lib/python3.7/site-packages/sklearn/discriminant_analysis.py:692: UserWarning: Variables are collinear\n",
      "  warnings.warn(\"Variables are collinear\")\n",
      "/home/jsimon/anaconda3/envs/thesis/lib/python3.7/site-packages/sklearn/discriminant_analysis.py:692: UserWarning: Variables are collinear\n",
      "  warnings.warn(\"Variables are collinear\")\n",
      "/home/jsimon/anaconda3/envs/thesis/lib/python3.7/site-packages/sklearn/discriminant_analysis.py:692: UserWarning: Variables are collinear\n",
      "  warnings.warn(\"Variables are collinear\")\n",
      "/home/jsimon/anaconda3/envs/thesis/lib/python3.7/site-packages/sklearn/discriminant_analysis.py:692: UserWarning: Variables are collinear\n",
      "  warnings.warn(\"Variables are collinear\")\n",
      "/home/jsimon/anaconda3/envs/thesis/lib/python3.7/site-packages/sklearn/discriminant_analysis.py:692: UserWarning: Variables are collinear\n",
      "  warnings.warn(\"Variables are collinear\")\n",
      "/home/jsimon/anaconda3/envs/thesis/lib/python3.7/site-packages/sklearn/discriminant_analysis.py:692: UserWarning: Variables are collinear\n",
      "  warnings.warn(\"Variables are collinear\")\n",
      "/home/jsimon/anaconda3/envs/thesis/lib/python3.7/site-packages/sklearn/discriminant_analysis.py:692: UserWarning: Variables are collinear\n",
      "  warnings.warn(\"Variables are collinear\")\n",
      "/home/jsimon/anaconda3/envs/thesis/lib/python3.7/site-packages/sklearn/discriminant_analysis.py:692: UserWarning: Variables are collinear\n",
      "  warnings.warn(\"Variables are collinear\")\n",
      "/home/jsimon/anaconda3/envs/thesis/lib/python3.7/site-packages/sklearn/discriminant_analysis.py:692: UserWarning: Variables are collinear\n",
      "  warnings.warn(\"Variables are collinear\")\n",
      "/home/jsimon/anaconda3/envs/thesis/lib/python3.7/site-packages/sklearn/discriminant_analysis.py:692: UserWarning: Variables are collinear\n",
      "  warnings.warn(\"Variables are collinear\")\n",
      "/home/jsimon/anaconda3/envs/thesis/lib/python3.7/site-packages/sklearn/discriminant_analysis.py:692: UserWarning: Variables are collinear\n",
      "  warnings.warn(\"Variables are collinear\")\n",
      "/home/jsimon/anaconda3/envs/thesis/lib/python3.7/site-packages/sklearn/discriminant_analysis.py:692: UserWarning: Variables are collinear\n",
      "  warnings.warn(\"Variables are collinear\")\n",
      "/home/jsimon/anaconda3/envs/thesis/lib/python3.7/site-packages/sklearn/discriminant_analysis.py:692: UserWarning: Variables are collinear\n",
      "  warnings.warn(\"Variables are collinear\")\n",
      "/home/jsimon/anaconda3/envs/thesis/lib/python3.7/site-packages/sklearn/discriminant_analysis.py:692: UserWarning: Variables are collinear\n",
      "  warnings.warn(\"Variables are collinear\")\n"
     ]
    },
    {
     "name": "stdout",
     "output_type": "stream",
     "text": [
      "val score 0.9547365017782089 for QDA (test: 0.9499935575312459)\n",
      "val score 0.31037827352085356 for nn (test: 0.5547738693467337)\n",
      "val score 0.8642095053346266 for knn (test: 0.9319546450199716)\n",
      "val score 0.6665050113158746 for gaussian navie bayse (test: 0.7584589614740368)\n",
      "val score 0.9212738441642419 for decision tree (test: 1.0)\n"
     ]
    },
    {
     "name": "stderr",
     "output_type": "stream",
     "text": [
      "[Parallel(n_jobs=3)]: Using backend ThreadingBackend with 3 concurrent workers.\n",
      "[Parallel(n_jobs=3)]: Done  10 out of  10 | elapsed:    6.3s finished\n",
      "[Parallel(n_jobs=3)]: Using backend ThreadingBackend with 3 concurrent workers.\n",
      "[Parallel(n_jobs=3)]: Done  10 out of  10 | elapsed:    0.0s finished\n",
      "[Parallel(n_jobs=3)]: Using backend ThreadingBackend with 3 concurrent workers.\n",
      "[Parallel(n_jobs=3)]: Done  10 out of  10 | elapsed:    0.2s finished\n"
     ]
    },
    {
     "name": "stdout",
     "output_type": "stream",
     "text": [
      "val score 0.9542515357258325 for random forrest (test: 0.997319932998325)\n"
     ]
    },
    {
     "name": "stderr",
     "output_type": "stream",
     "text": [
      "[Parallel(n_jobs=3)]: Using backend ThreadingBackend with 3 concurrent workers.\n",
      "[Parallel(n_jobs=3)]: Done  10 out of  10 | elapsed:    1.0s finished\n",
      "[Parallel(n_jobs=3)]: Using backend ThreadingBackend with 3 concurrent workers.\n",
      "[Parallel(n_jobs=3)]: Done  10 out of  10 | elapsed:    0.0s finished\n",
      "[Parallel(n_jobs=3)]: Using backend ThreadingBackend with 3 concurrent workers.\n",
      "[Parallel(n_jobs=3)]: Done  10 out of  10 | elapsed:    0.2s finished\n"
     ]
    },
    {
     "name": "stdout",
     "output_type": "stream",
     "text": [
      "val score 0.9553831231813773 for extra trees (test: 1.0)\n",
      "val score 0.08098933074684772 for ada boost (test: 0.5457286432160804)\n",
      "      Iter       Train Loss   Remaining Time \n",
      "         1 148777134548465481356780213633024.0000           28.50m\n",
      "         2 148777134548465481356780213633024.0000           29.83m\n",
      "         3 148777134548465481356780213633024.0000           30.00m\n",
      "         4 148777134548465481356780213633024.0000           29.77m\n",
      "         5 148777134548465481356780213633024.0000           29.55m\n",
      "         6 148777134548465481356780213633024.0000           29.29m\n",
      "         7 148777134548465481356780213633024.0000           29.04m\n",
      "         8 148777134548465481356780213633024.0000           28.81m\n",
      "         9 148777134548465481356780213633024.0000           28.52m\n",
      "        10 148777134548465481356780213633024.0000           28.27m\n",
      "        20 148777134548465481356780213633024.0000           25.25m\n",
      "        30 148777134548465481356780213633024.0000           22.04m\n",
      "        40 148777134548465481356780213633024.0000           18.90m\n",
      "        50 148777134548465481356780213633024.0000           15.79m\n",
      "        70 148777134548465481356780213633024.0000            9.47m\n",
      "        80 148777134548465481356780213633024.0000            6.33m\n",
      "        90 148777134548465481356780213633024.0000            3.17m\n",
      "       100 148777134548465481356780213633024.0000            0.00s\n",
      "val score 0.0446168768186227 for gradient boost (test: 0.020976678263110424)\n",
      "\n"
     ]
    }
   ],
   "source": [
    "gc.collect()\n",
    "results = fit_classifier(classifiers, Xrfe, y, XValrfe, yval)"
   ]
  },
  {
   "cell_type": "code",
   "execution_count": 16,
   "metadata": {},
   "outputs": [],
   "source": [
    "with open( stats_added_base_path+'rfecv-a01cls.pkl', \"wb\" ) as users_pickle_file:\n",
    "    pickle.dump(results, users_pickle_file)"
   ]
  },
  {
   "cell_type": "markdown",
   "metadata": {},
   "source": [
    "## RFE with Lasso, $\\alpha$ = 0.01"
   ]
  },
  {
   "cell_type": "code",
   "execution_count": 17,
   "metadata": {},
   "outputs": [],
   "source": [
    "with open( stats_added_base_path+'train-data-rfecv2.pk', \"rb\" ) as users_pickle_file:\n",
    "    data = pickle.load(users_pickle_file)\n",
    "Xrfe = data['X']\n",
    "y = data['y']\n",
    "XValrfe = data['Xval']\n",
    "yval = data['yval']\n",
    "gestures = data['gestures']\n",
    "rfe_features = data['headers']"
   ]
  },
  {
   "cell_type": "code",
   "execution_count": 18,
   "metadata": {},
   "outputs": [
    {
     "data": {
      "text/plain": [
       "(1, 765)"
      ]
     },
     "execution_count": 18,
     "metadata": {},
     "output_type": "execute_result"
    }
   ],
   "source": [
    "rfe_features.shape"
   ]
  },
  {
   "cell_type": "code",
   "execution_count": 19,
   "metadata": {},
   "outputs": [
    {
     "data": {
      "text/plain": [
       "0"
      ]
     },
     "execution_count": 19,
     "metadata": {},
     "output_type": "execute_result"
    }
   ],
   "source": [
    "del [[data]]\n",
    "gc.collect()\n",
    "data = pd.DataFrame()\n",
    "gc.collect()"
   ]
  },
  {
   "cell_type": "code",
   "execution_count": 20,
   "metadata": {},
   "outputs": [
    {
     "data": {
      "application/vnd.jupyter.widget-view+json": {
       "model_id": "4db155eec439459f989946fc3b6ba374",
       "version_major": 2,
       "version_minor": 0
      },
      "text/plain": [
       "HBox(children=(IntProgress(value=0, max=12), HTML(value='')))"
      ]
     },
     "metadata": {},
     "output_type": "display_data"
    },
    {
     "name": "stdout",
     "output_type": "stream",
     "text": [
      "val score 0.9335596508244423 for passive agressive (test: 0.9095735085684834)\n",
      "val score 0.9085030714516651 for sgd[hinge] (test: 0.9169050380105657)\n"
     ]
    },
    {
     "name": "stderr",
     "output_type": "stream",
     "text": [
      "/home/jsimon/anaconda3/envs/thesis/lib/python3.7/site-packages/sklearn/discriminant_analysis.py:388: UserWarning: Variables are collinear.\n",
      "  warnings.warn(\"Variables are collinear.\")\n"
     ]
    },
    {
     "name": "stdout",
     "output_type": "stream",
     "text": [
      "val score 0.918525703200776 for LDA (test: 0.918683159386677)\n"
     ]
    },
    {
     "name": "stderr",
     "output_type": "stream",
     "text": [
      "/home/jsimon/anaconda3/envs/thesis/lib/python3.7/site-packages/sklearn/discriminant_analysis.py:692: UserWarning: Variables are collinear\n",
      "  warnings.warn(\"Variables are collinear\")\n",
      "/home/jsimon/anaconda3/envs/thesis/lib/python3.7/site-packages/sklearn/discriminant_analysis.py:692: UserWarning: Variables are collinear\n",
      "  warnings.warn(\"Variables are collinear\")\n",
      "/home/jsimon/anaconda3/envs/thesis/lib/python3.7/site-packages/sklearn/discriminant_analysis.py:692: UserWarning: Variables are collinear\n",
      "  warnings.warn(\"Variables are collinear\")\n",
      "/home/jsimon/anaconda3/envs/thesis/lib/python3.7/site-packages/sklearn/discriminant_analysis.py:692: UserWarning: Variables are collinear\n",
      "  warnings.warn(\"Variables are collinear\")\n",
      "/home/jsimon/anaconda3/envs/thesis/lib/python3.7/site-packages/sklearn/discriminant_analysis.py:692: UserWarning: Variables are collinear\n",
      "  warnings.warn(\"Variables are collinear\")\n",
      "/home/jsimon/anaconda3/envs/thesis/lib/python3.7/site-packages/sklearn/discriminant_analysis.py:692: UserWarning: Variables are collinear\n",
      "  warnings.warn(\"Variables are collinear\")\n",
      "/home/jsimon/anaconda3/envs/thesis/lib/python3.7/site-packages/sklearn/discriminant_analysis.py:692: UserWarning: Variables are collinear\n",
      "  warnings.warn(\"Variables are collinear\")\n",
      "/home/jsimon/anaconda3/envs/thesis/lib/python3.7/site-packages/sklearn/discriminant_analysis.py:692: UserWarning: Variables are collinear\n",
      "  warnings.warn(\"Variables are collinear\")\n",
      "/home/jsimon/anaconda3/envs/thesis/lib/python3.7/site-packages/sklearn/discriminant_analysis.py:692: UserWarning: Variables are collinear\n",
      "  warnings.warn(\"Variables are collinear\")\n",
      "/home/jsimon/anaconda3/envs/thesis/lib/python3.7/site-packages/sklearn/discriminant_analysis.py:692: UserWarning: Variables are collinear\n",
      "  warnings.warn(\"Variables are collinear\")\n",
      "/home/jsimon/anaconda3/envs/thesis/lib/python3.7/site-packages/sklearn/discriminant_analysis.py:692: UserWarning: Variables are collinear\n",
      "  warnings.warn(\"Variables are collinear\")\n",
      "/home/jsimon/anaconda3/envs/thesis/lib/python3.7/site-packages/sklearn/discriminant_analysis.py:692: UserWarning: Variables are collinear\n",
      "  warnings.warn(\"Variables are collinear\")\n",
      "/home/jsimon/anaconda3/envs/thesis/lib/python3.7/site-packages/sklearn/discriminant_analysis.py:692: UserWarning: Variables are collinear\n",
      "  warnings.warn(\"Variables are collinear\")\n",
      "/home/jsimon/anaconda3/envs/thesis/lib/python3.7/site-packages/sklearn/discriminant_analysis.py:692: UserWarning: Variables are collinear\n",
      "  warnings.warn(\"Variables are collinear\")\n",
      "/home/jsimon/anaconda3/envs/thesis/lib/python3.7/site-packages/sklearn/discriminant_analysis.py:692: UserWarning: Variables are collinear\n",
      "  warnings.warn(\"Variables are collinear\")\n",
      "/home/jsimon/anaconda3/envs/thesis/lib/python3.7/site-packages/sklearn/discriminant_analysis.py:692: UserWarning: Variables are collinear\n",
      "  warnings.warn(\"Variables are collinear\")\n",
      "/home/jsimon/anaconda3/envs/thesis/lib/python3.7/site-packages/sklearn/discriminant_analysis.py:692: UserWarning: Variables are collinear\n",
      "  warnings.warn(\"Variables are collinear\")\n",
      "/home/jsimon/anaconda3/envs/thesis/lib/python3.7/site-packages/sklearn/discriminant_analysis.py:692: UserWarning: Variables are collinear\n",
      "  warnings.warn(\"Variables are collinear\")\n",
      "/home/jsimon/anaconda3/envs/thesis/lib/python3.7/site-packages/sklearn/discriminant_analysis.py:692: UserWarning: Variables are collinear\n",
      "  warnings.warn(\"Variables are collinear\")\n",
      "/home/jsimon/anaconda3/envs/thesis/lib/python3.7/site-packages/sklearn/discriminant_analysis.py:692: UserWarning: Variables are collinear\n",
      "  warnings.warn(\"Variables are collinear\")\n",
      "/home/jsimon/anaconda3/envs/thesis/lib/python3.7/site-packages/sklearn/discriminant_analysis.py:692: UserWarning: Variables are collinear\n",
      "  warnings.warn(\"Variables are collinear\")\n",
      "/home/jsimon/anaconda3/envs/thesis/lib/python3.7/site-packages/sklearn/discriminant_analysis.py:692: UserWarning: Variables are collinear\n",
      "  warnings.warn(\"Variables are collinear\")\n",
      "/home/jsimon/anaconda3/envs/thesis/lib/python3.7/site-packages/sklearn/discriminant_analysis.py:692: UserWarning: Variables are collinear\n",
      "  warnings.warn(\"Variables are collinear\")\n",
      "/home/jsimon/anaconda3/envs/thesis/lib/python3.7/site-packages/sklearn/discriminant_analysis.py:692: UserWarning: Variables are collinear\n",
      "  warnings.warn(\"Variables are collinear\")\n",
      "/home/jsimon/anaconda3/envs/thesis/lib/python3.7/site-packages/sklearn/discriminant_analysis.py:692: UserWarning: Variables are collinear\n",
      "  warnings.warn(\"Variables are collinear\")\n",
      "/home/jsimon/anaconda3/envs/thesis/lib/python3.7/site-packages/sklearn/discriminant_analysis.py:692: UserWarning: Variables are collinear\n",
      "  warnings.warn(\"Variables are collinear\")\n",
      "/home/jsimon/anaconda3/envs/thesis/lib/python3.7/site-packages/sklearn/discriminant_analysis.py:692: UserWarning: Variables are collinear\n",
      "  warnings.warn(\"Variables are collinear\")\n",
      "/home/jsimon/anaconda3/envs/thesis/lib/python3.7/site-packages/sklearn/discriminant_analysis.py:692: UserWarning: Variables are collinear\n",
      "  warnings.warn(\"Variables are collinear\")\n",
      "/home/jsimon/anaconda3/envs/thesis/lib/python3.7/site-packages/sklearn/discriminant_analysis.py:692: UserWarning: Variables are collinear\n",
      "  warnings.warn(\"Variables are collinear\")\n",
      "/home/jsimon/anaconda3/envs/thesis/lib/python3.7/site-packages/sklearn/discriminant_analysis.py:692: UserWarning: Variables are collinear\n",
      "  warnings.warn(\"Variables are collinear\")\n",
      "/home/jsimon/anaconda3/envs/thesis/lib/python3.7/site-packages/sklearn/discriminant_analysis.py:692: UserWarning: Variables are collinear\n",
      "  warnings.warn(\"Variables are collinear\")\n",
      "/home/jsimon/anaconda3/envs/thesis/lib/python3.7/site-packages/sklearn/discriminant_analysis.py:692: UserWarning: Variables are collinear\n",
      "  warnings.warn(\"Variables are collinear\")\n",
      "/home/jsimon/anaconda3/envs/thesis/lib/python3.7/site-packages/sklearn/discriminant_analysis.py:692: UserWarning: Variables are collinear\n",
      "  warnings.warn(\"Variables are collinear\")\n",
      "/home/jsimon/anaconda3/envs/thesis/lib/python3.7/site-packages/sklearn/discriminant_analysis.py:692: UserWarning: Variables are collinear\n",
      "  warnings.warn(\"Variables are collinear\")\n"
     ]
    },
    {
     "name": "stdout",
     "output_type": "stream",
     "text": [
      "val score 0.9159392175881022 for QDA (test: 0.7456513335910321)\n",
      "val score 0.24264468153895893 for nn (test: 0.5305244169565778)\n",
      "val score 0.9398642095053347 for knn (test: 0.9577116350985698)\n",
      "val score 0.6753960556094407 for gaussian navie bayse (test: 0.7645019971653138)\n",
      "val score 0.9295182670546395 for decision tree (test: 1.0)\n"
     ]
    },
    {
     "name": "stderr",
     "output_type": "stream",
     "text": [
      "[Parallel(n_jobs=3)]: Using backend ThreadingBackend with 3 concurrent workers.\n",
      "[Parallel(n_jobs=3)]: Done  10 out of  10 | elapsed:    8.8s finished\n",
      "[Parallel(n_jobs=3)]: Using backend ThreadingBackend with 3 concurrent workers.\n",
      "[Parallel(n_jobs=3)]: Done  10 out of  10 | elapsed:    0.0s finished\n",
      "[Parallel(n_jobs=3)]: Using backend ThreadingBackend with 3 concurrent workers.\n",
      "[Parallel(n_jobs=3)]: Done  10 out of  10 | elapsed:    0.2s finished\n"
     ]
    },
    {
     "name": "stdout",
     "output_type": "stream",
     "text": [
      "val score 0.9569996766892984 for random forrest (test: 0.9975132070609457)\n"
     ]
    },
    {
     "name": "stderr",
     "output_type": "stream",
     "text": [
      "[Parallel(n_jobs=3)]: Using backend ThreadingBackend with 3 concurrent workers.\n",
      "[Parallel(n_jobs=3)]: Done  10 out of  10 | elapsed:    1.4s finished\n",
      "[Parallel(n_jobs=3)]: Using backend ThreadingBackend with 3 concurrent workers.\n",
      "[Parallel(n_jobs=3)]: Done  10 out of  10 | elapsed:    0.0s finished\n",
      "[Parallel(n_jobs=3)]: Using backend ThreadingBackend with 3 concurrent workers.\n",
      "[Parallel(n_jobs=3)]: Done  10 out of  10 | elapsed:    0.2s finished\n"
     ]
    },
    {
     "name": "stdout",
     "output_type": "stream",
     "text": [
      "val score 0.9591011962495959 for extra trees (test: 1.0)\n",
      "val score 0.06417717426446816 for ada boost (test: 0.5249194691405746)\n",
      "      Iter       Train Loss   Remaining Time \n",
      "         1 156526536824715692912342015105701964652319330845701401737519169536.0000           54.24m\n",
      "         2 156526536824715692912342015105701964652319330845701401737519169536.0000           55.46m\n",
      "         3 156526536824715692912342015105701964652319330845701401737519169536.0000           55.14m\n",
      "         4 156526536824715692912342015105701964652319330845701401737519169536.0000           54.67m\n",
      "         5 156526536824715692912342015105701964652319330845701401737519169536.0000           54.16m\n",
      "         6 156526536824715692912342015105701964652319330845701401737519169536.0000           53.60m\n",
      "         7 156526536824715692912342015105701964652319330845701401737519169536.0000           53.18m\n",
      "         8 156526536824715692912342015105701964652319330845701401737519169536.0000           52.64m\n",
      "         9 156526536824715692912342015105701964652319330845701401737519169536.0000           52.23m\n",
      "        10 156526536824715692912342015105701964652319330845701401737519169536.0000           51.66m\n",
      "        20 156526536824715692912342015105701964652319330845701401737519169536.0000           45.96m\n",
      "        30 156526536824715692912342015105701964652319330845701401737519169536.0000           40.09m\n",
      "        40 156526536824715692912342015105701964652319330845701401737519169536.0000           34.41m\n",
      "        50 156526536824715692912342015105701964652319330845701401737519169536.0000           28.69m\n",
      "        60 156526536824715692912342015105701964652319330845701401737519169536.0000           22.94m\n",
      "        70 156526536824715692912342015105701964652319330845701401737519169536.0000           17.20m\n",
      "        80 156526536824715692912342015105701964652319330845701401737519169536.0000           11.47m\n",
      "        90 156526536824715692912342015105701964652319330845701401737519169536.0000            5.73m\n",
      "       100 156526536824715692912342015105701964652319330845701401737519169536.0000            0.00s\n",
      "val score 0.03507921112188814 for gradient boost (test: 0.018103337198814587)\n",
      "\n"
     ]
    }
   ],
   "source": [
    "gc.collect()\n",
    "results = fit_classifier(classifiers, Xrfe, y, XValrfe, yval)"
   ]
  },
  {
   "cell_type": "code",
   "execution_count": 21,
   "metadata": {},
   "outputs": [],
   "source": [
    "with open( stats_added_base_path+'rfecv-a001cls.pkl', \"wb\" ) as users_pickle_file:\n",
    "    pickle.dump(results, users_pickle_file)"
   ]
  },
  {
   "cell_type": "markdown",
   "metadata": {},
   "source": [
    "## RFE with Lasso, $\\alpha$ = 0.5"
   ]
  },
  {
   "cell_type": "code",
   "execution_count": 22,
   "metadata": {},
   "outputs": [],
   "source": [
    "with open( stats_added_base_path+'train-data-rfecv3.pk', \"rb\" ) as users_pickle_file:\n",
    "    data = pickle.load(users_pickle_file)\n",
    "Xrfe = data['X']\n",
    "y = data['y']\n",
    "XValrfe = data['Xval']\n",
    "yval = data['yval']\n",
    "gestures = data['gestures']\n",
    "rfe_features = data['headers']"
   ]
  },
  {
   "cell_type": "code",
   "execution_count": 23,
   "metadata": {},
   "outputs": [
    {
     "data": {
      "text/plain": [
       "(1, 192)"
      ]
     },
     "execution_count": 23,
     "metadata": {},
     "output_type": "execute_result"
    }
   ],
   "source": [
    "rfe_features.shape"
   ]
  },
  {
   "cell_type": "code",
   "execution_count": 24,
   "metadata": {},
   "outputs": [
    {
     "data": {
      "text/plain": [
       "0"
      ]
     },
     "execution_count": 24,
     "metadata": {},
     "output_type": "execute_result"
    }
   ],
   "source": [
    "del [[data]]\n",
    "gc.collect()\n",
    "data = pd.DataFrame()\n",
    "gc.collect()"
   ]
  },
  {
   "cell_type": "code",
   "execution_count": 25,
   "metadata": {},
   "outputs": [
    {
     "data": {
      "application/vnd.jupyter.widget-view+json": {
       "model_id": "5ebd171465724886b9a9d692ba6d2bfd",
       "version_major": 2,
       "version_minor": 0
      },
      "text/plain": [
       "HBox(children=(IntProgress(value=0, max=12), HTML(value='')))"
      ]
     },
     "metadata": {},
     "output_type": "display_data"
    },
    {
     "name": "stdout",
     "output_type": "stream",
     "text": [
      "val score 0.5640155189136761 for passive agressive (test: 0.65095992784435)\n",
      "val score 0.3942774005819593 for sgd[hinge] (test: 0.5442082205901302)\n"
     ]
    },
    {
     "name": "stderr",
     "output_type": "stream",
     "text": [
      "/home/jsimon/anaconda3/envs/thesis/lib/python3.7/site-packages/sklearn/discriminant_analysis.py:388: UserWarning: Variables are collinear.\n",
      "  warnings.warn(\"Variables are collinear.\")\n",
      "/home/jsimon/anaconda3/envs/thesis/lib/python3.7/site-packages/sklearn/discriminant_analysis.py:692: UserWarning: Variables are collinear\n",
      "  warnings.warn(\"Variables are collinear\")\n"
     ]
    },
    {
     "name": "stdout",
     "output_type": "stream",
     "text": [
      "val score 0.7620433236340123 for LDA (test: 0.8215565004509727)\n"
     ]
    },
    {
     "name": "stderr",
     "output_type": "stream",
     "text": [
      "/home/jsimon/anaconda3/envs/thesis/lib/python3.7/site-packages/sklearn/discriminant_analysis.py:692: UserWarning: Variables are collinear\n",
      "  warnings.warn(\"Variables are collinear\")\n",
      "/home/jsimon/anaconda3/envs/thesis/lib/python3.7/site-packages/sklearn/discriminant_analysis.py:692: UserWarning: Variables are collinear\n",
      "  warnings.warn(\"Variables are collinear\")\n",
      "/home/jsimon/anaconda3/envs/thesis/lib/python3.7/site-packages/sklearn/discriminant_analysis.py:692: UserWarning: Variables are collinear\n",
      "  warnings.warn(\"Variables are collinear\")\n",
      "/home/jsimon/anaconda3/envs/thesis/lib/python3.7/site-packages/sklearn/discriminant_analysis.py:692: UserWarning: Variables are collinear\n",
      "  warnings.warn(\"Variables are collinear\")\n",
      "/home/jsimon/anaconda3/envs/thesis/lib/python3.7/site-packages/sklearn/discriminant_analysis.py:692: UserWarning: Variables are collinear\n",
      "  warnings.warn(\"Variables are collinear\")\n",
      "/home/jsimon/anaconda3/envs/thesis/lib/python3.7/site-packages/sklearn/discriminant_analysis.py:692: UserWarning: Variables are collinear\n",
      "  warnings.warn(\"Variables are collinear\")\n",
      "/home/jsimon/anaconda3/envs/thesis/lib/python3.7/site-packages/sklearn/discriminant_analysis.py:692: UserWarning: Variables are collinear\n",
      "  warnings.warn(\"Variables are collinear\")\n",
      "/home/jsimon/anaconda3/envs/thesis/lib/python3.7/site-packages/sklearn/discriminant_analysis.py:692: UserWarning: Variables are collinear\n",
      "  warnings.warn(\"Variables are collinear\")\n",
      "/home/jsimon/anaconda3/envs/thesis/lib/python3.7/site-packages/sklearn/discriminant_analysis.py:692: UserWarning: Variables are collinear\n",
      "  warnings.warn(\"Variables are collinear\")\n",
      "/home/jsimon/anaconda3/envs/thesis/lib/python3.7/site-packages/sklearn/discriminant_analysis.py:692: UserWarning: Variables are collinear\n",
      "  warnings.warn(\"Variables are collinear\")\n",
      "/home/jsimon/anaconda3/envs/thesis/lib/python3.7/site-packages/sklearn/discriminant_analysis.py:692: UserWarning: Variables are collinear\n",
      "  warnings.warn(\"Variables are collinear\")\n",
      "/home/jsimon/anaconda3/envs/thesis/lib/python3.7/site-packages/sklearn/discriminant_analysis.py:692: UserWarning: Variables are collinear\n",
      "  warnings.warn(\"Variables are collinear\")\n",
      "/home/jsimon/anaconda3/envs/thesis/lib/python3.7/site-packages/sklearn/discriminant_analysis.py:692: UserWarning: Variables are collinear\n",
      "  warnings.warn(\"Variables are collinear\")\n",
      "/home/jsimon/anaconda3/envs/thesis/lib/python3.7/site-packages/sklearn/discriminant_analysis.py:692: UserWarning: Variables are collinear\n",
      "  warnings.warn(\"Variables are collinear\")\n",
      "/home/jsimon/anaconda3/envs/thesis/lib/python3.7/site-packages/sklearn/discriminant_analysis.py:692: UserWarning: Variables are collinear\n",
      "  warnings.warn(\"Variables are collinear\")\n",
      "/home/jsimon/anaconda3/envs/thesis/lib/python3.7/site-packages/sklearn/discriminant_analysis.py:692: UserWarning: Variables are collinear\n",
      "  warnings.warn(\"Variables are collinear\")\n",
      "/home/jsimon/anaconda3/envs/thesis/lib/python3.7/site-packages/sklearn/discriminant_analysis.py:692: UserWarning: Variables are collinear\n",
      "  warnings.warn(\"Variables are collinear\")\n",
      "/home/jsimon/anaconda3/envs/thesis/lib/python3.7/site-packages/sklearn/discriminant_analysis.py:692: UserWarning: Variables are collinear\n",
      "  warnings.warn(\"Variables are collinear\")\n",
      "/home/jsimon/anaconda3/envs/thesis/lib/python3.7/site-packages/sklearn/discriminant_analysis.py:692: UserWarning: Variables are collinear\n",
      "  warnings.warn(\"Variables are collinear\")\n",
      "/home/jsimon/anaconda3/envs/thesis/lib/python3.7/site-packages/sklearn/discriminant_analysis.py:692: UserWarning: Variables are collinear\n",
      "  warnings.warn(\"Variables are collinear\")\n",
      "/home/jsimon/anaconda3/envs/thesis/lib/python3.7/site-packages/sklearn/discriminant_analysis.py:692: UserWarning: Variables are collinear\n",
      "  warnings.warn(\"Variables are collinear\")\n",
      "/home/jsimon/anaconda3/envs/thesis/lib/python3.7/site-packages/sklearn/discriminant_analysis.py:692: UserWarning: Variables are collinear\n",
      "  warnings.warn(\"Variables are collinear\")\n",
      "/home/jsimon/anaconda3/envs/thesis/lib/python3.7/site-packages/sklearn/discriminant_analysis.py:692: UserWarning: Variables are collinear\n",
      "  warnings.warn(\"Variables are collinear\")\n",
      "/home/jsimon/anaconda3/envs/thesis/lib/python3.7/site-packages/sklearn/discriminant_analysis.py:692: UserWarning: Variables are collinear\n",
      "  warnings.warn(\"Variables are collinear\")\n",
      "/home/jsimon/anaconda3/envs/thesis/lib/python3.7/site-packages/sklearn/discriminant_analysis.py:692: UserWarning: Variables are collinear\n",
      "  warnings.warn(\"Variables are collinear\")\n",
      "/home/jsimon/anaconda3/envs/thesis/lib/python3.7/site-packages/sklearn/discriminant_analysis.py:692: UserWarning: Variables are collinear\n",
      "  warnings.warn(\"Variables are collinear\")\n",
      "/home/jsimon/anaconda3/envs/thesis/lib/python3.7/site-packages/sklearn/discriminant_analysis.py:692: UserWarning: Variables are collinear\n",
      "  warnings.warn(\"Variables are collinear\")\n",
      "/home/jsimon/anaconda3/envs/thesis/lib/python3.7/site-packages/sklearn/discriminant_analysis.py:692: UserWarning: Variables are collinear\n",
      "  warnings.warn(\"Variables are collinear\")\n",
      "/home/jsimon/anaconda3/envs/thesis/lib/python3.7/site-packages/sklearn/discriminant_analysis.py:692: UserWarning: Variables are collinear\n",
      "  warnings.warn(\"Variables are collinear\")\n",
      "/home/jsimon/anaconda3/envs/thesis/lib/python3.7/site-packages/sklearn/discriminant_analysis.py:692: UserWarning: Variables are collinear\n",
      "  warnings.warn(\"Variables are collinear\")\n",
      "/home/jsimon/anaconda3/envs/thesis/lib/python3.7/site-packages/sklearn/discriminant_analysis.py:692: UserWarning: Variables are collinear\n",
      "  warnings.warn(\"Variables are collinear\")\n",
      "/home/jsimon/anaconda3/envs/thesis/lib/python3.7/site-packages/sklearn/discriminant_analysis.py:692: UserWarning: Variables are collinear\n",
      "  warnings.warn(\"Variables are collinear\")\n",
      "/home/jsimon/anaconda3/envs/thesis/lib/python3.7/site-packages/sklearn/discriminant_analysis.py:692: UserWarning: Variables are collinear\n",
      "  warnings.warn(\"Variables are collinear\")\n"
     ]
    },
    {
     "name": "stdout",
     "output_type": "stream",
     "text": [
      "val score 0.871968962172648 for QDA (test: 0.6622084782888803)\n",
      "val score 0.11024894924021987 for nn (test: 0.08577502899110939)\n",
      "val score 0.5918202392499192 for knn (test: 0.8134389898208993)\n",
      "val score 0.6138053669576463 for gaussian navie bayse (test: 0.7314907872696819)\n",
      "val score 0.9139993533785968 for decision tree (test: 1.0)\n"
     ]
    },
    {
     "name": "stderr",
     "output_type": "stream",
     "text": [
      "[Parallel(n_jobs=3)]: Using backend ThreadingBackend with 3 concurrent workers.\n",
      "[Parallel(n_jobs=3)]: Done  10 out of  10 | elapsed:    4.3s finished\n",
      "[Parallel(n_jobs=3)]: Using backend ThreadingBackend with 3 concurrent workers.\n",
      "[Parallel(n_jobs=3)]: Done  10 out of  10 | elapsed:    0.0s finished\n",
      "[Parallel(n_jobs=3)]: Using backend ThreadingBackend with 3 concurrent workers.\n",
      "[Parallel(n_jobs=3)]: Done  10 out of  10 | elapsed:    0.2s finished\n",
      "[Parallel(n_jobs=3)]: Using backend ThreadingBackend with 3 concurrent workers.\n"
     ]
    },
    {
     "name": "stdout",
     "output_type": "stream",
     "text": [
      "val score 0.9474620109925639 for random forrest (test: 0.9972555083107847)\n"
     ]
    },
    {
     "name": "stderr",
     "output_type": "stream",
     "text": [
      "[Parallel(n_jobs=3)]: Done  10 out of  10 | elapsed:    0.8s finished\n",
      "[Parallel(n_jobs=3)]: Using backend ThreadingBackend with 3 concurrent workers.\n",
      "[Parallel(n_jobs=3)]: Done  10 out of  10 | elapsed:    0.0s finished\n",
      "[Parallel(n_jobs=3)]: Using backend ThreadingBackend with 3 concurrent workers.\n",
      "[Parallel(n_jobs=3)]: Done  10 out of  10 | elapsed:    0.2s finished\n"
     ]
    },
    {
     "name": "stdout",
     "output_type": "stream",
     "text": [
      "val score 0.9429356611703847 for extra trees (test: 1.0)\n",
      "val score 0.10006466214031684 for ada boost (test: 0.5253833268908645)\n",
      "      Iter       Train Loss   Remaining Time \n",
      "         1 6602015407899320117018377891688703017680184815464363796367646607254270465528076589142113573227195027418678670216657366941696.0000           16.46m\n",
      "         2 6602015407899320117018377891688703017680184815464363796367646607254270465528076589142113573227195027418678670216657366941696.0000           17.46m\n",
      "         3 6602015407899320117018377891688703017680184815464363796367646607254270465528076589142113573227195027418678670216657366941696.0000           17.70m\n",
      "         4 6602015407899320117018377891688703017680184815464363796367646607254270465528076589142113573227195027418678670216657366941696.0000           17.79m\n",
      "         5 6602015407899320117018377891688703017680184815464363796367646607254270465528076589142113573227195027418678670216657366941696.0000           17.69m\n",
      "         6 6602015407899320117018377891688703017680184815464363796367646607254270465528076589142113573227195027418678670216657366941696.0000           17.56m\n",
      "         7 6602015407899320117018377891688703017680184815464363796367646607254270465528076589142113573227195027418678670216657366941696.0000           17.40m\n",
      "         8 6602015407899320117018377891688703017680184815464363796367646607254270465528076589142113573227195027418678670216657366941696.0000           17.28m\n",
      "         9 6602015407899320117018377891688703017680184815464363796367646607254270465528076589142113573227195027418678670216657366941696.0000           17.07m\n",
      "        10 6602015407899320117018377891688703017680184815464363796367646607254270465528076589142113573227195027418678670216657366941696.0000           16.90m\n",
      "        20 6602015407899320117018377891688703017680184815464363796367646607254270465528076589142113573227195027418678670216657366941696.0000           15.07m\n",
      "        30 6602015407899320117018377891688703017680184815464363796367646607254270465528076589142113573227195027418678670216657366941696.0000           13.19m\n",
      "        40 6602015407899320117018377891688703017680184815464363796367646607254270465528076589142113573227195027418678670216657366941696.0000           11.31m\n",
      "        50 6602015407899320117018377891688703017680184815464363796367646607254270465528076589142113573227195027418678670216657366941696.0000            9.42m\n",
      "        60 6602015407899320117018377891688703017680184815464363796367646607254270465528076589142113573227195027418678670216657366941696.0000            7.52m\n",
      "        70 6602015407899320117018377891688703017680184815464363796367646607254270465528076589142113573227195027418678670216657366941696.0000            5.64m\n",
      "        80 6602015407899320117018377891688703017680184815464363796367646607254270465528076589142113573227195027418678670216657366941696.0000            3.76m\n",
      "        90 6602015407899320117018377891688703017680184815464363796367646607254270465528076589142113573227195027418678670216657366941696.0000            1.88m\n",
      "       100 6602015407899320117018377891688703017680184815464363796367646607254270465528076589142113573227195027418678670216657366941696.0000            0.00s\n",
      "val score 0.03330100226317491 for gradient boost (test: 0.016930807885581756)\n",
      "\n"
     ]
    }
   ],
   "source": [
    "gc.collect()\n",
    "results = fit_classifier(classifiers, Xrfe, y, XValrfe, yval)"
   ]
  },
  {
   "cell_type": "code",
   "execution_count": 26,
   "metadata": {},
   "outputs": [],
   "source": [
    "with open( stats_added_base_path+'rfecv-a05cls.pkl', \"wb\" ) as users_pickle_file:\n",
    "    pickle.dump(results, users_pickle_file)"
   ]
  },
  {
   "cell_type": "markdown",
   "metadata": {},
   "source": [
    "## RFE with Lasso, $\\alpha$ = 0.9"
   ]
  },
  {
   "cell_type": "code",
   "execution_count": 27,
   "metadata": {},
   "outputs": [],
   "source": [
    "with open( stats_added_base_path+'train-data-rfecv4.pk', \"rb\" ) as users_pickle_file:\n",
    "    data = pickle.load(users_pickle_file)\n",
    "Xrfe = data['X']\n",
    "y = data['y']\n",
    "XValrfe = data['Xval']\n",
    "yval = data['yval']\n",
    "gestures = data['gestures']\n",
    "rfe_features = data['headers']"
   ]
  },
  {
   "cell_type": "code",
   "execution_count": 28,
   "metadata": {},
   "outputs": [
    {
     "data": {
      "text/plain": [
       "(1, 192)"
      ]
     },
     "execution_count": 28,
     "metadata": {},
     "output_type": "execute_result"
    }
   ],
   "source": [
    "rfe_features.shape"
   ]
  },
  {
   "cell_type": "code",
   "execution_count": 29,
   "metadata": {},
   "outputs": [
    {
     "data": {
      "text/plain": [
       "0"
      ]
     },
     "execution_count": 29,
     "metadata": {},
     "output_type": "execute_result"
    }
   ],
   "source": [
    "del [[data]]\n",
    "gc.collect()\n",
    "data = pd.DataFrame()\n",
    "gc.collect()"
   ]
  },
  {
   "cell_type": "code",
   "execution_count": 30,
   "metadata": {},
   "outputs": [
    {
     "data": {
      "application/vnd.jupyter.widget-view+json": {
       "model_id": "11d29f2d338f487aa4fb219765531319",
       "version_major": 2,
       "version_minor": 0
      },
      "text/plain": [
       "HBox(children=(IntProgress(value=0, max=12), HTML(value='')))"
      ]
     },
     "metadata": {},
     "output_type": "display_data"
    },
    {
     "name": "stdout",
     "output_type": "stream",
     "text": [
      "val score 0.14807630132557387 for passive agressive (test: 0.3236954000773096)\n",
      "val score 0.06902683478823149 for sgd[hinge] (test: 0.2505604947816003)\n"
     ]
    },
    {
     "name": "stderr",
     "output_type": "stream",
     "text": [
      "/home/jsimon/anaconda3/envs/thesis/lib/python3.7/site-packages/sklearn/discriminant_analysis.py:388: UserWarning: Variables are collinear.\n",
      "  warnings.warn(\"Variables are collinear.\")\n",
      "/home/jsimon/anaconda3/envs/thesis/lib/python3.7/site-packages/sklearn/discriminant_analysis.py:692: UserWarning: Variables are collinear\n",
      "  warnings.warn(\"Variables are collinear\")\n"
     ]
    },
    {
     "name": "stdout",
     "output_type": "stream",
     "text": [
      "val score 0.6768509537665697 for LDA (test: 0.7818708929261693)\n"
     ]
    },
    {
     "name": "stderr",
     "output_type": "stream",
     "text": [
      "/home/jsimon/anaconda3/envs/thesis/lib/python3.7/site-packages/sklearn/discriminant_analysis.py:692: UserWarning: Variables are collinear\n",
      "  warnings.warn(\"Variables are collinear\")\n",
      "/home/jsimon/anaconda3/envs/thesis/lib/python3.7/site-packages/sklearn/discriminant_analysis.py:692: UserWarning: Variables are collinear\n",
      "  warnings.warn(\"Variables are collinear\")\n",
      "/home/jsimon/anaconda3/envs/thesis/lib/python3.7/site-packages/sklearn/discriminant_analysis.py:692: UserWarning: Variables are collinear\n",
      "  warnings.warn(\"Variables are collinear\")\n",
      "/home/jsimon/anaconda3/envs/thesis/lib/python3.7/site-packages/sklearn/discriminant_analysis.py:692: UserWarning: Variables are collinear\n",
      "  warnings.warn(\"Variables are collinear\")\n",
      "/home/jsimon/anaconda3/envs/thesis/lib/python3.7/site-packages/sklearn/discriminant_analysis.py:692: UserWarning: Variables are collinear\n",
      "  warnings.warn(\"Variables are collinear\")\n",
      "/home/jsimon/anaconda3/envs/thesis/lib/python3.7/site-packages/sklearn/discriminant_analysis.py:692: UserWarning: Variables are collinear\n",
      "  warnings.warn(\"Variables are collinear\")\n",
      "/home/jsimon/anaconda3/envs/thesis/lib/python3.7/site-packages/sklearn/discriminant_analysis.py:692: UserWarning: Variables are collinear\n",
      "  warnings.warn(\"Variables are collinear\")\n",
      "/home/jsimon/anaconda3/envs/thesis/lib/python3.7/site-packages/sklearn/discriminant_analysis.py:692: UserWarning: Variables are collinear\n",
      "  warnings.warn(\"Variables are collinear\")\n",
      "/home/jsimon/anaconda3/envs/thesis/lib/python3.7/site-packages/sklearn/discriminant_analysis.py:692: UserWarning: Variables are collinear\n",
      "  warnings.warn(\"Variables are collinear\")\n",
      "/home/jsimon/anaconda3/envs/thesis/lib/python3.7/site-packages/sklearn/discriminant_analysis.py:692: UserWarning: Variables are collinear\n",
      "  warnings.warn(\"Variables are collinear\")\n",
      "/home/jsimon/anaconda3/envs/thesis/lib/python3.7/site-packages/sklearn/discriminant_analysis.py:692: UserWarning: Variables are collinear\n",
      "  warnings.warn(\"Variables are collinear\")\n",
      "/home/jsimon/anaconda3/envs/thesis/lib/python3.7/site-packages/sklearn/discriminant_analysis.py:692: UserWarning: Variables are collinear\n",
      "  warnings.warn(\"Variables are collinear\")\n",
      "/home/jsimon/anaconda3/envs/thesis/lib/python3.7/site-packages/sklearn/discriminant_analysis.py:692: UserWarning: Variables are collinear\n",
      "  warnings.warn(\"Variables are collinear\")\n",
      "/home/jsimon/anaconda3/envs/thesis/lib/python3.7/site-packages/sklearn/discriminant_analysis.py:692: UserWarning: Variables are collinear\n",
      "  warnings.warn(\"Variables are collinear\")\n",
      "/home/jsimon/anaconda3/envs/thesis/lib/python3.7/site-packages/sklearn/discriminant_analysis.py:692: UserWarning: Variables are collinear\n",
      "  warnings.warn(\"Variables are collinear\")\n",
      "/home/jsimon/anaconda3/envs/thesis/lib/python3.7/site-packages/sklearn/discriminant_analysis.py:692: UserWarning: Variables are collinear\n",
      "  warnings.warn(\"Variables are collinear\")\n",
      "/home/jsimon/anaconda3/envs/thesis/lib/python3.7/site-packages/sklearn/discriminant_analysis.py:692: UserWarning: Variables are collinear\n",
      "  warnings.warn(\"Variables are collinear\")\n",
      "/home/jsimon/anaconda3/envs/thesis/lib/python3.7/site-packages/sklearn/discriminant_analysis.py:692: UserWarning: Variables are collinear\n",
      "  warnings.warn(\"Variables are collinear\")\n",
      "/home/jsimon/anaconda3/envs/thesis/lib/python3.7/site-packages/sklearn/discriminant_analysis.py:692: UserWarning: Variables are collinear\n",
      "  warnings.warn(\"Variables are collinear\")\n",
      "/home/jsimon/anaconda3/envs/thesis/lib/python3.7/site-packages/sklearn/discriminant_analysis.py:692: UserWarning: Variables are collinear\n",
      "  warnings.warn(\"Variables are collinear\")\n",
      "/home/jsimon/anaconda3/envs/thesis/lib/python3.7/site-packages/sklearn/discriminant_analysis.py:692: UserWarning: Variables are collinear\n",
      "  warnings.warn(\"Variables are collinear\")\n",
      "/home/jsimon/anaconda3/envs/thesis/lib/python3.7/site-packages/sklearn/discriminant_analysis.py:692: UserWarning: Variables are collinear\n",
      "  warnings.warn(\"Variables are collinear\")\n",
      "/home/jsimon/anaconda3/envs/thesis/lib/python3.7/site-packages/sklearn/discriminant_analysis.py:692: UserWarning: Variables are collinear\n",
      "  warnings.warn(\"Variables are collinear\")\n",
      "/home/jsimon/anaconda3/envs/thesis/lib/python3.7/site-packages/sklearn/discriminant_analysis.py:692: UserWarning: Variables are collinear\n",
      "  warnings.warn(\"Variables are collinear\")\n",
      "/home/jsimon/anaconda3/envs/thesis/lib/python3.7/site-packages/sklearn/discriminant_analysis.py:692: UserWarning: Variables are collinear\n",
      "  warnings.warn(\"Variables are collinear\")\n",
      "/home/jsimon/anaconda3/envs/thesis/lib/python3.7/site-packages/sklearn/discriminant_analysis.py:692: UserWarning: Variables are collinear\n",
      "  warnings.warn(\"Variables are collinear\")\n",
      "/home/jsimon/anaconda3/envs/thesis/lib/python3.7/site-packages/sklearn/discriminant_analysis.py:692: UserWarning: Variables are collinear\n",
      "  warnings.warn(\"Variables are collinear\")\n",
      "/home/jsimon/anaconda3/envs/thesis/lib/python3.7/site-packages/sklearn/discriminant_analysis.py:692: UserWarning: Variables are collinear\n",
      "  warnings.warn(\"Variables are collinear\")\n",
      "/home/jsimon/anaconda3/envs/thesis/lib/python3.7/site-packages/sklearn/discriminant_analysis.py:692: UserWarning: Variables are collinear\n",
      "  warnings.warn(\"Variables are collinear\")\n",
      "/home/jsimon/anaconda3/envs/thesis/lib/python3.7/site-packages/sklearn/discriminant_analysis.py:692: UserWarning: Variables are collinear\n",
      "  warnings.warn(\"Variables are collinear\")\n",
      "/home/jsimon/anaconda3/envs/thesis/lib/python3.7/site-packages/sklearn/discriminant_analysis.py:692: UserWarning: Variables are collinear\n",
      "  warnings.warn(\"Variables are collinear\")\n",
      "/home/jsimon/anaconda3/envs/thesis/lib/python3.7/site-packages/sklearn/discriminant_analysis.py:692: UserWarning: Variables are collinear\n",
      "  warnings.warn(\"Variables are collinear\")\n",
      "/home/jsimon/anaconda3/envs/thesis/lib/python3.7/site-packages/sklearn/discriminant_analysis.py:692: UserWarning: Variables are collinear\n",
      "  warnings.warn(\"Variables are collinear\")\n"
     ]
    },
    {
     "name": "stdout",
     "output_type": "stream",
     "text": [
      "val score 0.7586485612673779 for QDA (test: 0.6123566550702229)\n",
      "val score 0.06805690268347882 for nn (test: 0.5228707640767942)\n",
      "val score 0.3027804720336243 for knn (test: 0.6806339389253963)\n",
      "val score 0.3992887164565147 for gaussian navie bayse (test: 0.35454194047158877)\n",
      "val score 0.8937924345295828 for decision tree (test: 1.0)\n"
     ]
    },
    {
     "name": "stderr",
     "output_type": "stream",
     "text": [
      "[Parallel(n_jobs=3)]: Using backend ThreadingBackend with 3 concurrent workers.\n",
      "[Parallel(n_jobs=3)]: Done  10 out of  10 | elapsed:    4.3s finished\n",
      "[Parallel(n_jobs=3)]: Using backend ThreadingBackend with 3 concurrent workers.\n",
      "[Parallel(n_jobs=3)]: Done  10 out of  10 | elapsed:    0.0s finished\n",
      "[Parallel(n_jobs=3)]: Using backend ThreadingBackend with 3 concurrent workers.\n",
      "[Parallel(n_jobs=3)]: Done  10 out of  10 | elapsed:    0.2s finished\n",
      "[Parallel(n_jobs=3)]: Using backend ThreadingBackend with 3 concurrent workers.\n"
     ]
    },
    {
     "name": "stdout",
     "output_type": "stream",
     "text": [
      "val score 0.9367927578402845 for random forrest (test: 0.9970364643731477)\n"
     ]
    },
    {
     "name": "stderr",
     "output_type": "stream",
     "text": [
      "[Parallel(n_jobs=3)]: Done  10 out of  10 | elapsed:    0.9s finished\n",
      "[Parallel(n_jobs=3)]: Using backend ThreadingBackend with 3 concurrent workers.\n",
      "[Parallel(n_jobs=3)]: Done  10 out of  10 | elapsed:    0.0s finished\n",
      "[Parallel(n_jobs=3)]: Using backend ThreadingBackend with 3 concurrent workers.\n",
      "[Parallel(n_jobs=3)]: Done  10 out of  10 | elapsed:    0.2s finished\n"
     ]
    },
    {
     "name": "stdout",
     "output_type": "stream",
     "text": [
      "val score 0.9311348205625606 for extra trees (test: 1.0)\n",
      "val score 0.11994827028774653 for ada boost (test: 0.5564617961602886)\n",
      "      Iter       Train Loss   Remaining Time \n",
      "         1 313676269965149321367281407589102590509028946418998141834681898922597290180135658221980801621160886272.0000           15.46m\n",
      "         2 313676269965149321367281407589102590509028946418998141834681898922597290180135658221980801621160886272.0000           15.56m\n",
      "         3 313676269965149321367281407589102590509028946418998141834681898922597290180135658221980801621160886272.0000           15.41m\n",
      "         4 313676269965149321367281407589102590509028946418998141834681898922597290180135658221980801621160886272.0000           15.41m\n",
      "         5 313676269965149321367281407589102590509028946418998141834681898922597290180135658221980801621160886272.0000           15.26m\n",
      "         6 313676269965149321367281407589102590509028946418998141834681898922597290180135658221980801621160886272.0000           15.07m\n",
      "         7 313676269965149321367281407589102590509028946418998141834681898922597290180135658221980801621160886272.0000           14.98m\n",
      "         8 313676269965149321367281407589102590509028946418998141834681898922597290180135658221980801621160886272.0000           14.87m\n",
      "         9 313676269965149321367281407589102590509028946418998141834681898922597290180135658221980801621160886272.0000           14.75m\n",
      "        10 313676269965149321367281407589102590509028946418998141834681898922597290180135658221980801621160886272.0000           14.60m\n",
      "        20 313676269965149321367281407589102590509028946418998141834681898922597290180135658221980801621160886272.0000           12.97m\n",
      "        30 313676269965149321367281407589102590509028946418998141834681898922597290180135658221980801621160886272.0000           11.38m\n",
      "        40 313676269965149321367281407589102590509028946418998141834681898922597290180135658221980801621160886272.0000            9.78m\n",
      "        50 313676269965149321367281407589102590509028946418998141834681898922597290180135658221980801621160886272.0000            8.17m\n",
      "        60 313676269965149321367281407589102590509028946418998141834681898922597290180135658221980801621160886272.0000            6.52m\n",
      "        70 313676269965149321367281407589102590509028946418998141834681898922597290180135658221980801621160886272.0000            4.89m\n",
      "        80 313676269965149321367281407589102590509028946418998141834681898922597290180135658221980801621160886272.0000            3.25m\n",
      "        90 313676269965149321367281407589102590509028946418998141834681898922597290180135658221980801621160886272.0000            1.63m\n",
      "       100 313676269965149321367281407589102590509028946418998141834681898922597290180135658221980801621160886272.0000            0.00s\n",
      "val score 0.07048173294536049 for gradient boost (test: 0.028630331142893956)\n",
      "\n"
     ]
    }
   ],
   "source": [
    "gc.collect()\n",
    "results = fit_classifier(classifiers, Xrfe, y, XValrfe, yval)"
   ]
  },
  {
   "cell_type": "code",
   "execution_count": 31,
   "metadata": {},
   "outputs": [],
   "source": [
    "with open( stats_added_base_path+'rfecv-a09cls.pkl', \"wb\" ) as users_pickle_file:\n",
    "    pickle.dump(results, users_pickle_file)"
   ]
  },
  {
   "cell_type": "code",
   "execution_count": null,
   "metadata": {},
   "outputs": [],
   "source": []
  }
 ],
 "metadata": {
  "kernelspec": {
   "display_name": "Python 3",
   "language": "python",
   "name": "python3"
  },
  "language_info": {
   "codemirror_mode": {
    "name": "ipython",
    "version": 3
   },
   "file_extension": ".py",
   "mimetype": "text/x-python",
   "name": "python",
   "nbconvert_exporter": "python",
   "pygments_lexer": "ipython3",
   "version": "3.7.2"
  }
 },
 "nbformat": 4,
 "nbformat_minor": 2
}
